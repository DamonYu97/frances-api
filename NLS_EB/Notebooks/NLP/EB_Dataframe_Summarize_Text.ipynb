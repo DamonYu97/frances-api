{
 "cells": [
  {
   "cell_type": "markdown",
   "metadata": {},
   "source": [
    "# Exploring Terms in the Encyclopaedia Britannica\n",
    "\n",
    "## Summarize text - Gensim - Doc2Vec\n",
    "\n",
    "In this notebook we are going to do summarize the text of terms definitions with the dataframe that we have obtained either with the posprocess_eb.py script or Merging_EB_Terms.ipynb notebooks. Both methods obtain the same dataframe. \n",
    "\n",
    "We have selected the first Edition for this explorations, but we can run this notebook with any of the other editions.\n",
    "\n",
    "**Remark**: Edition 1, has 3 volumes, and it was printed twice, in 1771 and 1773. \n",
    "\n",
    "These methods rely on extracting several parts, such as phrases and sentences, from a piece of text and stack them together to create a summary. Therefore, identifying the right sentences for summarization is of utmost importance in an extractive method.\n",
    "\n",
    "- **Extractive Summarization**: These methods rely on extracting several parts, such as phrases and sentences, from a piece of text and stack them together to create a summary. Therefore, identifying the right sentences for summarization is of utmost importance in an extractive method.\n",
    "\n",
    "- **Abstractive Summarization**: These methods use advanced NLP techniques to generate an entirely new summary. Some parts of this summary may not even appear in the original text.\n",
    " \n",
    "Here we are going to focus on **extractive summarization technique**, using two libraries:\n",
    "- Gensim\n",
    "- Spacy\n"
   ]
  },
  {
   "cell_type": "markdown",
   "metadata": {},
   "source": [
    "### Loading the necessary libraries"
   ]
  },
  {
   "cell_type": "code",
   "execution_count": 1,
   "metadata": {},
   "outputs": [],
   "source": [
    "import yaml\n",
    "import matplotlib.pyplot as plt\n",
    "import numpy as np\n",
    "import collections\n",
    "import matplotlib as mpl"
   ]
  },
  {
   "cell_type": "code",
   "execution_count": 2,
   "metadata": {},
   "outputs": [],
   "source": [
    "import networkx as nx\n",
    "import matplotlib.pyplot as plt"
   ]
  },
  {
   "cell_type": "code",
   "execution_count": 3,
   "metadata": {},
   "outputs": [],
   "source": [
    "import pandas as pd\n",
    "from yaml import safe_load\n",
    "from pandas.io.json import json_normalize"
   ]
  },
  {
   "cell_type": "code",
   "execution_count": 4,
   "metadata": {},
   "outputs": [],
   "source": [
    "import gensim\n",
    "from gensim.summarization.summarizer import summarize"
   ]
  },
  {
   "cell_type": "markdown",
   "metadata": {},
   "source": [
    "### Functions"
   ]
  },
  {
   "cell_type": "code",
   "execution_count": 5,
   "metadata": {},
   "outputs": [
    {
     "name": "stderr",
     "output_type": "stream",
     "text": [
      "/anaconda3/envs/mypython3/lib/python3.7/site-packages/tensorflow/python/framework/dtypes.py:516: FutureWarning: Passing (type, 1) or '1type' as a synonym of type is deprecated; in a future version of numpy, it will be understood as (type, (1,)) / '(1,)type'.\n",
      "  _np_qint8 = np.dtype([(\"qint8\", np.int8, 1)])\n",
      "/anaconda3/envs/mypython3/lib/python3.7/site-packages/tensorflow/python/framework/dtypes.py:517: FutureWarning: Passing (type, 1) or '1type' as a synonym of type is deprecated; in a future version of numpy, it will be understood as (type, (1,)) / '(1,)type'.\n",
      "  _np_quint8 = np.dtype([(\"quint8\", np.uint8, 1)])\n",
      "/anaconda3/envs/mypython3/lib/python3.7/site-packages/tensorflow/python/framework/dtypes.py:518: FutureWarning: Passing (type, 1) or '1type' as a synonym of type is deprecated; in a future version of numpy, it will be understood as (type, (1,)) / '(1,)type'.\n",
      "  _np_qint16 = np.dtype([(\"qint16\", np.int16, 1)])\n",
      "/anaconda3/envs/mypython3/lib/python3.7/site-packages/tensorflow/python/framework/dtypes.py:519: FutureWarning: Passing (type, 1) or '1type' as a synonym of type is deprecated; in a future version of numpy, it will be understood as (type, (1,)) / '(1,)type'.\n",
      "  _np_quint16 = np.dtype([(\"quint16\", np.uint16, 1)])\n",
      "/anaconda3/envs/mypython3/lib/python3.7/site-packages/tensorflow/python/framework/dtypes.py:520: FutureWarning: Passing (type, 1) or '1type' as a synonym of type is deprecated; in a future version of numpy, it will be understood as (type, (1,)) / '(1,)type'.\n",
      "  _np_qint32 = np.dtype([(\"qint32\", np.int32, 1)])\n",
      "/anaconda3/envs/mypython3/lib/python3.7/site-packages/tensorflow/python/framework/dtypes.py:525: FutureWarning: Passing (type, 1) or '1type' as a synonym of type is deprecated; in a future version of numpy, it will be understood as (type, (1,)) / '(1,)type'.\n",
      "  np_resource = np.dtype([(\"resource\", np.ubyte, 1)])\n",
      "/anaconda3/envs/mypython3/lib/python3.7/site-packages/tensorboard/compat/tensorflow_stub/dtypes.py:541: FutureWarning: Passing (type, 1) or '1type' as a synonym of type is deprecated; in a future version of numpy, it will be understood as (type, (1,)) / '(1,)type'.\n",
      "  _np_qint8 = np.dtype([(\"qint8\", np.int8, 1)])\n",
      "/anaconda3/envs/mypython3/lib/python3.7/site-packages/tensorboard/compat/tensorflow_stub/dtypes.py:542: FutureWarning: Passing (type, 1) or '1type' as a synonym of type is deprecated; in a future version of numpy, it will be understood as (type, (1,)) / '(1,)type'.\n",
      "  _np_quint8 = np.dtype([(\"quint8\", np.uint8, 1)])\n",
      "/anaconda3/envs/mypython3/lib/python3.7/site-packages/tensorboard/compat/tensorflow_stub/dtypes.py:543: FutureWarning: Passing (type, 1) or '1type' as a synonym of type is deprecated; in a future version of numpy, it will be understood as (type, (1,)) / '(1,)type'.\n",
      "  _np_qint16 = np.dtype([(\"qint16\", np.int16, 1)])\n",
      "/anaconda3/envs/mypython3/lib/python3.7/site-packages/tensorboard/compat/tensorflow_stub/dtypes.py:544: FutureWarning: Passing (type, 1) or '1type' as a synonym of type is deprecated; in a future version of numpy, it will be understood as (type, (1,)) / '(1,)type'.\n",
      "  _np_quint16 = np.dtype([(\"quint16\", np.uint16, 1)])\n",
      "/anaconda3/envs/mypython3/lib/python3.7/site-packages/tensorboard/compat/tensorflow_stub/dtypes.py:545: FutureWarning: Passing (type, 1) or '1type' as a synonym of type is deprecated; in a future version of numpy, it will be understood as (type, (1,)) / '(1,)type'.\n",
      "  _np_qint32 = np.dtype([(\"qint32\", np.int32, 1)])\n",
      "/anaconda3/envs/mypython3/lib/python3.7/site-packages/tensorboard/compat/tensorflow_stub/dtypes.py:550: FutureWarning: Passing (type, 1) or '1type' as a synonym of type is deprecated; in a future version of numpy, it will be understood as (type, (1,)) / '(1,)type'.\n",
      "  np_resource = np.dtype([(\"resource\", np.ubyte, 1)])\n"
     ]
    }
   ],
   "source": [
    "import spacy\n",
    "from spacy.lang.en.stop_words import STOP_WORDS\n",
    "from string import punctuation\n",
    "from collections import Counter\n",
    "from heapq import nlargest"
   ]
  },
  {
   "cell_type": "code",
   "execution_count": 6,
   "metadata": {},
   "outputs": [],
   "source": [
    "def create_document(text):\n",
    "    nlp = spacy.load(\"en_core_web_sm\")\n",
    "    doc = nlp(text)\n",
    "    return doc"
   ]
  },
  {
   "cell_type": "markdown",
   "metadata": {},
   "source": [
    "## We have dataframe with these columns\n",
    "\n",
    "- definition:           Definition of a term\n",
    "- editionNum:           1,2,3,4,5,6,7,8\n",
    "- editionTitle:         Title of the edition\n",
    "- header:               Header of the page's term                                  \n",
    "- place:                Place where the volume was edited (e.g. Edinburgh)                                    \n",
    "- relatedTerms:         Related terms (see X article)  \n",
    "- altoXML:              File Path of the XML file from which the term belongs       \n",
    "- term:                 Term name                            \n",
    "- positionPage:         Position of ther term in the page     \n",
    "- startsAt:             Number page in which the term definition starts \n",
    "- endsAt:               Number page in which the term definition ends \n",
    "- volumeTitle:          Title of the Volume\n",
    "- typeTerm:             Type of term [Topic| Articles]                                       \n",
    "- year:                 Year of the edition\n",
    "- volumeNum:            Volume number (e.g. 1)\n",
    "- letters:              leters of the volume (A-B)\n",
    "- part:                 Part of the volume (e.g 1)\n",
    "- supplement:           Supplement's Title\n",
    "- supplementsTo:        It suppelements to editions [1, 2, 3....]\n",
    "- numberOfWords:        Number of words per term definition\n",
    "- numberOfTerms:        Number of terms per page\n",
    "- numberOfPages:        Number of pages per volume"
   ]
  },
  {
   "cell_type": "markdown",
   "metadata": {},
   "source": [
    "### 1. Load dataframe from JSON file"
   ]
  },
  {
   "cell_type": "code",
   "execution_count": 7,
   "metadata": {},
   "outputs": [],
   "source": [
    "df = pd.read_json('../../results_NLS/results_eb_1_edition_dataframe', orient=\"index\") "
   ]
  },
  {
   "cell_type": "markdown",
   "metadata": {},
   "source": [
    "Now we are going to oder the columns of our dataframe and visualise it. "
   ]
  },
  {
   "cell_type": "code",
   "execution_count": 8,
   "metadata": {},
   "outputs": [
    {
     "data": {
      "text/html": [
       "<div>\n",
       "<style scoped>\n",
       "    .dataframe tbody tr th:only-of-type {\n",
       "        vertical-align: middle;\n",
       "    }\n",
       "\n",
       "    .dataframe tbody tr th {\n",
       "        vertical-align: top;\n",
       "    }\n",
       "\n",
       "    .dataframe thead th {\n",
       "        text-align: right;\n",
       "    }\n",
       "</style>\n",
       "<table border=\"1\" class=\"dataframe\">\n",
       "  <thead>\n",
       "    <tr style=\"text-align: right;\">\n",
       "      <th></th>\n",
       "      <th>term</th>\n",
       "      <th>definition</th>\n",
       "      <th>relatedTerms</th>\n",
       "      <th>header</th>\n",
       "      <th>startsAt</th>\n",
       "      <th>endsAt</th>\n",
       "      <th>numberOfTerms</th>\n",
       "      <th>numberOfWords</th>\n",
       "      <th>numberOfPages</th>\n",
       "      <th>positionPage</th>\n",
       "      <th>...</th>\n",
       "      <th>editionNum</th>\n",
       "      <th>supplementTitle</th>\n",
       "      <th>supplementsTo</th>\n",
       "      <th>year</th>\n",
       "      <th>place</th>\n",
       "      <th>volumeTitle</th>\n",
       "      <th>volumeNum</th>\n",
       "      <th>letters</th>\n",
       "      <th>part</th>\n",
       "      <th>altoXML</th>\n",
       "    </tr>\n",
       "  </thead>\n",
       "  <tbody>\n",
       "    <tr>\n",
       "      <th>0</th>\n",
       "      <td>OR</td>\n",
       "      <td>A NEW A D I C T I A A, the name of several riv...</td>\n",
       "      <td>[]</td>\n",
       "      <td>EncyclopaediaBritannica</td>\n",
       "      <td>15</td>\n",
       "      <td>15</td>\n",
       "      <td>22</td>\n",
       "      <td>54</td>\n",
       "      <td>832</td>\n",
       "      <td>0</td>\n",
       "      <td>...</td>\n",
       "      <td>1</td>\n",
       "      <td></td>\n",
       "      <td>[]</td>\n",
       "      <td>1771</td>\n",
       "      <td>Edinburgh</td>\n",
       "      <td>Encyclopaedia Britannica; or, A dictionary of ...</td>\n",
       "      <td>1</td>\n",
       "      <td>A-B</td>\n",
       "      <td>0</td>\n",
       "      <td>144133901/alto/188082904.34.xml</td>\n",
       "    </tr>\n",
       "    <tr>\n",
       "      <th>1</th>\n",
       "      <td>AABAM</td>\n",
       "      <td>a term, among alchemifts, for lead,</td>\n",
       "      <td>[]</td>\n",
       "      <td>EncyclopaediaBritannica</td>\n",
       "      <td>15</td>\n",
       "      <td>15</td>\n",
       "      <td>22</td>\n",
       "      <td>6</td>\n",
       "      <td>832</td>\n",
       "      <td>1</td>\n",
       "      <td>...</td>\n",
       "      <td>1</td>\n",
       "      <td></td>\n",
       "      <td>[]</td>\n",
       "      <td>1771</td>\n",
       "      <td>Edinburgh</td>\n",
       "      <td>Encyclopaedia Britannica; or, A dictionary of ...</td>\n",
       "      <td>1</td>\n",
       "      <td>A-B</td>\n",
       "      <td>0</td>\n",
       "      <td>144133901/alto/188082904.34.xml</td>\n",
       "    </tr>\n",
       "    <tr>\n",
       "      <th>2</th>\n",
       "      <td>AACH</td>\n",
       "      <td>the name of a town and river in Swabia. It is ...</td>\n",
       "      <td>[]</td>\n",
       "      <td>EncyclopaediaBritannica</td>\n",
       "      <td>15</td>\n",
       "      <td>15</td>\n",
       "      <td>22</td>\n",
       "      <td>17</td>\n",
       "      <td>832</td>\n",
       "      <td>2</td>\n",
       "      <td>...</td>\n",
       "      <td>1</td>\n",
       "      <td></td>\n",
       "      <td>[]</td>\n",
       "      <td>1771</td>\n",
       "      <td>Edinburgh</td>\n",
       "      <td>Encyclopaedia Britannica; or, A dictionary of ...</td>\n",
       "      <td>1</td>\n",
       "      <td>A-B</td>\n",
       "      <td>0</td>\n",
       "      <td>144133901/alto/188082904.34.xml</td>\n",
       "    </tr>\n",
       "    <tr>\n",
       "      <th>3</th>\n",
       "      <td>AADE</td>\n",
       "      <td>the name of two rivers, one in the country of ...</td>\n",
       "      <td>[]</td>\n",
       "      <td>EncyclopaediaBritannica</td>\n",
       "      <td>15</td>\n",
       "      <td>15</td>\n",
       "      <td>22</td>\n",
       "      <td>19</td>\n",
       "      <td>832</td>\n",
       "      <td>3</td>\n",
       "      <td>...</td>\n",
       "      <td>1</td>\n",
       "      <td></td>\n",
       "      <td>[]</td>\n",
       "      <td>1771</td>\n",
       "      <td>Edinburgh</td>\n",
       "      <td>Encyclopaedia Britannica; or, A dictionary of ...</td>\n",
       "      <td>1</td>\n",
       "      <td>A-B</td>\n",
       "      <td>0</td>\n",
       "      <td>144133901/alto/188082904.34.xml</td>\n",
       "    </tr>\n",
       "    <tr>\n",
       "      <th>4</th>\n",
       "      <td>AAHUS</td>\n",
       "      <td>a small town and diftrift in Weftphalia.</td>\n",
       "      <td>[]</td>\n",
       "      <td>EncyclopaediaBritannica</td>\n",
       "      <td>15</td>\n",
       "      <td>15</td>\n",
       "      <td>22</td>\n",
       "      <td>7</td>\n",
       "      <td>832</td>\n",
       "      <td>4</td>\n",
       "      <td>...</td>\n",
       "      <td>1</td>\n",
       "      <td></td>\n",
       "      <td>[]</td>\n",
       "      <td>1771</td>\n",
       "      <td>Edinburgh</td>\n",
       "      <td>Encyclopaedia Britannica; or, A dictionary of ...</td>\n",
       "      <td>1</td>\n",
       "      <td>A-B</td>\n",
       "      <td>0</td>\n",
       "      <td>144133901/alto/188082904.34.xml</td>\n",
       "    </tr>\n",
       "    <tr>\n",
       "      <th>...</th>\n",
       "      <td>...</td>\n",
       "      <td>...</td>\n",
       "      <td>...</td>\n",
       "      <td>...</td>\n",
       "      <td>...</td>\n",
       "      <td>...</td>\n",
       "      <td>...</td>\n",
       "      <td>...</td>\n",
       "      <td>...</td>\n",
       "      <td>...</td>\n",
       "      <td>...</td>\n",
       "      <td>...</td>\n",
       "      <td>...</td>\n",
       "      <td>...</td>\n",
       "      <td>...</td>\n",
       "      <td>...</td>\n",
       "      <td>...</td>\n",
       "      <td>...</td>\n",
       "      <td>...</td>\n",
       "      <td>...</td>\n",
       "      <td>...</td>\n",
       "    </tr>\n",
       "    <tr>\n",
       "      <th>27422</th>\n",
       "      <td>ZUYDERSEE</td>\n",
       "      <td>a great bay of the German ocean, which lies in...</td>\n",
       "      <td>[]</td>\n",
       "      <td>ZoDZYG</td>\n",
       "      <td>857</td>\n",
       "      <td>857</td>\n",
       "      <td>27</td>\n",
       "      <td>66</td>\n",
       "      <td>864</td>\n",
       "      <td>22</td>\n",
       "      <td>...</td>\n",
       "      <td>1</td>\n",
       "      <td></td>\n",
       "      <td>[]</td>\n",
       "      <td>1773</td>\n",
       "      <td>London</td>\n",
       "      <td>Encyclopaedia Britannica: or, A dictionary of ...</td>\n",
       "      <td>3</td>\n",
       "      <td>M-Z</td>\n",
       "      <td>0</td>\n",
       "      <td>144850368/alto/188375020.34.xml</td>\n",
       "    </tr>\n",
       "    <tr>\n",
       "      <th>27423</th>\n",
       "      <td>ZWEIBRUGGEN</td>\n",
       "      <td>a county of the palatinate of the Rhine, in Ge...</td>\n",
       "      <td>[SQALVS]</td>\n",
       "      <td>ZoDZYG</td>\n",
       "      <td>857</td>\n",
       "      <td>857</td>\n",
       "      <td>27</td>\n",
       "      <td>23</td>\n",
       "      <td>864</td>\n",
       "      <td>23</td>\n",
       "      <td>...</td>\n",
       "      <td>1</td>\n",
       "      <td></td>\n",
       "      <td>[]</td>\n",
       "      <td>1773</td>\n",
       "      <td>London</td>\n",
       "      <td>Encyclopaedia Britannica: or, A dictionary of ...</td>\n",
       "      <td>3</td>\n",
       "      <td>M-Z</td>\n",
       "      <td>0</td>\n",
       "      <td>144850368/alto/188375020.34.xml</td>\n",
       "    </tr>\n",
       "    <tr>\n",
       "      <th>27424</th>\n",
       "      <td>ZYGOMA</td>\n",
       "      <td>in anatomy. See Anatomy p. 152.</td>\n",
       "      <td>[]</td>\n",
       "      <td>ZoDZYG</td>\n",
       "      <td>857</td>\n",
       "      <td>857</td>\n",
       "      <td>27</td>\n",
       "      <td>6</td>\n",
       "      <td>864</td>\n",
       "      <td>24</td>\n",
       "      <td>...</td>\n",
       "      <td>1</td>\n",
       "      <td></td>\n",
       "      <td>[]</td>\n",
       "      <td>1773</td>\n",
       "      <td>London</td>\n",
       "      <td>Encyclopaedia Britannica: or, A dictionary of ...</td>\n",
       "      <td>3</td>\n",
       "      <td>M-Z</td>\n",
       "      <td>0</td>\n",
       "      <td>144850368/alto/188375020.34.xml</td>\n",
       "    </tr>\n",
       "    <tr>\n",
       "      <th>27425</th>\n",
       "      <td>ZYGOMATICUS</td>\n",
       "      <td>in anatomy,. See Anatomy, p. 306,</td>\n",
       "      <td>[ANATOMY]</td>\n",
       "      <td>ZoDZYG</td>\n",
       "      <td>857</td>\n",
       "      <td>857</td>\n",
       "      <td>27</td>\n",
       "      <td>6</td>\n",
       "      <td>864</td>\n",
       "      <td>25</td>\n",
       "      <td>...</td>\n",
       "      <td>1</td>\n",
       "      <td></td>\n",
       "      <td>[]</td>\n",
       "      <td>1773</td>\n",
       "      <td>London</td>\n",
       "      <td>Encyclopaedia Britannica: or, A dictionary of ...</td>\n",
       "      <td>3</td>\n",
       "      <td>M-Z</td>\n",
       "      <td>0</td>\n",
       "      <td>144850368/alto/188375020.34.xml</td>\n",
       "    </tr>\n",
       "    <tr>\n",
       "      <th>27426</th>\n",
       "      <td>ZYGOPHYLLUM</td>\n",
       "      <td>in botany, a gr.nus of the decanoria monogyma ...</td>\n",
       "      <td>[]</td>\n",
       "      <td>ZoDZYG</td>\n",
       "      <td>857</td>\n",
       "      <td>857</td>\n",
       "      <td>27</td>\n",
       "      <td>48</td>\n",
       "      <td>864</td>\n",
       "      <td>26</td>\n",
       "      <td>...</td>\n",
       "      <td>1</td>\n",
       "      <td></td>\n",
       "      <td>[]</td>\n",
       "      <td>1773</td>\n",
       "      <td>London</td>\n",
       "      <td>Encyclopaedia Britannica: or, A dictionary of ...</td>\n",
       "      <td>3</td>\n",
       "      <td>M-Z</td>\n",
       "      <td>0</td>\n",
       "      <td>144850368/alto/188375020.34.xml</td>\n",
       "    </tr>\n",
       "  </tbody>\n",
       "</table>\n",
       "<p>27427 rows × 22 columns</p>\n",
       "</div>"
      ],
      "text/plain": [
       "              term                                         definition  \\\n",
       "0               OR  A NEW A D I C T I A A, the name of several riv...   \n",
       "1            AABAM                a term, among alchemifts, for lead,   \n",
       "2             AACH  the name of a town and river in Swabia. It is ...   \n",
       "3             AADE  the name of two rivers, one in the country of ...   \n",
       "4            AAHUS           a small town and diftrift in Weftphalia.   \n",
       "...            ...                                                ...   \n",
       "27422    ZUYDERSEE  a great bay of the German ocean, which lies in...   \n",
       "27423  ZWEIBRUGGEN  a county of the palatinate of the Rhine, in Ge...   \n",
       "27424       ZYGOMA                    in anatomy. See Anatomy p. 152.   \n",
       "27425  ZYGOMATICUS                  in anatomy,. See Anatomy, p. 306,   \n",
       "27426  ZYGOPHYLLUM  in botany, a gr.nus of the decanoria monogyma ...   \n",
       "\n",
       "      relatedTerms                   header  startsAt  endsAt  numberOfTerms  \\\n",
       "0               []  EncyclopaediaBritannica        15      15             22   \n",
       "1               []  EncyclopaediaBritannica        15      15             22   \n",
       "2               []  EncyclopaediaBritannica        15      15             22   \n",
       "3               []  EncyclopaediaBritannica        15      15             22   \n",
       "4               []  EncyclopaediaBritannica        15      15             22   \n",
       "...            ...                      ...       ...     ...            ...   \n",
       "27422           []                   ZoDZYG       857     857             27   \n",
       "27423     [SQALVS]                   ZoDZYG       857     857             27   \n",
       "27424           []                   ZoDZYG       857     857             27   \n",
       "27425    [ANATOMY]                   ZoDZYG       857     857             27   \n",
       "27426           []                   ZoDZYG       857     857             27   \n",
       "\n",
       "       numberOfWords  numberOfPages  positionPage  ... editionNum  \\\n",
       "0                 54            832             0  ...          1   \n",
       "1                  6            832             1  ...          1   \n",
       "2                 17            832             2  ...          1   \n",
       "3                 19            832             3  ...          1   \n",
       "4                  7            832             4  ...          1   \n",
       "...              ...            ...           ...  ...        ...   \n",
       "27422             66            864            22  ...          1   \n",
       "27423             23            864            23  ...          1   \n",
       "27424              6            864            24  ...          1   \n",
       "27425              6            864            25  ...          1   \n",
       "27426             48            864            26  ...          1   \n",
       "\n",
       "      supplementTitle  supplementsTo  year      place  \\\n",
       "0                                 []  1771  Edinburgh   \n",
       "1                                 []  1771  Edinburgh   \n",
       "2                                 []  1771  Edinburgh   \n",
       "3                                 []  1771  Edinburgh   \n",
       "4                                 []  1771  Edinburgh   \n",
       "...               ...            ...   ...        ...   \n",
       "27422                             []  1773     London   \n",
       "27423                             []  1773     London   \n",
       "27424                             []  1773     London   \n",
       "27425                             []  1773     London   \n",
       "27426                             []  1773     London   \n",
       "\n",
       "                                             volumeTitle volumeNum letters  \\\n",
       "0      Encyclopaedia Britannica; or, A dictionary of ...         1     A-B   \n",
       "1      Encyclopaedia Britannica; or, A dictionary of ...         1     A-B   \n",
       "2      Encyclopaedia Britannica; or, A dictionary of ...         1     A-B   \n",
       "3      Encyclopaedia Britannica; or, A dictionary of ...         1     A-B   \n",
       "4      Encyclopaedia Britannica; or, A dictionary of ...         1     A-B   \n",
       "...                                                  ...       ...     ...   \n",
       "27422  Encyclopaedia Britannica: or, A dictionary of ...         3     M-Z   \n",
       "27423  Encyclopaedia Britannica: or, A dictionary of ...         3     M-Z   \n",
       "27424  Encyclopaedia Britannica: or, A dictionary of ...         3     M-Z   \n",
       "27425  Encyclopaedia Britannica: or, A dictionary of ...         3     M-Z   \n",
       "27426  Encyclopaedia Britannica: or, A dictionary of ...         3     M-Z   \n",
       "\n",
       "       part                          altoXML  \n",
       "0         0  144133901/alto/188082904.34.xml  \n",
       "1         0  144133901/alto/188082904.34.xml  \n",
       "2         0  144133901/alto/188082904.34.xml  \n",
       "3         0  144133901/alto/188082904.34.xml  \n",
       "4         0  144133901/alto/188082904.34.xml  \n",
       "...     ...                              ...  \n",
       "27422     0  144850368/alto/188375020.34.xml  \n",
       "27423     0  144850368/alto/188375020.34.xml  \n",
       "27424     0  144850368/alto/188375020.34.xml  \n",
       "27425     0  144850368/alto/188375020.34.xml  \n",
       "27426     0  144850368/alto/188375020.34.xml  \n",
       "\n",
       "[27427 rows x 22 columns]"
      ]
     },
     "execution_count": 8,
     "metadata": {},
     "output_type": "execute_result"
    }
   ],
   "source": [
    "df = df[[\"term\", \"definition\", \"relatedTerms\", \"header\", \"startsAt\", \"endsAt\", \"numberOfTerms\",\"numberOfWords\", \"numberOfPages\", \\\n",
    "             \"positionPage\", \"typeTerm\", \"editionTitle\", \"editionNum\", \"supplementTitle\", \"supplementsTo\",\\\n",
    "             \"year\", \"place\", \"volumeTitle\", \"volumeNum\", \"letters\", \"part\", \"altoXML\"]].reset_index(drop=True)\n",
    "\n",
    "df\n"
   ]
  },
  {
   "cell_type": "markdown",
   "metadata": {},
   "source": [
    "### 2.  Selecting just the 100 first elements of  the first volume of 1771"
   ]
  },
  {
   "cell_type": "code",
   "execution_count": 9,
   "metadata": {},
   "outputs": [],
   "source": [
    "df_1771_small = df[(df['year'] == 1771) & (df['volumeNum'] == 1) & (df['typeTerm']==\"Topic\") ]\n",
    "df_1771_small = df_1771_small.head(100).reset_index(drop=True)\n"
   ]
  },
  {
   "cell_type": "code",
   "execution_count": 10,
   "metadata": {},
   "outputs": [
    {
     "data": {
      "text/html": [
       "<div>\n",
       "<style scoped>\n",
       "    .dataframe tbody tr th:only-of-type {\n",
       "        vertical-align: middle;\n",
       "    }\n",
       "\n",
       "    .dataframe tbody tr th {\n",
       "        vertical-align: top;\n",
       "    }\n",
       "\n",
       "    .dataframe thead th {\n",
       "        text-align: right;\n",
       "    }\n",
       "</style>\n",
       "<table border=\"1\" class=\"dataframe\">\n",
       "  <thead>\n",
       "    <tr style=\"text-align: right;\">\n",
       "      <th></th>\n",
       "      <th>term</th>\n",
       "      <th>definition</th>\n",
       "      <th>relatedTerms</th>\n",
       "      <th>header</th>\n",
       "      <th>startsAt</th>\n",
       "      <th>endsAt</th>\n",
       "      <th>numberOfTerms</th>\n",
       "      <th>numberOfWords</th>\n",
       "      <th>numberOfPages</th>\n",
       "      <th>positionPage</th>\n",
       "      <th>...</th>\n",
       "      <th>editionNum</th>\n",
       "      <th>supplementTitle</th>\n",
       "      <th>supplementsTo</th>\n",
       "      <th>year</th>\n",
       "      <th>place</th>\n",
       "      <th>volumeTitle</th>\n",
       "      <th>volumeNum</th>\n",
       "      <th>letters</th>\n",
       "      <th>part</th>\n",
       "      <th>altoXML</th>\n",
       "    </tr>\n",
       "  </thead>\n",
       "  <tbody>\n",
       "    <tr>\n",
       "      <th>0</th>\n",
       "      <td>ABRABR</td>\n",
       "      <td>(6 ABRASA, in surgery, ulcers, where the Ikin ...</td>\n",
       "      <td>[RENUNCIATION, ABRIDGEMENT, BUT, BUT, BUT, MIR...</td>\n",
       "      <td>ABRABR</td>\n",
       "      <td>20</td>\n",
       "      <td>21</td>\n",
       "      <td>1</td>\n",
       "      <td>1451</td>\n",
       "      <td>832</td>\n",
       "      <td>0</td>\n",
       "      <td>...</td>\n",
       "      <td>1</td>\n",
       "      <td></td>\n",
       "      <td>[]</td>\n",
       "      <td>1771</td>\n",
       "      <td>Edinburgh</td>\n",
       "      <td>Encyclopaedia Britannica; or, A dictionary of ...</td>\n",
       "      <td>1</td>\n",
       "      <td>A-B</td>\n",
       "      <td>0</td>\n",
       "      <td>144133901/alto/188082969.34.xml</td>\n",
       "    </tr>\n",
       "    <tr>\n",
       "      <th>1</th>\n",
       "      <td>AGRICULTURE</td>\n",
       "      <td>The outer coat is extremely thin, and full of ...</td>\n",
       "      <td>[AQUIFOLIUM, AGRIMONIA, AGRIMONY, BRITAIN, AGR...</td>\n",
       "      <td>AGRICULTURE</td>\n",
       "      <td>61</td>\n",
       "      <td>100</td>\n",
       "      <td>1</td>\n",
       "      <td>31721</td>\n",
       "      <td>832</td>\n",
       "      <td>0</td>\n",
       "      <td>...</td>\n",
       "      <td>1</td>\n",
       "      <td></td>\n",
       "      <td>[]</td>\n",
       "      <td>1771</td>\n",
       "      <td>Edinburgh</td>\n",
       "      <td>Encyclopaedia Britannica; or, A dictionary of ...</td>\n",
       "      <td>1</td>\n",
       "      <td>A-B</td>\n",
       "      <td>0</td>\n",
       "      <td>144133901/alto/188083505.34.xml</td>\n",
       "    </tr>\n",
       "    <tr>\n",
       "      <th>2</th>\n",
       "      <td>BALGEBRA</td>\n",
       "      <td>been imagined for representing their affefitio...</td>\n",
       "      <td>[]</td>\n",
       "      <td>BoALGEBRA</td>\n",
       "      <td>112</td>\n",
       "      <td>113</td>\n",
       "      <td>1</td>\n",
       "      <td>1315</td>\n",
       "      <td>832</td>\n",
       "      <td>0</td>\n",
       "      <td>...</td>\n",
       "      <td>1</td>\n",
       "      <td></td>\n",
       "      <td>[]</td>\n",
       "      <td>1771</td>\n",
       "      <td>Edinburgh</td>\n",
       "      <td>Encyclopaedia Britannica; or, A dictionary of ...</td>\n",
       "      <td>1</td>\n",
       "      <td>A-B</td>\n",
       "      <td>0</td>\n",
       "      <td>144133901/alto/188084168.34.xml</td>\n",
       "    </tr>\n",
       "    <tr>\n",
       "      <th>3</th>\n",
       "      <td>ALGEBRA</td>\n",
       "      <td>82 A L G E R A. root, to the right hand, a fig...</td>\n",
       "      <td>[]</td>\n",
       "      <td>BALGERA</td>\n",
       "      <td>114</td>\n",
       "      <td>149</td>\n",
       "      <td>1</td>\n",
       "      <td>4643</td>\n",
       "      <td>832</td>\n",
       "      <td>0</td>\n",
       "      <td>...</td>\n",
       "      <td>1</td>\n",
       "      <td></td>\n",
       "      <td>[]</td>\n",
       "      <td>1771</td>\n",
       "      <td>Edinburgh</td>\n",
       "      <td>Encyclopaedia Britannica; or, A dictionary of ...</td>\n",
       "      <td>1</td>\n",
       "      <td>A-B</td>\n",
       "      <td>0</td>\n",
       "      <td>144133901/alto/188084194.34.xml</td>\n",
       "    </tr>\n",
       "    <tr>\n",
       "      <th>4</th>\n",
       "      <td>ALGEBRA</td>\n",
       "      <td>ALGEBRA.ence (viz. unit), and that in the last...</td>\n",
       "      <td>[]</td>\n",
       "      <td>ALGEBRA</td>\n",
       "      <td>118</td>\n",
       "      <td>129</td>\n",
       "      <td>1</td>\n",
       "      <td>11084</td>\n",
       "      <td>832</td>\n",
       "      <td>0</td>\n",
       "      <td>...</td>\n",
       "      <td>1</td>\n",
       "      <td></td>\n",
       "      <td>[]</td>\n",
       "      <td>1771</td>\n",
       "      <td>Edinburgh</td>\n",
       "      <td>Encyclopaedia Britannica; or, A dictionary of ...</td>\n",
       "      <td>1</td>\n",
       "      <td>A-B</td>\n",
       "      <td>0</td>\n",
       "      <td>144133901/alto/188084246.34.xml</td>\n",
       "    </tr>\n",
       "    <tr>\n",
       "      <th>...</th>\n",
       "      <td>...</td>\n",
       "      <td>...</td>\n",
       "      <td>...</td>\n",
       "      <td>...</td>\n",
       "      <td>...</td>\n",
       "      <td>...</td>\n",
       "      <td>...</td>\n",
       "      <td>...</td>\n",
       "      <td>...</td>\n",
       "      <td>...</td>\n",
       "      <td>...</td>\n",
       "      <td>...</td>\n",
       "      <td>...</td>\n",
       "      <td>...</td>\n",
       "      <td>...</td>\n",
       "      <td>...</td>\n",
       "      <td>...</td>\n",
       "      <td>...</td>\n",
       "      <td>...</td>\n",
       "      <td>...</td>\n",
       "      <td>...</td>\n",
       "    </tr>\n",
       "    <tr>\n",
       "      <th>58</th>\n",
       "      <td>BOTANY</td>\n",
       "      <td>mud first eat, before any certain conclusion c...</td>\n",
       "      <td>[LIU, MONOCLINIA, DIFFINITAS, INDIFFERENTIJFMU...</td>\n",
       "      <td>BOTANY</td>\n",
       "      <td>748</td>\n",
       "      <td>777</td>\n",
       "      <td>1</td>\n",
       "      <td>25193</td>\n",
       "      <td>832</td>\n",
       "      <td>0</td>\n",
       "      <td>...</td>\n",
       "      <td>1</td>\n",
       "      <td></td>\n",
       "      <td>[]</td>\n",
       "      <td>1771</td>\n",
       "      <td>Edinburgh</td>\n",
       "      <td>Encyclopaedia Britannica; or, A dictionary of ...</td>\n",
       "      <td>1</td>\n",
       "      <td>A-B</td>\n",
       "      <td>0</td>\n",
       "      <td>144133901/alto/188092436.34.xml</td>\n",
       "    </tr>\n",
       "    <tr>\n",
       "      <th>59</th>\n",
       "      <td>AT</td>\n",
       "      <td>'Jf&gt;'6 V m s m</td>\n",
       "      <td>[]</td>\n",
       "      <td>teAT</td>\n",
       "      <td>772</td>\n",
       "      <td>772</td>\n",
       "      <td>1</td>\n",
       "      <td>5</td>\n",
       "      <td>832</td>\n",
       "      <td>0</td>\n",
       "      <td>...</td>\n",
       "      <td>1</td>\n",
       "      <td></td>\n",
       "      <td>[]</td>\n",
       "      <td>1771</td>\n",
       "      <td>Edinburgh</td>\n",
       "      <td>Encyclopaedia Britannica; or, A dictionary of ...</td>\n",
       "      <td>1</td>\n",
       "      <td>A-B</td>\n",
       "      <td>0</td>\n",
       "      <td>144133901/alto/188092748.34.xml</td>\n",
       "    </tr>\n",
       "    <tr>\n",
       "      <th>60</th>\n",
       "      <td>BREWING</td>\n",
       "      <td>hollow bags. Whett feeds are thus sufficiently...</td>\n",
       "      <td>[]</td>\n",
       "      <td>BREWING</td>\n",
       "      <td>798</td>\n",
       "      <td>805</td>\n",
       "      <td>1</td>\n",
       "      <td>9474</td>\n",
       "      <td>832</td>\n",
       "      <td>0</td>\n",
       "      <td>...</td>\n",
       "      <td>1</td>\n",
       "      <td></td>\n",
       "      <td>[]</td>\n",
       "      <td>1771</td>\n",
       "      <td>Edinburgh</td>\n",
       "      <td>Encyclopaedia Britannica; or, A dictionary of ...</td>\n",
       "      <td>1</td>\n",
       "      <td>A-B</td>\n",
       "      <td>0</td>\n",
       "      <td>144133901/alto/188093086.34.xml</td>\n",
       "    </tr>\n",
       "    <tr>\n",
       "      <th>61</th>\n",
       "      <td>TING</td>\n",
       "      <td>T7 I N G. B R E Pale Balls, Are made tn the sa...</td>\n",
       "      <td>[]</td>\n",
       "      <td>TING</td>\n",
       "      <td>806</td>\n",
       "      <td>806</td>\n",
       "      <td>1</td>\n",
       "      <td>1180</td>\n",
       "      <td>832</td>\n",
       "      <td>0</td>\n",
       "      <td>...</td>\n",
       "      <td>1</td>\n",
       "      <td></td>\n",
       "      <td>[]</td>\n",
       "      <td>1771</td>\n",
       "      <td>Edinburgh</td>\n",
       "      <td>Encyclopaedia Britannica; or, A dictionary of ...</td>\n",
       "      <td>1</td>\n",
       "      <td>A-B</td>\n",
       "      <td>0</td>\n",
       "      <td>144133901/alto/188093190.34.xml</td>\n",
       "    </tr>\n",
       "    <tr>\n",
       "      <th>62</th>\n",
       "      <td>BREWING</td>\n",
       "      <td>Ji-ole for a night together, that the (leant o...</td>\n",
       "      <td>[CAPPARIS, ANCON, I&gt;AUPHINY, FRANCE, BRIAR]</td>\n",
       "      <td>BREWING</td>\n",
       "      <td>807</td>\n",
       "      <td>808</td>\n",
       "      <td>1</td>\n",
       "      <td>1677</td>\n",
       "      <td>832</td>\n",
       "      <td>0</td>\n",
       "      <td>...</td>\n",
       "      <td>1</td>\n",
       "      <td></td>\n",
       "      <td>[]</td>\n",
       "      <td>1771</td>\n",
       "      <td>Edinburgh</td>\n",
       "      <td>Encyclopaedia Britannica; or, A dictionary of ...</td>\n",
       "      <td>1</td>\n",
       "      <td>A-B</td>\n",
       "      <td>0</td>\n",
       "      <td>144133901/alto/188093203.34.xml</td>\n",
       "    </tr>\n",
       "  </tbody>\n",
       "</table>\n",
       "<p>63 rows × 22 columns</p>\n",
       "</div>"
      ],
      "text/plain": [
       "           term                                         definition  \\\n",
       "0        ABRABR  (6 ABRASA, in surgery, ulcers, where the Ikin ...   \n",
       "1   AGRICULTURE  The outer coat is extremely thin, and full of ...   \n",
       "2      BALGEBRA  been imagined for representing their affefitio...   \n",
       "3       ALGEBRA  82 A L G E R A. root, to the right hand, a fig...   \n",
       "4       ALGEBRA  ALGEBRA.ence (viz. unit), and that in the last...   \n",
       "..          ...                                                ...   \n",
       "58       BOTANY  mud first eat, before any certain conclusion c...   \n",
       "59           AT                                     'Jf>'6 V m s m   \n",
       "60      BREWING  hollow bags. Whett feeds are thus sufficiently...   \n",
       "61         TING  T7 I N G. B R E Pale Balls, Are made tn the sa...   \n",
       "62      BREWING  Ji-ole for a night together, that the (leant o...   \n",
       "\n",
       "                                         relatedTerms       header  startsAt  \\\n",
       "0   [RENUNCIATION, ABRIDGEMENT, BUT, BUT, BUT, MIR...       ABRABR        20   \n",
       "1   [AQUIFOLIUM, AGRIMONIA, AGRIMONY, BRITAIN, AGR...  AGRICULTURE        61   \n",
       "2                                                  []    BoALGEBRA       112   \n",
       "3                                                  []      BALGERA       114   \n",
       "4                                                  []      ALGEBRA       118   \n",
       "..                                                ...          ...       ...   \n",
       "58  [LIU, MONOCLINIA, DIFFINITAS, INDIFFERENTIJFMU...       BOTANY       748   \n",
       "59                                                 []         teAT       772   \n",
       "60                                                 []      BREWING       798   \n",
       "61                                                 []         TING       806   \n",
       "62        [CAPPARIS, ANCON, I>AUPHINY, FRANCE, BRIAR]      BREWING       807   \n",
       "\n",
       "    endsAt  numberOfTerms  numberOfWords  numberOfPages  positionPage  ...  \\\n",
       "0       21              1           1451            832             0  ...   \n",
       "1      100              1          31721            832             0  ...   \n",
       "2      113              1           1315            832             0  ...   \n",
       "3      149              1           4643            832             0  ...   \n",
       "4      129              1          11084            832             0  ...   \n",
       "..     ...            ...            ...            ...           ...  ...   \n",
       "58     777              1          25193            832             0  ...   \n",
       "59     772              1              5            832             0  ...   \n",
       "60     805              1           9474            832             0  ...   \n",
       "61     806              1           1180            832             0  ...   \n",
       "62     808              1           1677            832             0  ...   \n",
       "\n",
       "   editionNum supplementTitle  supplementsTo  year      place  \\\n",
       "0           1                             []  1771  Edinburgh   \n",
       "1           1                             []  1771  Edinburgh   \n",
       "2           1                             []  1771  Edinburgh   \n",
       "3           1                             []  1771  Edinburgh   \n",
       "4           1                             []  1771  Edinburgh   \n",
       "..        ...             ...            ...   ...        ...   \n",
       "58          1                             []  1771  Edinburgh   \n",
       "59          1                             []  1771  Edinburgh   \n",
       "60          1                             []  1771  Edinburgh   \n",
       "61          1                             []  1771  Edinburgh   \n",
       "62          1                             []  1771  Edinburgh   \n",
       "\n",
       "                                          volumeTitle volumeNum letters  part  \\\n",
       "0   Encyclopaedia Britannica; or, A dictionary of ...         1     A-B     0   \n",
       "1   Encyclopaedia Britannica; or, A dictionary of ...         1     A-B     0   \n",
       "2   Encyclopaedia Britannica; or, A dictionary of ...         1     A-B     0   \n",
       "3   Encyclopaedia Britannica; or, A dictionary of ...         1     A-B     0   \n",
       "4   Encyclopaedia Britannica; or, A dictionary of ...         1     A-B     0   \n",
       "..                                                ...       ...     ...   ...   \n",
       "58  Encyclopaedia Britannica; or, A dictionary of ...         1     A-B     0   \n",
       "59  Encyclopaedia Britannica; or, A dictionary of ...         1     A-B     0   \n",
       "60  Encyclopaedia Britannica; or, A dictionary of ...         1     A-B     0   \n",
       "61  Encyclopaedia Britannica; or, A dictionary of ...         1     A-B     0   \n",
       "62  Encyclopaedia Britannica; or, A dictionary of ...         1     A-B     0   \n",
       "\n",
       "                            altoXML  \n",
       "0   144133901/alto/188082969.34.xml  \n",
       "1   144133901/alto/188083505.34.xml  \n",
       "2   144133901/alto/188084168.34.xml  \n",
       "3   144133901/alto/188084194.34.xml  \n",
       "4   144133901/alto/188084246.34.xml  \n",
       "..                              ...  \n",
       "58  144133901/alto/188092436.34.xml  \n",
       "59  144133901/alto/188092748.34.xml  \n",
       "60  144133901/alto/188093086.34.xml  \n",
       "61  144133901/alto/188093190.34.xml  \n",
       "62  144133901/alto/188093203.34.xml  \n",
       "\n",
       "[63 rows x 22 columns]"
      ]
     },
     "execution_count": 10,
     "metadata": {},
     "output_type": "execute_result"
    }
   ],
   "source": [
    "df_1771_small"
   ]
  },
  {
   "cell_type": "markdown",
   "metadata": {},
   "source": [
    "### 2.1 Counting the number of terms"
   ]
  },
  {
   "cell_type": "markdown",
   "metadata": {},
   "source": [
    "**Remember**: A term can appear in more than once  per eddition. "
   ]
  },
  {
   "cell_type": "code",
   "execution_count": 11,
   "metadata": {},
   "outputs": [
    {
     "data": {
      "text/plain": [
       "63"
      ]
     },
     "execution_count": 11,
     "metadata": {},
     "output_type": "execute_result"
    }
   ],
   "source": [
    "len(df_1771_small)"
   ]
  },
  {
   "cell_type": "markdown",
   "metadata": {},
   "source": [
    "### 3. Summarize Text\n"
   ]
  },
  {
   "cell_type": "markdown",
   "metadata": {},
   "source": [
    "### 3.1 Testing with Gensim"
   ]
  },
  {
   "cell_type": "code",
   "execution_count": 26,
   "metadata": {},
   "outputs": [
    {
     "data": {
      "text/plain": [
       "'BREWING'"
      ]
     },
     "execution_count": 26,
     "metadata": {},
     "output_type": "execute_result"
    }
   ],
   "source": [
    "df_1771_small.loc[62][\"term\"]"
   ]
  },
  {
   "cell_type": "code",
   "execution_count": 27,
   "metadata": {},
   "outputs": [
    {
     "data": {
      "text/plain": [
       "'Ji-ole for a night together, that the (leant of the boiling water or wort may penetrate into the wood ; this way is such a furious fearcher, that unless the cade is new-hopped just before, it will be apt to fall to pieces. Another Way. Take a pottle, or more, of stone-lime, and put it into the calk^ on this pour some water, and stop it up diredtly, (baking it well about. Another Way. Take along linen rag, and dip it in melted brimstone; light it at the end, and let it hang pendant with the upper part of the rag fastened to the wooden bung; this is a most quick and sure\\' way, and will not only (weeten, but help to fine the drink. Another. Or, to make your calk more, pleasant, you may use the vintners way thus: Take four ounces of (lone brimstone, one ounce of burnt allum, and two ounces of brandy; melt all thele in an earthen pan over hot coals, and dip therein a piece of new canvas, and instantly sprinkle thereon the powders of nutmegs, cloves, coriander, and anife feeds : this canvas set on fire, and let it burn hanging in the calk fastened at the end with the wooden bung, so that no smoke comes out. For a mujly Cask. Boil some pepper in water, and fill the calk with it fealding hot. To prepare a new Vef J\\' el to keep Flail-liquors in. A new vefiel is rnoft improperly used by Tome ignorant B R E BREY, a town of the bilhopric of Liege, in Germany, about sixteen miles north of Maeftricht; E. long. 5 0 40\\' , and N lat. 51 0 15\\' . BREYNIA, in botany, a fynonime of the capparis. See Capparis. BRI ANCON, a town of I>auphiny, in France, situated about forty live miles south-east of Grenoble; E. long. 6° 20\\' , and N. lat. 44 0 50\\' . BRIAR, in botany, the Englifn name of a species of rofa. See Rosa. BRI ARE, a town of the Me of France, situated on the river Loire, about seventy-five miles south of Paris; E. long. 2 0 4$\\', andN. lat. 47° 4c/. BRIBE, a gift given to a person for doing or forbearing any action that he ought to do -or forbear. BRIBERY. See Law. BRICIANI, those of the order of that name. This was a military order, instituted by St Bridget, queen of Sweden, wlro gave them the rules and co\\' tftit\\' .nions of those of Malta and St Auguftin. This order was approved by pope Urban V. They were to sight for the burying of the dead, to relieve and aflift widows, orphans, the lame,. sick, WING. <575 people for strong drink, after only once or twice fealding with water; which is fq wrong, that such beer or. ale will not fail of tailing thereof for half, if not a whole year afterwards. To prevent this inconvenience, when your brewing is over, put up\\' Lome water fealding hot, and let it run through the grains; then boil it and fill upthe calk, stop it well, and let it liand till it is cold; do this twice ; then take the grounds of ftroag drink and boil in it green walnut-leaves and new hay or wheatftraw, and put ail into the calk, that it be.full, and stop it close : After this, use it for small beer half a year together, and then it will be thoroughly sweet and: sit for strong drinks. Wine-casks. These are the cbeapeft of ail others to furnish a person readily with, as being many of them good calks for malt-liquors, because the sack and white-wine sorts are already seasoned to. hand, and will greatly improve beers and ales that are put in them : But beware of the Rheniih wine calks for strong drinks ; for its wood is so tinctured with this lharp wine, that\" it will hardly ever be free of it; and therefore such calk is best used for small beer: the claret calk will a great deal sooner be brought into a serviceable state for holding strong drink, if it is two or three times fealded with grounds of barrels, and afterwards used for small beer for some time. But to cure a claret-calk of its colour and taste, put a peck of stone-liroe into a hoglhead, and pour upon it three pails of water; bung immediately with a wood or cork-bung, and lhake it well about a quarter of an hour, and let ,it Hand a day and night, and it will bring off the red colour, and alter the taste of the calk very much. B R I BRICK, a. sat reddilh earth, formed into long, squares, . four inches broad, and eight or nine long; by means of a wooden mould, and then baked or burnt in a kiln,-to lerve the purposes of building. Bricks are of great antiquity, as appears by the-sacred writings, the tower and walls of Babylon being with them. In the east, they baked their bricks in the sun; the Romans tiled them unburnt, only leaving them to dry for four or five years in the air. The Greeks chiefly tiled three kinds of bricks ; the first whereof was called \\\\dtd(lron,~\\\\ i. e. of two palms ; the second, \\\\tetrad6ron\\\\, of four palms ; the third, X_pentad6ren~\\\\, of five palms. They hadalfo other bricks, just half each of those, to render their works more solid, and also more agreeable to the sight,\\'by the diverfities of the figures and sizes of the bricks. Pliny says, that to make good bricks they must hot consist of any earth that isfuil of Land or gravel, nor of such as is gritty or stony; but of a greyish mail, or whitilh chalky clay, or at least of a reddilh earth : He also adds, that the best season for making bricks is the spring; because, if mitde in summer, they will ba..fubjeft to crack, and be full of chinks. He dire&s, that the loam of which bricks are made be well ste\\' eped and wrought with water. Bricks, among us, are various, according to their various forms, dimensions, dies, method of making, ebc. the principal of which are, Compass-bricks, of a circular form, used infleyning of walls : Concave, or hollow bricks, on one side flat like a common brick, on the other hollowed, and used for conveyance of water : Feather-edged bricks, which are like common llatute bricks, only thinner on one edge than the other, and used for penning up the brick pannels in timber buildings: Cogging bricks are used for making the indented works under the caping of walls built with great bricks : Caping bricks, formed on purpose for caping of walls: Dutch or Flemilh bricks, used to pave yards, stables, and for soap-bo Hers vaults and cifterns: Clinkers, such bricks as are glazed by the heat of the fire in making : Sandel or famel-bricks, are such as lie outmoll in a kiln, or clamp, and consequently are soft and useless, as not being thoroughly burnt: Great bricks are those twelve inches long, six broad, and three thick, used to build fence-walls: _Plai%r or\\'buttress bricks, have a notch at one end, half the breadth of the brick ; their use is to bind the work which is built of great bricks: Statute-bricks or frnall common bricks, ought, when burnt, to be nine inches long, four and a quarter broad, and two and a half thick ; they are commonly used in.paving cellars, Bricks are burnt either in a kiln or clamp. Those that are burnt in a kiln, are firll set or placed in it, and then the kiln being covered with pieces of bricks, they put in some wood to dry them with a gentle fire ; and this they continue till the bricks are pretty dry, which is known by the smoke’s turning from a darkifh colour to a transparent smoke: They then leave off putting in wood, and proceed to make ready for burning, which is performed by putting in brulh, furze, spray, heath, brake, or fern-faggots; but before they put in any. faggots, they dam up the mouth or .mouths of the kiln with pieces of bricks (which they call Jhinlog) piled up one upon another, and close it up with wet brick-earth, inllead of mortar. The fhinlog they make so high, that there is but just room above it to thrust in a faggot; then they proceed to put in more faggots, till the kiln and its arches look white, and the fire appears at the top of the kiln ; upon which they slacken the fire for an hour, and let all cool by degrees. This they continue to do, alternately heating and flacking, till the ware be, thoroughly burnt, which is usually effected in forty About London they chiefly burn in clamps, built of the bricks themselves, after the manner of arches in kilns, with a vacancy between each brick, for the fire to play through ; but with this difference, that instead of arching, they span it over by making the bricks project one over another on both sides of the place, for.the wood and coals to lie in till they meet, and are bounded by the bricks at the top, which cfofe all up. The place for the fuel is carried up strait on botsh sides, till about three feet high ; then they almost fill it with wood, and over that lay a covering of sea-coal, and then overfpan the arch; but they strew sea-coal also over the clamp, betwixt all the rows of bricks; lastly, they kindle the wood, which gives fire to the coal ; and when all is burnt, then they conclude the bricks are sufficiently burnt. 0/7 ^ Bricks, olive oil imbibed by the substance of bricks, and afterwards distilled from it. This oil was once in great repute for curing many diseases, but is now entirely laid aside.-'"
      ]
     },
     "execution_count": 27,
     "metadata": {},
     "output_type": "execute_result"
    }
   ],
   "source": [
    "text=df_1771_small.loc[62][\"definition\"]\n",
    "text"
   ]
  },
  {
   "cell_type": "code",
   "execution_count": 28,
   "metadata": {},
   "outputs": [
    {
     "data": {
      "text/plain": [
       "\"Ji-ole for a night together, that the (leant of the boiling water or wort may penetrate into the wood ; this way is such a furious fearcher, that unless the cade is new-hopped just before, it will be apt to fall to pieces.\\nOr, to make your calk more, pleasant, you may use the vintners way thus: Take four ounces of (lone brimstone, one ounce of burnt allum, and two ounces of brandy; melt all thele in an earthen pan over hot coals, and dip therein a piece of new canvas, and instantly sprinkle thereon the powders of nutmegs, cloves, coriander, and anife feeds : this canvas set on fire, and let it burn hanging in the calk fastened at the end with the wooden bung, so that no smoke comes out.\\nBoil some pepper in water, and fill the calk with it fealding hot.\\nBREYNIA, in botany, a fynonime of the capparis.\\nTo prevent this inconvenience, when your brewing is over, put up' Lome water fealding hot, and let it run through the grains; then boil it and fill upthe calk, stop it well, and let it liand till it is cold; do this twice ; then take the grounds of ftroag drink and boil in it green walnut-leaves and new hay or wheatftraw, and put ail into the calk, that it be.full, and stop it close : After this, use it for small beer half a year together, and then it will be thoroughly sweet and: sit for strong drinks.\\nBut to cure a claret-calk of its colour and taste, put a peck of stone-liroe into a hoglhead, and pour upon it three pails of water; bung immediately with a wood or cork-bung, and lhake it well about a quarter of an hour, and let ,it Hand a day and night, and it will bring off the red colour, and alter the taste of the calk very much.\\nIn the east, they baked their bricks in the sun; the Romans tiled them unburnt, only leaving them to dry for four or five years in the air.\\nThose that are burnt in a kiln, are firll set or placed in it, and then the kiln being covered with pieces of bricks, they put in some wood to dry them with a gentle fire ; and this they continue till the bricks are pretty dry, which is known by the smoke’s turning from a darkifh colour to a transparent smoke: They then leave off putting in wood, and proceed to make ready for burning, which is performed by putting in brulh, furze, spray, heath, brake, or fern-faggots; but before they put in any.\\nfaggots, they dam up the mouth or .mouths of the kiln with pieces of bricks (which they call Jhinlog) piled up one upon another, and close it up with wet brick-earth, inllead of mortar.\\nThis they continue to do, alternately heating and flacking, till the ware be, thoroughly burnt, which is usually effected in forty About London they chiefly burn in clamps, built of the bricks themselves, after the manner of arches in kilns, with a vacancy between each brick, for the fire to play through ; but with this difference, that instead of arching, they span it over by making the bricks project one over another on both sides of the place, for.the wood and coals to lie in till they meet, and are bounded by the bricks at the top, which cfofe all up.\""
      ]
     },
     "execution_count": 28,
     "metadata": {},
     "output_type": "execute_result"
    }
   ],
   "source": [
    "summarized_text=summarize(text)\n",
    "summarized_text"
   ]
  },
  {
   "cell_type": "code",
   "execution_count": 29,
   "metadata": {},
   "outputs": [
    {
     "data": {
      "text/plain": [
       "3045"
      ]
     },
     "execution_count": 29,
     "metadata": {},
     "output_type": "execute_result"
    }
   ],
   "source": [
    "len(summarized_text)"
   ]
  },
  {
   "cell_type": "code",
   "execution_count": 30,
   "metadata": {},
   "outputs": [
    {
     "data": {
      "text/plain": [
       "8909"
      ]
     },
     "execution_count": 30,
     "metadata": {},
     "output_type": "execute_result"
    }
   ],
   "source": [
    "len(text)"
   ]
  },
  {
   "cell_type": "markdown",
   "metadata": {},
   "source": [
    "### 3.2 Testing with Spacy\n",
    "\n",
    "Following https://medium.com/analytics-vidhya/text-summarization-using-spacy-ca4867c6b744 "
   ]
  },
  {
   "cell_type": "code",
   "execution_count": 31,
   "metadata": {},
   "outputs": [],
   "source": [
    "doc=create_document(text)"
   ]
  },
  {
   "cell_type": "code",
   "execution_count": 32,
   "metadata": {},
   "outputs": [
    {
     "data": {
      "text/plain": [
       "55"
      ]
     },
     "execution_count": 32,
     "metadata": {},
     "output_type": "execute_result"
    }
   ],
   "source": [
    "len(list(doc.sents))"
   ]
  },
  {
   "cell_type": "markdown",
   "metadata": {},
   "source": [
    "#### 3.2.1 Filtering tokens"
   ]
  },
  {
   "cell_type": "code",
   "execution_count": 33,
   "metadata": {},
   "outputs": [],
   "source": [
    "keyword =[]\n",
    "stopwords = list(STOP_WORDS)\n",
    "pos_tag = ['PROPN', 'ADJ', 'NOUN', 'VERB']\n",
    "for token in doc:\n",
    "    if (token.text in stopwords or token.text in punctuation):\n",
    "        continue\n",
    "    if (token.pos_ in pos_tag):\n",
    "        keyword.append(token.text)"
   ]
  },
  {
   "cell_type": "code",
   "execution_count": 34,
   "metadata": {},
   "outputs": [
    {
     "data": {
      "text/plain": [
       "[('bricks', 31), ('calk', 9), ('burnt', 9), ('water', 8), ('wood', 8)]"
      ]
     },
     "execution_count": 34,
     "metadata": {},
     "output_type": "execute_result"
    }
   ],
   "source": [
    "freq_word = Counter(keyword)\n",
    "freq_word.most_common(5)"
   ]
  },
  {
   "cell_type": "markdown",
   "metadata": {},
   "source": [
    "#### 3.2.2 Normalization "
   ]
  },
  {
   "cell_type": "code",
   "execution_count": 35,
   "metadata": {},
   "outputs": [
    {
     "data": {
      "text/plain": [
       "[('bricks', 1.0),\n",
       " ('calk', 0.2903225806451613),\n",
       " ('burnt', 0.2903225806451613),\n",
       " ('water', 0.25806451612903225),\n",
       " ('wood', 0.25806451612903225)]"
      ]
     },
     "execution_count": 35,
     "metadata": {},
     "output_type": "execute_result"
    }
   ],
   "source": [
    "max_freq = Counter(keyword).most_common(1)[0][1]\n",
    "for word in freq_word.keys():\n",
    "    freq_word[word] = (freq_word[word]/max_freq)\n",
    "freq_word.most_common(5)"
   ]
  },
  {
   "cell_type": "markdown",
   "metadata": {},
   "source": [
    "#### 3.2.3 Weighing sentences"
   ]
  },
  {
   "cell_type": "code",
   "execution_count": 36,
   "metadata": {},
   "outputs": [
    {
     "name": "stdout",
     "output_type": "stream",
     "text": [
      "{Ji-ole for a night together, that the (leant of the boiling water or wort may penetrate into the wood ; this way is such a furious fearcher, that unless the cade is new-hopped just before, it will be apt to fall to pieces.: 1.290322580645161, Another Way.: 0.06451612903225806, Take a pottle, or more, of stone-lime, and put it into the calk^ on this pour some water, and stop it up diredtly, (baking it well about.: 0.7096774193548386, Another Way.: 0.06451612903225806, Take along linen rag, and dip it in melted brimstone; light it at the end, and let it hang pendant with the upper part of the rag fastened to the wooden bung; this is a most quick and sure' way, and will not only (weeten, but help to fine the drink.: 1.516129032258064, Or, to make your calk more, pleasant, you may use the vintners way thus: Take four ounces of (lone brimstone, one ounce of burnt allum, and two ounces of brandy; melt all thele in an earthen pan over hot coals, and dip therein a piece of new canvas, and instantly sprinkle thereon the powders of nutmegs, cloves, coriander, and anife feeds : this canvas set on fire, and let it burn hanging in the calk fastened at the end with the wooden bung, so that no smoke comes out.: 3.5806451612903207, For a mujly Cask.: 0.06451612903225806, Boil some pepper in water, and fill the calk with it fealding hot.: 0.935483870967742, To prepare a new Vef J' el to keep Flail-liquors in.: 0.3548387096774193, A new vefiel is rnoft improperly used by Tome ignorant B R E BREY, a town of the bilhopric of Liege, in Germany, about sixteen miles north of Maeftricht; E. long.: 0.9032258064516128, 5 0 40' , and N lat.: 0.12903225806451613, BREYNIA, in botany, a fynonime of the capparis.: 0.16129032258064516, See Capparis.: 0.12903225806451613, BRI ANCON, a town of I>auphiny, in France, situated about forty live miles south-east of Grenoble; E. long.: 0.7419354838709676, 6° 20' , and N. lat.: 0.1935483870967742, BRIAR, in botany, the Englifn name of a species of rofa.: 0.1935483870967742, See Rosa.: 0.12903225806451613, BRI ARE, a town of the Me of France, situated on the river Loire, about seventy-five miles south of Paris; E. long.: 0.6451612903225806, 2 0 4$', andN. lat.: 0.12903225806451613, ° 4c/. BRIBE, a gift given to a person for doing or forbearing any action that he ought to do -or forbear.: 0.38709677419354827, BRIBERY.: 0.03225806451612903, See Law.: 0.12903225806451613, BRICIANI, those of the order of that name.: 0.12903225806451613, This was a military order, instituted by St Bridget, queen of Sweden, wlro gave them the rules and co' tftit' .nions of those of Malta and St Auguftin.: 0.6451612903225803, This order was approved by pope Urban V.: 0.22580645161290322, They were to sight for the burying of the dead, to relieve and aflift widows, orphans, the lame,.: 0.25806451612903225, sick, WING. <: 0.06451612903225806, 575 people for strong drink, after only once or twice fealding with water; which is fq wrong, that such beer or.: 0.8387096774193548, ale will not fail of tailing thereof for half, if not a whole year afterwards.: 0.1935483870967742, To prevent this inconvenience, when your brewing is over, put up' Lome water fealding hot, and let it run through the grains; then boil it and fill upthe calk, stop it well, and let it liand till it is cold; do this twice ; then take the grounds of ftroag drink and boil in it green walnut-leaves and new hay or wheatftraw, and put ail into the calk, that it be.full, and stop it close : After this, use it for small beer half a year together, and then it will be thoroughly sweet and: sit for strong drinks.: 3.483870967741934, Wine-casks.: 0.06451612903225806, These are the cbeapeft of ail others to furnish a person readily with, as being many of them good calks for malt-liquors, because the sack and white-wine sorts are already seasoned to.: 0.6774193548387096, hand, and will greatly improve beers and ales that are put in them : But beware of the Rheniih wine calks for strong drinks ; for its wood is so tinctured with this lharp wine, that\" it will hardly ever be free of it; and therefore such calk is best used for small beer: the claret calk will a great deal sooner be brought into a serviceable state for holding strong drink, if it is two or three times fealded with grounds of barrels, and afterwards used for small beer for some time.: 2.903225806451612, But to cure a claret-calk of its colour and taste, put a peck of stone-liroe into a hoglhead, and pour upon it three pails of water; bung immediately with a wood or cork-bung, and lhake it well about a quarter of an hour, and let ,it Hand a day and night, and it will bring off the red colour, and alter the taste of the calk very much.: 2.6451612903225805, B R I BRICK, a. sat reddilh earth, formed into long, squares, .: 0.5806451612903225, four inches broad, and eight or nine long; by means of a wooden mould, and then baked or burnt in a kiln,-to lerve the purposes of building.: 0.8709677419354838, Bricks are of great antiquity, as appears by the-sacred writings, the tower and walls of Babylon being with them.: 0.6774193548387095, In the east, they baked their bricks in the sun; the Romans tiled them unburnt, only leaving them to dry for four or five years in the air.: 1.483870967741935, The Greeks chiefly tiled three kinds of bricks ; the first whereof was called \\dtd(lron,~\\ i. e. of two palms ; the second, \\tetrad6ron\\, of four palms ; the third, X_pentad6ren~\\, of five palms.: 1.677419354838709, They hadalfo other bricks, just half each of those, to render their works more solid, and also more agreeable to the sight,'by the diverfities of the figures and sizes of the bricks.: 2.354838709677419, Pliny says, that to make good bricks they must hot consist of any earth that isfuil of Land or gravel, nor of such as is gritty or stony; but of a greyish mail, or whitilh chalky clay, or at least of a reddilh earth : He also adds, that the best season for making bricks is the spring; because, if mitde in summer, they will ba..fubjeft to crack, and be full of chinks.: 3.419354838709676, He dire&s, that the loam of which bricks are made be well ste' eped and wrought with water.: 1.4193548387096773, Bricks, among us, are various, according to their various forms, dimensions, dies, method of making, ebc.: 0.4838709677419354, the principal of which are, Compass-bricks, of a circular form, used infleyning of walls : Concave, or hollow bricks, on one side flat like a common brick, on the other hollowed, and used for conveyance of water : Feather-edged bricks, which are like common llatute bricks, only thinner on one edge than the other, and used for penning up the brick pannels in timber buildings: Cogging bricks are used for making the indented works under the caping of walls built with great bricks : Caping bricks, formed on purpose for caping of walls: Dutch or Flemilh bricks, used to pave yards, stables, and for soap-bo Hers vaults and cifterns: Clinkers, such bricks as are glazed by the heat of the fire in making : Sandel or famel-bricks, are such as lie outmoll in a kiln, or clamp, and consequently are soft and useless, as not being thoroughly burnt: Great bricks are those twelve inches long, six broad, and three thick, used to build fence-walls: _Plai%r or'buttress bricks, have a notch at one end, half the breadth of the brick ; their use is to bind the work which is built of great bricks: Statute-bricks or frnall common bricks, ought, when burnt, to be nine inches long, four and a quarter broad, and two and a half thick ; they are commonly used in.paving cellars, Bricks are burnt either in a kiln or clamp.: 22.32258064516131, Those that are burnt in a kiln, are firll set or placed in it, and then the kiln being covered with pieces of bricks, they put in some wood to dry them with a gentle fire ; and this they continue till the bricks are pretty dry, which is known by the smoke’s turning from a darkifh colour to a transparent smoke: They then leave off putting in wood, and proceed to make ready for burning, which is performed by putting in brulh, furze, spray, heath, brake, or fern-faggots; but before they put in any.: 5.064516129032256, faggots, they dam up the mouth or .mouths of the kiln with pieces of bricks (which they call Jhinlog) piled up one upon another, and close it up with wet brick-earth, inllead of mortar.: 1.935483870967742, The fhinlog they make so high, that there is but just room above it to thrust in a faggot; then they proceed to put in more faggots, till the kiln and its arches look white, and the fire appears at the top of the kiln ; upon which they slacken the fire for an hour, and let all cool by degrees.: 1.8387096774193548, This they continue to do, alternately heating and flacking, till the ware be, thoroughly burnt, which is usually effected in forty About London they chiefly burn in clamps, built of the bricks themselves, after the manner of arches in kilns, with a vacancy between each brick, for the fire to play through ; but with this difference, that instead of arching, they span it over by making the bricks project one over another on both sides of the place, for.the wood and coals to lie in till they meet, and are bounded by the bricks at the top, which cfofe all up.: 5.193548387096773, The place for the fuel is carried up strait on botsh sides, till about three feet high ; then they almost fill it with wood, and over that lay a covering of sea-coal, and then overfpan the arch; but they strew sea-coal also over the clamp, betwixt all the rows of bricks; lastly, they kindle the wood, which gives fire to the coal ; and when all is burnt, then they conclude the bricks are sufficiently burnt.: 4.612903225806451, 0/7 ^ Bricks, olive oil imbibed by the substance of bricks, and afterwards distilled from it.: 1.3225806451612903, This oil was once in great repute for curing many diseases, but is now entirely laid aside.-: 0.38709677419354827}\n"
     ]
    }
   ],
   "source": [
    "sent_strength={}\n",
    "for sent in doc.sents:\n",
    "    for word in sent:\n",
    "        if word.text in freq_word.keys():\n",
    "            if sent in sent_strength.keys():\n",
    "                sent_strength[sent]+=freq_word[word.text]\n",
    "            else:\n",
    "                sent_strength[sent] = freq_word[word.text]\n",
    "print(sent_strength)"
   ]
  },
  {
   "cell_type": "markdown",
   "metadata": {},
   "source": [
    "#### 3.2.4 Summarizing the string\n",
    "\n",
    "And the nlargest function returns a list containing the top 3 sentences which are stored as summarized_sentences"
   ]
  },
  {
   "cell_type": "code",
   "execution_count": 37,
   "metadata": {},
   "outputs": [],
   "source": [
    "summarized_sentences = nlargest(3, sent_strength, key=sent_strength.get)\n"
   ]
  },
  {
   "cell_type": "code",
   "execution_count": 38,
   "metadata": {},
   "outputs": [
    {
     "name": "stdout",
     "output_type": "stream",
     "text": [
      "the principal of which are, Compass-bricks, of a circular form, used infleyning of walls : Concave, or hollow bricks, on one side flat like a common brick, on the other hollowed, and used for conveyance of water : Feather-edged bricks, which are like common llatute bricks, only thinner on one edge than the other, and used for penning up the brick pannels in timber buildings: Cogging bricks are used for making the indented works under the caping of walls built with great bricks : Caping bricks, formed on purpose for caping of walls: Dutch or Flemilh bricks, used to pave yards, stables, and for soap-bo Hers vaults and cifterns: Clinkers, such bricks as are glazed by the heat of the fire in making : Sandel or famel-bricks, are such as lie outmoll in a kiln, or clamp, and consequently are soft and useless, as not being thoroughly burnt: Great bricks are those twelve inches long, six broad, and three thick, used to build fence-walls: _Plai%r or'buttress bricks, have a notch at one end, half the breadth of the brick ; their use is to bind the work which is built of great bricks: Statute-bricks or frnall common bricks, ought, when burnt, to be nine inches long, four and a quarter broad, and two and a half thick ; they are commonly used in.paving cellars, Bricks are burnt either in a kiln or clamp. This they continue to do, alternately heating and flacking, till the ware be, thoroughly burnt, which is usually effected in forty About London they chiefly burn in clamps, built of the bricks themselves, after the manner of arches in kilns, with a vacancy between each brick, for the fire to play through ; but with this difference, that instead of arching, they span it over by making the bricks project one over another on both sides of the place, for.the wood and coals to lie in till they meet, and are bounded by the bricks at the top, which cfofe all up. Those that are burnt in a kiln, are firll set or placed in it, and then the kiln being covered with pieces of bricks, they put in some wood to dry them with a gentle fire ; and this they continue till the bricks are pretty dry, which is known by the smoke’s turning from a darkifh colour to a transparent smoke: They then leave off putting in wood, and proceed to make ready for burning, which is performed by putting in brulh, furze, spray, heath, brake, or fern-faggots; but before they put in any.\n"
     ]
    }
   ],
   "source": [
    "final_sentences = [w.text for w in summarized_sentences]\n",
    "summary =' '.join(final_sentences)\n",
    "print(summary)"
   ]
  },
  {
   "cell_type": "code",
   "execution_count": 39,
   "metadata": {},
   "outputs": [
    {
     "data": {
      "text/plain": [
       "2374"
      ]
     },
     "execution_count": 39,
     "metadata": {},
     "output_type": "execute_result"
    }
   ],
   "source": [
    "len(summary)"
   ]
  },
  {
   "cell_type": "code",
   "execution_count": null,
   "metadata": {},
   "outputs": [],
   "source": []
  }
 ],
 "metadata": {
  "kernelspec": {
   "display_name": "Python 3",
   "language": "python",
   "name": "python3"
  },
  "language_info": {
   "codemirror_mode": {
    "name": "ipython",
    "version": 3
   },
   "file_extension": ".py",
   "mimetype": "text/x-python",
   "name": "python",
   "nbconvert_exporter": "python",
   "pygments_lexer": "ipython3",
   "version": "3.7.2"
  }
 },
 "nbformat": 4,
 "nbformat_minor": 2
}
