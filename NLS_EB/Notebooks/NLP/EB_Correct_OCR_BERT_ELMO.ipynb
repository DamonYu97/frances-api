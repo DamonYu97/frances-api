{
 "cells": [
  {
   "cell_type": "markdown",
   "metadata": {},
   "source": [
    "## OCR - Detecting errors - Cleaning with ELMO\n",
    "\n",
    "\n",
    "https://github.com/neuspell"
   ]
  },
  {
   "cell_type": "markdown",
   "metadata": {},
   "source": [
    "### Loading the necessary libraries"
   ]
  },
  {
   "cell_type": "code",
   "execution_count": 1,
   "metadata": {},
   "outputs": [],
   "source": [
    "import yaml\n",
    "import matplotlib.pyplot as plt\n",
    "import numpy as np\n",
    "import collections\n",
    "import matplotlib as mpl"
   ]
  },
  {
   "cell_type": "code",
   "execution_count": 2,
   "metadata": {},
   "outputs": [],
   "source": [
    "import networkx as nx\n",
    "import matplotlib.pyplot as plt"
   ]
  },
  {
   "cell_type": "code",
   "execution_count": 3,
   "metadata": {},
   "outputs": [],
   "source": [
    "import os\n",
    "import pandas as pd"
   ]
  },
  {
   "cell_type": "code",
   "execution_count": 4,
   "metadata": {},
   "outputs": [],
   "source": [
    "from sentence_transformers import SentenceTransformer\n",
    "from tqdm import tqdm\n",
    "from sklearn.metrics.pairwise import cosine_similarity"
   ]
  },
  {
   "cell_type": "markdown",
   "metadata": {},
   "source": [
    "### Functions"
   ]
  },
  {
   "cell_type": "code",
   "execution_count": 5,
   "metadata": {},
   "outputs": [],
   "source": [
    "def get_document(uri):\n",
    "    uri=\"<\"+uri+\">\"\n",
    "    sparql = SPARQLWrapper(\"http://localhost:3030/edition1st/sparql\")\n",
    "    query=\"\"\"\n",
    "    PREFIX eb: <https://w3id.org/eb#>\n",
    "    PREFIX rdfs: <http://www.w3.org/2000/01/rdf-schema#>\n",
    "    SELECT ?definition ?term\n",
    "        WHERE {{\n",
    "            %s a eb:Article ;\n",
    "               eb:name ?term ;\n",
    "               eb:definition ?definition . \n",
    "            }\n",
    "            UNION {\n",
    "            %s a eb:Topic ;\n",
    "              eb:name ?term ; \n",
    "              eb:definition ?definition . \n",
    "            }\n",
    "       } \n",
    "    \"\"\" %(uri, uri)\n",
    "    sparql.setQuery(query)\n",
    "    sparql.setReturnFormat(JSON)\n",
    "    results = sparql.query().convert()\n",
    "    term = results[\"results\"][\"bindings\"][0][\"term\"][\"value\"]\n",
    "    definition=results[\"results\"][\"bindings\"][0][\"definition\"][\"value\"]\n",
    "    return term, definition"
   ]
  },
  {
   "cell_type": "code",
   "execution_count": 5,
   "metadata": {},
   "outputs": [],
   "source": [
    "import rdflib\n",
    "from rdflib.extras.external_graph_libs import rdflib_to_networkx_multidigraph\n",
    "import networkx as nx\n",
    "import matplotlib.pyplot as pl\n",
    "from rdflib import Graph, ConjunctiveGraph, Namespace, Literal\n",
    "from rdflib.plugins.sparql import prepareQuery"
   ]
  },
  {
   "cell_type": "code",
   "execution_count": 6,
   "metadata": {},
   "outputs": [],
   "source": [
    "import networkx as nx\n",
    "import matplotlib.pyplot as plt\n",
    "from SPARQLWrapper import SPARQLWrapper, JSON"
   ]
  },
  {
   "cell_type": "code",
   "execution_count": 7,
   "metadata": {},
   "outputs": [],
   "source": [
    "import pickle\n",
    "with open ('documents_1ed.txt', 'rb') as fp:\n",
    "    documents = pickle.load(fp)\n",
    "with open('terms_info_1ed.txt', 'rb') as fp2:\n",
    "    terms_info = pickle.load(fp2)\n",
    "with open('uris_1ed.txt', 'rb') as fp3:\n",
    "    uris = pickle.load(fp3)"
   ]
  },
  {
   "cell_type": "code",
   "execution_count": 8,
   "metadata": {},
   "outputs": [],
   "source": [
    "text=documents[1]"
   ]
  },
  {
   "cell_type": "code",
   "execution_count": 9,
   "metadata": {},
   "outputs": [
    {
     "name": "stdout",
     "output_type": "stream",
     "text": [
      "the superior of a convent of monks,.or the next under the abbot. See Abbot. PRISCILLIANISTS, in church-history, Christian heretics, so called from their leader Prifcillian, a Spaniard by birth, and bilhop of Avila. He is said to have praftifed magic, and to have maintained the principal errors of the Manichees ; but his peculiar tenet was, that it is lawful to make false oaths, in order to support one’s cause and\n"
     ]
    }
   ],
   "source": [
    "from PIL import Image\n",
    "import torch\n",
    "import re\n",
    "import nltk\n",
    "from enchant.checker import SpellChecker\n",
    "from difflib import SequenceMatcher\n",
    "text_original = text\n",
    "print (text_original)"
   ]
  },
  {
   "cell_type": "code",
   "execution_count": 11,
   "metadata": {},
   "outputs": [],
   "source": [
    "import neuspell\n",
    "from neuspell import available_checkers"
   ]
  },
  {
   "cell_type": "code",
   "execution_count": 12,
   "metadata": {},
   "outputs": [
    {
     "name": "stdout",
     "output_type": "stream",
     "text": [
      "available checkers: ['BertsclstmChecker', 'CnnlstmChecker', 'ElmosclstmChecker', 'NestedlstmChecker', 'SclstmChecker', 'SclstmbertChecker', 'SclstmelmoChecker', 'BertChecker']\n"
     ]
    }
   ],
   "source": [
    "\"\"\" see available checkers \"\"\"\n",
    "print(f\"available checkers: {neuspell.available_checkers()}\")\n",
    "# → available checkers: ['BertsclstmChecker', 'CnnlstmChecker', 'NestedlstmChecker', 'SclstmChecker', 'SclstmbertChecker', 'BertChecker', 'SclstmelmoChecker', 'ElmosclstmChecker']\n"
   ]
  },
  {
   "cell_type": "code",
   "execution_count": 65,
   "metadata": {},
   "outputs": [],
   "source": [
    "from neuspell import ElmosclstmChecker"
   ]
  },
  {
   "cell_type": "code",
   "execution_count": 67,
   "metadata": {},
   "outputs": [
    {
     "name": "stdout",
     "output_type": "stream",
     "text": [
      "loading vocab from path:/Users/rosafilgueira/HW-Work/NLS-Fellowship/work/frances/neuspell/neuspell/../data/checkpoints/elmoscrnn-probwordnoise/vocab.pkl\n",
      "initializing model\n",
      "Number of parameters in the model: 209906438\n",
      "Loading model params from checkpoint dir: /Users/rosafilgueira/HW-Work/NLS-Fellowship/work/frances/neuspell/neuspell/../data/checkpoints/elmoscrnn-probwordnoise\n"
     ]
    }
   ],
   "source": [
    "checker= ElmosclstmChecker()\n",
    "#checker = SclstmChecker()\n",
    "#checker = checker.add_(\"elmo\", at=\"input\")  # \"elmo\" or \"bert\", \"input\" or \"output\"\n",
    "checker.from_pretrained()"
   ]
  },
  {
   "cell_type": "code",
   "execution_count": 68,
   "metadata": {},
   "outputs": [],
   "source": [
    "clean_documents_elmo=[]"
   ]
  },
  {
   "cell_type": "code",
   "execution_count": null,
   "metadata": {},
   "outputs": [
    {
     "name": "stdout",
     "output_type": "stream",
     "text": [
      "Error in 3011\n"
     ]
    }
   ],
   "source": [
    "cont=0\n",
    "for raw1 in documents:\n",
    "    try:\n",
    "        clean_documents_elmo.append(checker.correct(raw1))\n",
    "    except:\n",
    "        print(\"Error in %s\" %cont)\n",
    "        clean_documents_elmo.append(raw1)\n",
    "    cont=cont+1\n"
   ]
  },
  {
   "cell_type": "code",
   "execution_count": 48,
   "metadata": {},
   "outputs": [
    {
     "data": {
      "text/plain": [
       "'https://w3id.org/eb/i/Article/9929192893804340_144850367_CAUTERIZATION_0'"
      ]
     },
     "execution_count": 48,
     "metadata": {},
     "output_type": "execute_result"
    }
   ],
   "source": [
    "import pickle\n",
    "with open('clean_documents_ElmosclstmChecker.txt', 'wb') as fp:\n",
    "    pickle.dump(clean_documents_elmo, fp)"
   ]
  },
  {
   "cell_type": "code",
   "execution_count": 63,
   "metadata": {},
   "outputs": [
    {
     "data": {
      "text/plain": [
       "'the application of factories to any part of the body .'"
      ]
     },
     "execution_count": 63,
     "metadata": {},
     "output_type": "execute_result"
    }
   ],
   "source": [
    "a"
   ]
  },
  {
   "cell_type": "code",
   "execution_count": null,
   "metadata": {},
   "outputs": [],
   "source": []
  }
 ],
 "metadata": {
  "kernelspec": {
   "display_name": "Python 3",
   "language": "python",
   "name": "python3"
  },
  "language_info": {
   "codemirror_mode": {
    "name": "ipython",
    "version": 3
   },
   "file_extension": ".py",
   "mimetype": "text/x-python",
   "name": "python",
   "nbconvert_exporter": "python",
   "pygments_lexer": "ipython3",
   "version": "3.7.2"
  }
 },
 "nbformat": 4,
 "nbformat_minor": 2
}
