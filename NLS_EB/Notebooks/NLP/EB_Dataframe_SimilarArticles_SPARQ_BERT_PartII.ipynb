{
 "cells": [
  {
   "cell_type": "markdown",
   "metadata": {},
   "source": [
    "# Exploring Terms in the Encyclopaedia Britannica\n",
    "\n",
    "## Similar terms within an edition - BERT - Part II\n",
    "\n",
    "\n",
    "https://theaidigest.in/how-to-do-semantic-document-similarity-using-bert/"
   ]
  },
  {
   "cell_type": "markdown",
   "metadata": {},
   "source": [
    "### Loading the necessary libraries"
   ]
  },
  {
   "cell_type": "code",
   "execution_count": 163,
   "metadata": {},
   "outputs": [],
   "source": [
    "import yaml\n",
    "import matplotlib.pyplot as plt\n",
    "import numpy as np\n",
    "import collections\n",
    "import matplotlib as mpl"
   ]
  },
  {
   "cell_type": "code",
   "execution_count": 164,
   "metadata": {},
   "outputs": [],
   "source": [
    "import networkx as nx\n",
    "import matplotlib.pyplot as plt"
   ]
  },
  {
   "cell_type": "code",
   "execution_count": 165,
   "metadata": {},
   "outputs": [],
   "source": [
    "import os\n",
    "import pandas as pd"
   ]
  },
  {
   "cell_type": "code",
   "execution_count": 166,
   "metadata": {},
   "outputs": [],
   "source": [
    "from sentence_transformers import SentenceTransformer\n",
    "from tqdm import tqdm\n",
    "from sklearn.metrics.pairwise import cosine_similarity"
   ]
  },
  {
   "cell_type": "markdown",
   "metadata": {},
   "source": [
    "### Functions"
   ]
  },
  {
   "cell_type": "code",
   "execution_count": 167,
   "metadata": {},
   "outputs": [],
   "source": [
    "def calculating_similarity_text_df(definition, text_embeddings):\n",
    "    definition_embedding= model.encode(definition, batch_size = 8, show_progress_bar = True)\n",
    "    similarity_def=cosine_similarity( [definition_embedding], text_embeddings)\n",
    "    similarity_def_sorted = similarity_def.argsort()\n",
    "    id_1 = []\n",
    "    id_2 = []\n",
    "    score = []\n",
    "    for index,array in enumerate(similarity_def_sorted):\n",
    "        id_1.append(index)\n",
    "        score.append(similarity_def[index][array[-1]])\n",
    "        id_2.append(array[-1])\n",
    "    index_df = pd.DataFrame({'id_1' : id_1,\n",
    "                          'id_2' : id_2,\n",
    "                          'score' : score})\n",
    "    return index_df"
   ]
  },
  {
   "cell_type": "code",
   "execution_count": 168,
   "metadata": {},
   "outputs": [],
   "source": [
    "def calculating_similarity_text(definition, text_embeddings):\n",
    "    definition_embedding= model.encode(definition, batch_size = 8, show_progress_bar = True)\n",
    "    similarities=cosine_similarity( [definition_embedding], text_embeddings)\n",
    "    similarities_sorted = similarities.argsort()\n",
    "    results={}\n",
    "    for i in range(-1, -12, -1):\n",
    "        similar_index=similarities_sorted[0][i]\n",
    "        rank=similarities[0][similar_index]\n",
    "        results[uris[similar_index]]=[terms_info[similar_index][1],terms_info[similar_index][2], terms_info[similar_index][4], terms_info[similar_index][0], documents[similar_index], rank]\n",
    "    return results\n",
    "    \n",
    " \n",
    "   "
   ]
  },
  {
   "cell_type": "code",
   "execution_count": 169,
   "metadata": {},
   "outputs": [],
   "source": [
    "def get_document(uri):\n",
    "    uri=\"<\"+uri+\">\"\n",
    "    sparql = SPARQLWrapper(\"http://localhost:3030/edition1st/sparql\")\n",
    "    query=\"\"\"\n",
    "    PREFIX eb: <https://w3id.org/eb#>\n",
    "    PREFIX rdfs: <http://www.w3.org/2000/01/rdf-schema#>\n",
    "    SELECT ?definition ?term\n",
    "        WHERE {{\n",
    "            %s a eb:Article ;\n",
    "               eb:name ?term ;\n",
    "               eb:definition ?definition . \n",
    "            }\n",
    "            UNION {\n",
    "            %s a eb:Topic ;\n",
    "              eb:name ?term ; \n",
    "              eb:definition ?definition . \n",
    "            }\n",
    "       } \n",
    "    \"\"\" %(uri, uri)\n",
    "    sparql.setQuery(query)\n",
    "    sparql.setReturnFormat(JSON)\n",
    "    results = sparql.query().convert()\n",
    "    term = results[\"results\"][\"bindings\"][0][\"term\"][\"value\"]\n",
    "    definition=results[\"results\"][\"bindings\"][0][\"definition\"][\"value\"]\n",
    "    return term, definition"
   ]
  },
  {
   "cell_type": "markdown",
   "metadata": {},
   "source": [
    "## We have dataframe with these columns\n",
    "\n",
    "- definition:           Definition of a term\n",
    "- editionNum:           1,2,3,4,5,6,7,8\n",
    "- editionTitle:         Title of the edition\n",
    "- header:               Header of the page's term                                  \n",
    "- place:                Place where the volume was edited (e.g. Edinburgh)                                    \n",
    "- relatedTerms:         Related terms (see X article)  \n",
    "- altoXML:              File Path of the XML file from which the term belongs       \n",
    "- term:                 Term name                            \n",
    "- positionPage:         Position of ther term in the page     \n",
    "- startsAt:             Number page in which the term definition starts \n",
    "- endsAt:               Number page in which the term definition ends \n",
    "- volumeTitle:          Title of the Volume\n",
    "- typeTerm:             Type of term [Topic| Articles]                                       \n",
    "- year:                 Year of the edition\n",
    "- volumeNum:            Volume number (e.g. 1)\n",
    "- letters:              leters of the volume (A-B)\n",
    "- part:                 Part of the volume (e.g 1)\n",
    "- supplement:           Supplement's Title\n",
    "- supplementsTo:        It suppelements to editions [1, 2, 3....]\n",
    "- numberOfWords:        Number of words per term definition\n",
    "- numberOfTerms:        Number of terms per page\n",
    "- numberOfPages:        Number of pages per volume"
   ]
  },
  {
   "cell_type": "code",
   "execution_count": 170,
   "metadata": {},
   "outputs": [],
   "source": [
    "import rdflib\n",
    "from rdflib.extras.external_graph_libs import rdflib_to_networkx_multidigraph\n",
    "import networkx as nx\n",
    "import matplotlib.pyplot as pl\n",
    "from rdflib import Graph, ConjunctiveGraph, Namespace, Literal\n",
    "from rdflib.plugins.sparql import prepareQuery"
   ]
  },
  {
   "cell_type": "code",
   "execution_count": 171,
   "metadata": {},
   "outputs": [],
   "source": [
    "import networkx as nx\n",
    "import matplotlib.pyplot as plt\n",
    "from SPARQLWrapper import SPARQLWrapper, JSON"
   ]
  },
  {
   "cell_type": "code",
   "execution_count": 172,
   "metadata": {},
   "outputs": [],
   "source": [
    "text_embeddings = np.load('embeddings_1ed.npy')"
   ]
  },
  {
   "cell_type": "code",
   "execution_count": 173,
   "metadata": {},
   "outputs": [],
   "source": [
    "import pickle\n",
    "with open ('documents_1ed.txt', 'rb') as fp:\n",
    "    documents = pickle.load(fp)\n",
    "with open('terms_info_1ed.txt', 'rb') as fp2:\n",
    "    terms_info = pickle.load(fp2)\n",
    "with open('uris_1ed.txt', 'rb') as fp3:\n",
    "    uris = pickle.load(fp3)"
   ]
  },
  {
   "cell_type": "code",
   "execution_count": 174,
   "metadata": {},
   "outputs": [],
   "source": [
    "model = SentenceTransformer('bert-base-nli-mean-tokens')"
   ]
  },
  {
   "cell_type": "code",
   "execution_count": 187,
   "metadata": {},
   "outputs": [
    {
     "data": {
      "text/plain": [
       "18117"
      ]
     },
     "execution_count": 187,
     "metadata": {},
     "output_type": "execute_result"
    }
   ],
   "source": [
    "len(documents)"
   ]
  },
  {
   "cell_type": "code",
   "execution_count": 175,
   "metadata": {},
   "outputs": [],
   "source": [
    "uri=\"https://w3id.org/eb/i/Article/9929192893804340_144850368_PAISLEY_0\"\n",
    "term, definition=get_document(uri)"
   ]
  },
  {
   "cell_type": "code",
   "execution_count": 176,
   "metadata": {},
   "outputs": [
    {
     "data": {
      "text/plain": [
       "'a town of Scotland, in the county of Renfrew, six miles west of Glasgow.'"
      ]
     },
     "execution_count": 176,
     "metadata": {},
     "output_type": "execute_result"
    }
   ],
   "source": [
    "definition"
   ]
  },
  {
   "cell_type": "code",
   "execution_count": 177,
   "metadata": {},
   "outputs": [
    {
     "data": {
      "application/vnd.jupyter.widget-view+json": {
       "model_id": "e7d50fb4afe144a9bf06f5fb47dca7ee",
       "version_major": 2,
       "version_minor": 0
      },
      "text/plain": [
       "HBox(children=(FloatProgress(value=0.0, description='Batches', max=1.0, style=ProgressStyle(description_width=…"
      ]
     },
     "metadata": {},
     "output_type": "display_data"
    },
    {
     "name": "stdout",
     "output_type": "stream",
     "text": [
      "\n"
     ]
    },
    {
     "data": {
      "text/plain": [
       "{'https://w3id.org/eb/i/Article/9929192893804340_144850368_PAISLEY_0': ['1',\n",
       "  '1773',\n",
       "  '3',\n",
       "  'PAISLEY',\n",
       "  'a town of Scotland, in the county of Renfrew, six miles west of Glasgow.',\n",
       "  1.0000001],\n",
       " 'https://w3id.org/eb/i/Article/992277653804341_144133903_PAISLEY_0': ['1',\n",
       "  '1771',\n",
       "  '3',\n",
       "  'PAISLEY',\n",
       "  'a town of Scotland, in the county of Renfrew, six miles west of Glasgow.',\n",
       "  1.0000001],\n",
       " 'https://w3id.org/eb/i/Article/992277653804341_144133902_DUNS_0': ['1',\n",
       "  '1771',\n",
       "  '2',\n",
       "  'DUNS',\n",
       "  'a market-town of Scotland, twelve miles west of Berwick upon Tweed.',\n",
       "  0.898082],\n",
       " 'https://w3id.org/eb/i/Article/9929192893804340_144850367_DUNS_0': ['1',\n",
       "  '1773',\n",
       "  '2',\n",
       "  'DUNS',\n",
       "  'a market-town of Scotland, twelve miles west of Berwick upon Tweed.',\n",
       "  0.898082],\n",
       " 'https://w3id.org/eb/i/Article/9929192893804340_144850367_CULROSS_0': ['1',\n",
       "  '1773',\n",
       "  '2',\n",
       "  'CULROSS',\n",
       "  \"a parliament town of Scotland, situated on the river Forth, about twenty-three miles north-west of Edinburgh : W. long. 3 0 34', and N. lat. 56°\",\n",
       "  0.86318636],\n",
       " 'https://w3id.org/eb/i/Article/992277653804341_144133902_CULROSS_0': ['1',\n",
       "  '1771',\n",
       "  '2',\n",
       "  'CULROSS',\n",
       "  \"a parliament town of Scotland, situated on the river Forth, about twenty-three miles north-west of Edinburgh : W. long. 3 0 34', and N. lat. 56° 8'.\",\n",
       "  0.85761285],\n",
       " 'https://w3id.org/eb/i/Article/9929192893804340_144850368_WIGTOWN_0': ['1',\n",
       "  '1773',\n",
       "  '3',\n",
       "  'WIGTOWN',\n",
       "  'a borough and port-town of Scotland, in the Ihire of Gallo -ay, situated on a bay of the Irish channel, ninety miles (oath-west of Edinburgh.',\n",
       "  0.85400844],\n",
       " 'https://w3id.org/eb/i/Article/9929192893804340_144850367_ELGIN_0': ['1',\n",
       "  '1773',\n",
       "  '2',\n",
       "  'ELGIN',\n",
       "  \"the capital of the county of Murray, in Scotland, situated on the river Lofey, about six miles north of the Spey: W. long. 2° 25', N. lat. 57 0 40.\",\n",
       "  0.8452956],\n",
       " 'https://w3id.org/eb/i/Article/9929192893804340_144850368_RENFREW_0': ['1',\n",
       "  '1773',\n",
       "  '3',\n",
       "  'RENFREW',\n",
       "  'a town of Scotland, the captital of the county of Renfrew, situated on the river Clyde, forty-six miles we R of Edinburgh.',\n",
       "  0.8433577],\n",
       " 'https://w3id.org/eb/i/Article/9929192893804340_144850367_EYEMOUTH_0': ['1',\n",
       "  '1773',\n",
       "  '2',\n",
       "  'EYEMOUTH',\n",
       "  'or Aymouth, a port-town of Scotland, about six miles north of Berwick.',\n",
       "  0.84040666],\n",
       " 'https://w3id.org/eb/i/Article/992277653804341_144133902_ELGIN_0': ['1',\n",
       "  '1771',\n",
       "  '2',\n",
       "  'ELGIN',\n",
       "  \"the capital of the county of Murray, in Scotland, situated on the river Lofey, about six miles north of the Spey : W. long. 2 0 25', N. lat. 5 7 0 40.\",\n",
       "  0.83830243]}"
      ]
     },
     "execution_count": 177,
     "metadata": {},
     "output_type": "execute_result"
    }
   ],
   "source": [
    "results_2=calculating_similarity_text(definition, text_embeddings)\n",
    "results_2\n",
    "\n"
   ]
  },
  {
   "cell_type": "code",
   "execution_count": 99,
   "metadata": {},
   "outputs": [
    {
     "data": {
      "text/plain": [
       "['https://w3id.org/eb/i/Article/9929192893804340_144850368_PAISLEY_0',\n",
       " 'PAISLEY',\n",
       " '1',\n",
       " '1773',\n",
       " '',\n",
       " '3',\n",
       " 'M-Z']"
      ]
     },
     "execution_count": 99,
     "metadata": {},
     "output_type": "execute_result"
    }
   ],
   "source": [
    "terms_info[index_df[\"id_2\"].loc[0]]"
   ]
  },
  {
   "cell_type": "code",
   "execution_count": 152,
   "metadata": {},
   "outputs": [
    {
     "data": {
      "text/plain": [
       "'a town of Scotland, in the county of Renfrew, six miles west of Glasgow.'"
      ]
     },
     "execution_count": 152,
     "metadata": {},
     "output_type": "execute_result"
    }
   ],
   "source": [
    "documents[index_df[\"id_2\"].loc[0]]"
   ]
  },
  {
   "cell_type": "code",
   "execution_count": 153,
   "metadata": {},
   "outputs": [
    {
     "name": "stdout",
     "output_type": "stream",
     "text": [
      "pairwise dense output:\n",
      " [[1.         0.19092174 0.23506945 ... 0.18361539 0.23539671 0.37386656]\n",
      " [0.19092174 1.         0.48545992 ... 0.53202856 0.6442368  0.4849234 ]\n",
      " [0.23506945 0.48545992 1.         ... 0.32033676 0.3483685  0.3656146 ]\n",
      " ...\n",
      " [0.18361539 0.53202856 0.32033676 ... 0.9999999  0.5364398  0.4388551 ]\n",
      " [0.23539671 0.6442368  0.3483685  ... 0.5364398  1.         0.63650733]\n",
      " [0.37386656 0.4849234  0.3656146  ... 0.4388551  0.63650733 0.9999999 ]]\n",
      "\n"
     ]
    }
   ],
   "source": [
    "similarities = cosine_similarity(text_embeddings)\n",
    "print('pairwise dense output:\\n {}\\n'.format(similarities))"
   ]
  },
  {
   "cell_type": "code",
   "execution_count": 154,
   "metadata": {},
   "outputs": [
    {
     "data": {
      "text/plain": [
       "array([[10826,  7186,  5441, ..., 14941,  7527,     0],\n",
       "       [ 7582,  8559, 16146, ..., 17178, 12601,     1],\n",
       "       [12124, 10147,  2429, ...,  9304, 13278,     2],\n",
       "       ...,\n",
       "       [10527, 13686, 17853, ...,  4073,  8133, 18114],\n",
       "       [13737,  1081,  7582, ..., 17574,  9456, 18115],\n",
       "       [17160, 15748, 16644, ...,  8142, 18047, 18116]])"
      ]
     },
     "execution_count": 154,
     "metadata": {},
     "output_type": "execute_result"
    }
   ],
   "source": [
    "similarities_sorted = similarities.argsort()\n",
    "similarities_sorted"
   ]
  },
  {
   "cell_type": "code",
   "execution_count": 155,
   "metadata": {},
   "outputs": [],
   "source": [
    "with open ('/Users/rosafilgueira/HW-Work/NLS-Fellowship/work/frances/web-app/models/similarities_1ed.txt', 'wb') as fp3:\n",
    "     pickle.dump(similarities, fp3)\n",
    "with open('/Users/rosafilgueira/HW-Work/NLS-Fellowship/work/frances/web-app/models/similarities_sorted_1ed.txt', 'wb') as fp4:\n",
    "    pickle.dump(similarities_sorted, fp4)"
   ]
  },
  {
   "cell_type": "code",
   "execution_count": 156,
   "metadata": {},
   "outputs": [],
   "source": [
    "with open ('/Users/rosafilgueira/HW-Work/NLS-Fellowship/work/frances/web-app/models/similarities_1ed.txt', 'rb') as fp:\n",
    "    similarities = pickle.load(fp)\n",
    "with open('/Users/rosafilgueira/HW-Work/NLS-Fellowship/work/frances/web-app/models/similarities_sorted_1ed.txt', 'rb') as fp2:\n",
    "    similarities_sorted = pickle.load(fp2)"
   ]
  },
  {
   "cell_type": "code",
   "execution_count": 157,
   "metadata": {},
   "outputs": [],
   "source": [
    "id_1 = []\n",
    "id_2 = []\n",
    "score = []\n",
    "for index,array in enumerate(similarities_sorted):\n",
    "    id_1.append(index)\n",
    "    id_2.append(array[-2])\n",
    "    score.append(similarities[index][array[-2]])\n",
    "index_df = pd.DataFrame({'id_1' : id_1,\n",
    "                          'id_2' : id_2,\n",
    "                          'score' : score})"
   ]
  },
  {
   "cell_type": "code",
   "execution_count": 13,
   "metadata": {},
   "outputs": [
    {
     "data": {
      "text/html": [
       "<div>\n",
       "<style scoped>\n",
       "    .dataframe tbody tr th:only-of-type {\n",
       "        vertical-align: middle;\n",
       "    }\n",
       "\n",
       "    .dataframe tbody tr th {\n",
       "        vertical-align: top;\n",
       "    }\n",
       "\n",
       "    .dataframe thead th {\n",
       "        text-align: right;\n",
       "    }\n",
       "</style>\n",
       "<table border=\"1\" class=\"dataframe\">\n",
       "  <thead>\n",
       "    <tr style=\"text-align: right;\">\n",
       "      <th></th>\n",
       "      <th>id_1</th>\n",
       "      <th>id_2</th>\n",
       "      <th>score</th>\n",
       "    </tr>\n",
       "  </thead>\n",
       "  <tbody>\n",
       "    <tr>\n",
       "      <th>0</th>\n",
       "      <td>0</td>\n",
       "      <td>7527</td>\n",
       "      <td>1.000000</td>\n",
       "    </tr>\n",
       "    <tr>\n",
       "      <th>1</th>\n",
       "      <td>1</td>\n",
       "      <td>12601</td>\n",
       "      <td>0.839797</td>\n",
       "    </tr>\n",
       "    <tr>\n",
       "      <th>2</th>\n",
       "      <td>2</td>\n",
       "      <td>13278</td>\n",
       "      <td>0.811463</td>\n",
       "    </tr>\n",
       "    <tr>\n",
       "      <th>3</th>\n",
       "      <td>3</td>\n",
       "      <td>4239</td>\n",
       "      <td>0.759265</td>\n",
       "    </tr>\n",
       "    <tr>\n",
       "      <th>4</th>\n",
       "      <td>4</td>\n",
       "      <td>55</td>\n",
       "      <td>0.981746</td>\n",
       "    </tr>\n",
       "    <tr>\n",
       "      <th>...</th>\n",
       "      <td>...</td>\n",
       "      <td>...</td>\n",
       "      <td>...</td>\n",
       "    </tr>\n",
       "    <tr>\n",
       "      <th>18112</th>\n",
       "      <td>18112</td>\n",
       "      <td>14396</td>\n",
       "      <td>0.812215</td>\n",
       "    </tr>\n",
       "    <tr>\n",
       "      <th>18113</th>\n",
       "      <td>18113</td>\n",
       "      <td>18068</td>\n",
       "      <td>0.993453</td>\n",
       "    </tr>\n",
       "    <tr>\n",
       "      <th>18114</th>\n",
       "      <td>18114</td>\n",
       "      <td>8133</td>\n",
       "      <td>0.826090</td>\n",
       "    </tr>\n",
       "    <tr>\n",
       "      <th>18115</th>\n",
       "      <td>18115</td>\n",
       "      <td>9456</td>\n",
       "      <td>0.845296</td>\n",
       "    </tr>\n",
       "    <tr>\n",
       "      <th>18116</th>\n",
       "      <td>18116</td>\n",
       "      <td>18047</td>\n",
       "      <td>0.990574</td>\n",
       "    </tr>\n",
       "  </tbody>\n",
       "</table>\n",
       "<p>18117 rows × 3 columns</p>\n",
       "</div>"
      ],
      "text/plain": [
       "        id_1   id_2     score\n",
       "0          0   7527  1.000000\n",
       "1          1  12601  0.839797\n",
       "2          2  13278  0.811463\n",
       "3          3   4239  0.759265\n",
       "4          4     55  0.981746\n",
       "...      ...    ...       ...\n",
       "18112  18112  14396  0.812215\n",
       "18113  18113  18068  0.993453\n",
       "18114  18114   8133  0.826090\n",
       "18115  18115   9456  0.845296\n",
       "18116  18116  18047  0.990574\n",
       "\n",
       "[18117 rows x 3 columns]"
      ]
     },
     "execution_count": 13,
     "metadata": {},
     "output_type": "execute_result"
    }
   ],
   "source": [
    "index_df"
   ]
  },
  {
   "cell_type": "code",
   "execution_count": 21,
   "metadata": {},
   "outputs": [
    {
     "data": {
      "text/plain": [
       "'a town of Scotland, in the county of Renfrew, six miles west of Glasgow.'"
      ]
     },
     "execution_count": 21,
     "metadata": {},
     "output_type": "execute_result"
    }
   ],
   "source": [
    "documents[7527]"
   ]
  },
  {
   "cell_type": "code",
   "execution_count": 15,
   "metadata": {},
   "outputs": [
    {
     "data": {
      "text/plain": [
       "'a town of Scotland, in the county of Renfrew, six miles west of Glasgow.'"
      ]
     },
     "execution_count": 15,
     "metadata": {},
     "output_type": "execute_result"
    }
   ],
   "source": [
    "documents[7527]"
   ]
  },
  {
   "cell_type": "code",
   "execution_count": 16,
   "metadata": {},
   "outputs": [
    {
     "data": {
      "text/plain": [
       "['https://w3id.org/eb/i/Article/992277653804341_144133903_PAISLEY_0',\n",
       " 'PAISLEY',\n",
       " '1',\n",
       " '1771',\n",
       " '',\n",
       " '3',\n",
       " 'M-Z']"
      ]
     },
     "execution_count": 16,
     "metadata": {},
     "output_type": "execute_result"
    }
   ],
   "source": [
    "terms_info[7527]"
   ]
  },
  {
   "cell_type": "code",
   "execution_count": 124,
   "metadata": {},
   "outputs": [],
   "source": [
    "index_uri=uris.index(\"https://w3id.org/eb/i/Article/9929192893804340_144850368_PAISLEY_0\")"
   ]
  },
  {
   "cell_type": "code",
   "execution_count": 125,
   "metadata": {},
   "outputs": [
    {
     "data": {
      "text/plain": [
       "0"
      ]
     },
     "execution_count": 125,
     "metadata": {},
     "output_type": "execute_result"
    }
   ],
   "source": [
    "index_uri"
   ]
  },
  {
   "cell_type": "code",
   "execution_count": 129,
   "metadata": {},
   "outputs": [],
   "source": [
    "results={}\n",
    "for i in range(-2, -12, -1):\n",
    "    similar_index=similarities_sorted[index_uri][i]\n",
    "    rank=similarities[index_uri][similar_index]\n",
    "    results[uris[similar_index]]=[terms_info[similar_index][1],terms_info[similar_index][2], terms_info[similar_index][4], terms_info[similar_index][0], documents[similar_index], rank]\n",
    "    \n",
    "    \n",
    "    \n",
    "#terms_info.append([r[\"term\"][\"value\"], r[\"enum\"][\"value\"], r[\"year\"][\"value\"], \"\" , r[\"vnum\"][\"value\"], r[\"letters\"][\"value\"]])\n",
    "#[r_enum, r_year, r_vnum, r_term, r_definition, rank]"
   ]
  },
  {
   "cell_type": "code",
   "execution_count": 130,
   "metadata": {},
   "outputs": [
    {
     "data": {
      "text/plain": [
       "{'https://w3id.org/eb/i/Article/992277653804341_144133903_PAISLEY_0': ['1',\n",
       "  '1771',\n",
       "  '3',\n",
       "  'PAISLEY',\n",
       "  'a town of Scotland, in the county of Renfrew, six miles west of Glasgow.',\n",
       "  1.0],\n",
       " 'https://w3id.org/eb/i/Article/992277653804341_144133902_DUNS_0': ['1',\n",
       "  '1771',\n",
       "  '2',\n",
       "  'DUNS',\n",
       "  'a market-town of Scotland, twelve miles west of Berwick upon Tweed.',\n",
       "  0.8980824],\n",
       " 'https://w3id.org/eb/i/Article/9929192893804340_144850367_DUNS_0': ['1',\n",
       "  '1773',\n",
       "  '2',\n",
       "  'DUNS',\n",
       "  'a market-town of Scotland, twelve miles west of Berwick upon Tweed.',\n",
       "  0.8980824],\n",
       " 'https://w3id.org/eb/i/Article/9929192893804340_144850367_CULROSS_0': ['1',\n",
       "  '1773',\n",
       "  '2',\n",
       "  'CULROSS',\n",
       "  \"a parliament town of Scotland, situated on the river Forth, about twenty-three miles north-west of Edinburgh : W. long. 3 0 34', and N. lat. 56°\",\n",
       "  0.8631866],\n",
       " 'https://w3id.org/eb/i/Article/992277653804341_144133902_CULROSS_0': ['1',\n",
       "  '1771',\n",
       "  '2',\n",
       "  'CULROSS',\n",
       "  \"a parliament town of Scotland, situated on the river Forth, about twenty-three miles north-west of Edinburgh : W. long. 3 0 34', and N. lat. 56° 8'.\",\n",
       "  0.85761297],\n",
       " 'https://w3id.org/eb/i/Article/9929192893804340_144850368_WIGTOWN_0': ['1',\n",
       "  '1773',\n",
       "  '3',\n",
       "  'WIGTOWN',\n",
       "  'a borough and port-town of Scotland, in the Ihire of Gallo -ay, situated on a bay of the Irish channel, ninety miles (oath-west of Edinburgh.',\n",
       "  0.85400856],\n",
       " 'https://w3id.org/eb/i/Article/9929192893804340_144850367_ELGIN_0': ['1',\n",
       "  '1773',\n",
       "  '2',\n",
       "  'ELGIN',\n",
       "  \"the capital of the county of Murray, in Scotland, situated on the river Lofey, about six miles north of the Spey: W. long. 2° 25', N. lat. 57 0 40.\",\n",
       "  0.84529567],\n",
       " 'https://w3id.org/eb/i/Article/9929192893804340_144850368_RENFREW_0': ['1',\n",
       "  '1773',\n",
       "  '3',\n",
       "  'RENFREW',\n",
       "  'a town of Scotland, the captital of the county of Renfrew, situated on the river Clyde, forty-six miles we R of Edinburgh.',\n",
       "  0.8433579],\n",
       " 'https://w3id.org/eb/i/Article/9929192893804340_144850367_EYEMOUTH_0': ['1',\n",
       "  '1773',\n",
       "  '2',\n",
       "  'EYEMOUTH',\n",
       "  'or Aymouth, a port-town of Scotland, about six miles north of Berwick.',\n",
       "  0.8404068],\n",
       " 'https://w3id.org/eb/i/Article/992277653804341_144133902_ELGIN_0': ['1',\n",
       "  '1771',\n",
       "  '2',\n",
       "  'ELGIN',\n",
       "  \"the capital of the county of Murray, in Scotland, situated on the river Lofey, about six miles north of the Spey : W. long. 2 0 25', N. lat. 5 7 0 40.\",\n",
       "  0.8383026]}"
      ]
     },
     "execution_count": 130,
     "metadata": {},
     "output_type": "execute_result"
    }
   ],
   "source": [
    "results"
   ]
  },
  {
   "cell_type": "code",
   "execution_count": null,
   "metadata": {},
   "outputs": [],
   "source": []
  }
 ],
 "metadata": {
  "kernelspec": {
   "display_name": "Python 3",
   "language": "python",
   "name": "python3"
  },
  "language_info": {
   "codemirror_mode": {
    "name": "ipython",
    "version": 3
   },
   "file_extension": ".py",
   "mimetype": "text/x-python",
   "name": "python",
   "nbconvert_exporter": "python",
   "pygments_lexer": "ipython3",
   "version": "3.7.2"
  }
 },
 "nbformat": 4,
 "nbformat_minor": 2
}
