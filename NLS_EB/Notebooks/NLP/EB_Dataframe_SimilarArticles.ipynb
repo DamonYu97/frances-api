{
 "cells": [
  {
   "cell_type": "markdown",
   "metadata": {},
   "source": [
    "# Exploring Terms in the Encyclopaedia Britannica\n",
    "\n",
    "## Similar terms within an edition - Gensim - Doc2Vec\n",
    "\n",
    "In this notebook we are going to find similar articles/terms with the dataframe that we have obtained either with the posprocess_eb.py script or Merging_EB_Terms.ipynb notebooks. Both methods obtain the same dataframe. \n",
    "\n",
    "We have selected the first Edition for this explorations, but we can run this notebook with any of the other editions.\n",
    "\n",
    "**Remark**: Edition 1, has 3 volumes, and it was printed twice, in 1771 and 1773. \n",
    "\n",
    "These are the explorations that we are going to do:\n",
    "- Create a new dataframe selecting just the first 100 elements of the first vol of 1771. This is the df that we are going to use for the rest of this notebook.\n",
    "- Create a training corpus with the previous dataframe\n",
    "- Create a doc2vec model with the training corpus\n",
    "- Saving the model to disk\n",
    "- Testing the model - using the term ABACUS. \n",
    "\n"
   ]
  },
  {
   "cell_type": "markdown",
   "metadata": {},
   "source": [
    "### Loading the necessary libraries"
   ]
  },
  {
   "cell_type": "code",
   "execution_count": 1,
   "metadata": {},
   "outputs": [],
   "source": [
    "import yaml\n",
    "import matplotlib.pyplot as plt\n",
    "import numpy as np\n",
    "import collections\n",
    "import matplotlib as mpl"
   ]
  },
  {
   "cell_type": "code",
   "execution_count": 2,
   "metadata": {},
   "outputs": [],
   "source": [
    "import networkx as nx\n",
    "import matplotlib.pyplot as plt"
   ]
  },
  {
   "cell_type": "code",
   "execution_count": 3,
   "metadata": {},
   "outputs": [],
   "source": [
    "import pandas as pd\n",
    "from yaml import safe_load\n",
    "from pandas.io.json import json_normalize"
   ]
  },
  {
   "cell_type": "code",
   "execution_count": 4,
   "metadata": {},
   "outputs": [],
   "source": [
    "import gensim\n",
    "from gensim.models.doc2vec import Doc2Vec"
   ]
  },
  {
   "cell_type": "code",
   "execution_count": 5,
   "metadata": {},
   "outputs": [
    {
     "name": "stderr",
     "output_type": "stream",
     "text": [
      "/anaconda3/envs/mypython3/lib/python3.7/site-packages/tensorflow/python/framework/dtypes.py:516: FutureWarning: Passing (type, 1) or '1type' as a synonym of type is deprecated; in a future version of numpy, it will be understood as (type, (1,)) / '(1,)type'.\n",
      "  _np_qint8 = np.dtype([(\"qint8\", np.int8, 1)])\n",
      "/anaconda3/envs/mypython3/lib/python3.7/site-packages/tensorflow/python/framework/dtypes.py:517: FutureWarning: Passing (type, 1) or '1type' as a synonym of type is deprecated; in a future version of numpy, it will be understood as (type, (1,)) / '(1,)type'.\n",
      "  _np_quint8 = np.dtype([(\"quint8\", np.uint8, 1)])\n",
      "/anaconda3/envs/mypython3/lib/python3.7/site-packages/tensorflow/python/framework/dtypes.py:518: FutureWarning: Passing (type, 1) or '1type' as a synonym of type is deprecated; in a future version of numpy, it will be understood as (type, (1,)) / '(1,)type'.\n",
      "  _np_qint16 = np.dtype([(\"qint16\", np.int16, 1)])\n",
      "/anaconda3/envs/mypython3/lib/python3.7/site-packages/tensorflow/python/framework/dtypes.py:519: FutureWarning: Passing (type, 1) or '1type' as a synonym of type is deprecated; in a future version of numpy, it will be understood as (type, (1,)) / '(1,)type'.\n",
      "  _np_quint16 = np.dtype([(\"quint16\", np.uint16, 1)])\n",
      "/anaconda3/envs/mypython3/lib/python3.7/site-packages/tensorflow/python/framework/dtypes.py:520: FutureWarning: Passing (type, 1) or '1type' as a synonym of type is deprecated; in a future version of numpy, it will be understood as (type, (1,)) / '(1,)type'.\n",
      "  _np_qint32 = np.dtype([(\"qint32\", np.int32, 1)])\n",
      "/anaconda3/envs/mypython3/lib/python3.7/site-packages/tensorflow/python/framework/dtypes.py:525: FutureWarning: Passing (type, 1) or '1type' as a synonym of type is deprecated; in a future version of numpy, it will be understood as (type, (1,)) / '(1,)type'.\n",
      "  np_resource = np.dtype([(\"resource\", np.ubyte, 1)])\n",
      "/anaconda3/envs/mypython3/lib/python3.7/site-packages/tensorboard/compat/tensorflow_stub/dtypes.py:541: FutureWarning: Passing (type, 1) or '1type' as a synonym of type is deprecated; in a future version of numpy, it will be understood as (type, (1,)) / '(1,)type'.\n",
      "  _np_qint8 = np.dtype([(\"qint8\", np.int8, 1)])\n",
      "/anaconda3/envs/mypython3/lib/python3.7/site-packages/tensorboard/compat/tensorflow_stub/dtypes.py:542: FutureWarning: Passing (type, 1) or '1type' as a synonym of type is deprecated; in a future version of numpy, it will be understood as (type, (1,)) / '(1,)type'.\n",
      "  _np_quint8 = np.dtype([(\"quint8\", np.uint8, 1)])\n",
      "/anaconda3/envs/mypython3/lib/python3.7/site-packages/tensorboard/compat/tensorflow_stub/dtypes.py:543: FutureWarning: Passing (type, 1) or '1type' as a synonym of type is deprecated; in a future version of numpy, it will be understood as (type, (1,)) / '(1,)type'.\n",
      "  _np_qint16 = np.dtype([(\"qint16\", np.int16, 1)])\n",
      "/anaconda3/envs/mypython3/lib/python3.7/site-packages/tensorboard/compat/tensorflow_stub/dtypes.py:544: FutureWarning: Passing (type, 1) or '1type' as a synonym of type is deprecated; in a future version of numpy, it will be understood as (type, (1,)) / '(1,)type'.\n",
      "  _np_quint16 = np.dtype([(\"quint16\", np.uint16, 1)])\n",
      "/anaconda3/envs/mypython3/lib/python3.7/site-packages/tensorboard/compat/tensorflow_stub/dtypes.py:545: FutureWarning: Passing (type, 1) or '1type' as a synonym of type is deprecated; in a future version of numpy, it will be understood as (type, (1,)) / '(1,)type'.\n",
      "  _np_qint32 = np.dtype([(\"qint32\", np.int32, 1)])\n",
      "/anaconda3/envs/mypython3/lib/python3.7/site-packages/tensorboard/compat/tensorflow_stub/dtypes.py:550: FutureWarning: Passing (type, 1) or '1type' as a synonym of type is deprecated; in a future version of numpy, it will be understood as (type, (1,)) / '(1,)type'.\n",
      "  np_resource = np.dtype([(\"resource\", np.ubyte, 1)])\n"
     ]
    }
   ],
   "source": [
    "from doc2vec_prep import stem_text, clean_text, generate_documents_df"
   ]
  },
  {
   "cell_type": "code",
   "execution_count": 6,
   "metadata": {},
   "outputs": [],
   "source": [
    "from tqdm import tqdm\n",
    "import os\n"
   ]
  },
  {
   "cell_type": "markdown",
   "metadata": {},
   "source": [
    "#### Hyperparameters"
   ]
  },
  {
   "cell_type": "code",
   "execution_count": 7,
   "metadata": {},
   "outputs": [],
   "source": [
    "# Init the Doc2Vec model\n",
    "hyperparams  = {\n",
    "    'dm': 1,\n",
    "    'vector_size': 300,\n",
    "    'window': 5,\n",
    "    'alpha': 0.025,\n",
    "    'min_alpha': 0.00025,\n",
    "    'min_count': 2,\n",
    "    'workers': 8\n",
    "}"
   ]
  },
  {
   "cell_type": "markdown",
   "metadata": {},
   "source": [
    "### Functions"
   ]
  },
  {
   "cell_type": "code",
   "execution_count": 8,
   "metadata": {},
   "outputs": [],
   "source": [
    "def get_document(df, index):\n",
    "    print(\"INDEX IS %s\" %index)\n",
    "    term = df.loc[index][\"term\"]\n",
    "    definition = df.loc[index][\"definition\"]\n",
    "    return term, definition"
   ]
  },
  {
   "cell_type": "code",
   "execution_count": 9,
   "metadata": {},
   "outputs": [],
   "source": [
    "def most_similar(model, text, clean_func=clean_text, topn=None):\n",
    "    vector = model.infer_vector(clean_func(text), epochs=100, alpha=model.alpha, min_alpha=model.min_alpha)\n",
    "    simdocs = model.docvecs.most_similar(positive=[vector], topn=topn)\n",
    "    return simdocs"
   ]
  },
  {
   "cell_type": "code",
   "execution_count": 10,
   "metadata": {},
   "outputs": [],
   "source": [
    "def load_model(filename):\n",
    "    try:\n",
    "        return Doc2Vec.load(os.path.join(MODEL_PATH, filename), mmap='r')\n",
    "    except:\n",
    "        return None\n"
   ]
  },
  {
   "cell_type": "markdown",
   "metadata": {},
   "source": [
    "## We have dataframe with these columns\n",
    "\n",
    "- definition:           Definition of a term\n",
    "- editionNum:           1,2,3,4,5,6,7,8\n",
    "- editionTitle:         Title of the edition\n",
    "- header:               Header of the page's term                                  \n",
    "- place:                Place where the volume was edited (e.g. Edinburgh)                                    \n",
    "- relatedTerms:         Related terms (see X article)  \n",
    "- altoXML:              File Path of the XML file from which the term belongs       \n",
    "- term:                 Term name                            \n",
    "- positionPage:         Position of ther term in the page     \n",
    "- startsAt:             Number page in which the term definition starts \n",
    "- endsAt:               Number page in which the term definition ends \n",
    "- volumeTitle:          Title of the Volume\n",
    "- typeTerm:             Type of term [Topic| Articles]                                       \n",
    "- year:                 Year of the edition\n",
    "- volumeNum:            Volume number (e.g. 1)\n",
    "- letters:              leters of the volume (A-B)\n",
    "- part:                 Part of the volume (e.g 1)\n",
    "- supplement:           Supplement's Title\n",
    "- supplementsTo:        It suppelements to editions [1, 2, 3....]\n",
    "- numberOfWords:        Number of words per term definition\n",
    "- numberOfTerms:        Number of terms per page\n",
    "- numberOfPages:        Number of pages per volume"
   ]
  },
  {
   "cell_type": "markdown",
   "metadata": {},
   "source": [
    "### 1. Load dataframe from JSON file"
   ]
  },
  {
   "cell_type": "code",
   "execution_count": 11,
   "metadata": {},
   "outputs": [],
   "source": [
    "df = pd.read_json('../../results_NLS/results_eb_1_edition_dataframe', orient=\"index\") "
   ]
  },
  {
   "cell_type": "markdown",
   "metadata": {},
   "source": [
    "Now we are going to oder the columns of our dataframe and visualise it. "
   ]
  },
  {
   "cell_type": "code",
   "execution_count": 12,
   "metadata": {},
   "outputs": [
    {
     "data": {
      "text/html": [
       "<div>\n",
       "<style scoped>\n",
       "    .dataframe tbody tr th:only-of-type {\n",
       "        vertical-align: middle;\n",
       "    }\n",
       "\n",
       "    .dataframe tbody tr th {\n",
       "        vertical-align: top;\n",
       "    }\n",
       "\n",
       "    .dataframe thead th {\n",
       "        text-align: right;\n",
       "    }\n",
       "</style>\n",
       "<table border=\"1\" class=\"dataframe\">\n",
       "  <thead>\n",
       "    <tr style=\"text-align: right;\">\n",
       "      <th></th>\n",
       "      <th>term</th>\n",
       "      <th>definition</th>\n",
       "      <th>relatedTerms</th>\n",
       "      <th>header</th>\n",
       "      <th>startsAt</th>\n",
       "      <th>endsAt</th>\n",
       "      <th>numberOfTerms</th>\n",
       "      <th>numberOfWords</th>\n",
       "      <th>numberOfPages</th>\n",
       "      <th>positionPage</th>\n",
       "      <th>...</th>\n",
       "      <th>editionNum</th>\n",
       "      <th>supplementTitle</th>\n",
       "      <th>supplementsTo</th>\n",
       "      <th>year</th>\n",
       "      <th>place</th>\n",
       "      <th>volumeTitle</th>\n",
       "      <th>volumeNum</th>\n",
       "      <th>letters</th>\n",
       "      <th>part</th>\n",
       "      <th>altoXML</th>\n",
       "    </tr>\n",
       "  </thead>\n",
       "  <tbody>\n",
       "    <tr>\n",
       "      <th>0</th>\n",
       "      <td>OR</td>\n",
       "      <td>A NEW A D I C T I A A, the name of several riv...</td>\n",
       "      <td>[]</td>\n",
       "      <td>EBAA</td>\n",
       "      <td>15</td>\n",
       "      <td>15</td>\n",
       "      <td>22</td>\n",
       "      <td>54</td>\n",
       "      <td>832</td>\n",
       "      <td>0</td>\n",
       "      <td>...</td>\n",
       "      <td>1</td>\n",
       "      <td></td>\n",
       "      <td>[]</td>\n",
       "      <td>1771</td>\n",
       "      <td>Edinburgh</td>\n",
       "      <td>Encyclopaedia Britannica; or, A dictionary of ...</td>\n",
       "      <td>1</td>\n",
       "      <td>A-B</td>\n",
       "      <td>0</td>\n",
       "      <td>144133901/alto/188082904.34.xml</td>\n",
       "    </tr>\n",
       "    <tr>\n",
       "      <th>1</th>\n",
       "      <td>AABAM</td>\n",
       "      <td>a term, among alchemifts, for lead,</td>\n",
       "      <td>[]</td>\n",
       "      <td>EBAA</td>\n",
       "      <td>15</td>\n",
       "      <td>15</td>\n",
       "      <td>22</td>\n",
       "      <td>6</td>\n",
       "      <td>832</td>\n",
       "      <td>1</td>\n",
       "      <td>...</td>\n",
       "      <td>1</td>\n",
       "      <td></td>\n",
       "      <td>[]</td>\n",
       "      <td>1771</td>\n",
       "      <td>Edinburgh</td>\n",
       "      <td>Encyclopaedia Britannica; or, A dictionary of ...</td>\n",
       "      <td>1</td>\n",
       "      <td>A-B</td>\n",
       "      <td>0</td>\n",
       "      <td>144133901/alto/188082904.34.xml</td>\n",
       "    </tr>\n",
       "    <tr>\n",
       "      <th>2</th>\n",
       "      <td>AACH</td>\n",
       "      <td>the name of a town and river in Swabia. It is ...</td>\n",
       "      <td>[]</td>\n",
       "      <td>EBAA</td>\n",
       "      <td>15</td>\n",
       "      <td>15</td>\n",
       "      <td>22</td>\n",
       "      <td>17</td>\n",
       "      <td>832</td>\n",
       "      <td>2</td>\n",
       "      <td>...</td>\n",
       "      <td>1</td>\n",
       "      <td></td>\n",
       "      <td>[]</td>\n",
       "      <td>1771</td>\n",
       "      <td>Edinburgh</td>\n",
       "      <td>Encyclopaedia Britannica; or, A dictionary of ...</td>\n",
       "      <td>1</td>\n",
       "      <td>A-B</td>\n",
       "      <td>0</td>\n",
       "      <td>144133901/alto/188082904.34.xml</td>\n",
       "    </tr>\n",
       "    <tr>\n",
       "      <th>3</th>\n",
       "      <td>AADE</td>\n",
       "      <td>the name of two rivers, one in the country of ...</td>\n",
       "      <td>[]</td>\n",
       "      <td>EBAA</td>\n",
       "      <td>15</td>\n",
       "      <td>15</td>\n",
       "      <td>22</td>\n",
       "      <td>19</td>\n",
       "      <td>832</td>\n",
       "      <td>3</td>\n",
       "      <td>...</td>\n",
       "      <td>1</td>\n",
       "      <td></td>\n",
       "      <td>[]</td>\n",
       "      <td>1771</td>\n",
       "      <td>Edinburgh</td>\n",
       "      <td>Encyclopaedia Britannica; or, A dictionary of ...</td>\n",
       "      <td>1</td>\n",
       "      <td>A-B</td>\n",
       "      <td>0</td>\n",
       "      <td>144133901/alto/188082904.34.xml</td>\n",
       "    </tr>\n",
       "    <tr>\n",
       "      <th>4</th>\n",
       "      <td>AAHUS</td>\n",
       "      <td>a small town and diftrift in Weftphalia.</td>\n",
       "      <td>[]</td>\n",
       "      <td>EBAA</td>\n",
       "      <td>15</td>\n",
       "      <td>15</td>\n",
       "      <td>22</td>\n",
       "      <td>7</td>\n",
       "      <td>832</td>\n",
       "      <td>4</td>\n",
       "      <td>...</td>\n",
       "      <td>1</td>\n",
       "      <td></td>\n",
       "      <td>[]</td>\n",
       "      <td>1771</td>\n",
       "      <td>Edinburgh</td>\n",
       "      <td>Encyclopaedia Britannica; or, A dictionary of ...</td>\n",
       "      <td>1</td>\n",
       "      <td>A-B</td>\n",
       "      <td>0</td>\n",
       "      <td>144133901/alto/188082904.34.xml</td>\n",
       "    </tr>\n",
       "    <tr>\n",
       "      <th>...</th>\n",
       "      <td>...</td>\n",
       "      <td>...</td>\n",
       "      <td>...</td>\n",
       "      <td>...</td>\n",
       "      <td>...</td>\n",
       "      <td>...</td>\n",
       "      <td>...</td>\n",
       "      <td>...</td>\n",
       "      <td>...</td>\n",
       "      <td>...</td>\n",
       "      <td>...</td>\n",
       "      <td>...</td>\n",
       "      <td>...</td>\n",
       "      <td>...</td>\n",
       "      <td>...</td>\n",
       "      <td>...</td>\n",
       "      <td>...</td>\n",
       "      <td>...</td>\n",
       "      <td>...</td>\n",
       "      <td>...</td>\n",
       "      <td>...</td>\n",
       "    </tr>\n",
       "    <tr>\n",
       "      <th>18112</th>\n",
       "      <td>ZAFFER</td>\n",
       "      <td>01 Zafre, in chemistry, the name of a blue fuf...</td>\n",
       "      <td>[]</td>\n",
       "      <td>YOAYUC</td>\n",
       "      <td>855</td>\n",
       "      <td>855</td>\n",
       "      <td>14</td>\n",
       "      <td>57</td>\n",
       "      <td>864</td>\n",
       "      <td>10</td>\n",
       "      <td>...</td>\n",
       "      <td>1</td>\n",
       "      <td></td>\n",
       "      <td>[]</td>\n",
       "      <td>1773</td>\n",
       "      <td>London</td>\n",
       "      <td>Encyclopaedia Britannica: or, A dictionary of ...</td>\n",
       "      <td>3</td>\n",
       "      <td>M-Z</td>\n",
       "      <td>0</td>\n",
       "      <td>144850368/alto/188374994.34.xml</td>\n",
       "    </tr>\n",
       "    <tr>\n",
       "      <th>18113</th>\n",
       "      <td>ZAMORA</td>\n",
       "      <td>antyof Spain in the province of Leon, fituater...</td>\n",
       "      <td>[]</td>\n",
       "      <td>YOAYUC</td>\n",
       "      <td>855</td>\n",
       "      <td>855</td>\n",
       "      <td>14</td>\n",
       "      <td>31</td>\n",
       "      <td>864</td>\n",
       "      <td>11</td>\n",
       "      <td>...</td>\n",
       "      <td>1</td>\n",
       "      <td></td>\n",
       "      <td>[]</td>\n",
       "      <td>1773</td>\n",
       "      <td>London</td>\n",
       "      <td>Encyclopaedia Britannica: or, A dictionary of ...</td>\n",
       "      <td>3</td>\n",
       "      <td>M-Z</td>\n",
       "      <td>0</td>\n",
       "      <td>144850368/alto/188374994.34.xml</td>\n",
       "    </tr>\n",
       "    <tr>\n",
       "      <th>18114</th>\n",
       "      <td>ZANGUEB</td>\n",
       "      <td>AR a country on the east coast of Africa, situ...</td>\n",
       "      <td>[]</td>\n",
       "      <td>YOAYUC</td>\n",
       "      <td>855</td>\n",
       "      <td>855</td>\n",
       "      <td>14</td>\n",
       "      <td>54</td>\n",
       "      <td>864</td>\n",
       "      <td>12</td>\n",
       "      <td>...</td>\n",
       "      <td>1</td>\n",
       "      <td></td>\n",
       "      <td>[]</td>\n",
       "      <td>1773</td>\n",
       "      <td>London</td>\n",
       "      <td>Encyclopaedia Britannica: or, A dictionary of ...</td>\n",
       "      <td>3</td>\n",
       "      <td>M-Z</td>\n",
       "      <td>0</td>\n",
       "      <td>144850368/alto/188374994.34.xml</td>\n",
       "    </tr>\n",
       "    <tr>\n",
       "      <th>18115</th>\n",
       "      <td>ZANNICHELLIA</td>\n",
       "      <td>in botany, a genus of the monoe ia monandria c...</td>\n",
       "      <td>[]</td>\n",
       "      <td>YOAYUC</td>\n",
       "      <td>855</td>\n",
       "      <td>855</td>\n",
       "      <td>14</td>\n",
       "      <td>56</td>\n",
       "      <td>864</td>\n",
       "      <td>13</td>\n",
       "      <td>...</td>\n",
       "      <td>1</td>\n",
       "      <td></td>\n",
       "      <td>[]</td>\n",
       "      <td>1773</td>\n",
       "      <td>London</td>\n",
       "      <td>Encyclopaedia Britannica: or, A dictionary of ...</td>\n",
       "      <td>3</td>\n",
       "      <td>M-Z</td>\n",
       "      <td>0</td>\n",
       "      <td>144850368/alto/188374994.34.xml</td>\n",
       "    </tr>\n",
       "    <tr>\n",
       "      <th>18116</th>\n",
       "      <td>ZANONIA</td>\n",
       "      <td>inbotany, agenus of thedioecia pemandriaclass....</td>\n",
       "      <td>[]</td>\n",
       "      <td>YOAYUC</td>\n",
       "      <td>855</td>\n",
       "      <td>855</td>\n",
       "      <td>14</td>\n",
       "      <td>43</td>\n",
       "      <td>864</td>\n",
       "      <td>14</td>\n",
       "      <td>...</td>\n",
       "      <td>1</td>\n",
       "      <td></td>\n",
       "      <td>[]</td>\n",
       "      <td>1773</td>\n",
       "      <td>London</td>\n",
       "      <td>Encyclopaedia Britannica: or, A dictionary of ...</td>\n",
       "      <td>3</td>\n",
       "      <td>M-Z</td>\n",
       "      <td>0</td>\n",
       "      <td>144850368/alto/188374994.34.xml</td>\n",
       "    </tr>\n",
       "  </tbody>\n",
       "</table>\n",
       "<p>18117 rows × 22 columns</p>\n",
       "</div>"
      ],
      "text/plain": [
       "               term                                         definition  \\\n",
       "0                OR  A NEW A D I C T I A A, the name of several riv...   \n",
       "1             AABAM                a term, among alchemifts, for lead,   \n",
       "2              AACH  the name of a town and river in Swabia. It is ...   \n",
       "3              AADE  the name of two rivers, one in the country of ...   \n",
       "4             AAHUS           a small town and diftrift in Weftphalia.   \n",
       "...             ...                                                ...   \n",
       "18112        ZAFFER  01 Zafre, in chemistry, the name of a blue fuf...   \n",
       "18113        ZAMORA  antyof Spain in the province of Leon, fituater...   \n",
       "18114       ZANGUEB  AR a country on the east coast of Africa, situ...   \n",
       "18115  ZANNICHELLIA  in botany, a genus of the monoe ia monandria c...   \n",
       "18116       ZANONIA  inbotany, agenus of thedioecia pemandriaclass....   \n",
       "\n",
       "      relatedTerms  header  startsAt  endsAt  numberOfTerms  numberOfWords  \\\n",
       "0               []    EBAA        15      15             22             54   \n",
       "1               []    EBAA        15      15             22              6   \n",
       "2               []    EBAA        15      15             22             17   \n",
       "3               []    EBAA        15      15             22             19   \n",
       "4               []    EBAA        15      15             22              7   \n",
       "...            ...     ...       ...     ...            ...            ...   \n",
       "18112           []  YOAYUC       855     855             14             57   \n",
       "18113           []  YOAYUC       855     855             14             31   \n",
       "18114           []  YOAYUC       855     855             14             54   \n",
       "18115           []  YOAYUC       855     855             14             56   \n",
       "18116           []  YOAYUC       855     855             14             43   \n",
       "\n",
       "       numberOfPages  positionPage  ... editionNum supplementTitle  \\\n",
       "0                832             0  ...          1                   \n",
       "1                832             1  ...          1                   \n",
       "2                832             2  ...          1                   \n",
       "3                832             3  ...          1                   \n",
       "4                832             4  ...          1                   \n",
       "...              ...           ...  ...        ...             ...   \n",
       "18112            864            10  ...          1                   \n",
       "18113            864            11  ...          1                   \n",
       "18114            864            12  ...          1                   \n",
       "18115            864            13  ...          1                   \n",
       "18116            864            14  ...          1                   \n",
       "\n",
       "       supplementsTo  year      place  \\\n",
       "0                 []  1771  Edinburgh   \n",
       "1                 []  1771  Edinburgh   \n",
       "2                 []  1771  Edinburgh   \n",
       "3                 []  1771  Edinburgh   \n",
       "4                 []  1771  Edinburgh   \n",
       "...              ...   ...        ...   \n",
       "18112             []  1773     London   \n",
       "18113             []  1773     London   \n",
       "18114             []  1773     London   \n",
       "18115             []  1773     London   \n",
       "18116             []  1773     London   \n",
       "\n",
       "                                             volumeTitle volumeNum letters  \\\n",
       "0      Encyclopaedia Britannica; or, A dictionary of ...         1     A-B   \n",
       "1      Encyclopaedia Britannica; or, A dictionary of ...         1     A-B   \n",
       "2      Encyclopaedia Britannica; or, A dictionary of ...         1     A-B   \n",
       "3      Encyclopaedia Britannica; or, A dictionary of ...         1     A-B   \n",
       "4      Encyclopaedia Britannica; or, A dictionary of ...         1     A-B   \n",
       "...                                                  ...       ...     ...   \n",
       "18112  Encyclopaedia Britannica: or, A dictionary of ...         3     M-Z   \n",
       "18113  Encyclopaedia Britannica: or, A dictionary of ...         3     M-Z   \n",
       "18114  Encyclopaedia Britannica: or, A dictionary of ...         3     M-Z   \n",
       "18115  Encyclopaedia Britannica: or, A dictionary of ...         3     M-Z   \n",
       "18116  Encyclopaedia Britannica: or, A dictionary of ...         3     M-Z   \n",
       "\n",
       "       part                          altoXML  \n",
       "0         0  144133901/alto/188082904.34.xml  \n",
       "1         0  144133901/alto/188082904.34.xml  \n",
       "2         0  144133901/alto/188082904.34.xml  \n",
       "3         0  144133901/alto/188082904.34.xml  \n",
       "4         0  144133901/alto/188082904.34.xml  \n",
       "...     ...                              ...  \n",
       "18112     0  144850368/alto/188374994.34.xml  \n",
       "18113     0  144850368/alto/188374994.34.xml  \n",
       "18114     0  144850368/alto/188374994.34.xml  \n",
       "18115     0  144850368/alto/188374994.34.xml  \n",
       "18116     0  144850368/alto/188374994.34.xml  \n",
       "\n",
       "[18117 rows x 22 columns]"
      ]
     },
     "execution_count": 12,
     "metadata": {},
     "output_type": "execute_result"
    }
   ],
   "source": [
    "df = df[[\"term\", \"definition\", \"relatedTerms\", \"header\", \"startsAt\", \"endsAt\", \"numberOfTerms\",\"numberOfWords\", \"numberOfPages\", \\\n",
    "             \"positionPage\", \"typeTerm\", \"editionTitle\", \"editionNum\", \"supplementTitle\", \"supplementsTo\",\\\n",
    "             \"year\", \"place\", \"volumeTitle\", \"volumeNum\", \"letters\", \"part\", \"altoXML\"]].reset_index(drop=True)\n",
    "\n",
    "df\n"
   ]
  },
  {
   "cell_type": "markdown",
   "metadata": {},
   "source": [
    "### 2.  Selecting just the 100 first elements of  the first volume of 1771"
   ]
  },
  {
   "cell_type": "code",
   "execution_count": 13,
   "metadata": {},
   "outputs": [],
   "source": [
    "df_1771_small = df[(df['year'] == 1771)].reset_index(drop=True)\n",
    "df_1771_small = df_1771_small.head(1000).reset_index(drop=True)\n"
   ]
  },
  {
   "cell_type": "code",
   "execution_count": 14,
   "metadata": {},
   "outputs": [],
   "source": [
    "#df_1771_small"
   ]
  },
  {
   "cell_type": "markdown",
   "metadata": {},
   "source": [
    "### 2.1 Counting the number of terms"
   ]
  },
  {
   "cell_type": "markdown",
   "metadata": {},
   "source": [
    "**Remember**: A term can appear in more than once  per eddition. "
   ]
  },
  {
   "cell_type": "code",
   "execution_count": 15,
   "metadata": {},
   "outputs": [
    {
     "data": {
      "text/plain": [
       "1000"
      ]
     },
     "execution_count": 15,
     "metadata": {},
     "output_type": "execute_result"
    }
   ],
   "source": [
    "len(df_1771_small)"
   ]
  },
  {
   "cell_type": "markdown",
   "metadata": {},
   "source": [
    "### 3. Creating Document embeddings\n",
    "\n",
    "\n",
    "Document Embeddings (doc2vec), an unsupervised method for learning vector representations for variable-length pieces of texts such as sentences and document. We have used the gensim Python Library  to create a document embedding model, using the term and definition information of the **df_1771_small**, which only has 100 elements. \n",
    "\n"
   ]
  },
  {
   "cell_type": "markdown",
   "metadata": {},
   "source": [
    "#### 3.1 Train Corpus\n",
    "\n",
    "First we have to create a training corpus (train_documents) with the elements of the **df_1771_small**. We are going to use only the information of **term** and **definition** text, to create our \"text\" per row of this dataframe. Furthermore, we are going to clean this dataset, by applying a serie of transformations (removing stop words, normalise, tokenize,  etc.). We are going to select the text that has a minimum length of 5 words. "
   ]
  },
  {
   "cell_type": "code",
   "execution_count": 16,
   "metadata": {},
   "outputs": [
    {
     "name": "stderr",
     "output_type": "stream",
     "text": [
      "14it [00:00, 36.02it/s]"
     ]
    },
    {
     "name": "stdout",
     "output_type": "stream",
     "text": [
      "Preprocessing function: clean_text\n",
      "Minimum document length: 5 words\n"
     ]
    },
    {
     "name": "stderr",
     "output_type": "stream",
     "text": [
      "866it [01:39,  8.71it/s] "
     ]
    },
    {
     "name": "stdout",
     "output_type": "stream",
     "text": [
      "Generated 866 description terms\n"
     ]
    },
    {
     "name": "stderr",
     "output_type": "stream",
     "text": [
      "\n"
     ]
    }
   ],
   "source": [
    "train_documents = list(tqdm(generate_documents_df(df_1771_small, clean_text, min_words=5)))\n",
    "#train_documents = list(tqdm(generate_documents_df(df_1771_small, stem_text, min_words=5)))"
   ]
  },
  {
   "cell_type": "markdown",
   "metadata": {},
   "source": [
    "#### 3.2 Creating the model\n",
    "\n",
    "Once we have created our trained corpus, we are going to create our model. In this step we are going to create a document embedding per element in our training corpus. "
   ]
  },
  {
   "cell_type": "code",
   "execution_count": 17,
   "metadata": {},
   "outputs": [
    {
     "name": "stdout",
     "output_type": "stream",
     "text": [
      "Created 866 tagged documents.\n",
      "Build vocabulary\n"
     ]
    }
   ],
   "source": [
    "print(f'Created {len(train_documents)} tagged documents.')\n",
    "model = Doc2Vec(**hyperparams)\n",
    "print('Build vocabulary')\n",
    "model.build_vocab(train_documents)\n",
    "for epoch in range(100):\n",
    "    #print(f'Train model: epoch={epoch}')\n",
    "    model.train(train_documents, total_examples=model.corpus_count, epochs=1)\n",
    "    model.alpha -= 0.0002\n",
    "    model.min_alpha = model.alpha"
   ]
  },
  {
   "cell_type": "markdown",
   "metadata": {},
   "source": [
    "#### 3.3 Saving the model to disk"
   ]
  },
  {
   "cell_type": "code",
   "execution_count": 18,
   "metadata": {},
   "outputs": [
    {
     "name": "stdout",
     "output_type": "stream",
     "text": [
      "Saved model to ../../results_NLS/doc2vec_df_1771_small.model\n"
     ]
    }
   ],
   "source": [
    "# Save the model\n",
    "model_path = os.path.join(\"../../results_NLS/\", 'doc2vec_df_1771_small.model')\n",
    "model.save(model_path)\n",
    "print(f'Saved model to {model_path}')"
   ]
  },
  {
   "cell_type": "markdown",
   "metadata": {},
   "source": [
    "#### 3.5 Obtaining a list of elements in "
   ]
  },
  {
   "cell_type": "code",
   "execution_count": 19,
   "metadata": {},
   "outputs": [],
   "source": [
    "list_of_terms=df_1771_small[\"term\"].to_list()\n",
    "#list_of_terms"
   ]
  },
  {
   "cell_type": "markdown",
   "metadata": {},
   "source": [
    "#### 3.4 Testing the model - Similar Terms\n",
    "\n",
    "Selecting the defintion of term alchohol, which is position 7 inside **df_1771_small**. "
   ]
  },
  {
   "cell_type": "code",
   "execution_count": 20,
   "metadata": {},
   "outputs": [
    {
     "data": {
      "text/plain": [
       "'ABACUS'"
      ]
     },
     "execution_count": 20,
     "metadata": {},
     "output_type": "execute_result"
    }
   ],
   "source": [
    "term=df_1771_small.loc[22][\"term\"]\n",
    "term"
   ]
  },
  {
   "cell_type": "code",
   "execution_count": 21,
   "metadata": {},
   "outputs": [
    {
     "data": {
      "text/plain": [
       "'is also the name of an ancient instrument for facilitating operations in arithmetic. It is vadoully contrived. That chiefly used in Europe is made by drawing any number of parallel lines at the di(lance of two diameters of one of the counters used in the calculation. A counter placed on.the lowed line, signifies r; on the sd, 10; on the 3d, 100; on the 4th, 1000, &c. In the intermediate spaces, the same counters are eflimated at one Jialf of the value of the line immediately superior, viz. between the id and 2d, 5; between the 2d and 3d, 50, &c. See plate I. fig. 2. A B, where the same number, 1768 for example, is represented under both by different dispositions of the counters.'"
      ]
     },
     "execution_count": 21,
     "metadata": {},
     "output_type": "execute_result"
    }
   ],
   "source": [
    "text=df_1771_small.loc[22][\"definition\"]\n",
    "text"
   ]
  },
  {
   "cell_type": "code",
   "execution_count": 22,
   "metadata": {},
   "outputs": [],
   "source": [
    "#model=load_model('../../results_NLS/doc2vec_df_1771_small.model')\n",
    "cleaned_text = clean_text(term+text)\n",
    "#cleaned_tex = stem_text(text)\n",
    "# Just going to take the firs 5 -- so topn=5\n",
    "simdocs=most_similar(model, text, topn=5)"
   ]
  },
  {
   "cell_type": "code",
   "execution_count": 23,
   "metadata": {
    "scrolled": true
   },
   "outputs": [
    {
     "name": "stdout",
     "output_type": "stream",
     "text": [
      "#### TEST 1 -- Doc2Vec -- Printing the details of the 5 most similar documents using Doc2Vec \n",
      "INDEX IS 22\n",
      "!! Using DocVec --- Document_id: 22 - Rank 0.9339599609375 - Details: Term ABACUS, Definition: is also the name of an ancient instrument for facilitating operations in arithmetic. It is vadoully contrived. That chiefly used in Europe is made by drawing any number of parallel lines at the di(lance of two diameters of one of the counters used in the calculation. A counter placed on.the lowed line, signifies r; on the sd, 10; on the 3d, 100; on the 4th, 1000, &c. In the intermediate spaces, the same counters are eflimated at one Jialf of the value of the line immediately superior, viz. between the id and 2d, 5; between the 2d and 3d, 50, &c. See plate I. fig. 2. A B, where the same number, 1768 for example, is represented under both by different dispositions of the counters.\n",
      "---\n",
      "INDEX IS 832\n",
      "!! Using DocVec --- Document_id: 832 - Rank 0.5845749974250793 - Details: Term ANCESTORS, Definition: those from whom a person is descended in a {freight line.\n",
      "---\n",
      "INDEX IS 226\n",
      "!! Using DocVec --- Document_id: 226 - Rank 0.5572677850723267 - Details: Term ACCOUNT, Definition: or Acco MPT, in a general sense, a computation or Reckoning of any thing by numbers. Coiledtively, it is used to express the books which merchants, traders, bankers, Cc. use for recording their tranfadfions in business. See BOOK-KEEPING.\n",
      "---\n",
      "INDEX IS 915\n",
      "!! Using DocVec --- Document_id: 915 - Rank 0.5546013712882996 - Details: Term ANTIQUE, Definition: in a general sense, something that is ancient : but the term is chiefly used by' fculptors, painters, and architeds, to denote such pieces of their different arts as were made by the aftcient Greeks and Romans. Thus v/e say, an antique bull, an antique\n",
      "---\n",
      "INDEX IS 23\n",
      "!! Using DocVec --- Document_id: 23 - Rank 0.5476149320602417 - Details: Term ABACUS, Definition: logijlicus, a right-angled triangle, whose sides forming the right angle contain the numbers from 1 to 60, and its area the fafta of every two of the numbers perpendicularly opposite. This is also called a canon Jk^&cus Pythagvricus, the multiplication-table, or any table of numbers that facilitates operations in arith-\n",
      "---\n"
     ]
    }
   ],
   "source": [
    "print(\"#### TEST 1 -- Doc2Vec -- Printing the details of the 5 most similar documents using Doc2Vec \")\n",
    "for doc_id , rank in simdocs:\n",
    "    term, definition = get_document(df_1771_small, doc_id)\n",
    "    print(\"!! Using DocVec --- Document_id: %s - Rank %s - Details: Term %s, Definition: %s\" %(doc_id, rank, term, definition))\n",
    "    print(\"---\")"
   ]
  },
  {
   "cell_type": "code",
   "execution_count": null,
   "metadata": {},
   "outputs": [],
   "source": []
  }
 ],
 "metadata": {
  "kernelspec": {
   "display_name": "Python 3",
   "language": "python",
   "name": "python3"
  },
  "language_info": {
   "codemirror_mode": {
    "name": "ipython",
    "version": 3
   },
   "file_extension": ".py",
   "mimetype": "text/x-python",
   "name": "python",
   "nbconvert_exporter": "python",
   "pygments_lexer": "ipython3",
   "version": "3.7.2"
  }
 },
 "nbformat": 4,
 "nbformat_minor": 2
}
