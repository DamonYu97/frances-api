{
 "cells": [
  {
   "cell_type": "markdown",
   "metadata": {},
   "source": [
    "# Exploring Terms in the Encyclopaedia Britannica\n",
    "\n",
    "## Similar terms within an edition - BERT - Transformers\n",
    "\n",
    "\n",
    "https://theaidigest.in/how-to-do-semantic-document-similarity-using-bert/"
   ]
  },
  {
   "cell_type": "markdown",
   "metadata": {},
   "source": [
    "### Loading the necessary libraries"
   ]
  },
  {
   "cell_type": "code",
   "execution_count": 29,
   "metadata": {},
   "outputs": [],
   "source": [
    "import yaml\n",
    "import matplotlib.pyplot as plt\n",
    "import numpy as np\n",
    "import collections\n",
    "import matplotlib as mpl"
   ]
  },
  {
   "cell_type": "code",
   "execution_count": 30,
   "metadata": {},
   "outputs": [],
   "source": [
    "import networkx as nx\n",
    "import matplotlib.pyplot as plt"
   ]
  },
  {
   "cell_type": "code",
   "execution_count": 31,
   "metadata": {},
   "outputs": [],
   "source": [
    "import os"
   ]
  },
  {
   "cell_type": "code",
   "execution_count": 32,
   "metadata": {},
   "outputs": [],
   "source": [
    "from sentence_transformers import SentenceTransformer\n",
    "from tqdm import tqdm\n",
    "from sklearn.metrics.pairwise import cosine_similarity"
   ]
  },
  {
   "cell_type": "markdown",
   "metadata": {},
   "source": [
    "### Functions"
   ]
  },
  {
   "cell_type": "code",
   "execution_count": 33,
   "metadata": {},
   "outputs": [],
   "source": [
    "def get_document(uri):\n",
    "    uri=\"<\"+uri+\">\"\n",
    "    sparql = SPARQLWrapper(\"http://localhost:3030/edition1st/sparql\")\n",
    "    query=\"\"\"\n",
    "    PREFIX eb: <https://w3id.org/eb#>\n",
    "    PREFIX rdfs: <http://www.w3.org/2000/01/rdf-schema#>\n",
    "    SELECT ?definition ?term\n",
    "        WHERE {{\n",
    "            %s a eb:Article ;\n",
    "               eb:name ?term ;\n",
    "               eb:definition ?definition . \n",
    "            }\n",
    "            UNION {\n",
    "            %s a eb:Topic ;\n",
    "              eb:name ?term ; \n",
    "              eb:definition ?definition . \n",
    "            }\n",
    "       } \n",
    "    \"\"\" %(uri, uri)\n",
    "    sparql.setQuery(query)\n",
    "    sparql.setReturnFormat(JSON)\n",
    "    results = sparql.query().convert()\n",
    "    term = results[\"results\"][\"bindings\"][0][\"term\"][\"value\"]\n",
    "    definition=results[\"results\"][\"bindings\"][0][\"definition\"][\"value\"]\n",
    "    return term, definition"
   ]
  },
  {
   "cell_type": "markdown",
   "metadata": {},
   "source": [
    "## We have dataframe with these columns\n",
    "\n",
    "- definition:           Definition of a term\n",
    "- editionNum:           1,2,3,4,5,6,7,8\n",
    "- editionTitle:         Title of the edition\n",
    "- header:               Header of the page's term                                  \n",
    "- place:                Place where the volume was edited (e.g. Edinburgh)                                    \n",
    "- relatedTerms:         Related terms (see X article)  \n",
    "- altoXML:              File Path of the XML file from which the term belongs       \n",
    "- term:                 Term name                            \n",
    "- positionPage:         Position of ther term in the page     \n",
    "- startsAt:             Number page in which the term definition starts \n",
    "- endsAt:               Number page in which the term definition ends \n",
    "- volumeTitle:          Title of the Volume\n",
    "- typeTerm:             Type of term [Topic| Articles]                                       \n",
    "- year:                 Year of the edition\n",
    "- volumeNum:            Volume number (e.g. 1)\n",
    "- letters:              leters of the volume (A-B)\n",
    "- part:                 Part of the volume (e.g 1)\n",
    "- supplement:           Supplement's Title\n",
    "- supplementsTo:        It suppelements to editions [1, 2, 3....]\n",
    "- numberOfWords:        Number of words per term definition\n",
    "- numberOfTerms:        Number of terms per page\n",
    "- numberOfPages:        Number of pages per volume"
   ]
  },
  {
   "cell_type": "code",
   "execution_count": 34,
   "metadata": {},
   "outputs": [],
   "source": [
    "import rdflib\n",
    "from rdflib.extras.external_graph_libs import rdflib_to_networkx_multidigraph\n",
    "import networkx as nx\n",
    "import matplotlib.pyplot as pl\n",
    "from rdflib import Graph, ConjunctiveGraph, Namespace, Literal\n",
    "from rdflib.plugins.sparql import prepareQuery"
   ]
  },
  {
   "cell_type": "code",
   "execution_count": 35,
   "metadata": {},
   "outputs": [],
   "source": [
    "import networkx as nx\n",
    "import matplotlib.pyplot as plt\n",
    "from SPARQLWrapper import SPARQLWrapper, JSON"
   ]
  },
  {
   "cell_type": "markdown",
   "metadata": {},
   "source": [
    "### 2.  Selecting just the 100 first elements of  the first volume of 1771"
   ]
  },
  {
   "cell_type": "code",
   "execution_count": 36,
   "metadata": {},
   "outputs": [],
   "source": [
    "sparql = SPARQLWrapper(\"http://localhost:3030/edition1st/sparql\")\n",
    "query=\"\"\"\n",
    "PREFIX eb: <https://w3id.org/eb#>\n",
    "PREFIX rdfs: <http://www.w3.org/2000/01/rdf-schema#>\n",
    "SELECT ?definition ?uri ?term ?vnum ?year ?enum ?letters ?part\n",
    "        WHERE {{\n",
    "    \t?uri a eb:Article .\n",
    "    \t?uri eb:name ?term .\n",
    "        ?uri eb:definition ?definition . \n",
    "        ?v eb:hasPart ?uri.\n",
    "        ?v eb:number ?vnum.\n",
    "        ?v eb:letters ?letters .\n",
    "        ?e eb:hasPart ?v.\n",
    "        ?e eb:publicationYear ?year.\n",
    "        ?e eb:number ?enum.\n",
    "        OPTIONAL {?v eb:part ?part; }\n",
    "        }\n",
    "  \t\tUNION {\n",
    "    \t?uri a eb:Topic .\n",
    "    \t?uri eb:name ?term . \n",
    "        ?uri eb:definition ?definition .\n",
    "        ?v eb:hasPart ?uri.\n",
    "        ?v eb:number ?vnum.\n",
    "        ?v eb:letters ?letters .\n",
    "        ?e eb:hasPart ?v.\n",
    "        ?e eb:publicationYear ?year.\n",
    "        ?e eb:number ?enum.\n",
    "        OPTIONAL {?v eb:part ?part; }\n",
    "        \n",
    "        }\n",
    "   }\n",
    "\"\"\" \n",
    "sparql.setQuery(query)\n",
    "sparql.setReturnFormat(JSON)\n",
    "results = sparql.query().convert()\n",
    "results = sparql.query().convert()\n",
    "documents=[]\n",
    "terms_info=[]\n",
    "uris=[]\n",
    "for r in results[\"results\"][\"bindings\"]:\n",
    "    documents.append(r[\"definition\"][\"value\"])\n",
    "    uris.append(r[\"uri\"][\"value\"])\n",
    "    if \"part\" in r:\n",
    "        terms_info.append([r[\"term\"][\"value\"], r[\"enum\"][\"value\"], r[\"year\"][\"value\"], r[\"part\"][\"value\"], r[\"vnum\"][\"value\"], r[\"letters\"][\"value\"]])\n",
    "    else:\n",
    "        terms_info.append([r[\"term\"][\"value\"], r[\"enum\"][\"value\"], r[\"year\"][\"value\"], \"\" , r[\"vnum\"][\"value\"], r[\"letters\"][\"value\"]])\n"
   ]
  },
  {
   "cell_type": "code",
   "execution_count": 37,
   "metadata": {},
   "outputs": [
    {
     "data": {
      "text/plain": [
       "18117"
      ]
     },
     "execution_count": 37,
     "metadata": {},
     "output_type": "execute_result"
    }
   ],
   "source": [
    "len(uris)\n",
    "len(terms_info)"
   ]
  },
  {
   "cell_type": "code",
   "execution_count": 38,
   "metadata": {},
   "outputs": [],
   "source": [
    "import pickle\n",
    "with open('documents_1ed.txt', 'wb') as fp:\n",
    "    pickle.dump(documents, fp)\n",
    "    \n",
    "with open('terms_info_1ed.txt', 'wb') as fp2:\n",
    "    pickle.dump(terms_info, fp2)\n",
    "    \n",
    "with open('uris_1ed.txt', 'wb') as fp3:\n",
    "    pickle.dump(uris, fp3)"
   ]
  },
  {
   "cell_type": "markdown",
   "metadata": {},
   "source": [
    "#### 3.1 Train Corpus"
   ]
  },
  {
   "cell_type": "code",
   "execution_count": null,
   "metadata": {},
   "outputs": [],
   "source": [
    "model = SentenceTransformer('bert-base-nli-mean-tokens')"
   ]
  },
  {
   "cell_type": "code",
   "execution_count": null,
   "metadata": {},
   "outputs": [],
   "source": [
    "text_embeddings = model.encode(documents, batch_size = 8, show_progress_bar = True)"
   ]
  },
  {
   "cell_type": "code",
   "execution_count": null,
   "metadata": {},
   "outputs": [],
   "source": [
    "np.shape(text_embeddings)"
   ]
  },
  {
   "cell_type": "code",
   "execution_count": null,
   "metadata": {},
   "outputs": [],
   "source": [
    "all_embeddings_1ed = np.array(text_embeddings)\n",
    "np.save('embeddings_1ed.npy', all_embeddings_1ed)"
   ]
  },
  {
   "cell_type": "code",
   "execution_count": null,
   "metadata": {},
   "outputs": [],
   "source": [
    "uri=\"https://w3id.org/eb/i/Article/9929192893804340_144850368_PAISLEY_0\"\n",
    "term, definition=get_document(uri)\n",
    "definition_embedding= model.encode(definition, batch_size = 8, show_progress_bar = True)"
   ]
  },
  {
   "cell_type": "code",
   "execution_count": null,
   "metadata": {},
   "outputs": [],
   "source": [
    "similarity_def=cosine_similarity(\n",
    "    [definition_embedding],\n",
    "    text_embeddings)"
   ]
  },
  {
   "cell_type": "code",
   "execution_count": null,
   "metadata": {},
   "outputs": [],
   "source": [
    "similarities = cosine_similarity(text_embeddings)\n",
    "print('pairwise dense output:\\n {}\\n'.format(similarities))"
   ]
  },
  {
   "cell_type": "code",
   "execution_count": null,
   "metadata": {},
   "outputs": [],
   "source": [
    "similarities_sorted = similarities.argsort()\n",
    "similarities_sorted"
   ]
  },
  {
   "cell_type": "code",
   "execution_count": null,
   "metadata": {},
   "outputs": [],
   "source": [
    "id_1 = []\n",
    "id_2 = []\n",
    "score = []\n",
    "for index,array in enumerate(similarities_sorted):\n",
    "    p=len(array)\n",
    "    id_1.append(index)\n",
    "    id_2.append(array[-2])\n",
    "    score.append(similarities[index][array[-2]])\n",
    "index_df = pd.DataFrame({'id_1' : id_1,\n",
    "                          'id_2' : id_2,\n",
    "                          'score' : score})\n",
    "print(p)"
   ]
  },
  {
   "cell_type": "code",
   "execution_count": null,
   "metadata": {},
   "outputs": [],
   "source": [
    "index_df"
   ]
  },
  {
   "cell_type": "code",
   "execution_count": null,
   "metadata": {},
   "outputs": [],
   "source": [
    "documents[2]"
   ]
  },
  {
   "cell_type": "code",
   "execution_count": null,
   "metadata": {},
   "outputs": [],
   "source": [
    "documents[13278]"
   ]
  }
 ],
 "metadata": {
  "kernelspec": {
   "display_name": "Python 3",
   "language": "python",
   "name": "python3"
  },
  "language_info": {
   "codemirror_mode": {
    "name": "ipython",
    "version": 3
   },
   "file_extension": ".py",
   "mimetype": "text/x-python",
   "name": "python",
   "nbconvert_exporter": "python",
   "pygments_lexer": "ipython3",
   "version": "3.7.2"
  }
 },
 "nbformat": 4,
 "nbformat_minor": 2
}
