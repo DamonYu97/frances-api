{
 "cells": [
  {
   "cell_type": "markdown",
   "metadata": {},
   "source": [
    "# Exploring Terms in the Encyclopaedia Britannica\n",
    "\n",
    "## Summarize text - Gensim - BERT- GPT2\n",
    "\n",
    "In this notebook we are going to do summarize the text of terms definitions with the dataframe that we have obtained either with the posprocess_eb.py script or Merging_EB_Terms.ipynb notebooks. Both methods obtain the same dataframe. \n",
    "\n",
    "We have selected the first Edition for this explorations, but we can run this notebook with any of the other editions.\n",
    "\n",
    "**Remark**: Edition 1, has 3 volumes, and it was printed twice, in 1771 and 1773. \n",
    "\n",
    "These methods rely on extracting several parts, such as phrases and sentences, from a piece of text and stack them together to create a summary. Therefore, identifying the right sentences for summarization is of utmost importance in an extractive method.\n",
    "\n",
    "- **Extractive Summarization**: These methods rely on extracting several parts, such as phrases and sentences, from a piece of text and stack them together to create a summary. Therefore, identifying the right sentences for summarization is of utmost importance in an extractive method.\n",
    "\n",
    "- **Abstractive Summarization**: These methods use advanced NLP techniques to generate an entirely new summary. Some parts of this summary may not even appear in the original text.\n",
    " \n",
    "Here we are going to focus on **extractive summarization technique**, using two libraries:\n",
    "- Gensim\n",
    "- Spacy\n"
   ]
  },
  {
   "cell_type": "markdown",
   "metadata": {},
   "source": [
    "### Loading the necessary libraries"
   ]
  },
  {
   "cell_type": "code",
   "execution_count": 1,
   "metadata": {},
   "outputs": [],
   "source": [
    "import yaml\n",
    "import matplotlib.pyplot as plt\n",
    "import numpy as np\n",
    "import collections\n",
    "import matplotlib as mpl"
   ]
  },
  {
   "cell_type": "code",
   "execution_count": 2,
   "metadata": {},
   "outputs": [],
   "source": [
    "import networkx as nx\n",
    "import matplotlib.pyplot as plt"
   ]
  },
  {
   "cell_type": "code",
   "execution_count": 3,
   "metadata": {},
   "outputs": [],
   "source": [
    "import pandas as pd\n",
    "from yaml import safe_load\n",
    "from pandas.io.json import json_normalize"
   ]
  },
  {
   "cell_type": "code",
   "execution_count": 4,
   "metadata": {},
   "outputs": [],
   "source": [
    "import gensim\n",
    "from gensim.summarization.summarizer import summarize"
   ]
  },
  {
   "cell_type": "code",
   "execution_count": 5,
   "metadata": {},
   "outputs": [
    {
     "name": "stderr",
     "output_type": "stream",
     "text": [
      "/anaconda3/envs/mypython3/lib/python3.7/site-packages/tensorflow/python/framework/dtypes.py:516: FutureWarning: Passing (type, 1) or '1type' as a synonym of type is deprecated; in a future version of numpy, it will be understood as (type, (1,)) / '(1,)type'.\n",
      "  _np_qint8 = np.dtype([(\"qint8\", np.int8, 1)])\n",
      "/anaconda3/envs/mypython3/lib/python3.7/site-packages/tensorflow/python/framework/dtypes.py:517: FutureWarning: Passing (type, 1) or '1type' as a synonym of type is deprecated; in a future version of numpy, it will be understood as (type, (1,)) / '(1,)type'.\n",
      "  _np_quint8 = np.dtype([(\"quint8\", np.uint8, 1)])\n",
      "/anaconda3/envs/mypython3/lib/python3.7/site-packages/tensorflow/python/framework/dtypes.py:518: FutureWarning: Passing (type, 1) or '1type' as a synonym of type is deprecated; in a future version of numpy, it will be understood as (type, (1,)) / '(1,)type'.\n",
      "  _np_qint16 = np.dtype([(\"qint16\", np.int16, 1)])\n",
      "/anaconda3/envs/mypython3/lib/python3.7/site-packages/tensorflow/python/framework/dtypes.py:519: FutureWarning: Passing (type, 1) or '1type' as a synonym of type is deprecated; in a future version of numpy, it will be understood as (type, (1,)) / '(1,)type'.\n",
      "  _np_quint16 = np.dtype([(\"quint16\", np.uint16, 1)])\n",
      "/anaconda3/envs/mypython3/lib/python3.7/site-packages/tensorflow/python/framework/dtypes.py:520: FutureWarning: Passing (type, 1) or '1type' as a synonym of type is deprecated; in a future version of numpy, it will be understood as (type, (1,)) / '(1,)type'.\n",
      "  _np_qint32 = np.dtype([(\"qint32\", np.int32, 1)])\n",
      "/anaconda3/envs/mypython3/lib/python3.7/site-packages/tensorflow/python/framework/dtypes.py:525: FutureWarning: Passing (type, 1) or '1type' as a synonym of type is deprecated; in a future version of numpy, it will be understood as (type, (1,)) / '(1,)type'.\n",
      "  np_resource = np.dtype([(\"resource\", np.ubyte, 1)])\n",
      "/anaconda3/envs/mypython3/lib/python3.7/site-packages/tensorboard/compat/tensorflow_stub/dtypes.py:541: FutureWarning: Passing (type, 1) or '1type' as a synonym of type is deprecated; in a future version of numpy, it will be understood as (type, (1,)) / '(1,)type'.\n",
      "  _np_qint8 = np.dtype([(\"qint8\", np.int8, 1)])\n",
      "/anaconda3/envs/mypython3/lib/python3.7/site-packages/tensorboard/compat/tensorflow_stub/dtypes.py:542: FutureWarning: Passing (type, 1) or '1type' as a synonym of type is deprecated; in a future version of numpy, it will be understood as (type, (1,)) / '(1,)type'.\n",
      "  _np_quint8 = np.dtype([(\"quint8\", np.uint8, 1)])\n",
      "/anaconda3/envs/mypython3/lib/python3.7/site-packages/tensorboard/compat/tensorflow_stub/dtypes.py:543: FutureWarning: Passing (type, 1) or '1type' as a synonym of type is deprecated; in a future version of numpy, it will be understood as (type, (1,)) / '(1,)type'.\n",
      "  _np_qint16 = np.dtype([(\"qint16\", np.int16, 1)])\n",
      "/anaconda3/envs/mypython3/lib/python3.7/site-packages/tensorboard/compat/tensorflow_stub/dtypes.py:544: FutureWarning: Passing (type, 1) or '1type' as a synonym of type is deprecated; in a future version of numpy, it will be understood as (type, (1,)) / '(1,)type'.\n",
      "  _np_quint16 = np.dtype([(\"quint16\", np.uint16, 1)])\n",
      "/anaconda3/envs/mypython3/lib/python3.7/site-packages/tensorboard/compat/tensorflow_stub/dtypes.py:545: FutureWarning: Passing (type, 1) or '1type' as a synonym of type is deprecated; in a future version of numpy, it will be understood as (type, (1,)) / '(1,)type'.\n",
      "  _np_qint32 = np.dtype([(\"qint32\", np.int32, 1)])\n",
      "/anaconda3/envs/mypython3/lib/python3.7/site-packages/tensorboard/compat/tensorflow_stub/dtypes.py:550: FutureWarning: Passing (type, 1) or '1type' as a synonym of type is deprecated; in a future version of numpy, it will be understood as (type, (1,)) / '(1,)type'.\n",
      "  np_resource = np.dtype([(\"resource\", np.ubyte, 1)])\n"
     ]
    }
   ],
   "source": [
    "from summarizer import Summarizer, TransformerSummarizer"
   ]
  },
  {
   "cell_type": "markdown",
   "metadata": {},
   "source": [
    "### Functions"
   ]
  },
  {
   "cell_type": "code",
   "execution_count": 6,
   "metadata": {},
   "outputs": [],
   "source": [
    "import spacy\n",
    "from spacy.lang.en.stop_words import STOP_WORDS\n",
    "from string import punctuation\n",
    "from collections import Counter\n",
    "from heapq import nlargest"
   ]
  },
  {
   "cell_type": "code",
   "execution_count": 8,
   "metadata": {},
   "outputs": [],
   "source": [
    "def create_document(text):\n",
    "    nlp = spacy.load(\"en_core_web_sm\")\n",
    "    doc = nlp(text)\n",
    "    return doc"
   ]
  },
  {
   "cell_type": "markdown",
   "metadata": {},
   "source": [
    "## We have dataframe with these columns\n",
    "\n",
    "- definition:           Definition of a term\n",
    "- editionNum:           1,2,3,4,5,6,7,8\n",
    "- editionTitle:         Title of the edition\n",
    "- header:               Header of the page's term                                  \n",
    "- place:                Place where the volume was edited (e.g. Edinburgh)                                    \n",
    "- relatedTerms:         Related terms (see X article)  \n",
    "- altoXML:              File Path of the XML file from which the term belongs       \n",
    "- term:                 Term name                            \n",
    "- positionPage:         Position of ther term in the page     \n",
    "- startsAt:             Number page in which the term definition starts \n",
    "- endsAt:               Number page in which the term definition ends \n",
    "- volumeTitle:          Title of the Volume\n",
    "- typeTerm:             Type of term [Topic| Articles]                                       \n",
    "- year:                 Year of the edition\n",
    "- volumeNum:            Volume number (e.g. 1)\n",
    "- letters:              leters of the volume (A-B)\n",
    "- part:                 Part of the volume (e.g 1)\n",
    "- supplement:           Supplement's Title\n",
    "- supplementsTo:        It suppelements to editions [1, 2, 3....]\n",
    "- numberOfWords:        Number of words per term definition\n",
    "- numberOfTerms:        Number of terms per page\n",
    "- numberOfPages:        Number of pages per volume"
   ]
  },
  {
   "cell_type": "markdown",
   "metadata": {},
   "source": [
    "### 1. Load dataframe from JSON file"
   ]
  },
  {
   "cell_type": "markdown",
   "metadata": {},
   "source": [
    "### 3.2 Testing with Spacy\n",
    "\n",
    "Following https://medium.com/analytics-vidhya/text-summarization-using-spacy-ca4867c6b744 "
   ]
  },
  {
   "cell_type": "code",
   "execution_count": 17,
   "metadata": {},
   "outputs": [],
   "source": [
    "doc=create_document(text)"
   ]
  },
  {
   "cell_type": "code",
   "execution_count": 18,
   "metadata": {},
   "outputs": [
    {
     "data": {
      "text/plain": [
       "298"
      ]
     },
     "execution_count": 18,
     "metadata": {},
     "output_type": "execute_result"
    }
   ],
   "source": [
    "len(list(doc.sents))"
   ]
  },
  {
   "cell_type": "markdown",
   "metadata": {},
   "source": [
    "#### 3.2.1 Filtering tokens"
   ]
  },
  {
   "cell_type": "code",
   "execution_count": 19,
   "metadata": {},
   "outputs": [],
   "source": [
    "keyword =[]\n",
    "stopwords = list(STOP_WORDS)\n",
    "pos_tag = ['PROPN', 'ADJ', 'NOUN', 'VERB']\n",
    "for token in doc:\n",
    "    if (token.text in stopwords or token.text in punctuation):\n",
    "        continue\n",
    "    if (token.pos_ in pos_tag):\n",
    "        keyword.append(token.text)"
   ]
  },
  {
   "cell_type": "code",
   "execution_count": 20,
   "metadata": {},
   "outputs": [
    {
     "data": {
      "text/plain": [
       "[('malt', 92), ('beer', 59), ('drink', 51), ('water', 49), ('time', 47)]"
      ]
     },
     "execution_count": 20,
     "metadata": {},
     "output_type": "execute_result"
    }
   ],
   "source": [
    "freq_word = Counter(keyword)\n",
    "freq_word.most_common(5)"
   ]
  },
  {
   "cell_type": "markdown",
   "metadata": {},
   "source": [
    "#### 3.2.2 Normalization "
   ]
  },
  {
   "cell_type": "code",
   "execution_count": 21,
   "metadata": {},
   "outputs": [
    {
     "data": {
      "text/plain": [
       "[('malt', 1.0),\n",
       " ('beer', 0.6413043478260869),\n",
       " ('drink', 0.5543478260869565),\n",
       " ('water', 0.532608695652174),\n",
       " ('time', 0.5108695652173914)]"
      ]
     },
     "execution_count": 21,
     "metadata": {},
     "output_type": "execute_result"
    }
   ],
   "source": [
    "max_freq = Counter(keyword).most_common(1)[0][1]\n",
    "for word in freq_word.keys():\n",
    "    freq_word[word] = (freq_word[word]/max_freq)\n",
    "freq_word.most_common(5)"
   ]
  },
  {
   "cell_type": "markdown",
   "metadata": {},
   "source": [
    "#### 3.2.3 Weighing sentences"
   ]
  },
  {
   "cell_type": "code",
   "execution_count": 22,
   "metadata": {},
   "outputs": [],
   "source": [
    "sent_strength={}\n",
    "for sent in doc.sents:\n",
    "    for word in sent:\n",
    "        if word.text in freq_word.keys():\n",
    "            if sent in sent_strength.keys():\n",
    "                sent_strength[sent]+=freq_word[word.text]\n",
    "            else:\n",
    "                sent_strength[sent] = freq_word[word.text]\n",
    "#print(sent_strength)"
   ]
  },
  {
   "cell_type": "markdown",
   "metadata": {},
   "source": [
    "#### 3.2.4 Summarizing the string\n",
    "\n",
    "And the nlargest function returns a list containing the top 3 sentences which are stored as summarized_sentences"
   ]
  },
  {
   "cell_type": "code",
   "execution_count": 23,
   "metadata": {},
   "outputs": [],
   "source": [
    "summarized_sentences = nlargest(3, sent_strength, key=sent_strength.get)\n"
   ]
  },
  {
   "cell_type": "code",
   "execution_count": 24,
   "metadata": {},
   "outputs": [
    {
     "name": "stdout",
     "output_type": "stream",
     "text": [
      "In boiling, both time and the curdling or breaking of the wort should be consulted ; for if a person was to boil the wort an hour, and then take it out of the copper before it was rightly broke, it would be wrong management, and the drink would not be fine and wholesome; and if it Ihould boil an hour and a half, or two hours, without regarding when its particles are in a right order, then it may be too thick; so that due care must be had to the two extremes, to obtain it in its due order; therefore, in Odtober and keeping beers, an hour and a quarter’s good boiling is commonly sufficient to have a thorough cured drink; for generally in that time it will break and boil enough ; because in this there is a double security by length of boiling, and a quantity of hops shifted ; but in the new way there is only a single one, and that is by a double or treble allowance of fresh hops boiled only half an hour in the wort; and for this practice a reason is afligned, that the hops, being endowed with difeutient apertive qualities, will, by them and their great quantity, supply the defedt of underboiling the wort; and that a farther conveniency is here enjoyed by having only the fine, wholesome, strong, floury, fpirituous parts of the hop in the drink, exclufiye of the phlegmetic, earthy parts which would be extradhed, if the hops were to be boiled above half an hour; and therefore there are many now that are so attached to this new method, that they will not brew ale or beer any other way, thinking, that if hops are boiled above thirty minutes, the wort will exhibit some of their bad qualities. The first full copper of boiling water he puts into the mafh-tub, there to lie a quarter of an hour, till the ffeam is so far spent that he can see his face in it; or, as soon as the hot water is put in, throws a pail or two of cold water into it, which will bring it at once into a temper ; then he lets three bulhels of malt be run leisurely into it, and stirred or malhed all the while, but as little as can be, or no more than just to keep the malt from clotting or balling; when that is done, he puts one bushel of dry malt at th<i top, to keep in the vapour or spirit, and so lets if stand covered two hours, or till the neat copper-full of water is boiling hot, which he lades over the malt or goods three hand-bowls full at a time, that are to run off at the cock or tap by a very small st ream before more is put on, which again must be returned into the mafti tub till it comes off exceeding fine ;■ for, u' nless the wort is clear when it goes into the copper, there are little hopes it will be so in the barrel ; which leisure way obliges him to be sixteen hours in brewing these four buffels of malt. the principal of which are, Compass-bricks, of a circular form, used infleyning of walls : Concave, or hollow bricks, on one side flat like a common brick, on the other hollowed, and used for conveyance of water : Feather-edged bricks, which are like common llatute bricks, only thinner on one edge than the other, and used for penning up the brick pannels in timber buildings: Cogging bricks are used for making the indented works under the caping of walls built with great bricks : Caping bricks, formed on purpose for caping of walls: Dutch or Flemilh bricks, used to pave yards, stables, and for soap-bo Hers vaults and cifterns: Clinkers, such bricks as are glazed by the heat of the fire in making : Sandel or famel-bricks, are such as lie outmoll in a kiln, or clamp, and consequently are soft and useless, as not being thoroughly burnt: Great bricks are those twelve inches long, six broad, and three thick, used to build fence-walls: _Plai%r or'buttress bricks, have a notch at one end, half the breadth of the brick ; their use is to bind the work which is built of great bricks: Statute-bricks or frnall common bricks, ought, when burnt, to be nine inches long, four and a quarter broad, and two and a half thick ; they are commonly used in.paving cellars, Bricks are burnt either in a kiln or clamp.\n"
     ]
    }
   ],
   "source": [
    "final_sentences = [w.text for w in summarized_sentences]\n",
    "summary =' '.join(final_sentences)\n",
    "print(summary)"
   ]
  },
  {
   "cell_type": "code",
   "execution_count": 29,
   "metadata": {},
   "outputs": [
    {
     "data": {
      "text/plain": [
       "4036"
      ]
     },
     "execution_count": 29,
     "metadata": {},
     "output_type": "execute_result"
    }
   ],
   "source": [
    "len(summary)"
   ]
  },
  {
   "cell_type": "markdown",
   "metadata": {},
   "source": [
    "### 3.3 BERT"
   ]
  },
  {
   "cell_type": "code",
   "execution_count": 25,
   "metadata": {},
   "outputs": [
    {
     "data": {
      "application/vnd.jupyter.widget-view+json": {
       "model_id": "2a06c284b9944708a5f685a4edd44f61",
       "version_major": 2,
       "version_minor": 0
      },
      "text/plain": [
       "HBox(children=(FloatProgress(value=0.0, description='Downloading', max=571.0, style=ProgressStyle(description_…"
      ]
     },
     "metadata": {},
     "output_type": "display_data"
    },
    {
     "name": "stdout",
     "output_type": "stream",
     "text": [
      "\n"
     ]
    },
    {
     "data": {
      "application/vnd.jupyter.widget-view+json": {
       "model_id": "4bce78af9b714a85a4d72fae37284f1c",
       "version_major": 2,
       "version_minor": 0
      },
      "text/plain": [
       "HBox(children=(FloatProgress(value=0.0, description='Downloading', max=1344997306.0, style=ProgressStyle(descr…"
      ]
     },
     "metadata": {},
     "output_type": "display_data"
    },
    {
     "name": "stdout",
     "output_type": "stream",
     "text": [
      "\n"
     ]
    },
    {
     "name": "stderr",
     "output_type": "stream",
     "text": [
      "Some weights of the model checkpoint at bert-large-uncased were not used when initializing BertModel: ['cls.predictions.bias', 'cls.predictions.transform.dense.bias', 'cls.seq_relationship.weight', 'cls.predictions.transform.LayerNorm.weight', 'cls.seq_relationship.bias', 'cls.predictions.transform.LayerNorm.bias', 'cls.predictions.decoder.weight', 'cls.predictions.transform.dense.weight']\n",
      "- This IS expected if you are initializing BertModel from the checkpoint of a model trained on another task or with another architecture (e.g. initializing a BertForSequenceClassification model from a BertForPreTraining model).\n",
      "- This IS NOT expected if you are initializing BertModel from the checkpoint of a model that you expect to be exactly identical (initializing a BertForSequenceClassification model from a BertForSequenceClassification model).\n"
     ]
    },
    {
     "data": {
      "application/vnd.jupyter.widget-view+json": {
       "model_id": "55ba991a278c4aee96cd68c3efdad039",
       "version_major": 2,
       "version_minor": 0
      },
      "text/plain": [
       "HBox(children=(FloatProgress(value=0.0, description='Downloading', max=231508.0, style=ProgressStyle(descripti…"
      ]
     },
     "metadata": {},
     "output_type": "display_data"
    },
    {
     "name": "stdout",
     "output_type": "stream",
     "text": [
      "\n"
     ]
    },
    {
     "data": {
      "application/vnd.jupyter.widget-view+json": {
       "model_id": "aceb5e74fd8348afbc614a95a322a345",
       "version_major": 2,
       "version_minor": 0
      },
      "text/plain": [
       "HBox(children=(FloatProgress(value=0.0, description='Downloading', max=28.0, style=ProgressStyle(description_w…"
      ]
     },
     "metadata": {},
     "output_type": "display_data"
    },
    {
     "name": "stdout",
     "output_type": "stream",
     "text": [
      "\n"
     ]
    },
    {
     "data": {
      "application/vnd.jupyter.widget-view+json": {
       "model_id": "402e703815a049929a09ca79801d9b63",
       "version_major": 2,
       "version_minor": 0
      },
      "text/plain": [
       "HBox(children=(FloatProgress(value=0.0, description='Downloading', max=466062.0, style=ProgressStyle(descripti…"
      ]
     },
     "metadata": {},
     "output_type": "display_data"
    },
    {
     "name": "stdout",
     "output_type": "stream",
     "text": [
      "\n",
      "Whett feeds are thus sufficiently malted, they mult be dried in malt-kilns, the fuel of which ftiould smoke as little as poflible.—The hulks mull now be broke open by malt-milns, and then infused or riialh’ed nn warm water, in order to extradt the faccharine substance; the heat applied Ihould be very slow and gradual. Thus the malt is diflblved, and lies till the liquor be sufficiently tindiured. Here it must lie five or six tides, as the rbaltller calls it, reckoning twelve hours to the tide, according as the barley is in body or in driness. The way to know when it is enough, is to take a corn, end-ways. But by many the hair cloth is reckoned the best. some wrongly called choak, and rightly named culm or Welch-coal, from Swanzey in Pembrokeshire, being of a hard stony substance, in small bits, resembling a fhinning coal, and will burn without smoke, and by its fulphureous effluvia call a most excellent whiteness on all the outward parts of the grainy body: In Devonfflire their marble or grey fxre-stone is burnt into lime with the strong fire that this culm makes, and both this and the chalked pit-coal afford a moderate and certain fire to all malt that is dried by it. It may be brewed either with spring or common well water. The amber-coloured malt is that which is dried in a medium degree, between the pale and the brown, arid is very much in use, as being free of either extreme. Brown malts are dried with straw, wood, and fern;Yti:. Notwithstanding, the iron ones are now mostly in use, for their great dispatch and long duration. Water is a matter of great importance in brewing wholesome fine malt-liquors. Now, the more simple and freer every water is from foreign particles, it is the better. tinges their beer with its faline quality, that it is easily tasted at the first draught. for chalk in this refped excells all other earths, because it communicates nothing unwholesome. The London Method of Brewing. Stout Butt leer or Porter. To make Porter, or Butt-beer, to have a fine Tang. Pale and Amber Ales and Beer. Method praftifed hy a Victualler, for Brewing Ale or October Beer, from NettIngham. Now between the ladings-over he puts cold warer into the copper so be boiling hot, while the other is running off; by this means hi <; copper is kept up near full, and the cock spending to the end of brewing his ale or small beer, of which only twenty-one gallons must be saved of the first wort that is reserved in a tub, wherein four ounces of hops are put, and then it is to be set by. The Nature and Use of the Hop. After the wort is cooled and put into the working-vat or tub. Of boiling Malt-liquors. Althou’Gh it has been formerly said, that an hour and a half is requisite for boiling of Oftober beer, and an hour for ales and small beer ; yet it is to be observed, that an exadt time is not altogether a certain rule in this case , for, when loose hops are boiled in the wort so long till they all sink, their feeds will arise and fall down again ; the wort also will be curdled, and broken into small particles if examined in a hand-bowl, but afterwards into larger, as big as great pins heads, and will appear clean and fine at the top. and will likewise work more kindly in the tun, drink smoother,. And if they are boiled too long, they will then thicken and nbt come out of the copper line and in a right condition. which will cause it never to be right clear in the barrel. For strong brown ale brewed in-ally-of the winter^ months, and boiled an hour, one pound “is but barely sufficient for a hogffiead, if it be tapped in three weeks or a month. But some people are so fond of white thick ale, that they often kill themfejves by drinking it; nor is their humour much different as to the com-i mon brewers brown ale, who, when the customer wants a hogshead, they put in immediately a handful of fait, and another of flour, and so bring it up ; this is no soon^ er on the Hilling than it is tapped, that it may carry a froth on the top of the pot, otherwise they despise it. Of working and fermenting London Stout Beer and Ale. The yeast is at once put into the tun to work the fiout-beer and ale with ; by this means, and the shortness of time we have to ferment our firong drinks, we cannot make reserves of cold worts to mix with and check the too forward working of those liquors. Of artificial Lees for Stout or Stale Beer to . the wort is more or less loaded with the weighty particles of this fizy body; but if the wheat were firfl parched, or baked in an oven, it would do better, as being rather too raw as it comes from the ear. To recover deadifh Beer. T Leceipt for making Balls for fining, feeding, preserving, relishing, and colouring Malt Drinks, Wines, and Cyders. Red launders, four ounces. Coriander-feed, a quarter of an ounce. Of the Cellar or Repofitory for keeping Beers and Ales. So like wife, if beer or ale. If a cellar see kept dry, and have double doors, it is reckoned warm in winter, and cool in summer. BRI ANCON, a town of I>auphiny, in France, situated about forty live miles south-east of Grenoble; E. long. 47° 4c/. BRIBE, a gift given to a person for doing or forbearing any action that he ought to do -or forbear. BRICIANI, those of the order of that name. B R I BRICK, a. sat reddilh earth, formed into long, squares, . Bricks, among us, are various, according to their various forms, dimensions, dies, method of making, ebc. This oil was once in great repute for curing many diseases, but is now entirely laid aside.-\n"
     ]
    }
   ],
   "source": [
    "model = Summarizer()\n",
    "result = model(text, min_length=60)\n",
    "summary = \"\".join(result)\n",
    "print(summary)"
   ]
  },
  {
   "cell_type": "markdown",
   "metadata": {},
   "source": [
    "### 3.4 GPT2"
   ]
  },
  {
   "cell_type": "code",
   "execution_count": 27,
   "metadata": {},
   "outputs": [
    {
     "data": {
      "application/vnd.jupyter.widget-view+json": {
       "model_id": "d02173f080c34916a1c57e78b8acb523",
       "version_major": 2,
       "version_minor": 0
      },
      "text/plain": [
       "HBox(children=(FloatProgress(value=0.0, description='Downloading', max=718.0, style=ProgressStyle(description_…"
      ]
     },
     "metadata": {},
     "output_type": "display_data"
    },
    {
     "name": "stdout",
     "output_type": "stream",
     "text": [
      "\n"
     ]
    },
    {
     "data": {
      "application/vnd.jupyter.widget-view+json": {
       "model_id": "67a3a42f563b457b95bff7117dcfa2b2",
       "version_major": 2,
       "version_minor": 0
      },
      "text/plain": [
       "HBox(children=(FloatProgress(value=0.0, description='Downloading', max=1520013706.0, style=ProgressStyle(descr…"
      ]
     },
     "metadata": {},
     "output_type": "display_data"
    },
    {
     "name": "stdout",
     "output_type": "stream",
     "text": [
      "\n"
     ]
    },
    {
     "data": {
      "application/vnd.jupyter.widget-view+json": {
       "model_id": "61edcd17dc204c8f807412da81c4f2bc",
       "version_major": 2,
       "version_minor": 0
      },
      "text/plain": [
       "HBox(children=(FloatProgress(value=0.0, description='Downloading', max=1042301.0, style=ProgressStyle(descript…"
      ]
     },
     "metadata": {},
     "output_type": "display_data"
    },
    {
     "name": "stdout",
     "output_type": "stream",
     "text": [
      "\n"
     ]
    },
    {
     "data": {
      "application/vnd.jupyter.widget-view+json": {
       "model_id": "9ccf8a1057094b3a9e58b618be5c4a12",
       "version_major": 2,
       "version_minor": 0
      },
      "text/plain": [
       "HBox(children=(FloatProgress(value=0.0, description='Downloading', max=456318.0, style=ProgressStyle(descripti…"
      ]
     },
     "metadata": {},
     "output_type": "display_data"
    },
    {
     "name": "stdout",
     "output_type": "stream",
     "text": [
      "\n"
     ]
    },
    {
     "data": {
      "application/vnd.jupyter.widget-view+json": {
       "model_id": "15934f55e4814221a071ebfa89b6d621",
       "version_major": 2,
       "version_minor": 0
      },
      "text/plain": [
       "HBox(children=(FloatProgress(value=0.0, description='Downloading', max=1355256.0, style=ProgressStyle(descript…"
      ]
     },
     "metadata": {},
     "output_type": "display_data"
    },
    {
     "name": "stdout",
     "output_type": "stream",
     "text": [
      "\n",
      "Whett feeds are thus sufficiently malted, they mult be dried in malt-kilns, the fuel of which ftiould smoke as little as poflible.—The hulks mull now be broke open by malt-milns, and then infused or riialh’ed nn warm water, in order to extradt the faccharine substance; the heat applied Ihould be very slow and gradual. This tindlure obtained from the infusion of grinded malt, is commonly known by the name ok onort. But by many the hair cloth is reckoned the best. To know good from bad Malts. board, it will mark, and cast a white colour almost like chalk. -The pale malt is the slowest and flackeft dried of any, and where it has had a leisure fire, a sufficient time allowed it on the kiln, and a due care taken of it, the flour of the grain will remain in its full quantity, and thereby produce a greater length of wort than the brown high-dried malt. In the country they frequently throw a sack of malt on a stone or brick floor as soon as it is ground, and let it lie, giving it one turn, for a day or two, that the stones or bricks may draw out the fiery quality it received from the kiln, and give the drink a soft mild taste. Water is a matter of great importance in brewing wholesome fine malt-liquors. to the waters, but abforbs. This includes all.standing waters, chief-; ly from rain, and are good or bad according to circumfiances; for where there is a clean bottom, and the wa-. But where it is in a small quantity, or full of si(h (especially the fling-tench) or is so disturbed by cattle, as to force up mud and filth, it is then the most soul and disagreeable of all others : So is it likewise in long dry seasons, when our pond-waters are so low as to oblige us to drain it through fieves before we can use it, to take out the small red worms and other corruptions that stagnant waters are fubjeft to. The London Method of Brewing. To make Porter, or Butt-beer, to have a fine Tang. Most of this is the fird running of the malt, but yet Von. They take the liquors from the brown ale as for the dout, but draw a greater quantity from the malt than for dout or ditch ; and after the dif F and second malh, they cap the goods with frelh malt, to keep in the (pint, and boil it an hour; after this, small beer is made of the same goods. As the brown malts are brewed with river, these are brewed with well or spring-Iiquors. For common brown ale, one barrel and a half, or more, at sixteen (hillings per barrel, that holds thirty-two Englifli gallons from the tun. Indeed, when the hop, in a dear time, is adulterated with water, in which aloes, ©r. have been infused, in order to make the old hops recover their bitterness, and seem new, then they are to be looked on as unwholesome; but the pure new hop, when properly managed, has no hurtful qualities. After the wort is cooled and put into the working-vat or tub. This is a good way where enough of hops have not been sufficiently boiled in the wort, or to pre* serve it in the coolers where it is laid thick. Of boiling Malt-liquors. Althou’Gh it has been formerly said, that an hour and a half is requisite for boiling of Oftober beer, and an hour for ales and small beer ; yet it is to be observed, that an exadt time is not altogether a certain rule in this case , for, when loose hops are boiled in the wort so long till they all sink, their feeds will arise and fall down again ; the wort also will be curdled, and broken into small particles if examined in a hand-bowl, but afterwards into larger, as big as great pins heads, and will appear clean and fine at the top. and will likewise work more kindly in the tun, drink smoother,. For O&ober or March pale beer, made from fourteen buffiels, boiled,an hour and a quarter, and kept twelve months, six pounds ought to be allowed to a hogshead of luch drink, and more if the Imps are flufted in two bags, and less time given the wort to baiL. OfOf Foxing or Fainting Malt-Liquors. It is alledged indeed, that beating the yeafi into worl gives it a fine relish, or it makes the ale bite of theyeaft J but the true reason is, to further its sale, on account of its intoxicating quality. The yeast is at once put into the tun to work the fiout-beer and ale with ; by this means, and the shortness of time we have to ferment our firong drinks, we cannot make reserves of cold worts to mix with and check the too forward working of those liquors. Others tie up bran in a coarse thin cloth, and put it into the vat, where, by its spongy nature, it abforbs a quantity of the drink, and breeds a heat to forward its working. Of artificial Lees for Stout or Stale Beer to . Composition for feeding Porter or Keeping-Beers. Take a quart of French brandy, or as much of Englilh, that is free from any burnt tang, or other ill taste, and is full proof; to this put as much wheat' or beanflour as will knead it into dough, put it in long pieces ‘into the bung-hole, as soon as the beer has done working, or aftorwards, and let it gently fall piece by piece to the bottom of the butt ; this will maintain the diink in a mellow frelhness, keep ftaleness off for some time, and cause it to be the flronger as it grows aged. To make fiale Beer drink new. Alabaster, or marble calcined into a powder, two pounds. Oyfler-shells, a little calcined and freed from their brown or dirt-coloured out-side, one pound. Cover them close, and let it stand twelve hours, then strain for the use aforesaid. Of the Cellar or Repofitory for keeping Beers and Ales. If a cellar see kept dry, and have double doors, it is reckoned warm in winter, and cool in summer. But the best of ceiims are thought to be those in chalks,, gravels, or sands; and particularly in chalks, which’are of a drying quality more .than any other, and ccnfequently tiifiipati: damps ; which contributes much to the ' gook keeping of the drink, for all damp cellars are prejudicial to the preservation of beers and ales, and sooner bring on the rotting of the casks and hoops than the dry ones. In case your c?.(k is a butt, then with cold water rinse out the lees clean, and. Take a pottle, or more, of stone-lime, and put it into the calk^ on this pour some water, and stop it up diredtly, (baking it well about. A new vefiel is rnoft improperly used by Tome ignorant B R E BREY, a town of the bilhopric of Liege, in Germany, about sixteen miles north of Maeftricht; E. long. BREYNIA, in botany, a fynonime of the capparis. BRICIANI, those of the order of that name. This was a military order, instituted by St Bridget, queen of Sweden, wlro gave them the rules and co' tftit' .nions of those of Malta and St Auguftin. four inches broad, and eight or nine long; by means of a wooden mould, and then baked or burnt in a kiln,-to lerve the purposes of building. Bricks are of great antiquity, as appears by the-sacred writings, the tower and walls of Babylon being with them. The place for the fuel is carried up strait on botsh sides, till about three feet high ; then they almost fill it with wood, and over that lay a covering of sea-coal, and then overfpan the arch; but they strew sea-coal also over the clamp, betwixt all the rows of bricks; lastly, they kindle the wood, which gives fire to the coal ; and when all is burnt, then they conclude the bricks are sufficiently burnt.\n"
     ]
    }
   ],
   "source": [
    "\n",
    "GPT2_model = TransformerSummarizer(transformer_type=\"GPT2\",transformer_model_key=\"gpt2-medium\")\n",
    "full = ''.join(GPT2_model(text, min_length=60))\n",
    "print(full)"
   ]
  },
  {
   "cell_type": "markdown",
   "metadata": {},
   "source": [
    "### 3.5 XLNET"
   ]
  },
  {
   "cell_type": "code",
   "execution_count": null,
   "metadata": {},
   "outputs": [
    {
     "name": "stderr",
     "output_type": "stream",
     "text": [
      "Some weights of the model checkpoint at xlnet-base-cased were not used when initializing XLNetModel: ['lm_loss.bias', 'lm_loss.weight']\n",
      "- This IS expected if you are initializing XLNetModel from the checkpoint of a model trained on another task or with another architecture (e.g. initializing a BertForSequenceClassification model from a BertForPreTraining model).\n",
      "- This IS NOT expected if you are initializing XLNetModel from the checkpoint of a model that you expect to be exactly identical (initializing a BertForSequenceClassification model from a BertForSequenceClassification model).\n"
     ]
    }
   ],
   "source": [
    "model = TransformerSummarizer(transformer_type=\"XLNet\",transformer_model_key=\"xlnet-base-cased\")\n",
    "full = ''.join(model(text, min_length=60))\n",
    "print(full)"
   ]
  },
  {
   "cell_type": "code",
   "execution_count": null,
   "metadata": {},
   "outputs": [],
   "source": []
  }
 ],
 "metadata": {
  "kernelspec": {
   "display_name": "Python 3",
   "language": "python",
   "name": "python3"
  },
  "language_info": {
   "codemirror_mode": {
    "name": "ipython",
    "version": 3
   },
   "file_extension": ".py",
   "mimetype": "text/x-python",
   "name": "python",
   "nbconvert_exporter": "python",
   "pygments_lexer": "ipython3",
   "version": "3.7.2"
  }
 },
 "nbformat": 4,
 "nbformat_minor": 2
}
