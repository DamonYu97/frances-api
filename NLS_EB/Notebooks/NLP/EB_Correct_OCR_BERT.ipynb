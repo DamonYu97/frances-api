{
 "cells": [
  {
   "cell_type": "markdown",
   "metadata": {},
   "source": [
    "## OCR - Detecting errors - Cleaning with BERT\n",
    "\n",
    "\n",
    "ttps://github.com/neuspell"
   ]
  },
  {
   "cell_type": "markdown",
   "metadata": {},
   "source": [
    "### Loading the necessary libraries"
   ]
  },
  {
   "cell_type": "code",
   "execution_count": 93,
   "metadata": {},
   "outputs": [],
   "source": [
    "import networkx as nx\n",
    "import matplotlib.pyplot as plt"
   ]
  },
  {
   "cell_type": "code",
   "execution_count": 94,
   "metadata": {},
   "outputs": [],
   "source": [
    "import os\n",
    "import pandas as pd"
   ]
  },
  {
   "cell_type": "code",
   "execution_count": 95,
   "metadata": {},
   "outputs": [],
   "source": [
    "from sentence_transformers import SentenceTransformer\n",
    "from tqdm import tqdm\n",
    "from sklearn.metrics.pairwise import cosine_similarity"
   ]
  },
  {
   "cell_type": "markdown",
   "metadata": {},
   "source": [
    "### Functions"
   ]
  },
  {
   "cell_type": "code",
   "execution_count": 6,
   "metadata": {},
   "outputs": [],
   "source": [
    "def get_document(uri):\n",
    "    uri=\"<\"+uri+\">\"\n",
    "    sparql = SPARQLWrapper(\"http://localhost:3030/edition1st/sparql\")\n",
    "    query=\"\"\"\n",
    "    PREFIX eb: <https://w3id.org/eb#>\n",
    "    PREFIX rdfs: <http://www.w3.org/2000/01/rdf-schema#>\n",
    "    SELECT ?definition ?term\n",
    "        WHERE {{\n",
    "            %s a eb:Article ;\n",
    "               eb:name ?term ;\n",
    "               eb:definition ?definition . \n",
    "            }\n",
    "            UNION {\n",
    "            %s a eb:Topic ;\n",
    "              eb:name ?term ; \n",
    "              eb:definition ?definition . \n",
    "            }\n",
    "       } \n",
    "    \"\"\" %(uri, uri)\n",
    "    sparql.setQuery(query)\n",
    "    sparql.setReturnFormat(JSON)\n",
    "    results = sparql.query().convert()\n",
    "    term = results[\"results\"][\"bindings\"][0][\"term\"][\"value\"]\n",
    "    definition=results[\"results\"][\"bindings\"][0][\"definition\"][\"value\"]\n",
    "    return term, definition"
   ]
  },
  {
   "cell_type": "code",
   "execution_count": 7,
   "metadata": {},
   "outputs": [],
   "source": [
    "import rdflib\n",
    "from rdflib.extras.external_graph_libs import rdflib_to_networkx_multidigraph\n",
    "import networkx as nx\n",
    "import matplotlib.pyplot as pl\n",
    "from rdflib import Graph, ConjunctiveGraph, Namespace, Literal\n",
    "from rdflib.plugins.sparql import prepareQuery"
   ]
  },
  {
   "cell_type": "code",
   "execution_count": 8,
   "metadata": {},
   "outputs": [],
   "source": [
    "import networkx as nx\n",
    "import matplotlib.pyplot as plt\n",
    "from SPARQLWrapper import SPARQLWrapper, JSON"
   ]
  },
  {
   "cell_type": "code",
   "execution_count": 9,
   "metadata": {},
   "outputs": [],
   "source": [
    "import pickle\n",
    "with open ('documents_1ed.txt', 'rb') as fp:\n",
    "    documents = pickle.load(fp)\n",
    "with open('terms_info_1ed.txt', 'rb') as fp2:\n",
    "    terms_info = pickle.load(fp2)\n",
    "with open('uris_1ed.txt', 'rb') as fp3:\n",
    "    uris = pickle.load(fp3)"
   ]
  },
  {
   "cell_type": "code",
   "execution_count": 10,
   "metadata": {},
   "outputs": [],
   "source": [
    "text=documents[1]"
   ]
  },
  {
   "cell_type": "code",
   "execution_count": 11,
   "metadata": {},
   "outputs": [
    {
     "name": "stdout",
     "output_type": "stream",
     "text": [
      "data folder is set to `/Users/rosafilgueira/HW-Work/NLS-Fellowship/work/frances/neuspell/neuspell/../data` script\n"
     ]
    },
    {
     "name": "stderr",
     "output_type": "stream",
     "text": [
      "/anaconda3/envs/mypython3/lib/python3.7/site-packages/tensorflow/python/framework/dtypes.py:516: FutureWarning: Passing (type, 1) or '1type' as a synonym of type is deprecated; in a future version of numpy, it will be understood as (type, (1,)) / '(1,)type'.\n",
      "  _np_qint8 = np.dtype([(\"qint8\", np.int8, 1)])\n",
      "/anaconda3/envs/mypython3/lib/python3.7/site-packages/tensorflow/python/framework/dtypes.py:517: FutureWarning: Passing (type, 1) or '1type' as a synonym of type is deprecated; in a future version of numpy, it will be understood as (type, (1,)) / '(1,)type'.\n",
      "  _np_quint8 = np.dtype([(\"quint8\", np.uint8, 1)])\n",
      "/anaconda3/envs/mypython3/lib/python3.7/site-packages/tensorflow/python/framework/dtypes.py:518: FutureWarning: Passing (type, 1) or '1type' as a synonym of type is deprecated; in a future version of numpy, it will be understood as (type, (1,)) / '(1,)type'.\n",
      "  _np_qint16 = np.dtype([(\"qint16\", np.int16, 1)])\n",
      "/anaconda3/envs/mypython3/lib/python3.7/site-packages/tensorflow/python/framework/dtypes.py:519: FutureWarning: Passing (type, 1) or '1type' as a synonym of type is deprecated; in a future version of numpy, it will be understood as (type, (1,)) / '(1,)type'.\n",
      "  _np_quint16 = np.dtype([(\"quint16\", np.uint16, 1)])\n",
      "/anaconda3/envs/mypython3/lib/python3.7/site-packages/tensorflow/python/framework/dtypes.py:520: FutureWarning: Passing (type, 1) or '1type' as a synonym of type is deprecated; in a future version of numpy, it will be understood as (type, (1,)) / '(1,)type'.\n",
      "  _np_qint32 = np.dtype([(\"qint32\", np.int32, 1)])\n",
      "/anaconda3/envs/mypython3/lib/python3.7/site-packages/tensorflow/python/framework/dtypes.py:525: FutureWarning: Passing (type, 1) or '1type' as a synonym of type is deprecated; in a future version of numpy, it will be understood as (type, (1,)) / '(1,)type'.\n",
      "  np_resource = np.dtype([(\"resource\", np.ubyte, 1)])\n",
      "/anaconda3/envs/mypython3/lib/python3.7/site-packages/tensorboard/compat/tensorflow_stub/dtypes.py:541: FutureWarning: Passing (type, 1) or '1type' as a synonym of type is deprecated; in a future version of numpy, it will be understood as (type, (1,)) / '(1,)type'.\n",
      "  _np_qint8 = np.dtype([(\"qint8\", np.int8, 1)])\n",
      "/anaconda3/envs/mypython3/lib/python3.7/site-packages/tensorboard/compat/tensorflow_stub/dtypes.py:542: FutureWarning: Passing (type, 1) or '1type' as a synonym of type is deprecated; in a future version of numpy, it will be understood as (type, (1,)) / '(1,)type'.\n",
      "  _np_quint8 = np.dtype([(\"quint8\", np.uint8, 1)])\n",
      "/anaconda3/envs/mypython3/lib/python3.7/site-packages/tensorboard/compat/tensorflow_stub/dtypes.py:543: FutureWarning: Passing (type, 1) or '1type' as a synonym of type is deprecated; in a future version of numpy, it will be understood as (type, (1,)) / '(1,)type'.\n",
      "  _np_qint16 = np.dtype([(\"qint16\", np.int16, 1)])\n",
      "/anaconda3/envs/mypython3/lib/python3.7/site-packages/tensorboard/compat/tensorflow_stub/dtypes.py:544: FutureWarning: Passing (type, 1) or '1type' as a synonym of type is deprecated; in a future version of numpy, it will be understood as (type, (1,)) / '(1,)type'.\n",
      "  _np_quint16 = np.dtype([(\"quint16\", np.uint16, 1)])\n",
      "/anaconda3/envs/mypython3/lib/python3.7/site-packages/tensorboard/compat/tensorflow_stub/dtypes.py:545: FutureWarning: Passing (type, 1) or '1type' as a synonym of type is deprecated; in a future version of numpy, it will be understood as (type, (1,)) / '(1,)type'.\n",
      "  _np_qint32 = np.dtype([(\"qint32\", np.int32, 1)])\n",
      "/anaconda3/envs/mypython3/lib/python3.7/site-packages/tensorboard/compat/tensorflow_stub/dtypes.py:550: FutureWarning: Passing (type, 1) or '1type' as a synonym of type is deprecated; in a future version of numpy, it will be understood as (type, (1,)) / '(1,)type'.\n",
      "  np_resource = np.dtype([(\"resource\", np.ubyte, 1)])\n"
     ]
    }
   ],
   "source": [
    "import neuspell\n",
    "from neuspell import available_checkers, BertChecker"
   ]
  },
  {
   "cell_type": "code",
   "execution_count": 12,
   "metadata": {},
   "outputs": [
    {
     "name": "stdout",
     "output_type": "stream",
     "text": [
      "subwordbert-probwordnoise created\n",
      "Pretrained model downloading start (may take few seconds to couple of minutes based on download speed) ...\n",
      "Pretrained model download success\n"
     ]
    }
   ],
   "source": [
    "neuspell.seq_modeling.downloads.download_pretrained_model(\"subwordbert-probwordnoise\")"
   ]
  },
  {
   "cell_type": "code",
   "execution_count": 14,
   "metadata": {},
   "outputs": [
    {
     "name": "stdout",
     "output_type": "stream",
     "text": [
      "available checkers: ['BertsclstmChecker', 'CnnlstmChecker', 'ElmosclstmChecker', 'NestedlstmChecker', 'SclstmChecker', 'SclstmbertChecker', 'SclstmelmoChecker', 'BertChecker']\n"
     ]
    }
   ],
   "source": [
    "\"\"\" see available checkers \"\"\"\n",
    "print(f\"available checkers: {neuspell.available_checkers()}\")\n",
    "# → available checkers: ['BertsclstmChecker', 'CnnlstmChecker', 'NestedlstmChecker', 'SclstmChecker', 'SclstmbertChecker', 'BertChecker', 'SclstmelmoChecker', 'ElmosclstmChecker']\n"
   ]
  },
  {
   "cell_type": "code",
   "execution_count": 108,
   "metadata": {},
   "outputs": [],
   "source": [
    "\"\"\" select spell checkers & load \"\"\"\n",
    "#from neuspell import SclstmbertChecker\n",
    "#checker = SclstmbertChecker()\n",
    "\n",
    "#SC-LSTM plus BERT (at input)\n",
    "\n",
    "from neuspell import BertsclstmChecker\n",
    "checker = BertsclstmChecker()\n",
    "\n"
   ]
  },
  {
   "cell_type": "code",
   "execution_count": 121,
   "metadata": {},
   "outputs": [
    {
     "name": "stdout",
     "output_type": "stream",
     "text": [
      "loading vocab from path:/Users/rosafilgueira/HW-Work/NLS-Fellowship/work/frances/neuspell/neuspell/../data/checkpoints/bertscrnn-probwordnoise/vocab.pkl\n",
      "initializing model\n"
     ]
    },
    {
     "name": "stderr",
     "output_type": "stream",
     "text": [
      "Some weights of the model checkpoint at bert-base-cased were not used when initializing BertModel: ['cls.predictions.transform.LayerNorm.bias', 'cls.seq_relationship.weight', 'cls.predictions.decoder.weight', 'cls.predictions.bias', 'cls.seq_relationship.bias', 'cls.predictions.transform.dense.bias', 'cls.predictions.transform.LayerNorm.weight', 'cls.predictions.transform.dense.weight']\n",
      "- This IS expected if you are initializing BertModel from the checkpoint of a model trained on another task or with another architecture (e.g. initializing a BertForSequenceClassification model from a BertForPreTraining model).\n",
      "- This IS NOT expected if you are initializing BertModel from the checkpoint of a model that you expect to be exactly identical (initializing a BertForSequenceClassification model from a BertForSequenceClassification model).\n"
     ]
    },
    {
     "name": "stdout",
     "output_type": "stream",
     "text": [
      "Number of parameters in the model: 223567266\n",
      "Loading model params from checkpoint dir: /Users/rosafilgueira/HW-Work/NLS-Fellowship/work/frances/neuspell/neuspell/../data/checkpoints/bertscrnn-probwordnoise\n"
     ]
    }
   ],
   "source": [
    "checker.from_pretrained()\n",
    "clean_documents=[]"
   ]
  },
  {
   "cell_type": "code",
   "execution_count": null,
   "metadata": {},
   "outputs": [],
   "source": [
    "cont=0\n",
    "for raw in documents:\n",
    "    try:\n",
    "        clean_documents.append(checker.correct(raw))\n",
    "    except:\n",
    "        print(\"Error in %s\" %cont)\n",
    "        clean_documents.append(raw)\n",
    "    cont=cont+1"
   ]
  },
  {
   "cell_type": "code",
   "execution_count": 119,
   "metadata": {},
   "outputs": [
    {
     "name": "stdout",
     "output_type": "stream",
     "text": [
      "in the Roman catholic countries , fignifi . esa society for the improvement of devo Of these there are several sorts ; as , i . The fraternity of the rofury , founded by St Dominic : it is divided into two branches , called the common rosary , and the perpetual rosary ; the former of whom are obliged to confess and communicate every first Sunday in the month , and the latter to repeat the rosary continually . 2 . The fraternity of the fcapulary , whom the blessed Virgin , according to the fabbatin bull of pope John XXII . has promised to deliver out of hell the lint Sunday after their death . See Scapulary . 3 . The fraternity of St Francis ’ s girdle , are cloathed wim a fade of a grey colour , which they tie with a cord , ; and , in proeeffions , walk bare - looted , carrying in their hands a wooden cross , 4 . That of St Auf Hn ’ s leathern girdle , comprehends a great many devotees . Italy , Spain , and Portugal , are the countries where one sees the greatest number of these fraternities , some of which afl ' ume the name of arch - fraternities . Pope Clement VII . indituted the arch - fraternity of charity , which diflributes breed every Sunday among the poor , and gives portions to forty poor girls on the feast of St Jerom their patron . The fraternity of death , buries such dead as are abandoned by their relations , and causes masses to be celebrated for them .\n"
     ]
    }
   ],
   "source": [
    "import pickle\n",
    "with open('clean_documents_BertsclstmChecker.txt', 'wb') as fp:\n",
    "    pickle.dump(clean_documents, fp)"
   ]
  },
  {
   "cell_type": "code",
   "execution_count": 72,
   "metadata": {},
   "outputs": [],
   "source": [
    "import difflib\n",
    "def show_diff(seqm):\n",
    "    \"\"\"Unify operations between two compared strings\n",
    "    seqm is a difflib.SequenceMatcher instance whose a & b are strings\"\"\"\n",
    "    output= []\n",
    "    for opcode, a0, a1, b0, b1 in seqm.get_opcodes():\n",
    "        if opcode == 'equal':\n",
    "            output.append(seqm.a[a0:a1])\n",
    "        elif opcode == 'insert':\n",
    "            output.append(\"<ins>\" + seqm.b[b0:b1] + \"</ins>\")\n",
    "        elif opcode == 'delete':\n",
    "            output.append(\"<del>\" + seqm.a[a0:a1] + \"</del>\")\n",
    "        elif opcode == 'replace':\n",
    "             print(\"what to do with 'replace' opcode?\")\n",
    "        else:\n",
    "            print(\"unexpected opcode\")\n",
    "    return ''.join(output)"
   ]
  },
  {
   "cell_type": "code",
   "execution_count": 89,
   "metadata": {},
   "outputs": [
    {
     "name": "stdout",
     "output_type": "stream",
     "text": [
      "what to do with 'replace' opcode?\n",
      "what to do with 'replace' opcode?\n",
      "what to do with 'replace' opcode?\n"
     ]
    },
    {
     "data": {
      "text/plain": [
       "'the aplication of ateries to any part of the body<ins> </ins>.'"
      ]
     },
     "execution_count": 89,
     "metadata": {},
     "output_type": "execute_result"
    }
   ],
   "source": [
    "sm= difflib.SequenceMatcher(None, documents[11], a)\n",
    "show_diff(sm)"
   ]
  },
  {
   "cell_type": "code",
   "execution_count": 90,
   "metadata": {},
   "outputs": [],
   "source": [
    "def inline_diff(a, b):\n",
    "    import difflib\n",
    "    matcher = difflib.SequenceMatcher(None, a, b)\n",
    "    def process_tag(tag, i1, i2, j1, j2):\n",
    "        if tag == 'replace':\n",
    "            return '{' + matcher.a[i1:i2] + ' -> ' + matcher.b[j1:j2] + '}'\n",
    "        if tag == 'delete':\n",
    "            return '{- ' + matcher.a[i1:i2] + '}'\n",
    "        if tag == 'equal':\n",
    "            return matcher.a[i1:i2]\n",
    "        if tag == 'insert':\n",
    "            return '{+ ' + matcher.b[j1:j2] + '}'\n",
    "        assert False, \"Unknown tag %r\"%tag\n",
    "    return ''.join(process_tag(*t) for t in matcher.get_opcodes())\n"
   ]
  },
  {
   "cell_type": "code",
   "execution_count": 91,
   "metadata": {},
   "outputs": [
    {
     "name": "stdout",
     "output_type": "stream",
     "text": [
      "the ap{i -> p}lication of {c -> b}a{u -> t}teries to any part of the body{+  }.\n"
     ]
    }
   ],
   "source": [
    "print(inline_diff(documents[11], a))"
   ]
  },
  {
   "cell_type": "code",
   "execution_count": 92,
   "metadata": {},
   "outputs": [
    {
     "data": {
      "text/plain": [
       "'https://w3id.org/eb/i/Article/9929192893804340_144850367_CAUTERIZATION_0'"
      ]
     },
     "execution_count": 92,
     "metadata": {},
     "output_type": "execute_result"
    }
   ],
   "source": [
    "uris[11]"
   ]
  },
  {
   "cell_type": "code",
   "execution_count": null,
   "metadata": {},
   "outputs": [],
   "source": []
  }
 ],
 "metadata": {
  "kernelspec": {
   "display_name": "Python 3",
   "language": "python",
   "name": "python3"
  },
  "language_info": {
   "codemirror_mode": {
    "name": "ipython",
    "version": 3
   },
   "file_extension": ".py",
   "mimetype": "text/x-python",
   "name": "python",
   "nbconvert_exporter": "python",
   "pygments_lexer": "ipython3",
   "version": "3.7.2"
  }
 },
 "nbformat": 4,
 "nbformat_minor": 2
}
