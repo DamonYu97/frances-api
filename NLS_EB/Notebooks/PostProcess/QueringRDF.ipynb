{
 "cells": [
  {
   "cell_type": "markdown",
   "metadata": {},
   "source": [
    "# RDF-   NLS -  Encyclopaedia Britannica\n",
    "\n",
    "This notebook is going to create the RDF triples to generate our RDLIB GRAPH\n",
    "\n",
    "For each postprocess edition dataframe that we got from **Merging_EB_Terms.ipynb** (e.g. results_eb_1_edition_dataframe, results_eb_2_edition_dataframe, etc) we are going to add the information from the dataframe that we got from **Metadata_EB.ipynb** (metadata_eb_dataframe). \n",
    "\n",
    "The idea is to have per edition dataframe (and also supplement dataframe), all the information (which currently is splitted across several dataframes) in one. \n",
    "\n",
    "\n",
    "This notebook will store the final dataframes in results_NLS directory, and their name schema will be **final_eb_< NUM_EDITION >_dataframe**.\n",
    "\n",
    "Per entry in these new dataframes we will have the following columns (see an example of one entry of the first edition):\n",
    "\n",
    "- MMSID:                                              \n",
    "- editionTitle:                          First edition, 1771, Volume 1, A-B\n",
    "- editor:                                                  Smellie, William\n",
    "- editor_date:                                                   1740-1795\n",
    "- genre:                                                       encyclopedia\n",
    "- language:                                                             eng\n",
    "- termsOfAddress:                                                       NaN\n",
    "- numberOfPages:                                                        832\n",
    "- physicalDescription:               3 v., 160 plates : ill. ; 26 cm. (4to)\n",
    "- place:                                                         Edinburgh\n",
    "- publisher:              Printed for A. Bell and C. Macfarquhar; and so...\n",
    "- referencedBy:           [Alston, R.C.  Engl. language III, 560, ESTC T...\n",
    "- shelfLocator:                                                        EB.1\n",
    "- editionSubTitle:        Illustrated with one hundred and sixty copperp...\n",
    "- volumeTitle:            Encyclopaedia Britannica; or, A dictionary of ...\n",
    "- year:                                                                1771\n",
    "- volumeId:                                                       144133901\n",
    "- metsXML:                                               144133901-mets.xml\n",
    "- permanentURL:                            https://digital.nls.uk/144133901\n",
    "- publisherPersons:                     [C. Macfarquhar, Colin Macfarquhar]\n",
    "- volumeNum:                                                              1\n",
    "- letters:                                                              A-B\n",
    "- part:                                                                   0\n",
    "- editionNum:                                                             1\n",
    "- supplementTitle:                                                         \n",
    "- supplementSubTitle:                                                      \n",
    "- supplementsTo:                                                         []\n",
    "- numberOfVolumes:                                                        6\n",
    "- term:                                                                  OR\n",
    "- definition:             A NEW A D I C T I A A, the name of several riv...\n",
    "- relatedTerms:                                                          []\n",
    "- header:                                           EncyclopaediaBritannica\n",
    "- startsAt:                                                              15\n",
    "- endsAt:                                                                15\n",
    "- numberOfTerms:                                                         22\n",
    "- numberOfWords:                                                         54\n",
    "- positionPage:                                                           0\n",
    "- typeTerm:                                                         Article\n",
    "- altoXML:                                  144133901/alto/188082904.34.xml"
   ]
  },
  {
   "cell_type": "markdown",
   "metadata": {},
   "source": [
    "### Loading the necessary libraries"
   ]
  },
  {
   "cell_type": "code",
   "execution_count": 1,
   "metadata": {},
   "outputs": [],
   "source": [
    "import rdflib\n",
    "from rdflib.extras.external_graph_libs import rdflib_to_networkx_multidigraph\n",
    "import networkx as nx\n",
    "import matplotlib.pyplot as pl\n",
    "from rdflib import Graph, ConjunctiveGraph, Namespace, Literal\n",
    "from rdflib.plugins.sparql import prepareQuery"
   ]
  },
  {
   "cell_type": "code",
   "execution_count": 2,
   "metadata": {},
   "outputs": [],
   "source": [
    "import networkx as nx\n",
    "import matplotlib.pyplot as plt\n",
    "from SPARQLWrapper import SPARQLWrapper, JSON"
   ]
  },
  {
   "cell_type": "code",
   "execution_count": 3,
   "metadata": {},
   "outputs": [],
   "source": [
    "import matplotlib.pyplot as plt\n",
    "plt.rcParams['figure.figsize'] = [15, 10]"
   ]
  },
  {
   "cell_type": "markdown",
   "metadata": {},
   "source": [
    "### Functions"
   ]
  },
  {
   "cell_type": "code",
   "execution_count": 147,
   "metadata": {},
   "outputs": [],
   "source": [
    "def plot_resource(results):\n",
    "\n",
    "    G = rdflib_to_networkx_multidigraph(results)\n",
    "    pos = nx.spring_layout(G, scale=3)\n",
    "    edge_labels = nx.get_edge_attributes(G, 'r')\n",
    "    nx.draw_networkx_edge_labels(G, pos, edge_labels=edge_labels)\n",
    "    nx.draw(G, with_labels=True)\n",
    "    plt.show()"
   ]
  },
  {
   "cell_type": "markdown",
   "metadata": {},
   "source": [
    "### 1. Loading the graph"
   ]
  },
  {
   "cell_type": "code",
   "execution_count": 108,
   "metadata": {},
   "outputs": [
    {
     "data": {
      "text/plain": [
       "<Graph identifier=N5bbf3276125d4f6f84996699f7cab846 (<class 'rdflib.graph.Graph'>)>"
      ]
     },
     "execution_count": 108,
     "metadata": {},
     "output_type": "execute_result"
    }
   ],
   "source": [
    "g = Graph()\n",
    "g.parse(\"../../results_NLS/edition1st.ttl\", format=\"ttl\") "
   ]
  },
  {
   "cell_type": "markdown",
   "metadata": {},
   "source": [
    "List all the resources with the property eb:editor"
   ]
  },
  {
   "cell_type": "code",
   "execution_count": 109,
   "metadata": {},
   "outputs": [
    {
     "name": "stdout",
     "output_type": "stream",
     "text": [
      "https://w3id.org/eb/i/Edition/9929192893804340\n",
      "https://w3id.org/eb/i/Edition/992277653804341\n"
     ]
    }
   ],
   "source": [
    "eb = Namespace(\"https://w3id.org/eb#\")\n",
    "\n",
    "q1 = prepareQuery('''\n",
    "  SELECT ?Edition WHERE { \n",
    "    ?Edition eb:editor ?FullName. \n",
    "  }\n",
    "  ''',\n",
    "  initNs = { \"eb\": eb}\n",
    ")\n",
    "\n",
    "\n",
    "for r in g.query(q1):\n",
    "      print(r.Edition)"
   ]
  },
  {
   "cell_type": "markdown",
   "metadata": {},
   "source": [
    "Same query but asking more information about the resources obtained. "
   ]
  },
  {
   "cell_type": "code",
   "execution_count": 110,
   "metadata": {},
   "outputs": [
    {
     "name": "stdout",
     "output_type": "stream",
     "text": [
      "https://w3id.org/eb/i/Edition/9929192893804340 https://w3id.org/eb/i/Person/Smellie,William\n",
      "https://w3id.org/eb/i/Edition/992277653804341 https://w3id.org/eb/i/Person/Smellie,William\n"
     ]
    }
   ],
   "source": [
    "q2 = prepareQuery('''\n",
    "  SELECT ?Subject ?Editor WHERE { \n",
    "    ?Subject eb:editor ?Editor.\n",
    "  } \n",
    "  ''',\n",
    "  initNs = { \"eb\": eb}\n",
    ")\n",
    "\n",
    "for r in g.query(q2):\n",
    "  print(r.Subject, r.Editor)"
   ]
  },
  {
   "cell_type": "code",
   "execution_count": 163,
   "metadata": {},
   "outputs": [
    {
     "name": "stdout",
     "output_type": "stream",
     "text": [
      "Smellie, William\n"
     ]
    }
   ],
   "source": [
    "q2a = prepareQuery('''\n",
    "SELECT DISTINCT ?name\n",
    "    WHERE {\n",
    "     ?instance eb:editor ?Editor.\n",
    "     ?Editor eb:name ?name .\n",
    "    }\n",
    "    ''',\n",
    "  initNs = { \"eb\": eb}\n",
    ")\n",
    "\n",
    "for r in g.query(q2a):\n",
    "      print(r.name)"
   ]
  },
  {
   "cell_type": "code",
   "execution_count": 169,
   "metadata": {},
   "outputs": [
    {
     "data": {
      "text/plain": [
       "rdflib.term.Literal('Smellie, William', datatype=rdflib.term.URIRef('http://www.w3.org/2001/XMLSchema#string'))"
      ]
     },
     "execution_count": 169,
     "metadata": {},
     "output_type": "execute_result"
    }
   ],
   "source": [
    "res=g.query(q2a)\n",
    "a=list(res)[0]\n",
    "a.name"
   ]
  },
  {
   "cell_type": "markdown",
   "metadata": {},
   "source": [
    "Same query asking for the first 10 resources with the properity eb.name"
   ]
  },
  {
   "cell_type": "code",
   "execution_count": 112,
   "metadata": {},
   "outputs": [
    {
     "name": "stdout",
     "output_type": "stream",
     "text": [
      "https://w3id.org/eb/i/Article/992277653804341_144133903_STELLIONATE_0 STELLIONATE\n",
      "https://w3id.org/eb/i/Article/9929192893804340_144850367_GYSHORN_0 GYSHORN\n",
      "https://w3id.org/eb/i/Article/9929192893804340_144850367_LABOUR_0 LABOUR\n",
      "https://w3id.org/eb/i/Article/992277653804341_144133902_LUNENBURG_0 LUNENBURG\n",
      "https://w3id.org/eb/i/Article/9929192893804340_144850368_MULE_0 MULE\n",
      "https://w3id.org/eb/i/Article/992277653804341_144133901_AMMA_0 AMMA\n",
      "https://w3id.org/eb/i/Article/9929192893804340_144850366_BILLETING_0 BILLETING\n",
      "https://w3id.org/eb/i/Article/992277653804341_144133901_BERLIN_0 BERLIN\n",
      "https://w3id.org/eb/i/Article/992277653804341_144133903_TRIPARTITE_0 TRIPARTITE\n",
      "https://w3id.org/eb/i/Article/9929192893804340_144850368_OBLIQUITY_0 OBLIQUITY\n"
     ]
    }
   ],
   "source": [
    "q2 = prepareQuery('''\n",
    "  SELECT ?Subject ?Name WHERE { \n",
    "    ?Subject eb:name ?Name.\n",
    "  } \n",
    "  LIMIT 10\n",
    "  ''',\n",
    "  initNs = { \"eb\": eb}\n",
    ")\n",
    "\n",
    "for r in g.query(q2):\n",
    "    print(r.Subject, r.Name)"
   ]
  },
  {
   "cell_type": "code",
   "execution_count": 156,
   "metadata": {},
   "outputs": [],
   "source": [
    "from rdflib import XSD\n",
    "q2 = prepareQuery('''\n",
    "SELECT DISTINCT ?name\n",
    "WHERE {\n",
    " ?instance eb:editor ?editor;\n",
    "           eb:place ?place;\n",
    "           eb:title ?name.\n",
    "  \n",
    "}\n",
    "LIMIT 10\n",
    "  ''',\n",
    "  initNs = { \"eb\": eb}\n",
    ")\n",
    "\n",
    "for r in g.query(q2, initBindings = {'?place' : Literal('London', datatype=XSD.string)}):\n",
    "    print(r.name)"
   ]
  },
  {
   "cell_type": "markdown",
   "metadata": {},
   "source": [
    "Asking for resources which name is \"Smellie, Willian\""
   ]
  },
  {
   "cell_type": "code",
   "execution_count": 114,
   "metadata": {},
   "outputs": [
    {
     "name": "stdout",
     "output_type": "stream",
     "text": [
      "https://w3id.org/eb/i/Person/Smellie,William\n"
     ]
    }
   ],
   "source": [
    "from rdflib import XSD\n",
    "q3 = prepareQuery('''\n",
    "  SELECT ?Subject WHERE { \n",
    "    ?Subject eb:name ?Family.\n",
    "  } \n",
    "  ''',\n",
    "    initNs = { \"eb\": eb}\n",
    ")\n",
    "\n",
    "for r in g.query(q3, initBindings = {'?Family' : Literal('Smellie, William', datatype=XSD.string)}):\n",
    "  print(r.Subject)"
   ]
  },
  {
   "cell_type": "markdown",
   "metadata": {},
   "source": [
    "Asking for resources with name is ABACUS"
   ]
  },
  {
   "cell_type": "code",
   "execution_count": 115,
   "metadata": {},
   "outputs": [
    {
     "name": "stdout",
     "output_type": "stream",
     "text": [
      "https://w3id.org/eb/i/Article/9929192893804340_144850366_ABACUS_3\n",
      "https://w3id.org/eb/i/Article/9929192893804340_144850366_ABACUS_1\n",
      "https://w3id.org/eb/i/Article/992277653804341_144133901_ABACUS_3\n",
      "https://w3id.org/eb/i/Article/9929192893804340_144850366_ABACUS_0\n",
      "https://w3id.org/eb/i/Article/992277653804341_144133901_ABACUS_1\n",
      "https://w3id.org/eb/i/Article/992277653804341_144133901_ABACUS_2\n",
      "https://w3id.org/eb/i/Article/9929192893804340_144850366_ABACUS_2\n",
      "https://w3id.org/eb/i/Article/992277653804341_144133901_ABACUS_0\n"
     ]
    }
   ],
   "source": [
    "from rdflib import XSD\n",
    "q3 = prepareQuery('''\n",
    "  SELECT ?Subject WHERE { \n",
    "    ?Subject eb:name ?Term.\n",
    "  } \n",
    "  ''',\n",
    "    initNs = { \"eb\": eb}\n",
    ")\n",
    "\n",
    "for r in g.query(q3, initBindings = {'?Term' : Literal('ABACUS', datatype=XSD.string)}):\n",
    "  print(r.Subject)"
   ]
  },
  {
   "cell_type": "code",
   "execution_count": 116,
   "metadata": {},
   "outputs": [
    {
     "name": "stdout",
     "output_type": "stream",
     "text": [
      "https://w3id.org/eb/i/Article/9929192893804340_144850366_ABACUS_3 ABACUS\n",
      "https://w3id.org/eb/i/Article/9929192893804340_144850366_ABACUS_1 ABACUS\n",
      "https://w3id.org/eb/i/Article/992277653804341_144133901_ABACUS_3 ABACUS\n",
      "https://w3id.org/eb/i/Article/9929192893804340_144850366_ABACUS_0 ABACUS\n",
      "https://w3id.org/eb/i/Article/992277653804341_144133901_ABACUS_1 ABACUS\n",
      "https://w3id.org/eb/i/Article/992277653804341_144133901_ABACUS_2 ABACUS\n",
      "https://w3id.org/eb/i/Article/9929192893804340_144850366_ABACUS_2 ABACUS\n",
      "https://w3id.org/eb/i/Article/992277653804341_144133901_ABACUS_0 ABACUS\n"
     ]
    }
   ],
   "source": [
    "from rdflib import XSD\n",
    "q4 = prepareQuery('''\n",
    "  SELECT ?Subject ?Term WHERE { \n",
    "    ?Subject eb:name ?Term.\n",
    "  } \n",
    "  ''',\n",
    "    initNs = { \"eb\": eb}\n",
    ")\n",
    "\n",
    "for r in g.query(q4, initBindings = {'?Term' : Literal('ABACUS', datatype=XSD.string)}):\n",
    "  print(r.Subject, r.Term)"
   ]
  },
  {
   "cell_type": "code",
   "execution_count": 117,
   "metadata": {},
   "outputs": [
    {
     "name": "stdout",
     "output_type": "stream",
     "text": [
      "https://w3id.org/eb/i/Edition/992277653804341\n",
      "https://w3id.org/eb/i/Edition/9929192893804340\n"
     ]
    }
   ],
   "source": [
    "q5 = prepareQuery('''\n",
    "    SELECT ?edition\n",
    "    WHERE {\n",
    "       ?edition rdf:type eb:Edition .\n",
    "    }\n",
    "    ''',\n",
    "  initNs = { \"eb\": eb}\n",
    ")\n",
    "\n",
    "for r in g.query(q5):\n",
    "  print(r.edition)"
   ]
  },
  {
   "cell_type": "code",
   "execution_count": 118,
   "metadata": {},
   "outputs": [
    {
     "name": "stdout",
     "output_type": "stream",
     "text": [
      "https://w3id.org/eb/i/Topic/992277653804341_144133903_METAPHYSICS_0\n",
      "https://w3id.org/eb/i/Topic/9929192893804340_144850368_PP_0\n",
      "https://w3id.org/eb/i/Topic/992277653804341_144133902_EXCS_0\n",
      "https://w3id.org/eb/i/Topic/9929192893804340_144850368_IK_0\n",
      "https://w3id.org/eb/i/Topic/992277653804341_144133902_GEOMETRY_0\n",
      "https://w3id.org/eb/i/Topic/992277653804341_144133903_TRIGONOMETRY_0\n",
      "https://w3id.org/eb/i/Topic/9929192893804340_144850367_ELECTELECT_0\n",
      "https://w3id.org/eb/i/Topic/992277653804341_144133903_TRICON_0\n",
      "https://w3id.org/eb/i/Topic/9929192893804340_144850366_ASTRONOMY_2\n",
      "https://w3id.org/eb/i/Topic/9929192893804340_144850366_BLEACKING_0\n"
     ]
    }
   ],
   "source": [
    "q5 = prepareQuery('''\n",
    "    SELECT ?topic\n",
    "    WHERE {\n",
    "       ?topic rdf:type eb:Topic .\n",
    "    }\n",
    "    LIMIT 10\n",
    "    ''',\n",
    "  initNs = { \"eb\": eb}\n",
    ")\n",
    "\n",
    "for r in g.query(q5):\n",
    "  print(r.topic)"
   ]
  },
  {
   "cell_type": "code",
   "execution_count": 119,
   "metadata": {},
   "outputs": [],
   "source": [
    "q6 = prepareQuery('''\n",
    "    SELECT *\n",
    "    WHERE {\n",
    "       ?topic a eb:Topic .\n",
    "       ?topic eb:relatedTerms ?relatedTerms . \n",
    "       ?topic eb:name ?name .\n",
    "       ?topic eb:startsAt ?startsAt.\n",
    "       ?topic eb:endsAt ?endsAt.\n",
    "    }\n",
    "    LIMIT 10\n",
    "    ''',\n",
    "  initNs = { \"eb\": eb}\n",
    ")\n",
    "\n",
    "for r in g.query(q6):\n",
    "  print(r.topic, r.relatedTerms, r.name, r.startsAt, r.endsAt)"
   ]
  },
  {
   "cell_type": "code",
   "execution_count": 120,
   "metadata": {},
   "outputs": [
    {
     "name": "stdout",
     "output_type": "stream",
     "text": [
      "https://w3id.org/eb/i/Article/992277653804341_144133901_BENCH_0 https://w3id.org/eb/i/Article/992277653804341_144133902_ENGLAND_0 BENCH or Banc, in law. See Banc. Free Bench signifies that estate in copyhold-lands, whichthe wife, being espoused a virgin, has, after the decease of her husband, for her dower, according to the custom of the manor. As to this free-bench, several manors have several customs; and in the manors of East and West Enbourne, in the county of Berks, and other parts of England, there is a custom, that when a copyhold tenant dies, the widow (hall have her freebench in all the deceased husband’s lands, whilst (he lives Angle and ehafte ; but if she commits incontinency, she (hall forfeit her estate : Nevertheless, upon her coming into the court of the manor, riding on x black ram, and having his tail in her hand, and at the same time repeating a form of words preferibed, the steward is obliged, by the custom of the manor, to readmit her to her free-bench. Widow' s Bench. See Widow. Amiable Bench. See Amiable.\n",
      "https://w3id.org/eb/i/Article/992277653804341_144133901_BENCH_0 https://w3id.org/eb/i/Article/992277653804341_144133901_BANC_0 BENCH or Banc, in law. See Banc. Free Bench signifies that estate in copyhold-lands, whichthe wife, being espoused a virgin, has, after the decease of her husband, for her dower, according to the custom of the manor. As to this free-bench, several manors have several customs; and in the manors of East and West Enbourne, in the county of Berks, and other parts of England, there is a custom, that when a copyhold tenant dies, the widow (hall have her freebench in all the deceased husband’s lands, whilst (he lives Angle and ehafte ; but if she commits incontinency, she (hall forfeit her estate : Nevertheless, upon her coming into the court of the manor, riding on x black ram, and having his tail in her hand, and at the same time repeating a form of words preferibed, the steward is obliged, by the custom of the manor, to readmit her to her free-bench. Widow' s Bench. See Widow. Amiable Bench. See Amiable.\n",
      "https://w3id.org/eb/i/Article/9929192893804340_144850366_BALSAM_0 https://w3id.org/eb/i/Topic/9929192893804340_144850367_CHEMISTRY_0 BALSAM or Native Balsam, an oily, refinous, liquid substance, flowing either spontaneously, or by means of incision, from certain plants. There are a great variety of balfams, generally denominated from the substances from which they are obtained. See Chemistry, Of ref ns and balfams.\n",
      "https://w3id.org/eb/i/Article/9929192893804340_144850367_HELL_0 https://w3id.org/eb/i/Article/9929192893804340_144850367_JERUSALEM_0 HELL the place of divine punishment after death. As all religions have supposed a future state of existence after this life; so all have their hell or place of torment, in which the wicked are supposed to be punilhed. The hell of the ancient heathens was divided into two mansions ; the one called elysium, on the right hand, pleasant and delightful, appointed for the souls of good men ; the other cal ! ed tartara, on the left, a region of mileryand torment, appointed for the wicked. The latter only was hell* in the present restrained sense of the word. See Elysium. The philosophers were of opinion, that the infernal regions were at an equal distance from all the parts of the earth; nevertheless it was the opinion of some, that there were certain paflages which led thither, as the river Lethe near the Syrtes, and the Acherufian cave in Epirus. At Hermione it was thought, that there was a very Ihort way to hell; for which reason the people of that country never put the fare into the mouths of the dead to pay their pa/Tage. The Jews placed hell in the centre of the earth, and believed it to be situated under waters and mountains. According to them, there are three passages leading to it: the first is in the wilderness, and by that Korah, Dathan and Abiram descended into hell; the second is in the sea, because Jonah, who was thrown into the sea, cried to God out of the belly of hell; the third is in Jerusalem, because it is said the fire of the Lord is in Zion, and his furnace is in Jerusalem. They like wife acknowledged seven degrees of pain in hejl, because they find this place called by seven different names in scripture. Though they believed that infidels, and perlons eminently wicked, will continue for ever in hell; yet they maintained, that every Jew who is not infeifted with some heresy, and has not adted contrary to the points mentioned by the rabbins, will not be puniftied therein for any other crimes above a year at most. The Mahometans believe the eternity of rew’ards and punilhments in another life. In the Koran it is said, that hell has /even gates the first for the Muffulmans, the second for the Christians, the third for the Jews, ihe fourth for the Sabians, the fifth for the Magians,sixth for the pagans, and the seventh for the hypocrites of all religions. Among Chrii Hans, there are two controverted questions in regard to hell ; the one concerns locality, the other the duration of its torments. The locality of hell, and the reality of its fire, began firfi: to be controverted by Origen, That father, interpreting the scripture account metaphorically, makes hell to consist not in external punilhments, but in a consciousness or sense of guilt, and a remembrance of pafl: pleasures. Among the moderns, Mr Whifton advanced a new hypothesis. According to him, the comets are so many hells appointed in their orbits alternately to carry the damned into the confines of the sun, there to befcorched by its violent heat, and then to return with them beyond the orb of Saturn, there to flarve them in these cold and difraal regions. Another modern author, not satisfied with any hypothesis hitherto advanced, afligns the sun to be the local hell. As to the second question, viz. the duration of hell-torments, we have Origen again at the head of those who deny that they are eternal; it being that father’s opinion, that not only men, but devils, after a due course of punilhment suitable to their refpe&ive crimes, lhall be pardoned and restored to heaven. The chief principle upon which Origen built his opinion, was the nature of punishment,. which he took to be emendatory, applied only as physic for the recovery of the patient’s health. The chief objection, to the eternity of hell torments among modern writers, is the disproportion between temporary crimes and eternal punifliments. Those who maintain the affirmative, ground their opinions on scripture accounts, which represent the pains of hell under the figure of a worm which never dies, and a fire which is not quenched; as also upon the words, “ These ffiall go away into everlasting punifnment, but “ the righteous into life eternal. HELLEBORUS, hellebore,in botany, agenusof the polyandria polygynia class. It has no calix ; the petals are five or more; the neiharium is tubular and bilabiated; and the capfule contains many feeds. There are five species, two of them natives of Britain, viz. the fsetidus, or great bastard black hellebore ; and the viridis, or wild black hellebore. The hellebore, when taken in large quantities, is poisonous ; but the root, in small dofes, is supposed to attenuate the humours, and to promote urinary and uterine discharges.\n",
      "https://w3id.org/eb/i/Article/9929192893804340_144850367_HELL_0 https://w3id.org/eb/i/Article/9929192893804340_144850367_JONAH_0 HELL the place of divine punishment after death. As all religions have supposed a future state of existence after this life; so all have their hell or place of torment, in which the wicked are supposed to be punilhed. The hell of the ancient heathens was divided into two mansions ; the one called elysium, on the right hand, pleasant and delightful, appointed for the souls of good men ; the other cal ! ed tartara, on the left, a region of mileryand torment, appointed for the wicked. The latter only was hell* in the present restrained sense of the word. See Elysium. The philosophers were of opinion, that the infernal regions were at an equal distance from all the parts of the earth; nevertheless it was the opinion of some, that there were certain paflages which led thither, as the river Lethe near the Syrtes, and the Acherufian cave in Epirus. At Hermione it was thought, that there was a very Ihort way to hell; for which reason the people of that country never put the fare into the mouths of the dead to pay their pa/Tage. The Jews placed hell in the centre of the earth, and believed it to be situated under waters and mountains. According to them, there are three passages leading to it: the first is in the wilderness, and by that Korah, Dathan and Abiram descended into hell; the second is in the sea, because Jonah, who was thrown into the sea, cried to God out of the belly of hell; the third is in Jerusalem, because it is said the fire of the Lord is in Zion, and his furnace is in Jerusalem. They like wife acknowledged seven degrees of pain in hejl, because they find this place called by seven different names in scripture. Though they believed that infidels, and perlons eminently wicked, will continue for ever in hell; yet they maintained, that every Jew who is not infeifted with some heresy, and has not adted contrary to the points mentioned by the rabbins, will not be puniftied therein for any other crimes above a year at most. The Mahometans believe the eternity of rew’ards and punilhments in another life. In the Koran it is said, that hell has /even gates the first for the Muffulmans, the second for the Christians, the third for the Jews, ihe fourth for the Sabians, the fifth for the Magians,sixth for the pagans, and the seventh for the hypocrites of all religions. Among Chrii Hans, there are two controverted questions in regard to hell ; the one concerns locality, the other the duration of its torments. The locality of hell, and the reality of its fire, began firfi: to be controverted by Origen, That father, interpreting the scripture account metaphorically, makes hell to consist not in external punilhments, but in a consciousness or sense of guilt, and a remembrance of pafl: pleasures. Among the moderns, Mr Whifton advanced a new hypothesis. According to him, the comets are so many hells appointed in their orbits alternately to carry the damned into the confines of the sun, there to befcorched by its violent heat, and then to return with them beyond the orb of Saturn, there to flarve them in these cold and difraal regions. Another modern author, not satisfied with any hypothesis hitherto advanced, afligns the sun to be the local hell. As to the second question, viz. the duration of hell-torments, we have Origen again at the head of those who deny that they are eternal; it being that father’s opinion, that not only men, but devils, after a due course of punilhment suitable to their refpe&ive crimes, lhall be pardoned and restored to heaven. The chief principle upon which Origen built his opinion, was the nature of punishment,. which he took to be emendatory, applied only as physic for the recovery of the patient’s health. The chief objection, to the eternity of hell torments among modern writers, is the disproportion between temporary crimes and eternal punifliments. Those who maintain the affirmative, ground their opinions on scripture accounts, which represent the pains of hell under the figure of a worm which never dies, and a fire which is not quenched; as also upon the words, “ These ffiall go away into everlasting punifnment, but “ the righteous into life eternal. HELLEBORUS, hellebore,in botany, agenusof the polyandria polygynia class. It has no calix ; the petals are five or more; the neiharium is tubular and bilabiated; and the capfule contains many feeds. There are five species, two of them natives of Britain, viz. the fsetidus, or great bastard black hellebore ; and the viridis, or wild black hellebore. The hellebore, when taken in large quantities, is poisonous ; but the root, in small dofes, is supposed to attenuate the humours, and to promote urinary and uterine discharges.\n"
     ]
    }
   ],
   "source": [
    "q6 = prepareQuery('''\n",
    "    SELECT *\n",
    "    WHERE {\n",
    "       ?article a eb:Article .\n",
    "       ?article eb:relatedTerms ?relatedTerms . \n",
    "       ?article eb:name ?name .\n",
    "       ?article eb:definition ?definition.\n",
    "    }\n",
    "    LIMIT 5\n",
    "    ''',\n",
    "  initNs = { \"eb\": eb}\n",
    ")\n",
    "\n",
    "for r in g.query(q6):\n",
    "  print(r.article, r.relatedTerms, r.name, r.definition)"
   ]
  },
  {
   "cell_type": "code",
   "execution_count": 121,
   "metadata": {},
   "outputs": [
    {
     "name": "stdout",
     "output_type": "stream",
     "text": [
      "https://w3id.org/eb/i/Article/992277653804341_144133901_AMAPALLA_0 AMAPALLA a. sea-port town of Mexico, in the pro, vince of Guatimala, situated on the Pacific ocean, in 93 0 W. long, and\n",
      "https://w3id.org/eb/i/Article/992277653804341_144133902_EBDOMARIUS_0 EBDOMARIUS in ecelefiartical writers, an officer formeily appointed weekly to fuperintend the performance of divine fcrvice in cathedrals, and preferibe the duties ofeach person attending i. n the choir, as to reading, -singing, praying, be.\n",
      "https://w3id.org/eb/i/Article/9929192893804340_144850368_REPTILES_0 REPTILES in natural history, a kind of animals denominated from their creeping or advancing on the belly. Or reptiles are a genus of animals and infe&s, which, instead of feet, rest on one part of the body, while they advance forward with the rest. Such are earthworms, snakes, caterpillars, 6<r.\n",
      "https://w3id.org/eb/i/Article/9929192893804340_144850367_CLACK_0 CLACK among country-men. To clack wool, is to cut off the. ftieep’s mark, which makes the .weight less, and yields less cudom to the king. , : CLACKMANNAN, the capital of Clackraannanfhire, in Scotland, situated on the northern shore of the Forth, about twenty five miles north-wed. of Edinburgh : W. long. 3 0 40' ,N. lat. 56° is'. The county of Clackmannan is joined with that of Kinross, which each in their turn chuse a member to represent them in parliament.\n",
      "https://w3id.org/eb/i/Article/992277653804341_144133901_ANASTOMATICS_0 ANASTOMATICS medicines supposed to have the power of .opening the mouths of the veflels, and promoting the circulation; such as deobfthuent, cathartic,\n"
     ]
    }
   ],
   "source": [
    "q6 = prepareQuery('''\n",
    "    SELECT *\n",
    "    WHERE {\n",
    "       ?article a eb:Article . \n",
    "       ?article eb:name ?name .\n",
    "       ?article eb:definition ?definition.\n",
    "    }\n",
    "    LIMIT 5\n",
    "    ''',\n",
    "  initNs = { \"eb\": eb}\n",
    ")\n",
    "\n",
    "for r in g.query(q6):\n",
    "  print(r.article, r.name, r.definition)"
   ]
  },
  {
   "cell_type": "code",
   "execution_count": 122,
   "metadata": {},
   "outputs": [
    {
     "name": "stdout",
     "output_type": "stream",
     "text": [
      "https://w3id.org/eb/i/Article/9929192893804340_144850366_ABACUS_3 Pythagoricus, the multiplication-table, or any table of numbers that facilitates operations in arith- https://w3id.org/eb/i/Volume/9929192893804340_144850366 Encyclopaedia Britannica: or, A dictionary of arts and sciences\n",
      "----\n",
      "https://w3id.org/eb/i/Article/9929192893804340_144850366_ABACUS_1 in architedture, signifies the superior part or member of the capital of a column, and serves as a kind of crowning to both. It was originally intended to represent a square tile covering a basket. The form of the abacus is not the same in all orders: in the Tuscan, Doric, and Ionic, it is generally square; biit in the Corinthian and Compofite, its four sides are arched inwards, and embellilhed in the middle withornament, as a rose or other flower. Scammozzi uses abacus for a concave moulding on the capital of the Tuscan pedestal; and Palladio calls the plinth above the echinus, or boultin, in the Tuscan and Doric orders, by the same name. See plate I. fig. I. and https://w3id.org/eb/i/Volume/9929192893804340_144850366 Encyclopaedia Britannica: or, A dictionary of arts and sciences\n",
      "----\n",
      "https://w3id.org/eb/i/Article/992277653804341_144133901_ABACUS_3 logijlicus, a right-angled triangle, whose sides forming the right angle contain the numbers from 1 to 60, and its area the fafta of every two of the numbers perpendicularly opposite. This is also called a canon Jk^&cus Pythagvricus, the multiplication-table, or any table of numbers that facilitates operations in arith- https://w3id.org/eb/i/Volume/992277653804341_144133901 Encyclopaedia Britannica; or, A dictionary of arts and sciences, compiled upon a new plan\n",
      "----\n",
      "https://w3id.org/eb/i/Article/9929192893804340_144850366_ABACUS_0 a table strewed over with dust or sand, upon v/hich the ancient mathematicians drew their figures. It also signified a cupboard, or buffet. https://w3id.org/eb/i/Volume/9929192893804340_144850366 Encyclopaedia Britannica: or, A dictionary of arts and sciences\n",
      "----\n",
      "https://w3id.org/eb/i/Article/992277653804341_144133901_ABACUS_1 in architeflure, signifies the superior part or member of the capital of a column, and serves as a kind of crowning to both. It was originally intended to represent a square tile covering a basket. The form of the abacus is not the same in all orders: in the Tuscan, Doric, and Ionic, it‘is generally square; but in the Corinthian and Compofite, its four sides are arched ir Avards, and embellilhed in the middle withornament, as a rose or other flower, Scammozzi uses abacus for a concave moulding on the capital of the Tuscan pedefial; and Palladio calls the plinth above the echinus, or boultin, in the Tufean and Doric orders, by the same name. See plate I. fig. i. and https://w3id.org/eb/i/Volume/992277653804341_144133901 Encyclopaedia Britannica; or, A dictionary of arts and sciences, compiled upon a new plan\n",
      "----\n",
      "https://w3id.org/eb/i/Article/992277653804341_144133901_ABACUS_2 is also the name of an ancient instrument for facilitating operations in arithmetic. It is vadoully contrived. That chiefly used in Europe is made by drawing any number of parallel lines at the di(lance of two diameters of one of the counters used in the calculation. A counter placed on.the lowed line, signifies r; on the sd, 10; on the 3d, 100; on the 4th, 1000, &c. In the intermediate spaces, the same counters are eflimated at one Jialf of the value of the line immediately superior, viz. between the id and 2d, 5; between the 2d and 3d, 50, &c. See plate I. fig. 2. A B, where the same number, 1768 for example, is represented under both by different dispositions of the counters. https://w3id.org/eb/i/Volume/992277653804341_144133901 Encyclopaedia Britannica; or, A dictionary of arts and sciences, compiled upon a new plan\n",
      "----\n",
      "https://w3id.org/eb/i/Article/9929192893804340_144850366_ABACUS_2 is also the name of an ancient inllrument for facilitating operations in arithmetic. It is variously contrived. That chiefly used in Europe is made by drawing any number of parallel lines at the difiance of two diameters of one of the counters used in the calculation. A counter placed on the lowest line, fignifics i; on the 2d, 10; on the 3d, 100; on the 4th, 1000, &c. In the intermediate spaces, the same counters are efiimated at one half of the value of the line immediately superior, viz. between the ist and 2d, 5 ; between the 2d and 3d, 50, &c. See plate I. fig. 2. A B, where the same number, 1768 for example, is represented under both by different dispositions of the counters. https://w3id.org/eb/i/Volume/9929192893804340_144850366 Encyclopaedia Britannica: or, A dictionary of arts and sciences\n",
      "----\n",
      "https://w3id.org/eb/i/Article/992277653804341_144133901_ABACUS_0 a table strewed over with dust or sand, upon which the ancient mathematicians drew their figures, It also signified a cupboard, or buffet. https://w3id.org/eb/i/Volume/992277653804341_144133901 Encyclopaedia Britannica; or, A dictionary of arts and sciences, compiled upon a new plan\n",
      "----\n"
     ]
    }
   ],
   "source": [
    "q7 = prepareQuery('''\n",
    "  SELECT  ?Subject ?Definition ?HasPart ?Title WHERE {\n",
    "    ?Subject eb:name ?Term.\n",
    "    ?Subject eb:definition ?Definition.\n",
    "    ?HasPart eb:hasPart ?Subject.\n",
    "    ?HasPart eb:title ?Title\n",
    "  }  \n",
    "  ''',\n",
    "  initNs = { \"eb\": eb}\n",
    ")\n",
    "\n",
    "for r in g.query(q7, initBindings = {'?Term' : Literal('ABACUS', datatype=XSD.string)}):\n",
    "  print(r.Subject, r.Definition, r.HasPart, r.Title)\n",
    "  print(\"----\")\n",
    "\n"
   ]
  },
  {
   "cell_type": "code",
   "execution_count": 123,
   "metadata": {},
   "outputs": [
    {
     "name": "stdout",
     "output_type": "stream",
     "text": [
      "https://w3id.org/eb/i/Article/9929192893804340_144850366_ABACUS_3 https://w3id.org/eb/i/Article/9929192893804340_144850366_ABACISCUS_0\n",
      "----\n",
      "https://w3id.org/eb/i/Article/9929192893804340_144850366_ABACUS_1 https://w3id.org/eb/i/Article/9929192893804340_144850366_ABACISCUS_0\n",
      "----\n",
      "https://w3id.org/eb/i/Article/992277653804341_144133901_ABACUS_3 https://w3id.org/eb/i/Article/992277653804341_144133901_ABACISCUS_0\n",
      "----\n",
      "https://w3id.org/eb/i/Article/9929192893804340_144850366_ABACUS_0 https://w3id.org/eb/i/Article/9929192893804340_144850366_ABACISCUS_0\n",
      "----\n",
      "https://w3id.org/eb/i/Article/992277653804341_144133901_ABACUS_1 https://w3id.org/eb/i/Article/992277653804341_144133901_ABACISCUS_0\n",
      "----\n",
      "https://w3id.org/eb/i/Article/992277653804341_144133901_ABACUS_2 https://w3id.org/eb/i/Article/992277653804341_144133901_ABACISCUS_0\n",
      "----\n",
      "https://w3id.org/eb/i/Article/9929192893804340_144850366_ABACUS_2 https://w3id.org/eb/i/Article/9929192893804340_144850366_ABACISCUS_0\n",
      "----\n",
      "https://w3id.org/eb/i/Article/992277653804341_144133901_ABACUS_0 https://w3id.org/eb/i/Article/992277653804341_144133901_ABACISCUS_0\n",
      "----\n"
     ]
    }
   ],
   "source": [
    "q7 = prepareQuery('''\n",
    "  SELECT  ?Subject ?RelatedTerms WHERE {\n",
    "    ?Subject eb:name ?Term.\n",
    "    ?RelatedTerms eb:relatedTerms ?Subject.\n",
    "\n",
    "    \n",
    "  }  \n",
    "  ''',\n",
    "  initNs = { \"eb\": eb}\n",
    ")\n",
    "\n",
    "for r in g.query(q7, initBindings = {'?Term' : Literal('ABACUS', datatype=XSD.string)}):\n",
    "  print(r.Subject, r.RelatedTerms)\n",
    "  print(\"----\")\n"
   ]
  },
  {
   "cell_type": "code",
   "execution_count": 124,
   "metadata": {},
   "outputs": [],
   "source": [
    "#G = rdflib_to_networkx_multidigraph(result)\n",
    "\n",
    "# Plot Networkx instance of RDF Graph\n",
    "#pos = nx.spring_layout(G, scale=2)\n",
    "#edge_labels = nx.get_edge_attributes(G, 'r')\n",
    "#nx.draw_networkx_edge_labels(G, pos, edge_labels=edge_labels)\n",
    "#nx.draw(G, with_labels=True)\n",
    "\n",
    "#if not in interactive mode for \n",
    "#plt.show()\n"
   ]
  },
  {
   "cell_type": "markdown",
   "metadata": {},
   "source": [
    "### 3. Connecting with FUSEKI and using SPARQLWrapper"
   ]
  },
  {
   "cell_type": "markdown",
   "metadata": {},
   "source": [
    "#### 3.1 Basic query"
   ]
  },
  {
   "cell_type": "code",
   "execution_count": 125,
   "metadata": {},
   "outputs": [
    {
     "name": "stdout",
     "output_type": "stream",
     "text": [
      "https://w3id.org/eb/i/Article/9929192893804340_144850368_PAISLEY_0 https://w3id.org/eb#position 4\n",
      "https://w3id.org/eb/i/Article/9929192893804340_144850368_PAISLEY_0 https://w3id.org/eb#numberOfWords 14\n",
      "https://w3id.org/eb/i/Article/9929192893804340_144850368_PAISLEY_0 https://w3id.org/eb#name PAISLEY\n",
      "https://w3id.org/eb/i/Article/9929192893804340_144850368_PAISLEY_0 http://www.w3.org/1999/02/22-rdf-syntax-ns#type https://w3id.org/eb#Article\n",
      "https://w3id.org/eb/i/Article/9929192893804340_144850368_PAISLEY_0 https://w3id.org/eb#definition a town of Scotland, in the county of Renfrew, six miles west of Glasgow.\n"
     ]
    }
   ],
   "source": [
    "sparql = SPARQLWrapper(\"http://localhost:3030/edition1st/sparql\")\n",
    "sparql.setQuery(\"\"\"\n",
    "    SELECT ?subject ?predicate ?object WHERE {   ?subject ?predicate ?object } LIMIT 5 \n",
    "\"\"\")\n",
    "sparql.setReturnFormat(JSON)\n",
    "results = sparql.query().convert()\n",
    "\n",
    "results\n",
    "\n",
    "for result in results[\"results\"][\"bindings\"]:\n",
    "    print(result[\"subject\"][\"value\"], result[\"predicate\"][\"value\"], result[\"object\"][\"value\"] )\n"
   ]
  },
  {
   "cell_type": "markdown",
   "metadata": {},
   "source": [
    "#### 3.2 Describe query"
   ]
  },
  {
   "cell_type": "code",
   "execution_count": 148,
   "metadata": {},
   "outputs": [],
   "source": [
    "sparql = SPARQLWrapper(\"http://localhost:3030/edition1st/sparql\")\n",
    "sparql.setQuery(\"\"\"\n",
    "    DESCRIBE <https://w3id.org/eb/i/Article/9929192893804340_144850368_PAISLEY_0>\n",
    "\"\"\")\n",
    "\n",
    "sparql.setReturnFormat(JSON)\n",
    "results = sparql.query().convert()\n"
   ]
  },
  {
   "cell_type": "markdown",
   "metadata": {},
   "source": [
    "##### 3.2.1 Plot Describe Result Graph "
   ]
  },
  {
   "cell_type": "code",
   "execution_count": 150,
   "metadata": {},
   "outputs": [
    {
     "data": {
      "image/png": "[encoded data removed]",
      "text/plain": [
       "<Figure size 1080x720 with 1 Axes>"
      ]
     },
     "metadata": {},
     "output_type": "display_data"
    }
   ],
   "source": [
    "\n",
    "plot_resource(results)"
   ]
  },
  {
   "cell_type": "code",
   "execution_count": null,
   "metadata": {},
   "outputs": [],
   "source": []
  },
  {
   "cell_type": "markdown",
   "metadata": {},
   "source": [
    "##### 3.2.1 Print Describe Result Graph "
   ]
  },
  {
   "cell_type": "code",
   "execution_count": 128,
   "metadata": {},
   "outputs": [
    {
     "name": "stdout",
     "output_type": "stream",
     "text": [
      "https://w3id.org/eb/i/Article/9929192893804340_144850368_PAISLEY_0 https://w3id.org/eb#endsAtPage https://w3id.org/eb/i/Page/9929192893804340_144850368_526\n",
      "https://w3id.org/eb/i/Article/9929192893804340_144850368_PAISLEY_0 https://w3id.org/eb#name PAISLEY\n",
      "https://w3id.org/eb/i/Article/9929192893804340_144850368_PAISLEY_0 https://w3id.org/eb#position 4\n",
      "https://w3id.org/eb/i/Article/9929192893804340_144850368_PAISLEY_0 https://w3id.org/eb#startsAtPage https://w3id.org/eb/i/Page/9929192893804340_144850368_526\n",
      "https://w3id.org/eb/i/Article/9929192893804340_144850368_PAISLEY_0 https://w3id.org/eb#definition a town of Scotland, in the county of Renfrew, six miles west of Glasgow.\n",
      "https://w3id.org/eb/i/Article/9929192893804340_144850368_PAISLEY_0 https://w3id.org/eb#numberOfWords 14\n",
      "https://w3id.org/eb/i/Article/9929192893804340_144850368_PAISLEY_0 http://www.w3.org/1999/02/22-rdf-syntax-ns#type https://w3id.org/eb#Article\n"
     ]
    }
   ],
   "source": [
    "for s,p,o in results:\n",
    "      print(s,p,o)"
   ]
  },
  {
   "cell_type": "code",
   "execution_count": 129,
   "metadata": {},
   "outputs": [],
   "source": [
    "sparql = SPARQLWrapper(\"http://localhost:3030/edition1st/sparql\")\n",
    "sparql.setQuery(\"\"\"\n",
    "    PREFIX eb: <https://w3id.org/eb#>\n",
    "    SELECT * WHERE {\n",
    "       ?article a eb:Article .\n",
    "       ?article eb:relatedTerms ?relatedTerms . \n",
    "       ?article eb:name ?name .\n",
    "       ?article eb:definition ?definition.\n",
    "    }\n",
    "  LIMIT 5 \n",
    "\"\"\")\n",
    "sparql.setReturnFormat(JSON)\n",
    "results = sparql.query().convert()\n"
   ]
  },
  {
   "cell_type": "code",
   "execution_count": 130,
   "metadata": {},
   "outputs": [
    {
     "name": "stdout",
     "output_type": "stream",
     "text": [
      "URI: https://w3id.org/eb/i/Article/9929192893804340_144850368_PRIOR_0 -- Name PRIOR -- Related Term: https://w3id.org/eb/i/Article/9929192893804340_144850366_AVILA_0 -- Definition the superior of a convent of monks,.or the next under the abbot. See Abbot. PRISCILLIANISTS, in church-history, Christian heretics, so called from their leader Prifcillian, a Spaniard by birth, and bilhop of Avila. He is said to have praftifed magic, and to have maintained the principal errors of the Manichees ; but his peculiar tenet was, that it is lawful to make false oaths, in order to support one’s cause and \n",
      "----\n",
      "URI: https://w3id.org/eb/i/Article/992277653804341_144133902_CONSUMPTION_0 -- Name CONSUMPTION -- Related Term: https://w3id.org/eb/i/Article/992277653804341_144133903_MEDICINE_0 -- Definition in medicine, a word of very extensive fignification, implies all disorders that bring any decay or waste upon the conf Htution; but is molt used for the phthifis pulmonalis. See Medicine. \n",
      "----\n",
      "URI: https://w3id.org/eb/i/Article/992277653804341_144133902_CONSUMPTION_0 -- Name CONSUMPTION -- Related Term: https://w3id.org/eb/i/Topic/992277653804341_144133903_MEDICINE_1 -- Definition in medicine, a word of very extensive fignification, implies all disorders that bring any decay or waste upon the conf Htution; but is molt used for the phthifis pulmonalis. See Medicine. \n",
      "----\n",
      "URI: https://w3id.org/eb/i/Article/992277653804341_144133902_FRATERNITY_0 -- Name FRATERNITY -- Related Term: https://w3id.org/eb/i/Article/992277653804341_144133903_PORTUGAL_0 -- Definition in the Roman catholic countries, fignifi.esa society for the improvement of devo Of these there are several sorts ; as, i. The fraternity of the rofury, founded by St Dominic: it is divided into two branches, called the common rosary, and the perpetual rosary ; the former of whom are obliged to confess and communicate every first Sunday in the month, and the latter to repeat the rosary continually. 2. The fraternity of the fcapulary, whom the blessed Virgin, according to the fabbatin bull of pope John XXII. has promised to deliver out of hell the lint Sunday after their death. See Scapulary. 3. The fraternity of St Francis’s girdle, are cloathed wim a fade of a grey colour, which they tie with a cord,; and, in proeeffions, walk bare-looted, carrying in their hands a wooden cross, 4. That of St Auf Hn’s leathern girdle, comprehends a great many devotees. Italy, Spain, and Portugal, are the countries where one sees the greatelt number of these fraternities, some of which afl' ume the name of arch-fraternities. Pope Clement VII. indituted the arch-fraternity of charity, which diflributes bread every Sunday among the poor, and gives portions to forty poor girls on the feast of St Jerom their patron. The fraternity of death, buries such dead as are abandoned by their relations, and causes masses to be celebrated for them. \n",
      "----\n",
      "URI: https://w3id.org/eb/i/Article/9929192893804340_144850366_BURDO_0 -- Name BURDO -- Related Term: https://w3id.org/eb/i/Article/9929192893804340_144850368_MULE_0 -- Definition that kind of mule produced between a horse and a ftie-ass. See Mule. \n",
      "----\n"
     ]
    }
   ],
   "source": [
    "for result in results[\"results\"][\"bindings\"]:\n",
    "    print(\"URI: %s -- Name %s -- Related Term: %s -- Definition %s \" %(result[\"article\"][\"value\"], result[\"name\"][\"value\"], result[\"relatedTerms\"][\"value\"], result[\"definition\"][\"value\"] ))\n",
    "    print(\"----\")"
   ]
  },
  {
   "cell_type": "code",
   "execution_count": 4,
   "metadata": {},
   "outputs": [
    {
     "name": "stdout",
     "output_type": "stream",
     "text": [
      "URI: https://w3id.org/eb/i/Article/992277653804341_144133901_ABACISCUS_0 -- Name ABACISCUS -- Related Term: https://w3id.org/eb/i/Article/992277653804341_144133901_ABACUS_1 -- Definition See ABACUS. \n",
      "----\n",
      "URI: https://w3id.org/eb/i/Article/992277653804341_144133901_ABACISCUS_0 -- Name ABACISCUS -- Related Term: https://w3id.org/eb/i/Article/992277653804341_144133901_ABACUS_0 -- Definition See ABACUS. \n",
      "----\n",
      "URI: https://w3id.org/eb/i/Article/992277653804341_144133901_ABACISCUS_0 -- Name ABACISCUS -- Related Term: https://w3id.org/eb/i/Article/992277653804341_144133901_ABACUS_2 -- Definition See ABACUS. \n",
      "----\n",
      "URI: https://w3id.org/eb/i/Article/992277653804341_144133901_ABACISCUS_0 -- Name ABACISCUS -- Related Term: https://w3id.org/eb/i/Article/992277653804341_144133901_ABACUS_3 -- Definition See ABACUS. \n",
      "----\n",
      "URI: https://w3id.org/eb/i/Article/9929192893804340_144850366_ABACISCUS_0 -- Name ABACISCUS -- Related Term: https://w3id.org/eb/i/Article/9929192893804340_144850366_ABACUS_1 -- Definition See ABACUS. \n",
      "----\n",
      "URI: https://w3id.org/eb/i/Article/9929192893804340_144850366_ABACISCUS_0 -- Name ABACISCUS -- Related Term: https://w3id.org/eb/i/Article/9929192893804340_144850366_ABACUS_2 -- Definition See ABACUS. \n",
      "----\n",
      "URI: https://w3id.org/eb/i/Article/9929192893804340_144850366_ABACISCUS_0 -- Name ABACISCUS -- Related Term: https://w3id.org/eb/i/Article/9929192893804340_144850366_ABACUS_0 -- Definition See ABACUS. \n",
      "----\n",
      "URI: https://w3id.org/eb/i/Article/9929192893804340_144850366_ABACISCUS_0 -- Name ABACISCUS -- Related Term: https://w3id.org/eb/i/Article/9929192893804340_144850366_ABACUS_3 -- Definition See ABACUS. \n",
      "----\n"
     ]
    }
   ],
   "source": [
    "sparql = SPARQLWrapper(\"http://localhost:3030/edition1st/sparql\")\n",
    "sparql.setQuery(\"\"\"\n",
    "    PREFIX eb: <https://w3id.org/eb#>\n",
    "       SELECT * WHERE {\n",
    "       ?article a eb:Article .\n",
    "       ?article eb:relatedTerms ?relatedTerms . \n",
    "       ?article eb:name ?name .\n",
    "       ?article eb:definition ?definition.\n",
    "  \t   FILTER regex(?name, \"^ABACISCUS\") \n",
    "    }\n",
    "\"\"\")\n",
    "sparql.setReturnFormat(JSON)\n",
    "results = sparql.query().convert()\n",
    "for result in results[\"results\"][\"bindings\"]:\n",
    "    print(\"URI: %s -- Name %s -- Related Term: %s -- Definition %s \" %(result[\"article\"][\"value\"], result[\"name\"][\"value\"], result[\"relatedTerms\"][\"value\"], result[\"definition\"][\"value\"] ))\n",
    "    print(\"----\")"
   ]
  },
  {
   "cell_type": "code",
   "execution_count": 146,
   "metadata": {},
   "outputs": [
    {
     "name": "stdout",
     "output_type": "stream",
     "text": [
      "URI: https://w3id.org/eb/i/Article/992277653804341_144133901_ABACUS_0 -- Name ABACUS \n",
      "----\n",
      "URI: https://w3id.org/eb/i/Article/992277653804341_144133901_ABACUS_1 -- Name ABACUS \n",
      "----\n",
      "URI: https://w3id.org/eb/i/Article/992277653804341_144133901_ABACUS_2 -- Name ABACUS \n",
      "----\n",
      "URI: https://w3id.org/eb/i/Article/992277653804341_144133901_ABACUS_3 -- Name ABACUS \n",
      "----\n",
      "URI: https://w3id.org/eb/i/Article/9929192893804340_144850366_ABACUS_0 -- Name ABACUS \n",
      "----\n",
      "URI: https://w3id.org/eb/i/Article/9929192893804340_144850366_ABACUS_1 -- Name ABACUS \n",
      "----\n",
      "URI: https://w3id.org/eb/i/Article/9929192893804340_144850366_ABACUS_2 -- Name ABACUS \n",
      "----\n",
      "URI: https://w3id.org/eb/i/Article/9929192893804340_144850366_ABACUS_3 -- Name ABACUS \n",
      "----\n"
     ]
    }
   ],
   "source": [
    "sparql = SPARQLWrapper(\"http://localhost:3030/edition1st/sparql\")\n",
    "sparql.setQuery(\"\"\"\n",
    "PREFIX eb: <https://w3id.org/eb#>\n",
    "SELECT * WHERE {\n",
    "       ?article a eb:Article .\n",
    "       ?article eb:name ?name .\n",
    "       FILTER regex(?name, \"^ABACUS\")\n",
    "    }\n",
    "    ORDER BY ?name\n",
    "    LIMIT 10\n",
    "\"\"\")\n",
    "sparql.setReturnFormat(JSON)\n",
    "results = sparql.query().convert()\n",
    "for result in results[\"results\"][\"bindings\"]:\n",
    "    print(\"URI: %s -- Name %s \" %(result[\"article\"][\"value\"], result[\"name\"][\"value\"]))\n",
    "    print(\"----\")"
   ]
  },
  {
   "cell_type": "code",
   "execution_count": 155,
   "metadata": {},
   "outputs": [
    {
     "data": {
      "image/png": "[encoded data removed]",
      "text/plain": [
       "<Figure size 1080x720 with 1 Axes>"
      ]
     },
     "metadata": {},
     "output_type": "display_data"
    }
   ],
   "source": [
    "sparql = SPARQLWrapper(\"http://localhost:3030/edition1st/sparql\")\n",
    "sparql.setQuery(\"\"\"\n",
    "    DESCRIBE <https://w3id.org/eb/i/Article/992277653804341_144133901_ABACUS_0>\n",
    "\"\"\")\n",
    "\n",
    "sparql.setReturnFormat(JSON)\n",
    "results = sparql.query().convert()\n",
    "plot_resource(results)"
   ]
  },
  {
   "cell_type": "code",
   "execution_count": 172,
   "metadata": {},
   "outputs": [],
   "source": [
    "sparql = SPARQLWrapper(\"http://localhost:3030/edition1st/sparql\")\n",
    "sparql.setQuery(\"\"\"\n",
    "    PREFIX eb: <https://w3id.org/eb#>\n",
    "    SELECT ?year WHERE {\n",
    "       ?edition a eb:Edition .\n",
    "       ?edition eb:publicationYear ?year \n",
    "    }\n",
    "\n",
    "\"\"\")\n",
    "sparql.setReturnFormat(JSON)\n",
    "results = sparql.query().convert()"
   ]
  },
  {
   "cell_type": "code",
   "execution_count": 177,
   "metadata": {},
   "outputs": [
    {
     "data": {
      "text/plain": [
       "'1771'"
      ]
     },
     "execution_count": 177,
     "metadata": {},
     "output_type": "execute_result"
    }
   ],
   "source": [
    "results[\"results\"][\"bindings\"][0][\"year\"][\"value\"]\n"
   ]
  },
  {
   "cell_type": "code",
   "execution_count": 180,
   "metadata": {},
   "outputs": [
    {
     "data": {
      "text/plain": [
       "'Smellie, William'"
      ]
     },
     "execution_count": 180,
     "metadata": {},
     "output_type": "execute_result"
    }
   ],
   "source": [
    "sparql = SPARQLWrapper(\"http://localhost:3030/edition1st/sparql\")\n",
    "sparql.setQuery(\"\"\"\n",
    "         PREFIX eb: <https://w3id.org/eb#>\n",
    "         SELECT DISTINCT ?name\n",
    "         WHERE {\n",
    "         ?instance eb:editor ?Editor.\n",
    "          ?Editor eb:name ?name .\n",
    "       }\n",
    "      \n",
    "    \"\"\")\n",
    "sparql.setReturnFormat(JSON)\n",
    "results = sparql.query().convert()\n",
    "results[\"results\"][\"bindings\"][0][\"name\"][\"value\"]"
   ]
  },
  {
   "cell_type": "code",
   "execution_count": 181,
   "metadata": {},
   "outputs": [
    {
     "data": {
      "text/plain": [
       "'in architeflure, signifies the superior part or member of the capital of a column, and serves as a kind of crowning to both. It was originally intended to represent a square tile covering a basket. The form of the abacus is not the same in all orders: in the Tuscan, Doric, and Ionic, it‘is generally square; but in the Corinthian and Compofite, its four sides are arched ir Avards, and embellilhed in the middle withornament, as a rose or other flower, Scammozzi uses abacus for a concave moulding on the capital of the Tuscan pedefial; and Palladio calls the plinth above the echinus, or boultin, in the Tufean and Doric orders, by the same name. See plate I. fig. i. and'"
      ]
     },
     "execution_count": 181,
     "metadata": {},
     "output_type": "execute_result"
    }
   ],
   "source": [
    "sparql = SPARQLWrapper(\"http://localhost:3030/edition1st/sparql\")\n",
    "sparql.setQuery(\"\"\"\n",
    "PREFIX eb: <https://w3id.org/eb#>\n",
    "SELECT ?definition WHERE {\n",
    "       ?article a eb:Article .\n",
    "       ?article eb:name ?name .\n",
    "       ?article eb:definition ?definition .\n",
    "       FILTER regex(?name, \"^ABACUS\")\n",
    "    }\n",
    "    LIMIT 1\n",
    "\"\"\")\n",
    "sparql.setReturnFormat(JSON)\n",
    "results = sparql.query().convert()\n",
    "results[\"results\"][\"bindings\"][0][\"definition\"][\"value\"]"
   ]
  },
  {
   "cell_type": "code",
   "execution_count": 183,
   "metadata": {},
   "outputs": [
    {
     "data": {
      "text/plain": [
       "'19771'"
      ]
     },
     "execution_count": 183,
     "metadata": {},
     "output_type": "execute_result"
    }
   ],
   "source": [
    "sparql = SPARQLWrapper(\"http://localhost:3030/edition1st/sparql\")\n",
    "sparql.setQuery(\"\"\"\n",
    "PREFIX eb: <https://w3id.org/eb#>\n",
    "SELECT (COUNT (DISTINCT ?a) as ?count)\n",
    "    WHERE {\n",
    "    \t?a ?b ?d\n",
    "}\n",
    "\"\"\")\n",
    "sparql.setReturnFormat(JSON)\n",
    "results = sparql.query().convert()\n",
    "results[\"results\"][\"bindings\"][0][\"count\"][\"value\"]"
   ]
  },
  {
   "cell_type": "code",
   "execution_count": 186,
   "metadata": {},
   "outputs": [
    {
     "data": {
      "text/plain": [
       "'175586'"
      ]
     },
     "execution_count": 186,
     "metadata": {},
     "output_type": "execute_result"
    }
   ],
   "source": [
    "sparql = SPARQLWrapper(\"http://localhost:3030/edition1st/sparql\")\n",
    "sparql.setQuery(\"\"\"\n",
    "PREFIX eb: <https://w3id.org/eb#>\n",
    "SELECT (COUNT ( ?a) as ?count)\n",
    "    WHERE {\n",
    "    \t?a ?b ?d\n",
    "}\n",
    "\"\"\")\n",
    "sparql.setReturnFormat(JSON)\n",
    "results = sparql.query().convert()\n",
    "results[\"results\"][\"bindings\"][0][\"count\"][\"value\"]"
   ]
  },
  {
   "cell_type": "code",
   "execution_count": 188,
   "metadata": {},
   "outputs": [
    {
     "name": "stdout",
     "output_type": "stream",
     "text": [
      "PAISLEY\n",
      "PRIOR\n",
      "ANTHEM\n",
      "ODYSSEY\n",
      "CONSUMPTION\n",
      "FRATERNITY\n",
      "MATTURANTS\n",
      "BILLET\n",
      "KOS\n",
      "STOCKHOLM\n"
     ]
    }
   ],
   "source": [
    "sparql = SPARQLWrapper(\"http://localhost:3030/edition1st/sparql\")\n",
    "sparql.setQuery(\"\"\"\n",
    "PREFIX eb: <https://w3id.org/eb#>\n",
    "PREFIX rdfs: <http://www.w3.org/2000/01/rdf-schema#>\n",
    "SELECT DISTINCT ?a\n",
    "    WHERE {{\n",
    "    \t?b a eb:Article .\n",
    "    \t?b eb:name ?a}\n",
    "  \t\tUNION {\n",
    "    \t?b a eb:Topic .\n",
    "    \t?b eb:name ?a}\n",
    "}\n",
    "LIMIT 10\n",
    "\"\"\")\n",
    "sparql.setReturnFormat(JSON)\n",
    "results = sparql.query().convert()\n",
    "results = sparql.query().convert()\n",
    "for r in results[\"results\"][\"bindings\"]:\n",
    "    print(r[\"a\"][\"value\"])"
   ]
  },
  {
   "cell_type": "code",
   "execution_count": 190,
   "metadata": {},
   "outputs": [
    {
     "name": "stdout",
     "output_type": "stream",
     "text": [
      "a town of Scotland, in the county of Renfrew, six miles west of Glasgow. 1773\n",
      "a town of Scotland, in the county of Renfrew, six miles west of Glasgow. 1771\n"
     ]
    }
   ],
   "source": [
    "sparql = SPARQLWrapper(\"http://localhost:3030/edition1st/sparql\")\n",
    "sparql.setQuery(\"\"\"\n",
    "PREFIX eb: <https://w3id.org/eb#>\n",
    "SELECT ?definition ?y WHERE {\n",
    "       ?article a eb:Article ;\n",
    "                eb:name \"PAISLEY\" ;\n",
    "                eb:definition ?definition .\n",
    "       ?e eb:hasPart / eb:hasPart ?article.\n",
    "       ?e eb:publicationYear ?y\n",
    "    }\n",
    "\"\"\")\n",
    "sparql.setReturnFormat(JSON)\n",
    "results = sparql.query().convert()\n",
    "results = sparql.query().convert()\n",
    "for r in results[\"results\"][\"bindings\"]:\n",
    "    print(r[\"definition\"][\"value\"], r[\"y\"][\"value\"])"
   ]
  },
  {
   "cell_type": "code",
   "execution_count": 5,
   "metadata": {},
   "outputs": [
    {
     "name": "stdout",
     "output_type": "stream",
     "text": [
      "DEF: in architeflure, signifies the superior part or member of the capital of a column, and serves as a kind of crowning to both. It was originally intended to represent a square tile covering a basket. The form of the abacus is not the same in all orders: in the Tuscan, Doric, and Ionic, it‘is generally square; but in the Corinthian and Compofite, its four sides are arched ir Avards, and embellilhed in the middle withornament, as a rose or other flower, Scammozzi uses abacus for a concave moulding on the capital of the Tuscan pedefial; and Palladio calls the plinth above the echinus, or boultin, in the Tufean and Doric orders, by the same name. See plate I. fig. i. and ----|| --- Year: 1771 \n",
      "---\n",
      "DEF: a table strewed over with dust or sand, upon which the ancient mathematicians drew their figures, It also signified a cupboard, or buffet. ----|| --- Year: 1771 \n",
      "---\n",
      "DEF: in architedture, signifies the superior part or member of the capital of a column, and serves as a kind of crowning to both. It was originally intended to represent a square tile covering a basket. The form of the abacus is not the same in all orders: in the Tuscan, Doric, and Ionic, it is generally square; biit in the Corinthian and Compofite, its four sides are arched inwards, and embellilhed in the middle withornament, as a rose or other flower. Scammozzi uses abacus for a concave moulding on the capital of the Tuscan pedestal; and Palladio calls the plinth above the echinus, or boultin, in the Tuscan and Doric orders, by the same name. See plate I. fig. I. and ----|| --- Year: 1773 \n",
      "---\n",
      "DEF: is also the name of an ancient inllrument for facilitating operations in arithmetic. It is variously contrived. That chiefly used in Europe is made by drawing any number of parallel lines at the difiance of two diameters of one of the counters used in the calculation. A counter placed on the lowest line, fignifics i; on the 2d, 10; on the 3d, 100; on the 4th, 1000, &c. In the intermediate spaces, the same counters are efiimated at one half of the value of the line immediately superior, viz. between the ist and 2d, 5 ; between the 2d and 3d, 50, &c. See plate I. fig. 2. A B, where the same number, 1768 for example, is represented under both by different dispositions of the counters. ----|| --- Year: 1773 \n",
      "---\n",
      "DEF: a table strewed over with dust or sand, upon v/hich the ancient mathematicians drew their figures. It also signified a cupboard, or buffet. ----|| --- Year: 1773 \n",
      "---\n",
      "DEF: is also the name of an ancient instrument for facilitating operations in arithmetic. It is vadoully contrived. That chiefly used in Europe is made by drawing any number of parallel lines at the di(lance of two diameters of one of the counters used in the calculation. A counter placed on.the lowed line, signifies r; on the sd, 10; on the 3d, 100; on the 4th, 1000, &c. In the intermediate spaces, the same counters are eflimated at one Jialf of the value of the line immediately superior, viz. between the id and 2d, 5; between the 2d and 3d, 50, &c. See plate I. fig. 2. A B, where the same number, 1768 for example, is represented under both by different dispositions of the counters. ----|| --- Year: 1771 \n",
      "---\n",
      "DEF: logijlicus, a right-angled triangle, whose sides forming the right angle contain the numbers from 1 to 60, and its area the fafta of every two of the numbers perpendicularly opposite. This is also called a canon Jk^&cus Pythagvricus, the multiplication-table, or any table of numbers that facilitates operations in arith- ----|| --- Year: 1771 \n",
      "---\n",
      "DEF: Pythagoricus, the multiplication-table, or any table of numbers that facilitates operations in arith- ----|| --- Year: 1773 \n",
      "---\n"
     ]
    }
   ],
   "source": [
    "sparql = SPARQLWrapper(\"http://localhost:3030/edition1st/sparql\")\n",
    "sparql.setQuery(\"\"\"\n",
    "PREFIX eb: <https://w3id.org/eb#>\n",
    "SELECT ?definition ?y  ?r WHERE {\n",
    "       ?article a eb:Article ;\n",
    "                eb:name \"ABACUS\" ;\n",
    "                eb:definition ?definition ;\n",
    "                OPTIONAL {?article eb:relatedTerms ?r.}\n",
    "       ?e eb:hasPart / eb:hasPart ?article.\n",
    "       ?e eb:publicationYear ?y\n",
    "    }\n",
    "\"\"\")\n",
    "sparql.setReturnFormat(JSON)\n",
    "results = sparql.query().convert()\n",
    "results = sparql.query().convert()\n",
    "for r in results[\"results\"][\"bindings\"]:\n",
    "    print(\"DEF: %s ----|| --- Year: %s \"% (r[\"definition\"][\"value\"], r[\"y\"][\"value\"]))\n",
    "    print(\"---\")"
   ]
  },
  {
   "cell_type": "code",
   "execution_count": 7,
   "metadata": {},
   "outputs": [
    {
     "name": "stdout",
     "output_type": "stream",
     "text": [
      "1771\n",
      "1771\n",
      "1773\n",
      "1773\n",
      "1773\n",
      "1771\n",
      "1771\n",
      "1773\n"
     ]
    }
   ],
   "source": [
    "term=\"ABACUS\"\n",
    "sparql = SPARQLWrapper(\"http://localhost:3030/edition1st/sparql\")\n",
    "sparql.setQuery(\"\"\"\n",
    "PREFIX eb: <https://w3id.org/eb#>\n",
    "SELECT ?definition ?article  ?year WHERE {\n",
    "       ?article a eb:Article .\n",
    "       ?article eb:name \"ABACUS\"  .\n",
    "       ?article eb:definition ?definition .\n",
    "       ?e eb:hasPart / eb:hasPart ?article.\n",
    "       ?e eb:publicationYear ?year\n",
    "\n",
    "    }\n",
    "\"\"\")\n",
    "\n",
    "sparql.setReturnFormat(JSON)\n",
    "results = sparql.query().convert()\n",
    "r=results[\"results\"][\"bindings\"]\n",
    "for i in r:\n",
    "    print(i[\"year\"][\"value\"])"
   ]
  },
  {
   "cell_type": "code",
   "execution_count": 76,
   "metadata": {},
   "outputs": [
    {
     "name": "stdout",
     "output_type": "stream",
     "text": [
      "\n",
      "PREFIX eb: <https://w3id.org/eb#>\n",
      "SELECT ?definition ?article  ?year WHERE {\n",
      "       ?article a eb:Article .\n",
      "       ?article eb:name \"ABACUS\"  .\n",
      "       ?article eb:definition ?definition .\n",
      "       ?e eb:hasPart / eb:hasPart ?article.\n",
      "       ?e eb:publicationYear ?year\n",
      "    }\n",
      "\n",
      "1771\n",
      "1771\n",
      "1773\n",
      "1773\n",
      "1773\n",
      "1771\n",
      "1771\n",
      "1773\n"
     ]
    }
   ],
   "source": [
    "term=\"ABACUS\"\n",
    "sparql = SPARQLWrapper(\"http://localhost:3030/edition1st/sparql\")\n",
    "query=\"\"\"\n",
    "PREFIX eb: <https://w3id.org/eb#>\n",
    "SELECT ?definition ?article  ?year WHERE {\n",
    "       ?article a eb:Article .\n",
    "       ?article eb:name \"%s\"  .\n",
    "       ?article eb:definition ?definition .\n",
    "       ?e eb:hasPart / eb:hasPart ?article.\n",
    "       ?e eb:publicationYear ?year\n",
    "    }\n",
    "\"\"\" % (term)\n",
    "\n",
    "print(query)\n",
    "sparql.setQuery(query)\n",
    "sparql.setReturnFormat(JSON)\n",
    "results = sparql.query().convert()\n",
    "r=results[\"results\"][\"bindings\"]\n",
    "for i in r:\n",
    "    print(i[\"year\"][\"value\"])"
   ]
  },
  {
   "cell_type": "code",
   "execution_count": null,
   "metadata": {},
   "outputs": [],
   "source": []
  },
  {
   "cell_type": "code",
   "execution_count": null,
   "metadata": {},
   "outputs": [],
   "source": []
  }
 ],
 "metadata": {
  "kernelspec": {
   "display_name": "mpython3",
   "language": "python",
   "name": "mypthon3"
  },
  "language_info": {
   "codemirror_mode": {
    "name": "ipython",
    "version": 3
   },
   "file_extension": ".py",
   "mimetype": "text/x-python",
   "name": "python",
   "nbconvert_exporter": "python",
   "pygments_lexer": "ipython3",
   "version": "3.7.2"
  }
 },
 "nbformat": 4,
 "nbformat_minor": 2
}
