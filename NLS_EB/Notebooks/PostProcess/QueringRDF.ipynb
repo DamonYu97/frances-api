{
 "cells": [
  {
   "cell_type": "markdown",
   "metadata": {},
   "source": [
    "# RDF-   NLS -  Encyclopaedia Britannica\n",
    "\n",
    "This notebook is going to create the RDF triples to generate our RDLIB GRAPH\n",
    "\n",
    "For each postprocess edition dataframe that we got from **Merging_EB_Terms.ipynb** (e.g. results_eb_1_edition_dataframe, results_eb_2_edition_dataframe, etc) we are going to add the information from the dataframe that we got from **Metadata_EB.ipynb** (metadata_eb_dataframe). \n",
    "\n",
    "The idea is to have per edition dataframe (and also supplement dataframe), all the information (which currently is splitted across several dataframes) in one. \n",
    "\n",
    "\n",
    "This notebook will store the final dataframes in results_NLS directory, and their name schema will be **final_eb_< NUM_EDITION >_dataframe**.\n",
    "\n",
    "Per entry in these new dataframes we will have the following columns (see an example of one entry of the first edition):\n",
    "\n",
    "- MMSID:                                              \n",
    "- editionTitle:                          First edition, 1771, Volume 1, A-B\n",
    "- editor:                                                  Smellie, William\n",
    "- editor_date:                                                   1740-1795\n",
    "- genre:                                                       encyclopedia\n",
    "- language:                                                             eng\n",
    "- termsOfAddress:                                                       NaN\n",
    "- numberOfPages:                                                        832\n",
    "- physicalDescription:               3 v., 160 plates : ill. ; 26 cm. (4to)\n",
    "- place:                                                         Edinburgh\n",
    "- publisher:              Printed for A. Bell and C. Macfarquhar; and so...\n",
    "- referencedBy:           [Alston, R.C.  Engl. language III, 560, ESTC T...\n",
    "- shelfLocator:                                                        EB.1\n",
    "- editionSubTitle:        Illustrated with one hundred and sixty copperp...\n",
    "- volumeTitle:            Encyclopaedia Britannica; or, A dictionary of ...\n",
    "- year:                                                                1771\n",
    "- volumeId:                                                       144133901\n",
    "- metsXML:                                               144133901-mets.xml\n",
    "- permanentURL:                            https://digital.nls.uk/144133901\n",
    "- publisherPersons:                     [C. Macfarquhar, Colin Macfarquhar]\n",
    "- volumeNum:                                                              1\n",
    "- letters:                                                              A-B\n",
    "- part:                                                                   0\n",
    "- editionNum:                                                             1\n",
    "- supplementTitle:                                                         \n",
    "- supplementSubTitle:                                                      \n",
    "- supplementsTo:                                                         []\n",
    "- numberOfVolumes:                                                        6\n",
    "- term:                                                                  OR\n",
    "- definition:             A NEW A D I C T I A A, the name of several riv...\n",
    "- relatedTerms:                                                          []\n",
    "- header:                                           EncyclopaediaBritannica\n",
    "- startsAt:                                                              15\n",
    "- endsAt:                                                                15\n",
    "- numberOfTerms:                                                         22\n",
    "- numberOfWords:                                                         54\n",
    "- positionPage:                                                           0\n",
    "- typeTerm:                                                         Article\n",
    "- altoXML:                                  144133901/alto/188082904.34.xml"
   ]
  },
  {
   "cell_type": "markdown",
   "metadata": {},
   "source": [
    "### Loading the necessary libraries"
   ]
  },
  {
   "cell_type": "code",
   "execution_count": 25,
   "metadata": {},
   "outputs": [],
   "source": [
    "import rdflib\n",
    "from rdflib.extras.external_graph_libs import rdflib_to_networkx_multidigraph\n",
    "import networkx as nx\n",
    "import matplotlib.pyplot as pl\n",
    "from rdflib import Graph, Namespace, Literal\n",
    "from rdflib.plugins.sparql import prepareQuery"
   ]
  },
  {
   "cell_type": "markdown",
   "metadata": {},
   "source": [
    "### Functions"
   ]
  },
  {
   "cell_type": "markdown",
   "metadata": {},
   "source": [
    "### 1. Loading the graph"
   ]
  },
  {
   "cell_type": "code",
   "execution_count": 26,
   "metadata": {},
   "outputs": [
    {
     "data": {
      "text/plain": [
       "<Graph identifier=Nc78759a950004b57be36919a19117826 (<class 'rdflib.graph.Graph'>)>"
      ]
     },
     "execution_count": 26,
     "metadata": {},
     "output_type": "execute_result"
    }
   ],
   "source": [
    "g = Graph()\n",
    "g.parse(\"../../results_NLS/edition1st.ttl\", format=\"ttl\") "
   ]
  },
  {
   "cell_type": "markdown",
   "metadata": {},
   "source": [
    "List all the resources with the property eb:editor"
   ]
  },
  {
   "cell_type": "code",
   "execution_count": 27,
   "metadata": {},
   "outputs": [
    {
     "name": "stdout",
     "output_type": "stream",
     "text": [
      "https://w3id.org/eb/i/Edition/992277653804341\n",
      "https://w3id.org/eb/i/Edition/9929192893804340\n"
     ]
    }
   ],
   "source": [
    "eb = Namespace(\"https://w3id.org/eb#\")\n",
    "\n",
    "q1 = prepareQuery('''\n",
    "  SELECT ?Subject WHERE { \n",
    "    ?Subject eb:editor ?FullName. \n",
    "  }\n",
    "  ''',\n",
    "  initNs = { \"eb\": eb}\n",
    ")\n",
    "\n",
    "\n",
    "for r in g.query(q1):\n",
    "      print(r.Subject)"
   ]
  },
  {
   "cell_type": "markdown",
   "metadata": {},
   "source": [
    "Same query but asking more information about the resources obtained. "
   ]
  },
  {
   "cell_type": "code",
   "execution_count": 28,
   "metadata": {},
   "outputs": [
    {
     "name": "stdout",
     "output_type": "stream",
     "text": [
      "https://w3id.org/eb/i/Edition/992277653804341 https://w3id.org/eb/i/Person/Smellie,William\n",
      "https://w3id.org/eb/i/Edition/9929192893804340 https://w3id.org/eb/i/Person/Smellie,William\n"
     ]
    }
   ],
   "source": [
    "q2 = prepareQuery('''\n",
    "  SELECT ?Subject ?FullName WHERE { \n",
    "    ?Subject eb:editor ?FullName.\n",
    "  } \n",
    "  ''',\n",
    "  initNs = { \"eb\": eb}\n",
    ")\n",
    "\n",
    "for r in g.query(q2):\n",
    "  print(r.Subject, r.FullName)"
   ]
  },
  {
   "cell_type": "markdown",
   "metadata": {},
   "source": [
    "Same query asking for the first 10 resources with the properity eb.name"
   ]
  },
  {
   "cell_type": "code",
   "execution_count": 32,
   "metadata": {},
   "outputs": [
    {
     "name": "stdout",
     "output_type": "stream",
     "text": [
      "https://w3id.org/eb/i/Article/992277653804341_144133902_CURATE_1 CURATE\n",
      "https://w3id.org/eb/i/Article/992277653804341_144133902_DRAGOMAN_1 DRAGOMAN\n",
      "https://w3id.org/eb/i/Article/9929192893804340_144850367_IMAGE_1 IMAGE\n",
      "https://w3id.org/eb/i/Article/9929192893804340_144850366_AVOWEE_1 AVOWEE\n",
      "https://w3id.org/eb/i/Article/992277653804341_144133902_CERTHIA_1 CERTHIA\n",
      "https://w3id.org/eb/i/Article/992277653804341_144133903_PARATHENAR_1 PARATHENAR\n",
      "https://w3id.org/eb/i/Article/9929192893804340_144850366_BISANT_1 BISANT\n",
      "https://w3id.org/eb/i/Article/992277653804341_144133901_ARCTAPELIOTES_1 ARCTAPELIOTES\n",
      "https://w3id.org/eb/i/Article/9929192893804340_144850368_PROVOST_1 PROVOST\n",
      "https://w3id.org/eb/i/Article/992277653804341_144133901_AUSTRAL_2 AUSTRAL\n"
     ]
    }
   ],
   "source": [
    "q2 = prepareQuery('''\n",
    "  SELECT ?Subject ?FullName WHERE { \n",
    "    ?Subject eb:name ?FullName.\n",
    "  } \n",
    "  ''',\n",
    "  initNs = { \"eb\": eb}\n",
    ")\n",
    "\n",
    "cont=0\n",
    "for r in g.query(q2):\n",
    "    print(r.Subject, r.FullName)\n",
    "    cont+=1\n",
    "    if cont == 10:\n",
    "        break"
   ]
  },
  {
   "cell_type": "markdown",
   "metadata": {},
   "source": [
    "Asking for resources which name is \"Smellie, Willian\""
   ]
  },
  {
   "cell_type": "code",
   "execution_count": 30,
   "metadata": {},
   "outputs": [
    {
     "name": "stdout",
     "output_type": "stream",
     "text": [
      "https://w3id.org/eb/i/Person/Smellie,William\n"
     ]
    }
   ],
   "source": [
    "from rdflib import XSD\n",
    "q3 = prepareQuery('''\n",
    "  SELECT ?Subject WHERE { \n",
    "    ?Subject eb:name ?Family.\n",
    "  } \n",
    "  ''',\n",
    "    initNs = { \"eb\": eb}\n",
    ")\n",
    "\n",
    "for r in g.query(q3, initBindings = {'?Family' : Literal('Smellie, William', datatype=XSD.string)}):\n",
    "  print(r.Subject)"
   ]
  },
  {
   "cell_type": "code",
   "execution_count": null,
   "metadata": {},
   "outputs": [],
   "source": [
    "Asking for resources with name is ABACUS"
   ]
  },
  {
   "cell_type": "code",
   "execution_count": 31,
   "metadata": {},
   "outputs": [
    {
     "name": "stdout",
     "output_type": "stream",
     "text": [
      "https://w3id.org/eb/i/Article/9929192893804340_144850366_ABACUS_4\n",
      "https://w3id.org/eb/i/Article/992277653804341_144133901_ABACUS_4\n"
     ]
    }
   ],
   "source": [
    "from rdflib import XSD\n",
    "q3 = prepareQuery('''\n",
    "  SELECT ?Subject WHERE { \n",
    "    ?Subject eb:name ?Term.\n",
    "  } \n",
    "  ''',\n",
    "    initNs = { \"eb\": eb}\n",
    ")\n",
    "\n",
    "for r in g.query(q3, initBindings = {'?Term' : Literal('ABACUS', datatype=XSD.string)}):\n",
    "  print(r.Subject)"
   ]
  },
  {
   "cell_type": "code",
   "execution_count": 16,
   "metadata": {},
   "outputs": [],
   "source": [
    "#G = rdflib_to_networkx_multidigraph(result)\n",
    "\n",
    "# Plot Networkx instance of RDF Graph\n",
    "#pos = nx.spring_layout(G, scale=2)\n",
    "#edge_labels = nx.get_edge_attributes(G, 'r')\n",
    "#nx.draw_networkx_edge_labels(G, pos, edge_labels=edge_labels)\n",
    "#nx.draw(G, with_labels=True)\n",
    "\n",
    "#if not in interactive mode for \n",
    "#plt.show()\n"
   ]
  }
 ],
 "metadata": {
  "kernelspec": {
   "display_name": "mpython3",
   "language": "python",
   "name": "mypthon3"
  },
  "language_info": {
   "codemirror_mode": {
    "name": "ipython",
    "version": 3
   },
   "file_extension": ".py",
   "mimetype": "text/x-python",
   "name": "python",
   "nbconvert_exporter": "python",
   "pygments_lexer": "ipython3",
   "version": "3.7.2"
  }
 },
 "nbformat": 4,
 "nbformat_minor": 2
}
