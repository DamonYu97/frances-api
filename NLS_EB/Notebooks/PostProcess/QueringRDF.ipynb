{
 "cells": [
  {
   "cell_type": "markdown",
   "metadata": {},
   "source": [
    "# RDF-   NLS -  Encyclopaedia Britannica\n",
    "\n",
    "This notebook is going to create the RDF triples to generate our RDLIB GRAPH\n",
    "\n",
    "For each postprocess edition dataframe that we got from **Merging_EB_Terms.ipynb** (e.g. results_eb_1_edition_dataframe, results_eb_2_edition_dataframe, etc) we are going to add the information from the dataframe that we got from **Metadata_EB.ipynb** (metadata_eb_dataframe). \n",
    "\n",
    "The idea is to have per edition dataframe (and also supplement dataframe), all the information (which currently is splitted across several dataframes) in one. \n",
    "\n",
    "\n",
    "This notebook will store the final dataframes in results_NLS directory, and their name schema will be **final_eb_< NUM_EDITION >_dataframe**.\n",
    "\n",
    "Per entry in these new dataframes we will have the following columns (see an example of one entry of the first edition):\n",
    "\n",
    "- MMSID:                                              \n",
    "- editionTitle:                          First edition, 1771, Volume 1, A-B\n",
    "- editor:                                                  Smellie, William\n",
    "- editor_date:                                                   1740-1795\n",
    "- genre:                                                       encyclopedia\n",
    "- language:                                                             eng\n",
    "- termsOfAddress:                                                       NaN\n",
    "- numberOfPages:                                                        832\n",
    "- physicalDescription:               3 v., 160 plates : ill. ; 26 cm. (4to)\n",
    "- place:                                                         Edinburgh\n",
    "- publisher:              Printed for A. Bell and C. Macfarquhar; and so...\n",
    "- referencedBy:           [Alston, R.C.  Engl. language III, 560, ESTC T...\n",
    "- shelfLocator:                                                        EB.1\n",
    "- editionSubTitle:        Illustrated with one hundred and sixty copperp...\n",
    "- volumeTitle:            Encyclopaedia Britannica; or, A dictionary of ...\n",
    "- year:                                                                1771\n",
    "- volumeId:                                                       144133901\n",
    "- metsXML:                                               144133901-mets.xml\n",
    "- permanentURL:                            https://digital.nls.uk/144133901\n",
    "- publisherPersons:                     [C. Macfarquhar, Colin Macfarquhar]\n",
    "- volumeNum:                                                              1\n",
    "- letters:                                                              A-B\n",
    "- part:                                                                   0\n",
    "- editionNum:                                                             1\n",
    "- supplementTitle:                                                         \n",
    "- supplementSubTitle:                                                      \n",
    "- supplementsTo:                                                         []\n",
    "- numberOfVolumes:                                                        6\n",
    "- term:                                                                  OR\n",
    "- definition:             A NEW A D I C T I A A, the name of several riv...\n",
    "- relatedTerms:                                                          []\n",
    "- header:                                           EncyclopaediaBritannica\n",
    "- startsAt:                                                              15\n",
    "- endsAt:                                                                15\n",
    "- numberOfTerms:                                                         22\n",
    "- numberOfWords:                                                         54\n",
    "- positionPage:                                                           0\n",
    "- typeTerm:                                                         Article\n",
    "- altoXML:                                  144133901/alto/188082904.34.xml"
   ]
  },
  {
   "cell_type": "markdown",
   "metadata": {},
   "source": [
    "### Loading the necessary libraries"
   ]
  },
  {
   "cell_type": "code",
   "execution_count": 1,
   "metadata": {},
   "outputs": [],
   "source": [
    "import rdflib\n",
    "from rdflib.extras.external_graph_libs import rdflib_to_networkx_multidigraph\n",
    "import networkx as nx\n",
    "import matplotlib.pyplot as pl\n",
    "from rdflib import Graph, Namespace, Literal\n",
    "from rdflib.plugins.sparql import prepareQuery"
   ]
  },
  {
   "cell_type": "markdown",
   "metadata": {},
   "source": [
    "### Functions"
   ]
  },
  {
   "cell_type": "markdown",
   "metadata": {},
   "source": [
    "### 1. Loading the graph"
   ]
  },
  {
   "cell_type": "code",
   "execution_count": 2,
   "metadata": {},
   "outputs": [
    {
     "data": {
      "text/plain": [
       "<Graph identifier=Nd38de0568c984480a30237db2815f124 (<class 'rdflib.graph.Graph'>)>"
      ]
     },
     "execution_count": 2,
     "metadata": {},
     "output_type": "execute_result"
    }
   ],
   "source": [
    "g = Graph()\n",
    "g.parse(\"../../results_NLS/edition1st.ttl\", format=\"ttl\") "
   ]
  },
  {
   "cell_type": "markdown",
   "metadata": {},
   "source": [
    "List all the resources with the property eb:editor"
   ]
  },
  {
   "cell_type": "code",
   "execution_count": 3,
   "metadata": {},
   "outputs": [
    {
     "name": "stdout",
     "output_type": "stream",
     "text": [
      "https://w3id.org/eb/i/Edition/992277653804341\n",
      "https://w3id.org/eb/i/Edition/9929192893804340\n"
     ]
    }
   ],
   "source": [
    "eb = Namespace(\"https://w3id.org/eb#\")\n",
    "\n",
    "q1 = prepareQuery('''\n",
    "  SELECT ?Edition WHERE { \n",
    "    ?Edition eb:editor ?FullName. \n",
    "  }\n",
    "  ''',\n",
    "  initNs = { \"eb\": eb}\n",
    ")\n",
    "\n",
    "\n",
    "for r in g.query(q1):\n",
    "      print(r.Edition)"
   ]
  },
  {
   "cell_type": "markdown",
   "metadata": {},
   "source": [
    "Same query but asking more information about the resources obtained. "
   ]
  },
  {
   "cell_type": "code",
   "execution_count": 4,
   "metadata": {},
   "outputs": [
    {
     "name": "stdout",
     "output_type": "stream",
     "text": [
      "https://w3id.org/eb/i/Edition/992277653804341 https://w3id.org/eb/i/Person/Smellie,William\n",
      "https://w3id.org/eb/i/Edition/9929192893804340 https://w3id.org/eb/i/Person/Smellie,William\n"
     ]
    }
   ],
   "source": [
    "q2 = prepareQuery('''\n",
    "  SELECT ?Subject ?FullName WHERE { \n",
    "    ?Subject eb:editor ?FullName.\n",
    "  } \n",
    "  ''',\n",
    "  initNs = { \"eb\": eb}\n",
    ")\n",
    "\n",
    "for r in g.query(q2):\n",
    "  print(r.Subject, r.FullName)"
   ]
  },
  {
   "cell_type": "markdown",
   "metadata": {},
   "source": [
    "Same query asking for the first 10 resources with the properity eb.name"
   ]
  },
  {
   "cell_type": "code",
   "execution_count": 5,
   "metadata": {},
   "outputs": [
    {
     "name": "stdout",
     "output_type": "stream",
     "text": [
      "https://w3id.org/eb/i/Article/992277653804341_144133903_TRAGIA_0 TRAGIA\n",
      "https://w3id.org/eb/i/Article/9929192893804340_144850368_PASTIL_0 PASTIL\n",
      "https://w3id.org/eb/i/Article/992277653804341_144133901_BURNISHER_0 BURNISHER\n",
      "https://w3id.org/eb/i/Article/9929192893804340_144850366_ATRICES_0 ATRICES\n",
      "https://w3id.org/eb/i/Article/992277653804341_144133903_PARTI_0 PARTI\n",
      "https://w3id.org/eb/i/Article/9929192893804340_144850367_CHARA_0 CHARA\n",
      "https://w3id.org/eb/i/Article/992277653804341_144133903_TAVISTOCK_0 TAVISTOCK\n",
      "https://w3id.org/eb/i/Article/9929192893804340_144850366_BASARUCO_0 BASARUCO\n",
      "https://w3id.org/eb/i/Article/9929192893804340_144850366_BAKAL_0 BAKAL\n",
      "https://w3id.org/eb/i/Article/9929192893804340_144850367_EDDISH_0 EDDISH\n"
     ]
    }
   ],
   "source": [
    "q2 = prepareQuery('''\n",
    "  SELECT ?Subject ?FullName WHERE { \n",
    "    ?Subject eb:name ?FullName.\n",
    "  } \n",
    "  LIMIT 10\n",
    "  ''',\n",
    "  initNs = { \"eb\": eb}\n",
    ")\n",
    "\n",
    "for r in g.query(q2):\n",
    "    print(r.Subject, r.FullName)"
   ]
  },
  {
   "cell_type": "markdown",
   "metadata": {},
   "source": [
    "Asking for resources which name is \"Smellie, Willian\""
   ]
  },
  {
   "cell_type": "code",
   "execution_count": 6,
   "metadata": {},
   "outputs": [
    {
     "name": "stdout",
     "output_type": "stream",
     "text": [
      "https://w3id.org/eb/i/Person/Smellie,William\n"
     ]
    }
   ],
   "source": [
    "from rdflib import XSD\n",
    "q3 = prepareQuery('''\n",
    "  SELECT ?Subject WHERE { \n",
    "    ?Subject eb:name ?Family.\n",
    "  } \n",
    "  ''',\n",
    "    initNs = { \"eb\": eb}\n",
    ")\n",
    "\n",
    "for r in g.query(q3, initBindings = {'?Family' : Literal('Smellie, William', datatype=XSD.string)}):\n",
    "  print(r.Subject)"
   ]
  },
  {
   "cell_type": "markdown",
   "metadata": {},
   "source": [
    "Asking for resources with name is ABACUS"
   ]
  },
  {
   "cell_type": "code",
   "execution_count": 7,
   "metadata": {},
   "outputs": [
    {
     "name": "stdout",
     "output_type": "stream",
     "text": [
      "https://w3id.org/eb/i/Article/992277653804341_144133901_ABACUS_3\n",
      "https://w3id.org/eb/i/Article/9929192893804340_144850366_ABACUS_2\n",
      "https://w3id.org/eb/i/Article/992277653804341_144133901_ABACUS_0\n",
      "https://w3id.org/eb/i/Article/9929192893804340_144850366_ABACUS_0\n",
      "https://w3id.org/eb/i/Article/9929192893804340_144850366_ABACUS_3\n",
      "https://w3id.org/eb/i/Article/992277653804341_144133901_ABACUS_1\n",
      "https://w3id.org/eb/i/Article/9929192893804340_144850366_ABACUS_1\n",
      "https://w3id.org/eb/i/Article/992277653804341_144133901_ABACUS_2\n"
     ]
    }
   ],
   "source": [
    "from rdflib import XSD\n",
    "q3 = prepareQuery('''\n",
    "  SELECT ?Subject WHERE { \n",
    "    ?Subject eb:name ?Term.\n",
    "  } \n",
    "  ''',\n",
    "    initNs = { \"eb\": eb}\n",
    ")\n",
    "\n",
    "for r in g.query(q3, initBindings = {'?Term' : Literal('ABACUS', datatype=XSD.string)}):\n",
    "  print(r.Subject)"
   ]
  },
  {
   "cell_type": "code",
   "execution_count": 8,
   "metadata": {},
   "outputs": [
    {
     "name": "stdout",
     "output_type": "stream",
     "text": [
      "https://w3id.org/eb/i/Article/992277653804341_144133901_ABACUS_3 ABACUS\n",
      "https://w3id.org/eb/i/Article/9929192893804340_144850366_ABACUS_2 ABACUS\n",
      "https://w3id.org/eb/i/Article/992277653804341_144133901_ABACUS_0 ABACUS\n",
      "https://w3id.org/eb/i/Article/9929192893804340_144850366_ABACUS_0 ABACUS\n",
      "https://w3id.org/eb/i/Article/9929192893804340_144850366_ABACUS_3 ABACUS\n",
      "https://w3id.org/eb/i/Article/992277653804341_144133901_ABACUS_1 ABACUS\n",
      "https://w3id.org/eb/i/Article/9929192893804340_144850366_ABACUS_1 ABACUS\n",
      "https://w3id.org/eb/i/Article/992277653804341_144133901_ABACUS_2 ABACUS\n"
     ]
    }
   ],
   "source": [
    "from rdflib import XSD\n",
    "q4 = prepareQuery('''\n",
    "  SELECT ?Subject ?Term WHERE { \n",
    "    ?Subject eb:name ?Term.\n",
    "  } \n",
    "  ''',\n",
    "    initNs = { \"eb\": eb}\n",
    ")\n",
    "\n",
    "for r in g.query(q4, initBindings = {'?Term' : Literal('ABACUS', datatype=XSD.string)}):\n",
    "  print(r.Subject, r.Term)"
   ]
  },
  {
   "cell_type": "code",
   "execution_count": 9,
   "metadata": {},
   "outputs": [
    {
     "name": "stdout",
     "output_type": "stream",
     "text": [
      "https://w3id.org/eb/i/Edition/992277653804341\n",
      "https://w3id.org/eb/i/Edition/9929192893804340\n"
     ]
    }
   ],
   "source": [
    "q5 = prepareQuery('''\n",
    "    SELECT ?edition\n",
    "    WHERE {\n",
    "       ?edition rdf:type eb:Edition .\n",
    "    }\n",
    "    ''',\n",
    "  initNs = { \"eb\": eb}\n",
    ")\n",
    "\n",
    "for r in g.query(q5):\n",
    "  print(r.edition)"
   ]
  },
  {
   "cell_type": "code",
   "execution_count": 10,
   "metadata": {},
   "outputs": [
    {
     "name": "stdout",
     "output_type": "stream",
     "text": [
      "https://w3id.org/eb/i/Topic/9929192893804340_144850368_TRIGONOMETRY_0\n",
      "https://w3id.org/eb/i/Topic/992277653804341_144133902_ELECTRICITY_0\n",
      "https://w3id.org/eb/i/Topic/9929192893804340_144850368_NATDNATHISTORY_0\n",
      "https://w3id.org/eb/i/Topic/992277653804341_144133901_ALLIGATION_0\n",
      "https://w3id.org/eb/i/Topic/9929192893804340_144850367_CONICSECTIONS_0\n",
      "https://w3id.org/eb/i/Topic/992277653804341_144133903_SURGEY_0\n",
      "https://w3id.org/eb/i/Topic/992277653804341_144133903_MUTMRMUTILATION_0\n",
      "https://w3id.org/eb/i/Topic/9929192893804340_144850367_OJITCHBTTEPIXXX_0\n",
      "https://w3id.org/eb/i/Topic/992277653804341_144133903_SHORTHANDWRITING_0\n",
      "https://w3id.org/eb/i/Topic/9929192893804340_144850366_BLEACKING_0\n"
     ]
    }
   ],
   "source": [
    "q5 = prepareQuery('''\n",
    "    SELECT ?topic\n",
    "    WHERE {\n",
    "       ?topic rdf:type eb:Topic .\n",
    "    }\n",
    "    LIMIT 10\n",
    "    ''',\n",
    "  initNs = { \"eb\": eb}\n",
    ")\n",
    "\n",
    "for r in g.query(q5):\n",
    "  print(r.topic)"
   ]
  },
  {
   "cell_type": "code",
   "execution_count": 11,
   "metadata": {},
   "outputs": [
    {
     "name": "stdout",
     "output_type": "stream",
     "text": [
      "https://w3id.org/eb/i/Topic/992277653804341_144133902_ELECTRICITY_0 https://w3id.org/eb/i/Article/992277653804341_144133901_AMBER_1 ELECTRICITY https://w3id.org/eb/i/Page/992277653804341_144133902_413 https://w3id.org/eb/i/Page/992277653804341_144133902_430\n",
      "https://w3id.org/eb/i/Topic/992277653804341_144133902_ELECTRICITY_0 https://w3id.org/eb/i/Article/992277653804341_144133901_AMBER_0 ELECTRICITY https://w3id.org/eb/i/Page/992277653804341_144133902_413 https://w3id.org/eb/i/Page/992277653804341_144133902_430\n",
      "https://w3id.org/eb/i/Topic/9929192893804340_144850368_NATDNATHISTORY_0 https://w3id.org/eb/i/Article/9929192893804340_144850366_AMPHIBIA_0 NATDNATHISTORY https://w3id.org/eb/i/Page/9929192893804340_144850368_412 https://w3id.org/eb/i/Page/9929192893804340_144850368_415\n",
      "https://w3id.org/eb/i/Topic/9929192893804340_144850368_NATDNATHISTORY_0 https://w3id.org/eb/i/Article/9929192893804340_144850367_HOMO_0 NATDNATHISTORY https://w3id.org/eb/i/Page/9929192893804340_144850368_412 https://w3id.org/eb/i/Page/9929192893804340_144850368_415\n",
      "https://w3id.org/eb/i/Topic/9929192893804340_144850368_NATDNATHISTORY_0 https://w3id.org/eb/i/Article/9929192893804340_144850368_WORMS_1 NATDNATHISTORY https://w3id.org/eb/i/Page/9929192893804340_144850368_412 https://w3id.org/eb/i/Page/9929192893804340_144850368_415\n",
      "https://w3id.org/eb/i/Topic/9929192893804340_144850368_NATDNATHISTORY_0 https://w3id.org/eb/i/Topic/9929192893804340_144850366_BOTANY_1 NATDNATHISTORY https://w3id.org/eb/i/Page/9929192893804340_144850368_412 https://w3id.org/eb/i/Page/9929192893804340_144850368_415\n",
      "https://w3id.org/eb/i/Topic/9929192893804340_144850368_NATDNATHISTORY_0 https://w3id.org/eb/i/Article/9929192893804340_144850367_GRYLLUS_0 NATDNATHISTORY https://w3id.org/eb/i/Page/9929192893804340_144850368_412 https://w3id.org/eb/i/Page/9929192893804340_144850368_415\n",
      "https://w3id.org/eb/i/Topic/9929192893804340_144850368_NATDNATHISTORY_0 https://w3id.org/eb/i/Article/9929192893804340_144850366_ANIMALS_0 NATDNATHISTORY https://w3id.org/eb/i/Page/9929192893804340_144850368_412 https://w3id.org/eb/i/Page/9929192893804340_144850368_415\n",
      "https://w3id.org/eb/i/Topic/9929192893804340_144850368_NATDNATHISTORY_0 https://w3id.org/eb/i/Article/9929192893804340_144850366_BOTANY_0 NATDNATHISTORY https://w3id.org/eb/i/Page/9929192893804340_144850368_412 https://w3id.org/eb/i/Page/9929192893804340_144850368_415\n",
      "https://w3id.org/eb/i/Topic/9929192893804340_144850368_NATDNATHISTORY_0 https://w3id.org/eb/i/Article/9929192893804340_144850368_WORMS_0 NATDNATHISTORY https://w3id.org/eb/i/Page/9929192893804340_144850368_412 https://w3id.org/eb/i/Page/9929192893804340_144850368_415\n"
     ]
    }
   ],
   "source": [
    "q6 = prepareQuery('''\n",
    "    SELECT *\n",
    "    WHERE {\n",
    "       ?topic a eb:Topic .\n",
    "       ?topic eb:relatedTerms ?relatedTerms . \n",
    "       ?topic eb:name ?name .\n",
    "       ?topic eb:startsAt ?startsAt.\n",
    "       ?topic eb:endsAt ?endsAt.\n",
    "    }\n",
    "    LIMIT 10\n",
    "    ''',\n",
    "  initNs = { \"eb\": eb}\n",
    ")\n",
    "\n",
    "for r in g.query(q6):\n",
    "  print(r.topic, r.relatedTerms, r.name, r.startsAt, r.endsAt)"
   ]
  },
  {
   "cell_type": "code",
   "execution_count": 12,
   "metadata": {},
   "outputs": [
    {
     "name": "stdout",
     "output_type": "stream",
     "text": [
      "https://w3id.org/eb/i/Article/9929192893804340_144850368_VICE_0 https://w3id.org/eb/i/Article/9929192893804340_144850367_KING_0 VICE in ethics, is ordinarily defined an eledlive habit, deviating, either in excess, or defedt, from the just medium wherein virtue is placed. Vice, in fmithery, and other arts employed in metals, is a machine, or instrument, serving to hold fast any thing they are at work upon, whether it is to be filed, bent, Vice is also used, iri the composition of divers words, to denote the relation of something that comes instead, or in the place, of another; as vice-admiral, vice-chancellor, vice chamberlain, vice-president, are officers who take place in the absence of admirals, circ. Vice-rov, a governor o: a kingdom, who commands in the name and stead of a king, v/ith full and iovereign authority. See King.\n",
      "https://w3id.org/eb/i/Article/992277653804341_144133901_BOBBIO_0 https://w3id.org/eb/i/Article/992277653804341_144133903_SPARUS_0 BOBBIO a town of the Milanese, in Italy, -about twenty-eight miles south-east of Pavia 5 E. long, to 0 , N lat. 44 0 35'. BOCA, in ichthyology. See Sparus. Boca-chica, the entrance into the harbour of Carthagena, in South America, defended by several sorts. Boca del drago, a strait between the iflandof Trinidad and New Andalufia, a province of Terra Firma.\n",
      "https://w3id.org/eb/i/Article/992277653804341_144133903_NAME_0 https://w3id.org/eb/i/Topic/992277653804341_144133902_GRAMMAR_0 NAME denotes a word whereby men have agreed to express some idea ; or \"which serves to signify. a thing or fubjedt spoken of. See Grammar. .\n",
      "https://w3id.org/eb/i/Article/992277653804341_144133903_THIRST_0 https://w3id.org/eb/i/Article/992277653804341_144133903_SCOTLAND_0 THIRST an uneasy sensation, arising from a deficiency in the faliva to moisten the inward parts of the mouth ; hence arises a strong desire for drink : it is a symptom generally attending feverish disorders. THISTLE, in botany. See Carduus. Ordsr of the Thistle, or of St Andrew, a military order of knighthood in Scotland, the rise and institution whereof is variously related by different authors. Lef Sey, bishop of Ross, reports, that the night before the battle between i\\thelflan king of Northumberland, and Hungus king of the Piits, a bright cross, in form of that whereon St Andrew (the tutelar saint of Scotland) suffered martyrdom, appeared to Hungus ; who having gained the vidlory, ever after bore the figure of that cross on his banners. Others assert, that Achaius king of Scotland iirft inflituted this order, after having made the famous league offensive and defensive with Charlemagne king of France. But although the thillle had been acknowledged as the symbol of the kingdom of Scotland from the reign of Achaius, yet some refer the beginning of this order to Charles VII. of France, Others place the foundation of it as low as the year 1500. The chief and principal ensign is a gold collar compofedof thiflles and sprigs of rue interlinked with amulets of gold, having pendent thereunto the image of St Andrew with his cross, and the motto, Nemo me impune la The ordinary or common ensign worn by the knights, is a firar of four silver points, and over them a green circle, bordered and lettered with gold, containing the said motto, and in the centre is a thistle proper ; all which is embroidered on their left bread, and worn with the collar, with a green ribband over the left shoulder, and brought under the right arm ; pendent thereto is the image of St Andrew, with his cross, in a purple robe, within an oval of gold enamelled yert, with the former motto : but sometimes they wear, encircled in the same manner, a thiflle crowned. About the time of the reformation, this order was dropped, till James II. of England resumed it, by creating eight knights : however, the revolution unsettled it again, and it lay negledted till queen Anne, in 1703, restored it to the primitive design, of twelve knights of St\n",
      "https://w3id.org/eb/i/Article/992277653804341_144133903_THIRST_0 https://w3id.org/eb/i/Article/992277653804341_144133903_ROSS_0 THIRST an uneasy sensation, arising from a deficiency in the faliva to moisten the inward parts of the mouth ; hence arises a strong desire for drink : it is a symptom generally attending feverish disorders. THISTLE, in botany. See Carduus. Ordsr of the Thistle, or of St Andrew, a military order of knighthood in Scotland, the rise and institution whereof is variously related by different authors. Lef Sey, bishop of Ross, reports, that the night before the battle between i\\thelflan king of Northumberland, and Hungus king of the Piits, a bright cross, in form of that whereon St Andrew (the tutelar saint of Scotland) suffered martyrdom, appeared to Hungus ; who having gained the vidlory, ever after bore the figure of that cross on his banners. Others assert, that Achaius king of Scotland iirft inflituted this order, after having made the famous league offensive and defensive with Charlemagne king of France. But although the thillle had been acknowledged as the symbol of the kingdom of Scotland from the reign of Achaius, yet some refer the beginning of this order to Charles VII. of France, Others place the foundation of it as low as the year 1500. The chief and principal ensign is a gold collar compofedof thiflles and sprigs of rue interlinked with amulets of gold, having pendent thereunto the image of St Andrew with his cross, and the motto, Nemo me impune la The ordinary or common ensign worn by the knights, is a firar of four silver points, and over them a green circle, bordered and lettered with gold, containing the said motto, and in the centre is a thistle proper ; all which is embroidered on their left bread, and worn with the collar, with a green ribband over the left shoulder, and brought under the right arm ; pendent thereto is the image of St Andrew, with his cross, in a purple robe, within an oval of gold enamelled yert, with the former motto : but sometimes they wear, encircled in the same manner, a thiflle crowned. About the time of the reformation, this order was dropped, till James II. of England resumed it, by creating eight knights : however, the revolution unsettled it again, and it lay negledted till queen Anne, in 1703, restored it to the primitive design, of twelve knights of St\n"
     ]
    }
   ],
   "source": [
    "q6 = prepareQuery('''\n",
    "    SELECT *\n",
    "    WHERE {\n",
    "       ?article a eb:Article .\n",
    "       ?article eb:relatedTerms ?relatedTerms . \n",
    "       ?article eb:name ?name .\n",
    "       ?article eb:definition ?definition.\n",
    "    }\n",
    "    LIMIT 5\n",
    "    ''',\n",
    "  initNs = { \"eb\": eb}\n",
    ")\n",
    "\n",
    "for r in g.query(q6):\n",
    "  print(r.article, r.relatedTerms, r.name, r.definition)"
   ]
  },
  {
   "cell_type": "code",
   "execution_count": 13,
   "metadata": {},
   "outputs": [
    {
     "name": "stdout",
     "output_type": "stream",
     "text": [
      "https://w3id.org/eb/i/Article/992277653804341_144133902_KINGSTON_0 KINGSTON a market-town of Surry, (ituated on the river Thames, twelve miles west of London. .Kingston, a port-town of Jamaica, situated on the north side of the bay of Port royal: W. long. 77 0 , N. lat. 17 0 32' .\n",
      "https://w3id.org/eb/i/Article/992277653804341_144133901_BORIQUE_0 BORIQUE one of the Caribbee islands, lying southeast o T Porto Rico, in 64° 30' W. long, and 18° N.\n",
      "https://w3id.org/eb/i/Article/9929192893804340_144850367_LEVER_0 LEVER or Leaver, in mechanics., See Mecha-\n",
      "https://w3id.org/eb/i/Article/9929192893804340_144850368_VICE_0 VICE in ethics, is ordinarily defined an eledlive habit, deviating, either in excess, or defedt, from the just medium wherein virtue is placed. Vice, in fmithery, and other arts employed in metals, is a machine, or instrument, serving to hold fast any thing they are at work upon, whether it is to be filed, bent, Vice is also used, iri the composition of divers words, to denote the relation of something that comes instead, or in the place, of another; as vice-admiral, vice-chancellor, vice chamberlain, vice-president, are officers who take place in the absence of admirals, circ. Vice-rov, a governor o: a kingdom, who commands in the name and stead of a king, v/ith full and iovereign authority. See King.\n",
      "https://w3id.org/eb/i/Article/9929192893804340_144850368_WITEPSKI_0 WITEPSKI the capital of the palatinate of the same name, in the duchy of Lithuania, in Poland : E. long 30°, N.\n"
     ]
    }
   ],
   "source": [
    "q6 = prepareQuery('''\n",
    "    SELECT *\n",
    "    WHERE {\n",
    "       ?article a eb:Article . \n",
    "       ?article eb:name ?name .\n",
    "       ?article eb:definition ?definition.\n",
    "    }\n",
    "    LIMIT 5\n",
    "    ''',\n",
    "  initNs = { \"eb\": eb}\n",
    ")\n",
    "\n",
    "for r in g.query(q6):\n",
    "  print(r.article, r.name, r.definition)"
   ]
  },
  {
   "cell_type": "code",
   "execution_count": 22,
   "metadata": {},
   "outputs": [
    {
     "name": "stdout",
     "output_type": "stream",
     "text": [
      "https://w3id.org/eb/i/Article/992277653804341_144133901_ABACUS_3 logijlicus, a right-angled triangle, whose sides forming the right angle contain the numbers from 1 to 60, and its area the fafta of every two of the numbers perpendicularly opposite. This is also called a canon Jk^&cus Pythagvricus, the multiplication-table, or any table of numbers that facilitates operations in arith- https://w3id.org/eb/i/Volume/992277653804341_144133901 Encyclopaedia Britannica; or, A dictionary of arts and sciences, compiled upon a new plan\n",
      "----\n",
      "https://w3id.org/eb/i/Article/9929192893804340_144850366_ABACUS_2 is also the name of an ancient inllrument for facilitating operations in arithmetic. It is variously contrived. That chiefly used in Europe is made by drawing any number of parallel lines at the difiance of two diameters of one of the counters used in the calculation. A counter placed on the lowest line, fignifics i; on the 2d, 10; on the 3d, 100; on the 4th, 1000, &c. In the intermediate spaces, the same counters are efiimated at one half of the value of the line immediately superior, viz. between the ist and 2d, 5 ; between the 2d and 3d, 50, &c. See plate I. fig. 2. A B, where the same number, 1768 for example, is represented under both by different dispositions of the counters. https://w3id.org/eb/i/Volume/9929192893804340_144850366 Encyclopaedia Britannica: or, A dictionary of arts and sciences\n",
      "----\n",
      "https://w3id.org/eb/i/Article/992277653804341_144133901_ABACUS_0 a table strewed over with dust or sand, upon which the ancient mathematicians drew their figures, It also signified a cupboard, or buffet. https://w3id.org/eb/i/Volume/992277653804341_144133901 Encyclopaedia Britannica; or, A dictionary of arts and sciences, compiled upon a new plan\n",
      "----\n",
      "https://w3id.org/eb/i/Article/9929192893804340_144850366_ABACUS_0 a table strewed over with dust or sand, upon v/hich the ancient mathematicians drew their figures. It also signified a cupboard, or buffet. https://w3id.org/eb/i/Volume/9929192893804340_144850366 Encyclopaedia Britannica: or, A dictionary of arts and sciences\n",
      "----\n",
      "https://w3id.org/eb/i/Article/9929192893804340_144850366_ABACUS_3 Pythagoricus, the multiplication-table, or any table of numbers that facilitates operations in arith- https://w3id.org/eb/i/Volume/9929192893804340_144850366 Encyclopaedia Britannica: or, A dictionary of arts and sciences\n",
      "----\n",
      "https://w3id.org/eb/i/Article/992277653804341_144133901_ABACUS_1 in architeflure, signifies the superior part or member of the capital of a column, and serves as a kind of crowning to both. It was originally intended to represent a square tile covering a basket. The form of the abacus is not the same in all orders: in the Tuscan, Doric, and Ionic, it‘is generally square; but in the Corinthian and Compofite, its four sides are arched ir Avards, and embellilhed in the middle withornament, as a rose or other flower, Scammozzi uses abacus for a concave moulding on the capital of the Tuscan pedefial; and Palladio calls the plinth above the echinus, or boultin, in the Tufean and Doric orders, by the same name. See plate I. fig. i. and https://w3id.org/eb/i/Volume/992277653804341_144133901 Encyclopaedia Britannica; or, A dictionary of arts and sciences, compiled upon a new plan\n",
      "----\n",
      "https://w3id.org/eb/i/Article/9929192893804340_144850366_ABACUS_1 in architedture, signifies the superior part or member of the capital of a column, and serves as a kind of crowning to both. It was originally intended to represent a square tile covering a basket. The form of the abacus is not the same in all orders: in the Tuscan, Doric, and Ionic, it is generally square; biit in the Corinthian and Compofite, its four sides are arched inwards, and embellilhed in the middle withornament, as a rose or other flower. Scammozzi uses abacus for a concave moulding on the capital of the Tuscan pedestal; and Palladio calls the plinth above the echinus, or boultin, in the Tuscan and Doric orders, by the same name. See plate I. fig. I. and https://w3id.org/eb/i/Volume/9929192893804340_144850366 Encyclopaedia Britannica: or, A dictionary of arts and sciences\n",
      "----\n",
      "https://w3id.org/eb/i/Article/992277653804341_144133901_ABACUS_2 is also the name of an ancient instrument for facilitating operations in arithmetic. It is vadoully contrived. That chiefly used in Europe is made by drawing any number of parallel lines at the di(lance of two diameters of one of the counters used in the calculation. A counter placed on.the lowed line, signifies r; on the sd, 10; on the 3d, 100; on the 4th, 1000, &c. In the intermediate spaces, the same counters are eflimated at one Jialf of the value of the line immediately superior, viz. between the id and 2d, 5; between the 2d and 3d, 50, &c. See plate I. fig. 2. A B, where the same number, 1768 for example, is represented under both by different dispositions of the counters. https://w3id.org/eb/i/Volume/992277653804341_144133901 Encyclopaedia Britannica; or, A dictionary of arts and sciences, compiled upon a new plan\n",
      "----\n"
     ]
    }
   ],
   "source": [
    "q7 = prepareQuery('''\n",
    "  SELECT  ?Subject ?Definition ?HasPart ?Title WHERE {\n",
    "    ?Subject eb:name ?Term.\n",
    "    ?Subject eb:definition ?Definition.\n",
    "    ?HasPart eb:hasPart ?Subject.\n",
    "    ?HasPart eb:title ?Title\n",
    "  }  \n",
    "  ''',\n",
    "  initNs = { \"eb\": eb}\n",
    ")\n",
    "\n",
    "for r in g.query(q7, initBindings = {'?Term' : Literal('ABACUS', datatype=XSD.string)}):\n",
    "  print(r.Subject, r.Definition, r.HasPart, r.Title)\n",
    "  print(\"----\")\n",
    "\n"
   ]
  },
  {
   "cell_type": "code",
   "execution_count": 54,
   "metadata": {},
   "outputs": [
    {
     "name": "stdout",
     "output_type": "stream",
     "text": [
      "https://w3id.org/eb/i/Article/992277653804341_144133901_ABACUS_3 https://w3id.org/eb/i/Article/992277653804341_144133901_ABACISCUS_0\n",
      "----\n",
      "https://w3id.org/eb/i/Article/9929192893804340_144850366_ABACUS_2 https://w3id.org/eb/i/Article/9929192893804340_144850366_ABACISCUS_0\n",
      "----\n",
      "https://w3id.org/eb/i/Article/992277653804341_144133901_ABACUS_0 https://w3id.org/eb/i/Article/992277653804341_144133901_ABACISCUS_0\n",
      "----\n",
      "https://w3id.org/eb/i/Article/9929192893804340_144850366_ABACUS_0 https://w3id.org/eb/i/Article/9929192893804340_144850366_ABACISCUS_0\n",
      "----\n",
      "https://w3id.org/eb/i/Article/9929192893804340_144850366_ABACUS_3 https://w3id.org/eb/i/Article/9929192893804340_144850366_ABACISCUS_0\n",
      "----\n",
      "https://w3id.org/eb/i/Article/992277653804341_144133901_ABACUS_1 https://w3id.org/eb/i/Article/992277653804341_144133901_ABACISCUS_0\n",
      "----\n",
      "https://w3id.org/eb/i/Article/9929192893804340_144850366_ABACUS_1 https://w3id.org/eb/i/Article/9929192893804340_144850366_ABACISCUS_0\n",
      "----\n",
      "https://w3id.org/eb/i/Article/992277653804341_144133901_ABACUS_2 https://w3id.org/eb/i/Article/992277653804341_144133901_ABACISCUS_0\n",
      "----\n"
     ]
    }
   ],
   "source": [
    "q7 = prepareQuery('''\n",
    "  SELECT  ?Subject ?RelatedTerms WHERE {\n",
    "    ?Subject eb:name ?Term.\n",
    "    ?RelatedTerms eb:relatedTerms ?Subject.\n",
    "\n",
    "    \n",
    "  }  \n",
    "  ''',\n",
    "  initNs = { \"eb\": eb}\n",
    ")\n",
    "\n",
    "for r in g.query(q7, initBindings = {'?Term' : Literal('ABACUS', datatype=XSD.string)}):\n",
    "  print(r.Subject, r.RelatedTerms)\n",
    "  print(\"----\")\n"
   ]
  },
  {
   "cell_type": "code",
   "execution_count": 14,
   "metadata": {},
   "outputs": [],
   "source": [
    "#G = rdflib_to_networkx_multidigraph(result)\n",
    "\n",
    "# Plot Networkx instance of RDF Graph\n",
    "#pos = nx.spring_layout(G, scale=2)\n",
    "#edge_labels = nx.get_edge_attributes(G, 'r')\n",
    "#nx.draw_networkx_edge_labels(G, pos, edge_labels=edge_labels)\n",
    "#nx.draw(G, with_labels=True)\n",
    "\n",
    "#if not in interactive mode for \n",
    "#plt.show()\n"
   ]
  }
 ],
 "metadata": {
  "kernelspec": {
   "display_name": "mpython3",
   "language": "python",
   "name": "mypthon3"
  },
  "language_info": {
   "codemirror_mode": {
    "name": "ipython",
    "version": 3
   },
   "file_extension": ".py",
   "mimetype": "text/x-python",
   "name": "python",
   "nbconvert_exporter": "python",
   "pygments_lexer": "ipython3",
   "version": "3.7.2"
  }
 },
 "nbformat": 4,
 "nbformat_minor": 2
}
