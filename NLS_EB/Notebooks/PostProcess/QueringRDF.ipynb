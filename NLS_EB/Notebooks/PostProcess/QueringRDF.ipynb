{
 "cells": [
  {
   "cell_type": "markdown",
   "metadata": {},
   "source": [
    "# RDF-   NLS -  Encyclopaedia Britannica\n",
    "\n",
    "This notebook is going to create the RDF triples to generate our RDLIB GRAPH\n",
    "\n",
    "For each postprocess edition dataframe that we got from **Merging_EB_Terms.ipynb** (e.g. results_eb_1_edition_dataframe, results_eb_2_edition_dataframe, etc) we are going to add the information from the dataframe that we got from **Metadata_EB.ipynb** (metadata_eb_dataframe). \n",
    "\n",
    "The idea is to have per edition dataframe (and also supplement dataframe), all the information (which currently is splitted across several dataframes) in one. \n",
    "\n",
    "\n",
    "This notebook will store the final dataframes in results_NLS directory, and their name schema will be **final_eb_< NUM_EDITION >_dataframe**.\n",
    "\n",
    "Per entry in these new dataframes we will have the following columns (see an example of one entry of the first edition):\n",
    "\n",
    "- MMSID:                                              \n",
    "- editionTitle:                          First edition, 1771, Volume 1, A-B\n",
    "- editor:                                                  Smellie, William\n",
    "- editor_date:                                                   1740-1795\n",
    "- genre:                                                       encyclopedia\n",
    "- language:                                                             eng\n",
    "- termsOfAddress:                                                       NaN\n",
    "- numberOfPages:                                                        832\n",
    "- physicalDescription:               3 v., 160 plates : ill. ; 26 cm. (4to)\n",
    "- place:                                                         Edinburgh\n",
    "- publisher:              Printed for A. Bell and C. Macfarquhar; and so...\n",
    "- referencedBy:           [Alston, R.C.  Engl. language III, 560, ESTC T...\n",
    "- shelfLocator:                                                        EB.1\n",
    "- editionSubTitle:        Illustrated with one hundred and sixty copperp...\n",
    "- volumeTitle:            Encyclopaedia Britannica; or, A dictionary of ...\n",
    "- year:                                                                1771\n",
    "- volumeId:                                                       144133901\n",
    "- metsXML:                                               144133901-mets.xml\n",
    "- permanentURL:                            https://digital.nls.uk/144133901\n",
    "- publisherPersons:                     [C. Macfarquhar, Colin Macfarquhar]\n",
    "- volumeNum:                                                              1\n",
    "- letters:                                                              A-B\n",
    "- part:                                                                   0\n",
    "- editionNum:                                                             1\n",
    "- supplementTitle:                                                         \n",
    "- supplementSubTitle:                                                      \n",
    "- supplementsTo:                                                         []\n",
    "- numberOfVolumes:                                                        6\n",
    "- term:                                                                  OR\n",
    "- definition:             A NEW A D I C T I A A, the name of several riv...\n",
    "- relatedTerms:                                                          []\n",
    "- header:                                           EncyclopaediaBritannica\n",
    "- startsAt:                                                              15\n",
    "- endsAt:                                                                15\n",
    "- numberOfTerms:                                                         22\n",
    "- numberOfWords:                                                         54\n",
    "- positionPage:                                                           0\n",
    "- typeTerm:                                                         Article\n",
    "- altoXML:                                  144133901/alto/188082904.34.xml"
   ]
  },
  {
   "cell_type": "markdown",
   "metadata": {},
   "source": [
    "### Loading the necessary libraries"
   ]
  },
  {
   "cell_type": "code",
   "execution_count": 31,
   "metadata": {},
   "outputs": [],
   "source": [
    "import rdflib\n",
    "from rdflib.extras.external_graph_libs import rdflib_to_networkx_multidigraph\n",
    "import networkx as nx\n",
    "import matplotlib.pyplot as pl\n",
    "from rdflib import Graph, ConjunctiveGraph, Namespace, Literal\n",
    "from rdflib.plugins.sparql import prepareQuery"
   ]
  },
  {
   "cell_type": "code",
   "execution_count": 32,
   "metadata": {},
   "outputs": [],
   "source": [
    "import networkx as nx\n",
    "import matplotlib.pyplot as plt\n",
    "from SPARQLWrapper import SPARQLWrapper, JSON"
   ]
  },
  {
   "cell_type": "code",
   "execution_count": 33,
   "metadata": {},
   "outputs": [],
   "source": [
    "import matplotlib.pyplot as plt\n",
    "plt.rcParams['figure.figsize'] = [15, 10]"
   ]
  },
  {
   "cell_type": "markdown",
   "metadata": {},
   "source": [
    "### Functions"
   ]
  },
  {
   "cell_type": "code",
   "execution_count": 10,
   "metadata": {},
   "outputs": [],
   "source": [
    "def plot_resource(results):\n",
    "\n",
    "    G = rdflib_to_networkx_multidigraph(results)\n",
    "    pos = nx.spring_layout(G, scale=3)\n",
    "    edge_labels = nx.get_edge_attributes(G, 'r')\n",
    "    nx.draw_networkx_edge_labels(G, pos, edge_labels=edge_labels)\n",
    "    nx.draw(G, with_labels=True)\n",
    "    plt.show()"
   ]
  },
  {
   "cell_type": "markdown",
   "metadata": {},
   "source": [
    "### 1. Loading the graph"
   ]
  },
  {
   "cell_type": "code",
   "execution_count": null,
   "metadata": {},
   "outputs": [],
   "source": [
    "g = Graph()\n",
    "g.parse(\"../../results_NLS/edition1st.ttl\", format=\"ttl\") "
   ]
  },
  {
   "cell_type": "markdown",
   "metadata": {},
   "source": [
    "List all the resources with the property eb:editor"
   ]
  },
  {
   "cell_type": "code",
   "execution_count": null,
   "metadata": {},
   "outputs": [],
   "source": [
    "eb = Namespace(\"https://w3id.org/eb#\")\n",
    "\n",
    "q1 = prepareQuery('''\n",
    "  SELECT ?Edition WHERE { \n",
    "    ?Edition eb:editor ?FullName. \n",
    "  }\n",
    "  ''',\n",
    "  initNs = { \"eb\": eb}\n",
    ")\n",
    "\n",
    "\n",
    "for r in g.query(q1):\n",
    "      print(r.Edition)"
   ]
  },
  {
   "cell_type": "markdown",
   "metadata": {},
   "source": [
    "Same query but asking more information about the resources obtained. "
   ]
  },
  {
   "cell_type": "code",
   "execution_count": null,
   "metadata": {},
   "outputs": [],
   "source": [
    "q2 = prepareQuery('''\n",
    "  SELECT ?Subject ?Editor WHERE { \n",
    "    ?Subject eb:editor ?Editor.\n",
    "  } \n",
    "  ''',\n",
    "  initNs = { \"eb\": eb}\n",
    ")\n",
    "\n",
    "for r in g.query(q2):\n",
    "  print(r.Subject, r.Editor)"
   ]
  },
  {
   "cell_type": "code",
   "execution_count": null,
   "metadata": {},
   "outputs": [],
   "source": [
    "q2a = prepareQuery('''\n",
    "SELECT DISTINCT ?name\n",
    "    WHERE {\n",
    "     ?instance eb:editor ?Editor.\n",
    "     ?Editor eb:name ?name .\n",
    "    }\n",
    "    ''',\n",
    "  initNs = { \"eb\": eb}\n",
    ")\n",
    "\n",
    "for r in g.query(q2a):\n",
    "      print(r.name)"
   ]
  },
  {
   "cell_type": "code",
   "execution_count": null,
   "metadata": {},
   "outputs": [],
   "source": [
    "res=g.query(q2a)\n",
    "a=list(res)[0]\n",
    "a.name"
   ]
  },
  {
   "cell_type": "markdown",
   "metadata": {},
   "source": [
    "Same query asking for the first 10 resources with the properity eb.name"
   ]
  },
  {
   "cell_type": "code",
   "execution_count": null,
   "metadata": {},
   "outputs": [],
   "source": [
    "q2 = prepareQuery('''\n",
    "  SELECT ?Subject ?Name WHERE { \n",
    "    ?Subject eb:name ?Name.\n",
    "  } \n",
    "  LIMIT 10\n",
    "  ''',\n",
    "  initNs = { \"eb\": eb}\n",
    ")\n",
    "\n",
    "for r in g.query(q2):\n",
    "    print(r.Subject, r.Name)"
   ]
  },
  {
   "cell_type": "code",
   "execution_count": null,
   "metadata": {},
   "outputs": [],
   "source": [
    "from rdflib import XSD\n",
    "q2 = prepareQuery('''\n",
    "SELECT DISTINCT ?name\n",
    "WHERE {\n",
    " ?instance eb:editor ?editor;\n",
    "           eb:place ?place;\n",
    "           eb:title ?name.\n",
    "  \n",
    "}\n",
    "LIMIT 10\n",
    "  ''',\n",
    "  initNs = { \"eb\": eb}\n",
    ")\n",
    "\n",
    "for r in g.query(q2, initBindings = {'?place' : Literal('London', datatype=XSD.string)}):\n",
    "    print(r.name)"
   ]
  },
  {
   "cell_type": "markdown",
   "metadata": {},
   "source": [
    "Asking for resources which name is \"Smellie, Willian\""
   ]
  },
  {
   "cell_type": "code",
   "execution_count": null,
   "metadata": {},
   "outputs": [],
   "source": [
    "from rdflib import XSD\n",
    "q3 = prepareQuery('''\n",
    "  SELECT ?Subject WHERE { \n",
    "    ?Subject eb:name ?Family.\n",
    "  } \n",
    "  ''',\n",
    "    initNs = { \"eb\": eb}\n",
    ")\n",
    "\n",
    "for r in g.query(q3, initBindings = {'?Family' : Literal('Smellie, William', datatype=XSD.string)}):\n",
    "  print(r.Subject)"
   ]
  },
  {
   "cell_type": "markdown",
   "metadata": {},
   "source": [
    "Asking for resources with name is ABACUS"
   ]
  },
  {
   "cell_type": "code",
   "execution_count": null,
   "metadata": {},
   "outputs": [],
   "source": [
    "from rdflib import XSD\n",
    "q3 = prepareQuery('''\n",
    "  SELECT ?Subject WHERE { \n",
    "    ?Subject eb:name ?Term.\n",
    "  } \n",
    "  ''',\n",
    "    initNs = { \"eb\": eb}\n",
    ")\n",
    "\n",
    "for r in g.query(q3, initBindings = {'?Term' : Literal('ABACUS', datatype=XSD.string)}):\n",
    "  print(r.Subject)"
   ]
  },
  {
   "cell_type": "code",
   "execution_count": null,
   "metadata": {},
   "outputs": [],
   "source": [
    "from rdflib import XSD\n",
    "q4 = prepareQuery('''\n",
    "  SELECT ?Subject ?Term WHERE { \n",
    "    ?Subject eb:name ?Term.\n",
    "  } \n",
    "  ''',\n",
    "    initNs = { \"eb\": eb}\n",
    ")\n",
    "\n",
    "for r in g.query(q4, initBindings = {'?Term' : Literal('ABACUS', datatype=XSD.string)}):\n",
    "  print(r.Subject, r.Term)"
   ]
  },
  {
   "cell_type": "code",
   "execution_count": null,
   "metadata": {},
   "outputs": [],
   "source": [
    "q5 = prepareQuery('''\n",
    "    SELECT ?edition\n",
    "    WHERE {\n",
    "       ?edition rdf:type eb:Edition .\n",
    "    }\n",
    "    ''',\n",
    "  initNs = { \"eb\": eb}\n",
    ")\n",
    "\n",
    "for r in g.query(q5):\n",
    "  print(r.edition)"
   ]
  },
  {
   "cell_type": "code",
   "execution_count": null,
   "metadata": {},
   "outputs": [],
   "source": [
    "q5 = prepareQuery('''\n",
    "    SELECT ?topic\n",
    "    WHERE {\n",
    "       ?topic rdf:type eb:Topic .\n",
    "    }\n",
    "    LIMIT 10\n",
    "    ''',\n",
    "  initNs = { \"eb\": eb}\n",
    ")\n",
    "\n",
    "for r in g.query(q5):\n",
    "  print(r.topic)"
   ]
  },
  {
   "cell_type": "code",
   "execution_count": null,
   "metadata": {},
   "outputs": [],
   "source": [
    "q6 = prepareQuery('''\n",
    "    SELECT *\n",
    "    WHERE {\n",
    "       ?topic a eb:Topic .\n",
    "       ?topic eb:relatedTerms ?relatedTerms . \n",
    "       ?topic eb:name ?name .\n",
    "       ?topic eb:startsAt ?startsAt.\n",
    "       ?topic eb:endsAt ?endsAt.\n",
    "    }\n",
    "    LIMIT 10\n",
    "    ''',\n",
    "  initNs = { \"eb\": eb}\n",
    ")\n",
    "\n",
    "for r in g.query(q6):\n",
    "    print(r.topic, r.relatedTerms, r.name, r.startsAt, r.endsAt)"
   ]
  },
  {
   "cell_type": "code",
   "execution_count": null,
   "metadata": {},
   "outputs": [],
   "source": [
    "q6 = prepareQuery('''\n",
    "    SELECT *\n",
    "    WHERE {\n",
    "       ?article a eb:Article .\n",
    "       ?article eb:relatedTerms ?relatedTerms . \n",
    "       ?article eb:name ?name .\n",
    "       ?article eb:definition ?definition.\n",
    "    }\n",
    "    LIMIT 5\n",
    "    ''',\n",
    "  initNs = { \"eb\": eb}\n",
    ")\n",
    "\n",
    "for r in g.query(q6):\n",
    "  print(r.article, r.relatedTerms, r.name, r.definition)"
   ]
  },
  {
   "cell_type": "code",
   "execution_count": null,
   "metadata": {},
   "outputs": [],
   "source": [
    "q6 = prepareQuery('''\n",
    "    SELECT *\n",
    "    WHERE {\n",
    "       ?article a eb:Article . \n",
    "       ?article eb:name ?name .\n",
    "       ?article eb:definition ?definition.\n",
    "    }\n",
    "    LIMIT 5\n",
    "    ''',\n",
    "  initNs = { \"eb\": eb}\n",
    ")\n",
    "\n",
    "for r in g.query(q6):\n",
    "  print(r.article, r.name, r.definition)"
   ]
  },
  {
   "cell_type": "code",
   "execution_count": null,
   "metadata": {},
   "outputs": [],
   "source": [
    "q7 = prepareQuery('''\n",
    "  SELECT  ?Subject ?Definition ?HasPart ?Title WHERE {\n",
    "    ?Subject eb:name ?Term.\n",
    "    ?Subject eb:definition ?Definition.\n",
    "    ?HasPart eb:hasPart ?Subject.\n",
    "    ?HasPart eb:title ?Title\n",
    "  }  \n",
    "  ''',\n",
    "  initNs = { \"eb\": eb}\n",
    ")\n",
    "\n",
    "for r in g.query(q7, initBindings = {'?Term' : Literal('ABACUS', datatype=XSD.string)}):\n",
    "  print(r.Subject, r.Definition, r.HasPart, r.Title)\n",
    "  print(\"----\")\n",
    "\n"
   ]
  },
  {
   "cell_type": "code",
   "execution_count": null,
   "metadata": {},
   "outputs": [],
   "source": [
    "q7 = prepareQuery('''\n",
    "  SELECT  ?Subject ?RelatedTerms WHERE {\n",
    "    ?Subject eb:name ?Term.\n",
    "    ?RelatedTerms eb:relatedTerms ?Subject.\n",
    "\n",
    "    \n",
    "  }  \n",
    "  ''',\n",
    "  initNs = { \"eb\": eb}\n",
    ")\n",
    "\n",
    "for r in g.query(q7, initBindings = {'?Term' : Literal('ABACUS', datatype=XSD.string)}):\n",
    "  print(r.Subject, r.RelatedTerms)\n",
    "  print(\"----\")\n"
   ]
  },
  {
   "cell_type": "code",
   "execution_count": null,
   "metadata": {},
   "outputs": [],
   "source": [
    "#G = rdflib_to_networkx_multidigraph(result)\n",
    "\n",
    "# Plot Networkx instance of RDF Graph\n",
    "#pos = nx.spring_layout(G, scale=2)\n",
    "#edge_labels = nx.get_edge_attributes(G, 'r')\n",
    "#nx.draw_networkx_edge_labels(G, pos, edge_labels=edge_labels)\n",
    "#nx.draw(G, with_labels=True)\n",
    "\n",
    "#if not in interactive mode for \n",
    "#plt.show()\n"
   ]
  },
  {
   "cell_type": "markdown",
   "metadata": {},
   "source": [
    "### 3. Connecting with FUSEKI and using SPARQLWrapper"
   ]
  },
  {
   "cell_type": "markdown",
   "metadata": {},
   "source": [
    "#### 3.1 Basic query"
   ]
  },
  {
   "cell_type": "code",
   "execution_count": null,
   "metadata": {},
   "outputs": [],
   "source": [
    "sparql = SPARQLWrapper(\"http://localhost:3030/edition1st/sparql\")\n",
    "sparql.setQuery(\"\"\"\n",
    "    SELECT ?subject ?predicate ?object WHERE {   ?subject ?predicate ?object } LIMIT 5 \n",
    "\"\"\")\n",
    "sparql.setReturnFormat(JSON)\n",
    "results = sparql.query().convert()\n",
    "\n",
    "results\n",
    "\n",
    "for result in results[\"results\"][\"bindings\"]:\n",
    "    print(result[\"subject\"][\"value\"], result[\"predicate\"][\"value\"], result[\"object\"][\"value\"] )\n"
   ]
  },
  {
   "cell_type": "markdown",
   "metadata": {},
   "source": [
    "#### 3.2 Describe query"
   ]
  },
  {
   "cell_type": "code",
   "execution_count": null,
   "metadata": {},
   "outputs": [],
   "source": [
    "sparql = SPARQLWrapper(\"http://localhost:3030/edition1st/sparql\")\n",
    "sparql.setQuery(\"\"\"\n",
    "    DESCRIBE <https://w3id.org/eb/i/Article/9929192893804340_144850368_PAISLEY_0>\n",
    "\"\"\")\n",
    "\n",
    "sparql.setReturnFormat(JSON)\n",
    "results = sparql.query().convert()\n"
   ]
  },
  {
   "cell_type": "markdown",
   "metadata": {},
   "source": [
    "##### 3.2.1 Plot Describe Result Graph "
   ]
  },
  {
   "cell_type": "code",
   "execution_count": null,
   "metadata": {},
   "outputs": [],
   "source": [
    "\n",
    "plot_resource(results)"
   ]
  },
  {
   "cell_type": "code",
   "execution_count": null,
   "metadata": {},
   "outputs": [],
   "source": []
  },
  {
   "cell_type": "markdown",
   "metadata": {},
   "source": [
    "##### 3.2.1 Print Describe Result Graph "
   ]
  },
  {
   "cell_type": "code",
   "execution_count": null,
   "metadata": {},
   "outputs": [],
   "source": [
    "for s,p,o in results:\n",
    "      print(s,p,o)"
   ]
  },
  {
   "cell_type": "code",
   "execution_count": 78,
   "metadata": {},
   "outputs": [],
   "source": [
    "sparql = SPARQLWrapper(\"http://localhost:3030/edition1st/sparql\")\n",
    "term=\"ABACUS\"\n",
    "query=\"\"\"\n",
    "    PREFIX eb: <https://w3id.org/eb#>\n",
    "    SELECT ?definition ?article ?spnum ?epnum ?year ?vnum ?enum ?rn ?permanentURL WHERE {\n",
    "       ?article a eb:Article ;\n",
    "                eb:name \"%s\" ;\n",
    "                eb:definition ?definition ;\n",
    "        OPTIONAL {?article eb:relatedTerms ?rt. \n",
    "                  ?rt eb:name ?rn. }\n",
    "       ?e eb:hasPart ?v.\n",
    "       ?v eb:number ?vnum.\n",
    "       ?v eb:permanentURL ?permanentURL.\n",
    "       ?v eb:hasPart ?article.\n",
    "       ?e eb:publicationYear ?year.\n",
    "       ?e eb:number ?enum.\n",
    "       ?article eb:startsAtPage ?sp.\n",
    "       ?sp   eb:number ?spnum .\n",
    "       ?article eb:endsAtPage ?ep.\n",
    "       ?ep eb:number ?epnum .\n",
    "               \n",
    "       }\n",
    "    \"\"\" % (term)\n",
    "sparql.setQuery(query)\n",
    "sparql.setReturnFormat(JSON)\n",
    "results = sparql.query().convert()\n",
    "for r in results[\"results\"][\"bindings\"]:\n",
    "    print(r)\n",
    "    break "
   ]
  },
  {
   "cell_type": "code",
   "execution_count": 87,
   "metadata": {},
   "outputs": [
    {
     "name": "stdout",
     "output_type": "stream",
     "text": [
      "ABACUS\n",
      "in architeflure, signifies the superior part or member of the capital of a column, and serves as a kind of crowning to both. It was originally intended to represent a square tile covering a basket. The form of the abacus is not the same in all orders: in the Tuscan, Doric, and Ionic, it‘is generally square; but in the Corinthian and Compofite, its four sides are arched ir Avards, and embellilhed in the middle withornament, as a rose or other flower, Scammozzi uses abacus for a concave moulding on the capital of the Tuscan pedefial; and Palladio calls the plinth above the echinus, or boultin, in the Tufean and Doric orders, by the same name. See plate I. fig. i. and\n",
      "ABACUS\n",
      "a table strewed over with dust or sand, upon which the ancient mathematicians drew their figures, It also signified a cupboard, or buffet.\n",
      "ABACUS\n",
      "in architedture, signifies the superior part or member of the capital of a column, and serves as a kind of crowning to both. It was originally intended to represent a square tile covering a basket. The form of the abacus is not the same in all orders: in the Tuscan, Doric, and Ionic, it is generally square; biit in the Corinthian and Compofite, its four sides are arched inwards, and embellilhed in the middle withornament, as a rose or other flower. Scammozzi uses abacus for a concave moulding on the capital of the Tuscan pedestal; and Palladio calls the plinth above the echinus, or boultin, in the Tuscan and Doric orders, by the same name. See plate I. fig. I. and\n",
      "ABACUS\n",
      "is also the name of an ancient inllrument for facilitating operations in arithmetic. It is variously contrived. That chiefly used in Europe is made by drawing any number of parallel lines at the difiance of two diameters of one of the counters used in the calculation. A counter placed on the lowest line, fignifics i; on the 2d, 10; on the 3d, 100; on the 4th, 1000, &c. In the intermediate spaces, the same counters are efiimated at one half of the value of the line immediately superior, viz. between the ist and 2d, 5 ; between the 2d and 3d, 50, &c. See plate I. fig. 2. A B, where the same number, 1768 for example, is represented under both by different dispositions of the counters.\n",
      "ABACUS\n",
      "a table strewed over with dust or sand, upon v/hich the ancient mathematicians drew their figures. It also signified a cupboard, or buffet.\n",
      "ABACUS\n",
      "is also the name of an ancient instrument for facilitating operations in arithmetic. It is vadoully contrived. That chiefly used in Europe is made by drawing any number of parallel lines at the di(lance of two diameters of one of the counters used in the calculation. A counter placed on.the lowed line, signifies r; on the sd, 10; on the 3d, 100; on the 4th, 1000, &c. In the intermediate spaces, the same counters are eflimated at one Jialf of the value of the line immediately superior, viz. between the id and 2d, 5; between the 2d and 3d, 50, &c. See plate I. fig. 2. A B, where the same number, 1768 for example, is represented under both by different dispositions of the counters.\n",
      "ABACUS\n",
      "logijlicus, a right-angled triangle, whose sides forming the right angle contain the numbers from 1 to 60, and its area the fafta of every two of the numbers perpendicularly opposite. This is also called a canon Jk^&cus Pythagvricus, the multiplication-table, or any table of numbers that facilitates operations in arith-\n",
      "ABACUS\n",
      "Pythagoricus, the multiplication-table, or any table of numbers that facilitates operations in arith-\n"
     ]
    }
   ],
   "source": [
    "sparql = SPARQLWrapper(\"http://localhost:3030/edition1st/sparql\")\n",
    "term=\"ABACUS\"\n",
    "query=\"\"\"\n",
    "PREFIX eb: <https://w3id.org/eb#>\n",
    "PREFIX rdfs: <http://www.w3.org/2000/01/rdf-schema#>\n",
    "SELECT ?definition ?a ?b  ?spnum ?epnum \n",
    "    WHERE {{\n",
    "    \t?b a eb:Article .\n",
    "    \t?b eb:name ?a .\n",
    "        ?b eb:name \"%s\" .\n",
    "        ?b eb:definition ?definition . \n",
    "        OPTIONAL {?b eb:relatedTerms ?rt. \n",
    "                  ?rt eb:name ?rn. }\n",
    "       ?e eb:hasPart ?v.\n",
    "       ?v eb:number ?vnum.\n",
    "       ?v eb:permanentURL ?permanentURL.\n",
    "       ?v eb:hasPart ?b.\n",
    "       ?e eb:publicationYear ?year.\n",
    "       ?e eb:number ?enum.\n",
    "       ?b eb:startsAtPage ?sp.\n",
    "       ?sp   eb:number ?spnum .\n",
    "       ?b eb:endsAtPage ?ep.\n",
    "       ?ep eb:number ?epnum .\n",
    "        \n",
    "        }\n",
    "  \t\tUNION {\n",
    "    \t?b a eb:Topic .\n",
    "    \t?b eb:name ?a .\n",
    "        ?b eb:name \"%s\" .\n",
    "        ?b eb:definition ?definition \n",
    "        \n",
    "        OPTIONAL {?b eb:relatedTerms ?rt. \n",
    "                  ?rt eb:name ?rn. }\n",
    "        \n",
    "        ?e eb:hasPart ?v.\n",
    "        ?v eb:number ?vnum.\n",
    "        ?v eb:permanentURL ?permanentURL.\n",
    "        ?v eb:hasPart ?b.\n",
    "        ?e eb:publicationYear ?year.\n",
    "        ?e eb:number ?enum.\n",
    "        ?b eb:startsAtPage ?sp.\n",
    "        ?sp   eb:number ?spnum .\n",
    "        ?b eb:endsAtPage ?ep.\n",
    "        ?ep eb:number ?epnum .\n",
    "        \n",
    "        }\n",
    "   }\n",
    "\"\"\" %(term, term)\n",
    "sparql.setQuery(query)\n",
    "sparql.setReturnFormat(JSON)\n",
    "results = sparql.query().convert()\n",
    "results = sparql.query().convert()\n",
    "for r in results[\"results\"][\"bindings\"]:\n",
    "    print(r[\"a\"][\"value\"])\n",
    "    print(r[\"definition\"][\"value\"])"
   ]
  },
  {
   "cell_type": "code",
   "execution_count": null,
   "metadata": {},
   "outputs": [],
   "source": []
  },
  {
   "cell_type": "code",
   "execution_count": 57,
   "metadata": {},
   "outputs": [
    {
     "ename": "KeyError",
     "evalue": "'article'",
     "output_type": "error",
     "traceback": [
      "\u001b[0;31m---------------------------------------------------------------------------\u001b[0m",
      "\u001b[0;31mKeyError\u001b[0m                                  Traceback (most recent call last)",
      "\u001b[0;32m<ipython-input-57-ff73068558d4>\u001b[0m in \u001b[0;36m<module>\u001b[0;34m\u001b[0m\n\u001b[1;32m      1\u001b[0m \u001b[0;32mfor\u001b[0m \u001b[0mresult\u001b[0m \u001b[0;32min\u001b[0m \u001b[0mresults\u001b[0m\u001b[0;34m[\u001b[0m\u001b[0;34m\"results\"\u001b[0m\u001b[0;34m]\u001b[0m\u001b[0;34m[\u001b[0m\u001b[0;34m\"bindings\"\u001b[0m\u001b[0;34m]\u001b[0m\u001b[0;34m:\u001b[0m\u001b[0;34m\u001b[0m\u001b[0;34m\u001b[0m\u001b[0m\n\u001b[0;32m----> 2\u001b[0;31m     \u001b[0mprint\u001b[0m\u001b[0;34m(\u001b[0m\u001b[0;34m\"URI: %s -- Name %s -- Related Term: %s -- Definition %s \"\u001b[0m \u001b[0;34m%\u001b[0m\u001b[0;34m(\u001b[0m\u001b[0mresult\u001b[0m\u001b[0;34m[\u001b[0m\u001b[0;34m\"article\"\u001b[0m\u001b[0;34m]\u001b[0m\u001b[0;34m[\u001b[0m\u001b[0;34m\"value\"\u001b[0m\u001b[0;34m]\u001b[0m\u001b[0;34m,\u001b[0m \u001b[0mresult\u001b[0m\u001b[0;34m[\u001b[0m\u001b[0;34m\"name\"\u001b[0m\u001b[0;34m]\u001b[0m\u001b[0;34m[\u001b[0m\u001b[0;34m\"value\"\u001b[0m\u001b[0;34m]\u001b[0m\u001b[0;34m,\u001b[0m \u001b[0mresult\u001b[0m\u001b[0;34m[\u001b[0m\u001b[0;34m\"relatedTerms\"\u001b[0m\u001b[0;34m]\u001b[0m\u001b[0;34m[\u001b[0m\u001b[0;34m\"value\"\u001b[0m\u001b[0;34m]\u001b[0m\u001b[0;34m,\u001b[0m \u001b[0mresult\u001b[0m\u001b[0;34m[\u001b[0m\u001b[0;34m\"definition\"\u001b[0m\u001b[0;34m]\u001b[0m\u001b[0;34m[\u001b[0m\u001b[0;34m\"value\"\u001b[0m\u001b[0;34m]\u001b[0m \u001b[0;34m)\u001b[0m\u001b[0;34m)\u001b[0m\u001b[0;34m\u001b[0m\u001b[0;34m\u001b[0m\u001b[0m\n\u001b[0m\u001b[1;32m      3\u001b[0m     \u001b[0mprint\u001b[0m\u001b[0;34m(\u001b[0m\u001b[0;34m\"----\"\u001b[0m\u001b[0;34m)\u001b[0m\u001b[0;34m\u001b[0m\u001b[0;34m\u001b[0m\u001b[0m\n",
      "\u001b[0;31mKeyError\u001b[0m: 'article'"
     ]
    }
   ],
   "source": [
    "for result in results[\"results\"][\"bindings\"]:\n",
    "    print(\"URI: %s -- Name %s -- Related Term: %s -- Definition %s \" %(result[\"article\"][\"value\"], result[\"name\"][\"value\"], result[\"relatedTerms\"][\"value\"], result[\"definition\"][\"value\"] ))\n",
    "    print(\"----\")"
   ]
  },
  {
   "cell_type": "code",
   "execution_count": null,
   "metadata": {},
   "outputs": [],
   "source": [
    "sparql = SPARQLWrapper(\"http://localhost:3030/edition1st/sparql\")\n",
    "sparql.setQuery(\"\"\"\n",
    "    PREFIX eb: <https://w3id.org/eb#>\n",
    "       SELECT * WHERE {\n",
    "       ?article a eb:Article .\n",
    "       ?article eb:relatedTerms ?relatedTerms . \n",
    "       ?article eb:name ?name .\n",
    "       ?article eb:definition ?definition.\n",
    "  \t   FILTER regex(?name, \"^ABACISCUS\") \n",
    "    }\n",
    "\"\"\")\n",
    "sparql.setReturnFormat(JSON)\n",
    "results = sparql.query().convert()\n",
    "for result in results[\"results\"][\"bindings\"]:\n",
    "    print(\"URI: %s -- Name %s -- Related Term: %s -- Definition %s \" %(result[\"article\"][\"value\"], result[\"name\"][\"value\"], result[\"relatedTerms\"][\"value\"], result[\"definition\"][\"value\"] ))\n",
    "    print(\"----\")"
   ]
  },
  {
   "cell_type": "code",
   "execution_count": 65,
   "metadata": {},
   "outputs": [
    {
     "name": "stdout",
     "output_type": "stream",
     "text": [
      "URI: https://w3id.org/eb/i/Article/992277653804341_144133901_ABACISCUS_0 -- Name ABACISCUS \n",
      "----\n",
      "URI: https://w3id.org/eb/i/Article/9929192893804340_144850366_ABACISCUS_0 -- Name ABACISCUS \n",
      "----\n"
     ]
    }
   ],
   "source": [
    "sparql = SPARQLWrapper(\"http://localhost:3030/edition1st/sparql\")\n",
    "sparql.setQuery(\"\"\"\n",
    "PREFIX eb: <https://w3id.org/eb#>\n",
    "SELECT * WHERE {\n",
    "       ?article a eb:Article .\n",
    "       ?article eb:name ?name .\n",
    "       FILTER regex(?name, \"^ABACISCUS\")\n",
    "    }\n",
    "    ORDER BY ?name\n",
    "    LIMIT 10\n",
    "\"\"\")\n",
    "sparql.setReturnFormat(JSON)\n",
    "results = sparql.query().convert()\n",
    "for result in results[\"results\"][\"bindings\"]:\n",
    "    print(\"URI: %s -- Name %s \" %(result[\"article\"][\"value\"], result[\"name\"][\"value\"]))\n",
    "    print(\"----\")"
   ]
  },
  {
   "cell_type": "code",
   "execution_count": null,
   "metadata": {},
   "outputs": [],
   "source": [
    "sparql = SPARQLWrapper(\"http://localhost:3030/edition1st/sparql\")\n",
    "sparql.setQuery(\"\"\"\n",
    "    DESCRIBE <https://w3id.org/eb/i/Article/992277653804341_144133901_ABACUS_0>\n",
    "\"\"\")\n",
    "\n",
    "sparql.setReturnFormat(JSON)\n",
    "results = sparql.query().convert()\n",
    "plot_resource(results)"
   ]
  },
  {
   "cell_type": "code",
   "execution_count": null,
   "metadata": {},
   "outputs": [],
   "source": [
    "sparql = SPARQLWrapper(\"http://localhost:3030/edition1st/sparql\")\n",
    "sparql.setQuery(\"\"\"\n",
    "    PREFIX eb: <https://w3id.org/eb#>\n",
    "    SELECT ?year WHERE {\n",
    "       ?edition a eb:Edition .\n",
    "       ?edition eb:publicationYear ?year \n",
    "    }\n",
    "\n",
    "\"\"\")\n",
    "sparql.setReturnFormat(JSON)\n",
    "results = sparql.query().convert()"
   ]
  },
  {
   "cell_type": "code",
   "execution_count": null,
   "metadata": {},
   "outputs": [],
   "source": [
    "results[\"results\"][\"bindings\"][0][\"year\"][\"value\"]\n"
   ]
  },
  {
   "cell_type": "code",
   "execution_count": null,
   "metadata": {},
   "outputs": [],
   "source": [
    "sparql = SPARQLWrapper(\"http://localhost:3030/edition1st/sparql\")\n",
    "sparql.setQuery(\"\"\"\n",
    "         PREFIX eb: <https://w3id.org/eb#>\n",
    "         SELECT DISTINCT ?name\n",
    "         WHERE {\n",
    "         ?instance eb:editor ?Editor.\n",
    "          ?Editor eb:name ?name .\n",
    "       }\n",
    "      \n",
    "    \"\"\")\n",
    "sparql.setReturnFormat(JSON)\n",
    "results = sparql.query().convert()\n",
    "results[\"results\"][\"bindings\"][0][\"name\"][\"value\"]"
   ]
  },
  {
   "cell_type": "code",
   "execution_count": null,
   "metadata": {},
   "outputs": [],
   "source": [
    "sparql = SPARQLWrapper(\"http://localhost:3030/edition1st/sparql\")\n",
    "sparql.setQuery(\"\"\"\n",
    "PREFIX eb: <https://w3id.org/eb#>\n",
    "SELECT ?definition WHERE {\n",
    "       ?article a eb:Article .\n",
    "       ?article eb:name ?name .\n",
    "       ?article eb:definition ?definition .\n",
    "       FILTER regex(?name, \"^ABACUS\")\n",
    "    }\n",
    "    LIMIT 1\n",
    "\"\"\")\n",
    "sparql.setReturnFormat(JSON)\n",
    "results = sparql.query().convert()\n",
    "results[\"results\"][\"bindings\"][0][\"definition\"][\"value\"]"
   ]
  },
  {
   "cell_type": "code",
   "execution_count": 103,
   "metadata": {},
   "outputs": [
    {
     "data": {
      "text/plain": [
       "'19771'"
      ]
     },
     "execution_count": 103,
     "metadata": {},
     "output_type": "execute_result"
    }
   ],
   "source": [
    "sparql = SPARQLWrapper(\"http://localhost:3030/edition1st/sparql\")\n",
    "sparql.setQuery(\"\"\"\n",
    "PREFIX eb: <https://w3id.org/eb#>\n",
    "SELECT (COUNT (DISTINCT ?a) as ?count)\n",
    "    WHERE {\n",
    "    \t?a ?b ?d\n",
    "}\n",
    "\"\"\")\n",
    "sparql.setReturnFormat(JSON)\n",
    "results = sparql.query().convert()\n",
    "results[\"results\"][\"bindings\"][0][\"count\"][\"value\"]"
   ]
  },
  {
   "cell_type": "code",
   "execution_count": 104,
   "metadata": {},
   "outputs": [
    {
     "data": {
      "text/plain": [
       "'175586'"
      ]
     },
     "execution_count": 104,
     "metadata": {},
     "output_type": "execute_result"
    }
   ],
   "source": [
    "sparql = SPARQLWrapper(\"http://localhost:3030/edition1st/sparql\")\n",
    "sparql.setQuery(\"\"\"\n",
    "PREFIX eb: <https://w3id.org/eb#>\n",
    "SELECT (COUNT ( ?a) as ?count)\n",
    "    WHERE {\n",
    "    \t?a ?b ?d\n",
    "}\n",
    "\"\"\")\n",
    "sparql.setReturnFormat(JSON)\n",
    "results = sparql.query().convert()\n",
    "results[\"results\"][\"bindings\"][0][\"count\"][\"value\"]"
   ]
  },
  {
   "cell_type": "code",
   "execution_count": 71,
   "metadata": {},
   "outputs": [
    {
     "name": "stdout",
     "output_type": "stream",
     "text": [
      "PAISLEY\n",
      "PRIOR\n",
      "ANTHEM\n",
      "ODYSSEY\n",
      "CONSUMPTION\n",
      "FRATERNITY\n",
      "MATTURANTS\n",
      "BILLET\n",
      "KOS\n",
      "STOCKHOLM\n"
     ]
    }
   ],
   "source": [
    "sparql = SPARQLWrapper(\"http://localhost:3030/edition1st/sparql\")\n",
    "sparql.setQuery(\"\"\"\n",
    "PREFIX eb: <https://w3id.org/eb#>\n",
    "PREFIX rdfs: <http://www.w3.org/2000/01/rdf-schema#>\n",
    "SELECT DISTINCT ?a\n",
    "    WHERE {{\n",
    "    \t?b a eb:Article .\n",
    "    \t?b eb:name ?a}\n",
    "  \t\tUNION {\n",
    "    \t?b a eb:Topic .\n",
    "    \t?b eb:name ?a}\n",
    "}\n",
    "LIMIT 10\n",
    "\"\"\")\n",
    "sparql.setReturnFormat(JSON)\n",
    "results = sparql.query().convert()\n",
    "results = sparql.query().convert()\n",
    "for r in results[\"results\"][\"bindings\"]:\n",
    "    print(r[\"a\"][\"value\"])"
   ]
  },
  {
   "cell_type": "code",
   "execution_count": 133,
   "metadata": {},
   "outputs": [
    {
     "name": "stdout",
     "output_type": "stream",
     "text": [
      "a town of Scotland, in the county of Renfrew, six miles west of Glasgow.\n",
      "----\n",
      "a county of Scotland, lying westward of Glasgow, and comprehending the countries of Lorn, Cowal, Knapdale, Kintyfe, together with the islands Mull, Jura, Ifla, foe. It gives the title of duke to the noble family of Campbell.\n",
      "----\n",
      "a parliament town of Scotland, in the county of Argyle, of which it is the capital, fituatedin Lochhn, forty five miles north-west of Glasgow : W. long. 5 0 , N. lat 36° 28-.\n",
      "----\n",
      "a town of Scotland, in the county of Clydefdale, situated on the river Cl^de, eleven miles south-east of Glasgow : W. long. 3 0 jo', N. lat. 55 0\n",
      "----\n",
      "a town of Scotland, in the county of Renfrew, six miles west of Glasgow.\n",
      "----\n",
      "a parliament town of Scotland, in the county of Argyle, of which it is the capital, fituatedin Lochfn, forty five miles north-west of Glasgow : W. long. 5 0 , N. lat 36° 28' .\n",
      "----\n",
      "a place where great numbers of fifli are The principal fiffieries for salmon, herring, mackrel, pilchards, <bc. are along the coasts of Scotland, England, and Ireland; for cod, 6n the banks of Newfoundland ; for whales,, about Greenland; and for pearls, in the East and West-Indies. Fishery denotes also the commerce of fiffi, more particularly the catching them for sale. Were we to enter into a very minute and particular consideration of fiffieries, as at present established in ,this kingdom, this article would fv Vell beyond its proper bounds ; because to do justice to a fubjedt of that concernment to the Britiffi nation, requires a very ample and diftimft difeuflion.. We shall, however, observe, that since the Divine Providence has so eminently stored the coasts of Great Britain and Ireland with the most valuable fiffi; and since fiffieries, if successful, become permament nurferies for breeding expert seamen: it is not only a duty we owe to the Supreme Being, not to despise the wonderful plenty he hath afforded us, by neglefting to extend this branch of commerce to the utmost; but it is a duty we owe to our country, for its natural security, which depends upon the fti ength. of our royal navy. No nation can have a navy, whereis not a fund of business to breed and employ seamen, without any expence to the public ; and no trade is so well calculated for training up these useful members of this society, as filheries. The situation of the Hiitifh coasts is the most advantageous for catching full in the world: the Scottiih islands, particularly those to the north well, lie mofl: commodious for carrying on the fishing trade to perfection ; for no country in Europe can pretend to come up to Scotland in the abundance of the iineft filh, with which its various creeks, bays, rivers, lakes, and coast are repleniihed. King Charles I. was so ftnfible of the great advantage to be derived fromfifheries, that he began the experiment, together with a company of merchants : but the civil wars soon occahoned that project to be set aside. King Charles II. made a like attempt ; but his pressing wants made him withdraw what money he had employed that way, whereupon the merchants that joined with him did so too. Since the union, several attempts have been made to retrieve the fifheries, and a corporation settled to that effe Ct, entitled the Royal British Fifhery. In the year 1750, the parliament of Great Britain taking the Hate of the fifheries into consideration, an aft was palled for the encouragement of the white-herring filhery, granting a charter, whereby a corporation is created, to continue twenty one years, by the name of the Society of the Free British Filhery, to be under the direction of a governor, president, viceprefldent, council, who are to continue in office the space of three years, with power to make bye-laws, <bc. and to raise .a capital of 500,000!. by way of subscription. And any number of persons, who, in any part' of Great Britain, ffiall fuhfcribe 10,0001. into the flock of this society, under the name of the -Fiffiing Chamber, and carry on the said fiffiery on their own account of profit and loss, ffiall be entitled to the same bounty allowed to the society. The bounty is 30 s. the tun, to be'paid yearly, for fourteen years, beiides 3 per cent, for the money advanced by each chamber. The ad contains other proper regulations relative to the nets, marks on the herring-barrels, number of hands, and the quantity of fait that is entitled to the bounty, <bc. It is then by the encouragement given by this a Ct, that we now see a laudable emulation prevailing all over the two kingdoms, and fiffiing busses fitted out from almost every port, in order to repair to the Shetland islands, where the herring-fifhery is carried on with an ardor becoming so important a branch of trade. Scotland, which suffered incredibly from the negle Ci of this valuable and natural produceof the Teas,\"has not been backward to join in a scheme that tends so evidently to its own advantage ; for the. cities of Edinburgh and Glasgow, the towns of Montrofe, Dundee, Perth, Inverness, and some other boroughs, have raised the proper sum, and chambers have been erefted in each of them; the gentlemen of estates adjoining to the refpeflive places above-mentioned, liberally contributing with merchants, towards the prosecution of an undertaking so vifibiy tending to ihe good of their country in general. Cffi-FisHERY. There are two kinds of cod-fiffi, the one green or white cod, and the other dried or cured cod;though it is all. the same fiffi differently prepared ; the former being sometimes faked and barrelled, then taken out for use; and the latter, having lain fomc competent time in fait, dried in the sun or smoke. We ffiall therefore speak of each of these apart; and first of £?>i' .' ’«-c-«r/-FisHERY. The chief fifheries for green cod are in *ii“ bay of Canada, on the great bank of Newfoundland, and on the ills of St Peter, and the isle of Sable, to which places vessels resort from divers parts both of Europe and America. They are from 100 to 150 tuns burden, and will catch between thirty and forty thousand cod each. The mofl essential part of the fiffiery is, to have a iqafler who knows how to cutup the cod, one who is Hulled to take off the head properly, and above all a good falter, on which the preserving of them, and consequently the success of the voyage, depends. The hest season is from the beginning of February to the end of April; the fiffi, which in the winter retire to the deepefl water, comiflg then on the banks, and fattening extremely. What is caught from March to June keeps well; but those taken in July, August, and September, when it-is warm, on the banks, are apt to spoil soon. Every fiffier sakes but one at a time : the most expert will take from 3 yo to 400 in a day; but that is the most, the weight of the fiffi and the great coldness on the bank fatiguing very much. As soon as the cod are taken, the head is taken off; they are opened, gutted, and falted ; and the falter flows them in the bottom of the hold, head to tail, in beds a fathom or two square; laying layers of fait and fiffi alternately, but never mixing fiffi caught on different days. When they have lain thus three or four days to drain off the water, they are replaced in another part of the ffiip, and falted again ; where they remain till the vessel is loaded. Sometimes they are cut in thick pieces, and put up in barrels for the Dry-cod Fishery. The principal fiffiery for dry cod is, from Cape Rose to the Bay des Exports, along the* coast of Placentia, in which compass there are divers commodious ports for the fiffi to be dried in. These though of the same kind with the freffi cod, are much smaller, and therefore fitter to keep, as the fait penetrates more easily into them. The fiffiery of both is. much alike; only this latter is mofl expensive, as it takes up more time, and employs more hands, and yet scarce half so much fait is fpcnt in this as in the other. The bait is herrings, of which great quantities are\" taken on the coast of Placentia. When several vessels meet and intend to fiffi in the same port, he whose ffialioop first touches ground, becomes entitled to the quality and privileges of admiral: he has the choice of his flation, and the refusal of all the wood on the coast at his arrival. As fast as the masters arrive, they unrig ail their vessels, leaving nothing but the ffirouds to fuitain the mails, and in the mean time the matesprovide a tent on ffiore, covered with branches ot trees, and sails over them, with a fcaffdd of great trunks of pines, twelve, fifteen, sixteen, and\n",
      "----\n",
      "a county of Scotland, lying westward of Glasgow, and comprehending the countries of Lorn, Cowal, Knapdale, Kintyre, together with the islands Mull, Jura, Ista, &C. It gives the tide of duke to the noble family of Campbell.\n",
      "----\n"
     ]
    }
   ],
   "source": [
    "sparql = SPARQLWrapper(\"http://localhost:3030/edition1st/sparql\")\n",
    "sparql.setQuery(\"\"\"\n",
    "PREFIX eb: <https://w3id.org/eb#>\n",
    "PREFIX rdfs: <http://www.w3.org/2000/01/rdf-schema#>\n",
    "SELECT  ?d\n",
    "    WHERE {\n",
    "    \t?b a eb:Article .\n",
    "    \t?b eb:definition ?d\n",
    "        FILTER (CONTAINS(?d, \"Scotland\")) \n",
    "        FILTER (CONTAINS(?d, \"Glasgow\")) \n",
    "        OPTIONAL{FILTER CONTAINS(?d, \"Mull\") }\n",
    "} LIMIT 10\n",
    "\n",
    "\"\"\")\n",
    "sparql.setReturnFormat(JSON)\n",
    "results = sparql.query().convert()\n",
    "results = sparql.query().convert()\n",
    "for r in results[\"results\"][\"bindings\"]:\n",
    "    print(r[\"d\"][\"value\"])\n",
    "    print(\"----\")"
   ]
  },
  {
   "cell_type": "code",
   "execution_count": null,
   "metadata": {},
   "outputs": [],
   "source": [
    "sparql = SPARQLWrapper(\"http://localhost:3030/edition1st/sparql\")\n",
    "sparql.setQuery(\"\"\"\n",
    "PREFIX eb: <https://w3id.org/eb#>\n",
    "SELECT ?definition ?y WHERE {\n",
    "       ?article a eb:Article ;\n",
    "                eb:name \"PAISLEY\" ;\n",
    "                eb:definition ?definition .\n",
    "       ?e eb:hasPart / eb:hasPart ?article.\n",
    "       ?e eb:publicationYear ?y\n",
    "    }\n",
    "\"\"\")\n",
    "sparql.setReturnFormat(JSON)\n",
    "results = sparql.query().convert()\n",
    "results = sparql.query().convert()\n",
    "for r in results[\"results\"][\"bindings\"]:\n",
    "    print(r[\"definition\"][\"value\"], r[\"y\"][\"value\"])"
   ]
  },
  {
   "cell_type": "code",
   "execution_count": null,
   "metadata": {},
   "outputs": [],
   "source": [
    "sparql = SPARQLWrapper(\"http://localhost:3030/edition1st/sparql\")\n",
    "sparql.setQuery(\"\"\"\n",
    "PREFIX eb: <https://w3id.org/eb#>\n",
    "SELECT ?definition ?y  ?r WHERE {\n",
    "       ?article a eb:Article ;\n",
    "                eb:name \"ABACUS\" ;\n",
    "                eb:definition ?definition ;\n",
    "                OPTIONAL {?article eb:relatedTerms ?r.}\n",
    "       ?e eb:hasPart / eb:hasPart ?article.\n",
    "       ?e eb:publicationYear ?y\n",
    "    }\n",
    "\"\"\")\n",
    "sparql.setReturnFormat(JSON)\n",
    "results = sparql.query().convert()\n",
    "results = sparql.query().convert()\n",
    "for r in results[\"results\"][\"bindings\"]:\n",
    "    print(\"DEF: %s ----|| --- Year: %s \"% (r[\"definition\"][\"value\"], r[\"y\"][\"value\"]))\n",
    "    print(\"---\")"
   ]
  },
  {
   "cell_type": "code",
   "execution_count": null,
   "metadata": {},
   "outputs": [],
   "source": [
    "term=\"ABACUS\"\n",
    "sparql = SPARQLWrapper(\"http://localhost:3030/edition1st/sparql\")\n",
    "sparql.setQuery(\"\"\"\n",
    "PREFIX eb: <https://w3id.org/eb#>\n",
    "SELECT ?definition ?article  ?year WHERE {\n",
    "       ?article a eb:Article .\n",
    "       ?article eb:name \"ABACUS\"  .\n",
    "       ?article eb:definition ?definition .\n",
    "       ?e eb:hasPart / eb:hasPart ?article.\n",
    "       ?e eb:publicationYear ?year\n",
    "\n",
    "    }\n",
    "\"\"\")\n",
    "\n",
    "sparql.setReturnFormat(JSON)\n",
    "results = sparql.query().convert()\n",
    "r=results[\"results\"][\"bindings\"]\n",
    "for i in r:\n",
    "    print(i[\"year\"][\"value\"])"
   ]
  },
  {
   "cell_type": "code",
   "execution_count": null,
   "metadata": {},
   "outputs": [],
   "source": [
    "term=\"ABACUS\"\n",
    "sparql = SPARQLWrapper(\"http://localhost:3030/edition1st/sparql\")\n",
    "query=\"\"\"\n",
    "PREFIX eb: <https://w3id.org/eb#>\n",
    "SELECT ?definition ?article  ?year WHERE {\n",
    "       ?article a eb:Article .\n",
    "       ?article eb:name \"%s\"  .\n",
    "       ?article eb:definition ?definition .\n",
    "       ?e eb:hasPart / eb:hasPart ?article.\n",
    "       ?e eb:publicationYear ?year\n",
    "    }\n",
    "\"\"\" % (term)\n",
    "\n",
    "print(query)\n",
    "sparql.setQuery(query)\n",
    "sparql.setReturnFormat(JSON)\n",
    "results = sparql.query().convert()\n",
    "r=results[\"results\"][\"bindings\"]\n",
    "for i in r:\n",
    "    print(i[\"year\"][\"value\"])"
   ]
  },
  {
   "cell_type": "code",
   "execution_count": null,
   "metadata": {},
   "outputs": [],
   "source": [
    "sparql = SPARQLWrapper(\"http://localhost:3030/edition1st/sparql\")\n",
    "uri=\"<https://w3id.org/eb/i/Edition/992277653804341>\"\n",
    "query=\"\"\"\n",
    "PREFIX eb: <https://w3id.org/eb#>\n",
    "SELECT ?publicationYear ?num ?title ?subtitle ?printedAt ?physicalDescription ?mmsid ?shelfLocator ?numberOfVolumes  WHERE {\n",
    "       %s eb:publicationYear ?publicationYear ;\n",
    "          eb:number ?num;\n",
    "          eb:title ?title;\n",
    "          eb:subtitle ?subtitle ;\n",
    "          eb:printedAt ?printedAt;\n",
    "          eb:physicalDescription ?physicalDescription;\n",
    "          eb:mmsid ?mmsid;\n",
    "          eb:shelfLocator ?shelfLocator;\n",
    "          eb:numberOfVolumes ?numberOfVolumes. \n",
    "          \n",
    "               \n",
    "}\n",
    "\"\"\" % (uri)\n",
    "sparql.setQuery(query)\n",
    "sparql.setReturnFormat(JSON)\n",
    "results = sparql.query().convert()\n",
    "r=results[\"results\"][\"bindings\"]\n",
    "for i in r:\n",
    "    print(i[\"publicationYear\"][\"value\"])"
   ]
  },
  {
   "cell_type": "code",
   "execution_count": 84,
   "metadata": {},
   "outputs": [
    {
     "data": {
      "text/plain": [
       "'3'"
      ]
     },
     "execution_count": 84,
     "metadata": {},
     "output_type": "execute_result"
    }
   ],
   "source": [
    "sparql = SPARQLWrapper(\"http://localhost:3030/edition1st/sparql\")\n",
    "uri=\"<https://w3id.org/eb/i/Edition/992277653804341>\"\n",
    "query=\"\"\"\n",
    "PREFIX eb: <https://w3id.org/eb#>\n",
    "SELECT (COUNT (DISTINCT ?v) as ?count)\n",
    "    WHERE {\n",
    "        %s eb:hasPart ?v.\n",
    "    \t?v ?b ?c\n",
    "}\n",
    "\"\"\" % (uri)\n",
    "sparql.setQuery(query)\n",
    "sparql.setReturnFormat(JSON)\n",
    "results = sparql.query().convert()\n",
    "results[\"results\"][\"bindings\"][0][\"count\"][\"value\"]\n"
   ]
  },
  {
   "cell_type": "code",
   "execution_count": 7,
   "metadata": {},
   "outputs": [
    {
     "name": "stdout",
     "output_type": "stream",
     "text": [
      "\n",
      "PREFIX eb: <https://w3id.org/eb#>\n",
      "SELECT * WHERE {\n",
      "       ?e a eb:Edition .\n",
      "    }\n",
      "\n"
     ]
    },
    {
     "data": {
      "text/plain": [
       "{'head': {'vars': ['e']},\n",
       " 'results': {'bindings': [{'e': {'type': 'uri',\n",
       "     'value': 'https://w3id.org/eb/i/Edition/992277653804341'}},\n",
       "   {'e': {'type': 'uri',\n",
       "     'value': 'https://w3id.org/eb/i/Edition/9929192893804340'}}]}}"
      ]
     },
     "execution_count": 7,
     "metadata": {},
     "output_type": "execute_result"
    }
   ],
   "source": [
    "sparql = SPARQLWrapper(\"http://localhost:3030/edition1st/sparql\")\n",
    "query=\"\"\"\n",
    "PREFIX eb: <https://w3id.org/eb#>\n",
    "SELECT * WHERE {\n",
    "       ?e a eb:Edition .\n",
    "    }\n",
    "\"\"\" \n",
    "\n",
    "print(query)\n",
    "sparql.setQuery(query)\n",
    "sparql.setReturnFormat(JSON)\n",
    "results = sparql.query().convert()\n",
    "results"
   ]
  },
  {
   "cell_type": "code",
   "execution_count": 8,
   "metadata": {},
   "outputs": [
    {
     "data": {
      "text/plain": [
       "{'head': {'vars': ['e']},\n",
       " 'results': {'bindings': [{'e': {'type': 'uri',\n",
       "     'value': 'https://w3id.org/eb/i/Edition/992277653804341'}},\n",
       "   {'e': {'type': 'uri',\n",
       "     'value': 'https://w3id.org/eb/i/Edition/9929192893804340'}}]}}"
      ]
     },
     "execution_count": 8,
     "metadata": {},
     "output_type": "execute_result"
    }
   ],
   "source": [
    "results"
   ]
  },
  {
   "cell_type": "code",
   "execution_count": 4,
   "metadata": {},
   "outputs": [
    {
     "name": "stdout",
     "output_type": "stream",
     "text": [
      "1 https://w3id.org/eb/i/Edition/992277653804341 1771\n",
      "1 https://w3id.org/eb/i/Edition/9929192893804340 1773\n"
     ]
    }
   ],
   "source": [
    "sparql = SPARQLWrapper(\"http://localhost:3030/edition1st/sparql\")\n",
    "sparql.setQuery(\"\"\"\n",
    "PREFIX eb: <https://w3id.org/eb#>\n",
    "SELECT ?enum ?e ?y WHERE {\n",
    "       ?e a eb:Edition ;\n",
    "            eb:number ?enum ;\n",
    "            eb:publicationYear ?y.\n",
    "               \n",
    "    }\n",
    "\"\"\")\n",
    "sparql.setReturnFormat(JSON)\n",
    "results = sparql.query().convert()\n",
    "r=results[\"results\"][\"bindings\"]\n",
    "for i in r:\n",
    "    print(i[\"enum\"][\"value\"], i[\"e\"][\"value\"], i[\"y\"][\"value\"])"
   ]
  },
  {
   "cell_type": "code",
   "execution_count": 16,
   "metadata": {},
   "outputs": [
    {
     "name": "stdout",
     "output_type": "stream",
     "text": [
      "https://w3id.org/eb/i/Volume/992277653804341_144133902 2 C-L\n",
      "https://w3id.org/eb/i/Volume/992277653804341_144133903 3 M-Z\n",
      "https://w3id.org/eb/i/Volume/992277653804341_144133901 1 A-B\n"
     ]
    }
   ],
   "source": [
    "sparql = SPARQLWrapper(\"http://localhost:3030/edition1st/sparql\")\n",
    "uri=\"<https://w3id.org/eb/i/Edition/992277653804341>\"\n",
    "query=\"\"\"\n",
    "PREFIX eb: <https://w3id.org/eb#>\n",
    "SELECT ?v ?vnum ?part ?letters WHERE {\n",
    "       %s eb:hasPart ?v .\n",
    "       ?v eb:number ?vnum ; \n",
    "          eb:letters ?letters .\n",
    "          OPTIONAL {?v eb:part ?part; }\n",
    "     \n",
    "               \n",
    "} \n",
    "\"\"\" % (uri)\n",
    "sparql.setQuery(query)\n",
    "sparql.setReturnFormat(JSON)\n",
    "results = sparql.query().convert()\n",
    "r=results[\"results\"][\"bindings\"]\n",
    "for i in r:\n",
    "    if \"part\" in i:\n",
    "        print(i[\"v\"][\"value\"], i[\"vnum\"][\"value\"],i[\"letters\"][\"value\"], i[\"part\"][\"value\"])\n",
    "    else:\n",
    "        print(i[\"v\"][\"value\"], i[\"vnum\"][\"value\"], i[\"letters\"][\"value\"])"
   ]
  },
  {
   "cell_type": "code",
   "execution_count": 25,
   "metadata": {},
   "outputs": [
    {
     "name": "stdout",
     "output_type": "stream",
     "text": [
      "{'num': {'type': 'literal', 'datatype': 'http://www.w3.org/2001/XMLSchema#integer', 'value': '1'}, 'title': {'type': 'literal', 'value': 'Encyclopaedia Britannica; or, A dictionary of arts and sciences, compiled upon a new plan'}, 'metsXML': {'type': 'literal', 'value': '144133901-mets.xml'}, 'volumeId': {'type': 'literal', 'datatype': 'http://www.w3.org/2001/XMLSchema#int', 'value': '144133901'}, 'permanentURL': {'type': 'literal', 'value': 'https://digital.nls.uk/144133901'}, 'numberOfPages': {'type': 'literal', 'value': '832'}, 'letters': {'type': 'literal', 'value': 'A-B'}}\n"
     ]
    }
   ],
   "source": [
    "sparql = SPARQLWrapper(\"http://localhost:3030/edition1st/sparql\")\n",
    "uri=\"<https://w3id.org/eb/i/Volume/992277653804341_144133901>\"\n",
    "query=\"\"\"\n",
    "PREFIX eb: <https://w3id.org/eb#>\n",
    "SELECT ?num ?title ?part ?metsXML ?volumeId ?permanentURL ?numberOfPages ?letters WHERE {\n",
    "       %s eb:number ?num ;\n",
    "          eb:title ?title;\n",
    "          eb:metsXML ?metsXML;\n",
    "          eb:volumeId ?volumeId;\n",
    "          eb:permanentURL ?permanentURL;\n",
    "          eb:numberOfPages ?numberOfPages;\n",
    "          eb:letters ?letters.\n",
    "       OPTIONAL {%s eb:part ?part. }\n",
    "      \n",
    "               \n",
    "}\n",
    "\"\"\" % (uri, uri)\n",
    "sparql.setQuery(query)\n",
    "sparql.setReturnFormat(JSON)\n",
    "results = sparql.query().convert()\n",
    "r=results[\"results\"][\"bindings\"]\n",
    "for i in r:\n",
    "    print(i)"
   ]
  },
  {
   "cell_type": "code",
   "execution_count": 100,
   "metadata": {},
   "outputs": [
    {
     "data": {
      "text/plain": [
       "'2707'"
      ]
     },
     "execution_count": 100,
     "metadata": {},
     "output_type": "execute_result"
    }
   ],
   "source": [
    "sparql = SPARQLWrapper(\"http://localhost:3030/edition1st/sparql\")\n",
    "uri=\"<https://w3id.org/eb/i/Volume/992277653804341_144133901>\"\n",
    "query=\"\"\"\n",
    "PREFIX eb: <https://w3id.org/eb#>\n",
    "SELECT (COUNT (?t) as ?count)\n",
    "    WHERE {\n",
    "        %s eb:hasPart ?t .\n",
    "        ?t ?b ?c \n",
    "        \n",
    "} \n",
    "\"\"\" % (uri)\n",
    "      \n",
    "            \n",
    "sparql.setQuery(query)\n",
    "sparql.setReturnFormat(JSON)\n",
    "results = sparql.query().convert()\n",
    "results[\"results\"][\"bindings\"][0][\"count\"][\"value\"]\n"
   ]
  },
  {
   "cell_type": "code",
   "execution_count": 102,
   "metadata": {},
   "outputs": [
    {
     "data": {
      "text/plain": [
       "{'head': {'vars': ['count']},\n",
       " 'results': {'bindings': [{'count': {'type': 'literal',\n",
       "     'datatype': 'http://www.w3.org/2001/XMLSchema#integer',\n",
       "     'value': '2505'}}]}}"
      ]
     },
     "execution_count": 102,
     "metadata": {},
     "output_type": "execute_result"
    }
   ],
   "source": [
    "sparql = SPARQLWrapper(\"http://localhost:3030/edition1st/sparql\")\n",
    "uri=\"<https://w3id.org/eb/i/Volume/992277653804341_144133901>\"\n",
    "query=\"\"\"\n",
    "PREFIX eb: <https://w3id.org/eb#>\n",
    "SELECT (COUNT (DISTINCT ?t) as ?count)\n",
    "    WHERE {\n",
    "        %s eb:hasPart ?t .\n",
    "        ?t a eb:Article\n",
    "        \n",
    "} \n",
    "\"\"\" % (uri)\n",
    "      \n",
    "            \n",
    "sparql.setQuery(query)\n",
    "sparql.setReturnFormat(JSON)\n",
    "results = sparql.query().convert()\n",
    "results"
   ]
  },
  {
   "cell_type": "code",
   "execution_count": 111,
   "metadata": {},
   "outputs": [
    {
     "data": {
      "text/plain": [
       "'2440'"
      ]
     },
     "execution_count": 111,
     "metadata": {},
     "output_type": "execute_result"
    }
   ],
   "source": [
    "sparql = SPARQLWrapper(\"http://localhost:3030/edition1st/sparql\")\n",
    "uri=\"<https://w3id.org/eb/i/Volume/992277653804341_144133901>\"\n",
    "query=\"\"\"\n",
    "       PREFIX eb: <https://w3id.org/eb#>\n",
    "       PREFIX rdfs: <http://www.w3.org/2000/01/rdf-schema#>\n",
    "       SELECT (count (DISTINCT ?a) as ?count)\n",
    "       WHERE {\n",
    "            %s eb:hasPart ?b .\n",
    "            ?b a eb:Article .\n",
    "            ?b eb:name ?a.\n",
    "      }\n",
    "\n",
    "\n",
    "\"\"\" % (uri)\n",
    "            \n",
    "sparql.setQuery(query)\n",
    "sparql.setReturnFormat(JSON)\n",
    "results = sparql.query().convert()\n",
    "results = sparql.query().convert()\n",
    "results[\"results\"][\"bindings\"][0][\"count\"][\"value\"]"
   ]
  },
  {
   "cell_type": "code",
   "execution_count": 81,
   "metadata": {},
   "outputs": [
    {
     "name": "stdout",
     "output_type": "stream",
     "text": [
      "{'subject': 'https://w3id.org/eb/i/Article/992277653804341_144133903_ROSA_0', 'predicate': 'http://www.w3.org/1999/02/22-rdf-syntax-ns#type', 'object': 'https://w3id.org/eb#Article'}\n",
      "{'subject': 'https://w3id.org/eb/i/Article/992277653804341_144133903_ROSA_0', 'predicate': 'https://w3id.org/eb#definition', 'object': 'in botany, a genus of the icofandria polygamia clals. The petals are five ; the calix has five flelhy fegments; and the feeds are numerous, rough, and inferred into the interior side of the calix-. There are 14 species, five of them natives of Britain, viz. the eglanteria, orfweet briar; the fpinofiffima, or burner rose ; the arvenfis, or whiteflowered , dogs-rose; the villofa, or apple-rose ; and the canina, or red-flowered dogs-rose, or hip-tree.'}\n",
      "{'subject': 'https://w3id.org/eb/i/Article/992277653804341_144133903_ROSA_0', 'predicate': 'https://w3id.org/eb#name', 'object': 'ROSA'}\n",
      "{'subject': 'https://w3id.org/eb/i/Article/992277653804341_144133903_ROSA_0', 'predicate': 'https://w3id.org/eb#numberOfWords', 'object': '75'}\n",
      "{'subject': 'https://w3id.org/eb/i/Article/992277653804341_144133903_ROSA_0', 'predicate': 'https://w3id.org/eb#position', 'object': '19'}\n",
      "{'subject': 'https://w3id.org/eb/i/Article/992277653804341_144133903_ROSA_0', 'predicate': 'https://w3id.org/eb#startsAtPage', 'object': 'https://w3id.org/eb/i/Page/992277653804341_144133903_642'}\n"
     ]
    }
   ],
   "source": [
    "clear_r=[]\n",
    "for s,p,o in results.triples((None, None, None)):\n",
    "    data={}\n",
    "    data[\"subject\"]=str(s)\n",
    "    data[\"predicate\"]=str(p)\n",
    "    data[\"object\"]=str(o)\n",
    "    clear_r.append(data)\n",
    "    \n",
    "for i in clear_r:\n",
    "    if \"startsAtPage\" in i[\"predicate\"]:\n",
    "        startsAtPage= i[\"object\"]\n",
    "    if \"endsAtPage\" in i[\"predicate\"]:\n",
    "        endsAtPage= i[\"object\"]\n",
    "\n",
    "if startsAtPage == endsAtPage:\n",
    "    for i in clear_r:\n",
    "        if \"endsAtPage\" in i[\"predicate\"]:\n",
    "            clear_r.remove(i)\n",
    "        \n",
    "for i in clear_r:\n",
    "    print(i)\n",
    "   "
   ]
  },
  {
   "cell_type": "code",
   "execution_count": 56,
   "metadata": {},
   "outputs": [
    {
     "data": {
      "text/plain": [
       "'<https://w3id.org/eb/i/Edition/992277653804341>'"
      ]
     },
     "execution_count": 56,
     "metadata": {},
     "output_type": "execute_result"
    }
   ],
   "source": [
    "for s,p,o in results.triples((None, None, None)):\n",
    "    a=s\n",
    "    \n",
    "a.n3()"
   ]
  },
  {
   "cell_type": "code",
   "execution_count": 53,
   "metadata": {},
   "outputs": [
    {
     "data": {
      "text/plain": [
       "<bound method ConjunctiveGraph.triples of <Graph identifier=Nf4bcb9045c244d0fb3903f5f315c191f (<class 'rdflib.graph.ConjunctiveGraph'>)>>"
      ]
     },
     "execution_count": 53,
     "metadata": {},
     "output_type": "execute_result"
    }
   ],
   "source": [
    "results.triples"
   ]
  },
  {
   "cell_type": "code",
   "execution_count": 8,
   "metadata": {
    "scrolled": true
   },
   "outputs": [
    {
     "name": "stdout",
     "output_type": "stream",
     "text": [
      "https://w3id.org/eb/i/Topic/992277653804341_144133901_ALGEBRA_1\n",
      "https://w3id.org/eb/i/Topic/9929192893804340_144850367_GHMMAR_0\n",
      "https://w3id.org/eb/i/Topic/9929192893804340_144850368_RELIGIONTHEOLOGY_0\n",
      "https://w3id.org/eb/i/Topic/9929192893804340_144850366_BREWING_1\n",
      "https://w3id.org/eb/i/Topic/9929192893804340_144850367_LATV_0\n",
      "https://w3id.org/eb/i/Topic/992277653804341_144133902_TACIV_0\n",
      "https://w3id.org/eb/i/Topic/9929192893804340_144850367_DEB_0\n",
      "https://w3id.org/eb/i/Topic/9929192893804340_144850367_L_0\n",
      "https://w3id.org/eb/i/Topic/992277653804341_144133903_MECHANICS_0\n",
      "https://w3id.org/eb/i/Topic/992277653804341_144133903_PNEUMATICS_0\n"
     ]
    }
   ],
   "source": [
    "sparql = SPARQLWrapper(\"http://localhost:3030/edition1st/sparql\")\n",
    "sparql.setQuery(\"\"\"\n",
    "PREFIX eb: <https://w3id.org/eb#>\n",
    "SELECT ?topic ?y WHERE {\n",
    "       ?topic a eb:Topic ;\n",
    "    }\n",
    "LIMIT 10\n",
    "\"\"\")\n",
    "sparql.setReturnFormat(JSON)\n",
    "results = sparql.query().convert()\n",
    "results = sparql.query().convert()\n",
    "for r in results[\"results\"][\"bindings\"]:\n",
    "    print(r[\"topic\"][\"value\"])"
   ]
  },
  {
   "cell_type": "code",
   "execution_count": 28,
   "metadata": {},
   "outputs": [
    {
     "data": {
      "text/plain": [
       "'2 C-L'"
      ]
     },
     "execution_count": 28,
     "metadata": {},
     "output_type": "execute_result"
    }
   ],
   "source": [
    "sparql = SPARQLWrapper(\"http://localhost:3030/edition1st/sparql\")\n",
    "uri=\"<https://w3id.org/eb/i/Volume/992277653804341_144133902>\"\n",
    "query=\"\"\"\n",
    "    PREFIX eb: <https://w3id.org/eb#>\n",
    "    SELECT ?vnum ?letters ?part WHERE {\n",
    "       %s eb:number ?vnum ;\n",
    "          eb:letters ?letters .\n",
    "           OPTIONAL {%s eb:part ?part; }\n",
    "       \n",
    "    \n",
    "    } \"\"\" % (uri, uri)\n",
    "sparql.setQuery(query)         \n",
    "sparql.setReturnFormat(JSON)\n",
    "results = sparql.query().convert()\n",
    "i=results[\"results\"][\"bindings\"][0]\n",
    "\n",
    "\n",
    "if \"part\" in i:\n",
    "    data= i[\"vnum\"][\"value\"]+ \" \"+ i[\"letters\"][\"value\"]+ \"Part \"+ i[\"part\"][\"value\"]\n",
    "else:\n",
    "    data= i[\"vnum\"][\"value\"]+ \" \"+ i[\"letters\"][\"value\"]\n",
    "\n",
    "data"
   ]
  },
  {
   "cell_type": "code",
   "execution_count": 30,
   "metadata": {},
   "outputs": [
    {
     "data": {
      "text/plain": [
       "<Graph identifier=Naaf3cb1775434b5ab8e801dd71cf3b88 (<class 'rdflib.graph.ConjunctiveGraph'>)>"
      ]
     },
     "execution_count": 30,
     "metadata": {},
     "output_type": "execute_result"
    }
   ],
   "source": [
    "sparql = SPARQLWrapper(\"http://localhost:3030/edition1st/sparql\")\n",
    "sparql.setQuery(\"\"\"\n",
    "    DESCRIBE <https://w3id.org/eb/i/Volume/992277653804341_144133902>\n",
    "\"\"\")\n",
    "\n",
    "sparql.setReturnFormat(JSON)\n",
    "results = sparql.query().convert()\n",
    "results"
   ]
  },
  {
   "cell_type": "code",
   "execution_count": null,
   "metadata": {},
   "outputs": [],
   "source": []
  }
 ],
 "metadata": {
  "kernelspec": {
   "display_name": "mpython3",
   "language": "python",
   "name": "mypthon3"
  },
  "language_info": {
   "codemirror_mode": {
    "name": "ipython",
    "version": 3
   },
   "file_extension": ".py",
   "mimetype": "text/x-python",
   "name": "python",
   "nbconvert_exporter": "python",
   "pygments_lexer": "ipython3",
   "version": "3.7.2"
  }
 },
 "nbformat": 4,
 "nbformat_minor": 2
}
