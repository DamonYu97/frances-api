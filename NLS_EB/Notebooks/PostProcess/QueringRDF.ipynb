{
 "cells": [
  {
   "cell_type": "markdown",
   "metadata": {},
   "source": [
    "# SPARQL Queries - Encyclopaedia Britannica - EB-KG\n",
    "\n",
    "This notebook enables to perform several SPARQL queries to the EB-KG Knowlege Graph (total_eb.ttl) \n",
    "It includes two types RDF queries:\n",
    "\n",
    "- 1. Loading the KG locally: It uses rdflib.plugins.sparql\n",
    "- 2. Quering the KG from an Apache Fuseki Server: It uses SPARQLWrapper  \n",
    "\n",
    "\n",
    "The EB-KG implements the [EB-Ontology](https://francesnlp.github.io/EB-ontology/doc/index-en.html), which has the following [Data Model](https://francesnlp.github.io/EB-ontology/doc/dataModel.png)\n",
    "\n",
    "The EB-KG (total_eb.ttl) can be download from [Zenodo](https://zenodo.org/record/6673897#.YrHZ85BBx_A)\n",
    "\n"
   ]
  },
  {
   "cell_type": "markdown",
   "metadata": {},
   "source": [
    "### Loading the necessary libraries"
   ]
  },
  {
   "cell_type": "code",
   "execution_count": 2,
   "metadata": {},
   "outputs": [],
   "source": [
    "import rdflib\n",
    "from rdflib.extras.external_graph_libs import rdflib_to_networkx_multidigraph\n",
    "import networkx as nx\n",
    "import matplotlib.pyplot as pl\n",
    "from rdflib import Graph, ConjunctiveGraph, Namespace, Literal\n",
    "from rdflib.plugins.sparql import prepareQuery"
   ]
  },
  {
   "cell_type": "code",
   "execution_count": 3,
   "metadata": {},
   "outputs": [],
   "source": [
    "import networkx as nx\n",
    "import matplotlib.pyplot as plt\n",
    "from SPARQLWrapper import SPARQLWrapper, JSON"
   ]
  },
  {
   "cell_type": "code",
   "execution_count": 4,
   "metadata": {},
   "outputs": [],
   "source": [
    "import matplotlib.pyplot as plt\n",
    "plt.rcParams['figure.figsize'] = [15, 10]"
   ]
  },
  {
   "cell_type": "markdown",
   "metadata": {},
   "source": [
    "### Functions"
   ]
  },
  {
   "cell_type": "code",
   "execution_count": 5,
   "metadata": {},
   "outputs": [],
   "source": [
    "def plot_resource(results):\n",
    "\n",
    "    G = rdflib_to_networkx_multidigraph(results)\n",
    "    pos = nx.spring_layout(G, scale=3)\n",
    "    edge_labels = nx.get_edge_attributes(G, 'r')\n",
    "    nx.draw_networkx_edge_labels(G, pos, edge_labels=edge_labels)\n",
    "    nx.draw(G, with_labels=True)\n",
    "    plt.show()"
   ]
  },
  {
   "cell_type": "markdown",
   "metadata": {},
   "source": [
    "### Type 1: Loading the graph locally"
   ]
  },
  {
   "cell_type": "code",
   "execution_count": 6,
   "metadata": {},
   "outputs": [
    {
     "data": {
      "text/plain": [
       "<Graph identifier=Nb6ceaefd4cf241f695e0bfb56003c40d (<class 'rdflib.graph.Graph'>)>"
      ]
     },
     "execution_count": 6,
     "metadata": {},
     "output_type": "execute_result"
    }
   ],
   "source": [
    "g = Graph()\n",
    "#modify the path where you have stored the EB-KG (total_eb.ttl)\n",
    "g.parse(\"../../results_NLS/total_eb.ttl\", format=\"ttl\") "
   ]
  },
  {
   "cell_type": "markdown",
   "metadata": {},
   "source": [
    "List all the resources with the property eb:editor"
   ]
  },
  {
   "cell_type": "code",
   "execution_count": 7,
   "metadata": {},
   "outputs": [
    {
     "name": "stdout",
     "output_type": "stream",
     "text": [
      "https://w3id.org/eb/i/Edition/9910796233804340\n",
      "https://w3id.org/eb/i/Edition/9910796273804340\n",
      "https://w3id.org/eb/i/Edition/9929777383804340\n",
      "https://w3id.org/eb/i/Edition/9910796343804340\n",
      "https://w3id.org/eb/i/Edition/9929192893804340\n",
      "https://w3id.org/eb/i/Edition/992277653804341\n"
     ]
    }
   ],
   "source": [
    "eb = Namespace(\"https://w3id.org/eb#\")\n",
    "\n",
    "q1 = prepareQuery('''\n",
    "  SELECT ?Edition WHERE { \n",
    "    ?Edition eb:editor ?FullName. \n",
    "  }\n",
    "  ''',\n",
    "  initNs = { \"eb\": eb}\n",
    ")\n",
    "\n",
    "\n",
    "for r in g.query(q1):\n",
    "      print(r.Edition)"
   ]
  },
  {
   "cell_type": "markdown",
   "metadata": {},
   "source": [
    "Same query but asking more information about the resources obtained. "
   ]
  },
  {
   "cell_type": "code",
   "execution_count": 8,
   "metadata": {},
   "outputs": [
    {
     "name": "stdout",
     "output_type": "stream",
     "text": [
      "https://w3id.org/eb/i/Edition/9910796233804340 https://w3id.org/eb/i/Person/Millar,James\n",
      "https://w3id.org/eb/i/Edition/9910796273804340 https://w3id.org/eb/i/Person/Stewart,Dugald\n",
      "https://w3id.org/eb/i/Edition/9929777383804340 https://w3id.org/eb/i/Person/Stewart,Dugald\n",
      "https://w3id.org/eb/i/Edition/9910796343804340 https://w3id.org/eb/i/Person/Gleig,George\n",
      "https://w3id.org/eb/i/Edition/9929192893804340 https://w3id.org/eb/i/Person/Smellie,William\n",
      "https://w3id.org/eb/i/Edition/992277653804341 https://w3id.org/eb/i/Person/Smellie,William\n"
     ]
    }
   ],
   "source": [
    "q2 = prepareQuery('''\n",
    "  SELECT ?Subject ?Editor WHERE { \n",
    "    ?Subject eb:editor ?Editor.\n",
    "  } \n",
    "  ''',\n",
    "  initNs = { \"eb\": eb}\n",
    ")\n",
    "\n",
    "for r in g.query(q2):\n",
    "  print(r.Subject, r.Editor)"
   ]
  },
  {
   "cell_type": "code",
   "execution_count": 9,
   "metadata": {},
   "outputs": [
    {
     "name": "stdout",
     "output_type": "stream",
     "text": [
      "Gleig, George\n",
      "Millar, James\n",
      "Smellie, William\n",
      "Stewart, Dugald\n"
     ]
    }
   ],
   "source": [
    "q2a = prepareQuery('''\n",
    "SELECT DISTINCT ?name\n",
    "    WHERE {\n",
    "     ?instance eb:editor ?Editor.\n",
    "     ?Editor eb:name ?name .\n",
    "    }\n",
    "    ''',\n",
    "  initNs = { \"eb\": eb}\n",
    ")\n",
    "\n",
    "for r in g.query(q2a):\n",
    "      print(r.name)"
   ]
  },
  {
   "cell_type": "code",
   "execution_count": 10,
   "metadata": {},
   "outputs": [
    {
     "data": {
      "text/plain": [
       "rdflib.term.Literal('Gleig, George', datatype=rdflib.term.URIRef('http://www.w3.org/2001/XMLSchema#string'))"
      ]
     },
     "execution_count": 10,
     "metadata": {},
     "output_type": "execute_result"
    }
   ],
   "source": [
    "res=g.query(q2a)\n",
    "a=list(res)[0]\n",
    "a.name"
   ]
  },
  {
   "cell_type": "markdown",
   "metadata": {},
   "source": [
    "Same query asking for the first 10 resources with the properity eb.name"
   ]
  },
  {
   "cell_type": "code",
   "execution_count": 11,
   "metadata": {},
   "outputs": [
    {
     "name": "stdout",
     "output_type": "stream",
     "text": [
      "https://w3id.org/eb/i/Person/C.Elliot C. Elliot\n",
      "https://w3id.org/eb/i/Person/ColinMacfarquhar Colin Macfarquhar\n",
      "https://w3id.org/eb/i/Person/Gleig,George Gleig, George\n",
      "https://w3id.org/eb/i/Person/J.Bell J. Bell\n",
      "https://w3id.org/eb/i/Person/J.Brown J. Brown\n",
      "https://w3id.org/eb/i/Person/J.Dickson J. Dickson\n",
      "https://w3id.org/eb/i/Person/JohnDonaldson John Donaldson\n",
      "https://w3id.org/eb/i/Person/Millar,James Millar, James\n",
      "https://w3id.org/eb/i/Person/W.Gordon W. Gordon\n",
      "https://w3id.org/eb/i/Article/9910796233804340_191253819_AGRIFOLIUM_0 AGRIFOLIUM\n"
     ]
    }
   ],
   "source": [
    "q2 = prepareQuery('''\n",
    "  SELECT ?Subject ?Name WHERE { \n",
    "    ?Subject eb:name ?Name.\n",
    "  } \n",
    "  LIMIT 10\n",
    "  ''',\n",
    "  initNs = { \"eb\": eb}\n",
    ")\n",
    "\n",
    "for r in g.query(q2):\n",
    "    print(r.Subject, r.Name)"
   ]
  },
  {
   "cell_type": "code",
   "execution_count": 12,
   "metadata": {},
   "outputs": [],
   "source": [
    "from rdflib import XSD\n",
    "q2 = prepareQuery('''\n",
    "SELECT DISTINCT ?name\n",
    "WHERE {\n",
    " ?instance eb:editor ?editor;\n",
    "           eb:place ?place;\n",
    "           eb:title ?name.\n",
    "  \n",
    "}\n",
    "LIMIT 10\n",
    "  ''',\n",
    "  initNs = { \"eb\": eb}\n",
    ")\n",
    "\n",
    "for r in g.query(q2, initBindings = {'?place' : Literal('London', datatype=XSD.string)}):\n",
    "    print(r.name)"
   ]
  },
  {
   "cell_type": "markdown",
   "metadata": {},
   "source": [
    "Asking for resources which name is \"Smellie, Willian\""
   ]
  },
  {
   "cell_type": "code",
   "execution_count": 13,
   "metadata": {},
   "outputs": [
    {
     "name": "stdout",
     "output_type": "stream",
     "text": [
      "https://w3id.org/eb/i/Person/Smellie,William\n"
     ]
    }
   ],
   "source": [
    "from rdflib import XSD\n",
    "q3 = prepareQuery('''\n",
    "  SELECT ?Subject WHERE { \n",
    "    ?Subject eb:name ?Family.\n",
    "  } \n",
    "  ''',\n",
    "    initNs = { \"eb\": eb}\n",
    ")\n",
    "\n",
    "for r in g.query(q3, initBindings = {'?Family' : Literal('Smellie, William', datatype=XSD.string)}):\n",
    "  print(r.Subject)"
   ]
  },
  {
   "cell_type": "markdown",
   "metadata": {},
   "source": [
    "Asking for resources with name is ABACUS"
   ]
  },
  {
   "cell_type": "code",
   "execution_count": 14,
   "metadata": {},
   "outputs": [
    {
     "name": "stdout",
     "output_type": "stream",
     "text": [
      "https://w3id.org/eb/i/Article/9929777383804340_193322698_ABACUS_0\n",
      "https://w3id.org/eb/i/Article/9929777383804340_193322698_ABACUS_1\n",
      "https://w3id.org/eb/i/Article/997902543804341_190273291_ABACUS_0\n",
      "https://w3id.org/eb/i/Article/997902543804341_190273291_ABACUS_1\n",
      "https://w3id.org/eb/i/Article/997902543804341_190273291_ABACUS_2\n",
      "https://w3id.org/eb/i/Article/9910796253804340_192547781_ABACUS_0\n",
      "https://w3id.org/eb/i/Article/9910796253804340_192547781_ABACUS_1\n",
      "https://w3id.org/eb/i/Article/9910796253804340_192547781_ABACUS_2\n",
      "https://w3id.org/eb/i/Article/992277653804341_144133901_ABACUS_0\n",
      "https://w3id.org/eb/i/Article/992277653804341_144133901_ABACUS_2\n",
      "https://w3id.org/eb/i/Article/992277653804341_144133901_ABACUS_3\n",
      "https://w3id.org/eb/i/Article/9929192893804340_144850366_ABACUS_0\n",
      "https://w3id.org/eb/i/Article/9929192893804340_144850366_ABACUS_2\n",
      "https://w3id.org/eb/i/Article/9929192893804340_144850366_ABACUS_3\n",
      "https://w3id.org/eb/i/Article/997902523804341_144850370_ABACUS_0\n",
      "https://w3id.org/eb/i/Article/997902523804341_144850370_ABACUS_1\n",
      "https://w3id.org/eb/i/Topic/9929777383804340_193322698_ABACUS_2\n",
      "https://w3id.org/eb/i/Article/9910796253804340_192547781_ABACUS_3\n",
      "https://w3id.org/eb/i/Article/9910796273804340_192547789_ABACUS_0\n",
      "https://w3id.org/eb/i/Article/9910796273804340_192984259_ABACUS_0\n",
      "https://w3id.org/eb/i/Article/992277653804341_144133901_ABACUS_1\n",
      "https://w3id.org/eb/i/Article/9929192893804340_144850366_ABACUS_1\n",
      "https://w3id.org/eb/i/Article/9910796273804340_192984259_ABACUS_1\n",
      "https://w3id.org/eb/i/Article/9910796273804340_192984259_ABACUS_3\n",
      "https://w3id.org/eb/i/Article/9922270543804340_192016229_ABACUS_0\n",
      "https://w3id.org/eb/i/Article/9922270543804340_192016229_ABACUS_1\n",
      "https://w3id.org/eb/i/Topic/9910796273804340_192984259_ABACUS_2\n"
     ]
    }
   ],
   "source": [
    "from rdflib import XSD\n",
    "q3 = prepareQuery('''\n",
    "  SELECT ?Subject WHERE { \n",
    "    ?Subject eb:name ?Term.\n",
    "  } \n",
    "  ''',\n",
    "    initNs = { \"eb\": eb}\n",
    ")\n",
    "\n",
    "for r in g.query(q3, initBindings = {'?Term' : Literal('ABACUS', datatype=XSD.string)}):\n",
    "  print(r.Subject)"
   ]
  },
  {
   "cell_type": "code",
   "execution_count": 15,
   "metadata": {},
   "outputs": [
    {
     "name": "stdout",
     "output_type": "stream",
     "text": [
      "https://w3id.org/eb/i/Article/9929777383804340_193322698_ABACUS_0 ABACUS\n",
      "https://w3id.org/eb/i/Article/9929777383804340_193322698_ABACUS_1 ABACUS\n",
      "https://w3id.org/eb/i/Article/997902543804341_190273291_ABACUS_0 ABACUS\n",
      "https://w3id.org/eb/i/Article/997902543804341_190273291_ABACUS_1 ABACUS\n",
      "https://w3id.org/eb/i/Article/997902543804341_190273291_ABACUS_2 ABACUS\n",
      "https://w3id.org/eb/i/Article/9910796253804340_192547781_ABACUS_0 ABACUS\n",
      "https://w3id.org/eb/i/Article/9910796253804340_192547781_ABACUS_1 ABACUS\n",
      "https://w3id.org/eb/i/Article/9910796253804340_192547781_ABACUS_2 ABACUS\n",
      "https://w3id.org/eb/i/Article/992277653804341_144133901_ABACUS_0 ABACUS\n",
      "https://w3id.org/eb/i/Article/992277653804341_144133901_ABACUS_2 ABACUS\n",
      "https://w3id.org/eb/i/Article/992277653804341_144133901_ABACUS_3 ABACUS\n",
      "https://w3id.org/eb/i/Article/9929192893804340_144850366_ABACUS_0 ABACUS\n",
      "https://w3id.org/eb/i/Article/9929192893804340_144850366_ABACUS_2 ABACUS\n",
      "https://w3id.org/eb/i/Article/9929192893804340_144850366_ABACUS_3 ABACUS\n",
      "https://w3id.org/eb/i/Article/997902523804341_144850370_ABACUS_0 ABACUS\n",
      "https://w3id.org/eb/i/Article/997902523804341_144850370_ABACUS_1 ABACUS\n",
      "https://w3id.org/eb/i/Topic/9929777383804340_193322698_ABACUS_2 ABACUS\n",
      "https://w3id.org/eb/i/Article/9910796253804340_192547781_ABACUS_3 ABACUS\n",
      "https://w3id.org/eb/i/Article/9910796273804340_192547789_ABACUS_0 ABACUS\n",
      "https://w3id.org/eb/i/Article/9910796273804340_192984259_ABACUS_0 ABACUS\n",
      "https://w3id.org/eb/i/Article/992277653804341_144133901_ABACUS_1 ABACUS\n",
      "https://w3id.org/eb/i/Article/9929192893804340_144850366_ABACUS_1 ABACUS\n",
      "https://w3id.org/eb/i/Article/9910796273804340_192984259_ABACUS_1 ABACUS\n",
      "https://w3id.org/eb/i/Article/9910796273804340_192984259_ABACUS_3 ABACUS\n",
      "https://w3id.org/eb/i/Article/9922270543804340_192016229_ABACUS_0 ABACUS\n",
      "https://w3id.org/eb/i/Article/9922270543804340_192016229_ABACUS_1 ABACUS\n",
      "https://w3id.org/eb/i/Topic/9910796273804340_192984259_ABACUS_2 ABACUS\n"
     ]
    }
   ],
   "source": [
    "from rdflib import XSD\n",
    "q4 = prepareQuery('''\n",
    "  SELECT ?Subject ?Term WHERE { \n",
    "    ?Subject eb:name ?Term.\n",
    "  } \n",
    "  ''',\n",
    "    initNs = { \"eb\": eb}\n",
    ")\n",
    "\n",
    "for r in g.query(q4, initBindings = {'?Term' : Literal('ABACUS', datatype=XSD.string)}):\n",
    "  print(r.Subject, r.Term)"
   ]
  },
  {
   "cell_type": "code",
   "execution_count": 16,
   "metadata": {},
   "outputs": [
    {
     "name": "stdout",
     "output_type": "stream",
     "text": [
      "https://w3id.org/eb/i/Edition/9910796233804340\n",
      "https://w3id.org/eb/i/Edition/9910796253804340\n",
      "https://w3id.org/eb/i/Edition/9910796273804340\n",
      "https://w3id.org/eb/i/Edition/9910796343804340\n",
      "https://w3id.org/eb/i/Edition/9922270543804340\n",
      "https://w3id.org/eb/i/Edition/9929192893804340\n",
      "https://w3id.org/eb/i/Edition/9929777383804340\n",
      "https://w3id.org/eb/i/Edition/997902523804341\n",
      "https://w3id.org/eb/i/Edition/997902543804341\n",
      "https://w3id.org/eb/i/Edition/992277653804341\n"
     ]
    }
   ],
   "source": [
    "q5 = prepareQuery('''\n",
    "    SELECT ?edition\n",
    "    WHERE {\n",
    "       ?edition rdf:type eb:Edition .\n",
    "    }\n",
    "    ''',\n",
    "  initNs = { \"eb\": eb}\n",
    ")\n",
    "\n",
    "for r in g.query(q5):\n",
    "  print(r.edition)"
   ]
  },
  {
   "cell_type": "code",
   "execution_count": 17,
   "metadata": {},
   "outputs": [
    {
     "name": "stdout",
     "output_type": "stream",
     "text": [
      "https://w3id.org/eb/i/Topic/9910796233804340_191253819_JTXVF_0\n",
      "https://w3id.org/eb/i/Topic/9910796233804340_191253825_J_0\n",
      "https://w3id.org/eb/i/Topic/9910796233804340_191253838_GUZZERAT_0\n",
      "https://w3id.org/eb/i/Topic/9910796233804340_191253838_MICKOSCOK_0\n",
      "https://w3id.org/eb/i/Topic/9910796233804340_191253838_SPMMPP_0\n",
      "https://w3id.org/eb/i/Topic/9910796233804340_191320558_IROJKOTIONEHEE_0\n",
      "https://w3id.org/eb/i/Topic/9910796233804340_191320558_SIII_0\n",
      "https://w3id.org/eb/i/Topic/9910796233804340_191678900_SUHGERYPDXX_0\n",
      "https://w3id.org/eb/i/Topic/9910796233804340_191678901_WPJCPDXIA_0\n",
      "https://w3id.org/eb/i/Topic/9910796233804340_191678902_MECH_0\n"
     ]
    }
   ],
   "source": [
    "q5 = prepareQuery('''\n",
    "    SELECT ?topic\n",
    "    WHERE {\n",
    "       ?topic rdf:type eb:Topic .\n",
    "    }\n",
    "    LIMIT 10\n",
    "    ''',\n",
    "  initNs = { \"eb\": eb}\n",
    ")\n",
    "\n",
    "for r in g.query(q5):\n",
    "  print(r.topic)"
   ]
  },
  {
   "cell_type": "code",
   "execution_count": 18,
   "metadata": {},
   "outputs": [],
   "source": [
    "q6 = prepareQuery('''\n",
    "    SELECT *\n",
    "    WHERE {\n",
    "       ?topic a eb:Topic .\n",
    "       ?topic eb:relatedTerms ?relatedTerms . \n",
    "       ?topic eb:name ?name .\n",
    "       ?topic eb:startsAt ?startsAt.\n",
    "       ?topic eb:endsAt ?endsAt.\n",
    "    }\n",
    "    LIMIT 10\n",
    "    ''',\n",
    "  initNs = { \"eb\": eb}\n",
    ")\n",
    "\n",
    "for r in g.query(q6):\n",
    "    print(r.topic, r.relatedTerms, r.name, r.startsAt, r.endsAt)"
   ]
  },
  {
   "cell_type": "code",
   "execution_count": 19,
   "metadata": {},
   "outputs": [
    {
     "name": "stdout",
     "output_type": "stream",
     "text": [
      "https://w3id.org/eb/i/Article/9910796233804340_191253819_AGROM_0 https://w3id.org/eb/i/Article/9910796233804340_191678901_INDEX_0 AGROM a disease frequent in Bengal parts of the Indies, in wmich the tongue chaps, and is sometimes covered with white Indians are very fearful of this disease, which tribute to extreme heat of the stomach. is, to drink some chalybeate liquor, or the AGROSTEMMA, Wild Lychnis, in Botany. See Botany Index.\n",
      "https://w3id.org/eb/i/Article/9910796233804340_191253819_AGROM_0 https://w3id.org/eb/i/Article/9910796233804340_191679019_INDEX_0 AGROM a disease frequent in Bengal parts of the Indies, in wmich the tongue chaps, and is sometimes covered with white Indians are very fearful of this disease, which tribute to extreme heat of the stomach. is, to drink some chalybeate liquor, or the AGROSTEMMA, Wild Lychnis, in Botany. See Botany Index.\n",
      "https://w3id.org/eb/i/Article/9910796233804340_191253819_AGUE_0 https://w3id.org/eb/i/Article/9910796233804340_191678901_INDEX_0 AGUE a general name for all periodical which, according to the different times of the feverish paroxysm, are denominated tan, and quotidian. See Medicine Index. Aav E-Cake, the popular name for a hard the left side of the belly, lower than the to be the effetft of intermittent severs. Slav E-Tree, a name given to the sassafras, count of its febrifuge qualities.\n",
      "https://w3id.org/eb/i/Article/9910796233804340_191253819_AGUE_0 https://w3id.org/eb/i/Article/9910796233804340_191679019_INDEX_0 AGUE a general name for all periodical which, according to the different times of the feverish paroxysm, are denominated tan, and quotidian. See Medicine Index. Aav E-Cake, the popular name for a hard the left side of the belly, lower than the to be the effetft of intermittent severs. Slav E-Tree, a name given to the sassafras, count of its febrifuge qualities.\n",
      "https://w3id.org/eb/i/Article/9910796233804340_191253819_AGUL_0 https://w3id.org/eb/i/Article/9910796233804340_191678901_INDEX_0 AGUL in Botany, a fynonyme of the hedyfarum. See Hedysarum, Botany Index.\n"
     ]
    }
   ],
   "source": [
    "q6 = prepareQuery('''\n",
    "    SELECT *\n",
    "    WHERE {\n",
    "       ?article a eb:Article .\n",
    "       ?article eb:relatedTerms ?relatedTerms . \n",
    "       ?article eb:name ?name .\n",
    "       ?article eb:definition ?definition.\n",
    "    }\n",
    "    LIMIT 5\n",
    "    ''',\n",
    "  initNs = { \"eb\": eb}\n",
    ")\n",
    "\n",
    "for r in g.query(q6):\n",
    "  print(r.article, r.relatedTerms, r.name, r.definition)"
   ]
  },
  {
   "cell_type": "code",
   "execution_count": 20,
   "metadata": {},
   "outputs": [
    {
     "name": "stdout",
     "output_type": "stream",
     "text": [
      "https://w3id.org/eb/i/Article/9910796233804340_191253819_AGRIFOLIUM_0 AGRIFOLIUM or Aquieolium. See Ilex, | j Botany Index. Agrigen\n",
      "https://w3id.org/eb/i/Article/9910796233804340_191253819_AGRIGAN_0 AGRIGAN or island of St Francis Xavier, in Geot . U^n ‘ . graphy, one of the Ladrone or Marianne islands. It is 50 miles in circumference, is very mountainous, and has a volcano in it; situated in N. Lat. 19. 4. E. Long. 146.\n",
      "https://w3id.org/eb/i/Article/9910796233804340_191253819_AGRIGENTUM_0 AGRIGENTUM A n c i e n t\n",
      "https://w3id.org/eb/i/Article/9910796233804340_191253819_AGRIONI_0 AGRIONI A, in Grecian Antiquity, feltivals annually celebrated by the Boeotians in honour of Bacchus. At these festivals, the women pretended to search after Bacchus as a fugitive \\ and, after some time, gave over their inquiry, saying, that he had fled to the Muses, and was concealed among them.\n",
      "https://w3id.org/eb/i/Article/9910796233804340_191253819_AGRIOPHAGI_0 AGRIOPHAGI in Antiquity, a name given to those who fed on wild beasts. The word is Greek, “ wild,” “ savage,” and <px.y», “ I eat.” The name is given, by ancient writers, to certain people, real or fabulous, said to have fed altogether on lions or panthers. Pliny and Solinus speak of Agriophagi in Ethiopia, and Ptolemy of others in India on this side the Ganges.\n"
     ]
    }
   ],
   "source": [
    "q6 = prepareQuery('''\n",
    "    SELECT *\n",
    "    WHERE {\n",
    "       ?article a eb:Article . \n",
    "       ?article eb:name ?name .\n",
    "       ?article eb:definition ?definition.\n",
    "    }\n",
    "    LIMIT 5\n",
    "    ''',\n",
    "  initNs = { \"eb\": eb}\n",
    ")\n",
    "\n",
    "for r in g.query(q6):\n",
    "  print(r.article, r.name, r.definition)"
   ]
  },
  {
   "cell_type": "code",
   "execution_count": 21,
   "metadata": {},
   "outputs": [
    {
     "name": "stdout",
     "output_type": "stream",
     "text": [
      "https://w3id.org/eb/i/Article/9929777383804340_193322698_ABACUS_0 among the ancients, was a kind of cupboard or buffet. Livy, describing the luxury into which the Romans degenerated after the conquest of Asia, says they had their abaci, beds, &c. plated over with gold. https://w3id.org/eb/i/Volume/9929777383804340_193322698 Encyclopaedia Britannica\n",
      "----\n",
      "https://w3id.org/eb/i/Article/9929777383804340_193322698_ABACUS_1 or https://w3id.org/eb/i/Volume/9929777383804340_193322698 Encyclopaedia Britannica\n",
      "----\n",
      "https://w3id.org/eb/i/Article/997902543804341_190273291_ABACUS_0 among the ancients, was a kind of cupboard or buffet. Livy, describing the luxury into which the Romans degenerated after the conquest of Asia, says, They had their abaci, beds, &c. plated https://w3id.org/eb/i/Volume/997902543804341_190273291 Encyclopaedia Britannica\n",
      "----\n",
      "https://w3id.org/eb/i/Article/997902543804341_190273291_ABACUS_1 Major, in metallurgic operations, the name of a trough used in the mines, wherein the ore is washed. https://w3id.org/eb/i/Volume/997902543804341_190273291 Encyclopaedia Britannica\n",
      "----\n",
      "https://w3id.org/eb/i/Article/997902543804341_190273291_ABACUS_2 in archite£lure,signifies the superior part or member of the capital of a column, and serves as a kind of crowning to both. Vitruvius tells us the abacus was originally intended to represent a square tile laid over an urn, or rather over a basket. See ARCHITEC- https://w3id.org/eb/i/Volume/997902543804341_190273291 Encyclopaedia Britannica\n",
      "----\n",
      "https://w3id.org/eb/i/Article/9910796253804340_192547781_ABACUS_0 among the ancients, was a kind of cupboard or buffet. Livy, describing the luxury into which the Romans degenerated after the conquest of Asia, says they had their abaci, beds, &c. plated over https://w3id.org/eb/i/Volume/9910796253804340_192547781 Encyclopaedia Britannica\n",
      "----\n",
      "https://w3id.org/eb/i/Article/9910796253804340_192547781_ABACUS_1 Major, in metallurgic of a trough used in the mines, wherein https://w3id.org/eb/i/Volume/9910796253804340_192547781 Encyclopaedia Britannica\n",
      "----\n",
      "https://w3id.org/eb/i/Article/9910796253804340_192547781_ABACUS_2 in Ancient Geographij, supposed by the ancients to be an island in the German ocean, called by Timaeus Basilia, and by Xenophon Lam|)sacenusl?r//^b; now the peninsula of Scandinavia. Here, according to Pliny, some imagined that amber dropped from the https://w3id.org/eb/i/Volume/9910796253804340_192547781 Encyclopaedia Britannica\n",
      "----\n",
      "https://w3id.org/eb/i/Article/992277653804341_144133901_ABACUS_0 a table strewed over with dust or sand, upon which the ancient mathematicians drew their figures, It also signified a cupboard, or buffet. https://w3id.org/eb/i/Volume/992277653804341_144133901 Encyclopaedia Britannica; or, A dictionary of arts and sciences, compiled upon a new plan\n",
      "----\n",
      "https://w3id.org/eb/i/Article/992277653804341_144133901_ABACUS_2 is also the name of an ancient instrument for facilitating operations in arithmetic. It is vadoully contrived. That chiefly used in Europe is made by drawing any number of parallel lines at the di(lance of two diameters of one of the counters used in the calculation. A counter placed on.the lowed line, signifies r; on the sd, 10; on the 3d, 100; on the 4th, 1000, &c. In the intermediate spaces, the same counters are eflimated at one Jialf of the value of the line immediately superior, viz. between the id and 2d, 5; between the 2d and 3d, 50, &c. See plate I. fig. 2. A B, where the same number, 1768 for example, is represented under both by different dispositions of the counters. https://w3id.org/eb/i/Volume/992277653804341_144133901 Encyclopaedia Britannica; or, A dictionary of arts and sciences, compiled upon a new plan\n",
      "----\n",
      "https://w3id.org/eb/i/Article/992277653804341_144133901_ABACUS_3 logijlicus, a right-angled triangle, whose sides forming the right angle contain the numbers from 1 to 60, and its area the fafta of every two of the numbers perpendicularly opposite. This is also called a canon Jk^&cus Pythagvricus, the multiplication-table, or any table of numbers that facilitates operations in arith- https://w3id.org/eb/i/Volume/992277653804341_144133901 Encyclopaedia Britannica; or, A dictionary of arts and sciences, compiled upon a new plan\n",
      "----\n",
      "https://w3id.org/eb/i/Article/9929192893804340_144850366_ABACUS_0 a table strewed over with dust or sand, upon v/hich the ancient mathematicians drew their figures. It also signified a cupboard, or buffet. https://w3id.org/eb/i/Volume/9929192893804340_144850366 Encyclopaedia Britannica: or, A dictionary of arts and sciences\n",
      "----\n",
      "https://w3id.org/eb/i/Article/9929192893804340_144850366_ABACUS_2 is also the name of an ancient inllrument for facilitating operations in arithmetic. It is variously contrived. That chiefly used in Europe is made by drawing any number of parallel lines at the difiance of two diameters of one of the counters used in the calculation. A counter placed on the lowest line, fignifics i; on the 2d, 10; on the 3d, 100; on the 4th, 1000, &c. In the intermediate spaces, the same counters are efiimated at one half of the value of the line immediately superior, viz. between the ist and 2d, 5 ; between the 2d and 3d, 50, &c. See plate I. fig. 2. A B, where the same number, 1768 for example, is represented under both by different dispositions of the counters. https://w3id.org/eb/i/Volume/9929192893804340_144850366 Encyclopaedia Britannica: or, A dictionary of arts and sciences\n",
      "----\n",
      "https://w3id.org/eb/i/Article/9929192893804340_144850366_ABACUS_3 Pythagoricus, the multiplication-table, or any table of numbers that facilitates operations in arith- https://w3id.org/eb/i/Volume/9929192893804340_144850366 Encyclopaedia Britannica: or, A dictionary of arts and sciences\n",
      "----\n",
      "https://w3id.org/eb/i/Article/997902523804341_144850370_ABACUS_0 among the ancients, was a kind of cupboard, or buffet. J Livy, deferibing the luxury into which the Romans degenerated after the conquest of Asia, says, They had their abaci, beds, &c. plated over with gold. (Dec. IV. Lib. ix.) https://w3id.org/eb/i/Volume/997902523804341_144850370 Encyclopaedia Britannica\n",
      "----\n",
      "https://w3id.org/eb/i/Article/997902523804341_144850370_ABACUS_1 Major, in metallurgic operations, the name of a trough used in the mines, wherein the ore is waftied. https://w3id.org/eb/i/Volume/997902523804341_144850370 Encyclopaedia Britannica\n",
      "----\n",
      "https://w3id.org/eb/i/Topic/9929777383804340_193322698_ABACUS_2 Abacus. Roman Abacus. ing of balanced accounts, says, that the pebbles were cleared away, and none left. 1 His rival, Demosthenes, repeating his expression, employs further the verb avravikuv, which means to take up as many counters as were laid down. It is evident, therefore, that the ancients, in keeping their accounts, did not separately draw together the credits and the debts, but set down pebbles for the former, and took up pebbles for the latter. As soon as the board became cleared, the opposite claims were exactly balanced. We may observe, that the phrase to clear one s scores or accounts, meaning to settle or adjust them, is still preserved in the popular language of Europe, being suggested by the same practice of reckoning with counters, which prevailed indeed until a comparatively late period. The Romans borrowed their Abacus from the Greeks, and never aspired higher in the pursuit of science, do each pebble or counter required for that board they gave the name of calculus, a diminutive formed from calx, a stone; and applied the verb calculare, to signify the operation of combining or separating such pebbles or counters. Hence innumerable allusions by the Latin authors. Ponere calculum—subducere calculum, to put down a counter, or to take it up; that is, to add or subtract; vocare aliquid ad calculum, ut par sit ratio acceptorum et datorum—to submit any thing to calculation, so that the balance of debtor and creditor may be struck. The emperor Helvius Pertinax, who had been taught, while a boy, the arts of writing and casting accounts, is said, by Julius Capitolinus, to be litteris elementariis et calculo imbutus. St Augustine, whose juvenile years were devoted to pleasure and dissipation, acquaints us, in his extraordinary Confessions, that to him no song ever sounded more odious than the repetition or cantio, that one and one make two, and two and two moke four. The use of the Abacus, called sometimes likewise the Mensa Pythagorica, formed an essential part of the education of every noble Roman youth: Nec qui abaco numeros, et secto in pulvere metas Scit risisse vafer. PERS. Sat. i. 131. From Martianus Capella we learn that, as refinement advanced, a coloured sand, generally of a greenish hue, was employed to strew the surface of the abacus. Sic dbacum perstare jubet, sic tegmine glauco Pandere pulvereum formarum ductibus aequor. Lib. vii. De Arithmetica. A small box or coffer, called a Loculus, having compartments for holding the calculi or counters, was a necessary appendage of the abacus. Instead of carrying a slate and satchel, as in modern times, the Roman boy was accustomed to trudge to school, loaded with his arithmetical board, and his box of counters: Quo pueri magnis e centurionibus orti, Lcevo suspensi loculos talulamque lacerto. HORAT. Sat. i. 6. In the progress of luxury, tali, or dies made of ivory, were used instead of pebbles, and small silver coins came to supply the place of counters. Under the emperors, every patrician living in a spacious mansion, and indulging in all the pomp and splendour of eastern princes, generally entertained, for various functions, a numerous train of foreign slaves or freedmen in his palace. Of these, the librarius or miniculator, was employed in teaching the children their letters; but the notarius registered expenses, the rationarius adjusted and settled accounts, and the tabularius or calculator, working with his counters and board, performed what computations might be required. Sometimes these laborious combiners of numbers were termed reproachfully canculones or calculones. In the fervour of operation, their gestures must often have appeared constrained and risible. Abacus. Computat, ac cevet. Ponatur calculus, adsint Cum tabula pueri. Juv. Sat. ix. 40. The nicety acquired in calculation by the Roman youth, was not quite agreeable to the careless and easy temper of Horace. Romani pueri longis rationibus assem Discunt in parteis centum diducere. Dicat Silius Albini, Si de quincunce remota est Uncia, quid superet ? Poteras dixisse, Triens. Eu ! Item poteris servare tuam. Redit uncia; quid sit ? Semis. Epist. ad Pisones. It was a practice among the ancients to keep a diary, by marking their fortunate days by a lapillus, or small white pebble, and their days of misfortune by a black one. Hence the frequent allusions which occur in the Classics: O diem laetum, notandumque mihi candidissimo calculo! PLIN. Epist. vi. 11. diesque nobis Signandi melioribus lapillis ! MART. ix. 53. Hunc, Macrine, diem numera meliore lapillo, Qui tibi labentes apponit candidus annos. PERS. Sat. ii. 1, 2. To facilitate the working by counters, the construction of the abacus was afterwards improved. Instead of the perpendicular lines or bars, the board had its surface divided by sets of parallel grooves, by stretched wires, or even by successive rows of holes. It was easy to move small counters in the grooves, to slide perforated beads along the wires, or to stick large nobs or round-headed nails in the different holes. To diminish the number of marks required, every column was surmounted by a shorter one, wherein each counter had the same value as five of the ordinary kind, being half the index of the Denary Scale. The abacus, instead of wood, was often, for the sake of convenience and durability, made of metal, frequently brass, and sometimes silver. In the Plate entitled ARITHMETIC, we have copied, from the third volume of the Supplement added by Polenus to. the immense Thesaurus of Gnevius, two varieties of this instrument, as used by the Romans. They both rest on good authorities, having been delineated from antique monuments,—the first kind by Ursinus, and the second by Marcus Velserus. In the one, the numbers are represented by flattish perforated beads, ranged on parallel wires; and, in the other, they are signified by small round counters moving in parallel grooves. These instruments contain each seven capital bars, expressing in order units, tens, hundreds, thousands, ten thousands, hundred thousands, and millions ; and above them are shorter bars following the same progression, but having five times the relative value. With four beads on each of the long wires, and Kciv xudaoui utriv at Y^o/, xat mgrri. (DEMOSTHENES/>ro Corona.) iAbacus, one bead on every corresponding short wire, it is evident that any number could be expressed, as far as ten millions. In all these, the Denary Scale is followed uniformly; but there is, besides, a small appendage to the arrangement founded on the Duodenary System. Immediately below the place of units is added a bar, with its corresponding branch, both marked 0, being designed to signify ounces, or the twelfth parts of a pound. Five beads on the long wire, and one bead on the short wire, equivalent now to six, would therefore denote eleven ounces. To express the simpler fractions of an ounce, three very short bars are annexed behind the rest; a bead on the one marked S or 5, the contraction for Semissis, denoting half an ounce; a bead on the other, which is marked by the inverted 3, the contraction for Sicilicum, signifying the quarter of an ounce ; and a bead on the last very short bar, marked 2 > a contraction for the symbol ^ or Bince Sextulce, intimating a duella or two-sixths, that is, the third part of an ounce. The second form of the abacus differs in no essential respect from the first, the grooves only supplying the place of parallel wires. We should observe that the Romans applied the same word abacus, to signify an article of luxurious furniture, resembling in shape the arithmetical board, but often highly ornamental, and destined for a very different purpose,—the relaxation and the amusement of the opulent. It was used in a game apparently similar to that of chess, which displayed a lively image of the struggles and vicissitudes of war. The infamous and abandoned Nero took particular delight in this sort of play, and drove along the surface of the abacus with a beautiful quadriga, or chariot of ivory. The civil arts of Rome were communicated to other nations by the tide of victory, and maintained through the vigour and firmness of her imperial sway. But the simpler and more useful improvements survived the wreck of empire, among the various people again restored by fortune to their barbarous independence. In all transactions wherein money was concerned, it was found convenient to follow the procedure of the Abacus, in representing numbers by counters placed in parallel rows. During the middle ages, it became the usual practice over Europe for merchants, auditors of accounts, or judges appointed to decide in matters of revenue, to appear on a covered bank or bench, so called, from an old Saxon or Franconian word, signifying a seat. Hence those terms were afterwards appropriated to offices for receiving pledges, chambers for the accommodation of money-dealers, or courts for the trying of questions respecting property or the claims of the Crown. Hence also the word bankrupt, which occurs in all the dialects of Europe. The term scaccarium, from which was derived the French, and thence the English name for the Exchequer, anciently signified merely a chess-board, being formed from scaccum, denoting one \"of the movable pieces in that intricate game. The reason of this application of the term is sufficiently obvious. The table for accounts was, to facilitate the calculations, always covered with a cloth, resembling the surface of the scaccarium or abacus, and distinguished by perpendicular and chequered lines. The learned Skene was therefore mistaken in supposing that the Exchequer C U S. 7 derived its name from the play of chess, because its Abacus, suitors appear to sight a keen and dubious battle. 1 The Court of Exchequer, which takes cognizance of all Exchequer questions of revenue, was introduced into England by the Board, and Norman conquest. Richard Fitznigel, in a treatise or ot j ier Candialogue on the subject, written about the middle of the trivancps twelfth century, says that the scaccarium was a quadrangular table about ten feet long and five feet broad, with a ledge or border about four inches high, to prevent any thing from rolling over, and was surrounded on all sides by seats for the judges, the tellers, and other officers. It was covered every year, after the term of Easter, with fresh black cloth, divided by perpendicular white lines, or distinctures, at intervals of about a foot or a palm, and again parted by similar transverse lines. In reckoning, they proceeded, he says, according to the rules of arithmetic, 2 using small coins for counters. The lowest bar exhibited pence, the one above it shillings, the next pounds; and the higher bars denoted successively tens, twenties, hundreds, thousands, and ten thousands of pounds; though, in those early times of penury and severe economy, it very seldom happened that so large a sum as the last ever came to be reckoned. The first bar, therefore, advanced by dozens, the second and third by scores, and the rest of the stock of bars by the multiples of ten. The teller sat about the middle of the table ; on his right hand eleven pennies were heaped on the first bar, and a pile of nineteen shillings on the second; while a quantity of pounds was collected opposite to him, on the third bar. For the sake of expedition, he might employ a different mark to represent half the value of any bar, a silver penny for ten shillings, and a gold penny for ten pounds. In early times, a chequered board, the emblem of calculation, was hung out, to indicate an office for changing money. It was afterwards adopted as the sign of an inn or hostelry, where victuals were sold, or strangers lodged and entertained. We may perceive traces of that ancient practice existing even at present. It is customary in London, and in some provincial towns, to have a chequer, diced with red and white, painted against the sides of the door of a chop-house. The use of the smaller abacus in assisting numerical computation was not unknown during the middle ages. In England, however, it appears to have scarcely entered into actual practice, being mostly confined to those “ slender clerks” who, in such a benighted period, passed for men of science and learning. The calculator was styled, in correct Latinity, abacista; but, in the Italian dialect, abbachista, or abbachiere. A different name came afterwards to be imposed. The Arabians, who, under the appellation of Saracens or Moors, conquered Spain, and enriched that insulated country by commendable industry and skill, had likewise introduced their mathematical science. Having adopted a most refined species of numeration, to which they gave the barbarous name of algarismus, algorismus, or algorithmus, from the definite article al, and the Greek word ctgi Oyog, or number, this compound term was adopted by the Christians of the West, in their admiration of superior skill, to signify calculation in general, long before the peculiar mode had become known and practised among them. The term algarism was corrupted in English into augrim or awgrym, as printed by Wynkyn 1 “ Because mony persons conveenis in the Checker to playe their causes, contrare uthers, as gif they were fechtand in an arrayed battell, quilk is the forme and ordour of the said playe.” (SKENE, ad voc. Scaccarium.) 5 He calls it Arismetica: In the Myrrourof the Worlde, printed by Caxton, in 1481, it is strangely named Ars Me trike, a proof of the total ignorance of Greek at that period in England.ABACUS. Abacus. de Worde, at the end of the fifteenth century; and appli' ed even to the pebbles or counters used in ordinary calculation. In confirmation of this remark, we shall not scruple to quote a passage from our ancient poet Chaucer, who flourished about a century before, and whose verses, however rude, are sometimes highly graphic. This clerk was clepec! bendy Nicholas; Of derne love he coude and of solas; And therto he was slie and ful prive, And like a maiden meke for to se. A chambre had he ip that hostelrie Alone, withouten any compagnie, Ful fetisly ydight with herbes sote, And he himself was swete as is the rote Of licoris, or any setewale. His almageste, and bokes gret and smale. His astre'labre, longing fqr his art, His augrtm stones, layen faire apart On shelves couched at his beddcs hed, His presse ycovered with a fabling red. And all above ther lay a gay sautrie, On which he made on nightes melodie, So swetely, that all the chambre rong: And Angelas ad virginem he song. And after that he song the kinge’s note ; Ful often blessed was his mery throte. The Milleres Tale, v. 13-112. The abacus, with its store of counters, wanted the valuable property of being portable, and was at all times evidently a clumsy and most incommodious implement of calculation. In many cases, it became quite indispensable to adopt some sure and ready method of expressing at Digita I Nu-least the lower numbers. The ancients employed the monition, variously combined inflections of the fingers on both hands to signify the numerical series, and on this narrow basis they framed a system of considerable extent. In allusion to the very ancient practice of numbering by the arbitrary play of the fingers, Orontes, the son-in-law of Artaxerxes, having incurred the weighty displeasure of that monarch, is reported by Plutarch to have exclaimed in terms exactly of the same import as those before ascribed to Solon, that “ the favourites of kings resemble the fingers of the arithmetician, being sometimes at the top and sometimes at the bottom of the scale, and are equivalent at one time to ten thousand, and at another to mere units/’ 1 Among the Romans likewise, the allusions to the mode of expressing numbers by the varied inflection of the fingers, are very frequent. Hence the classical expressions, computare digitis, and numerare per digitos; and hence the line of Ausonius, Quot ter luctatus cum pollice computat index. In this play of the fingers great dexterity was acquired ; and hence the phrase which so frequently occurs in the C assies—digitis. It was customary to begin with the left hand and thence proceed to the right hand, on which the different combined inflections indicated exactly one hundred times more. Hence the peculiar force of this passage from Juvenal: Rex Pylius,. magno si quicquam credis Homero Exemplum vitae suit a cornice secundae ; Felix nimirum, qui tot per saecula mortem Distulit, atque suos jam dextra computat annos. Sat. x. 246-249. Many such allusions to the mode of indicating numbers by the varied position of the fingers or the hands, occur in the writings of Cicero and Quintilian. The ancients, indeed, for want of better instruments, were tempted to Abacus, push that curious art to a very great extent. By a single inflection of the fingers of the left hand, they proceeded as far as ten ; and by combining another inflection with it, they could advance to an hundred. The same signs on the right hand, being augmented, as we have seen, an hundredfold, carried them as far as ten thousand ; and by a further combination, those signs, being referred successively to different parts of the body, were again multiplied an hundred times, and therefore extended to a million. This kind of pantomime outlived the subversion of the Roman empire, and was particularly fitted for the slothful religious orders who fattened on its ruins, and, relinquishing every maply pursuit, recommended silence as a virtue, or enjoined it as an obligation. Our venerable Bede has explained the practice of manual numeration at some length; and we have given (see Plate ARITHMETIC) a Small specimen of such inflections and digital signs. These signs were merely fugitive, and it became necessary to adopt other marks, of a permanent nature, for the purpose of recording numbers. But of all the contrivances adopted with this view, the rudest undoubtedly is the method of registering by tallies, introduced into England along with the Court of Exchequer, as another badge of the Norman conquest. These consist of straight wellseasoned sticks, of hazel or willow, so called from the French verb tailler, to cut, because they are squared at each end. The sum of money was marked on the side with notches, by the cutter of tallies, and likewise inscribed on both sides in Roman characters, by the writer of the tallies. The smallest notch signified a penny, a larger one a shilling, and one still larger a pound; but other notches, increasing successively in breadth, were made to denote ten, a hundred, and a thousand. The stick was then cleft through the middle by the deputy-chamberlains, with a knife and a mallet; the one portion being called the tally, or sometimes the scachia, stipes, or kancia ; and the other portion named the countertally, ox folium. After the union with Scotland had been concluded in 1707, a store of hazel rods for tallies was sent down to Edinburgh, being intended, no doubt, as a mighty refinement on the Scottish mode of keeping accounts. Their advantages, however, were not perceived or acknowledged, and they have since been suffered, we believe, to lie as so much useless lumber. But the case was very different in England, which is more addicted to a slavish attachment to ancient forms, and opposed to the general progress of society. T. his ridiculous plan of keeping the public accounts was maintained up to the year 1834, when a more rational system was adopted, and the old wooden tallies were ordered to be destroyed. The parties entrusted with this duty burnt them in the stoves which heated the House of Lords ; and so intense was the heat occasioned by the burning of so great a quantity of dry wood, that it set fire to the building, and consumed the Houses of Parliament, on the 16th October 1834. The Chinese have, from the remotest ages, used in all Chinese their calculations, an instrument called the Swan-Pan, or Swan-Pan. Computing Table, similar in its shape and construction to the abacus of the Romans, but more complete and uniform. It consists of a small oblong board surrounded by a high ledge, and parted lengthwise near the top by another ledge. It is then divided vertically by ten smooth and slender rods of bamboo, on which are strung two B<Jf7ZZ, T ZJ H f n TU ‘'‘ V ^A KT / A01 r f ‘”' MYPIA *AS, MONAAA rifovcu Swam*. ^ ^ 10 ™ & TOAOXU™,. (Pldi . Apophthegm.) TO avro KC Ll T(OV https://w3id.org/eb/i/Volume/9929777383804340_193322698 Encyclopaedia Britannica\n",
      "----\n",
      "https://w3id.org/eb/i/Article/9910796253804340_192547781_ABACUS_3 the son of Jupiter by iEgina.the isle of J Egina was depopulated by a plague, his father, in compassion to his grief, changed all the ants iEdile. U p 0n Jt into men and women, who were called Myrvii' ,J ” v an ant. The foundation of the sable is said to be, that when the country had been depopulated by pirates, who forced the few that remained to take shelter in caves, i Eacus encouraged them to come out, and by commerce and industry recover what they had lost. His character for justice was such, that, in a time of universal drought, he was nominated by the Delphic oracle to intercede for Greece, and his prayer was answered. See the article ^Egina. The Pagans also imagined that T Eacus, on account of his impartial justice, was chosen by Pluto one of the three judges of the dead } and that it was his province to /EBU Di E, a name anciently given to the Western i EBURA, in Ancient Geography, a town of Spain, in Estremadura, on the river Guadiana, to the west of Merida j now called Talavera. W. Long. 7* I 5* N. Lat. 38. 40. i ECHMALOTARCHA, in Jewish antiquity, a title given to the principal leader or governor of the Hebrew captives residing in Chaldea, Assyria, and the neighbouring countries. This magistrate was called by the Jews, rosch-galath, i. e. the chief of the captivity : but the above term, of like import in the Greek, is that used by Origen and others who wrote in the The Jewish writers assure us, that the cechmalotarchce were only to be chosen out of the tribe ol Judah. The eastern Jews had their princes of the captivity, as the western Jews their patriarchs. The Jews are still said to have an cechmalotarcha at Babylon, but without the authority of the ancient ones. (Basnage Hist. Jews, i E Cl DIUM, in Botany. See Botany Index. https://w3id.org/eb/i/Volume/9910796253804340_192547781 Encyclopaedia Britannica\n",
      "----\n",
      "https://w3id.org/eb/i/Article/9910796273804340_192547789_ABACUS_0 in architecture, II. 5; III. 464 —cupboard, II. 5—arithmetical instrument, ib. https://w3id.org/eb/i/Volume/9910796273804340_192547789 Encyclopaedia Britannica\n",
      "----\n",
      "https://w3id.org/eb/i/Article/9910796273804340_192984259_ABACUS_0 among the ancients, was a kind or buffet. Livy, describing the luxury into mans degenerated after the conquest of Asia, had their abaci, beds, &c. plated over with https://w3id.org/eb/i/Volume/9910796273804340_192984259 Encyclopaedia Britannica\n",
      "----\n",
      "https://w3id.org/eb/i/Article/992277653804341_144133901_ABACUS_1 in architeflure, signifies the superior part or member of the capital of a column, and serves as a kind of crowning to both. It was originally intended to represent a square tile covering a basket. The form of the abacus is not the same in all orders: in the Tuscan, Doric, and Ionic, it‘is generally square; but in the Corinthian and Compofite, its four sides are arched ir Avards, and embellilhed in the middle withornament, as a rose or other flower, Scammozzi uses abacus for a concave moulding on the capital of the Tuscan pedefial; and Palladio calls the plinth above the echinus, or boultin, in the Tufean and Doric orders, by the same name. See plate I. fig. i. and https://w3id.org/eb/i/Volume/992277653804341_144133901 Encyclopaedia Britannica; or, A dictionary of arts and sciences, compiled upon a new plan\n",
      "----\n",
      "https://w3id.org/eb/i/Article/9929192893804340_144850366_ABACUS_1 in architedture, signifies the superior part or member of the capital of a column, and serves as a kind of crowning to both. It was originally intended to represent a square tile covering a basket. The form of the abacus is not the same in all orders: in the Tuscan, Doric, and Ionic, it is generally square; biit in the Corinthian and Compofite, its four sides are arched inwards, and embellilhed in the middle withornament, as a rose or other flower. Scammozzi uses abacus for a concave moulding on the capital of the Tuscan pedestal; and Palladio calls the plinth above the echinus, or boultin, in the Tuscan and Doric orders, by the same name. See plate I. fig. I. and https://w3id.org/eb/i/Volume/9929192893804340_144850366 Encyclopaedia Britannica: or, A dictionary of arts and sciences\n",
      "----\n",
      "https://w3id.org/eb/i/Article/9910796273804340_192984259_ABACUS_1 is also the name of an ancient facilitating operations in arithmetic. The numbers by counters appears happily fitted the principles of calculation. In the schools Greece, the boys acquired the elements of working on a smooth board with a narrow so named, evidently, from the combination A, B, F, the first letters of their alphabet, resembling, cept perhaps in size, the tablet likewise called on which the children with us used to begin art of reading. The pupils, in those distant instructed to compute, by forming progressive counters, which, according to the wealth or individual, consisted of small pebbles, of bone or ivory, or even of silver coins. From Greek word for a pebble, comes the verb But the same board served also for rudiments of writing and the principles The Abax being strewed with green sand, the ditus of classic authors, it was easy, with a radius rod, to trace letters, draw lines, construct describe circles.—Besides the original word Greeks had the diminutive A(3a,'/uov; and it probable, that this smaller board was commonly calculations, while the larger one was reserved them for the purpose of tracing geometrical To their calculating board the ancients make It appears, from the relation Laertius, that the practice of bestowing on pebbles tificial value, according to the rank or place occupied, remounts higher than the age of great reformer and legislator of the Athenian wealth. This sagacious observer and disinterested man, who was, however, no admirer of regal used to‘compare the passive ministers of kings to the counters or pebbles of arithmeticians, sometimes most important, and at other times nificant. 1 i Eschines, in his oration for the Crown, buvayivovg ffagafl-Xjjc Voug SIVUI roug Yrjtpoig TAI2 EHI TUN AOrmiGN. tmsrw ‘Tore ^ IIAEIU an/mimv, non os 'HTTfl. (DIOG. LAERT. in Vita Solonis.)ing of balanced accounts, says, that the pebbles were cleared away, and none left. 1 His rival, Demosthenes, repeating his expression, employs further the verb avran\\uv, which means to take up as many counters as were laid down. It is evident, therefore, that the ancients, in keeping their accounts, did not separately draw together the credits and the debts, but set down pebbles for the former, and took up pebbles for the latter. As soon as the board became cleared, the opposite claims were exactly balanced. We may observe, that the phrase to clear ones scores or accounts, meaning to settle or adjust them, is still preserved in the popular language of Europe, being suggested by the same practice of reckoning with counters, which prevailed indeed until a comparatively late The Romans borrowed their Abacus from the Greeks, and never aspired higher in the pursuit of science. To each pebble or counter required for that board they gave the name of calculus, a diminutive formed from calx, a stone; and applied the verb calculate, to signify the operation of combining or separating such pebbles or counters. Hence innumerable allusions by the Latin authors. Ponere calculum—subducere calcidum, to put down a counter, or to take it up; that is, to add or subtract; cocare aliquid ad calculum, ut par sit ratio acceptorum et datorum—to submit any thing to calcidation, so that the balance of debtor and creditor may be struck. Helvius Pertinax, who had been taught, while a boy, the arts of writing and casting accounts, is said, by Julius Capitolinus, to be litteris elementariis et calcido imbutus. St Augustine, whose juvenile years were devoted to pleasure and dissipation, acquaints us, in his extraordinary Confessions, that to him no song ever sounded more odious than the repetition or cantio, that one and one make two, and two and two make four. The use of the Abacus, called sometimes likewise the Mensa Pythagorica, formed an essential part of the education of every noble Roman Nec qui abaco numeros, et secto in pulvere met a a PEKS. Sat. i. 131. From Martianus Capella we learn that, as refinement advanced, a coloured sand, generally of a greenish hue, was employed to strew the surface of the abacus. Sic abacum perstare jubet, sic tegmine glauco Pandere pulvereum formarum ductibus sequor. Lib. vii. De Arithmetica. A small box or coffer, called a Loculus, having compartments for holding the calculi or counters, was a necessary appendage of the abacus. Instead of carrying a slate and satchel, as in modern times, the Roman boy was accustomed to trudge to school, loaded with his arithmetical board, and his box of counters: Quo pueri magnis e centurionibus orti, Lcevo suspensi loculos tubulamque lacerto. HORAT. Sat. i. 6. In the progress of luxury, tali, or dies made of ivory, Avere used instead of pebbles, and small silver coins came to supply the place of counters. Under the emperors, every patrician living in a spacious mansion, and indulging in all the pomp and splendour of eastern princes, generally entertained, for various functions, a numerous train of foreign slaves or freedmen in his palace. Of these, the librarius or miniculator, was employed in teaching the children their letters; gistered expenses, the rationarius accounts, and the tabularius his counters and board, performed might be required. Sometimes of numbers were termed reproachfully In the fervour of operation, often have appeared constrained Computat, ac cevet. Ponatur The nicety acquired in calculation was not quite agreeable to the Romani puen longis rationibus Discunt in parteis centum Silius Albini, Si de quincunce Uncia, quid superet ? Poteras Rem poteris servare tuam. It was a practice among the by marking their fortunate white pebble, and their days one. Hence the frequent allusions O diem laetum, notandumque Signandi melioribus lapiltis ! Hunc, Macrine, diem numera Qui tibi labentes apponit candidus To facilitate the working by of the abacus was afterwards perpendicular lines or bars, vided by sets of parallel grooves, even by successive rows of holes. small counters in the grooves, along the wires, or to stick large nails in the different holes. marks required, every column er one, wherein each counter of the ordinary kind, being half Scale. The abacus, instead sake of convenience and durability, quently brass, and sometimes titled ARITHMETIC, we have lume of the Supplement added mense Thesaurus of Graevius, ment, as used by the Romans. authorities, having been delineated ments,—the first kind by Ursinus, Marcus Velserus. In the one, sented by flattish perforated wires; and, in the other, they counters moving in parallel grooves. contain each seven capital bars, tens, hundreds, thousands, ten thousands, and millions; and above them the same progression, but having value. \\\\ ith four beads on each Kcf,v xa Jaoai uffiv ai Yri<poi, xou gr,div rregifi. (DEMOSTHENES pro Corona.) https://w3id.org/eb/i/Volume/9910796273804340_192984259 Encyclopaedia Britannica\n",
      "----\n",
      "https://w3id.org/eb/i/Article/9910796273804340_192984259_ABACUS_3 the son of Jupiter by TEgina. isle of i Egina was depopulated by a plague, in compassion to his grief, changed all the into men and women, who were called Myrmidones, an ant. The foundation of the sable is that when the country had been depopulated who forced the few that remained to take shelter y Eacus encouraged them to come out, and by and industry recover what they had lost. His for justice was such, that, in a time of universal he was nominated by the Delphic oracle to intercede Greece, and his prayer was answered. See jEgina. The Pagans also imagined that i Eacus,count of his impartial justice, was chosen by Pluto one of the three judges of the dead; and that it was his province to judge the Europeans. /EBU Di E, a name anciently given to the Western https://w3id.org/eb/i/Volume/9910796273804340_192984259 Encyclopaedia Britannica\n",
      "----\n",
      "https://w3id.org/eb/i/Article/9922270543804340_192016229_ABACUS_0 among the ancients, was a kind of cup Livy, deferibing the luxury into which the Romans degenerated after the conquest of Alia, says they had their abaci, beds, &c. plated over https://w3id.org/eb/i/Volume/9922270543804340_192016229 Encyclopaedia Britannica, or, a Dictionary of arts, sciences, and miscellaneous literature : enlarged and improved. Illustrated with nearly six hundred engravings\n",
      "----\n",
      "https://w3id.org/eb/i/Article/9922270543804340_192016229_ABACUS_1 Major, in metallurgic of a trough used in the mines, https://w3id.org/eb/i/Volume/9922270543804340_192016229 Encyclopaedia Britannica, or, a Dictionary of arts, sciences, and miscellaneous literature : enlarged and improved. Illustrated with nearly six hundred engravings\n",
      "----\n",
      "https://w3id.org/eb/i/Topic/9910796273804340_192984259_ABACUS_2 Abacus, one bead on every corresponding short wire, it is evident that any number could be expressed, as far as ten millions. In all these, the Denary Scale is followed uniformly; but there is, besides, a small appendage to the arrangement founded on the Duodenary System. Immediately below the place of units is added a bar, with its corresponding branch, both marked 0, being designed to signify ounces, or the twelfth parts of a pound. Five beads on the long wire, and one bead on the short wire, equivalent now to six, would therefore denote eleven ounces. To express the simpler fractions of an ounce, three very short bars are annexed behind the rest; a bead on the one marked S or 3, the contraction for Semissis, denoting half an ounce; a bead on the other, which is marked by the inverted 3, the contraction for Sicilicum, signifying the quarter of an ounce ; and a bead on the last very short bar, marked 2, a contraction for the symbol ^ or Bince Sextulce, intimating a duella or two-sixths, that is, the third part of an ounce. The second form of the abacus differs in no essential respect from the first, the grooves only supplying the place of parallel wires. We should observe that the Romans applied the same word abacus, to signify an article of luxurious furniture, resembling in shape the arithmetical board, but often highly ornamental, and destined for a very different purpose,—the relaxation and the amusement of the opulent. It was used in a game apparently similar to that of chess, which displayed a lively image of the struggles and vicissitudes of war. The infamous and abandoned Nero took particular delight in this sort of play, and drove along the surface of the abacus with a beautiful quadriga, or chariot of ivory. The civil arts of Rome were communicated to other nations by the tide of victory, and maintained through the vigour and firmness of her imperial sway. But the simpler and more useful improvements survived the wreck of empire, among the various people again restored by fortune to their barbarous independence. In all transactions wherein money was concerned, it was found convenient to follow the procedure of the Abacus, in representing numbers by counters placed in parallel rows. During the middle ages, it became the usual practice over Europe for merchants, auditors of accounts, or judges appointed to decide in matters of revenue, to appear on a covered bank or bench, so called, from an old Saxon or Franconian word, signifying a seat. Hence those terms were afterwards appropriated to offices for receiving pledges, chambers for the accommodation of money-dealers, or courts for the trying of questions respecting property or the claims of the Crown. Hence also the word bankrupt, which occurs in all the dialects of Europe. The term scaccarium, from which was derived the French, and thence the English name for the Exchequer, anciently signified merely a chess-board, being formed from scaccum, denoting one of the movable pieces in that intricate game. The reason of this application of the term is sufficiently obvious. The table for accounts was, to facilitate the calculations, always covered with a cloth, resembling the surface of the scaccarium or abacus, and distinguished by perpendicular and chequered lines. The learned Skene was therefore mistaken in supposing that the Exchequer C U S. 7 derived its name from the play of chess, because its Abacus, suitors appear to sight a keen and dubious battle. 1 The Court of Exchequer, which takes cognizance of all Exchequer questions of revenue, was introduced into England by the Board, and Norman conquest. Richard Fitznigel, in a treatise or other Condialogue on the subject, written about the middle of the trivan ces. twelfth century, says that the scaccarium was a quadrangular table about ten feet long and five feet broad, with a ledge or border about four inches high, to prevent any thing from rolling over, and was surrounded on all sides by seats for the judges, the tellers, and other officers. It was covered every year, after the term of Easter, with fresh black cloth, divided by perpendicular white lines, or distinctures, at intervals of about a foot or a palm, and again parted by similar transverse lines. In reckoning, they proceeded, he says, according to the rules of arithmetic, 2 using small coins for counters. The lowest bar exhibited pence, the one above it shillings, the next pounds; and the higher bars denoted successively tens, twenties, hundreds, thousands, and ten thousands of pounds; though, in those early times of penury and severe economy, it very seldom happened that so large a sum as the last ever came to be reckoned. The first bar, therefore, advanced by dozens, the second and third by scores, and the rest of the stock of bars by the multiples of ten. The teller sat about the middle of the table ; on his right hand eleven pennies were heaped on the first bar, and a pile of nineteen shillings on the second; while a quantity of pounds was collected opposite to him, on the third bar. For the sake of expedition, he might employ a different mark to represent half the value of any bar, a silver penny for ten shillings, and‘a gold penny for ten pounds. In early times, a chequered board, the emblem of calculation, was hung out, to indicate an office for changing money. It was afterwards adopted as the sign of an inn or hostelry, where victuals were sold, or strangers lodged and entertained. We may perceive traces of that ancient practice existing even at present. It is customary in London, and in some provincial towns, to have a chequer, diced with red and white, painted against the sides of the door of a chop-house. The use of the smaller abacus in assisting numerical computation was not unknown during the middle ages. In England, however, it appears to have scarcely entered into actual practice, being mostly confined to those “ slender clerks” who, in such a benighted period, passed for men of science and learning. The calculator was styled, in correct Latinity, abacista; but, in the Italian dialect, abbachista, or abbachiere. A different name came afterwards to be imposed. The Arabians, who, under the appellation of Saracens or Moors, conquered Spain, and enriched that insulated country by commendable industry and skill, had likewise introduced their mathematical science. Having adopted a most refined species of numeration, to which they gave the barbarous name of algarismus, algorismus, or algorithmus, from the definite article al, and the Greek word or number, this compound term was adopted by the Christians of the West, in their admiration of superior skill, to signify calculation in general, long before the peculiar mode had become known and practised among them. The term algarism was corrupted in English into augrim or awgrym, as printed by Wynkyn 1 “ Because mony persons conveenis in tbe Checker to playe their causes, contrare uthers, as gif thev were fechtand in an arraved battell, quilk is the forme and ordour of the said playe.” (SKENE, ad voc. Scaccarium.) * He calfs it Arismetica: In the Myrrourof the Worlde, printed by Caxton, in 1481, it is strangely named Ars Metrike a proof of the total ignorance of Greek at that period in England.Abacus, de Worde, at the end of the fifteenth century; and applied even to the pebbles or counters used in ordinary calculation. In confirmation of this remark, we shall not scruple to quote a passage from our ancient poet Chaucer, who flourished about a century before, and whose verses, however rude, are sometimes highly graphic. This clerk was cleped bendy Nicholas; Of derne love he coude and of solas; And therto he was slie and ful prive. And like a maiden meke for to se. A chambre had he in that hostelrie Alone, withouten any compagnie, Ful fetisly ydighfc with herbes sote, And he himself was swete as is the rote Of licoris, or any setewale. His almageste, and bokes gret and smale, His astrelabre, longing for his art, His augrim stones, layen faire apart On shelves couched at his beddcs hed. His presse ycovered with a falding red. And all above ther lay a gay sautrie, On which he made on nightes melodie, So swetely, that all the chambre rong : And Angelus ad virginem he song. And after that he song the kinge’s note; Ful often blessed was his mery throte. The Milleres Tale, v. 13-32. The abacus, with its store of counters, wanted the valuable property of being portable, and was at all times evidently a clumsy and most incommodious implement of calculation. In many cases, it became quite indispensable to adopt some sure and ready method of expressing at Bigital Nu-least the lower numbers. The ancients employed the meration. variously combined inflections of the fingers on both hands to signify the numerical series, and on this narrow basis they framed a system of considerable extent. In allusion to the very ancient practice of numbering by the arbitrary play of the fingers, Orontes, the son-in-law of Artaxerxes, having incurred the weighty displeasure of that monarch, is reported by Plutarch to have exclaimed in terms exactly of the same import as those before ascribed to Solon, that “ the favourites of kings resemble the fingers of the arithmetician, being sometimes at the top and sometimes at the bottom of the scale, and are equivalent at one time to ten thousand, and at another to mere units;’ 1 Among the Romans likewise, the allusions to the mode of expressing numbers by the varied inflection of the fingers, are very frequent. Hence the classical expressions, computare digitis, and numerare per digitos; and hence the line of Ausonius, Quot ter luctatus cum pollice computat index. In this play of the fingers great dexterity was acquired ; and hence the phrase which so frequently occurs in the Classics—micare digitis. It was customary to begin with the left hand, and thence proceed to the right hand, on which the different combined inflections indicated exactly one hundred times more. Hence the peculiar force of this passage from Juvenal: Rex Pylius, magno si quicquam credis Homero, Exemplum vitae suit a cornice secundae ; Felix nimirum, qui tot per saecula mortem Distulit, atque sups jam dextra computat annos. Sat. x. 246-249. Many such allusions to the mode of indicating numbers by the varied position of the fingers or the hands, occur in the writings of Cicero and Quintilian. The ancients, indeed, for want of better instruments, were tempted to Abacus, push that curious art to a very great extent. By a single inflection of the fingers of the left hand, they proceeded as far as ten ; and by combining another inflection with it, they could advance to an hundred. The same signs on the right hand, being augmented, as we have seen, an hundredfold, carried them as far as ten thousand ; and by a further combination, those signs, being referred successively to different parts of the body, were again multiplied an hundred times, and therefore extended to a million. This kind of pantomime outlived the subversion of the Roman empire, and was particularly fitted for the slothful religious orders who fattened on its ruins, and, relinquishing every manly pursuit, recommended silence as a virtue, or enjoined it as an obligation. Our venerable Bede has explained the practice of manual numeration at some length ; and we have given (see Plate ARITHMETIC) a small specimen of such inflections and digital signs. These signs were merely fugitive, and it became necessary to adopt other marks, of a permanent nature, for the purpose of recording numbers. But of all the contrivances adopted with this view, the rudest undoubtedly is the method of registering by tallies, introduced into England along with the Court of Exchequer, as another badge of the Norman conquest. These consist of straight wellseasoned sticks, of hazel or willow, so called from the French verb tailler, to cut, because they are squared at each end. The sum of money was marked on the side with notches, by the cutter of tallies, and likewise inscribed on both sides in Roman characters, by the writer of the tallies. The smallest notch signified a penny, a larger one a shilling, and one still larger a pound; but other notches, increasing successively in breadth, were made to denote ten, a hundred, and a thousand. The stick was then cleft through the middle by the deputy-chamberlains, with a knife and a mallet; the one portion being called the tally, or sometimes the scachia, stipes, or kancia ; and the other portion named the countertally, or folium. After the union with Scotland had been concluded in 1707, a store of hazel rods for tallies was sent down to Edinburgh, being intended, no doubt, as a mighty refinement on the Scottish mode of keeping accounts. Their advantages, however, were not perceived or acknowledged, and they have since been suffered, we believe, to lie as so much useless lumber. But the case is very different in England, where a blind ant Wslavish attachment to ancient forms, however ridiculous they may through time have become, is almost constantly opposed to the general progress of society. Were a sensible traveller from India or China to visit our metropolis, and report, on his return home, that a nation highly polished, enlightened, and opulent, yet keep their accounts of the public revenue, surpassing annually many millions of pounds, by means of notches cut on willow rods,—he would certainly not be credited, but supposed to use the licence of substituting a description of the practice of the most savage tribes of the American Continent. The Chinese have, from the remotest ages, used in all Chinese their calculations, an instrument called the Swan-Pan, or Swan-Pan. Computing Table, similar in its shape and construction to the abacus of the Romans, but more complete and uniform. It consists of a small oblong board surroqnded by a high ledge, and parted lengthwise near the top by another ledge. It is then divided vertically by ten smooth and slender rods of bamboo, on which are strung two 1 Ka Sacrep o! ror; AAKTTAOI m ytv MTPIAAA2, h MONAAA r.Qtm, bumnu,. TO auro xa/ tpi Aoug, m [Xiv ro nav ovvaedou, m be rovAa^isrov. (PLUT. Apophthegm.)small balls of ivory or bone in the upper compartment, and five such balls in the lower and larger compartment; each of the latter on the several bars denoting unit, and each of the former, for the sake of abbreviation, expressing five. See Plate (ARITHMETIC), where the balls are actually set to signify the numbers annexed. The system of measures, weights, and coins, which prevails throughout the Chinese empire, being entirely founded on the decimal subdivision, the swan-pan was admirably suited for representing it. could begin at any particular bar, and reckon with the same facility either upwards or downwards. This advantage of treating fractions exactly like integers was, in practice, of the utmost consequence. Accordingly, those arithmetical machines, but of very different sizes, are constantly used in all the shops and booths of Canton other cities, and are said to be handled by the native with such rapidity and address as quite astonish But the Chinese have also contrived a very neat and kind of digital signs for denoting numbers, greatly both in precision and extent, to the method by the Romans. Since every finger has three let the thumb-nail of the other hand touch those in succession, passing up the one side of the finger, the middle, and again up the other side, and it will nine different marks, applicable to the Denary Scale arrangement. On the little finger those marks signify on the next finger tens, on the mid-finger hundreds, the index thousands, and on the thumb hundred thou With the combined positions of the joints of the hand, therefore, it was easy to advance by signs as as a million. To illustrate more fully this ingenious we have, immediately below the koua of the Fou-hi, copied (See PLATE), from a Chinese treatise of education, the figure of a hand, at the several joints of each finger, by characters the inside, corresponding to one, two, and three, the middle by those answering \\.o four, five, and six, again up the outside by characters expressing seven, and nine. It is said that the merchants in China are to conclude bargains with each other by help those signs; and that often, from selfish or fraudulent they conceal the pantomime from the knowledge by-standers, by only seeming to seize the hand withPythagoricus, the common multiplication table, called from its being invented by Pythagoras.Major, in metallurgic operations, the name of trough used in the mines, wherein the ore is washed. https://w3id.org/eb/i/Volume/9910796273804340_192984259 Encyclopaedia Britannica\n",
      "----\n"
     ]
    }
   ],
   "source": [
    "q7 = prepareQuery('''\n",
    "  SELECT  ?Subject ?Definition ?HasPart ?Title WHERE {\n",
    "    ?Subject eb:name ?Term.\n",
    "    ?Subject eb:definition ?Definition.\n",
    "    ?HasPart eb:hasPart ?Subject.\n",
    "    ?HasPart eb:title ?Title\n",
    "  }  \n",
    "  ''',\n",
    "  initNs = { \"eb\": eb}\n",
    ")\n",
    "\n",
    "for r in g.query(q7, initBindings = {'?Term' : Literal('ABACUS', datatype=XSD.string)}):\n",
    "  print(r.Subject, r.Definition, r.HasPart, r.Title)\n",
    "  print(\"----\")\n",
    "\n"
   ]
  },
  {
   "cell_type": "code",
   "execution_count": 22,
   "metadata": {},
   "outputs": [
    {
     "name": "stdout",
     "output_type": "stream",
     "text": [
      "https://w3id.org/eb/i/Article/9910796253804340_192547781_ABACUS_0 https://w3id.org/eb/i/Article/9910796253804340_192200322_CHINESE_0\n",
      "----\n",
      "https://w3id.org/eb/i/Article/9910796253804340_192547781_ABACUS_1 https://w3id.org/eb/i/Article/9910796253804340_192200322_CHINESE_0\n",
      "----\n",
      "https://w3id.org/eb/i/Article/9910796253804340_192547781_ABACUS_2 https://w3id.org/eb/i/Article/9910796253804340_192200322_CHINESE_0\n",
      "----\n",
      "https://w3id.org/eb/i/Article/992277653804341_144133901_ABACUS_0 https://w3id.org/eb/i/Article/992277653804341_144133901_ABACISCUS_0\n",
      "----\n",
      "https://w3id.org/eb/i/Article/992277653804341_144133901_ABACUS_2 https://w3id.org/eb/i/Article/992277653804341_144133901_ABACISCUS_0\n",
      "----\n",
      "https://w3id.org/eb/i/Article/992277653804341_144133901_ABACUS_3 https://w3id.org/eb/i/Article/992277653804341_144133901_ABACISCUS_0\n",
      "----\n",
      "https://w3id.org/eb/i/Article/9929192893804340_144850366_ABACUS_0 https://w3id.org/eb/i/Article/9929192893804340_144850366_ABACISCUS_0\n",
      "----\n",
      "https://w3id.org/eb/i/Article/9929192893804340_144850366_ABACUS_2 https://w3id.org/eb/i/Article/9929192893804340_144850366_ABACISCUS_0\n",
      "----\n",
      "https://w3id.org/eb/i/Article/9929192893804340_144850366_ABACUS_3 https://w3id.org/eb/i/Article/9929192893804340_144850366_ABACISCUS_0\n",
      "----\n",
      "https://w3id.org/eb/i/Article/997902523804341_144850370_ABACUS_0 https://w3id.org/eb/i/Article/997902523804341_144850370_EGE_0\n",
      "----\n",
      "https://w3id.org/eb/i/Article/997902523804341_144850370_ABACUS_1 https://w3id.org/eb/i/Article/997902523804341_144850370_EGE_0\n",
      "----\n",
      "https://w3id.org/eb/i/Article/9910796253804340_192547781_ABACUS_3 https://w3id.org/eb/i/Article/9910796253804340_192200322_CHINESE_0\n",
      "----\n",
      "https://w3id.org/eb/i/Article/9910796273804340_192547789_ABACUS_0 https://w3id.org/eb/i/Article/9910796273804340_193819045_SWANPAN_0\n",
      "----\n",
      "https://w3id.org/eb/i/Article/9910796273804340_192547789_ABACUS_0 https://w3id.org/eb/i/Topic/9910796273804340_193108323_LESLIE_0\n",
      "----\n",
      "https://w3id.org/eb/i/Article/9910796273804340_192984259_ABACUS_0 https://w3id.org/eb/i/Article/9910796273804340_193819045_SWANPAN_0\n",
      "----\n",
      "https://w3id.org/eb/i/Article/9910796273804340_192984259_ABACUS_0 https://w3id.org/eb/i/Topic/9910796273804340_193108323_LESLIE_0\n",
      "----\n",
      "https://w3id.org/eb/i/Article/992277653804341_144133901_ABACUS_1 https://w3id.org/eb/i/Article/992277653804341_144133901_ABACISCUS_0\n",
      "----\n",
      "https://w3id.org/eb/i/Article/9929192893804340_144850366_ABACUS_1 https://w3id.org/eb/i/Article/9929192893804340_144850366_ABACISCUS_0\n",
      "----\n",
      "https://w3id.org/eb/i/Article/9910796273804340_192984259_ABACUS_1 https://w3id.org/eb/i/Article/9910796273804340_193819045_SWANPAN_0\n",
      "----\n",
      "https://w3id.org/eb/i/Article/9910796273804340_192984259_ABACUS_1 https://w3id.org/eb/i/Topic/9910796273804340_193108323_LESLIE_0\n",
      "----\n",
      "https://w3id.org/eb/i/Article/9910796273804340_192984259_ABACUS_3 https://w3id.org/eb/i/Article/9910796273804340_193819045_SWANPAN_0\n",
      "----\n",
      "https://w3id.org/eb/i/Article/9910796273804340_192984259_ABACUS_3 https://w3id.org/eb/i/Topic/9910796273804340_193108323_LESLIE_0\n",
      "----\n",
      "https://w3id.org/eb/i/Article/9922270543804340_192016229_ABACUS_0 https://w3id.org/eb/i/Article/9922270543804340_191678899_SWANPAN_0\n",
      "----\n",
      "https://w3id.org/eb/i/Article/9922270543804340_192016229_ABACUS_0 https://w3id.org/eb/i/Article/9922270543804340_192016229_JEGIAS_0\n",
      "----\n",
      "https://w3id.org/eb/i/Article/9922270543804340_192016229_ABACUS_0 https://w3id.org/eb/i/Article/9922270543804340_192984255_CHINESE_0\n",
      "----\n",
      "https://w3id.org/eb/i/Article/9922270543804340_192016229_ABACUS_1 https://w3id.org/eb/i/Article/9922270543804340_191678899_SWANPAN_0\n",
      "----\n",
      "https://w3id.org/eb/i/Article/9922270543804340_192016229_ABACUS_1 https://w3id.org/eb/i/Article/9922270543804340_192016229_JEGIAS_0\n",
      "----\n",
      "https://w3id.org/eb/i/Article/9922270543804340_192016229_ABACUS_1 https://w3id.org/eb/i/Article/9922270543804340_192984255_CHINESE_0\n",
      "----\n",
      "https://w3id.org/eb/i/Topic/9910796273804340_192984259_ABACUS_2 https://w3id.org/eb/i/Article/9910796273804340_193819045_SWANPAN_0\n",
      "----\n",
      "https://w3id.org/eb/i/Topic/9910796273804340_192984259_ABACUS_2 https://w3id.org/eb/i/Topic/9910796273804340_193108323_LESLIE_0\n",
      "----\n"
     ]
    }
   ],
   "source": [
    "q7 = prepareQuery('''\n",
    "  SELECT  ?Subject ?RelatedTerms WHERE {\n",
    "    ?Subject eb:name ?Term.\n",
    "    ?RelatedTerms eb:relatedTerms ?Subject.\n",
    "\n",
    "    \n",
    "  }  \n",
    "  ''',\n",
    "  initNs = { \"eb\": eb}\n",
    ")\n",
    "\n",
    "for r in g.query(q7, initBindings = {'?Term' : Literal('ABACUS', datatype=XSD.string)}):\n",
    "  print(r.Subject, r.RelatedTerms)\n",
    "  print(\"----\")\n"
   ]
  },
  {
   "cell_type": "code",
   "execution_count": 23,
   "metadata": {},
   "outputs": [],
   "source": [
    "#G = rdflib_to_networkx_multidigraph(result)\n",
    "\n",
    "# Plot Networkx instance of RDF Graph\n",
    "#pos = nx.spring_layout(G, scale=2)\n",
    "#edge_labels = nx.get_edge_attributes(G, 'r')\n",
    "#nx.draw_networkx_edge_labels(G, pos, edge_labels=edge_labels)\n",
    "#nx.draw(G, with_labels=True)\n",
    "\n",
    "#if not in interactive mode for \n",
    "#plt.show()\n"
   ]
  },
  {
   "cell_type": "markdown",
   "metadata": {},
   "source": [
    "### Type 2: Connecting with FUSEKI and using SPARQLWrapper"
   ]
  },
  {
   "cell_type": "markdown",
   "metadata": {},
   "source": [
    "#### 3.1 Basic query"
   ]
  },
  {
   "cell_type": "code",
   "execution_count": null,
   "metadata": {},
   "outputs": [],
   "source": [
    "sparql = SPARQLWrapper(\"http://localhost:3030/edition1st/sparql\")\n",
    "sparql.setQuery(\"\"\"\n",
    "    SELECT ?subject ?predicate ?object WHERE {   ?subject ?predicate ?object } LIMIT 5 \n",
    "\"\"\")\n",
    "sparql.setReturnFormat(JSON)\n",
    "results = sparql.query().convert()\n",
    "\n",
    "results\n",
    "\n",
    "for result in results[\"results\"][\"bindings\"]:\n",
    "    print(result[\"subject\"][\"value\"], result[\"predicate\"][\"value\"], result[\"object\"][\"value\"] )\n"
   ]
  },
  {
   "cell_type": "markdown",
   "metadata": {},
   "source": [
    "#### 3.2 Describe query"
   ]
  },
  {
   "cell_type": "code",
   "execution_count": null,
   "metadata": {},
   "outputs": [],
   "source": [
    "sparql = SPARQLWrapper(\"http://localhost:3030/edition1st/sparql\")\n",
    "sparql.setQuery(\"\"\"\n",
    "    DESCRIBE <https://w3id.org/eb/i/Article/9929192893804340_144850368_PAISLEY_0>\n",
    "\"\"\")\n",
    "\n",
    "sparql.setReturnFormat(JSON)\n",
    "results = sparql.query().convert()\n"
   ]
  },
  {
   "cell_type": "markdown",
   "metadata": {},
   "source": [
    "##### 3.2.1 Plot Describe Result Graph "
   ]
  },
  {
   "cell_type": "code",
   "execution_count": null,
   "metadata": {},
   "outputs": [],
   "source": [
    "\n",
    "plot_resource(results)"
   ]
  },
  {
   "cell_type": "code",
   "execution_count": null,
   "metadata": {},
   "outputs": [],
   "source": []
  },
  {
   "cell_type": "markdown",
   "metadata": {},
   "source": [
    "##### 3.2.1 Print Describe Result Graph "
   ]
  },
  {
   "cell_type": "code",
   "execution_count": null,
   "metadata": {},
   "outputs": [],
   "source": [
    "for s,p,o in results:\n",
    "      print(s,p,o)"
   ]
  },
  {
   "cell_type": "code",
   "execution_count": 78,
   "metadata": {},
   "outputs": [],
   "source": [
    "sparql = SPARQLWrapper(\"http://localhost:3030/edition1st/sparql\")\n",
    "term=\"ABACUS\"\n",
    "query=\"\"\"\n",
    "    PREFIX eb: <https://w3id.org/eb#>\n",
    "    SELECT ?definition ?article ?spnum ?epnum ?year ?vnum ?enum ?rn ?permanentURL WHERE {\n",
    "       ?article a eb:Article ;\n",
    "                eb:name \"%s\" ;\n",
    "                eb:definition ?definition ;\n",
    "        OPTIONAL {?article eb:relatedTerms ?rt. \n",
    "                  ?rt eb:name ?rn. }\n",
    "       ?e eb:hasPart ?v.\n",
    "       ?v eb:number ?vnum.\n",
    "       ?v eb:permanentURL ?permanentURL.\n",
    "       ?v eb:hasPart ?article.\n",
    "       ?e eb:publicationYear ?year.\n",
    "       ?e eb:number ?enum.\n",
    "       ?article eb:startsAtPage ?sp.\n",
    "       ?sp   eb:number ?spnum .\n",
    "       ?article eb:endsAtPage ?ep.\n",
    "       ?ep eb:number ?epnum .\n",
    "               \n",
    "       }\n",
    "    \"\"\" % (term)\n",
    "sparql.setQuery(query)\n",
    "sparql.setReturnFormat(JSON)\n",
    "results = sparql.query().convert()\n",
    "for r in results[\"results\"][\"bindings\"]:\n",
    "    print(r)\n",
    "    break "
   ]
  },
  {
   "cell_type": "code",
   "execution_count": 87,
   "metadata": {},
   "outputs": [
    {
     "name": "stdout",
     "output_type": "stream",
     "text": [
      "ABACUS\n",
      "in architeflure, signifies the superior part or member of the capital of a column, and serves as a kind of crowning to both. It was originally intended to represent a square tile covering a basket. The form of the abacus is not the same in all orders: in the Tuscan, Doric, and Ionic, it‘is generally square; but in the Corinthian and Compofite, its four sides are arched ir Avards, and embellilhed in the middle withornament, as a rose or other flower, Scammozzi uses abacus for a concave moulding on the capital of the Tuscan pedefial; and Palladio calls the plinth above the echinus, or boultin, in the Tufean and Doric orders, by the same name. See plate I. fig. i. and\n",
      "ABACUS\n",
      "a table strewed over with dust or sand, upon which the ancient mathematicians drew their figures, It also signified a cupboard, or buffet.\n",
      "ABACUS\n",
      "in architedture, signifies the superior part or member of the capital of a column, and serves as a kind of crowning to both. It was originally intended to represent a square tile covering a basket. The form of the abacus is not the same in all orders: in the Tuscan, Doric, and Ionic, it is generally square; biit in the Corinthian and Compofite, its four sides are arched inwards, and embellilhed in the middle withornament, as a rose or other flower. Scammozzi uses abacus for a concave moulding on the capital of the Tuscan pedestal; and Palladio calls the plinth above the echinus, or boultin, in the Tuscan and Doric orders, by the same name. See plate I. fig. I. and\n",
      "ABACUS\n",
      "is also the name of an ancient inllrument for facilitating operations in arithmetic. It is variously contrived. That chiefly used in Europe is made by drawing any number of parallel lines at the difiance of two diameters of one of the counters used in the calculation. A counter placed on the lowest line, fignifics i; on the 2d, 10; on the 3d, 100; on the 4th, 1000, &c. In the intermediate spaces, the same counters are efiimated at one half of the value of the line immediately superior, viz. between the ist and 2d, 5 ; between the 2d and 3d, 50, &c. See plate I. fig. 2. A B, where the same number, 1768 for example, is represented under both by different dispositions of the counters.\n",
      "ABACUS\n",
      "a table strewed over with dust or sand, upon v/hich the ancient mathematicians drew their figures. It also signified a cupboard, or buffet.\n",
      "ABACUS\n",
      "is also the name of an ancient instrument for facilitating operations in arithmetic. It is vadoully contrived. That chiefly used in Europe is made by drawing any number of parallel lines at the di(lance of two diameters of one of the counters used in the calculation. A counter placed on.the lowed line, signifies r; on the sd, 10; on the 3d, 100; on the 4th, 1000, &c. In the intermediate spaces, the same counters are eflimated at one Jialf of the value of the line immediately superior, viz. between the id and 2d, 5; between the 2d and 3d, 50, &c. See plate I. fig. 2. A B, where the same number, 1768 for example, is represented under both by different dispositions of the counters.\n",
      "ABACUS\n",
      "logijlicus, a right-angled triangle, whose sides forming the right angle contain the numbers from 1 to 60, and its area the fafta of every two of the numbers perpendicularly opposite. This is also called a canon Jk^&cus Pythagvricus, the multiplication-table, or any table of numbers that facilitates operations in arith-\n",
      "ABACUS\n",
      "Pythagoricus, the multiplication-table, or any table of numbers that facilitates operations in arith-\n"
     ]
    }
   ],
   "source": [
    "sparql = SPARQLWrapper(\"http://localhost:3030/edition1st/sparql\")\n",
    "term=\"ABACUS\"\n",
    "query=\"\"\"\n",
    "PREFIX eb: <https://w3id.org/eb#>\n",
    "PREFIX rdfs: <http://www.w3.org/2000/01/rdf-schema#>\n",
    "SELECT ?definition ?a ?b  ?spnum ?epnum \n",
    "    WHERE {{\n",
    "    \t?b a eb:Article .\n",
    "    \t?b eb:name ?a .\n",
    "        ?b eb:name \"%s\" .\n",
    "        ?b eb:definition ?definition . \n",
    "        OPTIONAL {?b eb:relatedTerms ?rt. \n",
    "                  ?rt eb:name ?rn. }\n",
    "       ?e eb:hasPart ?v.\n",
    "       ?v eb:number ?vnum.\n",
    "       ?v eb:permanentURL ?permanentURL.\n",
    "       ?v eb:hasPart ?b.\n",
    "       ?e eb:publicationYear ?year.\n",
    "       ?e eb:number ?enum.\n",
    "       ?b eb:startsAtPage ?sp.\n",
    "       ?sp   eb:number ?spnum .\n",
    "       ?b eb:endsAtPage ?ep.\n",
    "       ?ep eb:number ?epnum .\n",
    "        \n",
    "        }\n",
    "  \t\tUNION {\n",
    "    \t?b a eb:Topic .\n",
    "    \t?b eb:name ?a .\n",
    "        ?b eb:name \"%s\" .\n",
    "        ?b eb:definition ?definition \n",
    "        \n",
    "        OPTIONAL {?b eb:relatedTerms ?rt. \n",
    "                  ?rt eb:name ?rn. }\n",
    "        \n",
    "        ?e eb:hasPart ?v.\n",
    "        ?v eb:number ?vnum.\n",
    "        ?v eb:permanentURL ?permanentURL.\n",
    "        ?v eb:hasPart ?b.\n",
    "        ?e eb:publicationYear ?year.\n",
    "        ?e eb:number ?enum.\n",
    "        ?b eb:startsAtPage ?sp.\n",
    "        ?sp   eb:number ?spnum .\n",
    "        ?b eb:endsAtPage ?ep.\n",
    "        ?ep eb:number ?epnum .\n",
    "        \n",
    "        }\n",
    "   }\n",
    "\"\"\" %(term, term)\n",
    "sparql.setQuery(query)\n",
    "sparql.setReturnFormat(JSON)\n",
    "results = sparql.query().convert()\n",
    "results = sparql.query().convert()\n",
    "for r in results[\"results\"][\"bindings\"]:\n",
    "    print(r[\"a\"][\"value\"])\n",
    "    print(r[\"definition\"][\"value\"])"
   ]
  },
  {
   "cell_type": "code",
   "execution_count": null,
   "metadata": {},
   "outputs": [],
   "source": [
    "for result in results[\"results\"][\"bindings\"]:\n",
    "    print(\"URI: %s -- Name %s -- Related Term: %s -- Definition %s \" %(result[\"article\"][\"value\"], result[\"name\"][\"value\"], result[\"relatedTerms\"][\"value\"], result[\"definition\"][\"value\"] ))\n",
    "    print(\"----\")"
   ]
  },
  {
   "cell_type": "code",
   "execution_count": null,
   "metadata": {},
   "outputs": [],
   "source": [
    "sparql = SPARQLWrapper(\"http://localhost:3030/edition1st/sparql\")\n",
    "sparql.setQuery(\"\"\"\n",
    "    PREFIX eb: <https://w3id.org/eb#>\n",
    "       SELECT * WHERE {\n",
    "       ?article a eb:Article .\n",
    "       ?article eb:relatedTerms ?relatedTerms . \n",
    "       ?article eb:name ?name .\n",
    "       ?article eb:definition ?definition.\n",
    "  \t   FILTER regex(?name, \"^ABACISCUS\") \n",
    "    }\n",
    "\"\"\")\n",
    "sparql.setReturnFormat(JSON)\n",
    "results = sparql.query().convert()\n",
    "for result in results[\"results\"][\"bindings\"]:\n",
    "    print(\"URI: %s -- Name %s -- Related Term: %s -- Definition %s \" %(result[\"article\"][\"value\"], result[\"name\"][\"value\"], result[\"relatedTerms\"][\"value\"], result[\"definition\"][\"value\"] ))\n",
    "    print(\"----\")"
   ]
  },
  {
   "cell_type": "code",
   "execution_count": 65,
   "metadata": {},
   "outputs": [
    {
     "name": "stdout",
     "output_type": "stream",
     "text": [
      "URI: https://w3id.org/eb/i/Article/992277653804341_144133901_ABACISCUS_0 -- Name ABACISCUS \n",
      "----\n",
      "URI: https://w3id.org/eb/i/Article/9929192893804340_144850366_ABACISCUS_0 -- Name ABACISCUS \n",
      "----\n"
     ]
    }
   ],
   "source": [
    "sparql = SPARQLWrapper(\"http://localhost:3030/edition1st/sparql\")\n",
    "sparql.setQuery(\"\"\"\n",
    "PREFIX eb: <https://w3id.org/eb#>\n",
    "SELECT * WHERE {\n",
    "       ?article a eb:Article .\n",
    "       ?article eb:name ?name .\n",
    "       FILTER regex(?name, \"^ABACISCUS\")\n",
    "    }\n",
    "    ORDER BY ?name\n",
    "    LIMIT 10\n",
    "\"\"\")\n",
    "sparql.setReturnFormat(JSON)\n",
    "results = sparql.query().convert()\n",
    "for result in results[\"results\"][\"bindings\"]:\n",
    "    print(\"URI: %s -- Name %s \" %(result[\"article\"][\"value\"], result[\"name\"][\"value\"]))\n",
    "    print(\"----\")"
   ]
  },
  {
   "cell_type": "code",
   "execution_count": null,
   "metadata": {},
   "outputs": [],
   "source": [
    "sparql = SPARQLWrapper(\"http://localhost:3030/edition1st/sparql\")\n",
    "sparql.setQuery(\"\"\"\n",
    "    DESCRIBE <https://w3id.org/eb/i/Article/992277653804341_144133901_ABACUS_0>\n",
    "\"\"\")\n",
    "\n",
    "sparql.setReturnFormat(JSON)\n",
    "results = sparql.query().convert()\n",
    "plot_resource(results)"
   ]
  },
  {
   "cell_type": "code",
   "execution_count": null,
   "metadata": {},
   "outputs": [],
   "source": [
    "sparql = SPARQLWrapper(\"http://localhost:3030/edition1st/sparql\")\n",
    "sparql.setQuery(\"\"\"\n",
    "    PREFIX eb: <https://w3id.org/eb#>\n",
    "    SELECT ?year WHERE {\n",
    "       ?edition a eb:Edition .\n",
    "       ?edition eb:publicationYear ?year \n",
    "    }\n",
    "\n",
    "\"\"\")\n",
    "sparql.setReturnFormat(JSON)\n",
    "results = sparql.query().convert()"
   ]
  },
  {
   "cell_type": "code",
   "execution_count": null,
   "metadata": {},
   "outputs": [],
   "source": [
    "results[\"results\"][\"bindings\"][0][\"year\"][\"value\"]\n"
   ]
  },
  {
   "cell_type": "code",
   "execution_count": null,
   "metadata": {},
   "outputs": [],
   "source": [
    "sparql = SPARQLWrapper(\"http://localhost:3030/edition1st/sparql\")\n",
    "sparql.setQuery(\"\"\"\n",
    "         PREFIX eb: <https://w3id.org/eb#>\n",
    "         SELECT DISTINCT ?name\n",
    "         WHERE {\n",
    "         ?instance eb:editor ?Editor.\n",
    "          ?Editor eb:name ?name .\n",
    "       }\n",
    "      \n",
    "    \"\"\")\n",
    "sparql.setReturnFormat(JSON)\n",
    "results = sparql.query().convert()\n",
    "results[\"results\"][\"bindings\"][0][\"name\"][\"value\"]"
   ]
  },
  {
   "cell_type": "code",
   "execution_count": null,
   "metadata": {},
   "outputs": [],
   "source": [
    "sparql = SPARQLWrapper(\"http://localhost:3030/edition1st/sparql\")\n",
    "sparql.setQuery(\"\"\"\n",
    "PREFIX eb: <https://w3id.org/eb#>\n",
    "SELECT ?definition WHERE {\n",
    "       ?article a eb:Article .\n",
    "       ?article eb:name ?name .\n",
    "       ?article eb:definition ?definition .\n",
    "       FILTER regex(?name, \"^ABACUS\")\n",
    "    }\n",
    "    LIMIT 1\n",
    "\"\"\")\n",
    "sparql.setReturnFormat(JSON)\n",
    "results = sparql.query().convert()\n",
    "results[\"results\"][\"bindings\"][0][\"definition\"][\"value\"]"
   ]
  },
  {
   "cell_type": "code",
   "execution_count": 103,
   "metadata": {},
   "outputs": [
    {
     "data": {
      "text/plain": [
       "'19771'"
      ]
     },
     "execution_count": 103,
     "metadata": {},
     "output_type": "execute_result"
    }
   ],
   "source": [
    "sparql = SPARQLWrapper(\"http://localhost:3030/edition1st/sparql\")\n",
    "sparql.setQuery(\"\"\"\n",
    "PREFIX eb: <https://w3id.org/eb#>\n",
    "SELECT (COUNT (DISTINCT ?a) as ?count)\n",
    "    WHERE {\n",
    "    \t?a ?b ?d\n",
    "}\n",
    "\"\"\")\n",
    "sparql.setReturnFormat(JSON)\n",
    "results = sparql.query().convert()\n",
    "results[\"results\"][\"bindings\"][0][\"count\"][\"value\"]"
   ]
  },
  {
   "cell_type": "code",
   "execution_count": 104,
   "metadata": {},
   "outputs": [
    {
     "data": {
      "text/plain": [
       "'175586'"
      ]
     },
     "execution_count": 104,
     "metadata": {},
     "output_type": "execute_result"
    }
   ],
   "source": [
    "sparql = SPARQLWrapper(\"http://localhost:3030/edition1st/sparql\")\n",
    "sparql.setQuery(\"\"\"\n",
    "PREFIX eb: <https://w3id.org/eb#>\n",
    "SELECT (COUNT ( ?a) as ?count)\n",
    "    WHERE {\n",
    "    \t?a ?b ?d\n",
    "}\n",
    "\"\"\")\n",
    "sparql.setReturnFormat(JSON)\n",
    "results = sparql.query().convert()\n",
    "results[\"results\"][\"bindings\"][0][\"count\"][\"value\"]"
   ]
  },
  {
   "cell_type": "code",
   "execution_count": 71,
   "metadata": {},
   "outputs": [
    {
     "name": "stdout",
     "output_type": "stream",
     "text": [
      "PAISLEY\n",
      "PRIOR\n",
      "ANTHEM\n",
      "ODYSSEY\n",
      "CONSUMPTION\n",
      "FRATERNITY\n",
      "MATTURANTS\n",
      "BILLET\n",
      "KOS\n",
      "STOCKHOLM\n"
     ]
    }
   ],
   "source": [
    "sparql = SPARQLWrapper(\"http://localhost:3030/edition1st/sparql\")\n",
    "sparql.setQuery(\"\"\"\n",
    "PREFIX eb: <https://w3id.org/eb#>\n",
    "PREFIX rdfs: <http://www.w3.org/2000/01/rdf-schema#>\n",
    "SELECT DISTINCT ?a\n",
    "    WHERE {{\n",
    "    \t?b a eb:Article .\n",
    "    \t?b eb:name ?a}\n",
    "  \t\tUNION {\n",
    "    \t?b a eb:Topic .\n",
    "    \t?b eb:name ?a}\n",
    "}\n",
    "LIMIT 10\n",
    "\"\"\")\n",
    "sparql.setReturnFormat(JSON)\n",
    "results = sparql.query().convert()\n",
    "results = sparql.query().convert()\n",
    "for r in results[\"results\"][\"bindings\"]:\n",
    "    print(r[\"a\"][\"value\"])"
   ]
  },
  {
   "cell_type": "code",
   "execution_count": 133,
   "metadata": {},
   "outputs": [
    {
     "name": "stdout",
     "output_type": "stream",
     "text": [
      "a town of Scotland, in the county of Renfrew, six miles west of Glasgow.\n",
      "----\n",
      "a county of Scotland, lying westward of Glasgow, and comprehending the countries of Lorn, Cowal, Knapdale, Kintyfe, together with the islands Mull, Jura, Ifla, foe. It gives the title of duke to the noble family of Campbell.\n",
      "----\n",
      "a parliament town of Scotland, in the county of Argyle, of which it is the capital, fituatedin Lochhn, forty five miles north-west of Glasgow : W. long. 5 0 , N. lat 36° 28-.\n",
      "----\n",
      "a town of Scotland, in the county of Clydefdale, situated on the river Cl^de, eleven miles south-east of Glasgow : W. long. 3 0 jo', N. lat. 55 0\n",
      "----\n",
      "a town of Scotland, in the county of Renfrew, six miles west of Glasgow.\n",
      "----\n",
      "a parliament town of Scotland, in the county of Argyle, of which it is the capital, fituatedin Lochfn, forty five miles north-west of Glasgow : W. long. 5 0 , N. lat 36° 28' .\n",
      "----\n",
      "a place where great numbers of fifli are The principal fiffieries for salmon, herring, mackrel, pilchards, <bc. are along the coasts of Scotland, England, and Ireland; for cod, 6n the banks of Newfoundland ; for whales,, about Greenland; and for pearls, in the East and West-Indies. Fishery denotes also the commerce of fiffi, more particularly the catching them for sale. Were we to enter into a very minute and particular consideration of fiffieries, as at present established in ,this kingdom, this article would fv Vell beyond its proper bounds ; because to do justice to a fubjedt of that concernment to the Britiffi nation, requires a very ample and diftimft difeuflion.. We shall, however, observe, that since the Divine Providence has so eminently stored the coasts of Great Britain and Ireland with the most valuable fiffi; and since fiffieries, if successful, become permament nurferies for breeding expert seamen: it is not only a duty we owe to the Supreme Being, not to despise the wonderful plenty he hath afforded us, by neglefting to extend this branch of commerce to the utmost; but it is a duty we owe to our country, for its natural security, which depends upon the fti ength. of our royal navy. No nation can have a navy, whereis not a fund of business to breed and employ seamen, without any expence to the public ; and no trade is so well calculated for training up these useful members of this society, as filheries. The situation of the Hiitifh coasts is the most advantageous for catching full in the world: the Scottiih islands, particularly those to the north well, lie mofl: commodious for carrying on the fishing trade to perfection ; for no country in Europe can pretend to come up to Scotland in the abundance of the iineft filh, with which its various creeks, bays, rivers, lakes, and coast are repleniihed. King Charles I. was so ftnfible of the great advantage to be derived fromfifheries, that he began the experiment, together with a company of merchants : but the civil wars soon occahoned that project to be set aside. King Charles II. made a like attempt ; but his pressing wants made him withdraw what money he had employed that way, whereupon the merchants that joined with him did so too. Since the union, several attempts have been made to retrieve the fifheries, and a corporation settled to that effe Ct, entitled the Royal British Fifhery. In the year 1750, the parliament of Great Britain taking the Hate of the fifheries into consideration, an aft was palled for the encouragement of the white-herring filhery, granting a charter, whereby a corporation is created, to continue twenty one years, by the name of the Society of the Free British Filhery, to be under the direction of a governor, president, viceprefldent, council, who are to continue in office the space of three years, with power to make bye-laws, <bc. and to raise .a capital of 500,000!. by way of subscription. And any number of persons, who, in any part' of Great Britain, ffiall fuhfcribe 10,0001. into the flock of this society, under the name of the -Fiffiing Chamber, and carry on the said fiffiery on their own account of profit and loss, ffiall be entitled to the same bounty allowed to the society. The bounty is 30 s. the tun, to be'paid yearly, for fourteen years, beiides 3 per cent, for the money advanced by each chamber. The ad contains other proper regulations relative to the nets, marks on the herring-barrels, number of hands, and the quantity of fait that is entitled to the bounty, <bc. It is then by the encouragement given by this a Ct, that we now see a laudable emulation prevailing all over the two kingdoms, and fiffiing busses fitted out from almost every port, in order to repair to the Shetland islands, where the herring-fifhery is carried on with an ardor becoming so important a branch of trade. Scotland, which suffered incredibly from the negle Ci of this valuable and natural produceof the Teas,\"has not been backward to join in a scheme that tends so evidently to its own advantage ; for the. cities of Edinburgh and Glasgow, the towns of Montrofe, Dundee, Perth, Inverness, and some other boroughs, have raised the proper sum, and chambers have been erefted in each of them; the gentlemen of estates adjoining to the refpeflive places above-mentioned, liberally contributing with merchants, towards the prosecution of an undertaking so vifibiy tending to ihe good of their country in general. Cffi-FisHERY. There are two kinds of cod-fiffi, the one green or white cod, and the other dried or cured cod;though it is all. the same fiffi differently prepared ; the former being sometimes faked and barrelled, then taken out for use; and the latter, having lain fomc competent time in fait, dried in the sun or smoke. We ffiall therefore speak of each of these apart; and first of £?>i' .' ’«-c-«r/-FisHERY. The chief fifheries for green cod are in *ii“ bay of Canada, on the great bank of Newfoundland, and on the ills of St Peter, and the isle of Sable, to which places vessels resort from divers parts both of Europe and America. They are from 100 to 150 tuns burden, and will catch between thirty and forty thousand cod each. The mofl essential part of the fiffiery is, to have a iqafler who knows how to cutup the cod, one who is Hulled to take off the head properly, and above all a good falter, on which the preserving of them, and consequently the success of the voyage, depends. The hest season is from the beginning of February to the end of April; the fiffi, which in the winter retire to the deepefl water, comiflg then on the banks, and fattening extremely. What is caught from March to June keeps well; but those taken in July, August, and September, when it-is warm, on the banks, are apt to spoil soon. Every fiffier sakes but one at a time : the most expert will take from 3 yo to 400 in a day; but that is the most, the weight of the fiffi and the great coldness on the bank fatiguing very much. As soon as the cod are taken, the head is taken off; they are opened, gutted, and falted ; and the falter flows them in the bottom of the hold, head to tail, in beds a fathom or two square; laying layers of fait and fiffi alternately, but never mixing fiffi caught on different days. When they have lain thus three or four days to drain off the water, they are replaced in another part of the ffiip, and falted again ; where they remain till the vessel is loaded. Sometimes they are cut in thick pieces, and put up in barrels for the Dry-cod Fishery. The principal fiffiery for dry cod is, from Cape Rose to the Bay des Exports, along the* coast of Placentia, in which compass there are divers commodious ports for the fiffi to be dried in. These though of the same kind with the freffi cod, are much smaller, and therefore fitter to keep, as the fait penetrates more easily into them. The fiffiery of both is. much alike; only this latter is mofl expensive, as it takes up more time, and employs more hands, and yet scarce half so much fait is fpcnt in this as in the other. The bait is herrings, of which great quantities are\" taken on the coast of Placentia. When several vessels meet and intend to fiffi in the same port, he whose ffialioop first touches ground, becomes entitled to the quality and privileges of admiral: he has the choice of his flation, and the refusal of all the wood on the coast at his arrival. As fast as the masters arrive, they unrig ail their vessels, leaving nothing but the ffirouds to fuitain the mails, and in the mean time the matesprovide a tent on ffiore, covered with branches ot trees, and sails over them, with a fcaffdd of great trunks of pines, twelve, fifteen, sixteen, and\n",
      "----\n",
      "a county of Scotland, lying westward of Glasgow, and comprehending the countries of Lorn, Cowal, Knapdale, Kintyre, together with the islands Mull, Jura, Ista, &C. It gives the tide of duke to the noble family of Campbell.\n",
      "----\n"
     ]
    }
   ],
   "source": [
    "sparql = SPARQLWrapper(\"http://localhost:3030/edition1st/sparql\")\n",
    "sparql.setQuery(\"\"\"\n",
    "PREFIX eb: <https://w3id.org/eb#>\n",
    "PREFIX rdfs: <http://www.w3.org/2000/01/rdf-schema#>\n",
    "SELECT  ?d\n",
    "    WHERE {\n",
    "    \t?b a eb:Article .\n",
    "    \t?b eb:definition ?d\n",
    "        FILTER (CONTAINS(?d, \"Scotland\")) \n",
    "        FILTER (CONTAINS(?d, \"Glasgow\")) \n",
    "        OPTIONAL{FILTER CONTAINS(?d, \"Mull\") }\n",
    "} LIMIT 10\n",
    "\n",
    "\"\"\")\n",
    "sparql.setReturnFormat(JSON)\n",
    "results = sparql.query().convert()\n",
    "results = sparql.query().convert()\n",
    "for r in results[\"results\"][\"bindings\"]:\n",
    "    print(r[\"d\"][\"value\"])\n",
    "    print(\"----\")"
   ]
  },
  {
   "cell_type": "code",
   "execution_count": null,
   "metadata": {},
   "outputs": [],
   "source": [
    "sparql = SPARQLWrapper(\"http://localhost:3030/edition1st/sparql\")\n",
    "sparql.setQuery(\"\"\"\n",
    "PREFIX eb: <https://w3id.org/eb#>\n",
    "SELECT ?definition ?y WHERE {\n",
    "       ?article a eb:Article ;\n",
    "                eb:name \"PAISLEY\" ;\n",
    "                eb:definition ?definition .\n",
    "       ?e eb:hasPart / eb:hasPart ?article.\n",
    "       ?e eb:publicationYear ?y\n",
    "    }\n",
    "\"\"\")\n",
    "sparql.setReturnFormat(JSON)\n",
    "results = sparql.query().convert()\n",
    "results = sparql.query().convert()\n",
    "for r in results[\"results\"][\"bindings\"]:\n",
    "    print(r[\"definition\"][\"value\"], r[\"y\"][\"value\"])"
   ]
  },
  {
   "cell_type": "code",
   "execution_count": null,
   "metadata": {},
   "outputs": [],
   "source": [
    "sparql = SPARQLWrapper(\"http://localhost:3030/edition1st/sparql\")\n",
    "sparql.setQuery(\"\"\"\n",
    "PREFIX eb: <https://w3id.org/eb#>\n",
    "SELECT ?definition ?y  ?r WHERE {\n",
    "       ?article a eb:Article ;\n",
    "                eb:name \"ABACUS\" ;\n",
    "                eb:definition ?definition ;\n",
    "                OPTIONAL {?article eb:relatedTerms ?r.}\n",
    "       ?e eb:hasPart / eb:hasPart ?article.\n",
    "       ?e eb:publicationYear ?y\n",
    "    }\n",
    "\"\"\")\n",
    "sparql.setReturnFormat(JSON)\n",
    "results = sparql.query().convert()\n",
    "results = sparql.query().convert()\n",
    "for r in results[\"results\"][\"bindings\"]:\n",
    "    print(\"DEF: %s ----|| --- Year: %s \"% (r[\"definition\"][\"value\"], r[\"y\"][\"value\"]))\n",
    "    print(\"---\")"
   ]
  },
  {
   "cell_type": "code",
   "execution_count": null,
   "metadata": {},
   "outputs": [],
   "source": [
    "term=\"ABACUS\"\n",
    "sparql = SPARQLWrapper(\"http://localhost:3030/edition1st/sparql\")\n",
    "sparql.setQuery(\"\"\"\n",
    "PREFIX eb: <https://w3id.org/eb#>\n",
    "SELECT ?definition ?article  ?year WHERE {\n",
    "       ?article a eb:Article .\n",
    "       ?article eb:name \"ABACUS\"  .\n",
    "       ?article eb:definition ?definition .\n",
    "       ?e eb:hasPart / eb:hasPart ?article.\n",
    "       ?e eb:publicationYear ?year\n",
    "\n",
    "    }\n",
    "\"\"\")\n",
    "\n",
    "sparql.setReturnFormat(JSON)\n",
    "results = sparql.query().convert()\n",
    "r=results[\"results\"][\"bindings\"]\n",
    "for i in r:\n",
    "    print(i[\"year\"][\"value\"])"
   ]
  },
  {
   "cell_type": "code",
   "execution_count": null,
   "metadata": {},
   "outputs": [],
   "source": [
    "term=\"ABACUS\"\n",
    "sparql = SPARQLWrapper(\"http://localhost:3030/edition1st/sparql\")\n",
    "query=\"\"\"\n",
    "PREFIX eb: <https://w3id.org/eb#>\n",
    "SELECT ?definition ?article  ?year WHERE {\n",
    "       ?article a eb:Article .\n",
    "       ?article eb:name \"%s\"  .\n",
    "       ?article eb:definition ?definition .\n",
    "       ?e eb:hasPart / eb:hasPart ?article.\n",
    "       ?e eb:publicationYear ?year\n",
    "    }\n",
    "\"\"\" % (term)\n",
    "\n",
    "print(query)\n",
    "sparql.setQuery(query)\n",
    "sparql.setReturnFormat(JSON)\n",
    "results = sparql.query().convert()\n",
    "r=results[\"results\"][\"bindings\"]\n",
    "for i in r:\n",
    "    print(i[\"year\"][\"value\"])"
   ]
  },
  {
   "cell_type": "code",
   "execution_count": null,
   "metadata": {},
   "outputs": [],
   "source": [
    "sparql = SPARQLWrapper(\"http://localhost:3030/edition1st/sparql\")\n",
    "uri=\"<https://w3id.org/eb/i/Edition/992277653804341>\"\n",
    "query=\"\"\"\n",
    "PREFIX eb: <https://w3id.org/eb#>\n",
    "SELECT ?publicationYear ?num ?title ?subtitle ?printedAt ?physicalDescription ?mmsid ?shelfLocator ?numberOfVolumes  WHERE {\n",
    "       %s eb:publicationYear ?publicationYear ;\n",
    "          eb:number ?num;\n",
    "          eb:title ?title;\n",
    "          eb:subtitle ?subtitle ;\n",
    "          eb:printedAt ?printedAt;\n",
    "          eb:physicalDescription ?physicalDescription;\n",
    "          eb:mmsid ?mmsid;\n",
    "          eb:shelfLocator ?shelfLocator;\n",
    "          eb:numberOfVolumes ?numberOfVolumes. \n",
    "          \n",
    "               \n",
    "}\n",
    "\"\"\" % (uri)\n",
    "sparql.setQuery(query)\n",
    "sparql.setReturnFormat(JSON)\n",
    "results = sparql.query().convert()\n",
    "r=results[\"results\"][\"bindings\"]\n",
    "for i in r:\n",
    "    print(i[\"publicationYear\"][\"value\"])"
   ]
  },
  {
   "cell_type": "code",
   "execution_count": 84,
   "metadata": {},
   "outputs": [
    {
     "data": {
      "text/plain": [
       "'3'"
      ]
     },
     "execution_count": 84,
     "metadata": {},
     "output_type": "execute_result"
    }
   ],
   "source": [
    "sparql = SPARQLWrapper(\"http://localhost:3030/edition1st/sparql\")\n",
    "uri=\"<https://w3id.org/eb/i/Edition/992277653804341>\"\n",
    "query=\"\"\"\n",
    "PREFIX eb: <https://w3id.org/eb#>\n",
    "SELECT (COUNT (DISTINCT ?v) as ?count)\n",
    "    WHERE {\n",
    "        %s eb:hasPart ?v.\n",
    "    \t?v ?b ?c\n",
    "}\n",
    "\"\"\" % (uri)\n",
    "sparql.setQuery(query)\n",
    "sparql.setReturnFormat(JSON)\n",
    "results = sparql.query().convert()\n",
    "results[\"results\"][\"bindings\"][0][\"count\"][\"value\"]\n"
   ]
  },
  {
   "cell_type": "code",
   "execution_count": 7,
   "metadata": {},
   "outputs": [
    {
     "name": "stdout",
     "output_type": "stream",
     "text": [
      "\n",
      "PREFIX eb: <https://w3id.org/eb#>\n",
      "SELECT * WHERE {\n",
      "       ?e a eb:Edition .\n",
      "    }\n",
      "\n"
     ]
    },
    {
     "data": {
      "text/plain": [
       "{'head': {'vars': ['e']},\n",
       " 'results': {'bindings': [{'e': {'type': 'uri',\n",
       "     'value': 'https://w3id.org/eb/i/Edition/992277653804341'}},\n",
       "   {'e': {'type': 'uri',\n",
       "     'value': 'https://w3id.org/eb/i/Edition/9929192893804340'}}]}}"
      ]
     },
     "execution_count": 7,
     "metadata": {},
     "output_type": "execute_result"
    }
   ],
   "source": [
    "sparql = SPARQLWrapper(\"http://localhost:3030/edition1st/sparql\")\n",
    "query=\"\"\"\n",
    "PREFIX eb: <https://w3id.org/eb#>\n",
    "SELECT * WHERE {\n",
    "       ?e a eb:Edition .\n",
    "    }\n",
    "\"\"\" \n",
    "\n",
    "print(query)\n",
    "sparql.setQuery(query)\n",
    "sparql.setReturnFormat(JSON)\n",
    "results = sparql.query().convert()\n",
    "results"
   ]
  },
  {
   "cell_type": "code",
   "execution_count": 8,
   "metadata": {},
   "outputs": [
    {
     "data": {
      "text/plain": [
       "{'head': {'vars': ['e']},\n",
       " 'results': {'bindings': [{'e': {'type': 'uri',\n",
       "     'value': 'https://w3id.org/eb/i/Edition/992277653804341'}},\n",
       "   {'e': {'type': 'uri',\n",
       "     'value': 'https://w3id.org/eb/i/Edition/9929192893804340'}}]}}"
      ]
     },
     "execution_count": 8,
     "metadata": {},
     "output_type": "execute_result"
    }
   ],
   "source": [
    "results"
   ]
  },
  {
   "cell_type": "code",
   "execution_count": 4,
   "metadata": {},
   "outputs": [
    {
     "name": "stdout",
     "output_type": "stream",
     "text": [
      "1 https://w3id.org/eb/i/Edition/992277653804341 1771\n",
      "1 https://w3id.org/eb/i/Edition/9929192893804340 1773\n"
     ]
    }
   ],
   "source": [
    "sparql = SPARQLWrapper(\"http://localhost:3030/edition1st/sparql\")\n",
    "sparql.setQuery(\"\"\"\n",
    "PREFIX eb: <https://w3id.org/eb#>\n",
    "SELECT ?enum ?e ?y WHERE {\n",
    "       ?e a eb:Edition ;\n",
    "            eb:number ?enum ;\n",
    "            eb:publicationYear ?y.\n",
    "               \n",
    "    }\n",
    "\"\"\")\n",
    "sparql.setReturnFormat(JSON)\n",
    "results = sparql.query().convert()\n",
    "r=results[\"results\"][\"bindings\"]\n",
    "for i in r:\n",
    "    print(i[\"enum\"][\"value\"], i[\"e\"][\"value\"], i[\"y\"][\"value\"])"
   ]
  },
  {
   "cell_type": "code",
   "execution_count": 16,
   "metadata": {},
   "outputs": [
    {
     "name": "stdout",
     "output_type": "stream",
     "text": [
      "https://w3id.org/eb/i/Volume/992277653804341_144133902 2 C-L\n",
      "https://w3id.org/eb/i/Volume/992277653804341_144133903 3 M-Z\n",
      "https://w3id.org/eb/i/Volume/992277653804341_144133901 1 A-B\n"
     ]
    }
   ],
   "source": [
    "sparql = SPARQLWrapper(\"http://localhost:3030/edition1st/sparql\")\n",
    "uri=\"<https://w3id.org/eb/i/Edition/992277653804341>\"\n",
    "query=\"\"\"\n",
    "PREFIX eb: <https://w3id.org/eb#>\n",
    "SELECT ?v ?vnum ?part ?letters WHERE {\n",
    "       %s eb:hasPart ?v .\n",
    "       ?v eb:number ?vnum ; \n",
    "          eb:letters ?letters .\n",
    "          OPTIONAL {?v eb:part ?part; }\n",
    "     \n",
    "               \n",
    "} \n",
    "\"\"\" % (uri)\n",
    "sparql.setQuery(query)\n",
    "sparql.setReturnFormat(JSON)\n",
    "results = sparql.query().convert()\n",
    "r=results[\"results\"][\"bindings\"]\n",
    "for i in r:\n",
    "    if \"part\" in i:\n",
    "        print(i[\"v\"][\"value\"], i[\"vnum\"][\"value\"],i[\"letters\"][\"value\"], i[\"part\"][\"value\"])\n",
    "    else:\n",
    "        print(i[\"v\"][\"value\"], i[\"vnum\"][\"value\"], i[\"letters\"][\"value\"])"
   ]
  },
  {
   "cell_type": "code",
   "execution_count": 25,
   "metadata": {},
   "outputs": [
    {
     "name": "stdout",
     "output_type": "stream",
     "text": [
      "{'num': {'type': 'literal', 'datatype': 'http://www.w3.org/2001/XMLSchema#integer', 'value': '1'}, 'title': {'type': 'literal', 'value': 'Encyclopaedia Britannica; or, A dictionary of arts and sciences, compiled upon a new plan'}, 'metsXML': {'type': 'literal', 'value': '144133901-mets.xml'}, 'volumeId': {'type': 'literal', 'datatype': 'http://www.w3.org/2001/XMLSchema#int', 'value': '144133901'}, 'permanentURL': {'type': 'literal', 'value': 'https://digital.nls.uk/144133901'}, 'numberOfPages': {'type': 'literal', 'value': '832'}, 'letters': {'type': 'literal', 'value': 'A-B'}}\n"
     ]
    }
   ],
   "source": [
    "sparql = SPARQLWrapper(\"http://localhost:3030/edition1st/sparql\")\n",
    "uri=\"<https://w3id.org/eb/i/Volume/992277653804341_144133901>\"\n",
    "query=\"\"\"\n",
    "PREFIX eb: <https://w3id.org/eb#>\n",
    "SELECT ?num ?title ?part ?metsXML ?volumeId ?permanentURL ?numberOfPages ?letters WHERE {\n",
    "       %s eb:number ?num ;\n",
    "          eb:title ?title;\n",
    "          eb:metsXML ?metsXML;\n",
    "          eb:volumeId ?volumeId;\n",
    "          eb:permanentURL ?permanentURL;\n",
    "          eb:numberOfPages ?numberOfPages;\n",
    "          eb:letters ?letters.\n",
    "       OPTIONAL {%s eb:part ?part. }\n",
    "      \n",
    "               \n",
    "}\n",
    "\"\"\" % (uri, uri)\n",
    "sparql.setQuery(query)\n",
    "sparql.setReturnFormat(JSON)\n",
    "results = sparql.query().convert()\n",
    "r=results[\"results\"][\"bindings\"]\n",
    "for i in r:\n",
    "    print(i)"
   ]
  },
  {
   "cell_type": "code",
   "execution_count": 100,
   "metadata": {},
   "outputs": [
    {
     "data": {
      "text/plain": [
       "'2707'"
      ]
     },
     "execution_count": 100,
     "metadata": {},
     "output_type": "execute_result"
    }
   ],
   "source": [
    "sparql = SPARQLWrapper(\"http://localhost:3030/edition1st/sparql\")\n",
    "uri=\"<https://w3id.org/eb/i/Volume/992277653804341_144133901>\"\n",
    "query=\"\"\"\n",
    "PREFIX eb: <https://w3id.org/eb#>\n",
    "SELECT (COUNT (?t) as ?count)\n",
    "    WHERE {\n",
    "        %s eb:hasPart ?t .\n",
    "        ?t ?b ?c \n",
    "        \n",
    "} \n",
    "\"\"\" % (uri)\n",
    "      \n",
    "            \n",
    "sparql.setQuery(query)\n",
    "sparql.setReturnFormat(JSON)\n",
    "results = sparql.query().convert()\n",
    "results[\"results\"][\"bindings\"][0][\"count\"][\"value\"]\n"
   ]
  },
  {
   "cell_type": "code",
   "execution_count": 102,
   "metadata": {},
   "outputs": [
    {
     "data": {
      "text/plain": [
       "{'head': {'vars': ['count']},\n",
       " 'results': {'bindings': [{'count': {'type': 'literal',\n",
       "     'datatype': 'http://www.w3.org/2001/XMLSchema#integer',\n",
       "     'value': '2505'}}]}}"
      ]
     },
     "execution_count": 102,
     "metadata": {},
     "output_type": "execute_result"
    }
   ],
   "source": [
    "sparql = SPARQLWrapper(\"http://localhost:3030/edition1st/sparql\")\n",
    "uri=\"<https://w3id.org/eb/i/Volume/992277653804341_144133901>\"\n",
    "query=\"\"\"\n",
    "PREFIX eb: <https://w3id.org/eb#>\n",
    "SELECT (COUNT (DISTINCT ?t) as ?count)\n",
    "    WHERE {\n",
    "        %s eb:hasPart ?t .\n",
    "        ?t a eb:Article\n",
    "        \n",
    "} \n",
    "\"\"\" % (uri)\n",
    "      \n",
    "            \n",
    "sparql.setQuery(query)\n",
    "sparql.setReturnFormat(JSON)\n",
    "results = sparql.query().convert()\n",
    "results"
   ]
  },
  {
   "cell_type": "code",
   "execution_count": 111,
   "metadata": {},
   "outputs": [
    {
     "data": {
      "text/plain": [
       "'2440'"
      ]
     },
     "execution_count": 111,
     "metadata": {},
     "output_type": "execute_result"
    }
   ],
   "source": [
    "sparql = SPARQLWrapper(\"http://localhost:3030/edition1st/sparql\")\n",
    "uri=\"<https://w3id.org/eb/i/Volume/992277653804341_144133901>\"\n",
    "query=\"\"\"\n",
    "       PREFIX eb: <https://w3id.org/eb#>\n",
    "       PREFIX rdfs: <http://www.w3.org/2000/01/rdf-schema#>\n",
    "       SELECT (count (DISTINCT ?a) as ?count)\n",
    "       WHERE {\n",
    "            %s eb:hasPart ?b .\n",
    "            ?b a eb:Article .\n",
    "            ?b eb:name ?a.\n",
    "      }\n",
    "\n",
    "\n",
    "\"\"\" % (uri)\n",
    "            \n",
    "sparql.setQuery(query)\n",
    "sparql.setReturnFormat(JSON)\n",
    "results = sparql.query().convert()\n",
    "results = sparql.query().convert()\n",
    "results[\"results\"][\"bindings\"][0][\"count\"][\"value\"]"
   ]
  },
  {
   "cell_type": "code",
   "execution_count": 81,
   "metadata": {},
   "outputs": [
    {
     "name": "stdout",
     "output_type": "stream",
     "text": [
      "{'subject': 'https://w3id.org/eb/i/Article/992277653804341_144133903_ROSA_0', 'predicate': 'http://www.w3.org/1999/02/22-rdf-syntax-ns#type', 'object': 'https://w3id.org/eb#Article'}\n",
      "{'subject': 'https://w3id.org/eb/i/Article/992277653804341_144133903_ROSA_0', 'predicate': 'https://w3id.org/eb#definition', 'object': 'in botany, a genus of the icofandria polygamia clals. The petals are five ; the calix has five flelhy fegments; and the feeds are numerous, rough, and inferred into the interior side of the calix-. There are 14 species, five of them natives of Britain, viz. the eglanteria, orfweet briar; the fpinofiffima, or burner rose ; the arvenfis, or whiteflowered , dogs-rose; the villofa, or apple-rose ; and the canina, or red-flowered dogs-rose, or hip-tree.'}\n",
      "{'subject': 'https://w3id.org/eb/i/Article/992277653804341_144133903_ROSA_0', 'predicate': 'https://w3id.org/eb#name', 'object': 'ROSA'}\n",
      "{'subject': 'https://w3id.org/eb/i/Article/992277653804341_144133903_ROSA_0', 'predicate': 'https://w3id.org/eb#numberOfWords', 'object': '75'}\n",
      "{'subject': 'https://w3id.org/eb/i/Article/992277653804341_144133903_ROSA_0', 'predicate': 'https://w3id.org/eb#position', 'object': '19'}\n",
      "{'subject': 'https://w3id.org/eb/i/Article/992277653804341_144133903_ROSA_0', 'predicate': 'https://w3id.org/eb#startsAtPage', 'object': 'https://w3id.org/eb/i/Page/992277653804341_144133903_642'}\n"
     ]
    }
   ],
   "source": [
    "clear_r=[]\n",
    "for s,p,o in results.triples((None, None, None)):\n",
    "    data={}\n",
    "    data[\"subject\"]=str(s)\n",
    "    data[\"predicate\"]=str(p)\n",
    "    data[\"object\"]=str(o)\n",
    "    clear_r.append(data)\n",
    "    \n",
    "for i in clear_r:\n",
    "    if \"startsAtPage\" in i[\"predicate\"]:\n",
    "        startsAtPage= i[\"object\"]\n",
    "    if \"endsAtPage\" in i[\"predicate\"]:\n",
    "        endsAtPage= i[\"object\"]\n",
    "\n",
    "if startsAtPage == endsAtPage:\n",
    "    for i in clear_r:\n",
    "        if \"endsAtPage\" in i[\"predicate\"]:\n",
    "            clear_r.remove(i)\n",
    "        \n",
    "for i in clear_r:\n",
    "    print(i)\n",
    "   "
   ]
  },
  {
   "cell_type": "code",
   "execution_count": 56,
   "metadata": {},
   "outputs": [
    {
     "data": {
      "text/plain": [
       "'<https://w3id.org/eb/i/Edition/992277653804341>'"
      ]
     },
     "execution_count": 56,
     "metadata": {},
     "output_type": "execute_result"
    }
   ],
   "source": [
    "for s,p,o in results.triples((None, None, None)):\n",
    "    a=s\n",
    "    \n",
    "a.n3()"
   ]
  },
  {
   "cell_type": "code",
   "execution_count": 53,
   "metadata": {},
   "outputs": [
    {
     "data": {
      "text/plain": [
       "<bound method ConjunctiveGraph.triples of <Graph identifier=Nf4bcb9045c244d0fb3903f5f315c191f (<class 'rdflib.graph.ConjunctiveGraph'>)>>"
      ]
     },
     "execution_count": 53,
     "metadata": {},
     "output_type": "execute_result"
    }
   ],
   "source": [
    "results.triples"
   ]
  },
  {
   "cell_type": "code",
   "execution_count": 8,
   "metadata": {
    "scrolled": true
   },
   "outputs": [
    {
     "name": "stdout",
     "output_type": "stream",
     "text": [
      "https://w3id.org/eb/i/Topic/992277653804341_144133901_ALGEBRA_1\n",
      "https://w3id.org/eb/i/Topic/9929192893804340_144850367_GHMMAR_0\n",
      "https://w3id.org/eb/i/Topic/9929192893804340_144850368_RELIGIONTHEOLOGY_0\n",
      "https://w3id.org/eb/i/Topic/9929192893804340_144850366_BREWING_1\n",
      "https://w3id.org/eb/i/Topic/9929192893804340_144850367_LATV_0\n",
      "https://w3id.org/eb/i/Topic/992277653804341_144133902_TACIV_0\n",
      "https://w3id.org/eb/i/Topic/9929192893804340_144850367_DEB_0\n",
      "https://w3id.org/eb/i/Topic/9929192893804340_144850367_L_0\n",
      "https://w3id.org/eb/i/Topic/992277653804341_144133903_MECHANICS_0\n",
      "https://w3id.org/eb/i/Topic/992277653804341_144133903_PNEUMATICS_0\n"
     ]
    }
   ],
   "source": [
    "sparql = SPARQLWrapper(\"http://localhost:3030/edition1st/sparql\")\n",
    "sparql.setQuery(\"\"\"\n",
    "PREFIX eb: <https://w3id.org/eb#>\n",
    "SELECT ?topic ?y WHERE {\n",
    "       ?topic a eb:Topic ;\n",
    "    }\n",
    "LIMIT 10\n",
    "\"\"\")\n",
    "sparql.setReturnFormat(JSON)\n",
    "results = sparql.query().convert()\n",
    "results = sparql.query().convert()\n",
    "for r in results[\"results\"][\"bindings\"]:\n",
    "    print(r[\"topic\"][\"value\"])"
   ]
  },
  {
   "cell_type": "code",
   "execution_count": 28,
   "metadata": {},
   "outputs": [
    {
     "data": {
      "text/plain": [
       "'2 C-L'"
      ]
     },
     "execution_count": 28,
     "metadata": {},
     "output_type": "execute_result"
    }
   ],
   "source": [
    "sparql = SPARQLWrapper(\"http://localhost:3030/edition1st/sparql\")\n",
    "uri=\"<https://w3id.org/eb/i/Volume/992277653804341_144133902>\"\n",
    "query=\"\"\"\n",
    "    PREFIX eb: <https://w3id.org/eb#>\n",
    "    SELECT ?vnum ?letters ?part WHERE {\n",
    "       %s eb:number ?vnum ;\n",
    "          eb:letters ?letters .\n",
    "           OPTIONAL {%s eb:part ?part; }\n",
    "       \n",
    "    \n",
    "    } \"\"\" % (uri, uri)\n",
    "sparql.setQuery(query)         \n",
    "sparql.setReturnFormat(JSON)\n",
    "results = sparql.query().convert()\n",
    "i=results[\"results\"][\"bindings\"][0]\n",
    "\n",
    "\n",
    "if \"part\" in i:\n",
    "    data= i[\"vnum\"][\"value\"]+ \" \"+ i[\"letters\"][\"value\"]+ \"Part \"+ i[\"part\"][\"value\"]\n",
    "else:\n",
    "    data= i[\"vnum\"][\"value\"]+ \" \"+ i[\"letters\"][\"value\"]\n",
    "\n",
    "data"
   ]
  },
  {
   "cell_type": "code",
   "execution_count": 30,
   "metadata": {},
   "outputs": [
    {
     "data": {
      "text/plain": [
       "<Graph identifier=Naaf3cb1775434b5ab8e801dd71cf3b88 (<class 'rdflib.graph.ConjunctiveGraph'>)>"
      ]
     },
     "execution_count": 30,
     "metadata": {},
     "output_type": "execute_result"
    }
   ],
   "source": [
    "sparql = SPARQLWrapper(\"http://localhost:3030/edition1st/sparql\")\n",
    "sparql.setQuery(\"\"\"\n",
    "    DESCRIBE <https://w3id.org/eb/i/Volume/992277653804341_144133902>\n",
    "\"\"\")\n",
    "\n",
    "sparql.setReturnFormat(JSON)\n",
    "results = sparql.query().convert()\n",
    "results"
   ]
  },
  {
   "cell_type": "code",
   "execution_count": null,
   "metadata": {},
   "outputs": [],
   "source": []
  }
 ],
 "metadata": {
  "kernelspec": {
   "display_name": "Python 3 (ipykernel)",
   "language": "python",
   "name": "python3"
  },
  "language_info": {
   "codemirror_mode": {
    "name": "ipython",
    "version": 3
   },
   "file_extension": ".py",
   "mimetype": "text/x-python",
   "name": "python",
   "nbconvert_exporter": "python",
   "pygments_lexer": "ipython3",
   "version": "3.9.7"
  }
 },
 "nbformat": 4,
 "nbformat_minor": 2
}
