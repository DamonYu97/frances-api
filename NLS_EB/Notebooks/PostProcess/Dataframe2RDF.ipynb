{
 "cells": [
  {
   "cell_type": "markdown",
   "metadata": {},
   "source": [
    "# RDF-   NLS -  Encyclopaedia Britannica\n",
    "\n",
    "This notebook is going to create the RDF triples to generate our RDLIB GRAPH\n",
    "\n",
    "For each postprocess edition dataframe that we got from **Merging_EB_Terms.ipynb** (e.g. results_eb_1_edition_dataframe, results_eb_2_edition_dataframe, etc) we are going to add the information from the dataframe that we got from **Metadata_EB.ipynb** (metadata_eb_dataframe). \n",
    "\n",
    "The idea is to have per edition dataframe (and also supplement dataframe), all the information (which currently is splitted across several dataframes) in one. \n",
    "\n",
    "\n",
    "This notebook will store the final dataframes in results_NLS directory, and their name schema will be **final_eb_< NUM_EDITION >_dataframe**.\n",
    "\n",
    "Per entry in these new dataframes we will have the following columns (see an example of one entry of the first edition):\n",
    "\n",
    "- MMSID:                                              \n",
    "- editionTitle:                          First edition, 1771, Volume 1, A-B\n",
    "- editor:                                                  Smellie, William\n",
    "- editor_date:                                                   1740-1795\n",
    "- genre:                                                       encyclopedia\n",
    "- language:                                                             eng\n",
    "- termsOfAddress:                                                       NaN\n",
    "- numberOfPages:                                                        832\n",
    "- physicalDescription:               3 v., 160 plates : ill. ; 26 cm. (4to)\n",
    "- place:                                                         Edinburgh\n",
    "- publisher:              Printed for A. Bell and C. Macfarquhar; and so...\n",
    "- referencedBy:           [Alston, R.C.  Engl. language III, 560, ESTC T...\n",
    "- shelfLocator:                                                        EB.1\n",
    "- editionSubTitle:        Illustrated with one hundred and sixty copperp...\n",
    "- volumeTitle:            Encyclopaedia Britannica; or, A dictionary of ...\n",
    "- year:                                                                1771\n",
    "- volumeId:                                                       144133901\n",
    "- metsXML:                                               144133901-mets.xml\n",
    "- permanentURL:                            https://digital.nls.uk/144133901\n",
    "- publisherPersons:                     [C. Macfarquhar, Colin Macfarquhar]\n",
    "- volumeNum:                                                              1\n",
    "- letters:                                                              A-B\n",
    "- part:                                                                   0\n",
    "- editionNum:                                                             1\n",
    "- supplementTitle:                                                         \n",
    "- supplementSubTitle:                                                      \n",
    "- supplementsTo:                                                         []\n",
    "- numberOfVolumes:                                                        6\n",
    "- term:                                                                  OR\n",
    "- definition:             A NEW A D I C T I A A, the name of several riv...\n",
    "- relatedTerms:                                                          []\n",
    "- header:                                           EncyclopaediaBritannica\n",
    "- startsAt:                                                              15\n",
    "- endsAt:                                                                15\n",
    "- numberOfTerms:                                                         22\n",
    "- numberOfWords:                                                         54\n",
    "- positionPage:                                                           0\n",
    "- typeTerm:                                                         Article\n",
    "- altoXML:                                  144133901/alto/188082904.34.xml"
   ]
  },
  {
   "cell_type": "markdown",
   "metadata": {},
   "source": [
    "### Loading the necessary libraries"
   ]
  },
  {
   "cell_type": "code",
   "execution_count": 1,
   "metadata": {},
   "outputs": [],
   "source": [
    "import yaml\n",
    "import numpy as np\n",
    "import collections\n",
    "import string\n",
    "import copy"
   ]
  },
  {
   "cell_type": "code",
   "execution_count": 2,
   "metadata": {},
   "outputs": [],
   "source": [
    "import pandas as pd\n",
    "from yaml import safe_load\n",
    "from pandas.io.json import json_normalize\n",
    "from difflib import SequenceMatcher"
   ]
  },
  {
   "cell_type": "markdown",
   "metadata": {},
   "source": [
    "### Functions"
   ]
  },
  {
   "cell_type": "code",
   "execution_count": 3,
   "metadata": {},
   "outputs": [],
   "source": [
    "def edition2rdf(data, g, eb):\n",
    "\n",
    "    edition = URIRef(\"https://w3id.org/eb/i/Edition/\"+str(data[\"MMSID\"]))\n",
    "    edition_title= \"Edition \"+ str(data[\"editionNum\"])+\",\" +str(data[\"year\"])\n",
    "    g.add((edition, RDF.type, eb.Edition))\n",
    "    g.add((edition, eb.number, Literal(data[\"editionNum\"], datatype=XSD.integer)))\n",
    "    g.add((edition, eb.title, Literal(edition_title, datatype=XSD.string)))\n",
    "    g.add((edition, eb.subtitle, Literal(data[\"editionSubTitle\"], datatype=XSD.string)))\n",
    "    g.add((edition, eb.publicationYear, Literal(data[\"year\"], datatype=XSD.integer)))\n",
    "    g.add((edition, eb.place, Literal(data[\"place\"], datatype=XSD.string)))\n",
    "    g.add((edition, eb.mmsid, Literal(data[\"MMSID\"], datatype=XSD.int)))\n",
    "    g.add((edition, eb.physicalDescription, Literal(data[\"physicalDescription\"], datatype=XSD.string)))\n",
    "    g.add((edition, eb.genre, Literal(data[\"genre\"], datatype=XSD.string)))\n",
    "    g.add((edition, eb.language, Literal(data[\"language\"], datatype=XSD.string)))\n",
    "    g.add((edition, eb.shelfLocator, Literal(data[\"shelfLocator\"], datatype=XSD.string)))\n",
    "    g.add((edition, eb.numberOfVolumes, Literal(data[\"numberOfVolumes\"], datatype=XSD.integer)))\n",
    "\n",
    "    #### Editor \n",
    "\n",
    "    name=data[\"editor\"].replace(\" \", \"\")\n",
    "    editor = URIRef(\"https://w3id.org/eb/i/Person/\"+str(name))\n",
    "    g.add((editor, RDF.type, eb.Person))\n",
    "    g.add((editor, eb.name, Literal(data[\"editor\"], datatype=XSD.string)))\n",
    "\n",
    "    if data[\"editor_date\"]!=0:\n",
    "        tmpDate=data[\"editor_date\"].split(\"-\")\n",
    "        birthDate=tmpDate[0]\n",
    "        deathDate=tmpDate[1]\n",
    "        g.add((editor, eb.birthDate, Literal(birthDate, datatype=XSD.dateTime)))\n",
    "        g.add((editor, eb.deathDate, Literal(deathDate, datatype=XSD.dateTime)))\n",
    "    \n",
    "    if data[\"termsOfAddress\"] != 0:\n",
    "        g.add((editor, eb.termsOfAddress, Literal(data[\"termsOfAddress\"], datatype=XSD.string)))\n",
    "\n",
    "    g.add((edition, eb.editor, editor))\n",
    "\n",
    "    #### Publishers Persons \n",
    "\n",
    "    #This was the result to pass entity recognition to publisher\n",
    "\n",
    "    if data[\"publisherPersons\"] != 0:\n",
    "        publisherPersons=name=data[\"publisherPersons\"]\n",
    "        for p in publisherPersons: \n",
    "            name=p.replace(\" \", \"\")\n",
    "            publisher = URIRef(\"https://w3id.org/eb/i/Person/\"+name)\n",
    "            g.add((publisher, RDF.type, eb.Person))\n",
    "            g.add((publisher, eb.name, Literal(p, datatype=XSD.string)))\n",
    "            g.add((edition, eb.publisher, publisher))\n",
    "        \n",
    "    #### Is Referenced by  \n",
    "\n",
    "    if data[\"referencedBy\"] != 0:\n",
    "        references=data[\"referencedBy\"]\n",
    "        for r in references: \n",
    "            name=r.replace(\" \", \"\")\n",
    "            book = URIRef(\"https://w3id.org/eb/i/Book/\"+name)\n",
    "            g.add((book, RDF.type, eb.Book))\n",
    "            g.add((book, eb.title, Literal(r, datatype=XSD.string)))\n",
    "            g.add((edition, eb.referencedBy, book))\n",
    "            \n",
    "    return g, edition\n",
    "        "
   ]
  },
  {
   "cell_type": "markdown",
   "metadata": {},
   "source": [
    "### 1. Loading the final dataframe"
   ]
  },
  {
   "cell_type": "code",
   "execution_count": 4,
   "metadata": {},
   "outputs": [],
   "source": [
    "df= pd.read_json('../../results_NLS/final_eb_1_dataframe', orient=\"index\") "
   ]
  },
  {
   "cell_type": "code",
   "execution_count": null,
   "metadata": {},
   "outputs": [],
   "source": [
    "df=df.fillna(0)"
   ]
  },
  {
   "cell_type": "code",
   "execution_count": null,
   "metadata": {},
   "outputs": [],
   "source": [
    "df_year=df[df['year'] == 1771].reset_index(drop=True)"
   ]
  },
  {
   "cell_type": "code",
   "execution_count": null,
   "metadata": {},
   "outputs": [],
   "source": [
    "related_df_entries=df_year[df_year[\"term\"] == \"DRAWING\"].reset_index(drop=True)"
   ]
  },
  {
   "cell_type": "code",
   "execution_count": null,
   "metadata": {},
   "outputs": [
    {
     "data": {
      "text/plain": [
       "0    [PERSPECTIVE, VOL, DRAWING]\n",
       "Name: relatedTerms, dtype: object"
      ]
     },
     "execution_count": 8,
     "metadata": {},
     "output_type": "execute_result"
    }
   ],
   "source": [
    "related_df_entries[\"relatedTerms\"]"
   ]
  },
  {
   "cell_type": "code",
   "execution_count": null,
   "metadata": {},
   "outputs": [
    {
     "data": {
      "text/plain": [
       "array([2])"
      ]
     },
     "execution_count": 9,
     "metadata": {},
     "output_type": "execute_result"
    }
   ],
   "source": [
    "vl=related_df_entries[\"volumeNum\"].unique()\n",
    "vl"
   ]
  },
  {
   "cell_type": "markdown",
   "metadata": {},
   "source": [
    "Lets get the first element of the \"final_eb_1_dataframe\" dataframe and extract the information of the 1st Edition class."
   ]
  },
  {
   "cell_type": "markdown",
   "metadata": {},
   "source": [
    "### 2. Create a Graph and import the information of the 1st Edition class to it.  "
   ]
  },
  {
   "cell_type": "code",
   "execution_count": null,
   "metadata": {},
   "outputs": [
    {
     "name": "stdout",
     "output_type": "stream",
     "text": [
      "YEAR 1771\n",
      "Vol 1\n",
      "Vol 2\n",
      "Vol 3\n",
      "YEAR 1773\n",
      "Vol 1\n",
      "Vol 2\n",
      "Vol 3\n"
     ]
    }
   ],
   "source": [
    "from rdflib import Graph, URIRef, Literal, Namespace, XSD\n",
    "from rdflib.namespace import RDF, RDFS\n",
    "\n",
    "\n",
    "# Create a Graph\n",
    "g = Graph()\n",
    "\n",
    "g.namespace_manager.bind('eb', Namespace(\"https://w3id.org/eb#\"), override=\"False\")\n",
    "eb = Namespace(\"https://w3id.org/eb#\")\n",
    "\n",
    "#### Edition-1771 Information\n",
    "\n",
    "list_years=df[\"year\"].unique()\n",
    "ed_revisions=[]\n",
    "\n",
    "for y in range(0, len(list_years)):\n",
    "    \n",
    "    ### EDITION\n",
    "    print(\"YEAR %s\" %list_years[y])\n",
    "    \n",
    "    df_year=df[df['year'] == list_years[y]].reset_index(drop=True)\n",
    "    edition_data = df_year.loc[0]\n",
    "    g, edition = edition2rdf(edition_data,g, eb)\n",
    "    ed_revisions.append(edition)\n",
    "    \n",
    "    ### VOLUMES \n",
    "    list_vols = df_year[\"volumeNum\"].unique()\n",
    "    for v in range(0,len(list_vols)):\n",
    "        print(\"Vol %s\" % list_vols[v])\n",
    "        df_year_vl=df_year[df_year[\"volumeNum\"] == list_vols[v]].reset_index(drop=True)\n",
    "        volume_data=df_year_vl.loc[0]\n",
    "        volume_id=volume_data[\"volumeId\"]\n",
    "        volume = URIRef(\"https://w3id.org/eb/i/Volume/\"+str(volume_data[\"MMSID\"])+\"_\"+str(volume_data[\"volumeId\"]))\n",
    "        g.add((volume, RDF.type, eb.Volume))\n",
    "        g.add((volume, eb.number, Literal(volume_data[\"volumeNum\"], datatype=XSD.integer)))\n",
    "        g.add((volume, eb.letters, Literal(volume_data[\"letters\"], datatype=XSD.string)))\n",
    "        g.add((volume, eb.volumeId, Literal(volume_data[\"volumeId\"], datatype=XSD.int)))\n",
    "        g.add((volume, eb.title, Literal(volume_data[\"volumeTitle\"], datatype=XSD.string)))\n",
    "        \n",
    "        if volume_data[\"part\"]!=0:\n",
    "            g.add((volume, eb.part, Literal(volume_data[\"part\"], datatype=XSD.string)))\n",
    "    \n",
    "        g.add((volume, eb.metsXML, Literal(volume_data[\"metsXML\"], datatype=XSD.string)))\n",
    "        g.add((volume, eb.permanentURL, Literal(volume_data[\"permanentURL\"], datatype=XSD.string)))\n",
    "        g.add((volume, eb.numberOfPages, Literal(volume_data[\"numberOfPages\"], datatype=XSD.string)))\n",
    "    \n",
    "        g.add((edition, eb.hasPart, volume))\n",
    "    \n",
    "        df_by_term=df_year_vl.groupby(['term'],)[\"term\"].count().reset_index(name='counts')\n",
    "                        \n",
    "        #### TERMS\n",
    "        for t_index in range(0, len(df_by_term)):\n",
    "            t=df_by_term.loc[t_index][\"term\"]\n",
    "            c=df_by_term.loc[t_index][\"counts\"]\n",
    "            df_entries= df_year_vl[df_year_vl[\"term\"] == t].reset_index(drop=True)\n",
    "            for t_count in range(0, c):\n",
    "                df_entry= df_entries.loc[t_count]\n",
    "                if df_entry[\"typeTerm\"] == \"Article\" :\n",
    "                    term= URIRef(\"https://w3id.org/eb/i/Article/\"+str(df_entry[\"MMSID\"])+\"_\"+str(df_entry[\"volumeId\"])+\"_\"+t+\"_\"+str(t_count))\n",
    "                    g.add((term, RDF.type, eb.Article))\n",
    "                elif df_entry[\"typeTerm\"] == \"Topic\" :\n",
    "                    term= URIRef(\"https://w3id.org/eb/i/Topic/\"+str(df_entry[\"MMSID\"])+\"_\"+str(df_entry[\"volumeId\"])+\"_\"+t+\"_\"+str(t_count))\n",
    "                    g.add((term, RDF.type, eb.Topic))\n",
    "                else:\n",
    "                    pass\n",
    "                g.add((term, eb.name, Literal(t, datatype=XSD.string)))\n",
    "                g.add((term, eb.definition, Literal(df_entry[\"definition\"], datatype=XSD.string)))\n",
    "                g.add((term, eb.positionPage, Literal(df_entry[\"positionPage\"], datatype=XSD.int)))\n",
    "                g.add((term, eb.numberOfWords, Literal(df_entry[\"numberOfWords\"], datatype=XSD.int)))\n",
    "                g.add((volume, eb.hasPart, term))\n",
    "            \n",
    "                ## startsAt\n",
    "                page_startsAt= URIRef(\"https://w3id.org/eb/i/Page/\"+ str(df_entry[\"MMSID\"])+\"_\"+str(df_entry[\"volumeId\"])+\"_\"+str(df_entry[\"startsAt\"]))\n",
    "                g.add((page_startsAt, RDF.type, eb.Page))\n",
    "                g.add((page_startsAt, eb.number, Literal(df_entry[\"startsAt\"], datatype=XSD.int)))\n",
    "                g.add((page_startsAt, eb.header, Literal(df_entry[\"header\"], datatype=XSD.int)))\n",
    "                g.add((volume, eb.hasPart, page_startsAt))\n",
    "                g.add((term, eb.startsAt, page_startsAt))\n",
    "                g.add((page_startsAt, eb.hasPart, term))\n",
    "            \n",
    "                ## endsAt\n",
    "                page_endsAt= URIRef(\"https://w3id.org/eb/i/Page/\"+ str(df_entry[\"MMSID\"])+\"_\"+str(df_entry[\"volumeId\"])+\"_\"+str(df_entry[\"endsAt\"]))\n",
    "                g.add((page_endsAt, RDF.type, eb.Page))\n",
    "                g.add((page_endsAt, eb.number, Literal(df_entry[\"endsAt\"], datatype=XSD.int)))\n",
    "                g.add((volume, eb.hasPart, page_endsAt))\n",
    "                g.add((term, eb.endsAt, page_endsAt))\n",
    "                g.add((page_endsAt, eb.hasPart, term))\n",
    "                \n",
    "                ## related terms\n",
    "                \n",
    "                if df_entry[\"relatedTerms\"]:\n",
    "                    for rt in df_entry[\"relatedTerms\"]:\n",
    "                        if rt!= t:\n",
    "                            related_df_entries= df_year[df_year[\"term\"] == rt].reset_index(drop=True)\n",
    "                            list_r_vl=related_df_entries[\"volumeNum\"].unique()\n",
    "                            for r_vl in list_r_vl:\n",
    "                                df_r_vl=related_df_entries[related_df_entries[\"volumeNum\"] == r_vl].reset_index(drop=True)\n",
    "                                for r_c in range (0, len(df_r_vl)):\n",
    "                                    r_entry= df_r_vl.loc[r_c]\n",
    "                                    if r_entry[\"typeTerm\"] == \"Article\" :\n",
    "                                        r_term= URIRef(\"https://w3id.org/eb/i/Article/\"+str(r_entry[\"MMSID\"])+\"_\"+str(r_entry[\"volumeId\"])+\"_\"+rt+\"_\"+str(r_c))\n",
    "                                    elif r_entry[\"typeTerm\"] == \"Topic\" :\n",
    "                                        r_term= URIRef(\"https://w3id.org/eb/i/Topic/\"+str(r_entry[\"MMSID\"])+\"_\"+str(r_entry[\"volumeId\"])+\"_\"+rt+\"_\"+str(r_c))\n",
    "                                        \n",
    "                                    g.add((term, eb.relatedTerms, r_term))\n",
    "                        \n",
    "\n",
    "\n",
    "\n",
    "g.add((ed_revisions[1], eb.revisionOf, ed_revisions[0]))\n"
   ]
  },
  {
   "cell_type": "code",
   "execution_count": null,
   "metadata": {},
   "outputs": [],
   "source": [
    "\n",
    "# Save the Graph in the RDF Turtle format\n",
    "g.serialize(format=\"turtle\", destination=\"../../results_NLS/edition1st.ttl\")\n"
   ]
  },
  {
   "cell_type": "markdown",
   "metadata": {},
   "source": [
    "List all the elements that we have added for the last Edition added in the graph"
   ]
  },
  {
   "cell_type": "code",
   "execution_count": null,
   "metadata": {},
   "outputs": [],
   "source": [
    "for s,p,o in g.triples((edition, None, None)):\n",
    "  print(s,p,o)"
   ]
  },
  {
   "cell_type": "code",
   "execution_count": null,
   "metadata": {},
   "outputs": [],
   "source": [
    "#G = rdflib_to_networkx_multidigraph(result)\n",
    "\n",
    "# Plot Networkx instance of RDF Graph\n",
    "#pos = nx.spring_layout(G, scale=2)\n",
    "#edge_labels = nx.get_edge_attributes(G, 'r')\n",
    "#nx.draw_networkx_edge_labels(G, pos, edge_labels=edge_labels)\n",
    "#nx.draw(G, with_labels=True)\n",
    "\n",
    "#if not in interactive mode for \n",
    "#plt.show()\n"
   ]
  }
 ],
 "metadata": {
  "kernelspec": {
   "display_name": "mpython3",
   "language": "python",
   "name": "mypthon3"
  },
  "language_info": {
   "codemirror_mode": {
    "name": "ipython",
    "version": 3
   },
   "file_extension": ".py",
   "mimetype": "text/x-python",
   "name": "python",
   "nbconvert_exporter": "python",
   "pygments_lexer": "ipython3",
   "version": "3.7.2"
  }
 },
 "nbformat": 4,
 "nbformat_minor": 2
}
