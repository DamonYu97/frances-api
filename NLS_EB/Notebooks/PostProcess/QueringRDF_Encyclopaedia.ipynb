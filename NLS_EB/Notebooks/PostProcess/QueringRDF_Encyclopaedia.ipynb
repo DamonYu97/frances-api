{
 "cells": [
  {
   "cell_type": "markdown",
   "metadata": {},
   "source": [
    "# SPARQL Queries - Encyclopaedia Britannica - EB-KG\n",
    "\n",
    "This notebook enables to perform several SPARQL queries to the EB-KG Knowlege Graph (total_eb.ttl) \n",
    "It includes two types RDF queries:\n",
    "\n",
    " - Querying the KG locally: Using rdflib.plugins.sparql\n",
    " - Querying the KG from an Apache Fuseki Server: Using SPARQLWrapper\n",
    "  \n",
    "\n",
    "\n",
    "The EB-KG implements the [EB-Ontology](https://francesnlp.github.io/EB-ontology/doc/index-en.html), which has the following [Data Model](https://francesnlp.github.io/EB-ontology/doc/dataModel.png)\n",
    "\n",
    "The EB-KG (total_eb.ttl) can be download from [Zenodo](https://zenodo.org/record/6673897#.YrHZ85BBx_A)\n",
    "\n",
    "In general terms this EB-Ontology can be described as follows:\n",
    "\n",
    "1. The Encyclopaedia has several Editions\n",
    "2. An Edition has several Volumes (Books)\n",
    "3. An Edition can have several Editors, Publishers, and reference books\n",
    "3. A Volume can have several Terms.\n",
    "4. A Term can be either an Article or Topic\n",
    "5. A Term has a name (term name , e.g. Abacus) and a definition ( e.g. definition text of Abacus). \n",
    "6. A Volume can have several Pages. \n",
    "7. In the Page we haven’t included the text. \n",
    "8. A Term starts in a Page\n",
    "9. A Term ends in a Page\n",
    "10. A Supplement can have several Editors, Publishers and reference books\n",
    "11. A Supplement can have several Volumes.\n",
    "\n",
    "Example of values of the EB-KG properties:\n",
    "\n",
    "\n",
    "    mmsid: 992277653804341\n",
    "    edition title: First edition, 1771, Volume 1, A-B\n",
    "    editor name: Smellie, William\n",
    "    editor date: 1740-1795\n",
    "    genre: encyclopedia\n",
    "    language: eng\n",
    "    termsOfAddress: NaN\n",
    "    numberOfPages: 832\n",
    "    physicalDescription: 3 v., 160 plates : ill. ; 26 cm. (4to)\n",
    "    place: Edinburgh\n",
    "    publisher: Printed for A. Bell and C. Macfarquhar; and so...\n",
    "    referencedBy: [Alston, R.C. Engl. language III, 560, ESTC T...\n",
    "    shelfLocator: EB.1\n",
    "    editionSubTitle: Illustrated with one hundred and sixty copperp...\n",
    "    volume title: Encyclopaedia Britannica; or, A dictionary of ...\n",
    "    year: 1771\n",
    "    volumeId: 144133901\n",
    "    metsXML: 144133901-mets.xml\n",
    "    permanentURL: https://digital.nls.uk/144133901\n",
    "    publisherPersons: [C. Macfarquhar, Colin Macfarquhar]\n",
    "    volume number: 1\n",
    "    letters: A-B\n",
    "    part: 0\n",
    "    edition number : 1\n",
    "    supplement title:\n",
    "    supplement subtitle:\n",
    "    supplementsTo: []\n",
    "    numberOfVolumes: 6\n",
    "    term: OR\n",
    "    definition: A NEW A D I C T I A A, the name of several riv...\n",
    "    relatedTerms: []\n",
    "    header: EncyclopaediaBritannica\n",
    "    startsAt: 15\n",
    "    endsAt: 15\n",
    "    numberOfTerms: 22\n",
    "    numberOfWords: 54\n",
    "    positionPage: 0\n",
    "    typeTerm: Article\n",
    "    altoXML: 144133901/alto/188082904.34.xml\n",
    "\n",
    "\n"
   ]
  },
  {
   "cell_type": "markdown",
   "metadata": {},
   "source": [
    "### Loading the necessary libraries"
   ]
  },
  {
   "cell_type": "code",
   "execution_count": 7,
   "metadata": {},
   "outputs": [],
   "source": [
    "import rdflib\n",
    "from rdflib.extras.external_graph_libs import rdflib_to_networkx_multidigraph\n",
    "import networkx as nx\n",
    "import matplotlib.pyplot as pl\n",
    "from rdflib import Graph, ConjunctiveGraph, Namespace, Literal\n",
    "from rdflib.plugins.sparql import prepareQuery"
   ]
  },
  {
   "cell_type": "code",
   "execution_count": 8,
   "metadata": {},
   "outputs": [],
   "source": [
    "import networkx as nx\n",
    "import matplotlib.pyplot as plt\n",
    "from SPARQLWrapper import SPARQLWrapper, JSON"
   ]
  },
  {
   "cell_type": "code",
   "execution_count": 9,
   "metadata": {},
   "outputs": [],
   "source": [
    "import matplotlib.pyplot as plt\n",
    "plt.rcParams['figure.figsize'] = [15, 10]"
   ]
  },
  {
   "cell_type": "markdown",
   "metadata": {},
   "source": [
    "### Functions"
   ]
  },
  {
   "cell_type": "code",
   "execution_count": 10,
   "metadata": {},
   "outputs": [],
   "source": [
    "def plot_resource(results):\n",
    "\n",
    "    G = rdflib_to_networkx_multidigraph(results)\n",
    "    pos = nx.spring_layout(G, scale=3)\n",
    "    edge_labels = nx.get_edge_attributes(G, 'r')\n",
    "    nx.draw_networkx_edge_labels(G, pos, edge_labels=edge_labels)\n",
    "    nx.draw(G, with_labels=True)\n",
    "    plt.show()"
   ]
  },
  {
   "cell_type": "markdown",
   "metadata": {},
   "source": [
    "### Type 1: Loading the graph locally"
   ]
  },
  {
   "cell_type": "code",
   "execution_count": 11,
   "metadata": {},
   "outputs": [
    {
     "data": {
      "text/plain": [
       "<Graph identifier=N4dea341c291945919778af204f10c9c0 (<class 'rdflib.graph.Graph'>)>"
      ]
     },
     "execution_count": 11,
     "metadata": {},
     "output_type": "execute_result"
    }
   ],
   "source": [
    "g = Graph()\n",
    "#modify the path if necessary\n",
    "g.parse(\"../../results_NLS/total_eb.ttl\", format=\"ttl\") "
   ]
  },
  {
   "cell_type": "markdown",
   "metadata": {},
   "source": [
    "Query 1: List all the resources with the property eb:editor"
   ]
  },
  {
   "cell_type": "code",
   "execution_count": 13,
   "metadata": {},
   "outputs": [
    {
     "name": "stdout",
     "output_type": "stream",
     "text": [
      "https://w3id.org/eb/i/Edition/9910796233804340\n",
      "https://w3id.org/eb/i/Edition/9910796273804340\n",
      "https://w3id.org/eb/i/Edition/9929777383804340\n",
      "https://w3id.org/eb/i/Edition/9910796343804340\n",
      "https://w3id.org/eb/i/Edition/9929192893804340\n",
      "https://w3id.org/eb/i/Edition/992277653804341\n"
     ]
    }
   ],
   "source": [
    "eb = Namespace(\"https://w3id.org/eb#\")\n",
    "\n",
    "q1 = prepareQuery('''\n",
    "  SELECT ?Edition WHERE { \n",
    "    ?Edition eb:editor ?FullName. \n",
    "  }\n",
    "  ''',\n",
    "  initNs = { \"eb\": eb}\n",
    ")\n",
    "\n",
    "\n",
    "for r in g.query(q1):\n",
    "      print(r.Edition)"
   ]
  },
  {
   "cell_type": "markdown",
   "metadata": {},
   "source": [
    "Query 2: Same query but asking more information about the resources obtained. "
   ]
  },
  {
   "cell_type": "code",
   "execution_count": 14,
   "metadata": {},
   "outputs": [
    {
     "name": "stdout",
     "output_type": "stream",
     "text": [
      "https://w3id.org/eb/i/Edition/9910796233804340 https://w3id.org/eb/i/Person/Millar,James\n",
      "https://w3id.org/eb/i/Edition/9910796273804340 https://w3id.org/eb/i/Person/Stewart,Dugald\n",
      "https://w3id.org/eb/i/Edition/9929777383804340 https://w3id.org/eb/i/Person/Stewart,Dugald\n",
      "https://w3id.org/eb/i/Edition/9910796343804340 https://w3id.org/eb/i/Person/Gleig,George\n",
      "https://w3id.org/eb/i/Edition/9929192893804340 https://w3id.org/eb/i/Person/Smellie,William\n",
      "https://w3id.org/eb/i/Edition/992277653804341 https://w3id.org/eb/i/Person/Smellie,William\n"
     ]
    }
   ],
   "source": [
    "q2 = prepareQuery('''\n",
    "  SELECT ?Subject ?Editor WHERE { \n",
    "    ?Subject eb:editor ?Editor.\n",
    "  } \n",
    "  ''',\n",
    "  initNs = { \"eb\": eb}\n",
    ")\n",
    "\n",
    "for r in g.query(q2):\n",
    "  print(r.Subject, r.Editor)"
   ]
  },
  {
   "cell_type": "markdown",
   "metadata": {},
   "source": [
    "Query 3: Obtaining just the editors names "
   ]
  },
  {
   "cell_type": "code",
   "execution_count": 15,
   "metadata": {},
   "outputs": [
    {
     "name": "stdout",
     "output_type": "stream",
     "text": [
      "Gleig, George\n",
      "Millar, James\n",
      "Smellie, William\n",
      "Stewart, Dugald\n"
     ]
    }
   ],
   "source": [
    "q3 = prepareQuery('''\n",
    "SELECT DISTINCT ?name\n",
    "    WHERE {\n",
    "     ?instance eb:editor ?Editor.\n",
    "     ?Editor eb:name ?name .\n",
    "    }\n",
    "    ''',\n",
    "  initNs = { \"eb\": eb}\n",
    ")\n",
    "\n",
    "for r in g.query(q3):\n",
    "      print(r.name)"
   ]
  },
  {
   "cell_type": "code",
   "execution_count": 16,
   "metadata": {},
   "outputs": [
    {
     "data": {
      "text/plain": [
       "rdflib.term.Literal('Gleig, George', datatype=rdflib.term.URIRef('http://www.w3.org/2001/XMLSchema#string'))"
      ]
     },
     "execution_count": 16,
     "metadata": {},
     "output_type": "execute_result"
    }
   ],
   "source": [
    "res=g.query(q3)\n",
    "a=list(res)[0]\n",
    "a.name"
   ]
  },
  {
   "cell_type": "markdown",
   "metadata": {},
   "source": [
    "Query 4: Same query asking for the first 10 resources with the properity eb.name"
   ]
  },
  {
   "cell_type": "code",
   "execution_count": 17,
   "metadata": {},
   "outputs": [
    {
     "name": "stdout",
     "output_type": "stream",
     "text": [
      "https://w3id.org/eb/i/Person/C.Elliot C. Elliot\n",
      "https://w3id.org/eb/i/Person/ColinMacfarquhar Colin Macfarquhar\n",
      "https://w3id.org/eb/i/Person/Gleig,George Gleig, George\n",
      "https://w3id.org/eb/i/Person/J.Bell J. Bell\n",
      "https://w3id.org/eb/i/Person/J.Brown J. Brown\n",
      "https://w3id.org/eb/i/Person/J.Dickson J. Dickson\n",
      "https://w3id.org/eb/i/Person/JohnDonaldson John Donaldson\n",
      "https://w3id.org/eb/i/Person/Millar,James Millar, James\n",
      "https://w3id.org/eb/i/Person/W.Gordon W. Gordon\n",
      "https://w3id.org/eb/i/Article/9910796233804340_191253819_AGRIFOLIUM_0 AGRIFOLIUM\n"
     ]
    }
   ],
   "source": [
    "q4 = prepareQuery('''\n",
    "  SELECT ?Subject ?Name WHERE { \n",
    "    ?Subject eb:name ?Name.\n",
    "  } \n",
    "  LIMIT 10\n",
    "  ''',\n",
    "  initNs = { \"eb\": eb}\n",
    ")\n",
    "\n",
    "for r in g.query(q4):\n",
    "    print(r.Subject, r.Name)"
   ]
  },
  {
   "cell_type": "markdown",
   "metadata": {},
   "source": [
    "Query 5: Obtain the resources titles which have been printed in London - limiting to 10 results"
   ]
  },
  {
   "cell_type": "code",
   "execution_count": 19,
   "metadata": {},
   "outputs": [],
   "source": [
    "from rdflib import XSD\n",
    "q5 = prepareQuery('''\n",
    "SELECT DISTINCT ?name\n",
    "WHERE {\n",
    " ?instance eb:editor ?editor;\n",
    "           eb:place ?place;\n",
    "           eb:title ?name.\n",
    "  \n",
    "}\n",
    "LIMIT 10\n",
    "  ''',\n",
    "  initNs = { \"eb\": eb}\n",
    ")\n",
    "\n",
    "for r in g.query(q5, initBindings = {'?place' : Literal('London', datatype=XSD.string)}):\n",
    "    print(r.name)"
   ]
  },
  {
   "cell_type": "markdown",
   "metadata": {},
   "source": [
    "Query 6: Asking for resources which name is \"Smellie, Willian\""
   ]
  },
  {
   "cell_type": "code",
   "execution_count": 13,
   "metadata": {},
   "outputs": [
    {
     "name": "stdout",
     "output_type": "stream",
     "text": [
      "https://w3id.org/eb/i/Person/Smellie,William\n"
     ]
    }
   ],
   "source": [
    "from rdflib import XSD\n",
    "q6 = prepareQuery('''\n",
    "  SELECT ?Subject WHERE { \n",
    "    ?Subject eb:name ?Family.\n",
    "  } \n",
    "  ''',\n",
    "    initNs = { \"eb\": eb}\n",
    ")\n",
    "\n",
    "for r in g.query(q6, initBindings = {'?Family' : Literal('Smellie, William', datatype=XSD.string)}):\n",
    "  print(r.Subject)"
   ]
  },
  {
   "cell_type": "markdown",
   "metadata": {},
   "source": [
    "Query 7: Asking for resources uris which has ABACUS in their term names"
   ]
  },
  {
   "cell_type": "code",
   "execution_count": 20,
   "metadata": {},
   "outputs": [
    {
     "name": "stdout",
     "output_type": "stream",
     "text": [
      "https://w3id.org/eb/i/Article/9929777383804340_193322698_ABACUS_0\n",
      "https://w3id.org/eb/i/Article/9929777383804340_193322698_ABACUS_1\n",
      "https://w3id.org/eb/i/Article/997902543804341_190273291_ABACUS_0\n",
      "https://w3id.org/eb/i/Article/997902543804341_190273291_ABACUS_1\n",
      "https://w3id.org/eb/i/Article/997902543804341_190273291_ABACUS_2\n",
      "https://w3id.org/eb/i/Article/9910796253804340_192547781_ABACUS_0\n",
      "https://w3id.org/eb/i/Article/9910796253804340_192547781_ABACUS_1\n",
      "https://w3id.org/eb/i/Article/9910796253804340_192547781_ABACUS_2\n",
      "https://w3id.org/eb/i/Article/992277653804341_144133901_ABACUS_0\n",
      "https://w3id.org/eb/i/Article/992277653804341_144133901_ABACUS_2\n",
      "https://w3id.org/eb/i/Article/992277653804341_144133901_ABACUS_3\n",
      "https://w3id.org/eb/i/Article/9929192893804340_144850366_ABACUS_0\n",
      "https://w3id.org/eb/i/Article/9929192893804340_144850366_ABACUS_2\n",
      "https://w3id.org/eb/i/Article/9929192893804340_144850366_ABACUS_3\n",
      "https://w3id.org/eb/i/Article/997902523804341_144850370_ABACUS_0\n",
      "https://w3id.org/eb/i/Article/997902523804341_144850370_ABACUS_1\n",
      "https://w3id.org/eb/i/Topic/9929777383804340_193322698_ABACUS_2\n",
      "https://w3id.org/eb/i/Article/9910796253804340_192547781_ABACUS_3\n",
      "https://w3id.org/eb/i/Article/9910796273804340_192547789_ABACUS_0\n",
      "https://w3id.org/eb/i/Article/9910796273804340_192984259_ABACUS_0\n",
      "https://w3id.org/eb/i/Article/992277653804341_144133901_ABACUS_1\n",
      "https://w3id.org/eb/i/Article/9929192893804340_144850366_ABACUS_1\n",
      "https://w3id.org/eb/i/Article/9910796273804340_192984259_ABACUS_1\n",
      "https://w3id.org/eb/i/Article/9910796273804340_192984259_ABACUS_3\n",
      "https://w3id.org/eb/i/Article/9922270543804340_192016229_ABACUS_0\n",
      "https://w3id.org/eb/i/Article/9922270543804340_192016229_ABACUS_1\n",
      "https://w3id.org/eb/i/Topic/9910796273804340_192984259_ABACUS_2\n"
     ]
    }
   ],
   "source": [
    "from rdflib import XSD\n",
    "q7 = prepareQuery('''\n",
    "  SELECT ?Subject WHERE { \n",
    "    ?Subject eb:name ?Term.\n",
    "  } \n",
    "  ''',\n",
    "    initNs = { \"eb\": eb}\n",
    ")\n",
    "\n",
    "for r in g.query(q7, initBindings = {'?Term' : Literal('ABACUS', datatype=XSD.string)}):\n",
    "  print(r.Subject)"
   ]
  },
  {
   "cell_type": "markdown",
   "metadata": {},
   "source": [
    "Query 8: Asking for resources uris and terms names which has ABACUS in their term names"
   ]
  },
  {
   "cell_type": "code",
   "execution_count": 21,
   "metadata": {},
   "outputs": [
    {
     "name": "stdout",
     "output_type": "stream",
     "text": [
      "https://w3id.org/eb/i/Article/9929777383804340_193322698_ABACUS_0 ABACUS\n",
      "https://w3id.org/eb/i/Article/9929777383804340_193322698_ABACUS_1 ABACUS\n",
      "https://w3id.org/eb/i/Article/997902543804341_190273291_ABACUS_0 ABACUS\n",
      "https://w3id.org/eb/i/Article/997902543804341_190273291_ABACUS_1 ABACUS\n",
      "https://w3id.org/eb/i/Article/997902543804341_190273291_ABACUS_2 ABACUS\n",
      "https://w3id.org/eb/i/Article/9910796253804340_192547781_ABACUS_0 ABACUS\n",
      "https://w3id.org/eb/i/Article/9910796253804340_192547781_ABACUS_1 ABACUS\n",
      "https://w3id.org/eb/i/Article/9910796253804340_192547781_ABACUS_2 ABACUS\n",
      "https://w3id.org/eb/i/Article/992277653804341_144133901_ABACUS_0 ABACUS\n",
      "https://w3id.org/eb/i/Article/992277653804341_144133901_ABACUS_2 ABACUS\n",
      "https://w3id.org/eb/i/Article/992277653804341_144133901_ABACUS_3 ABACUS\n",
      "https://w3id.org/eb/i/Article/9929192893804340_144850366_ABACUS_0 ABACUS\n",
      "https://w3id.org/eb/i/Article/9929192893804340_144850366_ABACUS_2 ABACUS\n",
      "https://w3id.org/eb/i/Article/9929192893804340_144850366_ABACUS_3 ABACUS\n",
      "https://w3id.org/eb/i/Article/997902523804341_144850370_ABACUS_0 ABACUS\n",
      "https://w3id.org/eb/i/Article/997902523804341_144850370_ABACUS_1 ABACUS\n",
      "https://w3id.org/eb/i/Topic/9929777383804340_193322698_ABACUS_2 ABACUS\n",
      "https://w3id.org/eb/i/Article/9910796253804340_192547781_ABACUS_3 ABACUS\n",
      "https://w3id.org/eb/i/Article/9910796273804340_192547789_ABACUS_0 ABACUS\n",
      "https://w3id.org/eb/i/Article/9910796273804340_192984259_ABACUS_0 ABACUS\n",
      "https://w3id.org/eb/i/Article/992277653804341_144133901_ABACUS_1 ABACUS\n",
      "https://w3id.org/eb/i/Article/9929192893804340_144850366_ABACUS_1 ABACUS\n",
      "https://w3id.org/eb/i/Article/9910796273804340_192984259_ABACUS_1 ABACUS\n",
      "https://w3id.org/eb/i/Article/9910796273804340_192984259_ABACUS_3 ABACUS\n",
      "https://w3id.org/eb/i/Article/9922270543804340_192016229_ABACUS_0 ABACUS\n",
      "https://w3id.org/eb/i/Article/9922270543804340_192016229_ABACUS_1 ABACUS\n",
      "https://w3id.org/eb/i/Topic/9910796273804340_192984259_ABACUS_2 ABACUS\n"
     ]
    }
   ],
   "source": [
    "from rdflib import XSD\n",
    "q8 = prepareQuery('''\n",
    "  SELECT ?Subject ?Term WHERE { \n",
    "    ?Subject eb:name ?Term.\n",
    "  } \n",
    "  ''',\n",
    "    initNs = { \"eb\": eb}\n",
    ")\n",
    "\n",
    "for r in g.query(q8, initBindings = {'?Term' : Literal('ABACUS', datatype=XSD.string)}):\n",
    "  print(r.Subject, r.Term)"
   ]
  },
  {
   "cell_type": "markdown",
   "metadata": {},
   "source": [
    "Query 9: Asking for all Edition resources"
   ]
  },
  {
   "cell_type": "code",
   "execution_count": 22,
   "metadata": {},
   "outputs": [
    {
     "name": "stdout",
     "output_type": "stream",
     "text": [
      "https://w3id.org/eb/i/Edition/9910796233804340\n",
      "https://w3id.org/eb/i/Edition/9910796253804340\n",
      "https://w3id.org/eb/i/Edition/9910796273804340\n",
      "https://w3id.org/eb/i/Edition/9910796343804340\n",
      "https://w3id.org/eb/i/Edition/9922270543804340\n",
      "https://w3id.org/eb/i/Edition/9929192893804340\n",
      "https://w3id.org/eb/i/Edition/9929777383804340\n",
      "https://w3id.org/eb/i/Edition/997902523804341\n",
      "https://w3id.org/eb/i/Edition/997902543804341\n",
      "https://w3id.org/eb/i/Edition/992277653804341\n"
     ]
    }
   ],
   "source": [
    "q9 = prepareQuery('''\n",
    "    SELECT ?edition\n",
    "    WHERE {\n",
    "       ?edition rdf:type eb:Edition .\n",
    "    }\n",
    "    ''',\n",
    "  initNs = { \"eb\": eb}\n",
    ")\n",
    "\n",
    "for r in g.query(q9):\n",
    "  print(r.edition)"
   ]
  },
  {
   "cell_type": "markdown",
   "metadata": {},
   "source": [
    "Query 10: Asking for the first 10 topics resources"
   ]
  },
  {
   "cell_type": "code",
   "execution_count": 23,
   "metadata": {},
   "outputs": [
    {
     "name": "stdout",
     "output_type": "stream",
     "text": [
      "https://w3id.org/eb/i/Topic/9910796233804340_191253819_JTXVF_0\n",
      "https://w3id.org/eb/i/Topic/9910796233804340_191253825_J_0\n",
      "https://w3id.org/eb/i/Topic/9910796233804340_191253838_GUZZERAT_0\n",
      "https://w3id.org/eb/i/Topic/9910796233804340_191253838_MICKOSCOK_0\n",
      "https://w3id.org/eb/i/Topic/9910796233804340_191253838_SPMMPP_0\n",
      "https://w3id.org/eb/i/Topic/9910796233804340_191320558_IROJKOTIONEHEE_0\n",
      "https://w3id.org/eb/i/Topic/9910796233804340_191320558_SIII_0\n",
      "https://w3id.org/eb/i/Topic/9910796233804340_191678900_SUHGERYPDXX_0\n",
      "https://w3id.org/eb/i/Topic/9910796233804340_191678901_WPJCPDXIA_0\n",
      "https://w3id.org/eb/i/Topic/9910796233804340_191678902_MECH_0\n"
     ]
    }
   ],
   "source": [
    "q10 = prepareQuery('''\n",
    "    SELECT ?topic\n",
    "    WHERE {\n",
    "       ?topic rdf:type eb:Topic .\n",
    "    }\n",
    "    LIMIT 10\n",
    "    ''',\n",
    "  initNs = { \"eb\": eb}\n",
    ")\n",
    "\n",
    "for r in g.query(q10):\n",
    "  print(r.topic)"
   ]
  },
  {
   "cell_type": "markdown",
   "metadata": {},
   "source": [
    "Query 11: Asking for the first 5 articles resources, with their related terms, names, and definitions"
   ]
  },
  {
   "cell_type": "code",
   "execution_count": 28,
   "metadata": {},
   "outputs": [
    {
     "name": "stdout",
     "output_type": "stream",
     "text": [
      "https://w3id.org/eb/i/Article/9910796233804340_191253819_AGROM_0 https://w3id.org/eb/i/Article/9910796233804340_191678901_INDEX_0 AGROM a disease frequent in Bengal parts of the Indies, in wmich the tongue chaps, and is sometimes covered with white Indians are very fearful of this disease, which tribute to extreme heat of the stomach. is, to drink some chalybeate liquor, or the AGROSTEMMA, Wild Lychnis, in Botany. See Botany Index.\n",
      "----\n",
      "https://w3id.org/eb/i/Article/9910796233804340_191253819_AGROM_0 https://w3id.org/eb/i/Article/9910796233804340_191679019_INDEX_0 AGROM a disease frequent in Bengal parts of the Indies, in wmich the tongue chaps, and is sometimes covered with white Indians are very fearful of this disease, which tribute to extreme heat of the stomach. is, to drink some chalybeate liquor, or the AGROSTEMMA, Wild Lychnis, in Botany. See Botany Index.\n",
      "----\n",
      "https://w3id.org/eb/i/Article/9910796233804340_191253819_AGUE_0 https://w3id.org/eb/i/Article/9910796233804340_191678901_INDEX_0 AGUE a general name for all periodical which, according to the different times of the feverish paroxysm, are denominated tan, and quotidian. See Medicine Index. Aav E-Cake, the popular name for a hard the left side of the belly, lower than the to be the effetft of intermittent severs. Slav E-Tree, a name given to the sassafras, count of its febrifuge qualities.\n",
      "----\n",
      "https://w3id.org/eb/i/Article/9910796233804340_191253819_AGUE_0 https://w3id.org/eb/i/Article/9910796233804340_191679019_INDEX_0 AGUE a general name for all periodical which, according to the different times of the feverish paroxysm, are denominated tan, and quotidian. See Medicine Index. Aav E-Cake, the popular name for a hard the left side of the belly, lower than the to be the effetft of intermittent severs. Slav E-Tree, a name given to the sassafras, count of its febrifuge qualities.\n",
      "----\n",
      "https://w3id.org/eb/i/Article/9910796233804340_191253819_AGUL_0 https://w3id.org/eb/i/Article/9910796233804340_191678901_INDEX_0 AGUL in Botany, a fynonyme of the hedyfarum. See Hedysarum, Botany Index.\n",
      "----\n"
     ]
    }
   ],
   "source": [
    "q11 = prepareQuery('''\n",
    "    SELECT *\n",
    "    WHERE {\n",
    "       ?article a eb:Article .\n",
    "       ?article eb:relatedTerms ?relatedTerms . \n",
    "       ?article eb:name ?name .\n",
    "       ?article eb:definition ?definition.\n",
    "    }\n",
    "    LIMIT 5\n",
    "    ''',\n",
    "  initNs = { \"eb\": eb}\n",
    ")\n",
    "\n",
    "for r in g.query(q11):\n",
    "  print(r.article, r.relatedTerms, r.name, r.definition)\n",
    "  print(\"----\")"
   ]
  },
  {
   "cell_type": "markdown",
   "metadata": {},
   "source": [
    "Query 12:  Asking for the terms which have ABACUS in their names, along with their definitions, Volume URI, and Edition Title"
   ]
  },
  {
   "cell_type": "code",
   "execution_count": 29,
   "metadata": {},
   "outputs": [
    {
     "name": "stdout",
     "output_type": "stream",
     "text": [
      "https://w3id.org/eb/i/Article/9929777383804340_193322698_ABACUS_0 among the ancients, was a kind of cupboard or buffet. Livy, describing the luxury into which the Romans degenerated after the conquest of Asia, says they had their abaci, beds, &c. plated over with gold. https://w3id.org/eb/i/Volume/9929777383804340_193322698 Encyclopaedia Britannica\n",
      "----\n",
      "https://w3id.org/eb/i/Article/9929777383804340_193322698_ABACUS_1 or https://w3id.org/eb/i/Volume/9929777383804340_193322698 Encyclopaedia Britannica\n",
      "----\n",
      "https://w3id.org/eb/i/Article/997902543804341_190273291_ABACUS_0 among the ancients, was a kind of cupboard or buffet. Livy, describing the luxury into which the Romans degenerated after the conquest of Asia, says, They had their abaci, beds, &c. plated https://w3id.org/eb/i/Volume/997902543804341_190273291 Encyclopaedia Britannica\n",
      "----\n",
      "https://w3id.org/eb/i/Article/997902543804341_190273291_ABACUS_1 Major, in metallurgic operations, the name of a trough used in the mines, wherein the ore is washed. https://w3id.org/eb/i/Volume/997902543804341_190273291 Encyclopaedia Britannica\n",
      "----\n",
      "https://w3id.org/eb/i/Article/997902543804341_190273291_ABACUS_2 in archite£lure,signifies the superior part or member of the capital of a column, and serves as a kind of crowning to both. Vitruvius tells us the abacus was originally intended to represent a square tile laid over an urn, or rather over a basket. See ARCHITEC- https://w3id.org/eb/i/Volume/997902543804341_190273291 Encyclopaedia Britannica\n",
      "----\n",
      "https://w3id.org/eb/i/Article/9910796253804340_192547781_ABACUS_0 among the ancients, was a kind of cupboard or buffet. Livy, describing the luxury into which the Romans degenerated after the conquest of Asia, says they had their abaci, beds, &c. plated over https://w3id.org/eb/i/Volume/9910796253804340_192547781 Encyclopaedia Britannica\n",
      "----\n",
      "https://w3id.org/eb/i/Article/9910796253804340_192547781_ABACUS_1 Major, in metallurgic of a trough used in the mines, wherein https://w3id.org/eb/i/Volume/9910796253804340_192547781 Encyclopaedia Britannica\n",
      "----\n",
      "https://w3id.org/eb/i/Article/9910796253804340_192547781_ABACUS_2 in Ancient Geographij, supposed by the ancients to be an island in the German ocean, called by Timaeus Basilia, and by Xenophon Lam|)sacenusl?r//^b; now the peninsula of Scandinavia. Here, according to Pliny, some imagined that amber dropped from the https://w3id.org/eb/i/Volume/9910796253804340_192547781 Encyclopaedia Britannica\n",
      "----\n",
      "https://w3id.org/eb/i/Article/992277653804341_144133901_ABACUS_0 a table strewed over with dust or sand, upon which the ancient mathematicians drew their figures, It also signified a cupboard, or buffet. https://w3id.org/eb/i/Volume/992277653804341_144133901 Encyclopaedia Britannica; or, A dictionary of arts and sciences, compiled upon a new plan\n",
      "----\n",
      "https://w3id.org/eb/i/Article/992277653804341_144133901_ABACUS_2 is also the name of an ancient instrument for facilitating operations in arithmetic. It is vadoully contrived. That chiefly used in Europe is made by drawing any number of parallel lines at the di(lance of two diameters of one of the counters used in the calculation. A counter placed on.the lowed line, signifies r; on the sd, 10; on the 3d, 100; on the 4th, 1000, &c. In the intermediate spaces, the same counters are eflimated at one Jialf of the value of the line immediately superior, viz. between the id and 2d, 5; between the 2d and 3d, 50, &c. See plate I. fig. 2. A B, where the same number, 1768 for example, is represented under both by different dispositions of the counters. https://w3id.org/eb/i/Volume/992277653804341_144133901 Encyclopaedia Britannica; or, A dictionary of arts and sciences, compiled upon a new plan\n",
      "----\n",
      "https://w3id.org/eb/i/Article/992277653804341_144133901_ABACUS_3 logijlicus, a right-angled triangle, whose sides forming the right angle contain the numbers from 1 to 60, and its area the fafta of every two of the numbers perpendicularly opposite. This is also called a canon Jk^&cus Pythagvricus, the multiplication-table, or any table of numbers that facilitates operations in arith- https://w3id.org/eb/i/Volume/992277653804341_144133901 Encyclopaedia Britannica; or, A dictionary of arts and sciences, compiled upon a new plan\n",
      "----\n",
      "https://w3id.org/eb/i/Article/9929192893804340_144850366_ABACUS_0 a table strewed over with dust or sand, upon v/hich the ancient mathematicians drew their figures. It also signified a cupboard, or buffet. https://w3id.org/eb/i/Volume/9929192893804340_144850366 Encyclopaedia Britannica: or, A dictionary of arts and sciences\n",
      "----\n",
      "https://w3id.org/eb/i/Article/9929192893804340_144850366_ABACUS_2 is also the name of an ancient inllrument for facilitating operations in arithmetic. It is variously contrived. That chiefly used in Europe is made by drawing any number of parallel lines at the difiance of two diameters of one of the counters used in the calculation. A counter placed on the lowest line, fignifics i; on the 2d, 10; on the 3d, 100; on the 4th, 1000, &c. In the intermediate spaces, the same counters are efiimated at one half of the value of the line immediately superior, viz. between the ist and 2d, 5 ; between the 2d and 3d, 50, &c. See plate I. fig. 2. A B, where the same number, 1768 for example, is represented under both by different dispositions of the counters. https://w3id.org/eb/i/Volume/9929192893804340_144850366 Encyclopaedia Britannica: or, A dictionary of arts and sciences\n",
      "----\n",
      "https://w3id.org/eb/i/Article/9929192893804340_144850366_ABACUS_3 Pythagoricus, the multiplication-table, or any table of numbers that facilitates operations in arith- https://w3id.org/eb/i/Volume/9929192893804340_144850366 Encyclopaedia Britannica: or, A dictionary of arts and sciences\n",
      "----\n",
      "https://w3id.org/eb/i/Article/997902523804341_144850370_ABACUS_0 among the ancients, was a kind of cupboard, or buffet. J Livy, deferibing the luxury into which the Romans degenerated after the conquest of Asia, says, They had their abaci, beds, &c. plated over with gold. (Dec. IV. Lib. ix.) https://w3id.org/eb/i/Volume/997902523804341_144850370 Encyclopaedia Britannica\n",
      "----\n",
      "https://w3id.org/eb/i/Article/997902523804341_144850370_ABACUS_1 Major, in metallurgic operations, the name of a trough used in the mines, wherein the ore is waftied. https://w3id.org/eb/i/Volume/997902523804341_144850370 Encyclopaedia Britannica\n",
      "----\n",
      "https://w3id.org/eb/i/Topic/9929777383804340_193322698_ABACUS_2 Abacus. Roman Abacus. ing of balanced accounts, says, that the pebbles were cleared away, and none left. 1 His rival, Demosthenes, repeating his expression, employs further the verb avravikuv, which means to take up as many counters as were laid down. It is evident, therefore, that the ancients, in keeping their accounts, did not separately draw together the credits and the debts, but set down pebbles for the former, and took up pebbles for the latter. As soon as the board became cleared, the opposite claims were exactly balanced. We may observe, that the phrase to clear one s scores or accounts, meaning to settle or adjust them, is still preserved in the popular language of Europe, being suggested by the same practice of reckoning with counters, which prevailed indeed until a comparatively late period. The Romans borrowed their Abacus from the Greeks, and never aspired higher in the pursuit of science, do each pebble or counter required for that board they gave the name of calculus, a diminutive formed from calx, a stone; and applied the verb calculare, to signify the operation of combining or separating such pebbles or counters. Hence innumerable allusions by the Latin authors. Ponere calculum—subducere calculum, to put down a counter, or to take it up; that is, to add or subtract; vocare aliquid ad calculum, ut par sit ratio acceptorum et datorum—to submit any thing to calculation, so that the balance of debtor and creditor may be struck. The emperor Helvius Pertinax, who had been taught, while a boy, the arts of writing and casting accounts, is said, by Julius Capitolinus, to be litteris elementariis et calculo imbutus. St Augustine, whose juvenile years were devoted to pleasure and dissipation, acquaints us, in his extraordinary Confessions, that to him no song ever sounded more odious than the repetition or cantio, that one and one make two, and two and two moke four. The use of the Abacus, called sometimes likewise the Mensa Pythagorica, formed an essential part of the education of every noble Roman youth: Nec qui abaco numeros, et secto in pulvere metas Scit risisse vafer. PERS. Sat. i. 131. From Martianus Capella we learn that, as refinement advanced, a coloured sand, generally of a greenish hue, was employed to strew the surface of the abacus. Sic dbacum perstare jubet, sic tegmine glauco Pandere pulvereum formarum ductibus aequor. Lib. vii. De Arithmetica. A small box or coffer, called a Loculus, having compartments for holding the calculi or counters, was a necessary appendage of the abacus. Instead of carrying a slate and satchel, as in modern times, the Roman boy was accustomed to trudge to school, loaded with his arithmetical board, and his box of counters: Quo pueri magnis e centurionibus orti, Lcevo suspensi loculos talulamque lacerto. HORAT. Sat. i. 6. In the progress of luxury, tali, or dies made of ivory, were used instead of pebbles, and small silver coins came to supply the place of counters. Under the emperors, every patrician living in a spacious mansion, and indulging in all the pomp and splendour of eastern princes, generally entertained, for various functions, a numerous train of foreign slaves or freedmen in his palace. Of these, the librarius or miniculator, was employed in teaching the children their letters; but the notarius registered expenses, the rationarius adjusted and settled accounts, and the tabularius or calculator, working with his counters and board, performed what computations might be required. Sometimes these laborious combiners of numbers were termed reproachfully canculones or calculones. In the fervour of operation, their gestures must often have appeared constrained and risible. Abacus. Computat, ac cevet. Ponatur calculus, adsint Cum tabula pueri. Juv. Sat. ix. 40. The nicety acquired in calculation by the Roman youth, was not quite agreeable to the careless and easy temper of Horace. Romani pueri longis rationibus assem Discunt in parteis centum diducere. Dicat Silius Albini, Si de quincunce remota est Uncia, quid superet ? Poteras dixisse, Triens. Eu ! Item poteris servare tuam. Redit uncia; quid sit ? Semis. Epist. ad Pisones. It was a practice among the ancients to keep a diary, by marking their fortunate days by a lapillus, or small white pebble, and their days of misfortune by a black one. Hence the frequent allusions which occur in the Classics: O diem laetum, notandumque mihi candidissimo calculo! PLIN. Epist. vi. 11. diesque nobis Signandi melioribus lapillis ! MART. ix. 53. Hunc, Macrine, diem numera meliore lapillo, Qui tibi labentes apponit candidus annos. PERS. Sat. ii. 1, 2. To facilitate the working by counters, the construction of the abacus was afterwards improved. Instead of the perpendicular lines or bars, the board had its surface divided by sets of parallel grooves, by stretched wires, or even by successive rows of holes. It was easy to move small counters in the grooves, to slide perforated beads along the wires, or to stick large nobs or round-headed nails in the different holes. To diminish the number of marks required, every column was surmounted by a shorter one, wherein each counter had the same value as five of the ordinary kind, being half the index of the Denary Scale. The abacus, instead of wood, was often, for the sake of convenience and durability, made of metal, frequently brass, and sometimes silver. In the Plate entitled ARITHMETIC, we have copied, from the third volume of the Supplement added by Polenus to. the immense Thesaurus of Gnevius, two varieties of this instrument, as used by the Romans. They both rest on good authorities, having been delineated from antique monuments,—the first kind by Ursinus, and the second by Marcus Velserus. In the one, the numbers are represented by flattish perforated beads, ranged on parallel wires; and, in the other, they are signified by small round counters moving in parallel grooves. These instruments contain each seven capital bars, expressing in order units, tens, hundreds, thousands, ten thousands, hundred thousands, and millions ; and above them are shorter bars following the same progression, but having five times the relative value. With four beads on each of the long wires, and Kciv xudaoui utriv at Y^o/, xat mgrri. (DEMOSTHENES/>ro Corona.) iAbacus, one bead on every corresponding short wire, it is evident that any number could be expressed, as far as ten millions. In all these, the Denary Scale is followed uniformly; but there is, besides, a small appendage to the arrangement founded on the Duodenary System. Immediately below the place of units is added a bar, with its corresponding branch, both marked 0, being designed to signify ounces, or the twelfth parts of a pound. Five beads on the long wire, and one bead on the short wire, equivalent now to six, would therefore denote eleven ounces. To express the simpler fractions of an ounce, three very short bars are annexed behind the rest; a bead on the one marked S or 5, the contraction for Semissis, denoting half an ounce; a bead on the other, which is marked by the inverted 3, the contraction for Sicilicum, signifying the quarter of an ounce ; and a bead on the last very short bar, marked 2 > a contraction for the symbol ^ or Bince Sextulce, intimating a duella or two-sixths, that is, the third part of an ounce. The second form of the abacus differs in no essential respect from the first, the grooves only supplying the place of parallel wires. We should observe that the Romans applied the same word abacus, to signify an article of luxurious furniture, resembling in shape the arithmetical board, but often highly ornamental, and destined for a very different purpose,—the relaxation and the amusement of the opulent. It was used in a game apparently similar to that of chess, which displayed a lively image of the struggles and vicissitudes of war. The infamous and abandoned Nero took particular delight in this sort of play, and drove along the surface of the abacus with a beautiful quadriga, or chariot of ivory. The civil arts of Rome were communicated to other nations by the tide of victory, and maintained through the vigour and firmness of her imperial sway. But the simpler and more useful improvements survived the wreck of empire, among the various people again restored by fortune to their barbarous independence. In all transactions wherein money was concerned, it was found convenient to follow the procedure of the Abacus, in representing numbers by counters placed in parallel rows. During the middle ages, it became the usual practice over Europe for merchants, auditors of accounts, or judges appointed to decide in matters of revenue, to appear on a covered bank or bench, so called, from an old Saxon or Franconian word, signifying a seat. Hence those terms were afterwards appropriated to offices for receiving pledges, chambers for the accommodation of money-dealers, or courts for the trying of questions respecting property or the claims of the Crown. Hence also the word bankrupt, which occurs in all the dialects of Europe. The term scaccarium, from which was derived the French, and thence the English name for the Exchequer, anciently signified merely a chess-board, being formed from scaccum, denoting one \"of the movable pieces in that intricate game. The reason of this application of the term is sufficiently obvious. The table for accounts was, to facilitate the calculations, always covered with a cloth, resembling the surface of the scaccarium or abacus, and distinguished by perpendicular and chequered lines. The learned Skene was therefore mistaken in supposing that the Exchequer C U S. 7 derived its name from the play of chess, because its Abacus, suitors appear to sight a keen and dubious battle. 1 The Court of Exchequer, which takes cognizance of all Exchequer questions of revenue, was introduced into England by the Board, and Norman conquest. Richard Fitznigel, in a treatise or ot j ier Candialogue on the subject, written about the middle of the trivancps twelfth century, says that the scaccarium was a quadrangular table about ten feet long and five feet broad, with a ledge or border about four inches high, to prevent any thing from rolling over, and was surrounded on all sides by seats for the judges, the tellers, and other officers. It was covered every year, after the term of Easter, with fresh black cloth, divided by perpendicular white lines, or distinctures, at intervals of about a foot or a palm, and again parted by similar transverse lines. In reckoning, they proceeded, he says, according to the rules of arithmetic, 2 using small coins for counters. The lowest bar exhibited pence, the one above it shillings, the next pounds; and the higher bars denoted successively tens, twenties, hundreds, thousands, and ten thousands of pounds; though, in those early times of penury and severe economy, it very seldom happened that so large a sum as the last ever came to be reckoned. The first bar, therefore, advanced by dozens, the second and third by scores, and the rest of the stock of bars by the multiples of ten. The teller sat about the middle of the table ; on his right hand eleven pennies were heaped on the first bar, and a pile of nineteen shillings on the second; while a quantity of pounds was collected opposite to him, on the third bar. For the sake of expedition, he might employ a different mark to represent half the value of any bar, a silver penny for ten shillings, and a gold penny for ten pounds. In early times, a chequered board, the emblem of calculation, was hung out, to indicate an office for changing money. It was afterwards adopted as the sign of an inn or hostelry, where victuals were sold, or strangers lodged and entertained. We may perceive traces of that ancient practice existing even at present. It is customary in London, and in some provincial towns, to have a chequer, diced with red and white, painted against the sides of the door of a chop-house. The use of the smaller abacus in assisting numerical computation was not unknown during the middle ages. In England, however, it appears to have scarcely entered into actual practice, being mostly confined to those “ slender clerks” who, in such a benighted period, passed for men of science and learning. The calculator was styled, in correct Latinity, abacista; but, in the Italian dialect, abbachista, or abbachiere. A different name came afterwards to be imposed. The Arabians, who, under the appellation of Saracens or Moors, conquered Spain, and enriched that insulated country by commendable industry and skill, had likewise introduced their mathematical science. Having adopted a most refined species of numeration, to which they gave the barbarous name of algarismus, algorismus, or algorithmus, from the definite article al, and the Greek word ctgi Oyog, or number, this compound term was adopted by the Christians of the West, in their admiration of superior skill, to signify calculation in general, long before the peculiar mode had become known and practised among them. The term algarism was corrupted in English into augrim or awgrym, as printed by Wynkyn 1 “ Because mony persons conveenis in the Checker to playe their causes, contrare uthers, as gif they were fechtand in an arrayed battell, quilk is the forme and ordour of the said playe.” (SKENE, ad voc. Scaccarium.) 5 He calls it Arismetica: In the Myrrourof the Worlde, printed by Caxton, in 1481, it is strangely named Ars Me trike, a proof of the total ignorance of Greek at that period in England.ABACUS. Abacus. de Worde, at the end of the fifteenth century; and appli' ed even to the pebbles or counters used in ordinary calculation. In confirmation of this remark, we shall not scruple to quote a passage from our ancient poet Chaucer, who flourished about a century before, and whose verses, however rude, are sometimes highly graphic. This clerk was clepec! bendy Nicholas; Of derne love he coude and of solas; And therto he was slie and ful prive, And like a maiden meke for to se. A chambre had he ip that hostelrie Alone, withouten any compagnie, Ful fetisly ydight with herbes sote, And he himself was swete as is the rote Of licoris, or any setewale. His almageste, and bokes gret and smale. His astre'labre, longing fqr his art, His augrtm stones, layen faire apart On shelves couched at his beddcs hed, His presse ycovered with a fabling red. And all above ther lay a gay sautrie, On which he made on nightes melodie, So swetely, that all the chambre rong: And Angelas ad virginem he song. And after that he song the kinge’s note ; Ful often blessed was his mery throte. The Milleres Tale, v. 13-112. The abacus, with its store of counters, wanted the valuable property of being portable, and was at all times evidently a clumsy and most incommodious implement of calculation. In many cases, it became quite indispensable to adopt some sure and ready method of expressing at Digita I Nu-least the lower numbers. The ancients employed the monition, variously combined inflections of the fingers on both hands to signify the numerical series, and on this narrow basis they framed a system of considerable extent. In allusion to the very ancient practice of numbering by the arbitrary play of the fingers, Orontes, the son-in-law of Artaxerxes, having incurred the weighty displeasure of that monarch, is reported by Plutarch to have exclaimed in terms exactly of the same import as those before ascribed to Solon, that “ the favourites of kings resemble the fingers of the arithmetician, being sometimes at the top and sometimes at the bottom of the scale, and are equivalent at one time to ten thousand, and at another to mere units/’ 1 Among the Romans likewise, the allusions to the mode of expressing numbers by the varied inflection of the fingers, are very frequent. Hence the classical expressions, computare digitis, and numerare per digitos; and hence the line of Ausonius, Quot ter luctatus cum pollice computat index. In this play of the fingers great dexterity was acquired ; and hence the phrase which so frequently occurs in the C assies—digitis. It was customary to begin with the left hand and thence proceed to the right hand, on which the different combined inflections indicated exactly one hundred times more. Hence the peculiar force of this passage from Juvenal: Rex Pylius,. magno si quicquam credis Homero Exemplum vitae suit a cornice secundae ; Felix nimirum, qui tot per saecula mortem Distulit, atque suos jam dextra computat annos. Sat. x. 246-249. Many such allusions to the mode of indicating numbers by the varied position of the fingers or the hands, occur in the writings of Cicero and Quintilian. The ancients, indeed, for want of better instruments, were tempted to Abacus, push that curious art to a very great extent. By a single inflection of the fingers of the left hand, they proceeded as far as ten ; and by combining another inflection with it, they could advance to an hundred. The same signs on the right hand, being augmented, as we have seen, an hundredfold, carried them as far as ten thousand ; and by a further combination, those signs, being referred successively to different parts of the body, were again multiplied an hundred times, and therefore extended to a million. This kind of pantomime outlived the subversion of the Roman empire, and was particularly fitted for the slothful religious orders who fattened on its ruins, and, relinquishing every maply pursuit, recommended silence as a virtue, or enjoined it as an obligation. Our venerable Bede has explained the practice of manual numeration at some length; and we have given (see Plate ARITHMETIC) a Small specimen of such inflections and digital signs. These signs were merely fugitive, and it became necessary to adopt other marks, of a permanent nature, for the purpose of recording numbers. But of all the contrivances adopted with this view, the rudest undoubtedly is the method of registering by tallies, introduced into England along with the Court of Exchequer, as another badge of the Norman conquest. These consist of straight wellseasoned sticks, of hazel or willow, so called from the French verb tailler, to cut, because they are squared at each end. The sum of money was marked on the side with notches, by the cutter of tallies, and likewise inscribed on both sides in Roman characters, by the writer of the tallies. The smallest notch signified a penny, a larger one a shilling, and one still larger a pound; but other notches, increasing successively in breadth, were made to denote ten, a hundred, and a thousand. The stick was then cleft through the middle by the deputy-chamberlains, with a knife and a mallet; the one portion being called the tally, or sometimes the scachia, stipes, or kancia ; and the other portion named the countertally, ox folium. After the union with Scotland had been concluded in 1707, a store of hazel rods for tallies was sent down to Edinburgh, being intended, no doubt, as a mighty refinement on the Scottish mode of keeping accounts. Their advantages, however, were not perceived or acknowledged, and they have since been suffered, we believe, to lie as so much useless lumber. But the case was very different in England, which is more addicted to a slavish attachment to ancient forms, and opposed to the general progress of society. T. his ridiculous plan of keeping the public accounts was maintained up to the year 1834, when a more rational system was adopted, and the old wooden tallies were ordered to be destroyed. The parties entrusted with this duty burnt them in the stoves which heated the House of Lords ; and so intense was the heat occasioned by the burning of so great a quantity of dry wood, that it set fire to the building, and consumed the Houses of Parliament, on the 16th October 1834. The Chinese have, from the remotest ages, used in all Chinese their calculations, an instrument called the Swan-Pan, or Swan-Pan. Computing Table, similar in its shape and construction to the abacus of the Romans, but more complete and uniform. It consists of a small oblong board surrounded by a high ledge, and parted lengthwise near the top by another ledge. It is then divided vertically by ten smooth and slender rods of bamboo, on which are strung two B<Jf7ZZ, T ZJ H f n TU ‘'‘ V ^A KT / A01 r f ‘”' MYPIA *AS, MONAAA rifovcu Swam*. ^ ^ 10 ™ & TOAOXU™,. (Pldi . Apophthegm.) TO avro KC Ll T(OV https://w3id.org/eb/i/Volume/9929777383804340_193322698 Encyclopaedia Britannica\n",
      "----\n",
      "https://w3id.org/eb/i/Article/9910796253804340_192547781_ABACUS_3 the son of Jupiter by iEgina.the isle of J Egina was depopulated by a plague, his father, in compassion to his grief, changed all the ants iEdile. U p 0n Jt into men and women, who were called Myrvii' ,J ” v an ant. The foundation of the sable is said to be, that when the country had been depopulated by pirates, who forced the few that remained to take shelter in caves, i Eacus encouraged them to come out, and by commerce and industry recover what they had lost. His character for justice was such, that, in a time of universal drought, he was nominated by the Delphic oracle to intercede for Greece, and his prayer was answered. See the article ^Egina. The Pagans also imagined that T Eacus, on account of his impartial justice, was chosen by Pluto one of the three judges of the dead } and that it was his province to /EBU Di E, a name anciently given to the Western i EBURA, in Ancient Geography, a town of Spain, in Estremadura, on the river Guadiana, to the west of Merida j now called Talavera. W. Long. 7* I 5* N. Lat. 38. 40. i ECHMALOTARCHA, in Jewish antiquity, a title given to the principal leader or governor of the Hebrew captives residing in Chaldea, Assyria, and the neighbouring countries. This magistrate was called by the Jews, rosch-galath, i. e. the chief of the captivity : but the above term, of like import in the Greek, is that used by Origen and others who wrote in the The Jewish writers assure us, that the cechmalotarchce were only to be chosen out of the tribe ol Judah. The eastern Jews had their princes of the captivity, as the western Jews their patriarchs. The Jews are still said to have an cechmalotarcha at Babylon, but without the authority of the ancient ones. (Basnage Hist. Jews, i E Cl DIUM, in Botany. See Botany Index. https://w3id.org/eb/i/Volume/9910796253804340_192547781 Encyclopaedia Britannica\n",
      "----\n",
      "https://w3id.org/eb/i/Article/9910796273804340_192547789_ABACUS_0 in architecture, II. 5; III. 464 —cupboard, II. 5—arithmetical instrument, ib. https://w3id.org/eb/i/Volume/9910796273804340_192547789 Encyclopaedia Britannica\n",
      "----\n",
      "https://w3id.org/eb/i/Article/9910796273804340_192984259_ABACUS_0 among the ancients, was a kind or buffet. Livy, describing the luxury into mans degenerated after the conquest of Asia, had their abaci, beds, &c. plated over with https://w3id.org/eb/i/Volume/9910796273804340_192984259 Encyclopaedia Britannica\n",
      "----\n",
      "https://w3id.org/eb/i/Article/992277653804341_144133901_ABACUS_1 in architeflure, signifies the superior part or member of the capital of a column, and serves as a kind of crowning to both. It was originally intended to represent a square tile covering a basket. The form of the abacus is not the same in all orders: in the Tuscan, Doric, and Ionic, it‘is generally square; but in the Corinthian and Compofite, its four sides are arched ir Avards, and embellilhed in the middle withornament, as a rose or other flower, Scammozzi uses abacus for a concave moulding on the capital of the Tuscan pedefial; and Palladio calls the plinth above the echinus, or boultin, in the Tufean and Doric orders, by the same name. See plate I. fig. i. and https://w3id.org/eb/i/Volume/992277653804341_144133901 Encyclopaedia Britannica; or, A dictionary of arts and sciences, compiled upon a new plan\n",
      "----\n",
      "https://w3id.org/eb/i/Article/9929192893804340_144850366_ABACUS_1 in architedture, signifies the superior part or member of the capital of a column, and serves as a kind of crowning to both. It was originally intended to represent a square tile covering a basket. The form of the abacus is not the same in all orders: in the Tuscan, Doric, and Ionic, it is generally square; biit in the Corinthian and Compofite, its four sides are arched inwards, and embellilhed in the middle withornament, as a rose or other flower. Scammozzi uses abacus for a concave moulding on the capital of the Tuscan pedestal; and Palladio calls the plinth above the echinus, or boultin, in the Tuscan and Doric orders, by the same name. See plate I. fig. I. and https://w3id.org/eb/i/Volume/9929192893804340_144850366 Encyclopaedia Britannica: or, A dictionary of arts and sciences\n",
      "----\n",
      "https://w3id.org/eb/i/Article/9910796273804340_192984259_ABACUS_1 is also the name of an ancient facilitating operations in arithmetic. The numbers by counters appears happily fitted the principles of calculation. In the schools Greece, the boys acquired the elements of working on a smooth board with a narrow so named, evidently, from the combination A, B, F, the first letters of their alphabet, resembling, cept perhaps in size, the tablet likewise called on which the children with us used to begin art of reading. The pupils, in those distant instructed to compute, by forming progressive counters, which, according to the wealth or individual, consisted of small pebbles, of bone or ivory, or even of silver coins. From Greek word for a pebble, comes the verb But the same board served also for rudiments of writing and the principles The Abax being strewed with green sand, the ditus of classic authors, it was easy, with a radius rod, to trace letters, draw lines, construct describe circles.—Besides the original word Greeks had the diminutive A(3a,'/uov; and it probable, that this smaller board was commonly calculations, while the larger one was reserved them for the purpose of tracing geometrical To their calculating board the ancients make It appears, from the relation Laertius, that the practice of bestowing on pebbles tificial value, according to the rank or place occupied, remounts higher than the age of great reformer and legislator of the Athenian wealth. This sagacious observer and disinterested man, who was, however, no admirer of regal used to‘compare the passive ministers of kings to the counters or pebbles of arithmeticians, sometimes most important, and at other times nificant. 1 i Eschines, in his oration for the Crown, buvayivovg ffagafl-Xjjc Voug SIVUI roug Yrjtpoig TAI2 EHI TUN AOrmiGN. tmsrw ‘Tore ^ IIAEIU an/mimv, non os 'HTTfl. (DIOG. LAERT. in Vita Solonis.)ing of balanced accounts, says, that the pebbles were cleared away, and none left. 1 His rival, Demosthenes, repeating his expression, employs further the verb avran\\uv, which means to take up as many counters as were laid down. It is evident, therefore, that the ancients, in keeping their accounts, did not separately draw together the credits and the debts, but set down pebbles for the former, and took up pebbles for the latter. As soon as the board became cleared, the opposite claims were exactly balanced. We may observe, that the phrase to clear ones scores or accounts, meaning to settle or adjust them, is still preserved in the popular language of Europe, being suggested by the same practice of reckoning with counters, which prevailed indeed until a comparatively late The Romans borrowed their Abacus from the Greeks, and never aspired higher in the pursuit of science. To each pebble or counter required for that board they gave the name of calculus, a diminutive formed from calx, a stone; and applied the verb calculate, to signify the operation of combining or separating such pebbles or counters. Hence innumerable allusions by the Latin authors. Ponere calculum—subducere calcidum, to put down a counter, or to take it up; that is, to add or subtract; cocare aliquid ad calculum, ut par sit ratio acceptorum et datorum—to submit any thing to calcidation, so that the balance of debtor and creditor may be struck. Helvius Pertinax, who had been taught, while a boy, the arts of writing and casting accounts, is said, by Julius Capitolinus, to be litteris elementariis et calcido imbutus. St Augustine, whose juvenile years were devoted to pleasure and dissipation, acquaints us, in his extraordinary Confessions, that to him no song ever sounded more odious than the repetition or cantio, that one and one make two, and two and two make four. The use of the Abacus, called sometimes likewise the Mensa Pythagorica, formed an essential part of the education of every noble Roman Nec qui abaco numeros, et secto in pulvere met a a PEKS. Sat. i. 131. From Martianus Capella we learn that, as refinement advanced, a coloured sand, generally of a greenish hue, was employed to strew the surface of the abacus. Sic abacum perstare jubet, sic tegmine glauco Pandere pulvereum formarum ductibus sequor. Lib. vii. De Arithmetica. A small box or coffer, called a Loculus, having compartments for holding the calculi or counters, was a necessary appendage of the abacus. Instead of carrying a slate and satchel, as in modern times, the Roman boy was accustomed to trudge to school, loaded with his arithmetical board, and his box of counters: Quo pueri magnis e centurionibus orti, Lcevo suspensi loculos tubulamque lacerto. HORAT. Sat. i. 6. In the progress of luxury, tali, or dies made of ivory, Avere used instead of pebbles, and small silver coins came to supply the place of counters. Under the emperors, every patrician living in a spacious mansion, and indulging in all the pomp and splendour of eastern princes, generally entertained, for various functions, a numerous train of foreign slaves or freedmen in his palace. Of these, the librarius or miniculator, was employed in teaching the children their letters; gistered expenses, the rationarius accounts, and the tabularius his counters and board, performed might be required. Sometimes of numbers were termed reproachfully In the fervour of operation, often have appeared constrained Computat, ac cevet. Ponatur The nicety acquired in calculation was not quite agreeable to the Romani puen longis rationibus Discunt in parteis centum Silius Albini, Si de quincunce Uncia, quid superet ? Poteras Rem poteris servare tuam. It was a practice among the by marking their fortunate white pebble, and their days one. Hence the frequent allusions O diem laetum, notandumque Signandi melioribus lapiltis ! Hunc, Macrine, diem numera Qui tibi labentes apponit candidus To facilitate the working by of the abacus was afterwards perpendicular lines or bars, vided by sets of parallel grooves, even by successive rows of holes. small counters in the grooves, along the wires, or to stick large nails in the different holes. marks required, every column er one, wherein each counter of the ordinary kind, being half Scale. The abacus, instead sake of convenience and durability, quently brass, and sometimes titled ARITHMETIC, we have lume of the Supplement added mense Thesaurus of Graevius, ment, as used by the Romans. authorities, having been delineated ments,—the first kind by Ursinus, Marcus Velserus. In the one, sented by flattish perforated wires; and, in the other, they counters moving in parallel grooves. contain each seven capital bars, tens, hundreds, thousands, ten thousands, and millions; and above them the same progression, but having value. \\\\ ith four beads on each Kcf,v xa Jaoai uffiv ai Yri<poi, xou gr,div rregifi. (DEMOSTHENES pro Corona.) https://w3id.org/eb/i/Volume/9910796273804340_192984259 Encyclopaedia Britannica\n",
      "----\n",
      "https://w3id.org/eb/i/Article/9910796273804340_192984259_ABACUS_3 the son of Jupiter by TEgina. isle of i Egina was depopulated by a plague, in compassion to his grief, changed all the into men and women, who were called Myrmidones, an ant. The foundation of the sable is that when the country had been depopulated who forced the few that remained to take shelter y Eacus encouraged them to come out, and by and industry recover what they had lost. His for justice was such, that, in a time of universal he was nominated by the Delphic oracle to intercede Greece, and his prayer was answered. See jEgina. The Pagans also imagined that i Eacus,count of his impartial justice, was chosen by Pluto one of the three judges of the dead; and that it was his province to judge the Europeans. /EBU Di E, a name anciently given to the Western https://w3id.org/eb/i/Volume/9910796273804340_192984259 Encyclopaedia Britannica\n",
      "----\n",
      "https://w3id.org/eb/i/Article/9922270543804340_192016229_ABACUS_0 among the ancients, was a kind of cup Livy, deferibing the luxury into which the Romans degenerated after the conquest of Alia, says they had their abaci, beds, &c. plated over https://w3id.org/eb/i/Volume/9922270543804340_192016229 Encyclopaedia Britannica, or, a Dictionary of arts, sciences, and miscellaneous literature : enlarged and improved. Illustrated with nearly six hundred engravings\n",
      "----\n",
      "https://w3id.org/eb/i/Article/9922270543804340_192016229_ABACUS_1 Major, in metallurgic of a trough used in the mines, https://w3id.org/eb/i/Volume/9922270543804340_192016229 Encyclopaedia Britannica, or, a Dictionary of arts, sciences, and miscellaneous literature : enlarged and improved. Illustrated with nearly six hundred engravings\n",
      "----\n",
      "https://w3id.org/eb/i/Topic/9910796273804340_192984259_ABACUS_2 Abacus, one bead on every corresponding short wire, it is evident that any number could be expressed, as far as ten millions. In all these, the Denary Scale is followed uniformly; but there is, besides, a small appendage to the arrangement founded on the Duodenary System. Immediately below the place of units is added a bar, with its corresponding branch, both marked 0, being designed to signify ounces, or the twelfth parts of a pound. Five beads on the long wire, and one bead on the short wire, equivalent now to six, would therefore denote eleven ounces. To express the simpler fractions of an ounce, three very short bars are annexed behind the rest; a bead on the one marked S or 3, the contraction for Semissis, denoting half an ounce; a bead on the other, which is marked by the inverted 3, the contraction for Sicilicum, signifying the quarter of an ounce ; and a bead on the last very short bar, marked 2, a contraction for the symbol ^ or Bince Sextulce, intimating a duella or two-sixths, that is, the third part of an ounce. The second form of the abacus differs in no essential respect from the first, the grooves only supplying the place of parallel wires. We should observe that the Romans applied the same word abacus, to signify an article of luxurious furniture, resembling in shape the arithmetical board, but often highly ornamental, and destined for a very different purpose,—the relaxation and the amusement of the opulent. It was used in a game apparently similar to that of chess, which displayed a lively image of the struggles and vicissitudes of war. The infamous and abandoned Nero took particular delight in this sort of play, and drove along the surface of the abacus with a beautiful quadriga, or chariot of ivory. The civil arts of Rome were communicated to other nations by the tide of victory, and maintained through the vigour and firmness of her imperial sway. But the simpler and more useful improvements survived the wreck of empire, among the various people again restored by fortune to their barbarous independence. In all transactions wherein money was concerned, it was found convenient to follow the procedure of the Abacus, in representing numbers by counters placed in parallel rows. During the middle ages, it became the usual practice over Europe for merchants, auditors of accounts, or judges appointed to decide in matters of revenue, to appear on a covered bank or bench, so called, from an old Saxon or Franconian word, signifying a seat. Hence those terms were afterwards appropriated to offices for receiving pledges, chambers for the accommodation of money-dealers, or courts for the trying of questions respecting property or the claims of the Crown. Hence also the word bankrupt, which occurs in all the dialects of Europe. The term scaccarium, from which was derived the French, and thence the English name for the Exchequer, anciently signified merely a chess-board, being formed from scaccum, denoting one of the movable pieces in that intricate game. The reason of this application of the term is sufficiently obvious. The table for accounts was, to facilitate the calculations, always covered with a cloth, resembling the surface of the scaccarium or abacus, and distinguished by perpendicular and chequered lines. The learned Skene was therefore mistaken in supposing that the Exchequer C U S. 7 derived its name from the play of chess, because its Abacus, suitors appear to sight a keen and dubious battle. 1 The Court of Exchequer, which takes cognizance of all Exchequer questions of revenue, was introduced into England by the Board, and Norman conquest. Richard Fitznigel, in a treatise or other Condialogue on the subject, written about the middle of the trivan ces. twelfth century, says that the scaccarium was a quadrangular table about ten feet long and five feet broad, with a ledge or border about four inches high, to prevent any thing from rolling over, and was surrounded on all sides by seats for the judges, the tellers, and other officers. It was covered every year, after the term of Easter, with fresh black cloth, divided by perpendicular white lines, or distinctures, at intervals of about a foot or a palm, and again parted by similar transverse lines. In reckoning, they proceeded, he says, according to the rules of arithmetic, 2 using small coins for counters. The lowest bar exhibited pence, the one above it shillings, the next pounds; and the higher bars denoted successively tens, twenties, hundreds, thousands, and ten thousands of pounds; though, in those early times of penury and severe economy, it very seldom happened that so large a sum as the last ever came to be reckoned. The first bar, therefore, advanced by dozens, the second and third by scores, and the rest of the stock of bars by the multiples of ten. The teller sat about the middle of the table ; on his right hand eleven pennies were heaped on the first bar, and a pile of nineteen shillings on the second; while a quantity of pounds was collected opposite to him, on the third bar. For the sake of expedition, he might employ a different mark to represent half the value of any bar, a silver penny for ten shillings, and‘a gold penny for ten pounds. In early times, a chequered board, the emblem of calculation, was hung out, to indicate an office for changing money. It was afterwards adopted as the sign of an inn or hostelry, where victuals were sold, or strangers lodged and entertained. We may perceive traces of that ancient practice existing even at present. It is customary in London, and in some provincial towns, to have a chequer, diced with red and white, painted against the sides of the door of a chop-house. The use of the smaller abacus in assisting numerical computation was not unknown during the middle ages. In England, however, it appears to have scarcely entered into actual practice, being mostly confined to those “ slender clerks” who, in such a benighted period, passed for men of science and learning. The calculator was styled, in correct Latinity, abacista; but, in the Italian dialect, abbachista, or abbachiere. A different name came afterwards to be imposed. The Arabians, who, under the appellation of Saracens or Moors, conquered Spain, and enriched that insulated country by commendable industry and skill, had likewise introduced their mathematical science. Having adopted a most refined species of numeration, to which they gave the barbarous name of algarismus, algorismus, or algorithmus, from the definite article al, and the Greek word or number, this compound term was adopted by the Christians of the West, in their admiration of superior skill, to signify calculation in general, long before the peculiar mode had become known and practised among them. The term algarism was corrupted in English into augrim or awgrym, as printed by Wynkyn 1 “ Because mony persons conveenis in tbe Checker to playe their causes, contrare uthers, as gif thev were fechtand in an arraved battell, quilk is the forme and ordour of the said playe.” (SKENE, ad voc. Scaccarium.) * He calfs it Arismetica: In the Myrrourof the Worlde, printed by Caxton, in 1481, it is strangely named Ars Metrike a proof of the total ignorance of Greek at that period in England.Abacus, de Worde, at the end of the fifteenth century; and applied even to the pebbles or counters used in ordinary calculation. In confirmation of this remark, we shall not scruple to quote a passage from our ancient poet Chaucer, who flourished about a century before, and whose verses, however rude, are sometimes highly graphic. This clerk was cleped bendy Nicholas; Of derne love he coude and of solas; And therto he was slie and ful prive. And like a maiden meke for to se. A chambre had he in that hostelrie Alone, withouten any compagnie, Ful fetisly ydighfc with herbes sote, And he himself was swete as is the rote Of licoris, or any setewale. His almageste, and bokes gret and smale, His astrelabre, longing for his art, His augrim stones, layen faire apart On shelves couched at his beddcs hed. His presse ycovered with a falding red. And all above ther lay a gay sautrie, On which he made on nightes melodie, So swetely, that all the chambre rong : And Angelus ad virginem he song. And after that he song the kinge’s note; Ful often blessed was his mery throte. The Milleres Tale, v. 13-32. The abacus, with its store of counters, wanted the valuable property of being portable, and was at all times evidently a clumsy and most incommodious implement of calculation. In many cases, it became quite indispensable to adopt some sure and ready method of expressing at Bigital Nu-least the lower numbers. The ancients employed the meration. variously combined inflections of the fingers on both hands to signify the numerical series, and on this narrow basis they framed a system of considerable extent. In allusion to the very ancient practice of numbering by the arbitrary play of the fingers, Orontes, the son-in-law of Artaxerxes, having incurred the weighty displeasure of that monarch, is reported by Plutarch to have exclaimed in terms exactly of the same import as those before ascribed to Solon, that “ the favourites of kings resemble the fingers of the arithmetician, being sometimes at the top and sometimes at the bottom of the scale, and are equivalent at one time to ten thousand, and at another to mere units;’ 1 Among the Romans likewise, the allusions to the mode of expressing numbers by the varied inflection of the fingers, are very frequent. Hence the classical expressions, computare digitis, and numerare per digitos; and hence the line of Ausonius, Quot ter luctatus cum pollice computat index. In this play of the fingers great dexterity was acquired ; and hence the phrase which so frequently occurs in the Classics—micare digitis. It was customary to begin with the left hand, and thence proceed to the right hand, on which the different combined inflections indicated exactly one hundred times more. Hence the peculiar force of this passage from Juvenal: Rex Pylius, magno si quicquam credis Homero, Exemplum vitae suit a cornice secundae ; Felix nimirum, qui tot per saecula mortem Distulit, atque sups jam dextra computat annos. Sat. x. 246-249. Many such allusions to the mode of indicating numbers by the varied position of the fingers or the hands, occur in the writings of Cicero and Quintilian. The ancients, indeed, for want of better instruments, were tempted to Abacus, push that curious art to a very great extent. By a single inflection of the fingers of the left hand, they proceeded as far as ten ; and by combining another inflection with it, they could advance to an hundred. The same signs on the right hand, being augmented, as we have seen, an hundredfold, carried them as far as ten thousand ; and by a further combination, those signs, being referred successively to different parts of the body, were again multiplied an hundred times, and therefore extended to a million. This kind of pantomime outlived the subversion of the Roman empire, and was particularly fitted for the slothful religious orders who fattened on its ruins, and, relinquishing every manly pursuit, recommended silence as a virtue, or enjoined it as an obligation. Our venerable Bede has explained the practice of manual numeration at some length ; and we have given (see Plate ARITHMETIC) a small specimen of such inflections and digital signs. These signs were merely fugitive, and it became necessary to adopt other marks, of a permanent nature, for the purpose of recording numbers. But of all the contrivances adopted with this view, the rudest undoubtedly is the method of registering by tallies, introduced into England along with the Court of Exchequer, as another badge of the Norman conquest. These consist of straight wellseasoned sticks, of hazel or willow, so called from the French verb tailler, to cut, because they are squared at each end. The sum of money was marked on the side with notches, by the cutter of tallies, and likewise inscribed on both sides in Roman characters, by the writer of the tallies. The smallest notch signified a penny, a larger one a shilling, and one still larger a pound; but other notches, increasing successively in breadth, were made to denote ten, a hundred, and a thousand. The stick was then cleft through the middle by the deputy-chamberlains, with a knife and a mallet; the one portion being called the tally, or sometimes the scachia, stipes, or kancia ; and the other portion named the countertally, or folium. After the union with Scotland had been concluded in 1707, a store of hazel rods for tallies was sent down to Edinburgh, being intended, no doubt, as a mighty refinement on the Scottish mode of keeping accounts. Their advantages, however, were not perceived or acknowledged, and they have since been suffered, we believe, to lie as so much useless lumber. But the case is very different in England, where a blind ant Wslavish attachment to ancient forms, however ridiculous they may through time have become, is almost constantly opposed to the general progress of society. Were a sensible traveller from India or China to visit our metropolis, and report, on his return home, that a nation highly polished, enlightened, and opulent, yet keep their accounts of the public revenue, surpassing annually many millions of pounds, by means of notches cut on willow rods,—he would certainly not be credited, but supposed to use the licence of substituting a description of the practice of the most savage tribes of the American Continent. The Chinese have, from the remotest ages, used in all Chinese their calculations, an instrument called the Swan-Pan, or Swan-Pan. Computing Table, similar in its shape and construction to the abacus of the Romans, but more complete and uniform. It consists of a small oblong board surroqnded by a high ledge, and parted lengthwise near the top by another ledge. It is then divided vertically by ten smooth and slender rods of bamboo, on which are strung two 1 Ka Sacrep o! ror; AAKTTAOI m ytv MTPIAAA2, h MONAAA r.Qtm, bumnu,. TO auro xa/ tpi Aoug, m [Xiv ro nav ovvaedou, m be rovAa^isrov. (PLUT. Apophthegm.)small balls of ivory or bone in the upper compartment, and five such balls in the lower and larger compartment; each of the latter on the several bars denoting unit, and each of the former, for the sake of abbreviation, expressing five. See Plate (ARITHMETIC), where the balls are actually set to signify the numbers annexed. The system of measures, weights, and coins, which prevails throughout the Chinese empire, being entirely founded on the decimal subdivision, the swan-pan was admirably suited for representing it. could begin at any particular bar, and reckon with the same facility either upwards or downwards. This advantage of treating fractions exactly like integers was, in practice, of the utmost consequence. Accordingly, those arithmetical machines, but of very different sizes, are constantly used in all the shops and booths of Canton other cities, and are said to be handled by the native with such rapidity and address as quite astonish But the Chinese have also contrived a very neat and kind of digital signs for denoting numbers, greatly both in precision and extent, to the method by the Romans. Since every finger has three let the thumb-nail of the other hand touch those in succession, passing up the one side of the finger, the middle, and again up the other side, and it will nine different marks, applicable to the Denary Scale arrangement. On the little finger those marks signify on the next finger tens, on the mid-finger hundreds, the index thousands, and on the thumb hundred thou With the combined positions of the joints of the hand, therefore, it was easy to advance by signs as as a million. To illustrate more fully this ingenious we have, immediately below the koua of the Fou-hi, copied (See PLATE), from a Chinese treatise of education, the figure of a hand, at the several joints of each finger, by characters the inside, corresponding to one, two, and three, the middle by those answering \\.o four, five, and six, again up the outside by characters expressing seven, and nine. It is said that the merchants in China are to conclude bargains with each other by help those signs; and that often, from selfish or fraudulent they conceal the pantomime from the knowledge by-standers, by only seeming to seize the hand withPythagoricus, the common multiplication table, called from its being invented by Pythagoras.Major, in metallurgic operations, the name of trough used in the mines, wherein the ore is washed. https://w3id.org/eb/i/Volume/9910796273804340_192984259 Encyclopaedia Britannica\n",
      "----\n"
     ]
    }
   ],
   "source": [
    "q12 = prepareQuery('''\n",
    "  SELECT  ?Subject ?Definition ?HasPart ?Title WHERE {\n",
    "    ?Subject eb:name ?Term.\n",
    "    ?Subject eb:definition ?Definition.\n",
    "    ?HasPart eb:hasPart ?Subject.\n",
    "    ?HasPart eb:title ?Title\n",
    "  }  \n",
    "  ''',\n",
    "  initNs = { \"eb\": eb}\n",
    ")\n",
    "\n",
    "for r in g.query(q12, initBindings = {'?Term' : Literal('ABACUS', datatype=XSD.string)}):\n",
    "  print(r.Subject, r.Definition, r.HasPart, r.Title)\n",
    "  print(\"----\")\n",
    "\n"
   ]
  },
  {
   "cell_type": "code",
   "execution_count": 30,
   "metadata": {},
   "outputs": [
    {
     "name": "stdout",
     "output_type": "stream",
     "text": [
      "https://w3id.org/eb/i/Article/9910796253804340_192547781_ABACUS_0 https://w3id.org/eb/i/Article/9910796253804340_192200322_CHINESE_0\n",
      "----\n",
      "https://w3id.org/eb/i/Article/9910796253804340_192547781_ABACUS_1 https://w3id.org/eb/i/Article/9910796253804340_192200322_CHINESE_0\n",
      "----\n",
      "https://w3id.org/eb/i/Article/9910796253804340_192547781_ABACUS_2 https://w3id.org/eb/i/Article/9910796253804340_192200322_CHINESE_0\n",
      "----\n",
      "https://w3id.org/eb/i/Article/992277653804341_144133901_ABACUS_0 https://w3id.org/eb/i/Article/992277653804341_144133901_ABACISCUS_0\n",
      "----\n",
      "https://w3id.org/eb/i/Article/992277653804341_144133901_ABACUS_2 https://w3id.org/eb/i/Article/992277653804341_144133901_ABACISCUS_0\n",
      "----\n",
      "https://w3id.org/eb/i/Article/992277653804341_144133901_ABACUS_3 https://w3id.org/eb/i/Article/992277653804341_144133901_ABACISCUS_0\n",
      "----\n",
      "https://w3id.org/eb/i/Article/9929192893804340_144850366_ABACUS_0 https://w3id.org/eb/i/Article/9929192893804340_144850366_ABACISCUS_0\n",
      "----\n",
      "https://w3id.org/eb/i/Article/9929192893804340_144850366_ABACUS_2 https://w3id.org/eb/i/Article/9929192893804340_144850366_ABACISCUS_0\n",
      "----\n",
      "https://w3id.org/eb/i/Article/9929192893804340_144850366_ABACUS_3 https://w3id.org/eb/i/Article/9929192893804340_144850366_ABACISCUS_0\n",
      "----\n",
      "https://w3id.org/eb/i/Article/997902523804341_144850370_ABACUS_0 https://w3id.org/eb/i/Article/997902523804341_144850370_EGE_0\n",
      "----\n",
      "https://w3id.org/eb/i/Article/997902523804341_144850370_ABACUS_1 https://w3id.org/eb/i/Article/997902523804341_144850370_EGE_0\n",
      "----\n",
      "https://w3id.org/eb/i/Article/9910796253804340_192547781_ABACUS_3 https://w3id.org/eb/i/Article/9910796253804340_192200322_CHINESE_0\n",
      "----\n",
      "https://w3id.org/eb/i/Article/9910796273804340_192547789_ABACUS_0 https://w3id.org/eb/i/Article/9910796273804340_193819045_SWANPAN_0\n",
      "----\n",
      "https://w3id.org/eb/i/Article/9910796273804340_192547789_ABACUS_0 https://w3id.org/eb/i/Topic/9910796273804340_193108323_LESLIE_0\n",
      "----\n",
      "https://w3id.org/eb/i/Article/9910796273804340_192984259_ABACUS_0 https://w3id.org/eb/i/Article/9910796273804340_193819045_SWANPAN_0\n",
      "----\n",
      "https://w3id.org/eb/i/Article/9910796273804340_192984259_ABACUS_0 https://w3id.org/eb/i/Topic/9910796273804340_193108323_LESLIE_0\n",
      "----\n",
      "https://w3id.org/eb/i/Article/992277653804341_144133901_ABACUS_1 https://w3id.org/eb/i/Article/992277653804341_144133901_ABACISCUS_0\n",
      "----\n",
      "https://w3id.org/eb/i/Article/9929192893804340_144850366_ABACUS_1 https://w3id.org/eb/i/Article/9929192893804340_144850366_ABACISCUS_0\n",
      "----\n",
      "https://w3id.org/eb/i/Article/9910796273804340_192984259_ABACUS_1 https://w3id.org/eb/i/Article/9910796273804340_193819045_SWANPAN_0\n",
      "----\n",
      "https://w3id.org/eb/i/Article/9910796273804340_192984259_ABACUS_1 https://w3id.org/eb/i/Topic/9910796273804340_193108323_LESLIE_0\n",
      "----\n",
      "https://w3id.org/eb/i/Article/9910796273804340_192984259_ABACUS_3 https://w3id.org/eb/i/Article/9910796273804340_193819045_SWANPAN_0\n",
      "----\n",
      "https://w3id.org/eb/i/Article/9910796273804340_192984259_ABACUS_3 https://w3id.org/eb/i/Topic/9910796273804340_193108323_LESLIE_0\n",
      "----\n",
      "https://w3id.org/eb/i/Article/9922270543804340_192016229_ABACUS_0 https://w3id.org/eb/i/Article/9922270543804340_191678899_SWANPAN_0\n",
      "----\n",
      "https://w3id.org/eb/i/Article/9922270543804340_192016229_ABACUS_0 https://w3id.org/eb/i/Article/9922270543804340_192016229_JEGIAS_0\n",
      "----\n",
      "https://w3id.org/eb/i/Article/9922270543804340_192016229_ABACUS_0 https://w3id.org/eb/i/Article/9922270543804340_192984255_CHINESE_0\n",
      "----\n",
      "https://w3id.org/eb/i/Article/9922270543804340_192016229_ABACUS_1 https://w3id.org/eb/i/Article/9922270543804340_191678899_SWANPAN_0\n",
      "----\n",
      "https://w3id.org/eb/i/Article/9922270543804340_192016229_ABACUS_1 https://w3id.org/eb/i/Article/9922270543804340_192016229_JEGIAS_0\n",
      "----\n",
      "https://w3id.org/eb/i/Article/9922270543804340_192016229_ABACUS_1 https://w3id.org/eb/i/Article/9922270543804340_192984255_CHINESE_0\n",
      "----\n",
      "https://w3id.org/eb/i/Topic/9910796273804340_192984259_ABACUS_2 https://w3id.org/eb/i/Article/9910796273804340_193819045_SWANPAN_0\n",
      "----\n",
      "https://w3id.org/eb/i/Topic/9910796273804340_192984259_ABACUS_2 https://w3id.org/eb/i/Topic/9910796273804340_193108323_LESLIE_0\n",
      "----\n"
     ]
    }
   ],
   "source": [
    "q13 = prepareQuery('''\n",
    "  SELECT  ?Subject ?RelatedTerms WHERE {\n",
    "    ?Subject eb:name ?Term.\n",
    "    ?RelatedTerms eb:relatedTerms ?Subject.\n",
    "\n",
    "    \n",
    "  }  \n",
    "  ''',\n",
    "  initNs = { \"eb\": eb}\n",
    ")\n",
    "\n",
    "for r in g.query(q13, initBindings = {'?Term' : Literal('ABACUS', datatype=XSD.string)}):\n",
    "  print(r.Subject, r.RelatedTerms)\n",
    "  print(\"----\")\n"
   ]
  },
  {
   "cell_type": "code",
   "execution_count": 23,
   "metadata": {},
   "outputs": [],
   "source": [
    "#G = rdflib_to_networkx_multidigraph(result)\n",
    "\n",
    "# Plot Networkx instance of RDF Graph\n",
    "#pos = nx.spring_layout(G, scale=2)\n",
    "#edge_labels = nx.get_edge_attributes(G, 'r')\n",
    "#nx.draw_networkx_edge_labels(G, pos, edge_labels=edge_labels)\n",
    "#nx.draw(G, with_labels=True)\n",
    "\n",
    "#if not in interactive mode for \n",
    "#plt.show()\n"
   ]
  },
  {
   "cell_type": "markdown",
   "metadata": {},
   "source": [
    "### Type 2: Connecting with FUSEKI and using SPARQLWrapper\n",
    "\n",
    "**Previously you need to have uploaded the Knowlege Graph (total_eb.ttl) into Apache Fuseki**"
   ]
  },
  {
   "cell_type": "markdown",
   "metadata": {},
   "source": [
    "Query 14: Basic query"
   ]
  },
  {
   "cell_type": "code",
   "execution_count": 31,
   "metadata": {},
   "outputs": [
    {
     "name": "stdout",
     "output_type": "stream",
     "text": [
      "https://w3id.org/eb/i/Article/9910796253804340_192200323_MATRICES_0 https://w3id.org/eb#position 5\n",
      "https://w3id.org/eb/i/Article/9910796253804340_192200323_MATRICES_0 https://w3id.org/eb#numberOfWords 57\n",
      "https://w3id.org/eb/i/Article/9910796253804340_192200323_MATRICES_0 https://w3id.org/eb#name MATRICES\n",
      "https://w3id.org/eb/i/Article/9910796253804340_192200323_MATRICES_0 http://www.w3.org/1999/02/22-rdf-syntax-ns#type https://w3id.org/eb#Article\n",
      "https://w3id.org/eb/i/Article/9910796253804340_192200323_MATRICES_0 https://w3id.org/eb#definition used in coining, are pieces of steel in form of dies, whereon are engraven the several figures, arms, characters, legends, &c. wherewith the species are to be stamped. The engraving is performed with several puncheons, which being formed in relievo, or prominent, when struck on the metal, make an indented impression, which the French call en creux.\n"
     ]
    }
   ],
   "source": [
    "sparql = SPARQLWrapper(\"http://localhost:3030/total_eb/sparql\")\n",
    "sparql.setQuery(\"\"\"\n",
    "    SELECT ?subject ?predicate ?object WHERE {   ?subject ?predicate ?object } LIMIT 5 \n",
    "\"\"\")\n",
    "sparql.setReturnFormat(JSON)\n",
    "results = sparql.query().convert()\n",
    "\n",
    "results\n",
    "\n",
    "for result in results[\"results\"][\"bindings\"]:\n",
    "    print(result[\"subject\"][\"value\"], result[\"predicate\"][\"value\"], result[\"object\"][\"value\"] )\n"
   ]
  },
  {
   "cell_type": "markdown",
   "metadata": {},
   "source": [
    "Query 15: Describe query"
   ]
  },
  {
   "cell_type": "code",
   "execution_count": 33,
   "metadata": {},
   "outputs": [],
   "source": [
    "sparql = SPARQLWrapper(\"http://localhost:3030/total_eb/sparql\")\n",
    "sparql.setQuery(\"\"\"\n",
    "    DESCRIBE <https://w3id.org/eb/i/Article/9929192893804340_144850368_PAISLEY_0>\n",
    "\"\"\")\n",
    "\n",
    "sparql.setReturnFormat(JSON)\n",
    "results = sparql.query().convert()\n"
   ]
  },
  {
   "cell_type": "code",
   "execution_count": 34,
   "metadata": {},
   "outputs": [
    {
     "name": "stdout",
     "output_type": "stream",
     "text": [
      "https://w3id.org/eb/i/Article/9929192893804340_144850368_PAISLEY_0 https://w3id.org/eb#name PAISLEY\n",
      "https://w3id.org/eb/i/Article/9929192893804340_144850368_PAISLEY_0 http://www.w3.org/1999/02/22-rdf-syntax-ns#type https://w3id.org/eb#Article\n",
      "https://w3id.org/eb/i/Article/9929192893804340_144850368_PAISLEY_0 https://w3id.org/eb#position 4\n",
      "https://w3id.org/eb/i/Article/9929192893804340_144850368_PAISLEY_0 https://w3id.org/eb#numberOfWords 14\n",
      "https://w3id.org/eb/i/Article/9929192893804340_144850368_PAISLEY_0 https://w3id.org/eb#startsAtPage https://w3id.org/eb/i/Page/9929192893804340_144850368_526\n",
      "https://w3id.org/eb/i/Article/9929192893804340_144850368_PAISLEY_0 https://w3id.org/eb#endsAtPage https://w3id.org/eb/i/Page/9929192893804340_144850368_526\n",
      "https://w3id.org/eb/i/Article/9929192893804340_144850368_PAISLEY_0 https://w3id.org/eb#definition a town of Scotland, in the county of Renfrew, six miles west of Glasgow.\n"
     ]
    }
   ],
   "source": [
    "for s,p,o in results:\n",
    "      print(s,p,o)"
   ]
  },
  {
   "cell_type": "markdown",
   "metadata": {},
   "source": [
    "Query 16: Print definition, article, start page number, end page number, year, volume number, edition number, related terms, permanent URL of Articles resources that have ABACUS in their term name. "
   ]
  },
  {
   "cell_type": "code",
   "execution_count": 35,
   "metadata": {},
   "outputs": [
    {
     "name": "stdout",
     "output_type": "stream",
     "text": [
      "{'definition': {'type': 'literal', 'value': 'among the ancients, was a kind of cup Livy, deferibing the luxury into which the Romans degenerated after the conquest of Alia, says they had their abaci, beds, &c. plated over'}, 'article': {'type': 'uri', 'value': 'https://w3id.org/eb/i/Article/9922270543804340_192016229_ABACUS_0'}, 'spnum': {'type': 'literal', 'datatype': 'http://www.w3.org/2001/XMLSchema#int', 'value': '22'}, 'epnum': {'type': 'literal', 'datatype': 'http://www.w3.org/2001/XMLSchema#int', 'value': '22'}, 'year': {'type': 'literal', 'datatype': 'http://www.w3.org/2001/XMLSchema#integer', 'value': '1815'}, 'vnum': {'type': 'literal', 'datatype': 'http://www.w3.org/2001/XMLSchema#integer', 'value': '1'}, 'enum': {'type': 'literal', 'datatype': 'http://www.w3.org/2001/XMLSchema#integer', 'value': '5'}, 'permanentURL': {'type': 'literal', 'value': 'https://digital.nls.uk/192016229'}}\n"
     ]
    }
   ],
   "source": [
    "sparql = SPARQLWrapper(\"http://localhost:3030/total_eb/sparql\")\n",
    "term=\"ABACUS\"\n",
    "query=\"\"\"\n",
    "    PREFIX eb: <https://w3id.org/eb#>\n",
    "    SELECT ?definition ?article ?spnum ?epnum ?year ?vnum ?enum ?rn ?permanentURL WHERE {\n",
    "       ?article a eb:Article ;\n",
    "                eb:name \"%s\" ;\n",
    "                eb:definition ?definition ;\n",
    "        OPTIONAL {?article eb:relatedTerms ?rt. \n",
    "                  ?rt eb:name ?rn. }\n",
    "       ?e eb:hasPart ?v.\n",
    "       ?v eb:number ?vnum.\n",
    "       ?v eb:permanentURL ?permanentURL.\n",
    "       ?v eb:hasPart ?article.\n",
    "       ?e eb:publicationYear ?year.\n",
    "       ?e eb:number ?enum.\n",
    "       ?article eb:startsAtPage ?sp.\n",
    "       ?sp   eb:number ?spnum .\n",
    "       ?article eb:endsAtPage ?ep.\n",
    "       ?ep eb:number ?epnum .\n",
    "               \n",
    "       }\n",
    "    \"\"\" % (term)\n",
    "sparql.setQuery(query)\n",
    "sparql.setReturnFormat(JSON)\n",
    "results = sparql.query().convert()\n",
    "for r in results[\"results\"][\"bindings\"]:\n",
    "    print(r)\n",
    "    break "
   ]
  },
  {
   "cell_type": "markdown",
   "metadata": {},
   "source": [
    "Query 17: Print definition, article, start page number, end page number, year, volume number, edition number, related terms, permanent URL of Articles or Topics resources that have ABACUS in their term name. "
   ]
  },
  {
   "cell_type": "code",
   "execution_count": 36,
   "metadata": {},
   "outputs": [
    {
     "name": "stdout",
     "output_type": "stream",
     "text": [
      "ABACUS\n",
      "among the ancients, was a kind of cup Livy, deferibing the luxury into which the Romans degenerated after the conquest of Alia, says they had their abaci, beds, &c. plated over\n",
      "ABACUS\n",
      "among the ancients, was a kind of cupboard or buffet. Livy, describing the luxury into which the Romans degenerated after the conquest of Asia, says they had their abaci, beds, &c. plated over with gold.\n",
      "ABACUS\n",
      "among the ancients, was a kind of cupboard, or buffet. J Livy, deferibing the luxury into which the Romans degenerated after the conquest of Asia, says, They had their abaci, beds, &c. plated over with gold. (Dec. IV. Lib. ix.)\n",
      "ABACUS\n",
      "in architecture, II. 5; III. 464 —cupboard, II. 5—arithmetical instrument, ib.\n",
      "ABACUS\n",
      "among the ancients, was a kind of cupboard or buffet. Livy, describing the luxury into which the Romans degenerated after the conquest of Asia, says they had their abaci, beds, &c. plated over\n",
      "ABACUS\n",
      "Major, in metallurgic operations, the name of a trough used in the mines, wherein the ore is washed.\n",
      "ABACUS\n",
      "the son of Jupiter by TEgina. isle of i Egina was depopulated by a plague, in compassion to his grief, changed all the into men and women, who were called Myrmidones, an ant. The foundation of the sable is that when the country had been depopulated who forced the few that remained to take shelter y Eacus encouraged them to come out, and by and industry recover what they had lost. His for justice was such, that, in a time of universal he was nominated by the Delphic oracle to intercede Greece, and his prayer was answered. See jEgina. The Pagans also imagined that i Eacus,count of his impartial justice, was chosen by Pluto one of the three judges of the dead; and that it was his province to judge the Europeans. /EBU Di E, a name anciently given to the Western\n",
      "ABACUS\n",
      "in architeflure, signifies the superior part or member of the capital of a column, and serves as a kind of crowning to both. It was originally intended to represent a square tile covering a basket. The form of the abacus is not the same in all orders: in the Tuscan, Doric, and Ionic, it‘is generally square; but in the Corinthian and Compofite, its four sides are arched ir Avards, and embellilhed in the middle withornament, as a rose or other flower, Scammozzi uses abacus for a concave moulding on the capital of the Tuscan pedefial; and Palladio calls the plinth above the echinus, or boultin, in the Tufean and Doric orders, by the same name. See plate I. fig. i. and\n",
      "ABACUS\n",
      "the son of Jupiter by iEgina.the isle of J Egina was depopulated by a plague, his father, in compassion to his grief, changed all the ants iEdile. U p 0n Jt into men and women, who were called Myrvii' ,J ” v an ant. The foundation of the sable is said to be, that when the country had been depopulated by pirates, who forced the few that remained to take shelter in caves, i Eacus encouraged them to come out, and by commerce and industry recover what they had lost. His character for justice was such, that, in a time of universal drought, he was nominated by the Delphic oracle to intercede for Greece, and his prayer was answered. See the article ^Egina. The Pagans also imagined that T Eacus, on account of his impartial justice, was chosen by Pluto one of the three judges of the dead } and that it was his province to /EBU Di E, a name anciently given to the Western i EBURA, in Ancient Geography, a town of Spain, in Estremadura, on the river Guadiana, to the west of Merida j now called Talavera. W. Long. 7* I 5* N. Lat. 38. 40. i ECHMALOTARCHA, in Jewish antiquity, a title given to the principal leader or governor of the Hebrew captives residing in Chaldea, Assyria, and the neighbouring countries. This magistrate was called by the Jews, rosch-galath, i. e. the chief of the captivity : but the above term, of like import in the Greek, is that used by Origen and others who wrote in the The Jewish writers assure us, that the cechmalotarchce were only to be chosen out of the tribe ol Judah. The eastern Jews had their princes of the captivity, as the western Jews their patriarchs. The Jews are still said to have an cechmalotarcha at Babylon, but without the authority of the ancient ones. (Basnage Hist. Jews, i E Cl DIUM, in Botany. See Botany Index.\n",
      "ABACUS\n",
      "the son of Jupiter by iEgina.the isle of J Egina was depopulated by a plague, his father, in compassion to his grief, changed all the ants iEdile. U p 0n Jt into men and women, who were called Myrvii' ,J ” v an ant. The foundation of the sable is said to be, that when the country had been depopulated by pirates, who forced the few that remained to take shelter in caves, i Eacus encouraged them to come out, and by commerce and industry recover what they had lost. His character for justice was such, that, in a time of universal drought, he was nominated by the Delphic oracle to intercede for Greece, and his prayer was answered. See the article ^Egina. The Pagans also imagined that T Eacus, on account of his impartial justice, was chosen by Pluto one of the three judges of the dead } and that it was his province to /EBU Di E, a name anciently given to the Western i EBURA, in Ancient Geography, a town of Spain, in Estremadura, on the river Guadiana, to the west of Merida j now called Talavera. W. Long. 7* I 5* N. Lat. 38. 40. i ECHMALOTARCHA, in Jewish antiquity, a title given to the principal leader or governor of the Hebrew captives residing in Chaldea, Assyria, and the neighbouring countries. This magistrate was called by the Jews, rosch-galath, i. e. the chief of the captivity : but the above term, of like import in the Greek, is that used by Origen and others who wrote in the The Jewish writers assure us, that the cechmalotarchce were only to be chosen out of the tribe ol Judah. The eastern Jews had their princes of the captivity, as the western Jews their patriarchs. The Jews are still said to have an cechmalotarcha at Babylon, but without the authority of the ancient ones. (Basnage Hist. Jews, i E Cl DIUM, in Botany. See Botany Index.\n",
      "ABACUS\n",
      "the son of Jupiter by iEgina.the isle of J Egina was depopulated by a plague, his father, in compassion to his grief, changed all the ants iEdile. U p 0n Jt into men and women, who were called Myrvii' ,J ” v an ant. The foundation of the sable is said to be, that when the country had been depopulated by pirates, who forced the few that remained to take shelter in caves, i Eacus encouraged them to come out, and by commerce and industry recover what they had lost. His character for justice was such, that, in a time of universal drought, he was nominated by the Delphic oracle to intercede for Greece, and his prayer was answered. See the article ^Egina. The Pagans also imagined that T Eacus, on account of his impartial justice, was chosen by Pluto one of the three judges of the dead } and that it was his province to /EBU Di E, a name anciently given to the Western i EBURA, in Ancient Geography, a town of Spain, in Estremadura, on the river Guadiana, to the west of Merida j now called Talavera. W. Long. 7* I 5* N. Lat. 38. 40. i ECHMALOTARCHA, in Jewish antiquity, a title given to the principal leader or governor of the Hebrew captives residing in Chaldea, Assyria, and the neighbouring countries. This magistrate was called by the Jews, rosch-galath, i. e. the chief of the captivity : but the above term, of like import in the Greek, is that used by Origen and others who wrote in the The Jewish writers assure us, that the cechmalotarchce were only to be chosen out of the tribe ol Judah. The eastern Jews had their princes of the captivity, as the western Jews their patriarchs. The Jews are still said to have an cechmalotarcha at Babylon, but without the authority of the ancient ones. (Basnage Hist. Jews, i E Cl DIUM, in Botany. See Botany Index.\n",
      "ABACUS\n",
      "the son of Jupiter by iEgina.the isle of J Egina was depopulated by a plague, his father, in compassion to his grief, changed all the ants iEdile. U p 0n Jt into men and women, who were called Myrvii' ,J ” v an ant. The foundation of the sable is said to be, that when the country had been depopulated by pirates, who forced the few that remained to take shelter in caves, i Eacus encouraged them to come out, and by commerce and industry recover what they had lost. His character for justice was such, that, in a time of universal drought, he was nominated by the Delphic oracle to intercede for Greece, and his prayer was answered. See the article ^Egina. The Pagans also imagined that T Eacus, on account of his impartial justice, was chosen by Pluto one of the three judges of the dead } and that it was his province to /EBU Di E, a name anciently given to the Western i EBURA, in Ancient Geography, a town of Spain, in Estremadura, on the river Guadiana, to the west of Merida j now called Talavera. W. Long. 7* I 5* N. Lat. 38. 40. i ECHMALOTARCHA, in Jewish antiquity, a title given to the principal leader or governor of the Hebrew captives residing in Chaldea, Assyria, and the neighbouring countries. This magistrate was called by the Jews, rosch-galath, i. e. the chief of the captivity : but the above term, of like import in the Greek, is that used by Origen and others who wrote in the The Jewish writers assure us, that the cechmalotarchce were only to be chosen out of the tribe ol Judah. The eastern Jews had their princes of the captivity, as the western Jews their patriarchs. The Jews are still said to have an cechmalotarcha at Babylon, but without the authority of the ancient ones. (Basnage Hist. Jews, i E Cl DIUM, in Botany. See Botany Index.\n",
      "ABACUS\n",
      "the son of Jupiter by iEgina.the isle of J Egina was depopulated by a plague, his father, in compassion to his grief, changed all the ants iEdile. U p 0n Jt into men and women, who were called Myrvii' ,J ” v an ant. The foundation of the sable is said to be, that when the country had been depopulated by pirates, who forced the few that remained to take shelter in caves, i Eacus encouraged them to come out, and by commerce and industry recover what they had lost. His character for justice was such, that, in a time of universal drought, he was nominated by the Delphic oracle to intercede for Greece, and his prayer was answered. See the article ^Egina. The Pagans also imagined that T Eacus, on account of his impartial justice, was chosen by Pluto one of the three judges of the dead } and that it was his province to /EBU Di E, a name anciently given to the Western i EBURA, in Ancient Geography, a town of Spain, in Estremadura, on the river Guadiana, to the west of Merida j now called Talavera. W. Long. 7* I 5* N. Lat. 38. 40. i ECHMALOTARCHA, in Jewish antiquity, a title given to the principal leader or governor of the Hebrew captives residing in Chaldea, Assyria, and the neighbouring countries. This magistrate was called by the Jews, rosch-galath, i. e. the chief of the captivity : but the above term, of like import in the Greek, is that used by Origen and others who wrote in the The Jewish writers assure us, that the cechmalotarchce were only to be chosen out of the tribe ol Judah. The eastern Jews had their princes of the captivity, as the western Jews their patriarchs. The Jews are still said to have an cechmalotarcha at Babylon, but without the authority of the ancient ones. (Basnage Hist. Jews, i E Cl DIUM, in Botany. See Botany Index.\n",
      "ABACUS\n",
      "the son of Jupiter by iEgina.the isle of J Egina was depopulated by a plague, his father, in compassion to his grief, changed all the ants iEdile. U p 0n Jt into men and women, who were called Myrvii' ,J ” v an ant. The foundation of the sable is said to be, that when the country had been depopulated by pirates, who forced the few that remained to take shelter in caves, i Eacus encouraged them to come out, and by commerce and industry recover what they had lost. His character for justice was such, that, in a time of universal drought, he was nominated by the Delphic oracle to intercede for Greece, and his prayer was answered. See the article ^Egina. The Pagans also imagined that T Eacus, on account of his impartial justice, was chosen by Pluto one of the three judges of the dead } and that it was his province to /EBU Di E, a name anciently given to the Western i EBURA, in Ancient Geography, a town of Spain, in Estremadura, on the river Guadiana, to the west of Merida j now called Talavera. W. Long. 7* I 5* N. Lat. 38. 40. i ECHMALOTARCHA, in Jewish antiquity, a title given to the principal leader or governor of the Hebrew captives residing in Chaldea, Assyria, and the neighbouring countries. This magistrate was called by the Jews, rosch-galath, i. e. the chief of the captivity : but the above term, of like import in the Greek, is that used by Origen and others who wrote in the The Jewish writers assure us, that the cechmalotarchce were only to be chosen out of the tribe ol Judah. The eastern Jews had their princes of the captivity, as the western Jews their patriarchs. The Jews are still said to have an cechmalotarcha at Babylon, but without the authority of the ancient ones. (Basnage Hist. Jews, i E Cl DIUM, in Botany. See Botany Index.\n",
      "ABACUS\n",
      "the son of Jupiter by iEgina.the isle of J Egina was depopulated by a plague, his father, in compassion to his grief, changed all the ants iEdile. U p 0n Jt into men and women, who were called Myrvii' ,J ” v an ant. The foundation of the sable is said to be, that when the country had been depopulated by pirates, who forced the few that remained to take shelter in caves, i Eacus encouraged them to come out, and by commerce and industry recover what they had lost. His character for justice was such, that, in a time of universal drought, he was nominated by the Delphic oracle to intercede for Greece, and his prayer was answered. See the article ^Egina. The Pagans also imagined that T Eacus, on account of his impartial justice, was chosen by Pluto one of the three judges of the dead } and that it was his province to /EBU Di E, a name anciently given to the Western i EBURA, in Ancient Geography, a town of Spain, in Estremadura, on the river Guadiana, to the west of Merida j now called Talavera. W. Long. 7* I 5* N. Lat. 38. 40. i ECHMALOTARCHA, in Jewish antiquity, a title given to the principal leader or governor of the Hebrew captives residing in Chaldea, Assyria, and the neighbouring countries. This magistrate was called by the Jews, rosch-galath, i. e. the chief of the captivity : but the above term, of like import in the Greek, is that used by Origen and others who wrote in the The Jewish writers assure us, that the cechmalotarchce were only to be chosen out of the tribe ol Judah. The eastern Jews had their princes of the captivity, as the western Jews their patriarchs. The Jews are still said to have an cechmalotarcha at Babylon, but without the authority of the ancient ones. (Basnage Hist. Jews, i E Cl DIUM, in Botany. See Botany Index.\n",
      "ABACUS\n",
      "the son of Jupiter by iEgina.the isle of J Egina was depopulated by a plague, his father, in compassion to his grief, changed all the ants iEdile. U p 0n Jt into men and women, who were called Myrvii' ,J ” v an ant. The foundation of the sable is said to be, that when the country had been depopulated by pirates, who forced the few that remained to take shelter in caves, i Eacus encouraged them to come out, and by commerce and industry recover what they had lost. His character for justice was such, that, in a time of universal drought, he was nominated by the Delphic oracle to intercede for Greece, and his prayer was answered. See the article ^Egina. The Pagans also imagined that T Eacus, on account of his impartial justice, was chosen by Pluto one of the three judges of the dead } and that it was his province to /EBU Di E, a name anciently given to the Western i EBURA, in Ancient Geography, a town of Spain, in Estremadura, on the river Guadiana, to the west of Merida j now called Talavera. W. Long. 7* I 5* N. Lat. 38. 40. i ECHMALOTARCHA, in Jewish antiquity, a title given to the principal leader or governor of the Hebrew captives residing in Chaldea, Assyria, and the neighbouring countries. This magistrate was called by the Jews, rosch-galath, i. e. the chief of the captivity : but the above term, of like import in the Greek, is that used by Origen and others who wrote in the The Jewish writers assure us, that the cechmalotarchce were only to be chosen out of the tribe ol Judah. The eastern Jews had their princes of the captivity, as the western Jews their patriarchs. The Jews are still said to have an cechmalotarcha at Babylon, but without the authority of the ancient ones. (Basnage Hist. Jews, i E Cl DIUM, in Botany. See Botany Index.\n",
      "ABACUS\n",
      "the son of Jupiter by iEgina.the isle of J Egina was depopulated by a plague, his father, in compassion to his grief, changed all the ants iEdile. U p 0n Jt into men and women, who were called Myrvii' ,J ” v an ant. The foundation of the sable is said to be, that when the country had been depopulated by pirates, who forced the few that remained to take shelter in caves, i Eacus encouraged them to come out, and by commerce and industry recover what they had lost. His character for justice was such, that, in a time of universal drought, he was nominated by the Delphic oracle to intercede for Greece, and his prayer was answered. See the article ^Egina. The Pagans also imagined that T Eacus, on account of his impartial justice, was chosen by Pluto one of the three judges of the dead } and that it was his province to /EBU Di E, a name anciently given to the Western i EBURA, in Ancient Geography, a town of Spain, in Estremadura, on the river Guadiana, to the west of Merida j now called Talavera. W. Long. 7* I 5* N. Lat. 38. 40. i ECHMALOTARCHA, in Jewish antiquity, a title given to the principal leader or governor of the Hebrew captives residing in Chaldea, Assyria, and the neighbouring countries. This magistrate was called by the Jews, rosch-galath, i. e. the chief of the captivity : but the above term, of like import in the Greek, is that used by Origen and others who wrote in the The Jewish writers assure us, that the cechmalotarchce were only to be chosen out of the tribe ol Judah. The eastern Jews had their princes of the captivity, as the western Jews their patriarchs. The Jews are still said to have an cechmalotarcha at Babylon, but without the authority of the ancient ones. (Basnage Hist. Jews, i E Cl DIUM, in Botany. See Botany Index.\n",
      "ABACUS\n",
      "the son of Jupiter by iEgina.the isle of J Egina was depopulated by a plague, his father, in compassion to his grief, changed all the ants iEdile. U p 0n Jt into men and women, who were called Myrvii' ,J ” v an ant. The foundation of the sable is said to be, that when the country had been depopulated by pirates, who forced the few that remained to take shelter in caves, i Eacus encouraged them to come out, and by commerce and industry recover what they had lost. His character for justice was such, that, in a time of universal drought, he was nominated by the Delphic oracle to intercede for Greece, and his prayer was answered. See the article ^Egina. The Pagans also imagined that T Eacus, on account of his impartial justice, was chosen by Pluto one of the three judges of the dead } and that it was his province to /EBU Di E, a name anciently given to the Western i EBURA, in Ancient Geography, a town of Spain, in Estremadura, on the river Guadiana, to the west of Merida j now called Talavera. W. Long. 7* I 5* N. Lat. 38. 40. i ECHMALOTARCHA, in Jewish antiquity, a title given to the principal leader or governor of the Hebrew captives residing in Chaldea, Assyria, and the neighbouring countries. This magistrate was called by the Jews, rosch-galath, i. e. the chief of the captivity : but the above term, of like import in the Greek, is that used by Origen and others who wrote in the The Jewish writers assure us, that the cechmalotarchce were only to be chosen out of the tribe ol Judah. The eastern Jews had their princes of the captivity, as the western Jews their patriarchs. The Jews are still said to have an cechmalotarcha at Babylon, but without the authority of the ancient ones. (Basnage Hist. Jews, i E Cl DIUM, in Botany. See Botany Index.\n",
      "ABACUS\n",
      "the son of Jupiter by iEgina.the isle of J Egina was depopulated by a plague, his father, in compassion to his grief, changed all the ants iEdile. U p 0n Jt into men and women, who were called Myrvii' ,J ” v an ant. The foundation of the sable is said to be, that when the country had been depopulated by pirates, who forced the few that remained to take shelter in caves, i Eacus encouraged them to come out, and by commerce and industry recover what they had lost. His character for justice was such, that, in a time of universal drought, he was nominated by the Delphic oracle to intercede for Greece, and his prayer was answered. See the article ^Egina. The Pagans also imagined that T Eacus, on account of his impartial justice, was chosen by Pluto one of the three judges of the dead } and that it was his province to /EBU Di E, a name anciently given to the Western i EBURA, in Ancient Geography, a town of Spain, in Estremadura, on the river Guadiana, to the west of Merida j now called Talavera. W. Long. 7* I 5* N. Lat. 38. 40. i ECHMALOTARCHA, in Jewish antiquity, a title given to the principal leader or governor of the Hebrew captives residing in Chaldea, Assyria, and the neighbouring countries. This magistrate was called by the Jews, rosch-galath, i. e. the chief of the captivity : but the above term, of like import in the Greek, is that used by Origen and others who wrote in the The Jewish writers assure us, that the cechmalotarchce were only to be chosen out of the tribe ol Judah. The eastern Jews had their princes of the captivity, as the western Jews their patriarchs. The Jews are still said to have an cechmalotarcha at Babylon, but without the authority of the ancient ones. (Basnage Hist. Jews, i E Cl DIUM, in Botany. See Botany Index.\n",
      "ABACUS\n",
      "the son of Jupiter by iEgina.the isle of J Egina was depopulated by a plague, his father, in compassion to his grief, changed all the ants iEdile. U p 0n Jt into men and women, who were called Myrvii' ,J ” v an ant. The foundation of the sable is said to be, that when the country had been depopulated by pirates, who forced the few that remained to take shelter in caves, i Eacus encouraged them to come out, and by commerce and industry recover what they had lost. His character for justice was such, that, in a time of universal drought, he was nominated by the Delphic oracle to intercede for Greece, and his prayer was answered. See the article ^Egina. The Pagans also imagined that T Eacus, on account of his impartial justice, was chosen by Pluto one of the three judges of the dead } and that it was his province to /EBU Di E, a name anciently given to the Western i EBURA, in Ancient Geography, a town of Spain, in Estremadura, on the river Guadiana, to the west of Merida j now called Talavera. W. Long. 7* I 5* N. Lat. 38. 40. i ECHMALOTARCHA, in Jewish antiquity, a title given to the principal leader or governor of the Hebrew captives residing in Chaldea, Assyria, and the neighbouring countries. This magistrate was called by the Jews, rosch-galath, i. e. the chief of the captivity : but the above term, of like import in the Greek, is that used by Origen and others who wrote in the The Jewish writers assure us, that the cechmalotarchce were only to be chosen out of the tribe ol Judah. The eastern Jews had their princes of the captivity, as the western Jews their patriarchs. The Jews are still said to have an cechmalotarcha at Babylon, but without the authority of the ancient ones. (Basnage Hist. Jews, i E Cl DIUM, in Botany. See Botany Index.\n",
      "ABACUS\n",
      "the son of Jupiter by iEgina.the isle of J Egina was depopulated by a plague, his father, in compassion to his grief, changed all the ants iEdile. U p 0n Jt into men and women, who were called Myrvii' ,J ” v an ant. The foundation of the sable is said to be, that when the country had been depopulated by pirates, who forced the few that remained to take shelter in caves, i Eacus encouraged them to come out, and by commerce and industry recover what they had lost. His character for justice was such, that, in a time of universal drought, he was nominated by the Delphic oracle to intercede for Greece, and his prayer was answered. See the article ^Egina. The Pagans also imagined that T Eacus, on account of his impartial justice, was chosen by Pluto one of the three judges of the dead } and that it was his province to /EBU Di E, a name anciently given to the Western i EBURA, in Ancient Geography, a town of Spain, in Estremadura, on the river Guadiana, to the west of Merida j now called Talavera. W. Long. 7* I 5* N. Lat. 38. 40. i ECHMALOTARCHA, in Jewish antiquity, a title given to the principal leader or governor of the Hebrew captives residing in Chaldea, Assyria, and the neighbouring countries. This magistrate was called by the Jews, rosch-galath, i. e. the chief of the captivity : but the above term, of like import in the Greek, is that used by Origen and others who wrote in the The Jewish writers assure us, that the cechmalotarchce were only to be chosen out of the tribe ol Judah. The eastern Jews had their princes of the captivity, as the western Jews their patriarchs. The Jews are still said to have an cechmalotarcha at Babylon, but without the authority of the ancient ones. (Basnage Hist. Jews, i E Cl DIUM, in Botany. See Botany Index.\n",
      "ABACUS\n",
      "the son of Jupiter by iEgina.the isle of J Egina was depopulated by a plague, his father, in compassion to his grief, changed all the ants iEdile. U p 0n Jt into men and women, who were called Myrvii' ,J ” v an ant. The foundation of the sable is said to be, that when the country had been depopulated by pirates, who forced the few that remained to take shelter in caves, i Eacus encouraged them to come out, and by commerce and industry recover what they had lost. His character for justice was such, that, in a time of universal drought, he was nominated by the Delphic oracle to intercede for Greece, and his prayer was answered. See the article ^Egina. The Pagans also imagined that T Eacus, on account of his impartial justice, was chosen by Pluto one of the three judges of the dead } and that it was his province to /EBU Di E, a name anciently given to the Western i EBURA, in Ancient Geography, a town of Spain, in Estremadura, on the river Guadiana, to the west of Merida j now called Talavera. W. Long. 7* I 5* N. Lat. 38. 40. i ECHMALOTARCHA, in Jewish antiquity, a title given to the principal leader or governor of the Hebrew captives residing in Chaldea, Assyria, and the neighbouring countries. This magistrate was called by the Jews, rosch-galath, i. e. the chief of the captivity : but the above term, of like import in the Greek, is that used by Origen and others who wrote in the The Jewish writers assure us, that the cechmalotarchce were only to be chosen out of the tribe ol Judah. The eastern Jews had their princes of the captivity, as the western Jews their patriarchs. The Jews are still said to have an cechmalotarcha at Babylon, but without the authority of the ancient ones. (Basnage Hist. Jews, i E Cl DIUM, in Botany. See Botany Index.\n",
      "ABACUS\n",
      "the son of Jupiter by iEgina.the isle of J Egina was depopulated by a plague, his father, in compassion to his grief, changed all the ants iEdile. U p 0n Jt into men and women, who were called Myrvii' ,J ” v an ant. The foundation of the sable is said to be, that when the country had been depopulated by pirates, who forced the few that remained to take shelter in caves, i Eacus encouraged them to come out, and by commerce and industry recover what they had lost. His character for justice was such, that, in a time of universal drought, he was nominated by the Delphic oracle to intercede for Greece, and his prayer was answered. See the article ^Egina. The Pagans also imagined that T Eacus, on account of his impartial justice, was chosen by Pluto one of the three judges of the dead } and that it was his province to /EBU Di E, a name anciently given to the Western i EBURA, in Ancient Geography, a town of Spain, in Estremadura, on the river Guadiana, to the west of Merida j now called Talavera. W. Long. 7* I 5* N. Lat. 38. 40. i ECHMALOTARCHA, in Jewish antiquity, a title given to the principal leader or governor of the Hebrew captives residing in Chaldea, Assyria, and the neighbouring countries. This magistrate was called by the Jews, rosch-galath, i. e. the chief of the captivity : but the above term, of like import in the Greek, is that used by Origen and others who wrote in the The Jewish writers assure us, that the cechmalotarchce were only to be chosen out of the tribe ol Judah. The eastern Jews had their princes of the captivity, as the western Jews their patriarchs. The Jews are still said to have an cechmalotarcha at Babylon, but without the authority of the ancient ones. (Basnage Hist. Jews, i E Cl DIUM, in Botany. See Botany Index.\n",
      "ABACUS\n",
      "the son of Jupiter by iEgina.the isle of J Egina was depopulated by a plague, his father, in compassion to his grief, changed all the ants iEdile. U p 0n Jt into men and women, who were called Myrvii' ,J ” v an ant. The foundation of the sable is said to be, that when the country had been depopulated by pirates, who forced the few that remained to take shelter in caves, i Eacus encouraged them to come out, and by commerce and industry recover what they had lost. His character for justice was such, that, in a time of universal drought, he was nominated by the Delphic oracle to intercede for Greece, and his prayer was answered. See the article ^Egina. The Pagans also imagined that T Eacus, on account of his impartial justice, was chosen by Pluto one of the three judges of the dead } and that it was his province to /EBU Di E, a name anciently given to the Western i EBURA, in Ancient Geography, a town of Spain, in Estremadura, on the river Guadiana, to the west of Merida j now called Talavera. W. Long. 7* I 5* N. Lat. 38. 40. i ECHMALOTARCHA, in Jewish antiquity, a title given to the principal leader or governor of the Hebrew captives residing in Chaldea, Assyria, and the neighbouring countries. This magistrate was called by the Jews, rosch-galath, i. e. the chief of the captivity : but the above term, of like import in the Greek, is that used by Origen and others who wrote in the The Jewish writers assure us, that the cechmalotarchce were only to be chosen out of the tribe ol Judah. The eastern Jews had their princes of the captivity, as the western Jews their patriarchs. The Jews are still said to have an cechmalotarcha at Babylon, but without the authority of the ancient ones. (Basnage Hist. Jews, i E Cl DIUM, in Botany. See Botany Index.\n",
      "ABACUS\n",
      "the son of Jupiter by iEgina.the isle of J Egina was depopulated by a plague, his father, in compassion to his grief, changed all the ants iEdile. U p 0n Jt into men and women, who were called Myrvii' ,J ” v an ant. The foundation of the sable is said to be, that when the country had been depopulated by pirates, who forced the few that remained to take shelter in caves, i Eacus encouraged them to come out, and by commerce and industry recover what they had lost. His character for justice was such, that, in a time of universal drought, he was nominated by the Delphic oracle to intercede for Greece, and his prayer was answered. See the article ^Egina. The Pagans also imagined that T Eacus, on account of his impartial justice, was chosen by Pluto one of the three judges of the dead } and that it was his province to /EBU Di E, a name anciently given to the Western i EBURA, in Ancient Geography, a town of Spain, in Estremadura, on the river Guadiana, to the west of Merida j now called Talavera. W. Long. 7* I 5* N. Lat. 38. 40. i ECHMALOTARCHA, in Jewish antiquity, a title given to the principal leader or governor of the Hebrew captives residing in Chaldea, Assyria, and the neighbouring countries. This magistrate was called by the Jews, rosch-galath, i. e. the chief of the captivity : but the above term, of like import in the Greek, is that used by Origen and others who wrote in the The Jewish writers assure us, that the cechmalotarchce were only to be chosen out of the tribe ol Judah. The eastern Jews had their princes of the captivity, as the western Jews their patriarchs. The Jews are still said to have an cechmalotarcha at Babylon, but without the authority of the ancient ones. (Basnage Hist. Jews, i E Cl DIUM, in Botany. See Botany Index.\n",
      "ABACUS\n",
      "the son of Jupiter by iEgina.the isle of J Egina was depopulated by a plague, his father, in compassion to his grief, changed all the ants iEdile. U p 0n Jt into men and women, who were called Myrvii' ,J ” v an ant. The foundation of the sable is said to be, that when the country had been depopulated by pirates, who forced the few that remained to take shelter in caves, i Eacus encouraged them to come out, and by commerce and industry recover what they had lost. His character for justice was such, that, in a time of universal drought, he was nominated by the Delphic oracle to intercede for Greece, and his prayer was answered. See the article ^Egina. The Pagans also imagined that T Eacus, on account of his impartial justice, was chosen by Pluto one of the three judges of the dead } and that it was his province to /EBU Di E, a name anciently given to the Western i EBURA, in Ancient Geography, a town of Spain, in Estremadura, on the river Guadiana, to the west of Merida j now called Talavera. W. Long. 7* I 5* N. Lat. 38. 40. i ECHMALOTARCHA, in Jewish antiquity, a title given to the principal leader or governor of the Hebrew captives residing in Chaldea, Assyria, and the neighbouring countries. This magistrate was called by the Jews, rosch-galath, i. e. the chief of the captivity : but the above term, of like import in the Greek, is that used by Origen and others who wrote in the The Jewish writers assure us, that the cechmalotarchce were only to be chosen out of the tribe ol Judah. The eastern Jews had their princes of the captivity, as the western Jews their patriarchs. The Jews are still said to have an cechmalotarcha at Babylon, but without the authority of the ancient ones. (Basnage Hist. Jews, i E Cl DIUM, in Botany. See Botany Index.\n",
      "ABACUS\n",
      "in archite£lure,signifies the superior part or member of the capital of a column, and serves as a kind of crowning to both. Vitruvius tells us the abacus was originally intended to represent a square tile laid over an urn, or rather over a basket. See ARCHITEC-\n",
      "ABACUS\n",
      "among the ancients, was a kind of cupboard or buffet. Livy, describing the luxury into which the Romans degenerated after the conquest of Asia, says, They had their abaci, beds, &c. plated\n",
      "ABACUS\n",
      "a table strewed over with dust or sand, upon which the ancient mathematicians drew their figures, It also signified a cupboard, or buffet.\n",
      "ABACUS\n",
      "in architedture, signifies the superior part or member of the capital of a column, and serves as a kind of crowning to both. It was originally intended to represent a square tile covering a basket. The form of the abacus is not the same in all orders: in the Tuscan, Doric, and Ionic, it is generally square; biit in the Corinthian and Compofite, its four sides are arched inwards, and embellilhed in the middle withornament, as a rose or other flower. Scammozzi uses abacus for a concave moulding on the capital of the Tuscan pedestal; and Palladio calls the plinth above the echinus, or boultin, in the Tuscan and Doric orders, by the same name. See plate I. fig. I. and\n",
      "ABACUS\n",
      "in Ancient Geographij, supposed by the ancients to be an island in the German ocean, called by Timaeus Basilia, and by Xenophon Lam|)sacenusl?r//^b; now the peninsula of Scandinavia. Here, according to Pliny, some imagined that amber dropped from the\n",
      "ABACUS\n",
      "is also the name of an ancient inllrument for facilitating operations in arithmetic. It is variously contrived. That chiefly used in Europe is made by drawing any number of parallel lines at the difiance of two diameters of one of the counters used in the calculation. A counter placed on the lowest line, fignifics i; on the 2d, 10; on the 3d, 100; on the 4th, 1000, &c. In the intermediate spaces, the same counters are efiimated at one half of the value of the line immediately superior, viz. between the ist and 2d, 5 ; between the 2d and 3d, 50, &c. See plate I. fig. 2. A B, where the same number, 1768 for example, is represented under both by different dispositions of the counters.\n",
      "ABACUS\n",
      "a table strewed over with dust or sand, upon v/hich the ancient mathematicians drew their figures. It also signified a cupboard, or buffet.\n",
      "ABACUS\n",
      "is also the name of an ancient facilitating operations in arithmetic. The numbers by counters appears happily fitted the principles of calculation. In the schools Greece, the boys acquired the elements of working on a smooth board with a narrow so named, evidently, from the combination A, B, F, the first letters of their alphabet, resembling, cept perhaps in size, the tablet likewise called on which the children with us used to begin art of reading. The pupils, in those distant instructed to compute, by forming progressive counters, which, according to the wealth or individual, consisted of small pebbles, of bone or ivory, or even of silver coins. From Greek word for a pebble, comes the verb But the same board served also for rudiments of writing and the principles The Abax being strewed with green sand, the ditus of classic authors, it was easy, with a radius rod, to trace letters, draw lines, construct describe circles.—Besides the original word Greeks had the diminutive A(3a,'/uov; and it probable, that this smaller board was commonly calculations, while the larger one was reserved them for the purpose of tracing geometrical To their calculating board the ancients make It appears, from the relation Laertius, that the practice of bestowing on pebbles tificial value, according to the rank or place occupied, remounts higher than the age of great reformer and legislator of the Athenian wealth. This sagacious observer and disinterested man, who was, however, no admirer of regal used to‘compare the passive ministers of kings to the counters or pebbles of arithmeticians, sometimes most important, and at other times nificant. 1 i Eschines, in his oration for the Crown, buvayivovg ffagafl-Xjjc Voug SIVUI roug Yrjtpoig TAI2 EHI TUN AOrmiGN. tmsrw ‘Tore ^ IIAEIU an/mimv, non os 'HTTfl. (DIOG. LAERT. in Vita Solonis.)ing of balanced accounts, says, that the pebbles were cleared away, and none left. 1 His rival, Demosthenes, repeating his expression, employs further the verb avran\\uv, which means to take up as many counters as were laid down. It is evident, therefore, that the ancients, in keeping their accounts, did not separately draw together the credits and the debts, but set down pebbles for the former, and took up pebbles for the latter. As soon as the board became cleared, the opposite claims were exactly balanced. We may observe, that the phrase to clear ones scores or accounts, meaning to settle or adjust them, is still preserved in the popular language of Europe, being suggested by the same practice of reckoning with counters, which prevailed indeed until a comparatively late The Romans borrowed their Abacus from the Greeks, and never aspired higher in the pursuit of science. To each pebble or counter required for that board they gave the name of calculus, a diminutive formed from calx, a stone; and applied the verb calculate, to signify the operation of combining or separating such pebbles or counters. Hence innumerable allusions by the Latin authors. Ponere calculum—subducere calcidum, to put down a counter, or to take it up; that is, to add or subtract; cocare aliquid ad calculum, ut par sit ratio acceptorum et datorum—to submit any thing to calcidation, so that the balance of debtor and creditor may be struck. Helvius Pertinax, who had been taught, while a boy, the arts of writing and casting accounts, is said, by Julius Capitolinus, to be litteris elementariis et calcido imbutus. St Augustine, whose juvenile years were devoted to pleasure and dissipation, acquaints us, in his extraordinary Confessions, that to him no song ever sounded more odious than the repetition or cantio, that one and one make two, and two and two make four. The use of the Abacus, called sometimes likewise the Mensa Pythagorica, formed an essential part of the education of every noble Roman Nec qui abaco numeros, et secto in pulvere met a a PEKS. Sat. i. 131. From Martianus Capella we learn that, as refinement advanced, a coloured sand, generally of a greenish hue, was employed to strew the surface of the abacus. Sic abacum perstare jubet, sic tegmine glauco Pandere pulvereum formarum ductibus sequor. Lib. vii. De Arithmetica. A small box or coffer, called a Loculus, having compartments for holding the calculi or counters, was a necessary appendage of the abacus. Instead of carrying a slate and satchel, as in modern times, the Roman boy was accustomed to trudge to school, loaded with his arithmetical board, and his box of counters: Quo pueri magnis e centurionibus orti, Lcevo suspensi loculos tubulamque lacerto. HORAT. Sat. i. 6. In the progress of luxury, tali, or dies made of ivory, Avere used instead of pebbles, and small silver coins came to supply the place of counters. Under the emperors, every patrician living in a spacious mansion, and indulging in all the pomp and splendour of eastern princes, generally entertained, for various functions, a numerous train of foreign slaves or freedmen in his palace. Of these, the librarius or miniculator, was employed in teaching the children their letters; gistered expenses, the rationarius accounts, and the tabularius his counters and board, performed might be required. Sometimes of numbers were termed reproachfully In the fervour of operation, often have appeared constrained Computat, ac cevet. Ponatur The nicety acquired in calculation was not quite agreeable to the Romani puen longis rationibus Discunt in parteis centum Silius Albini, Si de quincunce Uncia, quid superet ? Poteras Rem poteris servare tuam. It was a practice among the by marking their fortunate white pebble, and their days one. Hence the frequent allusions O diem laetum, notandumque Signandi melioribus lapiltis ! Hunc, Macrine, diem numera Qui tibi labentes apponit candidus To facilitate the working by of the abacus was afterwards perpendicular lines or bars, vided by sets of parallel grooves, even by successive rows of holes. small counters in the grooves, along the wires, or to stick large nails in the different holes. marks required, every column er one, wherein each counter of the ordinary kind, being half Scale. The abacus, instead sake of convenience and durability, quently brass, and sometimes titled ARITHMETIC, we have lume of the Supplement added mense Thesaurus of Graevius, ment, as used by the Romans. authorities, having been delineated ments,—the first kind by Ursinus, Marcus Velserus. In the one, sented by flattish perforated wires; and, in the other, they counters moving in parallel grooves. contain each seven capital bars, tens, hundreds, thousands, ten thousands, and millions; and above them the same progression, but having value. \\\\ ith four beads on each Kcf,v xa Jaoai uffiv ai Yri<poi, xou gr,div rregifi. (DEMOSTHENES pro Corona.)\n",
      "ABACUS\n",
      "or\n",
      "ABACUS\n",
      "Major, in metallurgic of a trough used in the mines, wherein\n",
      "ABACUS\n",
      "Major, in metallurgic of a trough used in the mines,\n",
      "ABACUS\n",
      "Major, in metallurgic operations, the name of a trough used in the mines, wherein the ore is waftied.\n",
      "ABACUS\n",
      "is also the name of an ancient instrument for facilitating operations in arithmetic. It is vadoully contrived. That chiefly used in Europe is made by drawing any number of parallel lines at the di(lance of two diameters of one of the counters used in the calculation. A counter placed on.the lowed line, signifies r; on the sd, 10; on the 3d, 100; on the 4th, 1000, &c. In the intermediate spaces, the same counters are eflimated at one Jialf of the value of the line immediately superior, viz. between the id and 2d, 5; between the 2d and 3d, 50, &c. See plate I. fig. 2. A B, where the same number, 1768 for example, is represented under both by different dispositions of the counters.\n",
      "ABACUS\n",
      "logijlicus, a right-angled triangle, whose sides forming the right angle contain the numbers from 1 to 60, and its area the fafta of every two of the numbers perpendicularly opposite. This is also called a canon Jk^&cus Pythagvricus, the multiplication-table, or any table of numbers that facilitates operations in arith-\n",
      "ABACUS\n",
      "Pythagoricus, the multiplication-table, or any table of numbers that facilitates operations in arith-\n",
      "ABACUS\n",
      "among the ancients, was a kind or buffet. Livy, describing the luxury into mans degenerated after the conquest of Asia, had their abaci, beds, &c. plated over with\n",
      "ABACUS\n",
      "Abacus, one bead on every corresponding short wire, it is evident that any number could be expressed, as far as ten millions. In all these, the Denary Scale is followed uniformly; but there is, besides, a small appendage to the arrangement founded on the Duodenary System. Immediately below the place of units is added a bar, with its corresponding branch, both marked 0, being designed to signify ounces, or the twelfth parts of a pound. Five beads on the long wire, and one bead on the short wire, equivalent now to six, would therefore denote eleven ounces. To express the simpler fractions of an ounce, three very short bars are annexed behind the rest; a bead on the one marked S or 3, the contraction for Semissis, denoting half an ounce; a bead on the other, which is marked by the inverted 3, the contraction for Sicilicum, signifying the quarter of an ounce ; and a bead on the last very short bar, marked 2, a contraction for the symbol ^ or Bince Sextulce, intimating a duella or two-sixths, that is, the third part of an ounce. The second form of the abacus differs in no essential respect from the first, the grooves only supplying the place of parallel wires. We should observe that the Romans applied the same word abacus, to signify an article of luxurious furniture, resembling in shape the arithmetical board, but often highly ornamental, and destined for a very different purpose,—the relaxation and the amusement of the opulent. It was used in a game apparently similar to that of chess, which displayed a lively image of the struggles and vicissitudes of war. The infamous and abandoned Nero took particular delight in this sort of play, and drove along the surface of the abacus with a beautiful quadriga, or chariot of ivory. The civil arts of Rome were communicated to other nations by the tide of victory, and maintained through the vigour and firmness of her imperial sway. But the simpler and more useful improvements survived the wreck of empire, among the various people again restored by fortune to their barbarous independence. In all transactions wherein money was concerned, it was found convenient to follow the procedure of the Abacus, in representing numbers by counters placed in parallel rows. During the middle ages, it became the usual practice over Europe for merchants, auditors of accounts, or judges appointed to decide in matters of revenue, to appear on a covered bank or bench, so called, from an old Saxon or Franconian word, signifying a seat. Hence those terms were afterwards appropriated to offices for receiving pledges, chambers for the accommodation of money-dealers, or courts for the trying of questions respecting property or the claims of the Crown. Hence also the word bankrupt, which occurs in all the dialects of Europe. The term scaccarium, from which was derived the French, and thence the English name for the Exchequer, anciently signified merely a chess-board, being formed from scaccum, denoting one of the movable pieces in that intricate game. The reason of this application of the term is sufficiently obvious. The table for accounts was, to facilitate the calculations, always covered with a cloth, resembling the surface of the scaccarium or abacus, and distinguished by perpendicular and chequered lines. The learned Skene was therefore mistaken in supposing that the Exchequer C U S. 7 derived its name from the play of chess, because its Abacus, suitors appear to sight a keen and dubious battle. 1 The Court of Exchequer, which takes cognizance of all Exchequer questions of revenue, was introduced into England by the Board, and Norman conquest. Richard Fitznigel, in a treatise or other Condialogue on the subject, written about the middle of the trivan ces. twelfth century, says that the scaccarium was a quadrangular table about ten feet long and five feet broad, with a ledge or border about four inches high, to prevent any thing from rolling over, and was surrounded on all sides by seats for the judges, the tellers, and other officers. It was covered every year, after the term of Easter, with fresh black cloth, divided by perpendicular white lines, or distinctures, at intervals of about a foot or a palm, and again parted by similar transverse lines. In reckoning, they proceeded, he says, according to the rules of arithmetic, 2 using small coins for counters. The lowest bar exhibited pence, the one above it shillings, the next pounds; and the higher bars denoted successively tens, twenties, hundreds, thousands, and ten thousands of pounds; though, in those early times of penury and severe economy, it very seldom happened that so large a sum as the last ever came to be reckoned. The first bar, therefore, advanced by dozens, the second and third by scores, and the rest of the stock of bars by the multiples of ten. The teller sat about the middle of the table ; on his right hand eleven pennies were heaped on the first bar, and a pile of nineteen shillings on the second; while a quantity of pounds was collected opposite to him, on the third bar. For the sake of expedition, he might employ a different mark to represent half the value of any bar, a silver penny for ten shillings, and‘a gold penny for ten pounds. In early times, a chequered board, the emblem of calculation, was hung out, to indicate an office for changing money. It was afterwards adopted as the sign of an inn or hostelry, where victuals were sold, or strangers lodged and entertained. We may perceive traces of that ancient practice existing even at present. It is customary in London, and in some provincial towns, to have a chequer, diced with red and white, painted against the sides of the door of a chop-house. The use of the smaller abacus in assisting numerical computation was not unknown during the middle ages. In England, however, it appears to have scarcely entered into actual practice, being mostly confined to those “ slender clerks” who, in such a benighted period, passed for men of science and learning. The calculator was styled, in correct Latinity, abacista; but, in the Italian dialect, abbachista, or abbachiere. A different name came afterwards to be imposed. The Arabians, who, under the appellation of Saracens or Moors, conquered Spain, and enriched that insulated country by commendable industry and skill, had likewise introduced their mathematical science. Having adopted a most refined species of numeration, to which they gave the barbarous name of algarismus, algorismus, or algorithmus, from the definite article al, and the Greek word or number, this compound term was adopted by the Christians of the West, in their admiration of superior skill, to signify calculation in general, long before the peculiar mode had become known and practised among them. The term algarism was corrupted in English into augrim or awgrym, as printed by Wynkyn 1 “ Because mony persons conveenis in tbe Checker to playe their causes, contrare uthers, as gif thev were fechtand in an arraved battell, quilk is the forme and ordour of the said playe.” (SKENE, ad voc. Scaccarium.) * He calfs it Arismetica: In the Myrrourof the Worlde, printed by Caxton, in 1481, it is strangely named Ars Metrike a proof of the total ignorance of Greek at that period in England.Abacus, de Worde, at the end of the fifteenth century; and applied even to the pebbles or counters used in ordinary calculation. In confirmation of this remark, we shall not scruple to quote a passage from our ancient poet Chaucer, who flourished about a century before, and whose verses, however rude, are sometimes highly graphic. This clerk was cleped bendy Nicholas; Of derne love he coude and of solas; And therto he was slie and ful prive. And like a maiden meke for to se. A chambre had he in that hostelrie Alone, withouten any compagnie, Ful fetisly ydighfc with herbes sote, And he himself was swete as is the rote Of licoris, or any setewale. His almageste, and bokes gret and smale, His astrelabre, longing for his art, His augrim stones, layen faire apart On shelves couched at his beddcs hed. His presse ycovered with a falding red. And all above ther lay a gay sautrie, On which he made on nightes melodie, So swetely, that all the chambre rong : And Angelus ad virginem he song. And after that he song the kinge’s note; Ful often blessed was his mery throte. The Milleres Tale, v. 13-32. The abacus, with its store of counters, wanted the valuable property of being portable, and was at all times evidently a clumsy and most incommodious implement of calculation. In many cases, it became quite indispensable to adopt some sure and ready method of expressing at Bigital Nu-least the lower numbers. The ancients employed the meration. variously combined inflections of the fingers on both hands to signify the numerical series, and on this narrow basis they framed a system of considerable extent. In allusion to the very ancient practice of numbering by the arbitrary play of the fingers, Orontes, the son-in-law of Artaxerxes, having incurred the weighty displeasure of that monarch, is reported by Plutarch to have exclaimed in terms exactly of the same import as those before ascribed to Solon, that “ the favourites of kings resemble the fingers of the arithmetician, being sometimes at the top and sometimes at the bottom of the scale, and are equivalent at one time to ten thousand, and at another to mere units;’ 1 Among the Romans likewise, the allusions to the mode of expressing numbers by the varied inflection of the fingers, are very frequent. Hence the classical expressions, computare digitis, and numerare per digitos; and hence the line of Ausonius, Quot ter luctatus cum pollice computat index. In this play of the fingers great dexterity was acquired ; and hence the phrase which so frequently occurs in the Classics—micare digitis. It was customary to begin with the left hand, and thence proceed to the right hand, on which the different combined inflections indicated exactly one hundred times more. Hence the peculiar force of this passage from Juvenal: Rex Pylius, magno si quicquam credis Homero, Exemplum vitae suit a cornice secundae ; Felix nimirum, qui tot per saecula mortem Distulit, atque sups jam dextra computat annos. Sat. x. 246-249. Many such allusions to the mode of indicating numbers by the varied position of the fingers or the hands, occur in the writings of Cicero and Quintilian. The ancients, indeed, for want of better instruments, were tempted to Abacus, push that curious art to a very great extent. By a single inflection of the fingers of the left hand, they proceeded as far as ten ; and by combining another inflection with it, they could advance to an hundred. The same signs on the right hand, being augmented, as we have seen, an hundredfold, carried them as far as ten thousand ; and by a further combination, those signs, being referred successively to different parts of the body, were again multiplied an hundred times, and therefore extended to a million. This kind of pantomime outlived the subversion of the Roman empire, and was particularly fitted for the slothful religious orders who fattened on its ruins, and, relinquishing every manly pursuit, recommended silence as a virtue, or enjoined it as an obligation. Our venerable Bede has explained the practice of manual numeration at some length ; and we have given (see Plate ARITHMETIC) a small specimen of such inflections and digital signs. These signs were merely fugitive, and it became necessary to adopt other marks, of a permanent nature, for the purpose of recording numbers. But of all the contrivances adopted with this view, the rudest undoubtedly is the method of registering by tallies, introduced into England along with the Court of Exchequer, as another badge of the Norman conquest. These consist of straight wellseasoned sticks, of hazel or willow, so called from the French verb tailler, to cut, because they are squared at each end. The sum of money was marked on the side with notches, by the cutter of tallies, and likewise inscribed on both sides in Roman characters, by the writer of the tallies. The smallest notch signified a penny, a larger one a shilling, and one still larger a pound; but other notches, increasing successively in breadth, were made to denote ten, a hundred, and a thousand. The stick was then cleft through the middle by the deputy-chamberlains, with a knife and a mallet; the one portion being called the tally, or sometimes the scachia, stipes, or kancia ; and the other portion named the countertally, or folium. After the union with Scotland had been concluded in 1707, a store of hazel rods for tallies was sent down to Edinburgh, being intended, no doubt, as a mighty refinement on the Scottish mode of keeping accounts. Their advantages, however, were not perceived or acknowledged, and they have since been suffered, we believe, to lie as so much useless lumber. But the case is very different in England, where a blind ant Wslavish attachment to ancient forms, however ridiculous they may through time have become, is almost constantly opposed to the general progress of society. Were a sensible traveller from India or China to visit our metropolis, and report, on his return home, that a nation highly polished, enlightened, and opulent, yet keep their accounts of the public revenue, surpassing annually many millions of pounds, by means of notches cut on willow rods,—he would certainly not be credited, but supposed to use the licence of substituting a description of the practice of the most savage tribes of the American Continent. The Chinese have, from the remotest ages, used in all Chinese their calculations, an instrument called the Swan-Pan, or Swan-Pan. Computing Table, similar in its shape and construction to the abacus of the Romans, but more complete and uniform. It consists of a small oblong board surroqnded by a high ledge, and parted lengthwise near the top by another ledge. It is then divided vertically by ten smooth and slender rods of bamboo, on which are strung two 1 Ka Sacrep o! ror; AAKTTAOI m ytv MTPIAAA2, h MONAAA r.Qtm, bumnu,. TO auro xa/ tpi Aoug, m [Xiv ro nav ovvaedou, m be rovAa^isrov. (PLUT. Apophthegm.)small balls of ivory or bone in the upper compartment, and five such balls in the lower and larger compartment; each of the latter on the several bars denoting unit, and each of the former, for the sake of abbreviation, expressing five. See Plate (ARITHMETIC), where the balls are actually set to signify the numbers annexed. The system of measures, weights, and coins, which prevails throughout the Chinese empire, being entirely founded on the decimal subdivision, the swan-pan was admirably suited for representing it. could begin at any particular bar, and reckon with the same facility either upwards or downwards. This advantage of treating fractions exactly like integers was, in practice, of the utmost consequence. Accordingly, those arithmetical machines, but of very different sizes, are constantly used in all the shops and booths of Canton other cities, and are said to be handled by the native with such rapidity and address as quite astonish But the Chinese have also contrived a very neat and kind of digital signs for denoting numbers, greatly both in precision and extent, to the method by the Romans. Since every finger has three let the thumb-nail of the other hand touch those in succession, passing up the one side of the finger, the middle, and again up the other side, and it will nine different marks, applicable to the Denary Scale arrangement. On the little finger those marks signify on the next finger tens, on the mid-finger hundreds, the index thousands, and on the thumb hundred thou With the combined positions of the joints of the hand, therefore, it was easy to advance by signs as as a million. To illustrate more fully this ingenious we have, immediately below the koua of the Fou-hi, copied (See PLATE), from a Chinese treatise of education, the figure of a hand, at the several joints of each finger, by characters the inside, corresponding to one, two, and three, the middle by those answering \\.o four, five, and six, again up the outside by characters expressing seven, and nine. It is said that the merchants in China are to conclude bargains with each other by help those signs; and that often, from selfish or fraudulent they conceal the pantomime from the knowledge by-standers, by only seeming to seize the hand withPythagoricus, the common multiplication table, called from its being invented by Pythagoras.Major, in metallurgic operations, the name of trough used in the mines, wherein the ore is washed.\n",
      "ABACUS\n",
      "Abacus. Roman Abacus. ing of balanced accounts, says, that the pebbles were cleared away, and none left. 1 His rival, Demosthenes, repeating his expression, employs further the verb avravikuv, which means to take up as many counters as were laid down. It is evident, therefore, that the ancients, in keeping their accounts, did not separately draw together the credits and the debts, but set down pebbles for the former, and took up pebbles for the latter. As soon as the board became cleared, the opposite claims were exactly balanced. We may observe, that the phrase to clear one s scores or accounts, meaning to settle or adjust them, is still preserved in the popular language of Europe, being suggested by the same practice of reckoning with counters, which prevailed indeed until a comparatively late period. The Romans borrowed their Abacus from the Greeks, and never aspired higher in the pursuit of science, do each pebble or counter required for that board they gave the name of calculus, a diminutive formed from calx, a stone; and applied the verb calculare, to signify the operation of combining or separating such pebbles or counters. Hence innumerable allusions by the Latin authors. Ponere calculum—subducere calculum, to put down a counter, or to take it up; that is, to add or subtract; vocare aliquid ad calculum, ut par sit ratio acceptorum et datorum—to submit any thing to calculation, so that the balance of debtor and creditor may be struck. The emperor Helvius Pertinax, who had been taught, while a boy, the arts of writing and casting accounts, is said, by Julius Capitolinus, to be litteris elementariis et calculo imbutus. St Augustine, whose juvenile years were devoted to pleasure and dissipation, acquaints us, in his extraordinary Confessions, that to him no song ever sounded more odious than the repetition or cantio, that one and one make two, and two and two moke four. The use of the Abacus, called sometimes likewise the Mensa Pythagorica, formed an essential part of the education of every noble Roman youth: Nec qui abaco numeros, et secto in pulvere metas Scit risisse vafer. PERS. Sat. i. 131. From Martianus Capella we learn that, as refinement advanced, a coloured sand, generally of a greenish hue, was employed to strew the surface of the abacus. Sic dbacum perstare jubet, sic tegmine glauco Pandere pulvereum formarum ductibus aequor. Lib. vii. De Arithmetica. A small box or coffer, called a Loculus, having compartments for holding the calculi or counters, was a necessary appendage of the abacus. Instead of carrying a slate and satchel, as in modern times, the Roman boy was accustomed to trudge to school, loaded with his arithmetical board, and his box of counters: Quo pueri magnis e centurionibus orti, Lcevo suspensi loculos talulamque lacerto. HORAT. Sat. i. 6. In the progress of luxury, tali, or dies made of ivory, were used instead of pebbles, and small silver coins came to supply the place of counters. Under the emperors, every patrician living in a spacious mansion, and indulging in all the pomp and splendour of eastern princes, generally entertained, for various functions, a numerous train of foreign slaves or freedmen in his palace. Of these, the librarius or miniculator, was employed in teaching the children their letters; but the notarius registered expenses, the rationarius adjusted and settled accounts, and the tabularius or calculator, working with his counters and board, performed what computations might be required. Sometimes these laborious combiners of numbers were termed reproachfully canculones or calculones. In the fervour of operation, their gestures must often have appeared constrained and risible. Abacus. Computat, ac cevet. Ponatur calculus, adsint Cum tabula pueri. Juv. Sat. ix. 40. The nicety acquired in calculation by the Roman youth, was not quite agreeable to the careless and easy temper of Horace. Romani pueri longis rationibus assem Discunt in parteis centum diducere. Dicat Silius Albini, Si de quincunce remota est Uncia, quid superet ? Poteras dixisse, Triens. Eu ! Item poteris servare tuam. Redit uncia; quid sit ? Semis. Epist. ad Pisones. It was a practice among the ancients to keep a diary, by marking their fortunate days by a lapillus, or small white pebble, and their days of misfortune by a black one. Hence the frequent allusions which occur in the Classics: O diem laetum, notandumque mihi candidissimo calculo! PLIN. Epist. vi. 11. diesque nobis Signandi melioribus lapillis ! MART. ix. 53. Hunc, Macrine, diem numera meliore lapillo, Qui tibi labentes apponit candidus annos. PERS. Sat. ii. 1, 2. To facilitate the working by counters, the construction of the abacus was afterwards improved. Instead of the perpendicular lines or bars, the board had its surface divided by sets of parallel grooves, by stretched wires, or even by successive rows of holes. It was easy to move small counters in the grooves, to slide perforated beads along the wires, or to stick large nobs or round-headed nails in the different holes. To diminish the number of marks required, every column was surmounted by a shorter one, wherein each counter had the same value as five of the ordinary kind, being half the index of the Denary Scale. The abacus, instead of wood, was often, for the sake of convenience and durability, made of metal, frequently brass, and sometimes silver. In the Plate entitled ARITHMETIC, we have copied, from the third volume of the Supplement added by Polenus to. the immense Thesaurus of Gnevius, two varieties of this instrument, as used by the Romans. They both rest on good authorities, having been delineated from antique monuments,—the first kind by Ursinus, and the second by Marcus Velserus. In the one, the numbers are represented by flattish perforated beads, ranged on parallel wires; and, in the other, they are signified by small round counters moving in parallel grooves. These instruments contain each seven capital bars, expressing in order units, tens, hundreds, thousands, ten thousands, hundred thousands, and millions ; and above them are shorter bars following the same progression, but having five times the relative value. With four beads on each of the long wires, and Kciv xudaoui utriv at Y^o/, xat mgrri. (DEMOSTHENES/>ro Corona.) iAbacus, one bead on every corresponding short wire, it is evident that any number could be expressed, as far as ten millions. In all these, the Denary Scale is followed uniformly; but there is, besides, a small appendage to the arrangement founded on the Duodenary System. Immediately below the place of units is added a bar, with its corresponding branch, both marked 0, being designed to signify ounces, or the twelfth parts of a pound. Five beads on the long wire, and one bead on the short wire, equivalent now to six, would therefore denote eleven ounces. To express the simpler fractions of an ounce, three very short bars are annexed behind the rest; a bead on the one marked S or 5, the contraction for Semissis, denoting half an ounce; a bead on the other, which is marked by the inverted 3, the contraction for Sicilicum, signifying the quarter of an ounce ; and a bead on the last very short bar, marked 2 > a contraction for the symbol ^ or Bince Sextulce, intimating a duella or two-sixths, that is, the third part of an ounce. The second form of the abacus differs in no essential respect from the first, the grooves only supplying the place of parallel wires. We should observe that the Romans applied the same word abacus, to signify an article of luxurious furniture, resembling in shape the arithmetical board, but often highly ornamental, and destined for a very different purpose,—the relaxation and the amusement of the opulent. It was used in a game apparently similar to that of chess, which displayed a lively image of the struggles and vicissitudes of war. The infamous and abandoned Nero took particular delight in this sort of play, and drove along the surface of the abacus with a beautiful quadriga, or chariot of ivory. The civil arts of Rome were communicated to other nations by the tide of victory, and maintained through the vigour and firmness of her imperial sway. But the simpler and more useful improvements survived the wreck of empire, among the various people again restored by fortune to their barbarous independence. In all transactions wherein money was concerned, it was found convenient to follow the procedure of the Abacus, in representing numbers by counters placed in parallel rows. During the middle ages, it became the usual practice over Europe for merchants, auditors of accounts, or judges appointed to decide in matters of revenue, to appear on a covered bank or bench, so called, from an old Saxon or Franconian word, signifying a seat. Hence those terms were afterwards appropriated to offices for receiving pledges, chambers for the accommodation of money-dealers, or courts for the trying of questions respecting property or the claims of the Crown. Hence also the word bankrupt, which occurs in all the dialects of Europe. The term scaccarium, from which was derived the French, and thence the English name for the Exchequer, anciently signified merely a chess-board, being formed from scaccum, denoting one \"of the movable pieces in that intricate game. The reason of this application of the term is sufficiently obvious. The table for accounts was, to facilitate the calculations, always covered with a cloth, resembling the surface of the scaccarium or abacus, and distinguished by perpendicular and chequered lines. The learned Skene was therefore mistaken in supposing that the Exchequer C U S. 7 derived its name from the play of chess, because its Abacus, suitors appear to sight a keen and dubious battle. 1 The Court of Exchequer, which takes cognizance of all Exchequer questions of revenue, was introduced into England by the Board, and Norman conquest. Richard Fitznigel, in a treatise or ot j ier Candialogue on the subject, written about the middle of the trivancps twelfth century, says that the scaccarium was a quadrangular table about ten feet long and five feet broad, with a ledge or border about four inches high, to prevent any thing from rolling over, and was surrounded on all sides by seats for the judges, the tellers, and other officers. It was covered every year, after the term of Easter, with fresh black cloth, divided by perpendicular white lines, or distinctures, at intervals of about a foot or a palm, and again parted by similar transverse lines. In reckoning, they proceeded, he says, according to the rules of arithmetic, 2 using small coins for counters. The lowest bar exhibited pence, the one above it shillings, the next pounds; and the higher bars denoted successively tens, twenties, hundreds, thousands, and ten thousands of pounds; though, in those early times of penury and severe economy, it very seldom happened that so large a sum as the last ever came to be reckoned. The first bar, therefore, advanced by dozens, the second and third by scores, and the rest of the stock of bars by the multiples of ten. The teller sat about the middle of the table ; on his right hand eleven pennies were heaped on the first bar, and a pile of nineteen shillings on the second; while a quantity of pounds was collected opposite to him, on the third bar. For the sake of expedition, he might employ a different mark to represent half the value of any bar, a silver penny for ten shillings, and a gold penny for ten pounds. In early times, a chequered board, the emblem of calculation, was hung out, to indicate an office for changing money. It was afterwards adopted as the sign of an inn or hostelry, where victuals were sold, or strangers lodged and entertained. We may perceive traces of that ancient practice existing even at present. It is customary in London, and in some provincial towns, to have a chequer, diced with red and white, painted against the sides of the door of a chop-house. The use of the smaller abacus in assisting numerical computation was not unknown during the middle ages. In England, however, it appears to have scarcely entered into actual practice, being mostly confined to those “ slender clerks” who, in such a benighted period, passed for men of science and learning. The calculator was styled, in correct Latinity, abacista; but, in the Italian dialect, abbachista, or abbachiere. A different name came afterwards to be imposed. The Arabians, who, under the appellation of Saracens or Moors, conquered Spain, and enriched that insulated country by commendable industry and skill, had likewise introduced their mathematical science. Having adopted a most refined species of numeration, to which they gave the barbarous name of algarismus, algorismus, or algorithmus, from the definite article al, and the Greek word ctgi Oyog, or number, this compound term was adopted by the Christians of the West, in their admiration of superior skill, to signify calculation in general, long before the peculiar mode had become known and practised among them. The term algarism was corrupted in English into augrim or awgrym, as printed by Wynkyn 1 “ Because mony persons conveenis in the Checker to playe their causes, contrare uthers, as gif they were fechtand in an arrayed battell, quilk is the forme and ordour of the said playe.” (SKENE, ad voc. Scaccarium.) 5 He calls it Arismetica: In the Myrrourof the Worlde, printed by Caxton, in 1481, it is strangely named Ars Me trike, a proof of the total ignorance of Greek at that period in England.ABACUS. Abacus. de Worde, at the end of the fifteenth century; and appli' ed even to the pebbles or counters used in ordinary calculation. In confirmation of this remark, we shall not scruple to quote a passage from our ancient poet Chaucer, who flourished about a century before, and whose verses, however rude, are sometimes highly graphic. This clerk was clepec! bendy Nicholas; Of derne love he coude and of solas; And therto he was slie and ful prive, And like a maiden meke for to se. A chambre had he ip that hostelrie Alone, withouten any compagnie, Ful fetisly ydight with herbes sote, And he himself was swete as is the rote Of licoris, or any setewale. His almageste, and bokes gret and smale. His astre'labre, longing fqr his art, His augrtm stones, layen faire apart On shelves couched at his beddcs hed, His presse ycovered with a fabling red. And all above ther lay a gay sautrie, On which he made on nightes melodie, So swetely, that all the chambre rong: And Angelas ad virginem he song. And after that he song the kinge’s note ; Ful often blessed was his mery throte. The Milleres Tale, v. 13-112. The abacus, with its store of counters, wanted the valuable property of being portable, and was at all times evidently a clumsy and most incommodious implement of calculation. In many cases, it became quite indispensable to adopt some sure and ready method of expressing at Digita I Nu-least the lower numbers. The ancients employed the monition, variously combined inflections of the fingers on both hands to signify the numerical series, and on this narrow basis they framed a system of considerable extent. In allusion to the very ancient practice of numbering by the arbitrary play of the fingers, Orontes, the son-in-law of Artaxerxes, having incurred the weighty displeasure of that monarch, is reported by Plutarch to have exclaimed in terms exactly of the same import as those before ascribed to Solon, that “ the favourites of kings resemble the fingers of the arithmetician, being sometimes at the top and sometimes at the bottom of the scale, and are equivalent at one time to ten thousand, and at another to mere units/’ 1 Among the Romans likewise, the allusions to the mode of expressing numbers by the varied inflection of the fingers, are very frequent. Hence the classical expressions, computare digitis, and numerare per digitos; and hence the line of Ausonius, Quot ter luctatus cum pollice computat index. In this play of the fingers great dexterity was acquired ; and hence the phrase which so frequently occurs in the C assies—digitis. It was customary to begin with the left hand and thence proceed to the right hand, on which the different combined inflections indicated exactly one hundred times more. Hence the peculiar force of this passage from Juvenal: Rex Pylius,. magno si quicquam credis Homero Exemplum vitae suit a cornice secundae ; Felix nimirum, qui tot per saecula mortem Distulit, atque suos jam dextra computat annos. Sat. x. 246-249. Many such allusions to the mode of indicating numbers by the varied position of the fingers or the hands, occur in the writings of Cicero and Quintilian. The ancients, indeed, for want of better instruments, were tempted to Abacus, push that curious art to a very great extent. By a single inflection of the fingers of the left hand, they proceeded as far as ten ; and by combining another inflection with it, they could advance to an hundred. The same signs on the right hand, being augmented, as we have seen, an hundredfold, carried them as far as ten thousand ; and by a further combination, those signs, being referred successively to different parts of the body, were again multiplied an hundred times, and therefore extended to a million. This kind of pantomime outlived the subversion of the Roman empire, and was particularly fitted for the slothful religious orders who fattened on its ruins, and, relinquishing every maply pursuit, recommended silence as a virtue, or enjoined it as an obligation. Our venerable Bede has explained the practice of manual numeration at some length; and we have given (see Plate ARITHMETIC) a Small specimen of such inflections and digital signs. These signs were merely fugitive, and it became necessary to adopt other marks, of a permanent nature, for the purpose of recording numbers. But of all the contrivances adopted with this view, the rudest undoubtedly is the method of registering by tallies, introduced into England along with the Court of Exchequer, as another badge of the Norman conquest. These consist of straight wellseasoned sticks, of hazel or willow, so called from the French verb tailler, to cut, because they are squared at each end. The sum of money was marked on the side with notches, by the cutter of tallies, and likewise inscribed on both sides in Roman characters, by the writer of the tallies. The smallest notch signified a penny, a larger one a shilling, and one still larger a pound; but other notches, increasing successively in breadth, were made to denote ten, a hundred, and a thousand. The stick was then cleft through the middle by the deputy-chamberlains, with a knife and a mallet; the one portion being called the tally, or sometimes the scachia, stipes, or kancia ; and the other portion named the countertally, ox folium. After the union with Scotland had been concluded in 1707, a store of hazel rods for tallies was sent down to Edinburgh, being intended, no doubt, as a mighty refinement on the Scottish mode of keeping accounts. Their advantages, however, were not perceived or acknowledged, and they have since been suffered, we believe, to lie as so much useless lumber. But the case was very different in England, which is more addicted to a slavish attachment to ancient forms, and opposed to the general progress of society. T. his ridiculous plan of keeping the public accounts was maintained up to the year 1834, when a more rational system was adopted, and the old wooden tallies were ordered to be destroyed. The parties entrusted with this duty burnt them in the stoves which heated the House of Lords ; and so intense was the heat occasioned by the burning of so great a quantity of dry wood, that it set fire to the building, and consumed the Houses of Parliament, on the 16th October 1834. The Chinese have, from the remotest ages, used in all Chinese their calculations, an instrument called the Swan-Pan, or Swan-Pan. Computing Table, similar in its shape and construction to the abacus of the Romans, but more complete and uniform. It consists of a small oblong board surrounded by a high ledge, and parted lengthwise near the top by another ledge. It is then divided vertically by ten smooth and slender rods of bamboo, on which are strung two B<Jf7ZZ, T ZJ H f n TU ‘'‘ V ^A KT / A01 r f ‘”' MYPIA *AS, MONAAA rifovcu Swam*. ^ ^ 10 ™ & TOAOXU™,. (Pldi . Apophthegm.) TO avro KC Ll T(OV\n"
     ]
    }
   ],
   "source": [
    "sparql = SPARQLWrapper(\"http://localhost:3030/total_eb/sparql\")\n",
    "term=\"ABACUS\"\n",
    "query=\"\"\"\n",
    "PREFIX eb: <https://w3id.org/eb#>\n",
    "PREFIX rdfs: <http://www.w3.org/2000/01/rdf-schema#>\n",
    "SELECT ?definition ?a ?b  ?spnum ?epnum \n",
    "    WHERE {{\n",
    "    \t?b a eb:Article .\n",
    "    \t?b eb:name ?a .\n",
    "        ?b eb:name \"%s\" .\n",
    "        ?b eb:definition ?definition . \n",
    "        OPTIONAL {?b eb:relatedTerms ?rt. \n",
    "                  ?rt eb:name ?rn. }\n",
    "       ?e eb:hasPart ?v.\n",
    "       ?v eb:number ?vnum.\n",
    "       ?v eb:permanentURL ?permanentURL.\n",
    "       ?v eb:hasPart ?b.\n",
    "       ?e eb:publicationYear ?year.\n",
    "       ?e eb:number ?enum.\n",
    "       ?b eb:startsAtPage ?sp.\n",
    "       ?sp   eb:number ?spnum .\n",
    "       ?b eb:endsAtPage ?ep.\n",
    "       ?ep eb:number ?epnum .\n",
    "        \n",
    "        }\n",
    "  \t\tUNION {\n",
    "    \t?b a eb:Topic .\n",
    "    \t?b eb:name ?a .\n",
    "        ?b eb:name \"%s\" .\n",
    "        ?b eb:definition ?definition \n",
    "        \n",
    "        OPTIONAL {?b eb:relatedTerms ?rt. \n",
    "                  ?rt eb:name ?rn. }\n",
    "        \n",
    "        ?e eb:hasPart ?v.\n",
    "        ?v eb:number ?vnum.\n",
    "        ?v eb:permanentURL ?permanentURL.\n",
    "        ?v eb:hasPart ?b.\n",
    "        ?e eb:publicationYear ?year.\n",
    "        ?e eb:number ?enum.\n",
    "        ?b eb:startsAtPage ?sp.\n",
    "        ?sp   eb:number ?spnum .\n",
    "        ?b eb:endsAtPage ?ep.\n",
    "        ?ep eb:number ?epnum .\n",
    "        \n",
    "        }\n",
    "   }\n",
    "\"\"\" %(term, term)\n",
    "sparql.setQuery(query)\n",
    "sparql.setReturnFormat(JSON)\n",
    "results = sparql.query().convert()\n",
    "results = sparql.query().convert()\n",
    "for r in results[\"results\"][\"bindings\"]:\n",
    "    print(r[\"a\"][\"value\"])\n",
    "    print(r[\"definition\"][\"value\"])"
   ]
  },
  {
   "cell_type": "markdown",
   "metadata": {},
   "source": [
    "Query 18: Print the  name, related terms and definitions of articles that have ABACISCUS in their name."
   ]
  },
  {
   "cell_type": "code",
   "execution_count": 39,
   "metadata": {},
   "outputs": [
    {
     "name": "stdout",
     "output_type": "stream",
     "text": [
      "URI: https://w3id.org/eb/i/Article/992277653804341_144133901_ABACISCUS_0 -- Name ABACISCUS -- Related Term: https://w3id.org/eb/i/Article/992277653804341_144133901_ABACUS_1 -- Definition See ABACUS. \n",
      "----\n",
      "URI: https://w3id.org/eb/i/Article/992277653804341_144133901_ABACISCUS_0 -- Name ABACISCUS -- Related Term: https://w3id.org/eb/i/Article/992277653804341_144133901_ABACUS_0 -- Definition See ABACUS. \n",
      "----\n",
      "URI: https://w3id.org/eb/i/Article/992277653804341_144133901_ABACISCUS_0 -- Name ABACISCUS -- Related Term: https://w3id.org/eb/i/Article/992277653804341_144133901_ABACUS_2 -- Definition See ABACUS. \n",
      "----\n",
      "URI: https://w3id.org/eb/i/Article/992277653804341_144133901_ABACISCUS_0 -- Name ABACISCUS -- Related Term: https://w3id.org/eb/i/Article/992277653804341_144133901_ABACUS_3 -- Definition See ABACUS. \n",
      "----\n",
      "URI: https://w3id.org/eb/i/Article/9929192893804340_144850366_ABACISCUS_0 -- Name ABACISCUS -- Related Term: https://w3id.org/eb/i/Article/9929192893804340_144850366_ABACUS_1 -- Definition See ABACUS. \n",
      "----\n",
      "URI: https://w3id.org/eb/i/Article/9929192893804340_144850366_ABACISCUS_0 -- Name ABACISCUS -- Related Term: https://w3id.org/eb/i/Article/9929192893804340_144850366_ABACUS_2 -- Definition See ABACUS. \n",
      "----\n",
      "URI: https://w3id.org/eb/i/Article/9929192893804340_144850366_ABACISCUS_0 -- Name ABACISCUS -- Related Term: https://w3id.org/eb/i/Article/9929192893804340_144850366_ABACUS_0 -- Definition See ABACUS. \n",
      "----\n",
      "URI: https://w3id.org/eb/i/Article/9929192893804340_144850366_ABACISCUS_0 -- Name ABACISCUS -- Related Term: https://w3id.org/eb/i/Article/9929192893804340_144850366_ABACUS_3 -- Definition See ABACUS. \n",
      "----\n"
     ]
    }
   ],
   "source": [
    "sparql = SPARQLWrapper(\"http://localhost:3030/total_eb/sparql\")\n",
    "sparql.setQuery(\"\"\"\n",
    "    PREFIX eb: <https://w3id.org/eb#>\n",
    "       SELECT * WHERE {\n",
    "       ?article a eb:Article .\n",
    "       ?article eb:relatedTerms ?relatedTerms . \n",
    "       ?article eb:name ?name .\n",
    "       ?article eb:definition ?definition.\n",
    "  \t   FILTER regex(?name, \"^ABACISCUS\") \n",
    "    }\n",
    "\"\"\")\n",
    "sparql.setReturnFormat(JSON)\n",
    "results = sparql.query().convert()\n",
    "for result in results[\"results\"][\"bindings\"]:\n",
    "    print(\"URI: %s -- Name %s -- Related Term: %s -- Definition %s \" %(result[\"article\"][\"value\"], result[\"name\"][\"value\"], result[\"relatedTerms\"][\"value\"], result[\"definition\"][\"value\"] ))\n",
    "    print(\"----\")"
   ]
  },
  {
   "cell_type": "markdown",
   "metadata": {},
   "source": [
    "Query 19:  Print URI and Term name of articles that have ABACISCUS in their names - Limited to 10"
   ]
  },
  {
   "cell_type": "code",
   "execution_count": 40,
   "metadata": {},
   "outputs": [
    {
     "name": "stdout",
     "output_type": "stream",
     "text": [
      "URI: https://w3id.org/eb/i/Article/992277653804341_144133901_ABACISCUS_0 -- Name ABACISCUS \n",
      "----\n",
      "URI: https://w3id.org/eb/i/Article/9929192893804340_144850366_ABACISCUS_0 -- Name ABACISCUS \n",
      "----\n",
      "URI: https://w3id.org/eb/i/Article/9929777383804340_193322698_ABACISCUS_0 -- Name ABACISCUS \n",
      "----\n"
     ]
    }
   ],
   "source": [
    "sparql = SPARQLWrapper(\"http://localhost:3030/total_eb/sparql\")\n",
    "sparql.setQuery(\"\"\"\n",
    "PREFIX eb: <https://w3id.org/eb#>\n",
    "SELECT * WHERE {\n",
    "       ?article a eb:Article .\n",
    "       ?article eb:name ?name .\n",
    "       FILTER regex(?name, \"^ABACISCUS\")\n",
    "    }\n",
    "    ORDER BY ?name\n",
    "    LIMIT 10\n",
    "\"\"\")\n",
    "sparql.setReturnFormat(JSON)\n",
    "results = sparql.query().convert()\n",
    "for result in results[\"results\"][\"bindings\"]:\n",
    "    print(\"URI: %s -- Name %s \" %(result[\"article\"][\"value\"], result[\"name\"][\"value\"]))\n",
    "    print(\"----\")"
   ]
  },
  {
   "cell_type": "markdown",
   "metadata": {},
   "source": [
    "Query 20:  Print the year of an edition"
   ]
  },
  {
   "cell_type": "code",
   "execution_count": 43,
   "metadata": {},
   "outputs": [],
   "source": [
    "sparql = SPARQLWrapper(\"http://localhost:3030/total_eb/sparql\")\n",
    "sparql.setQuery(\"\"\"\n",
    "    PREFIX eb: <https://w3id.org/eb#>\n",
    "    SELECT ?year WHERE {\n",
    "       ?edition a eb:Edition .\n",
    "       ?edition eb:publicationYear ?year \n",
    "    }\n",
    "\n",
    "\"\"\")\n",
    "sparql.setReturnFormat(JSON)\n",
    "results = sparql.query().convert()"
   ]
  },
  {
   "cell_type": "code",
   "execution_count": 44,
   "metadata": {},
   "outputs": [
    {
     "data": {
      "text/plain": [
       "'1778'"
      ]
     },
     "execution_count": 44,
     "metadata": {},
     "output_type": "execute_result"
    }
   ],
   "source": [
    "results[\"results\"][\"bindings\"][0][\"year\"][\"value\"]\n"
   ]
  },
  {
   "cell_type": "markdown",
   "metadata": {},
   "source": [
    "Query 22: Print the name of an Editor"
   ]
  },
  {
   "cell_type": "code",
   "execution_count": 46,
   "metadata": {},
   "outputs": [
    {
     "data": {
      "text/plain": [
       "'Smellie, William'"
      ]
     },
     "execution_count": 46,
     "metadata": {},
     "output_type": "execute_result"
    }
   ],
   "source": [
    "sparql = SPARQLWrapper(\"http://localhost:3030/total_eb/sparql\")\n",
    "sparql.setQuery(\"\"\"\n",
    "         PREFIX eb: <https://w3id.org/eb#>\n",
    "         SELECT DISTINCT ?name\n",
    "         WHERE {\n",
    "         ?instance eb:editor ?Editor.\n",
    "          ?Editor eb:name ?name .\n",
    "       }\n",
    "      \n",
    "    \"\"\")\n",
    "sparql.setReturnFormat(JSON)\n",
    "results = sparql.query().convert()\n",
    "results[\"results\"][\"bindings\"][0][\"name\"][\"value\"]"
   ]
  },
  {
   "cell_type": "markdown",
   "metadata": {},
   "source": [
    "Query 23: Count Query"
   ]
  },
  {
   "cell_type": "code",
   "execution_count": 47,
   "metadata": {},
   "outputs": [
    {
     "data": {
      "text/plain": [
       "'188840'"
      ]
     },
     "execution_count": 47,
     "metadata": {},
     "output_type": "execute_result"
    }
   ],
   "source": [
    "sparql = SPARQLWrapper(\"http://localhost:3030/total_eb/sparql\")\n",
    "sparql.setQuery(\"\"\"\n",
    "PREFIX eb: <https://w3id.org/eb#>\n",
    "SELECT (COUNT (DISTINCT ?a) as ?count)\n",
    "    WHERE {\n",
    "    \t?a ?b ?d\n",
    "}\n",
    "\"\"\")\n",
    "sparql.setReturnFormat(JSON)\n",
    "results = sparql.query().convert()\n",
    "results[\"results\"][\"bindings\"][0][\"count\"][\"value\"]"
   ]
  },
  {
   "cell_type": "markdown",
   "metadata": {},
   "source": [
    "Query 24: Count query"
   ]
  },
  {
   "cell_type": "code",
   "execution_count": 48,
   "metadata": {},
   "outputs": [
    {
     "data": {
      "text/plain": [
       "'1638239'"
      ]
     },
     "execution_count": 48,
     "metadata": {},
     "output_type": "execute_result"
    }
   ],
   "source": [
    "sparql = SPARQLWrapper(\"http://localhost:3030/total_eb/sparql\")\n",
    "sparql.setQuery(\"\"\"\n",
    "PREFIX eb: <https://w3id.org/eb#>\n",
    "SELECT (COUNT ( ?a) as ?count)\n",
    "    WHERE {\n",
    "    \t?a ?b ?d\n",
    "}\n",
    "\"\"\")\n",
    "sparql.setReturnFormat(JSON)\n",
    "results = sparql.query().convert()\n",
    "results[\"results\"][\"bindings\"][0][\"count\"][\"value\"]"
   ]
  },
  {
   "cell_type": "markdown",
   "metadata": {},
   "source": [
    "Query 25: Print 10 names of Articles or Topics resources"
   ]
  },
  {
   "cell_type": "code",
   "execution_count": 49,
   "metadata": {},
   "outputs": [
    {
     "name": "stdout",
     "output_type": "stream",
     "text": [
      "MATRICES\n",
      "AMPHILOCHIUS\n",
      "ISATIS\n",
      "BAG\n",
      "VIVES\n",
      "GUINEA\n",
      "SUCCINIC\n",
      "MAMALUKES\n",
      "DIONYSIA\n",
      "WETLUGA\n"
     ]
    }
   ],
   "source": [
    "sparql = SPARQLWrapper(\"http://localhost:3030/total_eb/sparql\")\n",
    "sparql.setQuery(\"\"\"\n",
    "PREFIX eb: <https://w3id.org/eb#>\n",
    "PREFIX rdfs: <http://www.w3.org/2000/01/rdf-schema#>\n",
    "SELECT DISTINCT ?a\n",
    "    WHERE {{\n",
    "    \t?b a eb:Article .\n",
    "    \t?b eb:name ?a}\n",
    "  \t\tUNION {\n",
    "    \t?b a eb:Topic .\n",
    "    \t?b eb:name ?a}\n",
    "}\n",
    "LIMIT 10\n",
    "\"\"\")\n",
    "sparql.setReturnFormat(JSON)\n",
    "results = sparql.query().convert()\n",
    "results = sparql.query().convert()\n",
    "for r in results[\"results\"][\"bindings\"]:\n",
    "    print(r[\"a\"][\"value\"])"
   ]
  },
  {
   "cell_type": "markdown",
   "metadata": {},
   "source": [
    "Query 26: Print 10 definitions of articles which contain Scotland and Glasgow, and optional Mull."
   ]
  },
  {
   "cell_type": "code",
   "execution_count": 50,
   "metadata": {},
   "outputs": [
    {
     "name": "stdout",
     "output_type": "stream",
     "text": [
      "a town of Scotland, in the county of Renfrew, six miles west of Glasgow.\n",
      "----\n",
      "a county of Scotland, lying westward of Glasgow, and comprehending the countries of Lorn, Cowal, Knapdale, Kintyfe, together with the islands Mull, Jura, Ifla, foe. It gives the title of duke to the noble family of Campbell.\n",
      "----\n",
      "a town of Scotland, in Clydefdale, seated on the river Clyde, eleven miles so-uth east of Glasgow; from whence the noble family of Hamiltontake their name, and title of duke. The town is seated in the middle of a very agreeable plain; and on the west of the town this family has a large park, which is near (even miles in circumference, inelofed with a high wall, full of deer and other game. The rivulet called Avon runs through the park, and falls into the river Clyde,over which last there is a bridge of free-stone. W. Long. 3. 50. N. Lat. 55. 40. The original name of this place, or the lands about it, was Cadzow or Cadyotv, a barony granted to an ancestor of the noble owner, on the following occasion. In the time of Edward II. lived Sir Gilbert de Hamilton, or Hampton^ an Englishman of rank; who happening at court to speak in praise of Robert Bruce, received on the occasion an insult from John de Spenfer, chamberlain to the king, whom he fought and flew. Dreading the refentmentr of that potent family, he fled to the Scottish monarch; who received him with open arms, and eftabliftied him at the place possessed by the duke of Hamilton. In aftertimes the name was changed from Cadzow to Hamilton ; and in 1445 the lands were erefted into alordfhip, and the then owner Sir James-sat in parliament' as lord Hamilton. The same nobleman founded the collegiate church at Hamilton in 1451, for a provofl and several prebendaries. The endowment was ratified at Rome by the pope’s bull, which he went in person to procure.—-Hamilton-house or palace is at the end of the town ; a large disagreeable pile,, with tv?o deep wings at right angles with the centre : the gallery is of great extent; and furniftied, as well as some other rooms, with most excellent paintings.' Hamilton (Anthony, count), defeended from a : noble family in Scotland, was born-in Ireland, and ’ settled in France. He wrote several poetical pieces 4; and was the first who composed. romances in an agreeable taste, without imitatingthe burlefqu,e of Scar;. ron. Fie is also said to be the author of the Memoirs of the couni de Grammont, one of the best written pieces in the French language. His works were printed ih 6 .vols 12mo. He died , at St Germaine-en-Laye, in Hamilton (George), earl of Orkney, and a brave warrior, was the fifth son of William earl of Selkirk; and early betook himself to the profession of arms. Being made colonel in 1689-90, he distinguished himself by his bravery at the battle of the Boyne; and soon after, at those of Aghrim, Steinkirk, and Landen, and at the sieges of Athlone, Limerick, and Namur. His eminent services in Ireland and Flanders, through the whole course of that war, recommended him so highly to king William III. that, in 1696, he advanced him to the dignity of a peer of Scotland, by the title of earl of Orkney; and his lady, the filter of Edward vifeount Villiers, afterwards earl of Jersey 4 had a grant made to her, undfr the great seal of Ire-\n",
      "----\n",
      "Colin, a most tician and philosopher, was the son horn at Kilmoddan in Scotland in to the university of Glasgow in I7°9'> tinued five years, and applied himself most intense manner. His great tical learning discovered itself so years of age j when, having accidentally Euclid in a friend’s chamber, he became master of the first six hooks without and it is certain, that in his i6tb ed many of the propositions which published under the title of Geometria his 15th year he took the degree of which occasion he composed and thesis, On the power of Gravity, After this he quitted the university, country-seat of his uncle, who had education 5 for his parents had been Here he spent two or three years vourite studies; but, in ly 1 ?* si candidate for the professorship ol Marischal College of Aberdeen^ a ten days trial with a very able competitor. he went to London, where he became Dr Hoadley then bishop of Bangor, Isaac Newton, and other eminent also he was admitted a member of and in another journey in 1721, timacy with Martin Folkes, Esq. which lasted to his death. In 1722, Lord Polwarth, plenipotentiary of Great Britain at the congress ofliini to go as a tutor and companion to Ins eldest son, who \"\" 1 was then to set out on his travels. After a short stay at Paris, and visiting other towns in France, they fixed in Lorrain ; where Maclaurin wrote his piece On the Percussion of Bodies, which gained the prize of the Royal Academy of Sciences for the year 1724. But his pupil dying soon after at Montpelier, he returned immediately to his profession at Aberdeen. He was hardly settled here, when he received an invitation to Edinburgh j the curators of that university being desirous that he should supply the place of Mr James Gregory, whose great age and infirmities had rendered him incapable of teaching. He had some difficulties to encounter, arising from competitors, who had good interest with the patrons of the university, and also from the want of an additional fund for the new professor, which however at length were all surmounted, principally by the means of Sir Isaac Newton. In November 1725, he was introduced into the university. After this, the mathematical classes soon became very numerous, there being generally upwards of 100 young gentlemen attending his lectures every year 5 who being ot different standings and proficiency, he was obliged to divide them into four or five classes, in each of which he employed a full hour every day, from the first of November to the first of June. He lived a bachelor to the year 1733: but being not less formed for society than for contemplation, he then married Anne, the daughter of Mr Walter Stewart solicitor-general for Scotland. By this lady he had seven children, of whom two sons and three daughters, together with his wife, survived him. In 1734, Berkeley, bishop of Cloyne, published a piece called “ The Analystin which he took occasion, from some disputes that had arisen concerning the grounds of the fluxionary method, to explode the method itself, and also to charge mathematicians in general with infidelity in religion. Maclaurin thought himself included in this charge, and began an answer to Berkeley’s book: but, as he proceeded, so many discoveries, so many new theories and problems occurred to him, that instead of a vindicatory pamphlet, his work came out, A complete system of fluxions, with their application to the most considerable problems in geometry and natural philosophy. This w’ork was published at Edinburgh in 1742, 2 vols. 4to ; and as it cost him infinite pains, so it is the most considerable of all his works, and will do him immortal honour. In the mean time, he was continually obliging the public with some performance or observation of his own ; many of which were published in the fifth and sixth' volumes of the “ Medical Essays” at Edinburgh. Some of them were likewise published in the Philosophical Transactions j as the following: 1. Of the construction and measure of curves, N° 336. 2. A new method of describing all kinds of curves, 3593A letter to Martin Folkes, Esq. on equations with impossible roots, May 1726, N° 394. 4. Continuation of the same, March 1729, N° 408. 5December the 21st, 1732, on the description of curves ; with an account of farther improvements, and a paper dated at Nancy, November 27. 1722, N° 439. 6. An account ot the treatise of fluxions, January 27* 1742, N° 467.7. The same continued, March 10., 469. 8. A rule for finding the meridional parts of a spheroid with the same exactness sphere, August 1741, N° 461. 9. Of the cells wherein the bees deposite their honey *734, N° 471. < In the midst ot these studies, he was to lend his assistance in contriving and promoting scheme which might contribute to the service country. When the earl of Morton set for Orkney and Shetland, to visit his estates he desired Mr Maclaurin to assist him in geography of those countries, which is ous in all our maps ; to examine their natural to survey the coasts, and to take the measure gree of the meridian. Maclaurin’s family other connexions, would not permit him he drew, however, a memorial of what necessary to be observed, furnished the proper ments, and recommended Mr Short, the tician, as a sit operator for the management He had still another scheme for the improvement geography and navigation, of a more extensive which was the opening of a passage from Greenland the South sea by the north pole. That sage might be found, he was so fully persuaded, he has been heard to say, if his situation of such adventures, he would undertake even at his own charge. But when schemes it were laid before the parliament in 1744, self consulted by several persons of high rank ing them, before he could finish the memorials posed to send, the premium was limited to very of a north-west passage : and he used that the word west w r as inserted, because that passage, if at all to be found, must lie In 1745, having been very active in fortifying city of Edinburgh against the rebel army, liged to fly si'om thence to the north of where he was invited by Herring, then archbishop York, to reside with him during his stay in try. In this expedition, however, being cold and hardships, and naturally of a weak der constitution, he laid the foundation of which-put an end to his life, in June 1746, Mr Maclaurin was a very good as well great man, and worthy of love as well as His peculiar merit as a philosopher was, that studies were accommodated to general utility find, in many places of his works, an application of the most abstruse theories, to the perfecting chanical arts. He had resolved, for the same to compose a course of practical mathematics, rescue several useful branches of the science bad treatment they often met with in less skilful But all this his death prevented 3 unless reckon, as a part of his intended work, the of Dr David Gregory’s “ Practical Geometry,” which he revised,. and published with additions, In his lifetime, however, he had frequent ties of serving his friends and his country by skill. Whatever difficulty occurred concerning constructing or perfecting of machines, the working mines, the improving of manufactures, the of water, or the execution of any other public\n",
      "----\n",
      "a sea-port town of Scotland, and one of the ports of the city of Glasgow. It isfituated 22 miles from that city; and was formerly called the Bay of St Laurence. The Frith of Clyde here expands into a fine bafon four miles wide, and is landlocked on all\n",
      "----\n",
      "J ia d formerly been expended among the citizens by the bishop and his clergy, was now diverted into other channels : the advantages resulting from the university were also for a time lost ; for as the reformers generally despised human learning, the college was in a manner In the time of the civil wars, Glasgow suffered fey ere ly. To the mischief attending intestine discord, were added a pestilence and famine •, and to complete their misfortunes, a violent fire broke out in June 1652, which destroyed the greatest part of the Saltmarket, Trongate, and High street. The fronts of the houses at that time were mostly of wood, so that they became an easy prey to the flames. The fire continued with great violence for the space of 18 hours $ by which a great many of the inhabitants were ruined, the habitations of almost 1000 families being totally destroyed. On this account colledlions were made through different parts of the country ; and to prevent such accidents for the future, the fronts were built with freestone, which abounds in the neighbourhood. By the charter given to Biftiop Turnbull in 1450, the citizens had been deprived of the power of elefting their own magistrates, which was thenceforth exercised by the bifliop ; which, however, was not done without some resistance on the part of the inhabitants. After the Reformation was introduced into Scotland, we find this power exercised by the citizens, the biftiop, the earl of Lennox, and others. The idea that the town was a bilhop’-s borough, and not a royal free borough, gave occasion to this unsettled manner of appointing the magistracy ; and though, in 1633, they were declared to be a royal free borough by the parliament, yet their freedom of eled Hon was afterwards disturbed by the privy council, by Cromwell, and the duke of York. But on the 4th of June 1690, the town was declared free by a charter of William and Mary 5 and in confirmation of this charter it was inserted in the a£t of parliament, dated June 14th the same year, that they ftiould have power to eleft their own magistrates as fully and freely, in all refpedts, as the city of Edinburgh or any other royal borough within the kingdom ; which freedom of eleftion still continues. By the affeffment of the boroughs in 1695, we find the city of Glasgow reckoned the second in Scotland in point of wealth, which place it still continues to hold. To account for this great increase of wealth, we must observe, that for a long time, even before the refloraon tion of Charles II. the inhabitants of Glasgow had been in possession of the sale of both raw and refined fugars for the greatest part of Scotland 5 they had a privilege of diftilling spirits from their molaffes, free of all duty and excife ; the herring fiftiery was also carried on to what was at that time thought a very considerable extent; they were the only people in Scotland who made soap ; and they sent annually some hides, linen, &c. to Bristol, from whence they brought back in exchange, a little tobacco, sugar, and goods, of the manufadlure of England, with which they supplied a considerable part of the kingdom. From the year 1 707, however, in which the union betwixt Scotland and England took place, we may date the prosperity of Glasgow. By the union, the American trade was laid open to the inhabitants : and so sensible were they of their advantageous situation, that they began almost initantly to Vol. IX. Part II. prosecute that commerce ; an afliduous application which, ever since, hath greatly contributed to city to the pitch of affluence and splendour which present enjoys. The city was now greatly and as the community were sensible of the inconvenience that attended the want of a fufticient quantity in the river for carrying on their commerce, solved to have a port of their own nigher the the river. At first, they thought of making bour at Dumbarton : but as this is a royal borough, magistrates opposed it *, because they thought influx of lailors and others, occasioned by the would be so great, that a scarcity of provisions occasioned. The magistrates and town council gow, therefore, purchased some lands -on the of the river Clyde for this purpose •, and so expeditious were they in making their harbour, and rearing town, that in 1710 a bailie was appointed for vernment of Port-Glasgow. It is now a very able parilh, and lies 21 miles nigber the mouth In 1725, Mr Campbell, the member of parliament for Glasgow, having given his vote for having tax extended over Scotland, a riot ensued lower class of people. In this disturbance, Mr bell’s furniture was destroyed, and some excifemen maltreated for attempting to take an account malt. General Wade, who commanded the Scotland, had sent two companies of soldiers, the command of Captain Buftiel, to prevent turbance of this kind. Captain Bushel drew men in the street, where the multitude pelted with stones. He first endeavoured to disperse by firing with powder only : but this expedient he ordered his men to load their pieces with without the fan&ion of the civil authority, ed them to fire four different ways at once. discharge about 20 persons were killed and which enraged the multitude to such a degree, virtg procured some arms, they pursued Bushel his men to the castle of Dumbarton, about 14 ftant. General Wade being informed of this tion, assembled a body of forces, and being nied by Duncan Forbes, lord advocate, took of the town : the magistrates were apprehended carried prisoners to Edinburgh •, but on an examination before the lords, their innocence clearly appeared, on which they were immediately dismissed. was tried for murder, convifted, and condemned instead of suffering the penalties of law, he was ged with a pardon, and promoted in the service. Campbell petitioned the house of commons for demnification of his Ioffes : a bill was passed vour •, and this, together with some other incurred in the affair, cost the town 9000I. During the time of the rebellion 1745, zens of Glasgow gave proof of their attachment volution principles, by raising two battalions men each, for the service of government. This of loyalty, however, had like to have cost them The rebels, in their journey south, took a resolution plunder and burn the city : which would probably been done, had not Mr Cameron of Lochiel ed, in that case, to withdraw his clan. A heavytributlon, however, was laid on. The city was compelled to pay 5000I. in money, and 500I. in goods j and on the return of the rebels from England, they ■ were obliged to furnilh them with i2,oco linen ftiirts, 6000 cloth coats, 6000 pairs of shoes, 6000 pairs of hole, and 6000 bonnets. These goods, with the money formerly paid them, the expence of raising and fubliiling the two city battalions, and the charge of maintaining the rebel army in free quarters for ten days, colt the community about 14,000!. sterling j lo,oool. of which they recovered in 1749, by an application to About the year 1750, a very considerable change manners too k place in the manner of living among the inhabiGlafgow. Till this time, an attentive industry, and a frugality bordering upon parfimony, had been their general chara&eriftic j the severity of the ancient manners prevailed in its full vigour: But now, when an extensive commerce and increased manufactures had produced wealth, the ideas of the people were enlarged, and schemes of trade and improvement were adopted which people would formerly have been denominated madmen if they had undertaken ; a new style was introduced in living, dress, building, and furniture j wheel carriages were set up, public places of entertainment were frequented, and an assembly-room, ball-room, and playhouse, were built by fubfeription j and from this time we may date all the improvements that have taken place, not only in Glasgow, but all over the west of Scotland. The best method, however, of estimating the growing improvement of any town, is by the frequency of their applications for assistance to parliament 5 we ftiall therefore enumerate the a Cts of parliament which have been pai Ttd in favour of the city of Glasgow since Attsof the year 1750. In 1753, an aft passed for repairing parliament p evera j roa( j s l ea ding into the city of Glasgow. In an a<a ^o r ere^In g anci Supporting a lighthouse in the island of Little Cumray, at the mouth of the Clyde, and for rendering the navigation of the frith and river more safe and commodious.— In 1759, an aft. for improving the navigation of the river Clyde to the city of Glasgow, and for building a new bridge across the river.—In 1767? the people of Glasgow having proposed to make a small cut or canal from the frith of Forth to that of Clyde, for the conveniency of their trade to the eastern side of the illand, several gentlemen at Edinburgh, and throughout different parts of the kingdom, proposed that this canal ftiould be executed upon a much larger scale than what had been originally projefted. An aft was accordingly obtained, and the canal executed in the manner described under the article Canal.—In 1770, another aft w'as obtained for improving the navigation of the river, building the bridge, &c. being an amendment of the former aft for these purposes. In I77 1 * an a & f°r making and widening a palfage from the Saltmarket to St Andrew’s church j for enlarging and completing the churchyard of that church, and likewise for building a convenient exchange or square in the city *, also for amending and explaining the former aft relative to the navigation of the Clyde. An aft for making and maintaining a navigable canal and waggon way from the collieries in the parifttes of Old and New Monkland, to the city of Glasgow. This last canal, which a view to reduce the price of coals, tended with the desired effeft $ provements have been produftive of ta g e f The most ancient part of the city ground. The foundation of the cathedral higher than the bed of the river ; the high ground reaches to about college. The rest of the city is plain, bounded southward by the ward by a gentle ridge of hills lying reftion with that river. These consisted of gardens and fields j but with buildings, in consequence of the and population of the city. The and well paved j and several of them another at right angles, produce fest. The four principal streets, in that manner, divide the city nearly parts-, and the different views of or centre of interfeftion, have an cence. The houses, consisting of height, are built of hewn stone, generally ing good taste, and many of them remarkable public buildings are, 1. The Cathedral, or High Church, building, and its situation greatly it Hands higher than any part of the intended to form a cross, though the never been finiftied. The great tow'er four large massy pillars, each of them circumference. The tower itself within j and is surrounded by a Avhich rises an oftangular spire terminated The tower upon the west end is upon but appears not to have been finiftied, vered over w ith lead. In this tower 11 feet four inches in diameter. w T as from the west *, the gate 11 feet and 17 feet in height. The west now appropriated for a place of divine divided from the remaining part which is enclosed by another stone the nave. It is impofiible to form the awful solemnity of the place occasioned tiness of the roof and the range of The nave of the church rises four the choir; and on the west side formerly ornamented with a variety now defaced. The pillars here taste than those in the choir, and namented with fruits. The arched is supported by five pillars, over race walk, and above it a large workmanftiip, but now shut up. the altar is the vestry,. being a roof arched and vaulted at top, and pillar in the centre of the house. every angle terminate in the grand feet high. The lower part of the use of as a burying place for the and is by much the finest piece of whole building. It is 53 feet\n",
      "----\n",
      "Figured. This article has, within less than forty years, become a very considerable branch of our manufactures. For a long period the district of Cashmere, a province of Hindustan, formerly subject to the king of Candahar, produced articles of this description in such perfection as to make them highly prized both in Europe and in Asia. The date at which this manufacture took its rise is not known; but ever since the British established Cashmere shawls have been considered valuable manufactures of the East. These shawls are made both long generally measuring fifty-four inches and twenty-six long; the latter seventy-two inches square. The posed of a material exquisitely soft this respect probably any other material fabricated into clothing. It is recorded flourishing period of this manufacture, mere had not less than 40,000looms in it. This district produced also which has also been imitated in this tensive use, called Cashmeres or Cassimeres. nufactures were sufficient to draw mere, merchants and commercial India, Turkey, Persia, and Tartary; prosperity of this industrious and ingenious checked by the oppressions of their the rapacity of the bordering states. These shawls were not more prized texture, than for the chaste beautiful-coloured with which they were ornamented. to a natural delicacy of taste, enabled dye the numerous colours of an unfading and to arrange them in such a manner mony and elegance such as no article ever fully equalled. The value put ers who brought them to the different L.5 to L.100, and those of the finest extent of figure sold for still higher there was a duty of eighty per cent, into this country (when, however, a celebrated dealer in the article shawl for which he asked five hundred As this country became more and riety of manufactures, and the ingenuity sons was put upon the stretch, it tention should be turned to a manufacture rious and so much prized. It was facturers of this country ascertained the Cashmerian shawls were made, they were fabricated; and hence were produced in imitation of them very inferior. The merit of commencing, a high degree of perfection, British sively to Edinburgh, and the principal ture all along has been in Scotland. years ago the late Miss Bowie, who, for a number of years been engaged facture, attempted to make square ple patterns, in imitation of the Cashmere, sewing-needle, from a fabric made waste made in reeling the finest was tedious and expensive, and in The manufacture of damask had burgh for a long period. The figures are produced in this elegant idea that a similar contrivance might tation of the Indian shawls, both and the distribution of the colours this, and to train children to insert their fingers, were simultaneously nufacturers in Edinburgh ; but manufactured by means of the fingers soon found that the higher price 1 The duty is now (1840) thirty per cent.it hopeless to establish the shawl-manufacture on e p ar t of a loom termed a lay was at last constructed, up with boxes to hold the number of shuttles for required. This the weaver managed by a simof the thumb of his left hand, whereby he without stopping his loom, to throw in the yarn, and make it catch the threads of the warp were raised by the draw-boy, and thus form the figure. Patterns required from five to twelve discolours, and consequently as many shuttles. The being mounted on a plan similar to that employed damask, required one, two, and sometimes three according to the extent of the pattern, to draw up the in their order, the shuttle being driven through: not required to form the figure, the coloured yarn loose and useless over the whole breadth of the and required to be cut off with scissors. There was great waste of material; but as one weaver, with one boys, could produce as much work in a single week, Cashmerian, with still more hands, on his plan of could produce in twelve months, the saving very great. In place of using any thing like an loom, the Cashmere manufacturer had the threads the warp placed in an upright frame, and the piece with the fingers much in the same way as tapestry be made. A single shawl of some of the most expatterns occupied a whole family from one to two material of which the finest shawls were made, from a goat found in the range of mountains to the north and north-west of the district of Cash This animal is called by them the Thibet-goat, afmountains they inhabit. The skins of these anicovered with a coat of strong hair five or six inches ; at the roots of this hair is found, in small quantivery soft woolly substance of which the shawls are Napoleon caused a breed of these goats to be brought from the hair of which shawls were made ; and now become an article of commerce, and is spun in quantities both in Britain and in France. spun and manufactured it for several years before succeeded in importing or making it; and to we are still indebted for a superior article of which sells in this country, the doubled or warp at per pound weight, and the single or west at 30s. are two circumstances which must at all times make costly: the wool is obtained from the skin after and not while the animal is alive; and the fine part to be picked from the hairy part by the hand, no having yet been found capable of performing the adequately. It farther appears that these goats in their natural state, only in ranges of the highest and as they do not yield a fleece like sheep, it that the supply of the article must at all times limited. During the earlier period of the manuof shawls in this country, they were either compossilk spun from waste, or from a mixture of this article the finest Saxony wool, carded and spun together; being composed of the same material, or of ; and some of the colours were of cotton only. In of the manufacture, the makers in Edinburgh refrom L.2 to L.10 sterling for each shawl; and for years the demand was good. shawl-manufacture was soon established in several more particularly at Norwich, Glasgow, Paisley, and in France, and a variety of trials continued to be to lessen the expense of production. The plan of at this stage of the manufacture, in preparing and figure, cost in many instances from L.40 to before weaving was commenced ; each loom requiring one, and some of the large patterns two and even boys, to draw the cords during the process of weaving. There was also the expense of clipping olf all the coloured yarn except such as was taken up to form the figure. lessen these expenses various means had been tried, During the short peace of Amiens in 1802, a straw-hat maker in Lyons, of the name of Jacquard, happened in an English newspaper, an advertisement offering mium to any one who should contrive a machine for ing nets. This led him to turn his attention to the of mechanics, and after many fruitless trials he succeeded in contriving a machine which fully answered the He was sent for, on this account, by Napoleon, and at Paris, a superb shawl was about to be woven Empress Josephine; and for its production they employed a very costly and complicated loom, which had cost than 20,000 francs. It appeared to Mr Jacquard the same results might be produced by less complicated machinery. Intense study and perseverance enabled to produce the machine that now bears his name. Jacquard was rewarded with a decoration of honour, pension of a thousand crowns per annum, and sent his machine to Lyons, the seat of the shawl and figured manufactures. This contrivance not only superseded use of the draw-boy, but also rendered a great tackling unnecessary; thus greatly simplifying and cheapening the production, not only of shawls, but also figured articles of every description. It is a striking instance of the ignorance and shortsightedness of the operatives of Lyons, that when Jacquard troduced his invention, the people broke out into open bellion. He was denounced as an enemy of the and as the man who had been scheming the destruction their trade, and the starvation of themselves and their lies. Three several plots were laid to assassinate him, twice he was in great danger of losing his life. So was the tide of prejudice and indignation, that the was ordered to be openly destroyed by the public ties, and was accordingly broken in pieces in the square of the city. The successful competition of foreigners, and the quent decline of trade at a subsequent period, induced of the more intelligent manufacturers to think of whose discovery was likely to bring some relief to the depressed manufacturers of Lyons. They made an riment, and succeeded. Silks of the greatest beauty introduced at a lower cost, and now (1840) there mechanic, either in France or in Britain, who does knowledge the great importance of Mr Jacquard’s invention. This may be fully conceived, from the fact, that has it been very generally adopted by shawl-manufacturers, but by makers of all kinds of damask, whether of silk linen, in Britain. This improvement, together with chine which the French had also contrived about the time, for cutting off the spare yarn used in making figures (which completely superseded hand-labour), both adopted in France some time before they were duced into Britain, which, with the advantage they rived from having good yarn from the wool of the goat, procured for the French manufactures a decided vantage over the British for several years; and notwithstanding a nominal protecting duty of thirty per cent, (but ality not affording more than twelve per cent, as for smuggling were such, that any one could have insurance for goods being safely delivered in London, paying to the French merchant twelve per cent, extra), were brought over in great quantities, which, together a general desire for foreign productions, had the ruining several British shawl-makers, as well as some tensive dealers in the article. The improvements invented\n",
      "----\n",
      "(John), an Englishman, employed by the government as a spy upon James II. after the revolution, was author of Memoirs of James’s court at St Germaine, and of the court of England in the reigns of William III. and queen Anne ; in which are many curious anecdotes not to be met with in any other work. He died in 1726. MACLAURIN (Colin),a mod eminent mathematician and philosopher, the son of a clergyman, and born at Kilmoddan in Scotland in 1698. Hewasfent to the university of Glasgow in 1709, and took the degree of mailer of arts in his 15th year; on which occasion he composed and defended a thesis on the power of gravity with great applause. In 1717, he obtained the profefibrfliip of mathematics in the Marifhal college of Aberdeen against a very able competitor; and, going afterwards to London, contrasted an acquaintance with Sir Isaac Newton, Dr Hoadley, Dr Clarke, Martin Folkes, esq. with other eminent men ; and was admitted a member of the Royal Society. In 1722 he travelled as tutor to the elded son of lord Polwarth ; and at Lorrain wrote his piece On the percussion of bodies, which gained the prize of the Royal Academy of Sciences in 1724 ; but, on the death of his pupil at Montpelier, he returned immediately to Aberdeen. He was hardly settled there, when he was chosen to supply the place of Mr James Gregory, as professor at Edinburgh, where his mathematical fqholars soon became very numerous. In 1745, having been very aftive in fortifying the city of Edinburgh againd the rebel army, he was obliged to fly into the north of England ; in which expedition he laid the foundation of an illness that put an end to his life in 1746. He publiffied A complete fyllem of fluxions, 2 vols 4' -o ; several curious papers in the Philosophical Trarjfadtions, and in the Edinburgh Medical Efiays dudies were dire&ed to general utility, and promoting\n",
      "----\n",
      "or Renegado, a person who hasapoftatized or renounced the Chrldian faith, to embrace some other religion, particularly Mahometa RENFREW-shire, a county of Scotland, styled by way of eminence the barony, because it was the ancient inheritance of the Stuarts,^is a small county, extending about 20 miles front north to south, and 13 from east to west, parted from Dumbarton-shire by the river Clyde on the west, bordering on the east with Lanerkfhire, and on the north with Cunningham. The face of the country is varied with hill and vale, wood and stream ; crowded with populous villages, and adorned with the seats of gentlemen. The soil is in general fertile, producing rye, barley, oats, pease, beans, flax, and some wheat: it likewise yields plenty of coal, and turf for fuel ; and affords abundance of pallurage for sheep and cattle. The inhabitants are Ipwlanders, and Preibyterians; wealthy and industrious, addided to. traffic, and particularly expert in the linen manufadure. Their genius is stimulated to commerce, by the example of their neighbours of Glasgow, as well as the convenience of the river and frith of Clyde, along the course of which they are situated. Renfreiu, the county town, Handing on the small river Cathcart, which flows into the Clyde at the distance of five miles from Glasgow, is a small but ancient royal borough,, the seat of the flieriff’s court and of a prefbytery. The town is neatly built, and the inhabitants enjpy a tolerable fttare of commerce.—Renfrew was originally joined to Lanerk, but was made an independent ftieriffdom by Robert II. who had a palace here.\n",
      "----\n",
      "one of the counties of Scotland, supposed to have formed the principal part of the Caledonian kingdom, wdien the eastern provinces of Scotland submitted to the irresistible power of the Roman empire. It is bounded on the eafl; by the shires of Perth and Dunbarton j on the north by Inverness j on the west and louth by the Irish sea and the frith of Clyde, which enter into various bays, sounds, and inlets, round the coast, and form both in the main land and the islands, many spacious and commodious harbours. This county is subdivided into the diftrifls of Kintyre, Knapdale, Argyll Proper, Cow'al, and Lorn. Within the same division are also comprehended several Hebudian islands, of which two or three are of considerable extent. Its length from south to north, between the mull of Kintyre and the point of Ardnamurchan, where it joins the shire of Inverness, is about 114 miles, and its breadth, in several places, including the isles, is 70. The inland part of the county is, in some measure, irregular, with Similar to the other parts of the Highlands of Scotland, this county presents a very wild and horrid profpe£l of hills, rocks, and huge mountains, piled upon each other in a stupendous and dreadful disorder, bare, bleak, and barren to the view j or, at best covered with shaggy heath, which appears black and dismal to the eye, except in the summer, when it is variegated with an agreeable bloom of a purple colour. Hence Jpfty mountains, deep glens, inlets of the sea entering far into the land, form the general afpecl of this this country is one of the loftiest and where this county meets Dunbarton, the mountains are but little inferior tain. The Loch Fine, Loch are inlets of the sea. The into the north channel, and the main land at the narrow The diftridt of Cowal is Loch Long on one side and The interior parts of the a great number of small renness of soil and scanty on the summits of the great bit great mafles of ftratified columnar form. Even a number ren, and afford little pasturage, veral places with large fragments, separated and precipitated On the declivities of the lakes there are, however, numerous which unite with the lofty romantic Icene. In a run verdure, and cultivation, Glenurchay. Remains of extensive in various places, oaks, allies, pines, and birches. try, towards the southern parts, an equality with that of the country is highest towards counties of Perth and Inverness. The mountains and forests roes, flags, and all kind of the sea coast the moors, the the wild fowl are numerous. innumerable quantity of black among the hills in winter circumambient sea, with its pours forth myriads of of the country iron, copper, and minerals have been standing these numerous shire, as well as the other struggles with many great improvement. The want the most material. What have to manure or cultivate may have taken, when his for himself; and after all encies attending it, he holds dependant on the will of alio reflefss, that by cultivating manner, the rent which he to pay, may be nearly doubled can he be able to defray tending such an improvement, of a competent return for that proprietors will at length tage that will arise from granting themselves and their tenants to encourage the tenants any expence that may remain lease, or build houses for thetbefe means, they would have surer payment of their rents, which would be augmented 5 their grounds would be greatly improved, and their vaflfals would enjoy comfort and ease. Another great obstacle to the general improvement is the rugged face of this county, which renders the great roads few in number, and the interfecled roads for the purpose of conveying manure to the grounds being still in their natural rudenels. The chief branch of hulbandry followed over the greatest part of this country is the management of sheep, black cattle, and goats. In former times, the ordinary animal stock confided moflly of black cattle : but within these last 20 years a more skilful method of managing flocks of (beep than was formerly praclifed, having been introduced by the farmers Oi the low country j these have been multiplied with gicat attention and afliduity. Cows and oxen now form only the second considerable branch of the animal Barley, oats, and potatoes, are the principal articles of crop and, in some places, the proper manner of tillage has been made use of, excellent manures have been laid upon the ground, and the mod suitable rotation of crops has been adopted. In years of ordinary plenty it would appear, that besides affording a considerable surplus to the breweries and didilleries, the grain commonly produced in this county is a sufficient fudenance for its inhabitants. Besides the great profits arising from the iron works and the salmon filheries, the cutting down of woods has brought much money into Argyll, and dill continues to be equally beneficial to the labourer and the landlord. When the projefted canal * fliall be completed, and some villages and harbours eredled, the popuivhuh j ous coun ty Q f Argyle (Mr Knox affirms) will become one of the mod valuable provinces of the Britiflr empire. Waflied on both sides by the sea; deeply indented by navigable lakes and bays j having an easy communication with the fifliing grounds on the north Highlands, with Glasgow and the trading towns on the Clyde, with Ireland, Wales, Whitehaven, Liverpool, Bridol, and other marts on the wed coad of England } we may easily conceive, that the period is at no great didance when Argylllhire will become a great commercial county. To corroborate this opinion he observes, that after a vessel gets under fail from this coad, die enters at once into the Atlantic, where die meets with no interruption till die makes the coad of America or the Wed Indies. The line, therefore, which nature points out for the inhabitants is that of salt-making, fidiing, (hip-building, freight, or the carrying trade \\ soap and glassmaking, by means of the kelp upon their (hores, and sand found upon the islands of Jura and Gigha, which is adapted for the latter. In this difiridt the deeds of the celebrated Fingal, whose invincible arm gave a check to the progress of the conquerors of the world, -were modly achieved. Many of the scenes of the battles of that illudrious hero and his gallant followers, which are so beautifully described by Oflian, are dill pointed out, and many very ancient monuments dill display the warlike spirit of its former inhabitants. In the course of the eighth and ninth centuries, Argyll, along with the neighVol. II. Part II. bouring ides, was conquered by the Danes wegians. For five or six centuries it continued the dominion of Norway, and during that under the direst adminidration of feudal generally of Norwegian extraclion, who tained an almod independent government. with the Hebudean ides, all the wedern gyll became the conqued of the Scotifli the fourteenth century. Some time after, the representative of this region, obtained the Scotiflr crown to hold his poffeflions to that kingdom j but the turbulent spirit his family could not remain in quietude, their rebellions were punidred with forfeiture. edates and titles were bedowed on the thele have ever since retained them in alty, beloved and honoured by their county of Argyll gives the title of duhe the chief of this family. He likewise other important pods under the crown, of the Scotifli nobility. * His vassals are that in former times he could on occasion or 4000 fighting men into the field. generally peopled by this clan, and number of cafiles and seats belonging to hold of the duke, and boad themselves his family. Argyllfliire sends one member ment : it is also the seat of a provincial tains 2 royal boroughs and 49 paridies tion of which is as follows.\n",
      "----\n"
     ]
    }
   ],
   "source": [
    "sparql = SPARQLWrapper(\"http://localhost:3030/total_eb/sparql\")\n",
    "sparql.setQuery(\"\"\"\n",
    "PREFIX eb: <https://w3id.org/eb#>\n",
    "PREFIX rdfs: <http://www.w3.org/2000/01/rdf-schema#>\n",
    "SELECT  ?d\n",
    "    WHERE {\n",
    "    \t?b a eb:Article .\n",
    "    \t?b eb:definition ?d\n",
    "        FILTER (CONTAINS(?d, \"Scotland\")) \n",
    "        FILTER (CONTAINS(?d, \"Glasgow\")) \n",
    "        OPTIONAL{FILTER CONTAINS(?d, \"Mull\") }\n",
    "} LIMIT 10\n",
    "\n",
    "\"\"\")\n",
    "sparql.setReturnFormat(JSON)\n",
    "results = sparql.query().convert()\n",
    "results = sparql.query().convert()\n",
    "for r in results[\"results\"][\"bindings\"]:\n",
    "    print(r[\"d\"][\"value\"])\n",
    "    print(\"----\")"
   ]
  },
  {
   "cell_type": "markdown",
   "metadata": {},
   "source": [
    "Query 27:  Print definition of Articles resources with the name PAISLEY"
   ]
  },
  {
   "cell_type": "code",
   "execution_count": 51,
   "metadata": {},
   "outputs": [
    {
     "name": "stdout",
     "output_type": "stream",
     "text": [
      "a town of Scotland, in the county of Renfrew, six miles west of Glasgow. 1773\n",
      "a town of Scotland, in the county of Renfrew, six miles west of Glasgow. 1771\n",
      "a town of Renfrewfliire, in Scotland, situated about six miles west of Glasgow, on ibe river White-Cart, ever which there are two Honebridges of two arches each, and one which confiftsof three arches. The town is very ancient ; but was of much less cosfequence formerly than it is at present. The old part of it runs from ea H to wed upon the south Hope of a ridge of hills, from which there is a fine profped of the city of Glasgow and the adjacent country ; but to the southward, the view terminates in a ridge of green bills, about two miles diRant. Including the late buildings and suburbs, it is fully a mile long, and nearly as much in breadth. On the ea H side of the river Cart, Hand the abbey and new town; which la R was lately feued off by the Earl of Abcrcorn, and already conli Rs of a number of handsome buildings. The streets are here laid off in a regular manner, but (rather unfortunately for the conveniency and elegance of some ofthehoufes) not in right angles. Here the Earl of Abercorn has built, at his own cxpence, one of the large H, mo H commodious, andmoft elegant inns in Scotland. In the vicinity of this his Lordlhip is likewise to build several convenient and necessary market-places. A little way south of the inn Hands the abbey-church, the only one which Paifley, before the year 1735, required. This church, when entire, has been a mo H noble building, and confi Red of several di Rin& and separate places of worftiip: what now remains of this magnificent Gothic firudlure is not yet unworthy the notice of the curious in antiquities. The next church, called the Laigh-Cburch, is built in form of a Greek cross, very well laid out, and capable of containing a great number of people. The one called the High-Church, is a very fine building; and as it Hands on the top of a hill, its lofty spire is visible at a great diHance. This church is an oblong square of 82 feet by 62 within the walls, built of free-Hone well smoothed, having ru Hic corners and an elegant Hone cornice at the top. In the con Hruftion of the roof (which is a pavilion covered with slate, having a platform covered with lead on the top), there is something very curious, and it is admired by every person of taste. The Middle or New Church is a very neat building, on much the same model with the High Church, but not quite so large. Besides these, there are also two Seceding Meeting-houses and a Church of Relief. The town-house is a very handsome building of cut Hone, with a tall spire and a clock. The flefti-market has a genteel front of cut Hone, and is one of the neate H and mo R commodious of this kind in Britain. Butchers-meat, butter, cheese, fifti, wool, and several other articles, are sold here by what they call thetron-pound, of 22 English ounces and anhalf. The poor-house is a large building, very well laid out; and (lands opposite to the quay, in a fine free air. It is supported by a small tax laid upon the inclose by the Abbey-Church is the Earl of Abercorn’s burial-place, the greatest curiosity in Paifley. It is a vaulted Gothicchapel, without pulpit, pew, oranyother ornament, but has the fined echo perhaps in the world. When the end door (the only one it has) is (hut, the noise is equal to a loud and not very didant clap of thunder. If you drike a single note of music, you hear the found gradually ascending, with a great number of repetitions, till it dies away as if at an immcnfe didance, and all the while diffufing itself through the circumambient air. If a good voice sings, or a musical instrument is well played upon, the effeft is inexprefiibly agreeable. The deepeji, as well as the mod acute tones, are diftinftly reverberated, and these in regular intervals of time. When a musical indrument is founded, it has the effeft of a number of indruments of a like size and kind playing in concert. When a number of different indruments in unison sounds the same note, a good ear is able to distinguish the variety of found produced by each. A single indrument sounding a particular note, and then indantly its fifth, or any other concordant note, the two sounds can be heard, as it were, running into and uniting with each other in a manner peculiarly agreeable. But the esse& of a variety of indruments playing in concert, is particularly charming, and mud excite such emotions in the soul as it is impossible to describe. In this chapel is the monument of Marjory Bruce; (he was daughter of Robert Bruce, and wife of Walter, great deward of Scotland, and mother of Robert II. In this same chapel were interred j B/i/aie M Muir and Eufhemia Ross, both conforts to Robert II. In 1160, a fine monatlery was founded by Walter, great deward of Scotland ; but of this there are scarce any vediges now remaining. The veftiges of the Roman camp and/>/vrtorium, at the wed end of the town, are at present aimed annihilated. It was supposed to be vaulted un The inhabitants of Paifley, in 1746, were computed at no more than 4000 : but from a very accurate survey which has jud been made, the number of families in Paifley and suburbs is found to be 3723 ; and allowing 4! persons to each family, the number of inhabitants will be 16,753. Paifley is now the fird manufa Auring town in Scotland, and is greatly celebrated on account of fotne of its branches. The manufaftory of silk gauze, in this refpe Q, fird claims our notice. This branch is brought here to the utmod perfe&ion, and is wrought to an amazing variety of patterns. It has been jud computed, that there have been no less than 5000 weavers employed in Paifley and in the country adjacent, in this branch, lad year (1781); and the number of winders, warpers, clippers, and others necessary in other parts of the silk-manufadlure, has been likewise computed to be no less than 5000. Each loom will pro| duce in average value 701. yearly ; the whole will then be 350,000 1. The linen branch is likewise carried on here to a very considerable amount, particularly the manufacture of lawns; and vad quantities of foreign yarn are an Paifley nually imported from France, Germany, &c. for this branch, besides what is made of our home-manufa&u Palace red yarn. It appears from the damp-mader’s books, that from id November 1780 to id November 1781, there were damped at Paifley no less than 1,248,843 yards, value 105,930!. 19 s. io£. The making of white ditching thread was introduced into this town about 50 or 60 years ago. A gentleman in this place lately difeovered the method of making what is called glazed ’white-thread, to as great perfedion as that made by Mr Leland and Son, London. The value of this branch is computed at about 60,0001. annually. There are also several manufadures of a more local nature. There are three of hard-soap and tallow-candles, and one of black-soap. The candles, especially the moulded ones, are reckoned the bed and mod elegant that have been made in Scotland ; and great quantities is sent into England, to America, and to the Wed Indies. The annual amount of these lad branches are edimated at nearly 20,000 1. There are also two or three tan-works, and a porter brewery, in town ; and in the neighbourhood there is d coperas work, a callico printing work, and two works for the cotton spin* The river on which Paifley dands runs from south to north; and falls into Clyde, after it has joined the conflux of the rivers Grief and Black-Cart at Inchinnan bridge, about three miles below the town. At spring-tides, vessels of 40 tons burthen come up to the quay. The communication by water is of great importance to the inhabitants : for in this way they are frequently served with fifli of different kinds, and can send their goods and manufadures to Port-Glasgow and Greenock, and to Glasgow likewise; and now, when the canal is finiflied, they have also a communication with the frith of Forth. Paifley was created a burgh of barony in the year 1488; and the affairs of the community are managed by three bailies, of which the elded is commonly in the commifiionofthe peace, a treasurer, a town-clerk, and 17 counsellors, who are annually eleded upon the fird Monday after Michaelmas. It gives the title of baron to the earls of Abercorn ; the fird of whom was a younger son of the Due de Chatellerault. The Hack-look of Paijley, frequently mentioned in Scottilh history, was a chronicle of the public affairs and remarkable events, kept by the monks who resided in the monadery already mentioned. It agreed in every material sad with the Scot' s-chronicon of Fordun ; and is by many thought to be the same performance. 1778\n",
      "a town of Renfrewfhire, situated about six miles and a half on the river White-Cart, over which stone-bridges of two arches each, fists of three arches. The town is was of much less consequence formerly present. “ No fatisfa&ory etymology curred of the name Paijley. The suggested by a good Gaelic scholar rocks that runs across the river, and cascade, would, prior to the building undoubtedly the most striking objed would present. The brow or face Gaelic Pais-licht. A church in front be the church in Pais-licht. A church previous to 1160: it is named in ter Ecclejia de Pafclet, Latinized, in monastery, Paflat urn, an easy derivative in all probability the original of the It was ere&ed into a burgh in barony the year 1488, at that time probably importance from the rich monastery eftabliftied there for several ages ; who was then abbot of that monastery, privilege from the king. Even in Mr who wrote the history of the ftiire beginning of this century, it seems an inconfulerable place; for he deferibes ing only of one principal street, length, with several lanes belongingthe town, with its suburbs, occupies such an ex' tent of ground, that flrangers are apt to consider it as, next to Edinburgh and Glasgow, the largest and mofl; populous town in Scotland. Its buildings of late years have been greatly improved; its streets are well paved; and the different parts of the town and suburbs, where the river intervenes, are connected with one another by three bridges at convenient distances.” The affairs of the community are managed by three bailies, of which the eldell is commonly in the commission of the peace, a treasurer, a town-clerk, and 17 counsellors, who are annually elefted upon the first Monday after Michaelmas. It enjoys all the powers necessary for government and police, without any of the burdens to which royal boroughs are fubje£ted. The freedom of the place is conferred on very moderate terms. The revenues of the town are not great, but they have been managed to the hest advantage. The rapid increase of the place has not been attended with a proportional increase of revenue ; therefore several necessary improvements, and intended public buildings, are not yet carried into execution. It gives the title of baron to the earls of Abercorn; the first of whom was a younger son of the Due de Chatelherault. The black-book of Paijley, frequently mentioned in Scottish hillory, was a chronicle of the public affairs and remarkable events, kept by the monks who resided in the monastery. It agreed in every material fast with the Scoti-chronicon of Fordun ; and is by many thought to be the same The old part of the town runs from east to west upon the south slope of a ridge of hills, from which there is a fine profpe A of the city of Glasgow and the adjacent country; but to the feuthward, the view terminates in a ridge of green hills, about two miles distant. Including the late buildings and suburbs, it is fully a mile long, and nearly as much in breadth. On the east side of the river Cart, Hand the abbey and new town. This new town was some years ago feued off by the earl of Abercorn, and now consists of a number of handsome buildings. The streets are laid off in a regular manner, but (rather unfortunately for the conveniency and elegance of some of the houses) not in right angles. Here the earl of Aberqorn has built at his own expence one of the largest, most commodious, and most elegant inns in Scotland. In the vicinity of this his lordship is likewise to build several convenient and necessary market-places. A little way south of the inn stands the abbey-church, the only one which Paifley formerly required. This church, when entire, has been a most noble building, and consisted of several diftinft and separate places of vvorfhip; what now remains of this magnificent Gothic ftru&nre is not yet unworthy the notice of the curious in antiquities. Mr Pennant says, the great north window is a noble ruin, the arch very lofty, the middle pillar wonderfully light, and still entire : only the chancel now remains, which is. divided into a middle and two fidc-isles, all very lofty pillars, with Gothic arches ; above these is another range of pillars much larger, being the segment of a circle, and above a row of arched niches from end to end, over which the roof ends in a (harp point. The outside of the building is decorated with a profusion of ornaments, especially the great west and north doors, than which scarce any thing lighter The town of Paifley continued a part nal or abbey parish of Paifley till the year the magistrates and council having purchased of patronage from the then earl ©f Dundonald, church was built, and the town was erefted parate parish. This is called the Laigh Churchy in the form of a Greek cross, very well laid capable of containing a great number of 1756 another church was built, upon a very plan, to accommodate its multiplied inhabitants which, though it is one of the largest; in the most distant of the congregation can rably good speaker with ease and diftin&ness it stands upon the highest part of the town, terwards ornamented with a lofty and well-proportioned spire visible at a great distance. This High Church, and is a very fine building : long square of 82 feet by 62 within the walls, free-stone well smoothed, having rustic corners elegant (tone cornice at the top. Is the of the roof (which is a pavilian covered having a platform covered with lead on the is something very curious, and it is admired person of taste. In 1781, the number of tants still rapidly increasing, another church, Middle Churchy was built, not quite so former, but very handsomely and elegantly and in the following year, the town was erefted into three separate parishes, exclusive Abbey parilh, and named according to their There are two large dissenting congregations town ; those of the Antiburgher persuasion Relief. The first of these has existed there of 30 years ; the other is of a late date. sides a small congregation of Cameronians. The town-house is a very handsome building (lone, with a tall spire and a clock. The has a genteel front of cut stone, and is neateft and most commodious of the kind Butchers-meat, butter, cheese, fifli, wool, other articles, are sold here by what they tron-pound, of 22 Englifti ounces and an The poor-house is a large building, very out; and stands opposite to the quay, in air. It is supported by a small tax laid Close by the Abbey-church is the earl of burial-place, the greatest curiosity in Paifley. vaulted Gothic chapel, without pulpit, other ornament, but has the finest echo perhaps world. When the end door (the only one (hut, the noise is equal to a loud and not clap of thunder. If you strike a (ingle note you hear the found gradually afi ending, number of repetitions, till it dies away as menfe distance, and all the while diffufing the circumambient air. If a good voice sings, fical instrument is well played upon, the effeft prefiibly agreeable. The deepejl, as well acute tones, are diftin&ly reverberated, and gular intervals of time. When a musical 1797\n",
      "the principal town of Renfrewshire, is finely situated on the banks of the White miles S. of the River Clyde. The ancient part of the town occupies the summit and tiful declivity, the eastern base of which Dr Burney, in his Tour and History, Signor Perotti, in his Dissertazione, and some other writers, spell the name 1853\n",
      "t o w n 1810\n"
     ]
    }
   ],
   "source": [
    "sparql = SPARQLWrapper(\"http://localhost:3030/total_eb/sparql\")\n",
    "sparql.setQuery(\"\"\"\n",
    "PREFIX eb: <https://w3id.org/eb#>\n",
    "SELECT ?definition ?y WHERE {\n",
    "       ?article a eb:Article ;\n",
    "                eb:name \"PAISLEY\" ;\n",
    "                eb:definition ?definition .\n",
    "       ?e eb:hasPart / eb:hasPart ?article.\n",
    "       ?e eb:publicationYear ?y\n",
    "    }\n",
    "\"\"\")\n",
    "sparql.setReturnFormat(JSON)\n",
    "results = sparql.query().convert()\n",
    "results = sparql.query().convert()\n",
    "for r in results[\"results\"][\"bindings\"]:\n",
    "    print(r[\"definition\"][\"value\"], r[\"y\"][\"value\"])"
   ]
  },
  {
   "cell_type": "markdown",
   "metadata": {},
   "source": [
    "Query 28: Print definition and year of articles with the name ABACUS. If those articles have related terms, print those ones as well. "
   ]
  },
  {
   "cell_type": "code",
   "execution_count": 52,
   "metadata": {},
   "outputs": [
    {
     "name": "stdout",
     "output_type": "stream",
     "text": [
      "DEF: among the ancients, was a kind of cup Livy, deferibing the luxury into which the Romans degenerated after the conquest of Alia, says they had their abaci, beds, &c. plated over ----|| --- Year: 1815 \n",
      "---\n",
      "DEF: among the ancients, was a kind of cupboard or buffet. Livy, describing the luxury into which the Romans degenerated after the conquest of Asia, says they had their abaci, beds, &c. plated over with gold. ----|| --- Year: 1853 \n",
      "---\n",
      "DEF: among the ancients, was a kind of cupboard, or buffet. J Livy, deferibing the luxury into which the Romans degenerated after the conquest of Asia, says, They had their abaci, beds, &c. plated over with gold. (Dec. IV. Lib. ix.) ----|| --- Year: 1778 \n",
      "---\n",
      "DEF: in architecture, II. 5; III. 464 —cupboard, II. 5—arithmetical instrument, ib. ----|| --- Year: 1842 \n",
      "---\n",
      "DEF: among the ancients, was a kind of cupboard or buffet. Livy, describing the luxury into which the Romans degenerated after the conquest of Asia, says they had their abaci, beds, &c. plated over ----|| --- Year: 1823 \n",
      "---\n",
      "DEF: Major, in metallurgic operations, the name of a trough used in the mines, wherein the ore is washed. ----|| --- Year: 1797 \n",
      "---\n",
      "DEF: the son of Jupiter by TEgina. isle of i Egina was depopulated by a plague, in compassion to his grief, changed all the into men and women, who were called Myrmidones, an ant. The foundation of the sable is that when the country had been depopulated who forced the few that remained to take shelter y Eacus encouraged them to come out, and by and industry recover what they had lost. His for justice was such, that, in a time of universal he was nominated by the Delphic oracle to intercede Greece, and his prayer was answered. See jEgina. The Pagans also imagined that i Eacus,count of his impartial justice, was chosen by Pluto one of the three judges of the dead; and that it was his province to judge the Europeans. /EBU Di E, a name anciently given to the Western ----|| --- Year: 1842 \n",
      "---\n",
      "DEF: in architeflure, signifies the superior part or member of the capital of a column, and serves as a kind of crowning to both. It was originally intended to represent a square tile covering a basket. The form of the abacus is not the same in all orders: in the Tuscan, Doric, and Ionic, it‘is generally square; but in the Corinthian and Compofite, its four sides are arched ir Avards, and embellilhed in the middle withornament, as a rose or other flower, Scammozzi uses abacus for a concave moulding on the capital of the Tuscan pedefial; and Palladio calls the plinth above the echinus, or boultin, in the Tufean and Doric orders, by the same name. See plate I. fig. i. and ----|| --- Year: 1771 \n",
      "---\n",
      "DEF: the son of Jupiter by iEgina.the isle of J Egina was depopulated by a plague, his father, in compassion to his grief, changed all the ants iEdile. U p 0n Jt into men and women, who were called Myrvii' ,J ” v an ant. The foundation of the sable is said to be, that when the country had been depopulated by pirates, who forced the few that remained to take shelter in caves, i Eacus encouraged them to come out, and by commerce and industry recover what they had lost. His character for justice was such, that, in a time of universal drought, he was nominated by the Delphic oracle to intercede for Greece, and his prayer was answered. See the article ^Egina. The Pagans also imagined that T Eacus, on account of his impartial justice, was chosen by Pluto one of the three judges of the dead } and that it was his province to /EBU Di E, a name anciently given to the Western i EBURA, in Ancient Geography, a town of Spain, in Estremadura, on the river Guadiana, to the west of Merida j now called Talavera. W. Long. 7* I 5* N. Lat. 38. 40. i ECHMALOTARCHA, in Jewish antiquity, a title given to the principal leader or governor of the Hebrew captives residing in Chaldea, Assyria, and the neighbouring countries. This magistrate was called by the Jews, rosch-galath, i. e. the chief of the captivity : but the above term, of like import in the Greek, is that used by Origen and others who wrote in the The Jewish writers assure us, that the cechmalotarchce were only to be chosen out of the tribe ol Judah. The eastern Jews had their princes of the captivity, as the western Jews their patriarchs. The Jews are still said to have an cechmalotarcha at Babylon, but without the authority of the ancient ones. (Basnage Hist. Jews, i E Cl DIUM, in Botany. See Botany Index. ----|| --- Year: 1823 \n",
      "---\n",
      "DEF: the son of Jupiter by iEgina.the isle of J Egina was depopulated by a plague, his father, in compassion to his grief, changed all the ants iEdile. U p 0n Jt into men and women, who were called Myrvii' ,J ” v an ant. The foundation of the sable is said to be, that when the country had been depopulated by pirates, who forced the few that remained to take shelter in caves, i Eacus encouraged them to come out, and by commerce and industry recover what they had lost. His character for justice was such, that, in a time of universal drought, he was nominated by the Delphic oracle to intercede for Greece, and his prayer was answered. See the article ^Egina. The Pagans also imagined that T Eacus, on account of his impartial justice, was chosen by Pluto one of the three judges of the dead } and that it was his province to /EBU Di E, a name anciently given to the Western i EBURA, in Ancient Geography, a town of Spain, in Estremadura, on the river Guadiana, to the west of Merida j now called Talavera. W. Long. 7* I 5* N. Lat. 38. 40. i ECHMALOTARCHA, in Jewish antiquity, a title given to the principal leader or governor of the Hebrew captives residing in Chaldea, Assyria, and the neighbouring countries. This magistrate was called by the Jews, rosch-galath, i. e. the chief of the captivity : but the above term, of like import in the Greek, is that used by Origen and others who wrote in the The Jewish writers assure us, that the cechmalotarchce were only to be chosen out of the tribe ol Judah. The eastern Jews had their princes of the captivity, as the western Jews their patriarchs. The Jews are still said to have an cechmalotarcha at Babylon, but without the authority of the ancient ones. (Basnage Hist. Jews, i E Cl DIUM, in Botany. See Botany Index. ----|| --- Year: 1823 \n",
      "---\n",
      "DEF: the son of Jupiter by iEgina.the isle of J Egina was depopulated by a plague, his father, in compassion to his grief, changed all the ants iEdile. U p 0n Jt into men and women, who were called Myrvii' ,J ” v an ant. The foundation of the sable is said to be, that when the country had been depopulated by pirates, who forced the few that remained to take shelter in caves, i Eacus encouraged them to come out, and by commerce and industry recover what they had lost. His character for justice was such, that, in a time of universal drought, he was nominated by the Delphic oracle to intercede for Greece, and his prayer was answered. See the article ^Egina. The Pagans also imagined that T Eacus, on account of his impartial justice, was chosen by Pluto one of the three judges of the dead } and that it was his province to /EBU Di E, a name anciently given to the Western i EBURA, in Ancient Geography, a town of Spain, in Estremadura, on the river Guadiana, to the west of Merida j now called Talavera. W. Long. 7* I 5* N. Lat. 38. 40. i ECHMALOTARCHA, in Jewish antiquity, a title given to the principal leader or governor of the Hebrew captives residing in Chaldea, Assyria, and the neighbouring countries. This magistrate was called by the Jews, rosch-galath, i. e. the chief of the captivity : but the above term, of like import in the Greek, is that used by Origen and others who wrote in the The Jewish writers assure us, that the cechmalotarchce were only to be chosen out of the tribe ol Judah. The eastern Jews had their princes of the captivity, as the western Jews their patriarchs. The Jews are still said to have an cechmalotarcha at Babylon, but without the authority of the ancient ones. (Basnage Hist. Jews, i E Cl DIUM, in Botany. See Botany Index. ----|| --- Year: 1823 \n",
      "---\n",
      "DEF: the son of Jupiter by iEgina.the isle of J Egina was depopulated by a plague, his father, in compassion to his grief, changed all the ants iEdile. U p 0n Jt into men and women, who were called Myrvii' ,J ” v an ant. The foundation of the sable is said to be, that when the country had been depopulated by pirates, who forced the few that remained to take shelter in caves, i Eacus encouraged them to come out, and by commerce and industry recover what they had lost. His character for justice was such, that, in a time of universal drought, he was nominated by the Delphic oracle to intercede for Greece, and his prayer was answered. See the article ^Egina. The Pagans also imagined that T Eacus, on account of his impartial justice, was chosen by Pluto one of the three judges of the dead } and that it was his province to /EBU Di E, a name anciently given to the Western i EBURA, in Ancient Geography, a town of Spain, in Estremadura, on the river Guadiana, to the west of Merida j now called Talavera. W. Long. 7* I 5* N. Lat. 38. 40. i ECHMALOTARCHA, in Jewish antiquity, a title given to the principal leader or governor of the Hebrew captives residing in Chaldea, Assyria, and the neighbouring countries. This magistrate was called by the Jews, rosch-galath, i. e. the chief of the captivity : but the above term, of like import in the Greek, is that used by Origen and others who wrote in the The Jewish writers assure us, that the cechmalotarchce were only to be chosen out of the tribe ol Judah. The eastern Jews had their princes of the captivity, as the western Jews their patriarchs. The Jews are still said to have an cechmalotarcha at Babylon, but without the authority of the ancient ones. (Basnage Hist. Jews, i E Cl DIUM, in Botany. See Botany Index. ----|| --- Year: 1823 \n",
      "---\n",
      "DEF: the son of Jupiter by iEgina.the isle of J Egina was depopulated by a plague, his father, in compassion to his grief, changed all the ants iEdile. U p 0n Jt into men and women, who were called Myrvii' ,J ” v an ant. The foundation of the sable is said to be, that when the country had been depopulated by pirates, who forced the few that remained to take shelter in caves, i Eacus encouraged them to come out, and by commerce and industry recover what they had lost. His character for justice was such, that, in a time of universal drought, he was nominated by the Delphic oracle to intercede for Greece, and his prayer was answered. See the article ^Egina. The Pagans also imagined that T Eacus, on account of his impartial justice, was chosen by Pluto one of the three judges of the dead } and that it was his province to /EBU Di E, a name anciently given to the Western i EBURA, in Ancient Geography, a town of Spain, in Estremadura, on the river Guadiana, to the west of Merida j now called Talavera. W. Long. 7* I 5* N. Lat. 38. 40. i ECHMALOTARCHA, in Jewish antiquity, a title given to the principal leader or governor of the Hebrew captives residing in Chaldea, Assyria, and the neighbouring countries. This magistrate was called by the Jews, rosch-galath, i. e. the chief of the captivity : but the above term, of like import in the Greek, is that used by Origen and others who wrote in the The Jewish writers assure us, that the cechmalotarchce were only to be chosen out of the tribe ol Judah. The eastern Jews had their princes of the captivity, as the western Jews their patriarchs. The Jews are still said to have an cechmalotarcha at Babylon, but without the authority of the ancient ones. (Basnage Hist. Jews, i E Cl DIUM, in Botany. See Botany Index. ----|| --- Year: 1823 \n",
      "---\n",
      "DEF: the son of Jupiter by iEgina.the isle of J Egina was depopulated by a plague, his father, in compassion to his grief, changed all the ants iEdile. U p 0n Jt into men and women, who were called Myrvii' ,J ” v an ant. The foundation of the sable is said to be, that when the country had been depopulated by pirates, who forced the few that remained to take shelter in caves, i Eacus encouraged them to come out, and by commerce and industry recover what they had lost. His character for justice was such, that, in a time of universal drought, he was nominated by the Delphic oracle to intercede for Greece, and his prayer was answered. See the article ^Egina. The Pagans also imagined that T Eacus, on account of his impartial justice, was chosen by Pluto one of the three judges of the dead } and that it was his province to /EBU Di E, a name anciently given to the Western i EBURA, in Ancient Geography, a town of Spain, in Estremadura, on the river Guadiana, to the west of Merida j now called Talavera. W. Long. 7* I 5* N. Lat. 38. 40. i ECHMALOTARCHA, in Jewish antiquity, a title given to the principal leader or governor of the Hebrew captives residing in Chaldea, Assyria, and the neighbouring countries. This magistrate was called by the Jews, rosch-galath, i. e. the chief of the captivity : but the above term, of like import in the Greek, is that used by Origen and others who wrote in the The Jewish writers assure us, that the cechmalotarchce were only to be chosen out of the tribe ol Judah. The eastern Jews had their princes of the captivity, as the western Jews their patriarchs. The Jews are still said to have an cechmalotarcha at Babylon, but without the authority of the ancient ones. (Basnage Hist. Jews, i E Cl DIUM, in Botany. See Botany Index. ----|| --- Year: 1823 \n",
      "---\n",
      "DEF: the son of Jupiter by iEgina.the isle of J Egina was depopulated by a plague, his father, in compassion to his grief, changed all the ants iEdile. U p 0n Jt into men and women, who were called Myrvii' ,J ” v an ant. The foundation of the sable is said to be, that when the country had been depopulated by pirates, who forced the few that remained to take shelter in caves, i Eacus encouraged them to come out, and by commerce and industry recover what they had lost. His character for justice was such, that, in a time of universal drought, he was nominated by the Delphic oracle to intercede for Greece, and his prayer was answered. See the article ^Egina. The Pagans also imagined that T Eacus, on account of his impartial justice, was chosen by Pluto one of the three judges of the dead } and that it was his province to /EBU Di E, a name anciently given to the Western i EBURA, in Ancient Geography, a town of Spain, in Estremadura, on the river Guadiana, to the west of Merida j now called Talavera. W. Long. 7* I 5* N. Lat. 38. 40. i ECHMALOTARCHA, in Jewish antiquity, a title given to the principal leader or governor of the Hebrew captives residing in Chaldea, Assyria, and the neighbouring countries. This magistrate was called by the Jews, rosch-galath, i. e. the chief of the captivity : but the above term, of like import in the Greek, is that used by Origen and others who wrote in the The Jewish writers assure us, that the cechmalotarchce were only to be chosen out of the tribe ol Judah. The eastern Jews had their princes of the captivity, as the western Jews their patriarchs. The Jews are still said to have an cechmalotarcha at Babylon, but without the authority of the ancient ones. (Basnage Hist. Jews, i E Cl DIUM, in Botany. See Botany Index. ----|| --- Year: 1823 \n",
      "---\n",
      "DEF: the son of Jupiter by iEgina.the isle of J Egina was depopulated by a plague, his father, in compassion to his grief, changed all the ants iEdile. U p 0n Jt into men and women, who were called Myrvii' ,J ” v an ant. The foundation of the sable is said to be, that when the country had been depopulated by pirates, who forced the few that remained to take shelter in caves, i Eacus encouraged them to come out, and by commerce and industry recover what they had lost. His character for justice was such, that, in a time of universal drought, he was nominated by the Delphic oracle to intercede for Greece, and his prayer was answered. See the article ^Egina. The Pagans also imagined that T Eacus, on account of his impartial justice, was chosen by Pluto one of the three judges of the dead } and that it was his province to /EBU Di E, a name anciently given to the Western i EBURA, in Ancient Geography, a town of Spain, in Estremadura, on the river Guadiana, to the west of Merida j now called Talavera. W. Long. 7* I 5* N. Lat. 38. 40. i ECHMALOTARCHA, in Jewish antiquity, a title given to the principal leader or governor of the Hebrew captives residing in Chaldea, Assyria, and the neighbouring countries. This magistrate was called by the Jews, rosch-galath, i. e. the chief of the captivity : but the above term, of like import in the Greek, is that used by Origen and others who wrote in the The Jewish writers assure us, that the cechmalotarchce were only to be chosen out of the tribe ol Judah. The eastern Jews had their princes of the captivity, as the western Jews their patriarchs. The Jews are still said to have an cechmalotarcha at Babylon, but without the authority of the ancient ones. (Basnage Hist. Jews, i E Cl DIUM, in Botany. See Botany Index. ----|| --- Year: 1823 \n",
      "---\n",
      "DEF: the son of Jupiter by iEgina.the isle of J Egina was depopulated by a plague, his father, in compassion to his grief, changed all the ants iEdile. U p 0n Jt into men and women, who were called Myrvii' ,J ” v an ant. The foundation of the sable is said to be, that when the country had been depopulated by pirates, who forced the few that remained to take shelter in caves, i Eacus encouraged them to come out, and by commerce and industry recover what they had lost. His character for justice was such, that, in a time of universal drought, he was nominated by the Delphic oracle to intercede for Greece, and his prayer was answered. See the article ^Egina. The Pagans also imagined that T Eacus, on account of his impartial justice, was chosen by Pluto one of the three judges of the dead } and that it was his province to /EBU Di E, a name anciently given to the Western i EBURA, in Ancient Geography, a town of Spain, in Estremadura, on the river Guadiana, to the west of Merida j now called Talavera. W. Long. 7* I 5* N. Lat. 38. 40. i ECHMALOTARCHA, in Jewish antiquity, a title given to the principal leader or governor of the Hebrew captives residing in Chaldea, Assyria, and the neighbouring countries. This magistrate was called by the Jews, rosch-galath, i. e. the chief of the captivity : but the above term, of like import in the Greek, is that used by Origen and others who wrote in the The Jewish writers assure us, that the cechmalotarchce were only to be chosen out of the tribe ol Judah. The eastern Jews had their princes of the captivity, as the western Jews their patriarchs. The Jews are still said to have an cechmalotarcha at Babylon, but without the authority of the ancient ones. (Basnage Hist. Jews, i E Cl DIUM, in Botany. See Botany Index. ----|| --- Year: 1823 \n",
      "---\n",
      "DEF: the son of Jupiter by iEgina.the isle of J Egina was depopulated by a plague, his father, in compassion to his grief, changed all the ants iEdile. U p 0n Jt into men and women, who were called Myrvii' ,J ” v an ant. The foundation of the sable is said to be, that when the country had been depopulated by pirates, who forced the few that remained to take shelter in caves, i Eacus encouraged them to come out, and by commerce and industry recover what they had lost. His character for justice was such, that, in a time of universal drought, he was nominated by the Delphic oracle to intercede for Greece, and his prayer was answered. See the article ^Egina. The Pagans also imagined that T Eacus, on account of his impartial justice, was chosen by Pluto one of the three judges of the dead } and that it was his province to /EBU Di E, a name anciently given to the Western i EBURA, in Ancient Geography, a town of Spain, in Estremadura, on the river Guadiana, to the west of Merida j now called Talavera. W. Long. 7* I 5* N. Lat. 38. 40. i ECHMALOTARCHA, in Jewish antiquity, a title given to the principal leader or governor of the Hebrew captives residing in Chaldea, Assyria, and the neighbouring countries. This magistrate was called by the Jews, rosch-galath, i. e. the chief of the captivity : but the above term, of like import in the Greek, is that used by Origen and others who wrote in the The Jewish writers assure us, that the cechmalotarchce were only to be chosen out of the tribe ol Judah. The eastern Jews had their princes of the captivity, as the western Jews their patriarchs. The Jews are still said to have an cechmalotarcha at Babylon, but without the authority of the ancient ones. (Basnage Hist. Jews, i E Cl DIUM, in Botany. See Botany Index. ----|| --- Year: 1823 \n",
      "---\n",
      "DEF: the son of Jupiter by iEgina.the isle of J Egina was depopulated by a plague, his father, in compassion to his grief, changed all the ants iEdile. U p 0n Jt into men and women, who were called Myrvii' ,J ” v an ant. The foundation of the sable is said to be, that when the country had been depopulated by pirates, who forced the few that remained to take shelter in caves, i Eacus encouraged them to come out, and by commerce and industry recover what they had lost. His character for justice was such, that, in a time of universal drought, he was nominated by the Delphic oracle to intercede for Greece, and his prayer was answered. See the article ^Egina. The Pagans also imagined that T Eacus, on account of his impartial justice, was chosen by Pluto one of the three judges of the dead } and that it was his province to /EBU Di E, a name anciently given to the Western i EBURA, in Ancient Geography, a town of Spain, in Estremadura, on the river Guadiana, to the west of Merida j now called Talavera. W. Long. 7* I 5* N. Lat. 38. 40. i ECHMALOTARCHA, in Jewish antiquity, a title given to the principal leader or governor of the Hebrew captives residing in Chaldea, Assyria, and the neighbouring countries. This magistrate was called by the Jews, rosch-galath, i. e. the chief of the captivity : but the above term, of like import in the Greek, is that used by Origen and others who wrote in the The Jewish writers assure us, that the cechmalotarchce were only to be chosen out of the tribe ol Judah. The eastern Jews had their princes of the captivity, as the western Jews their patriarchs. The Jews are still said to have an cechmalotarcha at Babylon, but without the authority of the ancient ones. (Basnage Hist. Jews, i E Cl DIUM, in Botany. See Botany Index. ----|| --- Year: 1823 \n",
      "---\n",
      "DEF: the son of Jupiter by iEgina.the isle of J Egina was depopulated by a plague, his father, in compassion to his grief, changed all the ants iEdile. U p 0n Jt into men and women, who were called Myrvii' ,J ” v an ant. The foundation of the sable is said to be, that when the country had been depopulated by pirates, who forced the few that remained to take shelter in caves, i Eacus encouraged them to come out, and by commerce and industry recover what they had lost. His character for justice was such, that, in a time of universal drought, he was nominated by the Delphic oracle to intercede for Greece, and his prayer was answered. See the article ^Egina. The Pagans also imagined that T Eacus, on account of his impartial justice, was chosen by Pluto one of the three judges of the dead } and that it was his province to /EBU Di E, a name anciently given to the Western i EBURA, in Ancient Geography, a town of Spain, in Estremadura, on the river Guadiana, to the west of Merida j now called Talavera. W. Long. 7* I 5* N. Lat. 38. 40. i ECHMALOTARCHA, in Jewish antiquity, a title given to the principal leader or governor of the Hebrew captives residing in Chaldea, Assyria, and the neighbouring countries. This magistrate was called by the Jews, rosch-galath, i. e. the chief of the captivity : but the above term, of like import in the Greek, is that used by Origen and others who wrote in the The Jewish writers assure us, that the cechmalotarchce were only to be chosen out of the tribe ol Judah. The eastern Jews had their princes of the captivity, as the western Jews their patriarchs. The Jews are still said to have an cechmalotarcha at Babylon, but without the authority of the ancient ones. (Basnage Hist. Jews, i E Cl DIUM, in Botany. See Botany Index. ----|| --- Year: 1823 \n",
      "---\n",
      "DEF: the son of Jupiter by iEgina.the isle of J Egina was depopulated by a plague, his father, in compassion to his grief, changed all the ants iEdile. U p 0n Jt into men and women, who were called Myrvii' ,J ” v an ant. The foundation of the sable is said to be, that when the country had been depopulated by pirates, who forced the few that remained to take shelter in caves, i Eacus encouraged them to come out, and by commerce and industry recover what they had lost. His character for justice was such, that, in a time of universal drought, he was nominated by the Delphic oracle to intercede for Greece, and his prayer was answered. See the article ^Egina. The Pagans also imagined that T Eacus, on account of his impartial justice, was chosen by Pluto one of the three judges of the dead } and that it was his province to /EBU Di E, a name anciently given to the Western i EBURA, in Ancient Geography, a town of Spain, in Estremadura, on the river Guadiana, to the west of Merida j now called Talavera. W. Long. 7* I 5* N. Lat. 38. 40. i ECHMALOTARCHA, in Jewish antiquity, a title given to the principal leader or governor of the Hebrew captives residing in Chaldea, Assyria, and the neighbouring countries. This magistrate was called by the Jews, rosch-galath, i. e. the chief of the captivity : but the above term, of like import in the Greek, is that used by Origen and others who wrote in the The Jewish writers assure us, that the cechmalotarchce were only to be chosen out of the tribe ol Judah. The eastern Jews had their princes of the captivity, as the western Jews their patriarchs. The Jews are still said to have an cechmalotarcha at Babylon, but without the authority of the ancient ones. (Basnage Hist. Jews, i E Cl DIUM, in Botany. See Botany Index. ----|| --- Year: 1823 \n",
      "---\n",
      "DEF: the son of Jupiter by iEgina.the isle of J Egina was depopulated by a plague, his father, in compassion to his grief, changed all the ants iEdile. U p 0n Jt into men and women, who were called Myrvii' ,J ” v an ant. The foundation of the sable is said to be, that when the country had been depopulated by pirates, who forced the few that remained to take shelter in caves, i Eacus encouraged them to come out, and by commerce and industry recover what they had lost. His character for justice was such, that, in a time of universal drought, he was nominated by the Delphic oracle to intercede for Greece, and his prayer was answered. See the article ^Egina. The Pagans also imagined that T Eacus, on account of his impartial justice, was chosen by Pluto one of the three judges of the dead } and that it was his province to /EBU Di E, a name anciently given to the Western i EBURA, in Ancient Geography, a town of Spain, in Estremadura, on the river Guadiana, to the west of Merida j now called Talavera. W. Long. 7* I 5* N. Lat. 38. 40. i ECHMALOTARCHA, in Jewish antiquity, a title given to the principal leader or governor of the Hebrew captives residing in Chaldea, Assyria, and the neighbouring countries. This magistrate was called by the Jews, rosch-galath, i. e. the chief of the captivity : but the above term, of like import in the Greek, is that used by Origen and others who wrote in the The Jewish writers assure us, that the cechmalotarchce were only to be chosen out of the tribe ol Judah. The eastern Jews had their princes of the captivity, as the western Jews their patriarchs. The Jews are still said to have an cechmalotarcha at Babylon, but without the authority of the ancient ones. (Basnage Hist. Jews, i E Cl DIUM, in Botany. See Botany Index. ----|| --- Year: 1823 \n",
      "---\n",
      "DEF: the son of Jupiter by iEgina.the isle of J Egina was depopulated by a plague, his father, in compassion to his grief, changed all the ants iEdile. U p 0n Jt into men and women, who were called Myrvii' ,J ” v an ant. The foundation of the sable is said to be, that when the country had been depopulated by pirates, who forced the few that remained to take shelter in caves, i Eacus encouraged them to come out, and by commerce and industry recover what they had lost. His character for justice was such, that, in a time of universal drought, he was nominated by the Delphic oracle to intercede for Greece, and his prayer was answered. See the article ^Egina. The Pagans also imagined that T Eacus, on account of his impartial justice, was chosen by Pluto one of the three judges of the dead } and that it was his province to /EBU Di E, a name anciently given to the Western i EBURA, in Ancient Geography, a town of Spain, in Estremadura, on the river Guadiana, to the west of Merida j now called Talavera. W. Long. 7* I 5* N. Lat. 38. 40. i ECHMALOTARCHA, in Jewish antiquity, a title given to the principal leader or governor of the Hebrew captives residing in Chaldea, Assyria, and the neighbouring countries. This magistrate was called by the Jews, rosch-galath, i. e. the chief of the captivity : but the above term, of like import in the Greek, is that used by Origen and others who wrote in the The Jewish writers assure us, that the cechmalotarchce were only to be chosen out of the tribe ol Judah. The eastern Jews had their princes of the captivity, as the western Jews their patriarchs. The Jews are still said to have an cechmalotarcha at Babylon, but without the authority of the ancient ones. (Basnage Hist. Jews, i E Cl DIUM, in Botany. See Botany Index. ----|| --- Year: 1823 \n",
      "---\n",
      "DEF: the son of Jupiter by iEgina.the isle of J Egina was depopulated by a plague, his father, in compassion to his grief, changed all the ants iEdile. U p 0n Jt into men and women, who were called Myrvii' ,J ” v an ant. The foundation of the sable is said to be, that when the country had been depopulated by pirates, who forced the few that remained to take shelter in caves, i Eacus encouraged them to come out, and by commerce and industry recover what they had lost. His character for justice was such, that, in a time of universal drought, he was nominated by the Delphic oracle to intercede for Greece, and his prayer was answered. See the article ^Egina. The Pagans also imagined that T Eacus, on account of his impartial justice, was chosen by Pluto one of the three judges of the dead } and that it was his province to /EBU Di E, a name anciently given to the Western i EBURA, in Ancient Geography, a town of Spain, in Estremadura, on the river Guadiana, to the west of Merida j now called Talavera. W. Long. 7* I 5* N. Lat. 38. 40. i ECHMALOTARCHA, in Jewish antiquity, a title given to the principal leader or governor of the Hebrew captives residing in Chaldea, Assyria, and the neighbouring countries. This magistrate was called by the Jews, rosch-galath, i. e. the chief of the captivity : but the above term, of like import in the Greek, is that used by Origen and others who wrote in the The Jewish writers assure us, that the cechmalotarchce were only to be chosen out of the tribe ol Judah. The eastern Jews had their princes of the captivity, as the western Jews their patriarchs. The Jews are still said to have an cechmalotarcha at Babylon, but without the authority of the ancient ones. (Basnage Hist. Jews, i E Cl DIUM, in Botany. See Botany Index. ----|| --- Year: 1823 \n",
      "---\n",
      "DEF: the son of Jupiter by iEgina.the isle of J Egina was depopulated by a plague, his father, in compassion to his grief, changed all the ants iEdile. U p 0n Jt into men and women, who were called Myrvii' ,J ” v an ant. The foundation of the sable is said to be, that when the country had been depopulated by pirates, who forced the few that remained to take shelter in caves, i Eacus encouraged them to come out, and by commerce and industry recover what they had lost. His character for justice was such, that, in a time of universal drought, he was nominated by the Delphic oracle to intercede for Greece, and his prayer was answered. See the article ^Egina. The Pagans also imagined that T Eacus, on account of his impartial justice, was chosen by Pluto one of the three judges of the dead } and that it was his province to /EBU Di E, a name anciently given to the Western i EBURA, in Ancient Geography, a town of Spain, in Estremadura, on the river Guadiana, to the west of Merida j now called Talavera. W. Long. 7* I 5* N. Lat. 38. 40. i ECHMALOTARCHA, in Jewish antiquity, a title given to the principal leader or governor of the Hebrew captives residing in Chaldea, Assyria, and the neighbouring countries. This magistrate was called by the Jews, rosch-galath, i. e. the chief of the captivity : but the above term, of like import in the Greek, is that used by Origen and others who wrote in the The Jewish writers assure us, that the cechmalotarchce were only to be chosen out of the tribe ol Judah. The eastern Jews had their princes of the captivity, as the western Jews their patriarchs. The Jews are still said to have an cechmalotarcha at Babylon, but without the authority of the ancient ones. (Basnage Hist. Jews, i E Cl DIUM, in Botany. See Botany Index. ----|| --- Year: 1823 \n",
      "---\n",
      "DEF: the son of Jupiter by iEgina.the isle of J Egina was depopulated by a plague, his father, in compassion to his grief, changed all the ants iEdile. U p 0n Jt into men and women, who were called Myrvii' ,J ” v an ant. The foundation of the sable is said to be, that when the country had been depopulated by pirates, who forced the few that remained to take shelter in caves, i Eacus encouraged them to come out, and by commerce and industry recover what they had lost. His character for justice was such, that, in a time of universal drought, he was nominated by the Delphic oracle to intercede for Greece, and his prayer was answered. See the article ^Egina. The Pagans also imagined that T Eacus, on account of his impartial justice, was chosen by Pluto one of the three judges of the dead } and that it was his province to /EBU Di E, a name anciently given to the Western i EBURA, in Ancient Geography, a town of Spain, in Estremadura, on the river Guadiana, to the west of Merida j now called Talavera. W. Long. 7* I 5* N. Lat. 38. 40. i ECHMALOTARCHA, in Jewish antiquity, a title given to the principal leader or governor of the Hebrew captives residing in Chaldea, Assyria, and the neighbouring countries. This magistrate was called by the Jews, rosch-galath, i. e. the chief of the captivity : but the above term, of like import in the Greek, is that used by Origen and others who wrote in the The Jewish writers assure us, that the cechmalotarchce were only to be chosen out of the tribe ol Judah. The eastern Jews had their princes of the captivity, as the western Jews their patriarchs. The Jews are still said to have an cechmalotarcha at Babylon, but without the authority of the ancient ones. (Basnage Hist. Jews, i E Cl DIUM, in Botany. See Botany Index. ----|| --- Year: 1823 \n",
      "---\n",
      "DEF: in archite£lure,signifies the superior part or member of the capital of a column, and serves as a kind of crowning to both. Vitruvius tells us the abacus was originally intended to represent a square tile laid over an urn, or rather over a basket. See ARCHITEC- ----|| --- Year: 1797 \n",
      "---\n",
      "DEF: among the ancients, was a kind of cupboard or buffet. Livy, describing the luxury into which the Romans degenerated after the conquest of Asia, says, They had their abaci, beds, &c. plated ----|| --- Year: 1797 \n",
      "---\n",
      "DEF: a table strewed over with dust or sand, upon which the ancient mathematicians drew their figures, It also signified a cupboard, or buffet. ----|| --- Year: 1771 \n",
      "---\n",
      "DEF: in architedture, signifies the superior part or member of the capital of a column, and serves as a kind of crowning to both. It was originally intended to represent a square tile covering a basket. The form of the abacus is not the same in all orders: in the Tuscan, Doric, and Ionic, it is generally square; biit in the Corinthian and Compofite, its four sides are arched inwards, and embellilhed in the middle withornament, as a rose or other flower. Scammozzi uses abacus for a concave moulding on the capital of the Tuscan pedestal; and Palladio calls the plinth above the echinus, or boultin, in the Tuscan and Doric orders, by the same name. See plate I. fig. I. and ----|| --- Year: 1773 \n",
      "---\n",
      "DEF: in Ancient Geographij, supposed by the ancients to be an island in the German ocean, called by Timaeus Basilia, and by Xenophon Lam|)sacenusl?r//^b; now the peninsula of Scandinavia. Here, according to Pliny, some imagined that amber dropped from the ----|| --- Year: 1823 \n",
      "---\n",
      "DEF: is also the name of an ancient inllrument for facilitating operations in arithmetic. It is variously contrived. That chiefly used in Europe is made by drawing any number of parallel lines at the difiance of two diameters of one of the counters used in the calculation. A counter placed on the lowest line, fignifics i; on the 2d, 10; on the 3d, 100; on the 4th, 1000, &c. In the intermediate spaces, the same counters are efiimated at one half of the value of the line immediately superior, viz. between the ist and 2d, 5 ; between the 2d and 3d, 50, &c. See plate I. fig. 2. A B, where the same number, 1768 for example, is represented under both by different dispositions of the counters. ----|| --- Year: 1773 \n",
      "---\n",
      "DEF: a table strewed over with dust or sand, upon v/hich the ancient mathematicians drew their figures. It also signified a cupboard, or buffet. ----|| --- Year: 1773 \n",
      "---\n",
      "DEF: is also the name of an ancient facilitating operations in arithmetic. The numbers by counters appears happily fitted the principles of calculation. In the schools Greece, the boys acquired the elements of working on a smooth board with a narrow so named, evidently, from the combination A, B, F, the first letters of their alphabet, resembling, cept perhaps in size, the tablet likewise called on which the children with us used to begin art of reading. The pupils, in those distant instructed to compute, by forming progressive counters, which, according to the wealth or individual, consisted of small pebbles, of bone or ivory, or even of silver coins. From Greek word for a pebble, comes the verb But the same board served also for rudiments of writing and the principles The Abax being strewed with green sand, the ditus of classic authors, it was easy, with a radius rod, to trace letters, draw lines, construct describe circles.—Besides the original word Greeks had the diminutive A(3a,'/uov; and it probable, that this smaller board was commonly calculations, while the larger one was reserved them for the purpose of tracing geometrical To their calculating board the ancients make It appears, from the relation Laertius, that the practice of bestowing on pebbles tificial value, according to the rank or place occupied, remounts higher than the age of great reformer and legislator of the Athenian wealth. This sagacious observer and disinterested man, who was, however, no admirer of regal used to‘compare the passive ministers of kings to the counters or pebbles of arithmeticians, sometimes most important, and at other times nificant. 1 i Eschines, in his oration for the Crown, buvayivovg ffagafl-Xjjc Voug SIVUI roug Yrjtpoig TAI2 EHI TUN AOrmiGN. tmsrw ‘Tore ^ IIAEIU an/mimv, non os 'HTTfl. (DIOG. LAERT. in Vita Solonis.)ing of balanced accounts, says, that the pebbles were cleared away, and none left. 1 His rival, Demosthenes, repeating his expression, employs further the verb avran\\uv, which means to take up as many counters as were laid down. It is evident, therefore, that the ancients, in keeping their accounts, did not separately draw together the credits and the debts, but set down pebbles for the former, and took up pebbles for the latter. As soon as the board became cleared, the opposite claims were exactly balanced. We may observe, that the phrase to clear ones scores or accounts, meaning to settle or adjust them, is still preserved in the popular language of Europe, being suggested by the same practice of reckoning with counters, which prevailed indeed until a comparatively late The Romans borrowed their Abacus from the Greeks, and never aspired higher in the pursuit of science. To each pebble or counter required for that board they gave the name of calculus, a diminutive formed from calx, a stone; and applied the verb calculate, to signify the operation of combining or separating such pebbles or counters. Hence innumerable allusions by the Latin authors. Ponere calculum—subducere calcidum, to put down a counter, or to take it up; that is, to add or subtract; cocare aliquid ad calculum, ut par sit ratio acceptorum et datorum—to submit any thing to calcidation, so that the balance of debtor and creditor may be struck. Helvius Pertinax, who had been taught, while a boy, the arts of writing and casting accounts, is said, by Julius Capitolinus, to be litteris elementariis et calcido imbutus. St Augustine, whose juvenile years were devoted to pleasure and dissipation, acquaints us, in his extraordinary Confessions, that to him no song ever sounded more odious than the repetition or cantio, that one and one make two, and two and two make four. The use of the Abacus, called sometimes likewise the Mensa Pythagorica, formed an essential part of the education of every noble Roman Nec qui abaco numeros, et secto in pulvere met a a PEKS. Sat. i. 131. From Martianus Capella we learn that, as refinement advanced, a coloured sand, generally of a greenish hue, was employed to strew the surface of the abacus. Sic abacum perstare jubet, sic tegmine glauco Pandere pulvereum formarum ductibus sequor. Lib. vii. De Arithmetica. A small box or coffer, called a Loculus, having compartments for holding the calculi or counters, was a necessary appendage of the abacus. Instead of carrying a slate and satchel, as in modern times, the Roman boy was accustomed to trudge to school, loaded with his arithmetical board, and his box of counters: Quo pueri magnis e centurionibus orti, Lcevo suspensi loculos tubulamque lacerto. HORAT. Sat. i. 6. In the progress of luxury, tali, or dies made of ivory, Avere used instead of pebbles, and small silver coins came to supply the place of counters. Under the emperors, every patrician living in a spacious mansion, and indulging in all the pomp and splendour of eastern princes, generally entertained, for various functions, a numerous train of foreign slaves or freedmen in his palace. Of these, the librarius or miniculator, was employed in teaching the children their letters; gistered expenses, the rationarius accounts, and the tabularius his counters and board, performed might be required. Sometimes of numbers were termed reproachfully In the fervour of operation, often have appeared constrained Computat, ac cevet. Ponatur The nicety acquired in calculation was not quite agreeable to the Romani puen longis rationibus Discunt in parteis centum Silius Albini, Si de quincunce Uncia, quid superet ? Poteras Rem poteris servare tuam. It was a practice among the by marking their fortunate white pebble, and their days one. Hence the frequent allusions O diem laetum, notandumque Signandi melioribus lapiltis ! Hunc, Macrine, diem numera Qui tibi labentes apponit candidus To facilitate the working by of the abacus was afterwards perpendicular lines or bars, vided by sets of parallel grooves, even by successive rows of holes. small counters in the grooves, along the wires, or to stick large nails in the different holes. marks required, every column er one, wherein each counter of the ordinary kind, being half Scale. The abacus, instead sake of convenience and durability, quently brass, and sometimes titled ARITHMETIC, we have lume of the Supplement added mense Thesaurus of Graevius, ment, as used by the Romans. authorities, having been delineated ments,—the first kind by Ursinus, Marcus Velserus. In the one, sented by flattish perforated wires; and, in the other, they counters moving in parallel grooves. contain each seven capital bars, tens, hundreds, thousands, ten thousands, and millions; and above them the same progression, but having value. \\\\ ith four beads on each Kcf,v xa Jaoai uffiv ai Yri<poi, xou gr,div rregifi. (DEMOSTHENES pro Corona.) ----|| --- Year: 1842 \n",
      "---\n",
      "DEF: or ----|| --- Year: 1853 \n",
      "---\n",
      "DEF: Major, in metallurgic of a trough used in the mines, wherein ----|| --- Year: 1823 \n",
      "---\n",
      "DEF: Major, in metallurgic of a trough used in the mines, ----|| --- Year: 1815 \n",
      "---\n",
      "DEF: Major, in metallurgic operations, the name of a trough used in the mines, wherein the ore is waftied. ----|| --- Year: 1778 \n",
      "---\n",
      "DEF: is also the name of an ancient instrument for facilitating operations in arithmetic. It is vadoully contrived. That chiefly used in Europe is made by drawing any number of parallel lines at the di(lance of two diameters of one of the counters used in the calculation. A counter placed on.the lowed line, signifies r; on the sd, 10; on the 3d, 100; on the 4th, 1000, &c. In the intermediate spaces, the same counters are eflimated at one Jialf of the value of the line immediately superior, viz. between the id and 2d, 5; between the 2d and 3d, 50, &c. See plate I. fig. 2. A B, where the same number, 1768 for example, is represented under both by different dispositions of the counters. ----|| --- Year: 1771 \n",
      "---\n",
      "DEF: logijlicus, a right-angled triangle, whose sides forming the right angle contain the numbers from 1 to 60, and its area the fafta of every two of the numbers perpendicularly opposite. This is also called a canon Jk^&cus Pythagvricus, the multiplication-table, or any table of numbers that facilitates operations in arith- ----|| --- Year: 1771 \n",
      "---\n",
      "DEF: Pythagoricus, the multiplication-table, or any table of numbers that facilitates operations in arith- ----|| --- Year: 1773 \n",
      "---\n",
      "DEF: among the ancients, was a kind or buffet. Livy, describing the luxury into mans degenerated after the conquest of Asia, had their abaci, beds, &c. plated over with ----|| --- Year: 1842 \n",
      "---\n"
     ]
    }
   ],
   "source": [
    "sparql = SPARQLWrapper(\"http://localhost:3030/total_eb/sparql\")\n",
    "sparql.setQuery(\"\"\"\n",
    "PREFIX eb: <https://w3id.org/eb#>\n",
    "SELECT ?definition ?y  ?r WHERE {\n",
    "       ?article a eb:Article ;\n",
    "                eb:name \"ABACUS\" ;\n",
    "                eb:definition ?definition ;\n",
    "                OPTIONAL {?article eb:relatedTerms ?r.}\n",
    "       ?e eb:hasPart / eb:hasPart ?article.\n",
    "       ?e eb:publicationYear ?y\n",
    "    }\n",
    "\"\"\")\n",
    "sparql.setReturnFormat(JSON)\n",
    "results = sparql.query().convert()\n",
    "results = sparql.query().convert()\n",
    "for r in results[\"results\"][\"bindings\"]:\n",
    "    print(\"DEF: %s ----|| --- Year: %s \"% (r[\"definition\"][\"value\"], r[\"y\"][\"value\"]))\n",
    "    print(\"---\")"
   ]
  },
  {
   "cell_type": "markdown",
   "metadata": {},
   "source": [
    "Query 29: Print the years of articles which have ABACUS in their names"
   ]
  },
  {
   "cell_type": "code",
   "execution_count": 53,
   "metadata": {},
   "outputs": [
    {
     "name": "stdout",
     "output_type": "stream",
     "text": [
      "1815\n",
      "1853\n",
      "1778\n",
      "1842\n",
      "1823\n",
      "1797\n",
      "1842\n",
      "1771\n",
      "1823\n",
      "1797\n",
      "1797\n",
      "1771\n",
      "1773\n",
      "1823\n",
      "1773\n",
      "1773\n",
      "1842\n",
      "1853\n",
      "1823\n",
      "1815\n",
      "1778\n",
      "1771\n",
      "1771\n",
      "1773\n",
      "1842\n"
     ]
    }
   ],
   "source": [
    "term=\"ABACUS\"\n",
    "sparql = SPARQLWrapper(\"http://localhost:3030/total_eb/sparql\")\n",
    "sparql.setQuery(\"\"\"\n",
    "PREFIX eb: <https://w3id.org/eb#>\n",
    "SELECT ?definition ?article  ?year WHERE {\n",
    "       ?article a eb:Article .\n",
    "       ?article eb:name \"ABACUS\"  .\n",
    "       ?article eb:definition ?definition .\n",
    "       ?e eb:hasPart / eb:hasPart ?article.\n",
    "       ?e eb:publicationYear ?year\n",
    "\n",
    "    }\n",
    "\"\"\")\n",
    "\n",
    "sparql.setReturnFormat(JSON)\n",
    "results = sparql.query().convert()\n",
    "r=results[\"results\"][\"bindings\"]\n",
    "for i in r:\n",
    "    print(i[\"year\"][\"value\"])"
   ]
  },
  {
   "cell_type": "markdown",
   "metadata": {},
   "source": [
    "Query 30: Print the number of volumes of the Edition with the uri https://w3id.org/eb/i/Edition/992277653804341"
   ]
  },
  {
   "cell_type": "code",
   "execution_count": 57,
   "metadata": {},
   "outputs": [
    {
     "data": {
      "text/plain": [
       "'3'"
      ]
     },
     "execution_count": 57,
     "metadata": {},
     "output_type": "execute_result"
    }
   ],
   "source": [
    "sparql = SPARQLWrapper(\"http://localhost:3030/total_eb/sparql\")\n",
    "uri=\"<https://w3id.org/eb/i/Edition/992277653804341>\"\n",
    "query=\"\"\"\n",
    "PREFIX eb: <https://w3id.org/eb#>\n",
    "SELECT (COUNT (DISTINCT ?v) as ?count)\n",
    "    WHERE {\n",
    "        %s eb:hasPart ?v.\n",
    "    \t?v ?b ?c\n",
    "}\n",
    "\"\"\" % (uri)\n",
    "sparql.setQuery(query)\n",
    "sparql.setReturnFormat(JSON)\n",
    "results = sparql.query().convert()\n",
    "results[\"results\"][\"bindings\"][0][\"count\"][\"value\"]\n"
   ]
  },
  {
   "cell_type": "markdown",
   "metadata": {},
   "source": [
    "Query 31: Print all Editions uris"
   ]
  },
  {
   "cell_type": "code",
   "execution_count": 59,
   "metadata": {},
   "outputs": [
    {
     "name": "stdout",
     "output_type": "stream",
     "text": [
      "\n",
      "PREFIX eb: <https://w3id.org/eb#>\n",
      "SELECT * WHERE {\n",
      "       ?e a eb:Edition .\n",
      "    }\n",
      "\n"
     ]
    },
    {
     "data": {
      "text/plain": [
       "{'head': {'vars': ['e']},\n",
       " 'results': {'bindings': [{'e': {'type': 'uri',\n",
       "     'value': 'https://w3id.org/eb/i/Edition/997902523804341'}},\n",
       "   {'e': {'type': 'uri',\n",
       "     'value': 'https://w3id.org/eb/i/Edition/997902543804341'}},\n",
       "   {'e': {'type': 'uri',\n",
       "     'value': 'https://w3id.org/eb/i/Edition/9929777383804340'}},\n",
       "   {'e': {'type': 'uri',\n",
       "     'value': 'https://w3id.org/eb/i/Edition/9910796273804340'}},\n",
       "   {'e': {'type': 'uri',\n",
       "     'value': 'https://w3id.org/eb/i/Edition/9922270543804340'}},\n",
       "   {'e': {'type': 'uri',\n",
       "     'value': 'https://w3id.org/eb/i/Edition/992277653804341'}},\n",
       "   {'e': {'type': 'uri',\n",
       "     'value': 'https://w3id.org/eb/i/Edition/9910796253804340'}},\n",
       "   {'e': {'type': 'uri',\n",
       "     'value': 'https://w3id.org/eb/i/Edition/9910796233804340'}},\n",
       "   {'e': {'type': 'uri',\n",
       "     'value': 'https://w3id.org/eb/i/Edition/9910796343804340'}},\n",
       "   {'e': {'type': 'uri',\n",
       "     'value': 'https://w3id.org/eb/i/Edition/9929192893804340'}}]}}"
      ]
     },
     "execution_count": 59,
     "metadata": {},
     "output_type": "execute_result"
    }
   ],
   "source": [
    "sparql = SPARQLWrapper(\"http://localhost:3030/total_eb/sparql\")\n",
    "query=\"\"\"\n",
    "PREFIX eb: <https://w3id.org/eb#>\n",
    "SELECT * WHERE {\n",
    "       ?e a eb:Edition .\n",
    "    }\n",
    "\"\"\" \n",
    "\n",
    "print(query)\n",
    "sparql.setQuery(query)\n",
    "sparql.setReturnFormat(JSON)\n",
    "results = sparql.query().convert()\n",
    "results"
   ]
  },
  {
   "cell_type": "markdown",
   "metadata": {},
   "source": [
    "Query 32: Print Edition URIS and their years"
   ]
  },
  {
   "cell_type": "code",
   "execution_count": 61,
   "metadata": {},
   "outputs": [
    {
     "name": "stdout",
     "output_type": "stream",
     "text": [
      "2 https://w3id.org/eb/i/Edition/997902523804341 1778\n",
      "3 https://w3id.org/eb/i/Edition/997902543804341 1797\n",
      "8 https://w3id.org/eb/i/Edition/9929777383804340 1853\n",
      "7 https://w3id.org/eb/i/Edition/9910796273804340 1842\n",
      "5 https://w3id.org/eb/i/Edition/9922270543804340 1815\n",
      "1 https://w3id.org/eb/i/Edition/992277653804341 1771\n",
      "6 https://w3id.org/eb/i/Edition/9910796253804340 1823\n",
      "4 https://w3id.org/eb/i/Edition/9910796233804340 1810\n",
      "0 https://w3id.org/eb/i/Edition/9910796343804340 1801\n",
      "1 https://w3id.org/eb/i/Edition/9929192893804340 1773\n"
     ]
    }
   ],
   "source": [
    "sparql = SPARQLWrapper(\"http://localhost:3030/total_eb/sparql\")\n",
    "sparql.setQuery(\"\"\"\n",
    "PREFIX eb: <https://w3id.org/eb#>\n",
    "SELECT ?enum ?e ?y WHERE {\n",
    "       ?e a eb:Edition ;\n",
    "            eb:number ?enum ;\n",
    "            eb:publicationYear ?y.\n",
    "               \n",
    "    }\n",
    "\"\"\")\n",
    "sparql.setReturnFormat(JSON)\n",
    "results = sparql.query().convert()\n",
    "r=results[\"results\"][\"bindings\"]\n",
    "for i in r:\n",
    "    print(i[\"enum\"][\"value\"], i[\"e\"][\"value\"], i[\"y\"][\"value\"])"
   ]
  },
  {
   "cell_type": "markdown",
   "metadata": {},
   "source": [
    "Query 33: Print the volumes of uris, number and letters for the Edition with URI https://w3id.org/eb/i/Edition/992277653804341"
   ]
  },
  {
   "cell_type": "code",
   "execution_count": 73,
   "metadata": {},
   "outputs": [
    {
     "name": "stdout",
     "output_type": "stream",
     "text": [
      "https://w3id.org/eb/i/Volume/992277653804341_144133902 2 C-L\n",
      "https://w3id.org/eb/i/Volume/992277653804341_144133903 3 M-Z\n",
      "https://w3id.org/eb/i/Volume/992277653804341_144133901 1 A-B\n"
     ]
    }
   ],
   "source": [
    "sparql = SPARQLWrapper(\"http://localhost:3030/total_eb/sparql\")\n",
    "uri=\"<https://w3id.org/eb/i/Edition/992277653804341>\"\n",
    "query=\"\"\"\n",
    "PREFIX eb: <https://w3id.org/eb#>\n",
    "SELECT ?v ?vnum ?part ?letters WHERE {\n",
    "       %s eb:hasPart ?v .\n",
    "       ?v eb:number ?vnum ; \n",
    "          eb:letters ?letters .\n",
    "          OPTIONAL {?v eb:part ?part; }\n",
    "     \n",
    "               \n",
    "} \n",
    "\"\"\" % (uri)\n",
    "sparql.setQuery(query)\n",
    "sparql.setReturnFormat(JSON)\n",
    "results = sparql.query().convert()\n",
    "r=results[\"results\"][\"bindings\"]\n",
    "for i in r:\n",
    "    if \"part\" in i:\n",
    "        print(i[\"v\"][\"value\"], i[\"vnum\"][\"value\"],i[\"letters\"][\"value\"], i[\"part\"][\"value\"])\n",
    "    else:\n",
    "        print(i[\"v\"][\"value\"], i[\"vnum\"][\"value\"], i[\"letters\"][\"value\"])"
   ]
  },
  {
   "cell_type": "markdown",
   "metadata": {},
   "source": [
    "Query 35: Given the volume with URI https://w3id.org/eb/i/Volume/992277653804341_144133901, print its number, title, part, metsxml, volume Id, permanent URL, number of Pages and letters. "
   ]
  },
  {
   "cell_type": "code",
   "execution_count": 63,
   "metadata": {},
   "outputs": [
    {
     "name": "stdout",
     "output_type": "stream",
     "text": [
      "{'num': {'type': 'literal', 'datatype': 'http://www.w3.org/2001/XMLSchema#integer', 'value': '1'}, 'title': {'type': 'literal', 'value': 'Encyclopaedia Britannica; or, A dictionary of arts and sciences, compiled upon a new plan'}, 'metsXML': {'type': 'literal', 'value': '144133901-mets.xml'}, 'volumeId': {'type': 'literal', 'datatype': 'http://www.w3.org/2001/XMLSchema#int', 'value': '144133901'}, 'permanentURL': {'type': 'literal', 'value': 'https://digital.nls.uk/144133901'}, 'numberOfPages': {'type': 'literal', 'value': '832'}, 'letters': {'type': 'literal', 'value': 'A-B'}}\n"
     ]
    }
   ],
   "source": [
    "sparql = SPARQLWrapper(\"http://localhost:3030/total_eb/sparql\")\n",
    "uri=\"<https://w3id.org/eb/i/Volume/992277653804341_144133901>\"\n",
    "query=\"\"\"\n",
    "PREFIX eb: <https://w3id.org/eb#>\n",
    "SELECT ?num ?title ?part ?metsXML ?volumeId ?permanentURL ?numberOfPages ?letters WHERE {\n",
    "       %s eb:number ?num ;\n",
    "          eb:title ?title;\n",
    "          eb:metsXML ?metsXML;\n",
    "          eb:volumeId ?volumeId;\n",
    "          eb:permanentURL ?permanentURL;\n",
    "          eb:numberOfPages ?numberOfPages;\n",
    "          eb:letters ?letters.\n",
    "       OPTIONAL {%s eb:part ?part. }\n",
    "      \n",
    "               \n",
    "}\n",
    "\"\"\" % (uri, uri)\n",
    "sparql.setQuery(query)\n",
    "sparql.setReturnFormat(JSON)\n",
    "results = sparql.query().convert()\n",
    "r=results[\"results\"][\"bindings\"]\n",
    "for i in r:\n",
    "    print(i)"
   ]
  },
  {
   "cell_type": "markdown",
   "metadata": {},
   "source": [
    "Query 36: Count the number of terms for the Volume with Uri: https://w3id.org/eb/i/Volume/992277653804341_144133901"
   ]
  },
  {
   "cell_type": "code",
   "execution_count": 64,
   "metadata": {},
   "outputs": [
    {
     "data": {
      "text/plain": [
       "'21354'"
      ]
     },
     "execution_count": 64,
     "metadata": {},
     "output_type": "execute_result"
    }
   ],
   "source": [
    "sparql = SPARQLWrapper(\"http://localhost:3030/total_eb/sparql\")\n",
    "uri=\"<https://w3id.org/eb/i/Volume/992277653804341_144133901>\"\n",
    "query=\"\"\"\n",
    "PREFIX eb: <https://w3id.org/eb#>\n",
    "SELECT (COUNT (?t) as ?count)\n",
    "    WHERE {\n",
    "        %s eb:hasPart ?t .\n",
    "        ?t ?b ?c \n",
    "        \n",
    "} \n",
    "\"\"\" % (uri)\n",
    "      \n",
    "            \n",
    "sparql.setQuery(query)\n",
    "sparql.setReturnFormat(JSON)\n",
    "results = sparql.query().convert()\n",
    "results[\"results\"][\"bindings\"][0][\"count\"][\"value\"]\n"
   ]
  },
  {
   "cell_type": "markdown",
   "metadata": {},
   "source": [
    "Query 37: Count the number of distintc terms for the Volume with Uri: https://w3id.org/eb/i/Volume/992277653804341_144133901"
   ]
  },
  {
   "cell_type": "code",
   "execution_count": 65,
   "metadata": {},
   "outputs": [
    {
     "data": {
      "text/plain": [
       "{'head': {'vars': ['count']},\n",
       " 'results': {'bindings': [{'count': {'type': 'literal',\n",
       "     'datatype': 'http://www.w3.org/2001/XMLSchema#integer',\n",
       "     'value': '2505'}}]}}"
      ]
     },
     "execution_count": 65,
     "metadata": {},
     "output_type": "execute_result"
    }
   ],
   "source": [
    "sparql = SPARQLWrapper(\"http://localhost:3030/total_eb/sparql\")\n",
    "uri=\"<https://w3id.org/eb/i/Volume/992277653804341_144133901>\"\n",
    "query=\"\"\"\n",
    "PREFIX eb: <https://w3id.org/eb#>\n",
    "SELECT (COUNT (DISTINCT ?t) as ?count)\n",
    "    WHERE {\n",
    "        %s eb:hasPart ?t .\n",
    "        ?t a eb:Article\n",
    "        \n",
    "} \n",
    "\"\"\" % (uri)\n",
    "      \n",
    "            \n",
    "sparql.setQuery(query)\n",
    "sparql.setReturnFormat(JSON)\n",
    "results = sparql.query().convert()\n",
    "results"
   ]
  },
  {
   "cell_type": "markdown",
   "metadata": {},
   "source": [
    "Query 38: Count query"
   ]
  },
  {
   "cell_type": "code",
   "execution_count": 66,
   "metadata": {},
   "outputs": [
    {
     "data": {
      "text/plain": [
       "'2440'"
      ]
     },
     "execution_count": 66,
     "metadata": {},
     "output_type": "execute_result"
    }
   ],
   "source": [
    "sparql = SPARQLWrapper(\"http://localhost:3030/total_eb/sparql\")\n",
    "uri=\"<https://w3id.org/eb/i/Volume/992277653804341_144133901>\"\n",
    "query=\"\"\"\n",
    "       PREFIX eb: <https://w3id.org/eb#>\n",
    "       PREFIX rdfs: <http://www.w3.org/2000/01/rdf-schema#>\n",
    "       SELECT (count (DISTINCT ?a) as ?count)\n",
    "       WHERE {\n",
    "            %s eb:hasPart ?b .\n",
    "            ?b a eb:Article .\n",
    "            ?b eb:name ?a.\n",
    "      }\n",
    "\n",
    "\n",
    "\"\"\" % (uri)\n",
    "            \n",
    "sparql.setQuery(query)\n",
    "sparql.setReturnFormat(JSON)\n",
    "results = sparql.query().convert()\n",
    "results = sparql.query().convert()\n",
    "results[\"results\"][\"bindings\"][0][\"count\"][\"value\"]"
   ]
  },
  {
   "cell_type": "markdown",
   "metadata": {},
   "source": [
    "Query 39: Give me 10 topics uris"
   ]
  },
  {
   "cell_type": "code",
   "execution_count": 70,
   "metadata": {
    "scrolled": true
   },
   "outputs": [
    {
     "name": "stdout",
     "output_type": "stream",
     "text": [
      "https://w3id.org/eb/i/Topic/997902543804341_191253800_SIMSIMSIM_0\n",
      "https://w3id.org/eb/i/Topic/9910796273804340_194474782_NEWBRUNSWICK_0\n",
      "https://w3id.org/eb/i/Topic/9929777383804340_193469393_SHIELD_0\n",
      "https://w3id.org/eb/i/Topic/992277653804341_144133901_ALGEBRA_1\n",
      "https://w3id.org/eb/i/Topic/9910796233804340_191678901_TO_2\n",
      "https://w3id.org/eb/i/Topic/9910796273804340_193322688_DOR_2\n",
      "https://w3id.org/eb/i/Topic/9910796253804340_192547783_PHYSIOGNOMY_0\n",
      "https://w3id.org/eb/i/Topic/9922270543804340_192984256_SCOSCODMS_0\n",
      "https://w3id.org/eb/i/Topic/9910796253804340_191689065_MUSIC_0\n",
      "https://w3id.org/eb/i/Topic/9910796273804340_193322690_CAPILLARYACTION_0\n"
     ]
    }
   ],
   "source": [
    "sparql = SPARQLWrapper(\"http://localhost:3030/total_eb/sparql\")\n",
    "sparql.setQuery(\"\"\"\n",
    "PREFIX eb: <https://w3id.org/eb#>\n",
    "SELECT ?topic ?y WHERE {\n",
    "       ?topic a eb:Topic ;\n",
    "    }\n",
    "LIMIT 10\n",
    "\"\"\")\n",
    "sparql.setReturnFormat(JSON)\n",
    "results = sparql.query().convert()\n",
    "results = sparql.query().convert()\n",
    "for r in results[\"results\"][\"bindings\"]:\n",
    "    print(r[\"topic\"][\"value\"])"
   ]
  },
  {
   "cell_type": "markdown",
   "metadata": {},
   "source": [
    "Query 40: Give me the volume number and letter for the volume with the uri: https://w3id.org/eb/i/Volume/992277653804341_144133902"
   ]
  },
  {
   "cell_type": "code",
   "execution_count": 71,
   "metadata": {},
   "outputs": [
    {
     "data": {
      "text/plain": [
       "'2 C-L'"
      ]
     },
     "execution_count": 71,
     "metadata": {},
     "output_type": "execute_result"
    }
   ],
   "source": [
    "sparql = SPARQLWrapper(\"http://localhost:3030/total_eb/sparql\")\n",
    "uri=\"<https://w3id.org/eb/i/Volume/992277653804341_144133902>\"\n",
    "query=\"\"\"\n",
    "    PREFIX eb: <https://w3id.org/eb#>\n",
    "    SELECT ?vnum ?letters ?part WHERE {\n",
    "       %s eb:number ?vnum ;\n",
    "          eb:letters ?letters .\n",
    "           OPTIONAL {%s eb:part ?part; }\n",
    "       \n",
    "    \n",
    "    } \"\"\" % (uri, uri)\n",
    "sparql.setQuery(query)         \n",
    "sparql.setReturnFormat(JSON)\n",
    "results = sparql.query().convert()\n",
    "i=results[\"results\"][\"bindings\"][0]\n",
    "\n",
    "\n",
    "if \"part\" in i:\n",
    "    data= i[\"vnum\"][\"value\"]+ \" \"+ i[\"letters\"][\"value\"]+ \"Part \"+ i[\"part\"][\"value\"]\n",
    "else:\n",
    "    data= i[\"vnum\"][\"value\"]+ \" \"+ i[\"letters\"][\"value\"]\n",
    "\n",
    "data"
   ]
  }
 ],
 "metadata": {
  "kernelspec": {
   "display_name": "Python 3 (ipykernel)",
   "language": "python",
   "name": "python3"
  },
  "language_info": {
   "codemirror_mode": {
    "name": "ipython",
    "version": 3
   },
   "file_extension": ".py",
   "mimetype": "text/x-python",
   "name": "python",
   "nbconvert_exporter": "python",
   "pygments_lexer": "ipython3",
   "version": "3.9.7"
  }
 },
 "nbformat": 4,
 "nbformat_minor": 2
}
