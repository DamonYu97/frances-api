{
 "cells": [
  {
   "cell_type": "markdown",
   "metadata": {},
   "source": [
    "# Exploring Terms in the Encyclopaedia Britannica\n",
    "\n",
    "## Similar articles within an edition - Gensim - Doc2Vec\n"
   ]
  },
  {
   "cell_type": "markdown",
   "metadata": {},
   "source": [
    "### Loading the necessary libraries"
   ]
  },
  {
   "cell_type": "code",
   "execution_count": 1,
   "metadata": {},
   "outputs": [],
   "source": [
    "import yaml\n",
    "import matplotlib.pyplot as plt\n",
    "import numpy as np\n",
    "import collections\n",
    "import matplotlib as mpl"
   ]
  },
  {
   "cell_type": "code",
   "execution_count": 2,
   "metadata": {},
   "outputs": [],
   "source": [
    "import networkx as nx\n",
    "import matplotlib.pyplot as plt"
   ]
  },
  {
   "cell_type": "code",
   "execution_count": 3,
   "metadata": {},
   "outputs": [],
   "source": [
    "import pandas as pd\n",
    "from yaml import safe_load\n",
    "from pandas.io.json import json_normalize"
   ]
  },
  {
   "cell_type": "code",
   "execution_count": 4,
   "metadata": {},
   "outputs": [],
   "source": [
    "import gensim\n",
    "from gensim.models.doc2vec import Doc2Vec"
   ]
  },
  {
   "cell_type": "code",
   "execution_count": 5,
   "metadata": {},
   "outputs": [],
   "source": [
    "from postprocess_scripts.doc2vec_prep import stem_text, clean_text, generate_documents_df"
   ]
  },
  {
   "cell_type": "code",
   "execution_count": 6,
   "metadata": {},
   "outputs": [],
   "source": [
    "from tqdm import tqdm\n",
    "import os\n"
   ]
  },
  {
   "cell_type": "markdown",
   "metadata": {},
   "source": [
    "#### Hyperparameters"
   ]
  },
  {
   "cell_type": "code",
   "execution_count": 7,
   "metadata": {},
   "outputs": [],
   "source": [
    "# Init the Doc2Vec model\n",
    "hyperparams  = {\n",
    "    'dm': 1,\n",
    "    'vector_size': 300,\n",
    "    'window': 5,\n",
    "    'alpha': 0.025,\n",
    "    'min_alpha': 0.00025,\n",
    "    'min_count': 2,\n",
    "    'workers': 8\n",
    "}"
   ]
  },
  {
   "cell_type": "markdown",
   "metadata": {},
   "source": [
    "### Functions"
   ]
  },
  {
   "cell_type": "code",
   "execution_count": 8,
   "metadata": {},
   "outputs": [],
   "source": [
    "def get_document(df, index):\n",
    "    term = df.loc[index][\"term\"]\n",
    "    definition = df.loc[index][\"definition\"]\n",
    "    return term, definition"
   ]
  },
  {
   "cell_type": "code",
   "execution_count": 9,
   "metadata": {},
   "outputs": [],
   "source": [
    "def most_similar(model, text, clean_func=clean_text, topn=None):\n",
    "    vector = model.infer_vector(clean_func(text), epochs=100, alpha=model.alpha, min_alpha=model.min_alpha)\n",
    "    simdocs = model.docvecs.most_similar(positive=[vector], topn=topn)\n",
    "    return simdocs"
   ]
  },
  {
   "cell_type": "code",
   "execution_count": 10,
   "metadata": {},
   "outputs": [],
   "source": [
    "def load_model(filename):\n",
    "    try:\n",
    "        return Doc2Vec.load(os.path.join(MODEL_PATH, filename), mmap='r')\n",
    "    except:\n",
    "        return None\n"
   ]
  },
  {
   "cell_type": "markdown",
   "metadata": {},
   "source": [
    "## We have dataframe with these information\n",
    "\n",
    "- definition:           Definition of a term\n",
    "- editionNum:           1,2,3,4,5,6,7,8\n",
    "- editionTitle:         Title of the edition\n",
    "- header:               Header of the page's term                                  \n",
    "- place:                Place where the volume was edited (e.g. Edinburgh)                                    \n",
    "- relatedTerms:         Related terms (see X article)  \n",
    "- altoXML:              File Path of the XML file from which the term belongs       \n",
    "- term:                 Term name                            \n",
    "- positionPage:         Position of ther term in the page     \n",
    "- startsAt:             Number page in which the term definition starts \n",
    "- endsAt:               Number page in which the term definition ends \n",
    "- volumeTitle:          Title of the Volume\n",
    "- typeTerm:             Type of term [Topic| Articles]                                       \n",
    "- year:                 Year of the edition\n",
    "- volumeNum:            Volume number (e.g. 1)\n",
    "- letters:              leters of the volume (A-B)\n",
    "- part:                 Part of the volume (e.g 1)\n",
    "- supplement:           Supplement's Title\n",
    "- supplementsTo:        It suppelements to editions [1, 2, 3....]\n",
    "- numberOfWords:        Number of words per term definition\n",
    "- numberOfTerms:        Number of terms per page\n",
    "- numberOfPages:        Number of pages per volume"
   ]
  },
  {
   "cell_type": "markdown",
   "metadata": {},
   "source": [
    "### 1. Load dataframe from JSON file"
   ]
  },
  {
   "cell_type": "code",
   "execution_count": 11,
   "metadata": {},
   "outputs": [],
   "source": [
    "df = pd.read_json('./results_NLS/tmp2/results_eb_1_edition_dataframe', orient=\"index\") "
   ]
  },
  {
   "cell_type": "code",
   "execution_count": 12,
   "metadata": {},
   "outputs": [
    {
     "data": {
      "text/html": [
       "<div>\n",
       "<style scoped>\n",
       "    .dataframe tbody tr th:only-of-type {\n",
       "        vertical-align: middle;\n",
       "    }\n",
       "\n",
       "    .dataframe tbody tr th {\n",
       "        vertical-align: top;\n",
       "    }\n",
       "\n",
       "    .dataframe thead th {\n",
       "        text-align: right;\n",
       "    }\n",
       "</style>\n",
       "<table border=\"1\" class=\"dataframe\">\n",
       "  <thead>\n",
       "    <tr style=\"text-align: right;\">\n",
       "      <th></th>\n",
       "      <th>term</th>\n",
       "      <th>definition</th>\n",
       "      <th>relatedTerms</th>\n",
       "      <th>header</th>\n",
       "      <th>startsAt</th>\n",
       "      <th>endsAt</th>\n",
       "      <th>numberOfTerms</th>\n",
       "      <th>numberOfWords</th>\n",
       "      <th>numberOfPages</th>\n",
       "      <th>positionPage</th>\n",
       "      <th>...</th>\n",
       "      <th>editionNum</th>\n",
       "      <th>supplementTitle</th>\n",
       "      <th>supplementsTo</th>\n",
       "      <th>year</th>\n",
       "      <th>place</th>\n",
       "      <th>volumeTitle</th>\n",
       "      <th>volumeNum</th>\n",
       "      <th>letters</th>\n",
       "      <th>part</th>\n",
       "      <th>altoXML</th>\n",
       "    </tr>\n",
       "  </thead>\n",
       "  <tbody>\n",
       "    <tr>\n",
       "      <td>10</td>\n",
       "      <td>AADE</td>\n",
       "      <td>the name of two rivers, one in the country of ...</td>\n",
       "      <td>[]</td>\n",
       "      <td>EncyclopaediaBritannica</td>\n",
       "      <td>15</td>\n",
       "      <td>15</td>\n",
       "      <td>22</td>\n",
       "      <td>19</td>\n",
       "      <td>832</td>\n",
       "      <td>3</td>\n",
       "      <td>...</td>\n",
       "      <td>1</td>\n",
       "      <td></td>\n",
       "      <td>[]</td>\n",
       "      <td>1771</td>\n",
       "      <td>Edinburgh</td>\n",
       "      <td>Encyclopaedia Britannica; or, A dictionary of ...</td>\n",
       "      <td>1</td>\n",
       "      <td>A-B</td>\n",
       "      <td>0</td>\n",
       "      <td>144133901/alto/188082904.34.xml</td>\n",
       "    </tr>\n",
       "    <tr>\n",
       "      <td>100</td>\n",
       "      <td>ABETTOR</td>\n",
       "      <td>a law-term, implying one who encourages anothe...</td>\n",
       "      <td>[]</td>\n",
       "      <td>ABE</td>\n",
       "      <td>18</td>\n",
       "      <td>18</td>\n",
       "      <td>16</td>\n",
       "      <td>55</td>\n",
       "      <td>832</td>\n",
       "      <td>0</td>\n",
       "      <td>...</td>\n",
       "      <td>1</td>\n",
       "      <td></td>\n",
       "      <td>[]</td>\n",
       "      <td>1771</td>\n",
       "      <td>Edinburgh</td>\n",
       "      <td>Encyclopaedia Britannica; or, A dictionary of ...</td>\n",
       "      <td>1</td>\n",
       "      <td>A-B</td>\n",
       "      <td>0</td>\n",
       "      <td>144133901/alto/188082943.34.xml</td>\n",
       "    </tr>\n",
       "    <tr>\n",
       "      <td>1000</td>\n",
       "      <td>ALBY</td>\n",
       "      <td>or Alb 1, a city of France in the province of ...</td>\n",
       "      <td>[]</td>\n",
       "      <td>ALBALC</td>\n",
       "      <td>106</td>\n",
       "      <td>106</td>\n",
       "      <td>31</td>\n",
       "      <td>20</td>\n",
       "      <td>832</td>\n",
       "      <td>22</td>\n",
       "      <td>...</td>\n",
       "      <td>1</td>\n",
       "      <td></td>\n",
       "      <td>[]</td>\n",
       "      <td>1771</td>\n",
       "      <td>Edinburgh</td>\n",
       "      <td>Encyclopaedia Britannica; or, A dictionary of ...</td>\n",
       "      <td>1</td>\n",
       "      <td>A-B</td>\n",
       "      <td>0</td>\n",
       "      <td>144133901/alto/188084090.34.xml</td>\n",
       "    </tr>\n",
       "    <tr>\n",
       "      <td>10000</td>\n",
       "      <td>INYBURG</td>\n",
       "      <td>a town of Denmark, situated at the eafiend of ...</td>\n",
       "      <td>[]</td>\n",
       "      <td>NYBNYS</td>\n",
       "      <td>473</td>\n",
       "      <td>473</td>\n",
       "      <td>14</td>\n",
       "      <td>25</td>\n",
       "      <td>872</td>\n",
       "      <td>2</td>\n",
       "      <td>...</td>\n",
       "      <td>1</td>\n",
       "      <td></td>\n",
       "      <td>[]</td>\n",
       "      <td>1771</td>\n",
       "      <td>Edinburgh</td>\n",
       "      <td>Encyclopaedia Britannica; or, A dictionary of ...</td>\n",
       "      <td>3</td>\n",
       "      <td>M-Z</td>\n",
       "      <td>0</td>\n",
       "      <td>144133903/alto/144810223.34.xml</td>\n",
       "    </tr>\n",
       "    <tr>\n",
       "      <td>10001</td>\n",
       "      <td>NYCHTHEMERON</td>\n",
       "      <td>the natural day, or day and night, which toget...</td>\n",
       "      <td>[]</td>\n",
       "      <td>NYBNYS</td>\n",
       "      <td>473</td>\n",
       "      <td>473</td>\n",
       "      <td>14</td>\n",
       "      <td>13</td>\n",
       "      <td>872</td>\n",
       "      <td>3</td>\n",
       "      <td>...</td>\n",
       "      <td>1</td>\n",
       "      <td></td>\n",
       "      <td>[]</td>\n",
       "      <td>1771</td>\n",
       "      <td>Edinburgh</td>\n",
       "      <td>Encyclopaedia Britannica; or, A dictionary of ...</td>\n",
       "      <td>3</td>\n",
       "      <td>M-Z</td>\n",
       "      <td>0</td>\n",
       "      <td>144133903/alto/144810223.34.xml</td>\n",
       "    </tr>\n",
       "    <tr>\n",
       "      <td>...</td>\n",
       "      <td>...</td>\n",
       "      <td>...</td>\n",
       "      <td>...</td>\n",
       "      <td>...</td>\n",
       "      <td>...</td>\n",
       "      <td>...</td>\n",
       "      <td>...</td>\n",
       "      <td>...</td>\n",
       "      <td>...</td>\n",
       "      <td>...</td>\n",
       "      <td>...</td>\n",
       "      <td>...</td>\n",
       "      <td>...</td>\n",
       "      <td>...</td>\n",
       "      <td>...</td>\n",
       "      <td>...</td>\n",
       "      <td>...</td>\n",
       "      <td>...</td>\n",
       "      <td>...</td>\n",
       "      <td>...</td>\n",
       "      <td>...</td>\n",
       "    </tr>\n",
       "    <tr>\n",
       "      <td>9995</td>\n",
       "      <td>NUT</td>\n",
       "      <td>among botaniils, denotes a pericarpiurn of an ...</td>\n",
       "      <td>[]</td>\n",
       "      <td>NUTNUT</td>\n",
       "      <td>472</td>\n",
       "      <td>472</td>\n",
       "      <td>12</td>\n",
       "      <td>14</td>\n",
       "      <td>872</td>\n",
       "      <td>8</td>\n",
       "      <td>...</td>\n",
       "      <td>1</td>\n",
       "      <td></td>\n",
       "      <td>[]</td>\n",
       "      <td>1771</td>\n",
       "      <td>Edinburgh</td>\n",
       "      <td>Encyclopaedia Britannica; or, A dictionary of ...</td>\n",
       "      <td>3</td>\n",
       "      <td>M-Z</td>\n",
       "      <td>0</td>\n",
       "      <td>144133903/alto/144810211.34.xml</td>\n",
       "    </tr>\n",
       "    <tr>\n",
       "      <td>9996</td>\n",
       "      <td>NUTATION</td>\n",
       "      <td>in aflronomy, a kind of tremulous motion of th...</td>\n",
       "      <td>[]</td>\n",
       "      <td>NUTNUT</td>\n",
       "      <td>472</td>\n",
       "      <td>472</td>\n",
       "      <td>12</td>\n",
       "      <td>33</td>\n",
       "      <td>872</td>\n",
       "      <td>9</td>\n",
       "      <td>...</td>\n",
       "      <td>1</td>\n",
       "      <td></td>\n",
       "      <td>[]</td>\n",
       "      <td>1771</td>\n",
       "      <td>Edinburgh</td>\n",
       "      <td>Encyclopaedia Britannica; or, A dictionary of ...</td>\n",
       "      <td>3</td>\n",
       "      <td>M-Z</td>\n",
       "      <td>0</td>\n",
       "      <td>144133903/alto/144810211.34.xml</td>\n",
       "    </tr>\n",
       "    <tr>\n",
       "      <td>9997</td>\n",
       "      <td>NUTMEG</td>\n",
       "      <td>the kernel of a large fruit, not unlike the Th...</td>\n",
       "      <td>[MACE, PEEMED, DUTCH, THELARGEFT, EAP-INDIES, ...</td>\n",
       "      <td>NUTNUT</td>\n",
       "      <td>472</td>\n",
       "      <td>472</td>\n",
       "      <td>12</td>\n",
       "      <td>451</td>\n",
       "      <td>872</td>\n",
       "      <td>10</td>\n",
       "      <td>...</td>\n",
       "      <td>1</td>\n",
       "      <td></td>\n",
       "      <td>[]</td>\n",
       "      <td>1771</td>\n",
       "      <td>Edinburgh</td>\n",
       "      <td>Encyclopaedia Britannica; or, A dictionary of ...</td>\n",
       "      <td>3</td>\n",
       "      <td>M-Z</td>\n",
       "      <td>0</td>\n",
       "      <td>144133903/alto/144810211.34.xml</td>\n",
       "    </tr>\n",
       "    <tr>\n",
       "      <td>9998</td>\n",
       "      <td>NUTRITION</td>\n",
       "      <td>in the animal ceconomy, is the repairing the c...</td>\n",
       "      <td>[PISTACHIA]</td>\n",
       "      <td>NUTNUT</td>\n",
       "      <td>472</td>\n",
       "      <td>473</td>\n",
       "      <td>12</td>\n",
       "      <td>486</td>\n",
       "      <td>872</td>\n",
       "      <td>11</td>\n",
       "      <td>...</td>\n",
       "      <td>1</td>\n",
       "      <td></td>\n",
       "      <td>[]</td>\n",
       "      <td>1771</td>\n",
       "      <td>Edinburgh</td>\n",
       "      <td>Encyclopaedia Britannica; or, A dictionary of ...</td>\n",
       "      <td>3</td>\n",
       "      <td>M-Z</td>\n",
       "      <td>0</td>\n",
       "      <td>144133903/alto/144810211.34.xml</td>\n",
       "    </tr>\n",
       "    <tr>\n",
       "      <td>9999</td>\n",
       "      <td>NUYS</td>\n",
       "      <td>a town of Germany, twenty miles north of Co-</td>\n",
       "      <td>[]</td>\n",
       "      <td>NYBNYS</td>\n",
       "      <td>473</td>\n",
       "      <td>473</td>\n",
       "      <td>14</td>\n",
       "      <td>9</td>\n",
       "      <td>872</td>\n",
       "      <td>1</td>\n",
       "      <td>...</td>\n",
       "      <td>1</td>\n",
       "      <td></td>\n",
       "      <td>[]</td>\n",
       "      <td>1771</td>\n",
       "      <td>Edinburgh</td>\n",
       "      <td>Encyclopaedia Britannica; or, A dictionary of ...</td>\n",
       "      <td>3</td>\n",
       "      <td>M-Z</td>\n",
       "      <td>0</td>\n",
       "      <td>144133903/alto/144810223.34.xml</td>\n",
       "    </tr>\n",
       "  </tbody>\n",
       "</table>\n",
       "<p>27426 rows × 22 columns</p>\n",
       "</div>"
      ],
      "text/plain": [
       "               term                                         definition  \\\n",
       "10             AADE  the name of two rivers, one in the country of ...   \n",
       "100         ABETTOR  a law-term, implying one who encourages anothe...   \n",
       "1000           ALBY  or Alb 1, a city of France in the province of ...   \n",
       "10000       INYBURG  a town of Denmark, situated at the eafiend of ...   \n",
       "10001  NYCHTHEMERON  the natural day, or day and night, which toget...   \n",
       "...             ...                                                ...   \n",
       "9995            NUT  among botaniils, denotes a pericarpiurn of an ...   \n",
       "9996       NUTATION  in aflronomy, a kind of tremulous motion of th...   \n",
       "9997         NUTMEG  the kernel of a large fruit, not unlike the Th...   \n",
       "9998      NUTRITION  in the animal ceconomy, is the repairing the c...   \n",
       "9999           NUYS       a town of Germany, twenty miles north of Co-   \n",
       "\n",
       "                                            relatedTerms  \\\n",
       "10                                                    []   \n",
       "100                                                   []   \n",
       "1000                                                  []   \n",
       "10000                                                 []   \n",
       "10001                                                 []   \n",
       "...                                                  ...   \n",
       "9995                                                  []   \n",
       "9996                                                  []   \n",
       "9997   [MACE, PEEMED, DUTCH, THELARGEFT, EAP-INDIES, ...   \n",
       "9998                                         [PISTACHIA]   \n",
       "9999                                                  []   \n",
       "\n",
       "                        header  startsAt  endsAt  numberOfTerms  \\\n",
       "10     EncyclopaediaBritannica        15      15             22   \n",
       "100                        ABE        18      18             16   \n",
       "1000                    ALBALC       106     106             31   \n",
       "10000                   NYBNYS       473     473             14   \n",
       "10001                   NYBNYS       473     473             14   \n",
       "...                        ...       ...     ...            ...   \n",
       "9995                    NUTNUT       472     472             12   \n",
       "9996                    NUTNUT       472     472             12   \n",
       "9997                    NUTNUT       472     472             12   \n",
       "9998                    NUTNUT       472     473             12   \n",
       "9999                    NYBNYS       473     473             14   \n",
       "\n",
       "       numberOfWords  numberOfPages  positionPage  ... editionNum  \\\n",
       "10                19            832             3  ...          1   \n",
       "100               55            832             0  ...          1   \n",
       "1000              20            832            22  ...          1   \n",
       "10000             25            872             2  ...          1   \n",
       "10001             13            872             3  ...          1   \n",
       "...              ...            ...           ...  ...        ...   \n",
       "9995              14            872             8  ...          1   \n",
       "9996              33            872             9  ...          1   \n",
       "9997             451            872            10  ...          1   \n",
       "9998             486            872            11  ...          1   \n",
       "9999               9            872             1  ...          1   \n",
       "\n",
       "      supplementTitle  supplementsTo  year      place  \\\n",
       "10                                []  1771  Edinburgh   \n",
       "100                               []  1771  Edinburgh   \n",
       "1000                              []  1771  Edinburgh   \n",
       "10000                             []  1771  Edinburgh   \n",
       "10001                             []  1771  Edinburgh   \n",
       "...               ...            ...   ...        ...   \n",
       "9995                              []  1771  Edinburgh   \n",
       "9996                              []  1771  Edinburgh   \n",
       "9997                              []  1771  Edinburgh   \n",
       "9998                              []  1771  Edinburgh   \n",
       "9999                              []  1771  Edinburgh   \n",
       "\n",
       "                                             volumeTitle volumeNum letters  \\\n",
       "10     Encyclopaedia Britannica; or, A dictionary of ...         1     A-B   \n",
       "100    Encyclopaedia Britannica; or, A dictionary of ...         1     A-B   \n",
       "1000   Encyclopaedia Britannica; or, A dictionary of ...         1     A-B   \n",
       "10000  Encyclopaedia Britannica; or, A dictionary of ...         3     M-Z   \n",
       "10001  Encyclopaedia Britannica; or, A dictionary of ...         3     M-Z   \n",
       "...                                                  ...       ...     ...   \n",
       "9995   Encyclopaedia Britannica; or, A dictionary of ...         3     M-Z   \n",
       "9996   Encyclopaedia Britannica; or, A dictionary of ...         3     M-Z   \n",
       "9997   Encyclopaedia Britannica; or, A dictionary of ...         3     M-Z   \n",
       "9998   Encyclopaedia Britannica; or, A dictionary of ...         3     M-Z   \n",
       "9999   Encyclopaedia Britannica; or, A dictionary of ...         3     M-Z   \n",
       "\n",
       "       part                          altoXML  \n",
       "10        0  144133901/alto/188082904.34.xml  \n",
       "100       0  144133901/alto/188082943.34.xml  \n",
       "1000      0  144133901/alto/188084090.34.xml  \n",
       "10000     0  144133903/alto/144810223.34.xml  \n",
       "10001     0  144133903/alto/144810223.34.xml  \n",
       "...     ...                              ...  \n",
       "9995      0  144133903/alto/144810211.34.xml  \n",
       "9996      0  144133903/alto/144810211.34.xml  \n",
       "9997      0  144133903/alto/144810211.34.xml  \n",
       "9998      0  144133903/alto/144810211.34.xml  \n",
       "9999      0  144133903/alto/144810223.34.xml  \n",
       "\n",
       "[27426 rows x 22 columns]"
      ]
     },
     "execution_count": 12,
     "metadata": {},
     "output_type": "execute_result"
    }
   ],
   "source": [
    "df = df[[\"term\", \"definition\", \"relatedTerms\", \"header\", \"startsAt\", \"endsAt\", \"numberOfTerms\",\"numberOfWords\", \"numberOfPages\", \\\n",
    "             \"positionPage\", \"typeTerm\", \"editionTitle\", \"editionNum\", \"supplementTitle\", \"supplementsTo\",\\\n",
    "             \"year\", \"place\", \"volumeTitle\", \"volumeNum\", \"letters\", \"part\", \"altoXML\"]]\n",
    "df"
   ]
  },
  {
   "cell_type": "markdown",
   "metadata": {},
   "source": [
    "### 2. Similar Terms"
   ]
  },
  {
   "cell_type": "markdown",
   "metadata": {},
   "source": [
    "### 2.1 Selecting just the volumes of 1771"
   ]
  },
  {
   "cell_type": "code",
   "execution_count": 13,
   "metadata": {},
   "outputs": [],
   "source": [
    "df_1771= df[(df['year'] == 1771)]\n",
    "df_1771_small = df_1771.head(100)\n"
   ]
  },
  {
   "cell_type": "markdown",
   "metadata": {},
   "source": [
    "### 2.2 Counting the number of terms"
   ]
  },
  {
   "cell_type": "markdown",
   "metadata": {},
   "source": [
    "**Remember**: A term can appear in more than once  per eddition. "
   ]
  },
  {
   "cell_type": "code",
   "execution_count": 14,
   "metadata": {},
   "outputs": [
    {
     "data": {
      "text/plain": [
       "100"
      ]
     },
     "execution_count": 14,
     "metadata": {},
     "output_type": "execute_result"
    }
   ],
   "source": [
    "len(df_1771_small)"
   ]
  },
  {
   "cell_type": "code",
   "execution_count": 15,
   "metadata": {},
   "outputs": [
    {
     "name": "stderr",
     "output_type": "stream",
     "text": [
      "7it [00:00, 65.90it/s]"
     ]
    },
    {
     "name": "stdout",
     "output_type": "stream",
     "text": [
      "Preprocessing function: clean_text\n",
      "Minimum document length: 5 words\n"
     ]
    },
    {
     "name": "stderr",
     "output_type": "stream",
     "text": [
      "91it [00:01, 67.49it/s]"
     ]
    },
    {
     "name": "stdout",
     "output_type": "stream",
     "text": [
      "Generated 91 description terms\n"
     ]
    },
    {
     "name": "stderr",
     "output_type": "stream",
     "text": [
      "\n"
     ]
    }
   ],
   "source": [
    "train_documents = list(tqdm(generate_documents_df(df_1771_small, clean_text, min_words=5)))"
   ]
  },
  {
   "cell_type": "code",
   "execution_count": 16,
   "metadata": {},
   "outputs": [
    {
     "name": "stdout",
     "output_type": "stream",
     "text": [
      "Created 91 tagged documents.\n",
      "Build vocabulary\n",
      "Train model: epoch=0\n",
      "Train model: epoch=1\n",
      "Train model: epoch=2\n",
      "Train model: epoch=3\n",
      "Train model: epoch=4\n",
      "Train model: epoch=5\n",
      "Train model: epoch=6\n",
      "Train model: epoch=7\n",
      "Train model: epoch=8\n",
      "Train model: epoch=9\n",
      "Train model: epoch=10\n",
      "Train model: epoch=11\n",
      "Train model: epoch=12\n",
      "Train model: epoch=13\n",
      "Train model: epoch=14\n",
      "Train model: epoch=15\n",
      "Train model: epoch=16\n",
      "Train model: epoch=17\n",
      "Train model: epoch=18\n",
      "Train model: epoch=19\n",
      "Train model: epoch=20\n",
      "Train model: epoch=21\n",
      "Train model: epoch=22\n",
      "Train model: epoch=23\n",
      "Train model: epoch=24\n",
      "Train model: epoch=25\n",
      "Train model: epoch=26\n",
      "Train model: epoch=27\n",
      "Train model: epoch=28\n",
      "Train model: epoch=29\n",
      "Train model: epoch=30\n",
      "Train model: epoch=31\n",
      "Train model: epoch=32\n",
      "Train model: epoch=33\n",
      "Train model: epoch=34\n",
      "Train model: epoch=35\n",
      "Train model: epoch=36\n",
      "Train model: epoch=37\n",
      "Train model: epoch=38\n",
      "Train model: epoch=39\n",
      "Train model: epoch=40\n",
      "Train model: epoch=41\n",
      "Train model: epoch=42\n",
      "Train model: epoch=43\n",
      "Train model: epoch=44\n",
      "Train model: epoch=45\n",
      "Train model: epoch=46\n",
      "Train model: epoch=47\n",
      "Train model: epoch=48\n",
      "Train model: epoch=49\n",
      "Train model: epoch=50\n",
      "Train model: epoch=51\n",
      "Train model: epoch=52\n",
      "Train model: epoch=53\n",
      "Train model: epoch=54\n",
      "Train model: epoch=55\n",
      "Train model: epoch=56\n",
      "Train model: epoch=57\n",
      "Train model: epoch=58\n",
      "Train model: epoch=59\n",
      "Train model: epoch=60\n",
      "Train model: epoch=61\n",
      "Train model: epoch=62\n",
      "Train model: epoch=63\n",
      "Train model: epoch=64\n",
      "Train model: epoch=65\n",
      "Train model: epoch=66\n",
      "Train model: epoch=67\n",
      "Train model: epoch=68\n",
      "Train model: epoch=69\n",
      "Train model: epoch=70\n",
      "Train model: epoch=71\n",
      "Train model: epoch=72\n",
      "Train model: epoch=73\n",
      "Train model: epoch=74\n",
      "Train model: epoch=75\n",
      "Train model: epoch=76\n",
      "Train model: epoch=77\n",
      "Train model: epoch=78\n",
      "Train model: epoch=79\n",
      "Train model: epoch=80\n",
      "Train model: epoch=81\n",
      "Train model: epoch=82\n",
      "Train model: epoch=83\n",
      "Train model: epoch=84\n",
      "Train model: epoch=85\n",
      "Train model: epoch=86\n",
      "Train model: epoch=87\n",
      "Train model: epoch=88\n",
      "Train model: epoch=89\n",
      "Train model: epoch=90\n",
      "Train model: epoch=91\n",
      "Train model: epoch=92\n",
      "Train model: epoch=93\n",
      "Train model: epoch=94\n",
      "Train model: epoch=95\n",
      "Train model: epoch=96\n",
      "Train model: epoch=97\n",
      "Train model: epoch=98\n",
      "Train model: epoch=99\n"
     ]
    }
   ],
   "source": [
    "print(f'Created {len(train_documents)} tagged documents.')\n",
    "model = Doc2Vec(**hyperparams)\n",
    "print('Build vocabulary')\n",
    "model.build_vocab(train_documents)\n",
    "for epoch in range(100):\n",
    "    print(f'Train model: epoch={epoch}')\n",
    "    model.train(train_documents, total_examples=model.corpus_count, epochs=1)\n",
    "    model.alpha -= 0.0002\n",
    "    model.min_alpha = model.alpha"
   ]
  },
  {
   "cell_type": "code",
   "execution_count": 17,
   "metadata": {},
   "outputs": [
    {
     "name": "stdout",
     "output_type": "stream",
     "text": [
      "Saved model to ./results_NLS/doc2vec_df_1771.model\n"
     ]
    }
   ],
   "source": [
    "# Save the model\n",
    "model_path = os.path.join(\"./results_NLS/\", 'doc2vec_df_1771.model')\n",
    "model.save(model_path)\n",
    "print(f'Saved model to {model_path}')"
   ]
  },
  {
   "cell_type": "code",
   "execution_count": 18,
   "metadata": {},
   "outputs": [
    {
     "data": {
      "text/plain": [
       "'ABETTOR'"
      ]
     },
     "execution_count": 18,
     "metadata": {},
     "output_type": "execute_result"
    }
   ],
   "source": [
    "term = text =df_1771_small.loc[100][\"term\"]\n",
    "term"
   ]
  },
  {
   "cell_type": "code",
   "execution_count": 19,
   "metadata": {},
   "outputs": [
    {
     "data": {
      "text/plain": [
       "\"a law-term, implying one who encourages another to the performance of some criminal adlion, or who is. art and part in the performance itself. Treason is the only crime in which abettors are excluded by law, every individual concerned being considered as a principal. It is the same with art and part in'the Scots law.\""
      ]
     },
     "execution_count": 19,
     "metadata": {},
     "output_type": "execute_result"
    }
   ],
   "source": [
    "text =df_1771_small.loc[100][\"definition\"]\n",
    "text"
   ]
  },
  {
   "cell_type": "code",
   "execution_count": 20,
   "metadata": {},
   "outputs": [],
   "source": [
    "text=\"in law, a person who becomes equally guilty in the crime of another by knowingly and voluntarily aiding the criminal during the act itself. An abettor is one kind of accomplice (q.v.), the other being an accessory, who aids the criminal prior to or after the crime\""
   ]
  },
  {
   "cell_type": "code",
   "execution_count": 21,
   "metadata": {},
   "outputs": [
    {
     "data": {
      "text/plain": [
       "'in law, a person who becomes equally guilty in the crime of another by knowingly and voluntarily aiding the criminal during the act itself. An abettor is one kind of accomplice (q.v.), the other being an accessory, who aids the criminal prior to or after the crime'"
      ]
     },
     "execution_count": 21,
     "metadata": {},
     "output_type": "execute_result"
    }
   ],
   "source": [
    "text"
   ]
  },
  {
   "cell_type": "code",
   "execution_count": 22,
   "metadata": {},
   "outputs": [],
   "source": [
    "#model=load_model('./results_NLS/doc2vec_df_1771.model')\n",
    "cleaned_text = clean_text(text)\n",
    "# Just going to take the firs 10 -- so topn=10\n",
    "simdocs=most_similar(model, text, topn=10)"
   ]
  },
  {
   "cell_type": "code",
   "execution_count": 23,
   "metadata": {},
   "outputs": [
    {
     "name": "stdout",
     "output_type": "stream",
     "text": [
      "#### TEST 1 -- Doc2Vec -- Printing the details of the 10 most similar documents using Doc2Vec \n",
      "!! Using DocVec --- Document_id: 100 - Rank 0.994238018989563 - Details: Term ABETTOR, Definition: a law-term, implying one who encourages another to the performance of some criminal adlion, or who is. art and part in the performance itself. Treason is the only crime in which abettors are excluded by law, every individual concerned being considered as a principal. It is the same with art and part in'the Scots law.\n",
      "---\n",
      "!! Using DocVec --- Document_id: 10073 - Rank 0.9908771514892578 - Details: Term OECONOMICS, Definition: the art of managing the affairs of a family, or community; and hence the person who takes care of the revenues and other affairs of churches, monaderies, and the like, is termed oeconomus.\n",
      "---\n",
      "!! Using DocVec --- Document_id: 10020 - Rank 0.9891510009765625 - Details: Term OBLIGATION, Definition: in Scots law. See Law Tit. xx.\n",
      "---\n",
      "!! Using DocVec --- Document_id: 1004 - Rank 0.9876201152801514 - Details: Term ALCAID, Definition: Alcayde, or Alcalde, in the polity of the Moors, Spaniards, and Portuguefe, a magistrate, or officer of justice, answering nearly to the French provort, and die Britiffi justice of peace.—The alcaid among the Moors is verted with supreme jurifdiftion, both in civil and criminal cases.\n",
      "---\n",
      "!! Using DocVec --- Document_id: 10042 - Rank 0.986859142780304 - Details: Term OCCUPANT, Definition: in law, the perfen that first seizes, or gets poffdlicn cf a thing. : OCCUPATION, in a legal feafe, is taken for use or tenure ; as in deeds it is frequently said, that such lands are or lately were in the tenure.or occupation of such a peifon. It is likewise used for a trade or mystery.\n",
      "---\n",
      "!! Using DocVec --- Document_id: 10018 - Rank 0.9865912199020386 - Details: Term OBLATI, Definition: in church hi Rory, were secular persons, who devoted themselves and their e Rates to some mona Rery, into which they were adnv tted as a kind of lay brothers. The form of they^adniiffion, was, putting the bellropes of the church round their necks, as a mirk of fervirude. They wore a religious habit, but different from that of the monks.\n",
      "---\n",
      "!! Using DocVec --- Document_id: 10082 - Rank 0.9863120317459106 - Details: Term OENOPTAL, Definition: in Grecian antiquity, a kind of cenfors at Athens, who regulated entertainments, and took care that none drank too much or too little.\n",
      "---\n",
      "!! Using DocVec --- Document_id: 10017 - Rank 0.9853869676589966 - Details: Term OBJECTIVE, Definition: is used, in the schools, in speaking of a thing which exi Rs no otherwise than as an objedl known. The exi Rence of such a thing is said to be\n",
      "---\n",
      "!! Using DocVec --- Document_id: 10043 - Rank 0.9853864908218384 - Details: Term OCCUPIERS, Definition: of walling, a term in the fait-works lor the peifons who are the sworn officers that allot in particular places what quantity of fait is to be made, that the .markets may not-be overftocked, and see that all is carried fairly and equally between the lord and the tenant.\n",
      "---\n",
      "!! Using DocVec --- Document_id: 10038 - Rank 0.9852339029312134 - Details: Term OCCIPITAL, Definition: in anatomy, a term applied to the parts of the occiput, or back part of the Ikull. See Ana-\n",
      "---\n"
     ]
    }
   ],
   "source": [
    "print(\"#### TEST 1 -- Doc2Vec -- Printing the details of the 10 most similar documents using Doc2Vec \")\n",
    "for doc_id , rank in simdocs:\n",
    "    term, definition = get_document(df_1771_small, doc_id)\n",
    "    print(\"!! Using DocVec --- Document_id: %s - Rank %s - Details: Term %s, Definition: %s\" %(doc_id, rank, term, definition))\n",
    "    print(\"---\")"
   ]
  },
  {
   "cell_type": "code",
   "execution_count": null,
   "metadata": {},
   "outputs": [],
   "source": []
  }
 ],
 "metadata": {
  "kernelspec": {
   "display_name": "Python 3",
   "language": "python",
   "name": "python3"
  },
  "language_info": {
   "codemirror_mode": {
    "name": "ipython",
    "version": 3
   },
   "file_extension": ".py",
   "mimetype": "text/x-python",
   "name": "python",
   "nbconvert_exporter": "python",
   "pygments_lexer": "ipython3",
   "version": "3.7.2"
  }
 },
 "nbformat": 4,
 "nbformat_minor": 2
}
