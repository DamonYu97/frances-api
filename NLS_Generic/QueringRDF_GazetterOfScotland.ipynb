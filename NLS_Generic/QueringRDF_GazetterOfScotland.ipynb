{
 "cells": [
  {
   "cell_type": "markdown",
   "metadata": {},
   "source": [
    "# SPARQL Queries - Gazetteers of Scotland - GazetteersScotland-KG\n",
    "\n",
    "\n",
    "This notebook enables to perform several SPARQL queries to the GazetteersScotland-KG Knowlege Graph (ladies_debating.ttl). It includes two types RDF queries:\n",
    "\n",
    " - Querying the KG locally: Using rdflib.plugins.sparql\n",
    " - Querying the KG from an Apache Fuseki Server: Using SPARQLWrapper\n",
    "\n",
    "The GazetteersScotland-KG implements the [NLS-Ontology](https://francesnlp.github.io/NLS-ontology/doc/index-en.html), which has the following [Data Model](https://francesnlp.github.io/NLS-ontology/doc/dataModel.png)\n",
    "\n",
    "The GazetteersScotland-KG-KG (chapbooks_scotland.ttl) can be download from [Zenodo](https://zenodo.org/record/6686829#.YrNh8pDMJHY). \n",
    "\n",
    "In general terms this NLS-Ontology can be described as follows:\n",
    "1. A Digital Collection can have several Series.\n",
    "2. A Serie can have several Volumes (Books). \n",
    "3. A Serie can have several Editors, Publishers and reference books\n",
    "4. A Volume has several Pages\n",
    "5. A Page has text \n",
    "6. A Serie can have a Supplement \n",
    "7. A Supplement can have several Editors, Publishers and reference books\n",
    "8. A Supplement can have several Volumes\n",
    "\n",
    "\n",
    "Example of values of the GazetteersScotland-KG properties:\n",
    "\n",
    "\n",
    "    \n",
    "      mmsid                                                   9931003343804341\n",
    "      editor                 Scotland. [Appendix. - Descriptions, Topograph...\n",
    "      editor_date                                                         None\n",
    "      genre                                                               None\n",
    "      language                                                             eng\n",
    "      metsXML                                                97343436-mets.xml\n",
    "      termsOfAddress                                                      None\n",
    "      numberOfPages                                                        606\n",
    "      numberOfWords                                                          0\n",
    "      permanentURL                             https://digital.nls.uk/97343436\n",
    "      physicalDescription    1 v. (xxxii, [ca. 300] p.) : map (fold.) ; 22 cm.\n",
    "      place                                                             Dundee\n",
    "      publisher                                         F. Ray for W. Chalmers\n",
    "      referencedBy                                                        None\n",
    "      shelfLocator                                                  Newman.326\n",
    "      altoXML                                    97343436/alto/97343442.34.xml\n",
    "      serieSubTitle          containing a particular and concise descriptio...\n",
    "      text                                                                    \n",
    "      pageNum                                                                1\n",
    "      volumeTitle                                   gazetteer of Scotland 1803\n",
    "      volumeId                                                        97343436\n",
    "      year                                                                1803\n",
    "      serieNum                                                               0\n",
    "      part                                                                   0\n",
    "      serieTitle                                         gazetteer of Scotland\n",
    "      publisherPersons                                   [F. Ray, W. Chalmers]\n",
    "      numberOfVolumes                                                        1\n",
    "      volumeNum                                                              1\n"
   ]
  },
  {
   "cell_type": "markdown",
   "metadata": {},
   "source": [
    "### Loading the necessary libraries"
   ]
  },
  {
   "cell_type": "code",
   "execution_count": 21,
   "metadata": {},
   "outputs": [],
   "source": [
    "import rdflib\n",
    "from rdflib.extras.external_graph_libs import rdflib_to_networkx_multidigraph\n",
    "import networkx as nx\n",
    "import matplotlib.pyplot as pl\n",
    "from rdflib import Graph, ConjunctiveGraph, Namespace, Literal\n",
    "from rdflib.plugins.sparql import prepareQuery"
   ]
  },
  {
   "cell_type": "code",
   "execution_count": 22,
   "metadata": {},
   "outputs": [],
   "source": [
    "import networkx as nx\n",
    "import matplotlib.pyplot as plt\n",
    "from SPARQLWrapper import SPARQLWrapper, JSON"
   ]
  },
  {
   "cell_type": "code",
   "execution_count": 23,
   "metadata": {},
   "outputs": [],
   "source": [
    "import matplotlib.pyplot as plt\n",
    "plt.rcParams['figure.figsize'] = [15, 10]"
   ]
  },
  {
   "cell_type": "markdown",
   "metadata": {},
   "source": [
    "### Functions"
   ]
  },
  {
   "cell_type": "code",
   "execution_count": 24,
   "metadata": {},
   "outputs": [],
   "source": [
    "def plot_resource(results):\n",
    "\n",
    "    G = rdflib_to_networkx_multidigraph(results)\n",
    "    pos = nx.spring_layout(G, scale=3)\n",
    "    edge_labels = nx.get_edge_attributes(G, 'r')\n",
    "    nx.draw_networkx_edge_labels(G, pos, edge_labels=edge_labels)\n",
    "    nx.draw(G, with_labels=True)\n",
    "    plt.show()"
   ]
  },
  {
   "cell_type": "markdown",
   "metadata": {},
   "source": [
    "### Type 1:  Working with the Knowlege Graph locally"
   ]
  },
  {
   "cell_type": "code",
   "execution_count": 25,
   "metadata": {},
   "outputs": [
    {
     "data": {
      "text/plain": [
       "<Graph identifier=Ncdf01888ef464b938696c8343b466e37 (<class 'rdflib.graph.Graph'>)>"
      ]
     },
     "execution_count": 25,
     "metadata": {},
     "output_type": "execute_result"
    }
   ],
   "source": [
    "g = Graph()\n",
    "## Modify the path if necessary \n",
    "g.parse(\"./results/gazetters_scotland.ttl\", format=\"ttl\") "
   ]
  },
  {
   "cell_type": "markdown",
   "metadata": {},
   "source": [
    "Query 1: List all the resources with the property nls:editor in the LadiesDebating-KG "
   ]
  },
  {
   "cell_type": "code",
   "execution_count": 26,
   "metadata": {},
   "outputs": [
    {
     "name": "stdout",
     "output_type": "stream",
     "text": [
      "https://w3id.org/nls/i/Serie/9910440713804340\n",
      "https://w3id.org/nls/i/Serie/9928112733804340\n",
      "https://w3id.org/nls/i/Serie/9933057493804340\n",
      "https://w3id.org/nls/i/Serie/9928151783804340\n",
      "https://w3id.org/nls/i/Serie/9928228793804340\n",
      "https://w3id.org/nls/i/Serie/9930626093804340\n",
      "https://w3id.org/nls/i/Serie/9931003343804340\n",
      "https://w3id.org/nls/i/Serie/9931344573804340\n",
      "https://w3id.org/nls/i/Serie/9931344933804340\n",
      "https://w3id.org/nls/i/Serie/9931344563804340\n",
      "https://w3id.org/nls/i/Serie/9931344583804340\n",
      "https://w3id.org/nls/i/Serie/9931344953804340\n"
     ]
    }
   ],
   "source": [
    "nls = Namespace(\"https://w3id.org/nls#\")\n",
    "\n",
    "q1 = prepareQuery('''\n",
    "  SELECT ?Serie WHERE { \n",
    "    ?Serie nls:editor ?FullName. \n",
    "  }\n",
    "  ''',\n",
    "  initNs = { \"nls\": nls}\n",
    ")\n",
    "\n",
    "\n",
    "for r in g.query(q1):\n",
    "      print(r.Serie)"
   ]
  },
  {
   "cell_type": "markdown",
   "metadata": {},
   "source": [
    "Query 2: Same query but asking more information about the resources obtained. "
   ]
  },
  {
   "cell_type": "code",
   "execution_count": 27,
   "metadata": {},
   "outputs": [
    {
     "name": "stdout",
     "output_type": "stream",
     "text": [
      "https://w3id.org/nls/i/Serie/9910440713804340 https://w3id.org/nls/i/Person/ChambersWilliam\n",
      "https://w3id.org/nls/i/Serie/9928112733804340 https://w3id.org/nls/i/Person/WilsonJohnMarius\n",
      "https://w3id.org/nls/i/Serie/9933057493804340 https://w3id.org/nls/i/Person/WilsonJohnMarius\n",
      "https://w3id.org/nls/i/Serie/9928151783804340 https://w3id.org/nls/i/Person/LewisSamuel\n",
      "https://w3id.org/nls/i/Serie/9928228793804340 https://w3id.org/nls/i/Person/GroomeFrancisHindes\n",
      "https://w3id.org/nls/i/Serie/9930626093804340 https://w3id.org/nls/i/Person/GroomeFrancisHindes\n",
      "https://w3id.org/nls/i/Serie/9931003343804340 https://w3id.org/nls/i/Person/ScotlandAppendixDescriptionsTopographyandTravels\n",
      "https://w3id.org/nls/i/Serie/9931344573804340 https://w3id.org/nls/i/Person/ScotlandAppendixDescriptionsTopographyandTravels\n",
      "https://w3id.org/nls/i/Serie/9931344933804340 https://w3id.org/nls/i/Person/ScotlandAppendixDescriptionsTopographyandTravels\n",
      "https://w3id.org/nls/i/Serie/9931344563804340 https://w3id.org/nls/i/Person/ScotlandAppendixDescriptionsTopographyTravels\n",
      "https://w3id.org/nls/i/Serie/9931344583804340 https://w3id.org/nls/i/Person/ScotlandAppendixDescriptionsTopographyTravels\n",
      "https://w3id.org/nls/i/Serie/9931344953804340 https://w3id.org/nls/i/Person/ScotlandAppendixDescriptionsTopographyTravels\n"
     ]
    }
   ],
   "source": [
    "q2 = prepareQuery('''\n",
    "  SELECT ?Subject ?Editor WHERE { \n",
    "    ?Subject nls:editor ?Editor.\n",
    "  } \n",
    "  ''',\n",
    "  initNs = { \"nls\": nls}\n",
    ")\n",
    "\n",
    "for r in g.query(q2):\n",
    "  print(r.Subject, r.Editor)"
   ]
  },
  {
   "cell_type": "markdown",
   "metadata": {},
   "source": [
    "Query 3: Obtaining just the editors names"
   ]
  },
  {
   "cell_type": "code",
   "execution_count": 28,
   "metadata": {},
   "outputs": [
    {
     "name": "stdout",
     "output_type": "stream",
     "text": [
      "Chambers, William\n",
      "Lewis, Samuel\n",
      "Groome, Francis Hindes\n",
      "Wilson, John Marius.\n",
      "Scotland. [Appendix. - Descriptions, Topography & Travels.]\n",
      "Scotland. [Appendix. - Descriptions, Topography and Travels.]\n"
     ]
    }
   ],
   "source": [
    "q3= prepareQuery('''\n",
    "SELECT DISTINCT ?name\n",
    "    WHERE {\n",
    "     ?instance nls:editor ?Editor.\n",
    "     ?Editor nls:name ?name .\n",
    "    }\n",
    "    ''',\n",
    "  initNs = { \"nls\": nls}\n",
    ")\n",
    "\n",
    "for r in g.query(q3):\n",
    "      print(r.name)"
   ]
  },
  {
   "cell_type": "code",
   "execution_count": 29,
   "metadata": {},
   "outputs": [
    {
     "data": {
      "text/plain": [
       "rdflib.term.Literal('Chambers, William', datatype=rdflib.term.URIRef('http://www.w3.org/2001/XMLSchema#string'))"
      ]
     },
     "execution_count": 29,
     "metadata": {},
     "output_type": "execute_result"
    }
   ],
   "source": [
    "res=g.query(q3)\n",
    "a=list(res)[0]\n",
    "a.name"
   ]
  },
  {
   "cell_type": "markdown",
   "metadata": {},
   "source": [
    "Query 4: Same query asking for the first 10 resources with the properity nls.name"
   ]
  },
  {
   "cell_type": "code",
   "execution_count": 30,
   "metadata": {},
   "outputs": [
    {
     "name": "stdout",
     "output_type": "stream",
     "text": [
      "https://w3id.org/nls/i/Person/ChambersWilliam Chambers, William\n",
      "https://w3id.org/nls/i/Person/ECJack E.C. Jack\n",
      "https://w3id.org/nls/i/Person/FRay F. Ray\n",
      "https://w3id.org/nls/i/Person/JStark J. Stark\n",
      "https://w3id.org/nls/i/Person/LewisSamuel Lewis, Samuel\n",
      "https://w3id.org/nls/i/Person/SLewisandCo S. Lewis and Co.\n",
      "https://w3id.org/nls/i/Person/TC T.C.\n",
      "https://w3id.org/nls/i/Person/TCJack T.C. Jack\n",
      "https://w3id.org/nls/i/Person/WChalmers W. Chalmers\n",
      "https://w3id.org/nls/i/Person/AFullarton A. Fullarton\n"
     ]
    }
   ],
   "source": [
    "q4 = prepareQuery('''\n",
    "  SELECT ?Subject ?Name WHERE { \n",
    "    ?Subject nls:name ?Name.\n",
    "  } \n",
    "  LIMIT 10\n",
    "  ''',\n",
    "  initNs = { \"nls\": nls}\n",
    ")\n",
    "\n",
    "for r in g.query(q4):\n",
    "    print(r.Subject, r.Name)"
   ]
  },
  {
   "cell_type": "markdown",
   "metadata": {},
   "source": [
    "Query 5: Obtain the resources titles which have been printed in Glasgow"
   ]
  },
  {
   "cell_type": "code",
   "execution_count": 31,
   "metadata": {},
   "outputs": [
    {
     "name": "stdout",
     "output_type": "stream",
     "text": [
      "Ordnance gazetteer of Scotland,1883\n",
      "Ordnance gazetteer of Scotland,1901\n",
      "Descriptive account of the principal towns in Scotland: to accompany Wood's town atlas,1828\n",
      "gazetteer of Scotland: containing a particular and concise description of the counties, parishes, islands, cities ... With ... map,1806\n",
      "Gazetteer of Scotland; arranged under the various descriptions of counties, parishes, islands,1825\n",
      "topographical, statistical, and historical gazetteer of Scotland,1848\n",
      "Gazetteer of Scotland,1882\n"
     ]
    }
   ],
   "source": [
    "from rdflib import XSD\n",
    "q5 = prepareQuery('''\n",
    "SELECT ?name ?place\n",
    "WHERE {\n",
    " ?Subject nls:printedAt ?place;\n",
    "          nls:title ?name.\n",
    "}\n",
    "\n",
    "  ''',\n",
    "  initNs = { \"nls\": nls}\n",
    ")\n",
    "\n",
    "for r in g.query(q5, initBindings = {'?place' : Literal('Edinburgh', datatype=XSD.string)}):\n",
    "    print(r.name)"
   ]
  },
  {
   "cell_type": "markdown",
   "metadata": {},
   "source": [
    "Query 7: Asking for resources which genre is periodical"
   ]
  },
  {
   "cell_type": "code",
   "execution_count": 32,
   "metadata": {},
   "outputs": [],
   "source": [
    "from rdflib import XSD\n",
    "q7 = prepareQuery('''\n",
    "  SELECT ?Subject WHERE { \n",
    "    ?Subject nls:genre ?Genre.\n",
    "  } \n",
    "  ''',\n",
    "    initNs = { \"nls\": nls}\n",
    ")\n",
    "\n",
    "for r in g.query(q7, initBindings = {'?Genre' : Literal('periodical', datatype=XSD.string)}):\n",
    "  print(r.Subject)"
   ]
  },
  {
   "cell_type": "markdown",
   "metadata": {},
   "source": [
    "Query 8: Counting the number of \"Serie\" resources"
   ]
  },
  {
   "cell_type": "code",
   "execution_count": 14,
   "metadata": {},
   "outputs": [
    {
     "name": "stdout",
     "output_type": "stream",
     "text": [
      "12\n"
     ]
    }
   ],
   "source": [
    "q8 = prepareQuery('''\n",
    "    SELECT ?serie\n",
    "    WHERE {\n",
    "       ?serie rdf:type nls:Serie .\n",
    "    }\n",
    "    ''',\n",
    "  initNs = { \"nls\": nls}\n",
    ")\n",
    "\n",
    "print(len(g.query(q8)))\n"
   ]
  },
  {
   "cell_type": "markdown",
   "metadata": {},
   "source": [
    "q8bis:Obtaining Series URIS and collection name"
   ]
  },
  {
   "cell_type": "code",
   "execution_count": 15,
   "metadata": {},
   "outputs": [
    {
     "name": "stdout",
     "output_type": "stream",
     "text": [
      "https://w3id.org/nls/i/Serie/9910440713804340 Gazetteers of Scotland\n",
      "https://w3id.org/nls/i/Serie/9928112733804340 Gazetteers of Scotland\n",
      "https://w3id.org/nls/i/Serie/9928151783804340 Gazetteers of Scotland\n",
      "https://w3id.org/nls/i/Serie/9928228793804340 Gazetteers of Scotland\n",
      "https://w3id.org/nls/i/Serie/9930626093804340 Gazetteers of Scotland\n",
      "https://w3id.org/nls/i/Serie/9931003343804340 Gazetteers of Scotland\n",
      "https://w3id.org/nls/i/Serie/9931344563804340 Gazetteers of Scotland\n",
      "https://w3id.org/nls/i/Serie/9931344573804340 Gazetteers of Scotland\n",
      "https://w3id.org/nls/i/Serie/9931344583804340 Gazetteers of Scotland\n",
      "https://w3id.org/nls/i/Serie/9931344933804340 Gazetteers of Scotland\n",
      "https://w3id.org/nls/i/Serie/9931344953804340 Gazetteers of Scotland\n",
      "https://w3id.org/nls/i/Serie/9933057493804340 Gazetteers of Scotland\n"
     ]
    }
   ],
   "source": [
    "q8 = prepareQuery('''\n",
    "    SELECT ?serie ?collection\n",
    "    WHERE {\n",
    "       ?serie rdf:type nls:Serie .\n",
    "       ?serie nls:collection ?collection .\n",
    "    }\n",
    "    ''',\n",
    "  initNs = { \"nls\": nls}\n",
    ")\n",
    "\n",
    "for r in g.query(q8):\n",
    "    print(r.serie, r.collection)"
   ]
  },
  {
   "cell_type": "markdown",
   "metadata": {},
   "source": [
    "q8c: Obtaining the number of volumes"
   ]
  },
  {
   "cell_type": "code",
   "execution_count": 16,
   "metadata": {},
   "outputs": [
    {
     "name": "stdout",
     "output_type": "stream",
     "text": [
      "21\n"
     ]
    }
   ],
   "source": [
    "q8 = prepareQuery('''\n",
    "    SELECT ?serie\n",
    "    WHERE {\n",
    "       ?volume rdf:type nls:Volume .\n",
    "    }\n",
    "    ''',\n",
    "  initNs = { \"nls\": nls}\n",
    ")\n",
    "\n",
    "print(len(g.query(q8)))"
   ]
  },
  {
   "cell_type": "markdown",
   "metadata": {},
   "source": [
    "q8d: Obtaining the volumes Uris"
   ]
  },
  {
   "cell_type": "code",
   "execution_count": 17,
   "metadata": {},
   "outputs": [
    {
     "name": "stdout",
     "output_type": "stream",
     "text": [
      "https://w3id.org/nls/i/Volume/9910440713804340_97424370 gazetteer of Scotland. [With plates and maps.] 1838, Volume 1\n",
      "https://w3id.org/nls/i/Volume/9910440713804340_97430830 gazetteer of Scotland. [With plates and maps.] 1838, Volume 2\n",
      "https://w3id.org/nls/i/Volume/9928112733804340_97459138 imperial gazetteer of Scotland; or, Dictionary of Scottish topography, compiled from the most recent authorities, and forming a complete body of Scottish geography, physical, statistical, and historical 1868, Volume 1\n",
      "https://w3id.org/nls/i/Volume/9928112733804340_97470686 imperial gazetteer of Scotland; or, Dictionary of Scottish topography, compiled from the most recent authorities, and forming a complete body of Scottish geography, physical, statistical, and historical 1868, Volume 2\n",
      "https://w3id.org/nls/i/Volume/9928151783804340_97361137 topographical dictionary of Scotland 1846, Volume 2\n",
      "https://w3id.org/nls/i/Volume/9928151783804340_97482042 topographical dictionary of Scotland 1846, Volume 1\n",
      "https://w3id.org/nls/i/Volume/9928228793804340_97368774 Ordnance gazetteer of Scotland 1884-1885, Volume 1\n",
      "https://w3id.org/nls/i/Volume/9928228793804340_97372786 Ordnance gazetteer of Scotland 1884-1885, Volume 2\n",
      "https://w3id.org/nls/i/Volume/9928228793804340_97376462 Ordnance gazetteer of Scotland 1884-1885, Volume 3\n",
      "https://w3id.org/nls/i/Volume/9928228793804340_97380354 Ordnance gazetteer of Scotland 1884-1885, Volume 4\n",
      "https://w3id.org/nls/i/Volume/9928228793804340_97383958 Ordnance gazetteer of Scotland 1884-1885, Volume 5\n",
      "https://w3id.org/nls/i/Volume/9928228793804340_97387610 Ordnance gazetteer of Scotland 1884-1885, Volume 6\n",
      "https://w3id.org/nls/i/Volume/9930626093804340_97393254 Ordnance gazetteer of Scotland 1901\n",
      "https://w3id.org/nls/i/Volume/9931003343804340_97343436 gazetteer of Scotland 1803\n",
      "https://w3id.org/nls/i/Volume/9931344563804340_97350713 Descriptive account of the principal towns in Scotland: to accompany Wood's town atlas 1828\n",
      "https://w3id.org/nls/i/Volume/9931344573804340_97414570 gazetteer of Scotland: containing a particular and concise description of the counties, parishes, islands, cities ... With ... map 1806\n",
      "https://w3id.org/nls/i/Volume/9931344583804340_97421702 Gazetteer of Scotland; arranged under the various descriptions of counties, parishes, islands 1825?\n",
      "https://w3id.org/nls/i/Volume/9931344933804340_97437554 topographical, statistical, and historical gazetteer of Scotland 1842, Volume 1\n",
      "https://w3id.org/nls/i/Volume/9931344933804340_97493971 topographical, statistical, and historical gazetteer of Scotland 1842, Volume 2\n",
      "https://w3id.org/nls/i/Volume/9931344953804340_97448598 topographical, statistical, and historical gazetteer of Scotland 1848, Volume 2\n",
      "https://w3id.org/nls/i/Volume/9933057493804340_97355229 Gazetteer of Scotland 1882\n"
     ]
    }
   ],
   "source": [
    "q8 = prepareQuery('''\n",
    "    SELECT ?volume ?title\n",
    "    WHERE {\n",
    "       ?volume rdf:type nls:Volume .\n",
    "       ?volume nls:title ?title .\n",
    "    }\n",
    "    ''',\n",
    "  initNs = { \"nls\": nls}\n",
    ")\n",
    "\n",
    "for r in g.query(q8):\n",
    "    print(r.volume, r.title)"
   ]
  },
  {
   "cell_type": "markdown",
   "metadata": {},
   "source": [
    "Query to obtain the number of volumes per serie. And also printing the title of the serie. "
   ]
  },
  {
   "cell_type": "code",
   "execution_count": 35,
   "metadata": {},
   "outputs": [
    {
     "name": "stdout",
     "output_type": "stream",
     "text": [
      " Serie Uri: https://w3id.org/nls/i/Serie/9910440713804340 , Serie Title: gazetteer of Scotland. [With plates and maps.],1838, Num volume 2\n",
      " Serie Uri: https://w3id.org/nls/i/Serie/9928112733804340 , Serie Title: imperial gazetteer of Scotland; or, Dictionary of Scottish topography, compiled from the most recent authorities, and forming a complete body of Scottish geography, physical, statistical, and historical,1868, Num volume 2\n",
      " Serie Uri: https://w3id.org/nls/i/Serie/9928151783804340 , Serie Title: topographical dictionary of Scotland,1846, Num volume 2\n",
      " Serie Uri: https://w3id.org/nls/i/Serie/9928228793804340 , Serie Title: Ordnance gazetteer of Scotland,1883, Num volume 6\n",
      " Serie Uri: https://w3id.org/nls/i/Serie/9930626093804340 , Serie Title: Ordnance gazetteer of Scotland,1901, Num volume 1\n",
      " Serie Uri: https://w3id.org/nls/i/Serie/9931003343804340 , Serie Title: gazetteer of Scotland,1803, Num volume 1\n",
      " Serie Uri: https://w3id.org/nls/i/Serie/9931344563804340 , Serie Title: Descriptive account of the principal towns in Scotland: to accompany Wood's town atlas,1828, Num volume 1\n",
      " Serie Uri: https://w3id.org/nls/i/Serie/9931344573804340 , Serie Title: gazetteer of Scotland: containing a particular and concise description of the counties, parishes, islands, cities ... With ... map,1806, Num volume 1\n",
      " Serie Uri: https://w3id.org/nls/i/Serie/9931344583804340 , Serie Title: Gazetteer of Scotland; arranged under the various descriptions of counties, parishes, islands,1825, Num volume 1\n",
      " Serie Uri: https://w3id.org/nls/i/Serie/9931344933804340 , Serie Title: topographical, statistical, and historical gazetteer of Scotland,1842, Num volume 2\n",
      " Serie Uri: https://w3id.org/nls/i/Serie/9931344953804340 , Serie Title: topographical, statistical, and historical gazetteer of Scotland,1848, Num volume 1\n",
      " Serie Uri: https://w3id.org/nls/i/Serie/9933057493804340 , Serie Title: Gazetteer of Scotland,1882, Num volume 1\n"
     ]
    }
   ],
   "source": [
    "q8 = prepareQuery('''\n",
    "    SELECT ?serie ?title ?nv\n",
    "    WHERE {\n",
    "       ?serie rdf:type nls:Serie .\n",
    "       ?serie nls:title ?title .\n",
    "       ?serie nls:numberOfVolumes ?nv .\n",
    "     }\n",
    "    ''',\n",
    "  initNs = { \"nls\": nls}\n",
    ")\n",
    "\n",
    "for r in g.query(q8):\n",
    "    print(\" Serie Uri: %s , Serie Title: %s, Num volume %s\" %(r.serie, r.title, r.nv))"
   ]
  },
  {
   "cell_type": "markdown",
   "metadata": {},
   "source": [
    "Query 9: Priting the first 10 \"Pages\" uris"
   ]
  },
  {
   "cell_type": "code",
   "execution_count": 19,
   "metadata": {},
   "outputs": [
    {
     "name": "stdout",
     "output_type": "stream",
     "text": [
      "https://w3id.org/nls/i/Page/9910440713804340_97424370_1\n",
      "https://w3id.org/nls/i/Page/9910440713804340_97424370_10\n",
      "https://w3id.org/nls/i/Page/9910440713804340_97424370_100\n",
      "https://w3id.org/nls/i/Page/9910440713804340_97424370_101\n",
      "https://w3id.org/nls/i/Page/9910440713804340_97424370_102\n",
      "https://w3id.org/nls/i/Page/9910440713804340_97424370_103\n",
      "https://w3id.org/nls/i/Page/9910440713804340_97424370_104\n",
      "https://w3id.org/nls/i/Page/9910440713804340_97424370_105\n",
      "https://w3id.org/nls/i/Page/9910440713804340_97424370_106\n",
      "https://w3id.org/nls/i/Page/9910440713804340_97424370_107\n"
     ]
    }
   ],
   "source": [
    "q9 = prepareQuery('''\n",
    "    SELECT ?page\n",
    "    WHERE {\n",
    "       ?page rdf:type nls:Page .\n",
    "    }\n",
    "    LIMIT 10\n",
    "    ''',\n",
    "  initNs = { \"nls\": nls}\n",
    ")\n",
    "\n",
    "for r in g.query(q9):\n",
    "    print(r.page)"
   ]
  },
  {
   "cell_type": "markdown",
   "metadata": {},
   "source": [
    "Query 10: Otaining the text and the page-number of the first 10 pages"
   ]
  },
  {
   "cell_type": "code",
   "execution_count": 68,
   "metadata": {},
   "outputs": [
    {
     "name": "stdout",
     "output_type": "stream",
     "text": [
      "---\n",
      " 1\n",
      "---\n",
      "~M. :25 o '-a % 1955 A^ 10\n",
      "---\n",
      "72 A Y T N. traders with Glasgow, Greenock, Liverpool, and the Isle of Man. There is a regular daily communication by coaches with Glasgow and Edinburgh. Ayr supports a single news Daper called the Ayr Advertiser, which is published weekly, on Thursday. The town possesses two native banking establishments and a branch of the Bank of Scotland. The streets and shops are lighted by gas, which is manufactured by a joint-stock company established in 1826. Ayr has a small, neat theatre, which is opened occasionally. There are annual horse-races, which are generally good, and attract spectators and visitors from a very great distance. The excellence of the races, we believe, has in a great measure to be attributed to the exertions of the \" Western meeting.\" The Caledonian Hunt sometimes meets here, and there is a subscription pack of harriers kept by a number of gentlemen in the town and neighbourhood. The Ayr troop of yeomanry cavalry, not having been disbanded, musters here annually. Besides the church built in 1654, which is a plain Gothic edifice, standing a little way above the old bridge, in the midst of the parochial burying-ground, there is a more modern church in the town at the front of the old sort, near the tower of St. John's. The charge of these places of worship is collegiate ; the clergyman who officiates in the one cburch in the forenoon, performing the service m the other in the afternoon. There are three meeting-houses of presbyterian dissenters, one of methodists, one of moravians, and one of independents, and a Roman Catholic chapel ; but some of these are built on the opposite side of the river, in the district of Newton-upon-Ayr. Ayr is the seat of a presbytery of the established church. The fast days of the kirk are the Thursdays before the fourth Sundays of April and September. Ayr has numerous charitable institutions. There is a poor-house of great utility, assisted by funds and donations. There is a sailors' society, on the principles of a friendly institution, which was establishedin 1581. A merchant society, instituted in 1655 has a fund for decayed members, widows, and orphans. On the scheme of a wide and mutual friendly association, there is the Ayr Universal Society, which is of much benefit. Besides these usefid institutions, there is an establishment of great value, called the Ayr, Newton, and Wallacetown Dispensary, which was institued in 1817, for dispensing medicine and medical advice to the indigent sick, and inoculating children. Subscribers paying annually 10s. 6d. each, are entitled to recommend one patient successively. It is under a committee of management. The town has an excellent and extensive subscription library. Several years ago a very excellent mechanics' institution with a library, was established, which isnowina flourishing condition, and is of great benefit to the working and other classes. As a royal burgh, Ayr is governed by a provost, two bailies, a dean of guild, a treasurer, and ten merchant and two trades councillors. There are nine incorporated trades. We find that prior to 1507, the bailies of Ayr were called aldermen, which was the case with the magistrates of several other towns. The burgh joins with Irvine, Rothesay, Inverary, and Campbelton, in electing a member of parliament. Ayr is a town in which the Circuit Court of Justiciary is held. The town has a good weekly market on Friday, with a subordinate one on Tuesday. A cattle market is held on the latter day, and there are three annnal fairs. The inhabitants of this ancient provincial town are characterized as being of a liberal temperament, hospitable, and intelligent Of late there has been an influx of economising landed proprietors into the town, who form a sort of aristocracy, and give an air of fashion to the place. At present ex • tensive improvements are carrying on, which promise, ere long, to leave few traces of \" A.uld Ayr,\" though we believe the town is still as remarkable, as in the days of Bums, for \" honest men and bonnie lasses.\" Population of the burgh and parish in 1821, 7455. AYR, (NEWTON UPON) a parish and town in Ayrshire, lying on the right bank of the river of Ayr, opposite the above town of Ayr. See Newton-upon-Ayr. A YTON, a parish in Berwickshire, bounded by Mordington and Foulden on the south, and Coldingham on the north, and watered by the river Eye, from which it takes its name In length it extends about four and a half miles, by nearly four in breadth. It has about two miles of sea-coast. Within the last forty years the improvements in the district have been great. There are now some remarkably fine plantations, especially on the estate of Ayton, and the lands are well cultivated and enclosed. The adjacent ports of Eyemouth and Berwick 100\n",
      "---\n",
      "B A D E NO C H. 73 afford ready means of exporting produce. There is a paper manufactory in the parish. The village of Ayton occupies a delightful situation on the left bank of the Eye, on the high road between London and Edinburgh, forty-nine miles east south-east of the latter, and eight north-west of Berwick. It has a Secession meeting-house. There was formerly a small sort at Ayton, which was taken by the Earl of Surrey, in 1498. A seven years truce, between the Scots and English was soon after signed within the parish church of Ayton, on the southbank of the river. Several vestiges of Roman encampments are shown in the parish. —Population in 1821, 1481. BADEAT, (LOCH) a small arm of the sea at Edderachylis, with some islands opposite its entrance, en the south-west coast of Sutherla:idshire. BADENOCH, a district in Invernessshire, so called from a word signifying bushy, being a territory originally, and still in some places, covered with natural forests, and all the other characteristics of a rough uncultivated country. It extends thirty-three miles in length, by twsnty-seven in breadth, from about Loch Lochy, the mid lake of the Caledonian Canal, in an easterly direction, till it is hemmed in by the braes of Aberdeen and Moray. On the south and west it is bounded by Athole and Lochaber, and on the north by Inverness and Nairn. It is nearly altogether mountainous and of a meagre population. Badenoch was in early times a lordship of the Cummins. After their forfeiture, Robert Bruce comprehended it in the earldom of Moray, from which it was detached by Robert II., who gave it to his son Alexander, (the famed Wolf of Badenoch), and, his issue sailing, it remained in the crown till 1452, when it was granted to the Earl of Huntly. BAHAASH ISLAND, an islet lying off. the south-east point of North Uist. BA HIRAVAH, a sound on the east side of Barra. BAINSFORD.—See Brainsford. BALB1RNIE BURNS, a small village in the parish of Markinch, county of Fife, now in course of extinction for the purpose of adding to the policy of General Balfour. It may here be noticed as a piece of information applicable to a number of the ensuing heads, that Bal in Celtic signifies a village or town; wherefore, it may be generally understood that all places having this for the initial syllable of their names, are of a date at least coeval with the possession of that part of the country bv the Celts. The word is still more common in Ireland than in Scotland. BALCARRAS, an estate with a large and elegant mansion-house, in the neighbourhood ' of Colinsburgh, parish of Kilconquhar, county of Fife, a short way north-west of Ely. The estate of Balcarras has been for many centuries the property of a branch of \" The Lindsays light and gay,\" which was first raised to the degree of Lords, and afterwards to the title of Earls of Balcarras, in the seventeenth century, by Charles I. and II. BAL CARRY, a small bay off the southwest side of the large bay of Achencairn, coast of Kirkcudbright. BALCHRISTIE, (interpreted by some the town of the Christians,') formerly a village in the parish of Newburn and county of Fife, at the head of Largo bay. It is said to be built on the site and ruined foundation of a monastic institution of the Culdees, who here first planted Christianity in Scotland. BALDERNOCK, (anciently Batherrwch, from a barony of that name in the district), a parish on the southern extremity of Stirlingshire, where it is bounded by the river Kelvin, which runs from thence towards the Clyde. On the south-west lies the loch of Burdowie, about seventy acres in extent. Upon a high ground, at the north-west corner of the parish, stands an old ruinous tower, being all that now remains of the house of the Galbraiths of Bathernock, a fabric at one time of great magnitude. This parish abounds in 101\n",
      "---\n",
      "74 BALL ANTRA E. cairns, and similar memorials of the strife practised by our early forefathers. The most remarkable of its antiquities is a structure called the Auld wife's list, which stands on a flat piece of ground, surrounded by an ascent of a few yards in height, in the form of an amphitheatre, on a high ground. It consists of three stones, two of which are laid on the earth close by the side of each other ; and upon the top of these the third is placed in the same direction, with their ends pointing north and south. The two undermost are of a prismatical shape ; but the uppermost seems to have been a regular parallelopiped, and still approaches that figure. The whole are eighteen feet in length, by eleven in breadth, and seven in depth. They lie parallel with the horizon, but inclining a little to the north ; the upper surface is pretty level. Owing to the prismatic shape of the two undermost, there is a triangular opening between them and the upper, of about three feet in depth, and somewhat wider. Through this opening superstition once directed that every stranger who visited the place for the first time, should creep, for the purpose of averting the sad calamity of dying childless. In the surrounding ground the roots and stumps of oak trees have been dug up, and there can be no doubt of this having once been a Druidic grove, and place of worship. —Population in 1821, 892. BALESHARE ISLAND, a small island off the south-west corner of North Uist. BALERNO, a village in the parish of Currie, county of Mid-Lothian, on the water of Leith, about six miles west from Edinburgh ; at which there are some mills for the manufacture of coarse paper, and a freestone quarry. BALFRON, a parish in the western part of Stirlingshire, west of the Campsie hills ; on the banks of the Endrick, a river running westward to Lochlomond ; bounded on the north by Dryinen and Kippin, and on the east by Gargunnock and Fintry. The village is situated on the declivity of a hill, and is clean and neatly built. It is distant nineteen miles north from Glasgow, and the same from Stirling. The Ballindalloch cotton mills, in the vicinity, give employment to a vast number of hands. A considerable number of weavers of cottons are also employed in the village for the Glasgow manufacturers. Besides the parish church there are two dissenting meeting-houses. —Population in 1821, 2041. 4. BALGAY, a hill and a rivulet flowing from it of the same name, near the town of Dundee. BALLACHULISH, BALAHULISH, or BALLYCHELISH, a sea-port village, mostly of modem erection, in Argyleshire, in the district and parish of Appin, on the borders of Loch Leven, which is an arm of Loch Linnhe stretching to the east. This place has obtained a considerable celebrity from its extensive quarries of slate for house roofing.* Its slates are exported to everyplace on the west as well as the east coast of Scotland, by means of the Caledonian and Forth and Clyde canals. From Ballahulish to the opposite side of Loch Leven, in the shire of Inverness, there is a regular ferry. BALLATER, a modern village, in Aberdeenshire, parish of Glenmuick. —See Glenmuick. BALLANDALLOCH, a post-town m Morayshire, on the river Spey. BALLANTRAE, a parish in the southern nook of the district of Carrick, Ayrshire, nearly ten miles square, bounded on the north by Colmonell, and on the west by the sea. It is a wild district of country with a bold rocky coast, and veiy little penetrated with roads. The river Stinchar or Ardstinchar runs into the sea, at the village of Ballantrae. Anciently the name of this parish was Kirk-cuthbert, or Kirkcudbright, a title also bestowed on some other parishes in Scotland, from the church being dedicated to St. Cuthbert. To distinguish it, however, from places of the same name, it was given the cumbrous designation of Kirk-cuthbert Inver-Tig, from the place of worship being situated on the efflux of a small rivulet called the Tig into the Stinchar. In the course of time a new village was reared on the shore, and, in the Scoto-Irish tongue, called Bail-an-trae', the town on the shore. This little town rose into the character of a barony under the patronage of the Lords of Bargeny, M r ho were cadets of the noble family of Hamilton, and who had here a fortalice ef considerable strength, the ruins of which picturesquely overhang the village, on the right, near the bridge over the river. The baron having, by his influence, constituted Ballantrae the head town in the parish, the old name was dropped, and the church erected here. Re* There is no slate wrought in Scotland adapted iox school slates. 102\n"
     ]
    }
   ],
   "source": [
    "q10 = prepareQuery('''\n",
    "    SELECT *\n",
    "    WHERE {\n",
    "       ?page rdf:type nls:Page .\n",
    "       ?page nls:text ?text . \n",
    "       ?page nls:number ?number .\n",
    "\n",
    "    }\n",
    "    LIMIT 5\n",
    "    ''',\n",
    "  initNs = { \"nls\": nls}\n",
    ")\n",
    "\n",
    "for r in g.query(q10):\n",
    "    print(\"---\")\n",
    "    print(r.text, r.number)"
   ]
  },
  {
   "cell_type": "markdown",
   "metadata": {},
   "source": [
    "Query 11: Obtaining the title of the first 10 resources "
   ]
  },
  {
   "cell_type": "code",
   "execution_count": 69,
   "metadata": {},
   "outputs": [
    {
     "name": "stdout",
     "output_type": "stream",
     "text": [
      "gazetteer of Scotland. [With plates and maps.],1838\n",
      "imperial gazetteer of Scotland; or, Dictionary of Scottish topography, compiled from the most recent authorities, and forming a complete body of Scottish geography, physical, statistical, and historical,1868\n",
      "topographical dictionary of Scotland,1846\n",
      "Ordnance gazetteer of Scotland,1883\n",
      "Ordnance gazetteer of Scotland,1901\n",
      "gazetteer of Scotland,1803\n",
      "Descriptive account of the principal towns in Scotland: to accompany Wood's town atlas,1828\n",
      "gazetteer of Scotland: containing a particular and concise description of the counties, parishes, islands, cities ... With ... map,1806\n",
      "Gazetteer of Scotland; arranged under the various descriptions of counties, parishes, islands,1825\n",
      "topographical, statistical, and historical gazetteer of Scotland,1842\n"
     ]
    }
   ],
   "source": [
    "q11 = prepareQuery('''\n",
    "  SELECT ?serie ?title\n",
    "    WHERE {\n",
    "    ?serie rdf:type nls:Serie .\n",
    "    ?serie nls:title ?title .\n",
    "    }\n",
    "    LIMIT 10\n",
    "    ''',\n",
    "  initNs = { \"nls\": nls}\n",
    ")\n",
    "\n",
    "for r in g.query(q11):\n",
    "      print(r.title)"
   ]
  },
  {
   "cell_type": "markdown",
   "metadata": {},
   "source": [
    "Query 12: Obtaining each serie number, serie year, serie mmsid, serie language "
   ]
  },
  {
   "cell_type": "code",
   "execution_count": 70,
   "metadata": {},
   "outputs": [
    {
     "name": "stdout",
     "output_type": "stream",
     "text": [
      "gazetteer of Scotland. [With plates and maps.],1838 0\n",
      "imperial gazetteer of Scotland; or, Dictionary of Scottish topography, compiled from the most recent authorities, and forming a complete body of Scottish geography, physical, statistical, and historical,1868 0\n",
      "topographical dictionary of Scotland,1846 comprising the several counties, islands, cities, burgh and market towns, parishes, and principal villages : with historical and statistical descriptions : embellished with a large map of Scotland, and engravings of the seals and arms of the different burghs and universities\n",
      "Ordnance gazetteer of Scotland,1883 a survey of Scottish topography, statistical, biographical, and historical\n",
      "Ordnance gazetteer of Scotland,1901 a graphic and accurate description of every place in Scotland\n",
      "gazetteer of Scotland,1803 containing a particular and concise description of the counties, parishes, islands, cities ... With an account of the political constitution ... illustrated with an elegant map\n",
      "Descriptive account of the principal towns in Scotland: to accompany Wood's town atlas,1828 0\n",
      "gazetteer of Scotland: containing a particular and concise description of the counties, parishes, islands, cities ... With ... map,1806 0\n",
      "Gazetteer of Scotland; arranged under the various descriptions of counties, parishes, islands,1825 0\n",
      "topographical, statistical, and historical gazetteer of Scotland,1842 0\n",
      "topographical, statistical, and historical gazetteer of Scotland,1848 0\n",
      "Gazetteer of Scotland,1882 0\n"
     ]
    }
   ],
   "source": [
    "q12 = prepareQuery('''\n",
    "SELECT ?enum ?s ?y ?nv ?mmsid ?title ?subtitle  ?lang WHERE {\n",
    "       ?s a nls:Serie ;\n",
    "            nls:number ?enum ;\n",
    "            nls:mmsid ?mmsid ; \n",
    "            nls:publicationYear ?y ; \n",
    "            nls:numberOfVolumes ?nv ;\n",
    "            nls:title ?title ;\n",
    "            nls:subtitle ?subtitle ;\n",
    "            nls:language ?lang .\n",
    "               \n",
    "    }\n",
    "''',\n",
    "  initNs = { \"nls\": nls}\n",
    ")\n",
    "\n",
    "for r in g.query(q12):\n",
    "    #print(r.enum, r.y, r.nv, r.mmsid, r.lang, r.title, r.subtitle)\n",
    "    print(r.title, r.subtitle)"
   ]
  },
  {
   "cell_type": "code",
   "execution_count": 71,
   "metadata": {},
   "outputs": [
    {
     "name": "stdout",
     "output_type": "stream",
     "text": [
      "gazetteer of Scotland. [With plates and maps.] 1838, Volume 1\n",
      "gazetteer of Scotland. [With plates and maps.] 1838, Volume 2\n",
      "imperial gazetteer of Scotland; or, Dictionary of Scottish topography, compiled from the most recent authorities, and forming a complete body of Scottish geography, physical, statistical, and historical 1868, Volume 1\n",
      "imperial gazetteer of Scotland; or, Dictionary of Scottish topography, compiled from the most recent authorities, and forming a complete body of Scottish geography, physical, statistical, and historical 1868, Volume 2\n",
      "topographical dictionary of Scotland 1846, Volume 2\n",
      "topographical dictionary of Scotland 1846, Volume 1\n",
      "Ordnance gazetteer of Scotland 1884-1885, Volume 1\n",
      "Ordnance gazetteer of Scotland 1884-1885, Volume 2\n",
      "Ordnance gazetteer of Scotland 1884-1885, Volume 3\n",
      "Ordnance gazetteer of Scotland 1884-1885, Volume 4\n",
      "Ordnance gazetteer of Scotland 1884-1885, Volume 5\n",
      "Ordnance gazetteer of Scotland 1884-1885, Volume 6\n",
      "Ordnance gazetteer of Scotland 1901\n",
      "gazetteer of Scotland 1803\n",
      "Descriptive account of the principal towns in Scotland: to accompany Wood's town atlas 1828\n",
      "gazetteer of Scotland: containing a particular and concise description of the counties, parishes, islands, cities ... With ... map 1806\n",
      "Gazetteer of Scotland; arranged under the various descriptions of counties, parishes, islands 1825?\n",
      "topographical, statistical, and historical gazetteer of Scotland 1842, Volume 1\n",
      "topographical, statistical, and historical gazetteer of Scotland 1842, Volume 2\n",
      "topographical, statistical, and historical gazetteer of Scotland 1848, Volume 2\n",
      "Gazetteer of Scotland 1882\n"
     ]
    }
   ],
   "source": [
    "q12 = prepareQuery('''\n",
    "SELECT ?title WHERE {\n",
    "       ?s a nls:Volume ;\n",
    "            nls:title ?title ;\n",
    "        \n",
    "               \n",
    "    }\n",
    "''',\n",
    "  initNs = { \"nls\": nls}\n",
    ")\n",
    "\n",
    "for r in g.query(q12):\n",
    "    #print(r.enum, r.y, r.nv, r.mmsid, r.lang, r.title, r.subtitle)\n",
    "    print(r.title)"
   ]
  },
  {
   "cell_type": "markdown",
   "metadata": {},
   "source": [
    "Query 13: Obtaining the text of pages, in which appear the string \"Ladies\". "
   ]
  },
  {
   "cell_type": "code",
   "execution_count": 74,
   "metadata": {},
   "outputs": [],
   "source": [
    "q13 = prepareQuery('''\n",
    "SELECT * WHERE {\n",
    "       ?page a nls:Page .\n",
    "       ?page nls:text ?text .\n",
    "      FILTER regex(?text, \"^Scotland\")\n",
    "           }\n",
    "\n",
    "''',\n",
    "  initNs = { \"nls\": nls}\n",
    ")\n",
    "\n",
    "for r in g.query(q13):\n",
    "    print(r)\n",
    "    print(\"---\")"
   ]
  },
  {
   "cell_type": "markdown",
   "metadata": {},
   "source": [
    "Query 14: Counting the number of Volumes"
   ]
  },
  {
   "cell_type": "code",
   "execution_count": 75,
   "metadata": {},
   "outputs": [
    {
     "name": "stdout",
     "output_type": "stream",
     "text": [
      "-Number of Volumes--\n",
      "(rdflib.term.Literal('21', datatype=rdflib.term.URIRef('http://www.w3.org/2001/XMLSchema#integer')),)\n"
     ]
    }
   ],
   "source": [
    "q14 = prepareQuery('''\n",
    "SELECT (COUNT (DISTINCT ?v) as ?count)\n",
    "    WHERE {\n",
    "        ?serie a nls:Serie .\n",
    "        ?serie nls:hasPart ?v .\n",
    "        }\n",
    "\n",
    "''',\n",
    "  initNs = { \"nls\": nls}\n",
    ")\n",
    "\n",
    "for r in g.query(q14):\n",
    "    print(\"-Number of Volumes--\")\n",
    "    print(r)"
   ]
  },
  {
   "cell_type": "markdown",
   "metadata": {},
   "source": [
    "Query 15: Counting the number of Pages"
   ]
  },
  {
   "cell_type": "code",
   "execution_count": 76,
   "metadata": {},
   "outputs": [
    {
     "name": "stdout",
     "output_type": "stream",
     "text": [
      "-Number of PAGES--\n",
      "(rdflib.term.Literal('13088', datatype=rdflib.term.URIRef('http://www.w3.org/2001/XMLSchema#integer')),)\n"
     ]
    }
   ],
   "source": [
    "q15 = prepareQuery('''\n",
    "SELECT (COUNT (DISTINCT ?p) as ?count)\n",
    "    WHERE {\n",
    "        ?volume a nls:Volume .\n",
    "        ?volume nls:hasPart ?p .\n",
    "        }\n",
    "\n",
    "''',\n",
    "  initNs = { \"nls\": nls}\n",
    ")\n",
    "\n",
    "for r in g.query(q15):\n",
    "    print(\"-Number of PAGES--\")\n",
    "    print(r)\n"
   ]
  },
  {
   "cell_type": "markdown",
   "metadata": {},
   "source": [
    "Query 16: Counting the number of Series"
   ]
  },
  {
   "cell_type": "code",
   "execution_count": 77,
   "metadata": {},
   "outputs": [
    {
     "name": "stdout",
     "output_type": "stream",
     "text": [
      "-Number of Series--\n",
      "(rdflib.term.Literal('12', datatype=rdflib.term.URIRef('http://www.w3.org/2001/XMLSchema#integer')),)\n"
     ]
    }
   ],
   "source": [
    "q16 = prepareQuery('''\n",
    "SELECT (COUNT (DISTINCT ?s) as ?count)\n",
    "    WHERE {\n",
    "        ?serie a nls:Serie .\n",
    "        ?serie nls:mmsid ?s .\n",
    "        }\n",
    "\n",
    "''',\n",
    "  initNs = { \"nls\": nls}\n",
    ")\n",
    "\n",
    "for r in g.query(q16):\n",
    "    print(\"-Number of Series--\")\n",
    "    print(r)\n"
   ]
  },
  {
   "cell_type": "markdown",
   "metadata": {},
   "source": [
    "Query 17: Obtaining the uri, year, number of volumes and number of pages of the first 3 series resources"
   ]
  },
  {
   "cell_type": "code",
   "execution_count": 78,
   "metadata": {},
   "outputs": [
    {
     "name": "stdout",
     "output_type": "stream",
     "text": [
      "-Number of Series--\n",
      "https://w3id.org/nls/i/Page/9910440713804340_97424370_1 1838 1 538\n",
      "-Number of Series--\n",
      "https://w3id.org/nls/i/Page/9910440713804340_97424370_10 1838 1 538\n",
      "-Number of Series--\n",
      "https://w3id.org/nls/i/Page/9910440713804340_97424370_100 1838 1 538\n"
     ]
    }
   ],
   "source": [
    "q17 =prepareQuery('''\n",
    "SELECT ?uri ?year ?vnum ?numPages ?numWords\n",
    "        WHERE {\n",
    "        ?uri a nls:Page .\n",
    "        ?uri nls:numberOfWords ?numWords. \n",
    "        ?v nls:hasPart ?uri .\n",
    "        ?v nls:number ?vnum .\n",
    "        ?v nls:numberOfPages ?numPages .\n",
    "        ?e nls:hasPart ?v .\n",
    "        ?e nls:publicationYear ?year.\n",
    "        \n",
    "        }\n",
    "         LIMIT 3\n",
    "        ''',\n",
    "  initNs = { \"nls\": nls}\n",
    ")\n",
    "\n",
    "for r in g.query(q17):\n",
    "    print(\"-Number of Series--\")\n",
    "    print(r.uri, r.year, r.vnum, r.numPages)"
   ]
  },
  {
   "cell_type": "code",
   "execution_count": 79,
   "metadata": {},
   "outputs": [],
   "source": [
    "#G = rdflib_to_networkx_multidigraph(result)\n",
    "\n",
    "# Plot Networkx instance of RDF Graph\n",
    "#pos = nx.spring_layout(G, scale=2)\n",
    "#edge_labels = nx.get_edge_attributes(G, 'r')\n",
    "#nx.draw_networkx_edge_labels(G, pos, edge_labels=edge_labels)\n",
    "#nx.draw(G, with_labels=True)\n",
    "\n",
    "#if not in interactive mode for \n",
    "#plt.show()\n"
   ]
  },
  {
   "cell_type": "markdown",
   "metadata": {},
   "source": [
    "### Type 2: Connecting with FUSEKI and using SPARQLWrapper\n",
    "\n",
    "**Previously the knowlege graph (gazetters_scotland.ttl) needs to be uploaded to Apache Fuseki Server** "
   ]
  },
  {
   "cell_type": "markdown",
   "metadata": {},
   "source": [
    "Query 18: Basic query"
   ]
  },
  {
   "cell_type": "code",
   "execution_count": 80,
   "metadata": {},
   "outputs": [
    {
     "name": "stdout",
     "output_type": "stream",
     "text": [
      "https://w3id.org/nls/i/Page/9930626093804340_97393254_206 http://www.w3.org/1999/02/22-rdf-syntax-ns#type https://w3id.org/nls#Page\n",
      "https://w3id.org/nls/i/Page/9930626093804340_97393254_206 https://w3id.org/nls#altoXML 97393254/alto/97395720.34.xml\n",
      "https://w3id.org/nls/i/Page/9930626093804340_97393254_206 https://w3id.org/nls#text BUCKHOLMSIDE bein£ scared by the footing of the horse. The fishermen of this town have a great many boats of all sizes, vrhich lie upon the beach, ready to be fitted out every year for the herring season, in which they have a very great share. ' Buckhaven now is included in the fishery district of Anstruther. At it are a Free church, '2 U.P. churches, and a public school, which, with accommodation for 72S children, had (1S91) an average attendance of 611, and a grant of £534, 12s. 6d. Pop. (1841) 1526, (1861) 1965, (1S71)21S7, (1881)2952, (1S91) 4006—Ord. Sur., sh. 40, 1867. See History of Buckhaven (priv. prin. 1813), and an article in Chambers's Edinburgh Journal, Dec. 14, 1S33, by the Fife poet, David Molyson. Buckholmside, a part of Galashiels town iu Melrose parish, Roxburghshire, on the left bank of Gala Water. It takes its name from Buckholm Hill (1064 feet), immediately adjacent to it; and it forms, both practically and compactly, a large part of Galashiels. Buckie, a burn and a hamlet in Alford parish, Aberdeenshire. The burn runs in the central and eastern part of the parish to the Don. The hamlet adjoins the burn. Buckie, a coast town and police burgh in Rathven parish, Banffshire, at the mouth of a burn of its own name, 7 J miles NE of Fochabers, 1 J ENE of Portgordon, and 12J W by S of Portsoy, with a station on the Portsoy and Elgin branch of the Great North of Scotland railway, and another on the Highland railway. The burn divides the town into Easter or Buckie proper to the E, and Nether Buckie to the W, the latter dating from about 1650, the former from 1723. In 18S8 it adopted the General Police Act, and is governed by a chief magistrate, 2 junior magistrates, and 9 commissioners. It has a post office with money order, savings bank, insurance, and telegraph departments, branches of the Town and County, North of Scotland, and Union banks, several hotels, gas-works, a lifeboat, a public reading-room and library, a foundry and steam saw-mills, a net work, rope and sail yards, and a large distillery at Inchgower; but fishing is the principal trade. There is a weekly newspaper, the Banffshire Advertiser (Liberal), published every Thursday. A fair is held on the Wednesday before the fourth Friday of July. It has an Established church, raised from a chapel of ease to quoad sacra status in 1876; a Free church, Elizabethan in style, has a fine steeple ; All Saints' Episcopal church, erected (1875-76) at a cost of £2000, is a Decorated edifice, with nave, chancel, circular apse, and a spire 96 feet high; a U.P. church was built in 1870, and St Peter's Roman Catholic church in 1857. The public school, erected (1876) at a cost of £3392, is an Early English pile, with square tower 60 feet high; and this, Lady Cathcart's female industrial school, and a Roman Catholic school, with respective accommodation for 720, 150, and 349 children, had (1891) an average attendance of 513, 124, and 284, and grants of £504, 13s. 6d., £108, 10s., and £261, 12s. It has two harbours, one in Buckie proper, the other in Nether Buckie. The former, replacing one of 1857, was constructed of concrete during 1874-80 at a cost of about £70,000, defrayed by the late Mr Gordon of Cluny, and, with an area of 9 acres and quayage of nearly half a mile, comprises an outer and an inner basin. The latter, 4 acres in extent, is 10 feet deep at low water, and thus has a greater depth than any harbour to the N of Leith; 40,000 cubic yards of concrete were used in the entire work, for which 115,000 cubic yards of rock had to be excavated, and 15,000 of soft materials. In 1794 Buckie had only 19 sloops and fishing-boats of aggregately 122 tons; while in 1892 its fishing-craft numbered 210 large boats and 40 small ones—total, 250. The Buckie fishing district, comprising the stations right and left from Banff to Findhorn, ranks the foremost in the kingdom in respect of the number of the boats owned and employed, and also in value. In this district in 1890 there were cured 34,070 barrels of white herring, besides 50,699 cod, ling, and hake—taken by 713 boats; the persons employed being 3522 fishermen and boys, 24 fiah-curers, 100 coopers, and some thousands of others, while the total value of 198 BTJITTLE boats, nets, and lines was estimated at £192,574. Pop. (1794) 703, (1841) 2165, (1S61) 2798, (1871) 3803, (1881) 4176, (1891) 5849; of quoad sacra parish (1891) 5680.— Ord. Sur., sh. 95, 1876. See pp. 316-320 of James Brown's Round Table Club (Elgin). Buckieburn, a hamlet in the SW of St Ninian's parish, Sth-lingshire, on a small burn at the foot of the Lennox Hills, 4 miles WNW of Denny. Buckie-Den, the beautifully romantic dell of the Buckie-Deu Burn, in the parish of Lunan, Forfarshire, 4 miles SSW of Montrose. It has steep sides, in some parts almost vertical, in most parts gemmed with shrubs and flowers; and it is traversed by a small rapid rill, running to the sea, and leaping along in cataracts sometimes 20 or 30 feet high. Buckinch, a quondam island in the river Clyde,^within Renfrew parish, Renfrewshire. It now forms part of the lands of Scotstoun. Buckland, a burn iu Kirkcudbright parish, Kirkcudbrightshire. It is formed by the confluence of Balcreddan and Gribdie burns, in the vicinity of Bombie; and it runs, from the point of confluence, 2J miles southwestward to the Dee below St Mary's Isle. Bucklerhead, a hamlet in the parish of Murroes, Forfarshire. Bucklyvie or Buchlyvie, a village on the W border of Kippen parish, Stirlingshire, on a small burn, J mile SE of the Forth and Clyde railway, and 4 NNE of Balfron. A burgh of barony, it has a post office under Stirling, with money order and savings bank departments, and a railway telegraph office, a railway station, a quoad sacra church (1836), a Free church, a U.P. church (1751), and public waterworks (1870). A public school, with accommodation for 120 children, had (1891) an average attendance of 84, and a grant of £86, 5s. 6d. Pop. (1861) 339, (1871) 327, (1881) 319, (1891) 313; of quoad sacra parish (1891) 806. Buckny, a burn in Stormont district, Perthshire. Rising in the E of Logierait parish, it passes between the mountains of Benachally (1594 feet) and Duchray (1670); traverses, with impetuous current, a deep, narrow, rocky dell, the Den of Riechip; and, separating Caputh and Clunie parishes, enters the latter in Laighwood Park, and there falls into the Lunan, after a course (SSE and E by S) of 8J miles. Buck of Cabrach, a mountain on the mutual border of Cabrach, Auchindoir, and Kildrummy parishes, Aberdeenshire, 13 miles SW by S of Huntly. Rising 2368 feet above sea-level, it presents, to the N and E, a pyramidal outline, tapering towards the top, and crowned with a cluster of rocks looking like gigantic statuary; and, though 33 miles distant from the coast, is visible a good way out at sea. Euddo, a remarkable rock on the coast of St Andrews parish, Fife, 3J miles ESE of St Andrews city. Buddon, a burn of SE Forfarshire, rising in the NW corner of Monifieth parish, and taking a generally SE course of 5| miles, till it falls into the Firth of Tay, 3J miles E by\"N of Broughty Ferry. See Barry. Bueinch, a wooded islet of Buchanan parish, Stirlingshire, in Loch Lomond, 1 furlong NE of Inchcruin island, and itself about 1 furlong long. Buie, a burn in Ardchattan parish, Argyllshire, running about 3 miles to Loch Crei'an. Buie or Buidhe, a loch on the mutual border of Criech and Dornoch parishes, SE Sutherland, 7-h miles NNE of Bonar-Bridge station. Lying 527 feet above sea-level, it is 1$ mile long by i broad, contains good trout, and is gained by salmon by means of a remarkable ladder on the Carnach river. Builg, a loch in Kirkmichael parish, S Banffshire, close to the Aberdeenshire border, 3 miles S of Inchrory. Lying 1586 feet above sea-level, at the NE base of Ben Avon, it has an extreme length and breadth of J and J mile, abounds in trout and char, and sends off a burn to the river Aven. The Queen beheld it ' beautifully lit up by the sotting sun,' 5 Sept. 1860. Buittle, a coast parish of Kirkcudbrightshire, which, reaching NW to within a mile of Castle-Douglas, and E\n",
      "https://w3id.org/nls/i/Page/9930626093804340_97393254_206 https://w3id.org/nls#numberOfWords 1451\n",
      "https://w3id.org/nls/i/Page/9930626093804340_97393254_206 https://w3id.org/nls#number 206\n"
     ]
    }
   ],
   "source": [
    "sparql = SPARQLWrapper(\"http://localhost:3030/gazetters_scotland/sparql\")\n",
    "sparql.setQuery(\"\"\"\n",
    "    SELECT ?subject ?predicate ?object WHERE {   ?subject ?predicate ?object } LIMIT 5 \n",
    "\"\"\")\n",
    "sparql.setReturnFormat(JSON)\n",
    "results = sparql.query().convert()\n",
    "\n",
    "results\n",
    "\n",
    "for result in results[\"results\"][\"bindings\"]:\n",
    "    print(result[\"subject\"][\"value\"], result[\"predicate\"][\"value\"], result[\"object\"][\"value\"] )\n"
   ]
  },
  {
   "cell_type": "markdown",
   "metadata": {},
   "source": [
    "Query 19: Obtaining each Serie uri, year and number of Serie. "
   ]
  },
  {
   "cell_type": "code",
   "execution_count": 81,
   "metadata": {},
   "outputs": [
    {
     "name": "stdout",
     "output_type": "stream",
     "text": [
      "https://w3id.org/nls/i/Serie/9928228793804340 1883 4\n",
      "https://w3id.org/nls/i/Serie/9931344563804340 1828 1\n",
      "https://w3id.org/nls/i/Serie/9928151783804340 1846 3\n",
      "https://w3id.org/nls/i/Serie/9931344953804340 1848 10\n",
      "https://w3id.org/nls/i/Serie/9930626093804340 1901 5\n",
      "https://w3id.org/nls/i/Serie/9931344933804340 1842 9\n",
      "https://w3id.org/nls/i/Serie/9928112733804340 1868 11\n",
      "https://w3id.org/nls/i/Serie/9910440713804340 1838 8\n",
      "https://w3id.org/nls/i/Serie/9931344573804340 1806 6\n",
      "https://w3id.org/nls/i/Serie/9933057493804340 1882 2\n",
      "https://w3id.org/nls/i/Serie/9931003343804340 1803 0\n",
      "https://w3id.org/nls/i/Serie/9931344583804340 1825 7\n"
     ]
    }
   ],
   "source": [
    "sparql = SPARQLWrapper(\"http://localhost:3030/gazetters_scotland/sparql\")\n",
    "sparql.setQuery(\"\"\"\n",
    "    PREFIX nls: <https://w3id.org/nls#>\n",
    "    SELECT ?serie ?year ?snum WHERE {\n",
    "       ?serie a nls:Serie ;\n",
    "              nls:number ?snum ;\n",
    "              nls:publicationYear ?year \n",
    "    }\n",
    "\n",
    "\"\"\")\n",
    "sparql.setReturnFormat(JSON)\n",
    "results = sparql.query().convert()\n",
    "r=results[\"results\"][\"bindings\"]\n",
    "for i in r:\n",
    "    print(i[\"serie\"][\"value\"], i[\"year\"][\"value\"], i[\"snum\"][\"value\"])"
   ]
  },
  {
   "cell_type": "markdown",
   "metadata": {},
   "source": [
    "Query 20: Obtaining publication year, number, title, subtitle, printedAt, physical description, mmsid, shelflocator, number of volumes of the resource with the uri: https://w3id.org/nls/i/Serie/9928151783804340 "
   ]
  },
  {
   "cell_type": "code",
   "execution_count": 86,
   "metadata": {},
   "outputs": [
    {
     "name": "stdout",
     "output_type": "stream",
     "text": [
      "1846 3 topographical dictionary of Scotland,1846 comprising the several counties, islands, cities, burgh and market towns, parishes, and principal villages : with historical and statistical descriptions : embellished with a large map of Scotland, and engravings of the seals and arms of the different burghs and universities London 2 v. ; 29 cm. 9928151783804340 Map.Ref.C18 2\n"
     ]
    }
   ],
   "source": [
    "sparql = SPARQLWrapper(\"http://localhost:3030/gazetters_scotland/sparql\")\n",
    "uri=\"<https://w3id.org/nls/i/Serie/9928151783804340>\"\n",
    "query=\"\"\"\n",
    "PREFIX nls: <https://w3id.org/nls#>\n",
    "SELECT ?publicationYear ?num ?title ?subtitle ?printedAt ?physicalDescription ?mmsid ?shelfLocator ?numberOfVolumes  WHERE {\n",
    "       %s nls:publicationYear ?publicationYear ;\n",
    "          nls:number ?num;\n",
    "          nls:title ?title;\n",
    "          nls:subtitle ?subtitle ;\n",
    "          nls:printedAt ?printedAt;\n",
    "          nls:physicalDescription ?physicalDescription;\n",
    "          nls:mmsid ?mmsid;\n",
    "          nls:shelfLocator ?shelfLocator;\n",
    "          nls:numberOfVolumes ?numberOfVolumes. \n",
    "          \n",
    "               \n",
    "}\n",
    "\"\"\" % (uri)\n",
    "sparql.setQuery(query)\n",
    "sparql.setReturnFormat(JSON)\n",
    "results = sparql.query().convert()\n",
    "r=results[\"results\"][\"bindings\"]\n",
    "for i in r:\n",
    "    print(i[\"publicationYear\"][\"value\"], i[\"num\"][\"value\"], i[\"title\"][\"value\"], i[\"subtitle\"][\"value\"],\\\n",
    "          i[\"printedAt\"][\"value\"], i[\"physicalDescription\"][\"value\"], i[\"mmsid\"][\"value\"], i[\"shelfLocator\"][\"value\"],\\\n",
    "          i[\"numberOfVolumes\"][\"value\"])"
   ]
  },
  {
   "cell_type": "markdown",
   "metadata": {},
   "source": [
    "Query 21: Obtaining the number of volumes of the serie with the uri: https://w3id.org/nls/i/Serie/9928151783804340"
   ]
  },
  {
   "cell_type": "code",
   "execution_count": 87,
   "metadata": {},
   "outputs": [
    {
     "data": {
      "text/plain": [
       "'2'"
      ]
     },
     "execution_count": 87,
     "metadata": {},
     "output_type": "execute_result"
    }
   ],
   "source": [
    "sparql = SPARQLWrapper(\"http://localhost:3030/gazetters_scotland/sparql\")\n",
    "uri=\"<https://w3id.org/nls/i/Serie/9928151783804340>\"\n",
    "query=\"\"\"\n",
    "PREFIX nls: <https://w3id.org/nls#>\n",
    "SELECT (COUNT (DISTINCT ?v) as ?count)\n",
    "    WHERE {\n",
    "        %s nls:hasPart ?v.\n",
    "    \t?v ?b ?c\n",
    "}\n",
    "\"\"\" % (uri)\n",
    "sparql.setQuery(query)\n",
    "sparql.setReturnFormat(JSON)\n",
    "results = sparql.query().convert()\n",
    "results[\"results\"][\"bindings\"][0][\"count\"][\"value\"]\n"
   ]
  },
  {
   "cell_type": "code",
   "execution_count": 89,
   "metadata": {},
   "outputs": [
    {
     "data": {
      "text/plain": [
       "'2'"
      ]
     },
     "execution_count": 89,
     "metadata": {},
     "output_type": "execute_result"
    }
   ],
   "source": [
    "sparql = SPARQLWrapper(\"http://localhost:3030/gazetters_scotland/sparql\")\n",
    "uri=\"<https://w3id.org/nls/i/Serie/9928151783804340>\"\n",
    "query=\"\"\"\n",
    "PREFIX nls: <https://w3id.org/nls#>\n",
    "SELECT (COUNT (DISTINCT ?v) as ?count)\n",
    "    WHERE {\n",
    "        %s nls:hasPart ?v.\n",
    "    \t?v ?b ?c\n",
    "}\n",
    "\"\"\" % (uri)\n",
    "sparql.setQuery(query)\n",
    "sparql.setReturnFormat(JSON)\n",
    "results = sparql.query().convert()\n",
    "results[\"results\"][\"bindings\"][0][\"count\"][\"value\"]\n"
   ]
  },
  {
   "cell_type": "markdown",
   "metadata": {},
   "source": [
    "Query to obtain the volume uris and titles for a given serie  https://w3id.org/nls/i/Serie/9928228793804340"
   ]
  },
  {
   "cell_type": "code",
   "execution_count": 36,
   "metadata": {},
   "outputs": [
    {
     "name": "stdout",
     "output_type": "stream",
     "text": [
      "https://w3id.org/nls/i/Volume/9928228793804340_97387610 Ordnance gazetteer of Scotland 1884-1885, Volume 6\n",
      "https://w3id.org/nls/i/Volume/9928228793804340_97376462 Ordnance gazetteer of Scotland 1884-1885, Volume 3\n",
      "https://w3id.org/nls/i/Volume/9928228793804340_97383958 Ordnance gazetteer of Scotland 1884-1885, Volume 5\n",
      "https://w3id.org/nls/i/Volume/9928228793804340_97368774 Ordnance gazetteer of Scotland 1884-1885, Volume 1\n",
      "https://w3id.org/nls/i/Volume/9928228793804340_97380354 Ordnance gazetteer of Scotland 1884-1885, Volume 4\n",
      "https://w3id.org/nls/i/Volume/9928228793804340_97372786 Ordnance gazetteer of Scotland 1884-1885, Volume 2\n"
     ]
    }
   ],
   "source": [
    "sparql = SPARQLWrapper(\"http://localhost:3030/gazetters_scotland/sparql\")\n",
    "uri=\"<https://w3id.org/nls/i/Serie/9928228793804340>\"\n",
    "query=\"\"\"\n",
    "PREFIX nls: <https://w3id.org/nls#>\n",
    "SELECT ?v ?title ?vnum\n",
    "    WHERE {\n",
    "        %s nls:hasPart ?v.\n",
    "    \t?v nls:title ?title .\n",
    "        ?v nls:title ?vnum .\n",
    "}\n",
    "\"\"\" % (uri)\n",
    "sparql.setQuery(query)\n",
    "sparql.setReturnFormat(JSON)\n",
    "results = sparql.query().convert()\n",
    "r=results[\"results\"][\"bindings\"]\n",
    "for i in r:\n",
    "        print(i[\"v\"][\"value\"], i[\"vnum\"][\"value\"])"
   ]
  },
  {
   "cell_type": "markdown",
   "metadata": {},
   "source": [
    "Query 22: Giving the volume with the uri: <https://w3id.org/nls/i/Volume/9910440713804340_97424370>, this query obtaians its pages uris and numbers. "
   ]
  },
  {
   "cell_type": "code",
   "execution_count": 90,
   "metadata": {},
   "outputs": [
    {
     "name": "stdout",
     "output_type": "stream",
     "text": [
      "https://w3id.org/nls/i/Page/9910440713804340_97424370_477 477\n",
      "https://w3id.org/nls/i/Page/9910440713804340_97424370_388 388\n",
      "https://w3id.org/nls/i/Page/9910440713804340_97424370_203 203\n",
      "https://w3id.org/nls/i/Page/9910440713804340_97424370_83 83\n",
      "https://w3id.org/nls/i/Page/9910440713804340_97424370_328 328\n",
      "https://w3id.org/nls/i/Page/9910440713804340_97424370_490 490\n",
      "https://w3id.org/nls/i/Page/9910440713804340_97424370_254 254\n",
      "https://w3id.org/nls/i/Page/9910440713804340_97424370_334 334\n",
      "https://w3id.org/nls/i/Page/9910440713804340_97424370_272 272\n",
      "https://w3id.org/nls/i/Page/9910440713804340_97424370_187 187\n",
      "https://w3id.org/nls/i/Page/9910440713804340_97424370_158 158\n",
      "https://w3id.org/nls/i/Page/9910440713804340_97424370_333 333\n",
      "https://w3id.org/nls/i/Page/9910440713804340_97424370_458 458\n",
      "https://w3id.org/nls/i/Page/9910440713804340_97424370_269 269\n",
      "https://w3id.org/nls/i/Page/9910440713804340_97424370_85 85\n",
      "https://w3id.org/nls/i/Page/9910440713804340_97424370_536 536\n",
      "https://w3id.org/nls/i/Page/9910440713804340_97424370_89 89\n",
      "https://w3id.org/nls/i/Page/9910440713804340_97424370_356 356\n",
      "https://w3id.org/nls/i/Page/9910440713804340_97424370_35 35\n",
      "https://w3id.org/nls/i/Page/9910440713804340_97424370_241 241\n",
      "https://w3id.org/nls/i/Page/9910440713804340_97424370_41 41\n",
      "https://w3id.org/nls/i/Page/9910440713804340_97424370_428 428\n",
      "https://w3id.org/nls/i/Page/9910440713804340_97424370_423 423\n",
      "https://w3id.org/nls/i/Page/9910440713804340_97424370_299 299\n",
      "https://w3id.org/nls/i/Page/9910440713804340_97424370_250 250\n",
      "https://w3id.org/nls/i/Page/9910440713804340_97424370_212 212\n",
      "https://w3id.org/nls/i/Page/9910440713804340_97424370_126 126\n",
      "https://w3id.org/nls/i/Page/9910440713804340_97424370_178 178\n",
      "https://w3id.org/nls/i/Page/9910440713804340_97424370_292 292\n",
      "https://w3id.org/nls/i/Page/9910440713804340_97424370_12 12\n",
      "https://w3id.org/nls/i/Page/9910440713804340_97424370_342 342\n",
      "https://w3id.org/nls/i/Page/9910440713804340_97424370_422 422\n",
      "https://w3id.org/nls/i/Page/9910440713804340_97424370_503 503\n",
      "https://w3id.org/nls/i/Page/9910440713804340_97424370_99 99\n",
      "https://w3id.org/nls/i/Page/9910440713804340_97424370_286 286\n",
      "https://w3id.org/nls/i/Page/9910440713804340_97424370_267 267\n",
      "https://w3id.org/nls/i/Page/9910440713804340_97424370_270 270\n",
      "https://w3id.org/nls/i/Page/9910440713804340_97424370_362 362\n",
      "https://w3id.org/nls/i/Page/9910440713804340_97424370_320 320\n",
      "https://w3id.org/nls/i/Page/9910440713804340_97424370_107 107\n",
      "https://w3id.org/nls/i/Page/9910440713804340_97424370_406 406\n",
      "https://w3id.org/nls/i/Page/9910440713804340_97424370_307 307\n",
      "https://w3id.org/nls/i/Page/9910440713804340_97424370_255 255\n",
      "https://w3id.org/nls/i/Page/9910440713804340_97424370_238 238\n",
      "https://w3id.org/nls/i/Page/9910440713804340_97424370_151 151\n",
      "https://w3id.org/nls/i/Page/9910440713804340_97424370_303 303\n",
      "https://w3id.org/nls/i/Page/9910440713804340_97424370_10 10\n",
      "https://w3id.org/nls/i/Page/9910440713804340_97424370_461 461\n",
      "https://w3id.org/nls/i/Page/9910440713804340_97424370_171 171\n",
      "https://w3id.org/nls/i/Page/9910440713804340_97424370_311 311\n",
      "https://w3id.org/nls/i/Page/9910440713804340_97424370_184 184\n",
      "https://w3id.org/nls/i/Page/9910440713804340_97424370_44 44\n",
      "https://w3id.org/nls/i/Page/9910440713804340_97424370_337 337\n",
      "https://w3id.org/nls/i/Page/9910440713804340_97424370_165 165\n",
      "https://w3id.org/nls/i/Page/9910440713804340_97424370_391 391\n",
      "https://w3id.org/nls/i/Page/9910440713804340_97424370_499 499\n",
      "https://w3id.org/nls/i/Page/9910440713804340_97424370_228 228\n",
      "https://w3id.org/nls/i/Page/9910440713804340_97424370_70 70\n",
      "https://w3id.org/nls/i/Page/9910440713804340_97424370_371 371\n",
      "https://w3id.org/nls/i/Page/9910440713804340_97424370_384 384\n",
      "https://w3id.org/nls/i/Page/9910440713804340_97424370_43 43\n",
      "https://w3id.org/nls/i/Page/9910440713804340_97424370_29 29\n",
      "https://w3id.org/nls/i/Page/9910440713804340_97424370_449 449\n",
      "https://w3id.org/nls/i/Page/9910440713804340_97424370_156 156\n",
      "https://w3id.org/nls/i/Page/9910440713804340_97424370_340 340\n",
      "https://w3id.org/nls/i/Page/9910440713804340_97424370_359 359\n",
      "https://w3id.org/nls/i/Page/9910440713804340_97424370_401 401\n",
      "https://w3id.org/nls/i/Page/9910440713804340_97424370_21 21\n",
      "https://w3id.org/nls/i/Page/9910440713804340_97424370_220 220\n",
      "https://w3id.org/nls/i/Page/9910440713804340_97424370_302 302\n",
      "https://w3id.org/nls/i/Page/9910440713804340_97424370_134 134\n",
      "https://w3id.org/nls/i/Page/9910440713804340_97424370_454 454\n",
      "https://w3id.org/nls/i/Page/9910440713804340_97424370_117 117\n",
      "https://w3id.org/nls/i/Page/9910440713804340_97424370_13 13\n",
      "https://w3id.org/nls/i/Page/9910440713804340_97424370_159 159\n",
      "https://w3id.org/nls/i/Page/9910440713804340_97424370_39 39\n",
      "https://w3id.org/nls/i/Page/9910440713804340_97424370_312 312\n",
      "https://w3id.org/nls/i/Page/9910440713804340_97424370_57 57\n",
      "https://w3id.org/nls/i/Page/9910440713804340_97424370_355 355\n",
      "https://w3id.org/nls/i/Page/9910440713804340_97424370_146 146\n",
      "https://w3id.org/nls/i/Page/9910440713804340_97424370_174 174\n",
      "https://w3id.org/nls/i/Page/9910440713804340_97424370_455 455\n",
      "https://w3id.org/nls/i/Page/9910440713804340_97424370_375 375\n",
      "https://w3id.org/nls/i/Page/9910440713804340_97424370_207 207\n",
      "https://w3id.org/nls/i/Page/9910440713804340_97424370_496 496\n",
      "https://w3id.org/nls/i/Page/9910440713804340_97424370_282 282\n",
      "https://w3id.org/nls/i/Page/9910440713804340_97424370_446 446\n",
      "https://w3id.org/nls/i/Page/9910440713804340_97424370_93 93\n",
      "https://w3id.org/nls/i/Page/9910440713804340_97424370_475 475\n",
      "https://w3id.org/nls/i/Page/9910440713804340_97424370_60 60\n",
      "https://w3id.org/nls/i/Page/9910440713804340_97424370_3 3\n",
      "https://w3id.org/nls/i/Page/9910440713804340_97424370_392 392\n",
      "https://w3id.org/nls/i/Page/9910440713804340_97424370_213 213\n",
      "https://w3id.org/nls/i/Page/9910440713804340_97424370_215 215\n",
      "https://w3id.org/nls/i/Page/9910440713804340_97424370_16 16\n",
      "https://w3id.org/nls/i/Page/9910440713804340_97424370_121 121\n",
      "https://w3id.org/nls/i/Page/9910440713804340_97424370_76 76\n",
      "https://w3id.org/nls/i/Page/9910440713804340_97424370_368 368\n",
      "https://w3id.org/nls/i/Page/9910440713804340_97424370_63 63\n",
      "https://w3id.org/nls/i/Page/9910440713804340_97424370_437 437\n",
      "https://w3id.org/nls/i/Page/9910440713804340_97424370_8 8\n",
      "https://w3id.org/nls/i/Page/9910440713804340_97424370_353 353\n",
      "https://w3id.org/nls/i/Page/9910440713804340_97424370_277 277\n",
      "https://w3id.org/nls/i/Page/9910440713804340_97424370_112 112\n",
      "https://w3id.org/nls/i/Page/9910440713804340_97424370_415 415\n",
      "https://w3id.org/nls/i/Page/9910440713804340_97424370_7 7\n",
      "https://w3id.org/nls/i/Page/9910440713804340_97424370_510 510\n",
      "https://w3id.org/nls/i/Page/9910440713804340_97424370_221 221\n",
      "https://w3id.org/nls/i/Page/9910440713804340_97424370_263 263\n",
      "https://w3id.org/nls/i/Page/9910440713804340_97424370_492 492\n",
      "https://w3id.org/nls/i/Page/9910440713804340_97424370_421 421\n",
      "https://w3id.org/nls/i/Page/9910440713804340_97424370_34 34\n",
      "https://w3id.org/nls/i/Page/9910440713804340_97424370_86 86\n",
      "https://w3id.org/nls/i/Page/9910440713804340_97424370_487 487\n",
      "https://w3id.org/nls/i/Page/9910440713804340_97424370_49 49\n",
      "https://w3id.org/nls/i/Page/9910440713804340_97424370_526 526\n",
      "https://w3id.org/nls/i/Page/9910440713804340_97424370_161 161\n",
      "https://w3id.org/nls/i/Page/9910440713804340_97424370_474 474\n",
      "https://w3id.org/nls/i/Page/9910440713804340_97424370_80 80\n",
      "https://w3id.org/nls/i/Page/9910440713804340_97424370_247 247\n",
      "https://w3id.org/nls/i/Page/9910440713804340_97424370_430 430\n",
      "https://w3id.org/nls/i/Page/9910440713804340_97424370_180 180\n",
      "https://w3id.org/nls/i/Page/9910440713804340_97424370_54 54\n",
      "https://w3id.org/nls/i/Page/9910440713804340_97424370_483 483\n",
      "https://w3id.org/nls/i/Page/9910440713804340_97424370_183 183\n",
      "https://w3id.org/nls/i/Page/9910440713804340_97424370_500 500\n",
      "https://w3id.org/nls/i/Page/9910440713804340_97424370_325 325\n",
      "https://w3id.org/nls/i/Page/9910440713804340_97424370_470 470\n",
      "https://w3id.org/nls/i/Page/9910440713804340_97424370_527 527\n",
      "https://w3id.org/nls/i/Page/9910440713804340_97424370_143 143\n",
      "https://w3id.org/nls/i/Page/9910440713804340_97424370_2 2\n",
      "https://w3id.org/nls/i/Page/9910440713804340_97424370_347 347\n",
      "https://w3id.org/nls/i/Page/9910440713804340_97424370_523 523\n",
      "https://w3id.org/nls/i/Page/9910440713804340_97424370_152 152\n",
      "https://w3id.org/nls/i/Page/9910440713804340_97424370_397 397\n",
      "https://w3id.org/nls/i/Page/9910440713804340_97424370_168 168\n",
      "https://w3id.org/nls/i/Page/9910440713804340_97424370_194 194\n",
      "https://w3id.org/nls/i/Page/9910440713804340_97424370_232 232\n",
      "https://w3id.org/nls/i/Page/9910440713804340_97424370_478 478\n",
      "https://w3id.org/nls/i/Page/9910440713804340_97424370_414 414\n",
      "https://w3id.org/nls/i/Page/9910440713804340_97424370_170 170\n",
      "https://w3id.org/nls/i/Page/9910440713804340_97424370_315 315\n",
      "https://w3id.org/nls/i/Page/9910440713804340_97424370_226 226\n",
      "https://w3id.org/nls/i/Page/9910440713804340_97424370_245 245\n",
      "https://w3id.org/nls/i/Page/9910440713804340_97424370_319 319\n",
      "https://w3id.org/nls/i/Page/9910440713804340_97424370_172 172\n",
      "https://w3id.org/nls/i/Page/9910440713804340_97424370_484 484\n",
      "https://w3id.org/nls/i/Page/9910440713804340_97424370_142 142\n",
      "https://w3id.org/nls/i/Page/9910440713804340_97424370_5 5\n",
      "https://w3id.org/nls/i/Page/9910440713804340_97424370_17 17\n",
      "https://w3id.org/nls/i/Page/9910440713804340_97424370_110 110\n",
      "https://w3id.org/nls/i/Page/9910440713804340_97424370_23 23\n",
      "https://w3id.org/nls/i/Page/9910440713804340_97424370_366 366\n",
      "https://w3id.org/nls/i/Page/9910440713804340_97424370_507 507\n",
      "https://w3id.org/nls/i/Page/9910440713804340_97424370_95 95\n",
      "https://w3id.org/nls/i/Page/9910440713804340_97424370_497 497\n",
      "https://w3id.org/nls/i/Page/9910440713804340_97424370_271 271\n",
      "https://w3id.org/nls/i/Page/9910440713804340_97424370_291 291\n",
      "https://w3id.org/nls/i/Page/9910440713804340_97424370_289 289\n",
      "https://w3id.org/nls/i/Page/9910440713804340_97424370_515 515\n",
      "https://w3id.org/nls/i/Page/9910440713804340_97424370_124 124\n",
      "https://w3id.org/nls/i/Page/9910440713804340_97424370_149 149\n",
      "https://w3id.org/nls/i/Page/9910440713804340_97424370_150 150\n",
      "https://w3id.org/nls/i/Page/9910440713804340_97424370_516 516\n",
      "https://w3id.org/nls/i/Page/9910440713804340_97424370_372 372\n",
      "https://w3id.org/nls/i/Page/9910440713804340_97424370_293 293\n",
      "https://w3id.org/nls/i/Page/9910440713804340_97424370_148 148\n",
      "https://w3id.org/nls/i/Page/9910440713804340_97424370_512 512\n",
      "https://w3id.org/nls/i/Page/9910440713804340_97424370_310 310\n",
      "https://w3id.org/nls/i/Page/9910440713804340_97424370_251 251\n",
      "https://w3id.org/nls/i/Page/9910440713804340_97424370_350 350\n",
      "https://w3id.org/nls/i/Page/9910440713804340_97424370_102 102\n",
      "https://w3id.org/nls/i/Page/9910440713804340_97424370_439 439\n",
      "https://w3id.org/nls/i/Page/9910440713804340_97424370_394 394\n",
      "https://w3id.org/nls/i/Page/9910440713804340_97424370_419 419\n",
      "https://w3id.org/nls/i/Page/9910440713804340_97424370_420 420\n",
      "https://w3id.org/nls/i/Page/9910440713804340_97424370_314 314\n",
      "https://w3id.org/nls/i/Page/9910440713804340_97424370_185 185\n",
      "https://w3id.org/nls/i/Page/9910440713804340_97424370_306 306\n",
      "https://w3id.org/nls/i/Page/9910440713804340_97424370_327 327\n",
      "https://w3id.org/nls/i/Page/9910440713804340_97424370_199 199\n",
      "https://w3id.org/nls/i/Page/9910440713804340_97424370_120 120\n",
      "https://w3id.org/nls/i/Page/9910440713804340_97424370_298 298\n",
      "https://w3id.org/nls/i/Page/9910440713804340_97424370_62 62\n",
      "https://w3id.org/nls/i/Page/9910440713804340_97424370_409 409\n",
      "https://w3id.org/nls/i/Page/9910440713804340_97424370_481 481\n",
      "https://w3id.org/nls/i/Page/9910440713804340_97424370_235 235\n",
      "https://w3id.org/nls/i/Page/9910440713804340_97424370_127 127\n",
      "https://w3id.org/nls/i/Page/9910440713804340_97424370_45 45\n",
      "https://w3id.org/nls/i/Page/9910440713804340_97424370_264 264\n",
      "https://w3id.org/nls/i/Page/9910440713804340_97424370_427 427\n",
      "https://w3id.org/nls/i/Page/9910440713804340_97424370_206 206\n",
      "https://w3id.org/nls/i/Page/9910440713804340_97424370_443 443\n",
      "https://w3id.org/nls/i/Page/9910440713804340_97424370_26 26\n",
      "https://w3id.org/nls/i/Page/9910440713804340_97424370_114 114\n",
      "https://w3id.org/nls/i/Page/9910440713804340_97424370_75 75\n",
      "https://w3id.org/nls/i/Page/9910440713804340_97424370_257 257\n",
      "https://w3id.org/nls/i/Page/9910440713804340_97424370_177 177\n",
      "https://w3id.org/nls/i/Page/9910440713804340_97424370_260 260\n",
      "https://w3id.org/nls/i/Page/9910440713804340_97424370_405 405\n",
      "https://w3id.org/nls/i/Page/9910440713804340_97424370_66 66\n",
      "https://w3id.org/nls/i/Page/9910440713804340_97424370_433 433\n",
      "https://w3id.org/nls/i/Page/9910440713804340_97424370_376 376\n",
      "https://w3id.org/nls/i/Page/9910440713804340_97424370_219 219\n",
      "https://w3id.org/nls/i/Page/9910440713804340_97424370_398 398\n",
      "https://w3id.org/nls/i/Page/9910440713804340_97424370_233 233\n",
      "https://w3id.org/nls/i/Page/9910440713804340_97424370_520 520\n",
      "https://w3id.org/nls/i/Page/9910440713804340_97424370_164 164\n",
      "https://w3id.org/nls/i/Page/9910440713804340_97424370_418 418\n",
      "https://w3id.org/nls/i/Page/9910440713804340_97424370_462 462\n",
      "https://w3id.org/nls/i/Page/9910440713804340_97424370_61 61\n",
      "https://w3id.org/nls/i/Page/9910440713804340_97424370_239 239\n",
      "https://w3id.org/nls/i/Page/9910440713804340_97424370_378 378\n",
      "https://w3id.org/nls/i/Page/9910440713804340_97424370_506 506\n",
      "https://w3id.org/nls/i/Page/9910440713804340_97424370_447 447\n",
      "https://w3id.org/nls/i/Page/9910440713804340_97424370_130 130\n",
      "https://w3id.org/nls/i/Page/9910440713804340_97424370_186 186\n",
      "https://w3id.org/nls/i/Page/9910440713804340_97424370_471 471\n",
      "https://w3id.org/nls/i/Page/9910440713804340_97424370_129 129\n",
      "https://w3id.org/nls/i/Page/9910440713804340_97424370_53 53\n",
      "https://w3id.org/nls/i/Page/9910440713804340_97424370_326 326\n",
      "https://w3id.org/nls/i/Page/9910440713804340_97424370_106 106\n",
      "https://w3id.org/nls/i/Page/9910440713804340_97424370_248 248\n",
      "https://w3id.org/nls/i/Page/9910440713804340_97424370_493 493\n",
      "https://w3id.org/nls/i/Page/9910440713804340_97424370_385 385\n",
      "https://w3id.org/nls/i/Page/9910440713804340_97424370_453 453\n",
      "https://w3id.org/nls/i/Page/9910440713804340_97424370_533 533\n",
      "https://w3id.org/nls/i/Page/9910440713804340_97424370_341 341\n",
      "https://w3id.org/nls/i/Page/9910440713804340_97424370_242 242\n",
      "https://w3id.org/nls/i/Page/9910440713804340_97424370_525 525\n",
      "https://w3id.org/nls/i/Page/9910440713804340_97424370_193 193\n",
      "https://w3id.org/nls/i/Page/9910440713804340_97424370_463 463\n",
      "https://w3id.org/nls/i/Page/9910440713804340_97424370_285 285\n",
      "https://w3id.org/nls/i/Page/9910440713804340_97424370_136 136\n",
      "https://w3id.org/nls/i/Page/9910440713804340_97424370_227 227\n",
      "https://w3id.org/nls/i/Page/9910440713804340_97424370_412 412\n",
      "https://w3id.org/nls/i/Page/9910440713804340_97424370_133 133\n",
      "https://w3id.org/nls/i/Page/9910440713804340_97424370_205 205\n",
      "https://w3id.org/nls/i/Page/9910440713804340_97424370_279 279\n",
      "https://w3id.org/nls/i/Page/9910440713804340_97424370_55 55\n",
      "https://w3id.org/nls/i/Page/9910440713804340_97424370_211 211\n",
      "https://w3id.org/nls/i/Page/9910440713804340_97424370_456 456\n",
      "https://w3id.org/nls/i/Page/9910440713804340_97424370_518 518\n",
      "https://w3id.org/nls/i/Page/9910440713804340_97424370_48 48\n",
      "https://w3id.org/nls/i/Page/9910440713804340_97424370_160 160\n",
      "https://w3id.org/nls/i/Page/9910440713804340_97424370_502 502\n",
      "https://w3id.org/nls/i/Page/9910440713804340_97424370_332 332\n",
      "https://w3id.org/nls/i/Page/9910440713804340_97424370_155 155\n",
      "https://w3id.org/nls/i/Page/9910440713804340_97424370_58 58\n",
      "https://w3id.org/nls/i/Page/9910440713804340_97424370_111 111\n",
      "https://w3id.org/nls/i/Page/9910440713804340_97424370_491 491\n",
      "https://w3id.org/nls/i/Page/9910440713804340_97424370_459 459\n",
      "https://w3id.org/nls/i/Page/9910440713804340_97424370_36 36\n",
      "https://w3id.org/nls/i/Page/9910440713804340_97424370_363 363\n",
      "https://w3id.org/nls/i/Page/9910440713804340_97424370_6 6\n",
      "https://w3id.org/nls/i/Page/9910440713804340_97424370_40 40\n",
      "https://w3id.org/nls/i/Page/9910440713804340_97424370_22 22\n",
      "https://w3id.org/nls/i/Page/9910440713804340_97424370_468 468\n",
      "https://w3id.org/nls/i/Page/9910440713804340_97424370_173 173\n",
      "https://w3id.org/nls/i/Page/9910440713804340_97424370_98 98\n",
      "https://w3id.org/nls/i/Page/9910440713804340_97424370_354 354\n",
      "https://w3id.org/nls/i/Page/9910440713804340_97424370_276 276\n",
      "https://w3id.org/nls/i/Page/9910440713804340_97424370_369 369\n",
      "https://w3id.org/nls/i/Page/9910440713804340_97424370_92 92\n",
      "https://w3id.org/nls/i/Page/9910440713804340_97424370_14 14\n",
      "https://w3id.org/nls/i/Page/9910440713804340_97424370_283 283\n",
      "https://w3id.org/nls/i/Page/9910440713804340_97424370_87 87\n",
      "https://w3id.org/nls/i/Page/9910440713804340_97424370_413 413\n",
      "https://w3id.org/nls/i/Page/9910440713804340_97424370_440 440\n",
      "https://w3id.org/nls/i/Page/9910440713804340_97424370_294 294\n",
      "https://w3id.org/nls/i/Page/9910440713804340_97424370_482 482\n",
      "https://w3id.org/nls/i/Page/9910440713804340_97424370_101 101\n",
      "https://w3id.org/nls/i/Page/9910440713804340_97424370_339 339\n",
      "https://w3id.org/nls/i/Page/9910440713804340_97424370_436 436\n",
      "https://w3id.org/nls/i/Page/9910440713804340_97424370_81 81\n",
      "https://w3id.org/nls/i/Page/9910440713804340_97424370_198 198\n",
      "https://w3id.org/nls/i/Page/9910440713804340_97424370_331 331\n",
      "https://w3id.org/nls/i/Page/9910440713804340_97424370_479 479\n",
      "https://w3id.org/nls/i/Page/9910440713804340_97424370_442 442\n",
      "https://w3id.org/nls/i/Page/9910440713804340_97424370_236 236\n",
      "https://w3id.org/nls/i/Page/9910440713804340_97424370_201 201\n",
      "https://w3id.org/nls/i/Page/9910440713804340_97424370_141 141\n",
      "https://w3id.org/nls/i/Page/9910440713804340_97424370_351 351\n",
      "https://w3id.org/nls/i/Page/9910440713804340_97424370_162 162\n",
      "https://w3id.org/nls/i/Page/9910440713804340_97424370_281 281\n",
      "https://w3id.org/nls/i/Page/9910440713804340_97424370_313 313\n",
      "https://w3id.org/nls/i/Page/9910440713804340_97424370_322 322\n",
      "https://w3id.org/nls/i/Page/9910440713804340_97424370_480 480\n",
      "https://w3id.org/nls/i/Page/9910440713804340_97424370_217 217\n",
      "https://w3id.org/nls/i/Page/9910440713804340_97424370_511 511\n",
      "https://w3id.org/nls/i/Page/9910440713804340_97424370_288 288\n",
      "https://w3id.org/nls/i/Page/9910440713804340_97424370_265 265\n",
      "https://w3id.org/nls/i/Page/9910440713804340_97424370_91 91\n",
      "https://w3id.org/nls/i/Page/9910440713804340_97424370_67 67\n",
      "https://w3id.org/nls/i/Page/9910440713804340_97424370_473 473\n",
      "https://w3id.org/nls/i/Page/9910440713804340_97424370_258 258\n",
      "https://w3id.org/nls/i/Page/9910440713804340_97424370_399 399\n",
      "https://w3id.org/nls/i/Page/9910440713804340_97424370_1 1\n",
      "https://w3id.org/nls/i/Page/9910440713804340_97424370_345 345\n",
      "https://w3id.org/nls/i/Page/9910440713804340_97424370_469 469\n",
      "https://w3id.org/nls/i/Page/9910440713804340_97424370_488 488\n",
      "https://w3id.org/nls/i/Page/9910440713804340_97424370_524 524\n",
      "https://w3id.org/nls/i/Page/9910440713804340_97424370_214 214\n",
      "https://w3id.org/nls/i/Page/9910440713804340_97424370_348 348\n",
      "https://w3id.org/nls/i/Page/9910440713804340_97424370_379 379\n",
      "https://w3id.org/nls/i/Page/9910440713804340_97424370_382 382\n",
      "https://w3id.org/nls/i/Page/9910440713804340_97424370_457 457\n",
      "https://w3id.org/nls/i/Page/9910440713804340_97424370_15 15\n",
      "https://w3id.org/nls/i/Page/9910440713804340_97424370_223 223\n",
      "https://w3id.org/nls/i/Page/9910440713804340_97424370_230 230\n",
      "https://w3id.org/nls/i/Page/9910440713804340_97424370_231 231\n",
      "https://w3id.org/nls/i/Page/9910440713804340_97424370_261 261\n",
      "https://w3id.org/nls/i/Page/9910440713804340_97424370_275 275\n",
      "https://w3id.org/nls/i/Page/9910440713804340_97424370_209 209\n",
      "https://w3id.org/nls/i/Page/9910440713804340_97424370_192 192\n",
      "https://w3id.org/nls/i/Page/9910440713804340_97424370_485 485\n",
      "https://w3id.org/nls/i/Page/9910440713804340_97424370_38 38\n",
      "https://w3id.org/nls/i/Page/9910440713804340_97424370_18 18\n",
      "https://w3id.org/nls/i/Page/9910440713804340_97424370_450 450\n",
      "https://w3id.org/nls/i/Page/9910440713804340_97424370_494 494\n",
      "https://w3id.org/nls/i/Page/9910440713804340_97424370_244 244\n",
      "https://w3id.org/nls/i/Page/9910440713804340_97424370_403 403\n",
      "https://w3id.org/nls/i/Page/9910440713804340_97424370_195 195\n",
      "https://w3id.org/nls/i/Page/9910440713804340_97424370_296 296\n",
      "https://w3id.org/nls/i/Page/9910440713804340_97424370_335 335\n",
      "https://w3id.org/nls/i/Page/9910440713804340_97424370_411 411\n",
      "https://w3id.org/nls/i/Page/9910440713804340_97424370_395 395\n",
      "https://w3id.org/nls/i/Page/9910440713804340_97424370_465 465\n",
      "https://w3id.org/nls/i/Page/9910440713804340_97424370_318 318\n",
      "https://w3id.org/nls/i/Page/9910440713804340_97424370_128 128\n",
      "https://w3id.org/nls/i/Page/9910440713804340_97424370_115 115\n",
      "https://w3id.org/nls/i/Page/9910440713804340_97424370_78 78\n",
      "https://w3id.org/nls/i/Page/9910440713804340_97424370_46 46\n",
      "https://w3id.org/nls/i/Page/9910440713804340_97424370_30 30\n",
      "https://w3id.org/nls/i/Page/9910440713804340_97424370_147 147\n",
      "https://w3id.org/nls/i/Page/9910440713804340_97424370_32 32\n",
      "https://w3id.org/nls/i/Page/9910440713804340_97424370_434 434\n",
      "https://w3id.org/nls/i/Page/9910440713804340_97424370_74 74\n",
      "https://w3id.org/nls/i/Page/9910440713804340_97424370_300 300\n",
      "https://w3id.org/nls/i/Page/9910440713804340_97424370_167 167\n",
      "https://w3id.org/nls/i/Page/9910440713804340_97424370_182 182\n",
      "https://w3id.org/nls/i/Page/9910440713804340_97424370_373 373\n",
      "https://w3id.org/nls/i/Page/9910440713804340_97424370_191 191\n",
      "https://w3id.org/nls/i/Page/9910440713804340_97424370_137 137\n",
      "https://w3id.org/nls/i/Page/9910440713804340_97424370_389 389\n",
      "https://w3id.org/nls/i/Page/9910440713804340_97424370_105 105\n",
      "https://w3id.org/nls/i/Page/9910440713804340_97424370_377 377\n",
      "https://w3id.org/nls/i/Page/9910440713804340_97424370_210 210\n",
      "https://w3id.org/nls/i/Page/9910440713804340_97424370_417 417\n",
      "https://w3id.org/nls/i/Page/9910440713804340_97424370_65 65\n",
      "https://w3id.org/nls/i/Page/9910440713804340_97424370_336 336\n",
      "https://w3id.org/nls/i/Page/9910440713804340_97424370_252 252\n",
      "https://w3id.org/nls/i/Page/9910440713804340_97424370_305 305\n",
      "https://w3id.org/nls/i/Page/9910440713804340_97424370_31 31\n",
      "https://w3id.org/nls/i/Page/9910440713804340_97424370_466 466\n",
      "https://w3id.org/nls/i/Page/9910440713804340_97424370_140 140\n",
      "https://w3id.org/nls/i/Page/9910440713804340_97424370_68 68\n",
      "https://w3id.org/nls/i/Page/9910440713804340_97424370_521 521\n",
      "https://w3id.org/nls/i/Page/9910440713804340_97424370_284 284\n",
      "https://w3id.org/nls/i/Page/9910440713804340_97424370_131 131\n",
      "https://w3id.org/nls/i/Page/9910440713804340_97424370_154 154\n",
      "https://w3id.org/nls/i/Page/9910440713804340_97424370_132 132\n",
      "https://w3id.org/nls/i/Page/9910440713804340_97424370_202 202\n",
      "https://w3id.org/nls/i/Page/9910440713804340_97424370_301 301\n",
      "https://w3id.org/nls/i/Page/9910440713804340_97424370_364 364\n",
      "https://w3id.org/nls/i/Page/9910440713804340_97424370_157 157\n",
      "https://w3id.org/nls/i/Page/9910440713804340_97424370_249 249\n",
      "https://w3id.org/nls/i/Page/9910440713804340_97424370_505 505\n",
      "https://w3id.org/nls/i/Page/9910440713804340_97424370_357 357\n",
      "https://w3id.org/nls/i/Page/9910440713804340_97424370_386 386\n",
      "https://w3id.org/nls/i/Page/9910440713804340_97424370_501 501\n",
      "https://w3id.org/nls/i/Page/9910440713804340_97424370_24 24\n",
      "https://w3id.org/nls/i/Page/9910440713804340_97424370_97 97\n",
      "https://w3id.org/nls/i/Page/9910440713804340_97424370_380 380\n",
      "https://w3id.org/nls/i/Page/9910440713804340_97424370_218 218\n",
      "https://w3id.org/nls/i/Page/9910440713804340_97424370_290 290\n",
      "https://w3id.org/nls/i/Page/9910440713804340_97424370_176 176\n",
      "https://w3id.org/nls/i/Page/9910440713804340_97424370_448 448\n",
      "https://w3id.org/nls/i/Page/9910440713804340_97424370_534 534\n",
      "https://w3id.org/nls/i/Page/9910440713804340_97424370_426 426\n",
      "https://w3id.org/nls/i/Page/9910440713804340_97424370_358 358\n",
      "https://w3id.org/nls/i/Page/9910440713804340_97424370_381 381\n",
      "https://w3id.org/nls/i/Page/9910440713804340_97424370_297 297\n",
      "https://w3id.org/nls/i/Page/9910440713804340_97424370_360 360\n",
      "https://w3id.org/nls/i/Page/9910440713804340_97424370_404 404\n",
      "https://w3id.org/nls/i/Page/9910440713804340_97424370_464 464\n",
      "https://w3id.org/nls/i/Page/9910440713804340_97424370_123 123\n",
      "https://w3id.org/nls/i/Page/9910440713804340_97424370_400 400\n",
      "https://w3id.org/nls/i/Page/9910440713804340_97424370_538 538\n",
      "https://w3id.org/nls/i/Page/9910440713804340_97424370_531 531\n",
      "https://w3id.org/nls/i/Page/9910440713804340_97424370_476 476\n",
      "https://w3id.org/nls/i/Page/9910440713804340_97424370_52 52\n",
      "https://w3id.org/nls/i/Page/9910440713804340_97424370_410 410\n",
      "https://w3id.org/nls/i/Page/9910440713804340_97424370_532 532\n",
      "https://w3id.org/nls/i/Page/9910440713804340_97424370_88 88\n",
      "https://w3id.org/nls/i/Page/9910440713804340_97424370_119 119\n",
      "https://w3id.org/nls/i/Page/9910440713804340_97424370_451 451\n",
      "https://w3id.org/nls/i/Page/9910440713804340_97424370_163 163\n",
      "https://w3id.org/nls/i/Page/9910440713804340_97424370_472 472\n",
      "https://w3id.org/nls/i/Page/9910440713804340_97424370_84 84\n",
      "https://w3id.org/nls/i/Page/9910440713804340_97424370_344 344\n",
      "https://w3id.org/nls/i/Page/9910440713804340_97424370_224 224\n",
      "https://w3id.org/nls/i/Page/9910440713804340_97424370_498 498\n",
      "https://w3id.org/nls/i/Page/9910440713804340_97424370_82 82\n",
      "https://w3id.org/nls/i/Page/9910440713804340_97424370_323 323\n",
      "https://w3id.org/nls/i/Page/9910440713804340_97424370_135 135\n",
      "https://w3id.org/nls/i/Page/9910440713804340_97424370_116 116\n",
      "https://w3id.org/nls/i/Page/9910440713804340_97424370_486 486\n",
      "https://w3id.org/nls/i/Page/9910440713804340_97424370_304 304\n",
      "https://w3id.org/nls/i/Page/9910440713804340_97424370_138 138\n",
      "https://w3id.org/nls/i/Page/9910440713804340_97424370_237 237\n",
      "https://w3id.org/nls/i/Page/9910440713804340_97424370_308 308\n",
      "https://w3id.org/nls/i/Page/9910440713804340_97424370_79 79\n",
      "https://w3id.org/nls/i/Page/9910440713804340_97424370_190 190\n",
      "https://w3id.org/nls/i/Page/9910440713804340_97424370_438 438\n",
      "https://w3id.org/nls/i/Page/9910440713804340_97424370_383 383\n",
      "https://w3id.org/nls/i/Page/9910440713804340_97424370_37 37\n",
      "https://w3id.org/nls/i/Page/9910440713804340_97424370_20 20\n",
      "https://w3id.org/nls/i/Page/9910440713804340_97424370_208 208\n",
      "https://w3id.org/nls/i/Page/9910440713804340_97424370_431 431\n",
      "https://w3id.org/nls/i/Page/9910440713804340_97424370_452 452\n",
      "https://w3id.org/nls/i/Page/9910440713804340_97424370_519 519\n",
      "https://w3id.org/nls/i/Page/9910440713804340_97424370_9 9\n",
      "https://w3id.org/nls/i/Page/9910440713804340_97424370_77 77\n",
      "https://w3id.org/nls/i/Page/9910440713804340_97424370_273 273\n",
      "https://w3id.org/nls/i/Page/9910440713804340_97424370_51 51\n",
      "https://w3id.org/nls/i/Page/9910440713804340_97424370_229 229\n",
      "https://w3id.org/nls/i/Page/9910440713804340_97424370_28 28\n",
      "https://w3id.org/nls/i/Page/9910440713804340_97424370_109 109\n",
      "https://w3id.org/nls/i/Page/9910440713804340_97424370_125 125\n",
      "https://w3id.org/nls/i/Page/9910440713804340_97424370_56 56\n",
      "https://w3id.org/nls/i/Page/9910440713804340_97424370_153 153\n",
      "https://w3id.org/nls/i/Page/9910440713804340_97424370_316 316\n",
      "https://w3id.org/nls/i/Page/9910440713804340_97424370_425 425\n",
      "https://w3id.org/nls/i/Page/9910440713804340_97424370_268 268\n",
      "https://w3id.org/nls/i/Page/9910440713804340_97424370_108 108\n",
      "https://w3id.org/nls/i/Page/9910440713804340_97424370_280 280\n",
      "https://w3id.org/nls/i/Page/9910440713804340_97424370_528 528\n",
      "https://w3id.org/nls/i/Page/9910440713804340_97424370_73 73\n",
      "https://w3id.org/nls/i/Page/9910440713804340_97424370_104 104\n",
      "https://w3id.org/nls/i/Page/9910440713804340_97424370_100 100\n",
      "https://w3id.org/nls/i/Page/9910440713804340_97424370_416 416\n",
      "https://w3id.org/nls/i/Page/9910440713804340_97424370_266 266\n",
      "https://w3id.org/nls/i/Page/9910440713804340_97424370_234 234\n",
      "https://w3id.org/nls/i/Page/9910440713804340_97424370_295 295\n",
      "https://w3id.org/nls/i/Page/9910440713804340_97424370_402 402\n",
      "https://w3id.org/nls/i/Page/9910440713804340_97424370_196 196\n",
      "https://w3id.org/nls/i/Page/9910440713804340_97424370_467 467\n",
      "https://w3id.org/nls/i/Page/9910440713804340_97424370_179 179\n",
      "https://w3id.org/nls/i/Page/9910440713804340_97424370_343 343\n",
      "https://w3id.org/nls/i/Page/9910440713804340_97424370_181 181\n",
      "https://w3id.org/nls/i/Page/9910440713804340_97424370_259 259\n",
      "https://w3id.org/nls/i/Page/9910440713804340_97424370_50 50\n",
      "https://w3id.org/nls/i/Page/9910440713804340_97424370_262 262\n",
      "https://w3id.org/nls/i/Page/9910440713804340_97424370_240 240\n",
      "https://w3id.org/nls/i/Page/9910440713804340_97424370_435 435\n",
      "https://w3id.org/nls/i/Page/9910440713804340_97424370_278 278\n",
      "https://w3id.org/nls/i/Page/9910440713804340_97424370_204 204\n",
      "https://w3id.org/nls/i/Page/9910440713804340_97424370_407 407\n",
      "https://w3id.org/nls/i/Page/9910440713804340_97424370_432 432\n",
      "https://w3id.org/nls/i/Page/9910440713804340_97424370_489 489\n",
      "https://w3id.org/nls/i/Page/9910440713804340_97424370_71 71\n",
      "https://w3id.org/nls/i/Page/9910440713804340_97424370_495 495\n",
      "https://w3id.org/nls/i/Page/9910440713804340_97424370_390 390\n",
      "https://w3id.org/nls/i/Page/9910440713804340_97424370_321 321\n",
      "https://w3id.org/nls/i/Page/9910440713804340_97424370_330 330\n",
      "https://w3id.org/nls/i/Page/9910440713804340_97424370_441 441\n",
      "https://w3id.org/nls/i/Page/9910440713804340_97424370_361 361\n",
      "https://w3id.org/nls/i/Page/9910440713804340_97424370_508 508\n",
      "https://w3id.org/nls/i/Page/9910440713804340_97424370_103 103\n",
      "https://w3id.org/nls/i/Page/9910440713804340_97424370_197 197\n",
      "https://w3id.org/nls/i/Page/9910440713804340_97424370_445 445\n",
      "https://w3id.org/nls/i/Page/9910440713804340_97424370_122 122\n",
      "https://w3id.org/nls/i/Page/9910440713804340_97424370_517 517\n",
      "https://w3id.org/nls/i/Page/9910440713804340_97424370_338 338\n",
      "https://w3id.org/nls/i/Page/9910440713804340_97424370_33 33\n",
      "https://w3id.org/nls/i/Page/9910440713804340_97424370_118 118\n",
      "https://w3id.org/nls/i/Page/9910440713804340_97424370_352 352\n",
      "https://w3id.org/nls/i/Page/9910440713804340_97424370_166 166\n",
      "https://w3id.org/nls/i/Page/9910440713804340_97424370_424 424\n",
      "https://w3id.org/nls/i/Page/9910440713804340_97424370_309 309\n",
      "https://w3id.org/nls/i/Page/9910440713804340_97424370_530 530\n",
      "https://w3id.org/nls/i/Page/9910440713804340_97424370_529 529\n",
      "https://w3id.org/nls/i/Page/9910440713804340_97424370_324 324\n",
      "https://w3id.org/nls/i/Page/9910440713804340_97424370_64 64\n",
      "https://w3id.org/nls/i/Page/9910440713804340_97424370_145 145\n",
      "https://w3id.org/nls/i/Page/9910440713804340_97424370_513 513\n",
      "https://w3id.org/nls/i/Page/9910440713804340_97424370_349 349\n",
      "https://w3id.org/nls/i/Page/9910440713804340_97424370_189 189\n",
      "https://w3id.org/nls/i/Page/9910440713804340_97424370_256 256\n",
      "https://w3id.org/nls/i/Page/9910440713804340_97424370_537 537\n",
      "https://w3id.org/nls/i/Page/9910440713804340_97424370_287 287\n",
      "https://w3id.org/nls/i/Page/9910440713804340_97424370_429 429\n",
      "https://w3id.org/nls/i/Page/9910440713804340_97424370_393 393\n",
      "https://w3id.org/nls/i/Page/9910440713804340_97424370_139 139\n",
      "https://w3id.org/nls/i/Page/9910440713804340_97424370_444 444\n",
      "https://w3id.org/nls/i/Page/9910440713804340_97424370_27 27\n",
      "https://w3id.org/nls/i/Page/9910440713804340_97424370_216 216\n",
      "https://w3id.org/nls/i/Page/9910440713804340_97424370_72 72\n",
      "https://w3id.org/nls/i/Page/9910440713804340_97424370_396 396\n",
      "https://w3id.org/nls/i/Page/9910440713804340_97424370_253 253\n",
      "https://w3id.org/nls/i/Page/9910440713804340_97424370_225 225\n",
      "https://w3id.org/nls/i/Page/9910440713804340_97424370_59 59\n",
      "https://w3id.org/nls/i/Page/9910440713804340_97424370_188 188\n",
      "https://w3id.org/nls/i/Page/9910440713804340_97424370_19 19\n",
      "https://w3id.org/nls/i/Page/9910440713804340_97424370_329 329\n",
      "https://w3id.org/nls/i/Page/9910440713804340_97424370_144 144\n",
      "https://w3id.org/nls/i/Page/9910440713804340_97424370_370 370\n",
      "https://w3id.org/nls/i/Page/9910440713804340_97424370_514 514\n",
      "https://w3id.org/nls/i/Page/9910440713804340_97424370_246 246\n",
      "https://w3id.org/nls/i/Page/9910440713804340_97424370_11 11\n",
      "https://w3id.org/nls/i/Page/9910440713804340_97424370_408 408\n",
      "https://w3id.org/nls/i/Page/9910440713804340_97424370_4 4\n",
      "https://w3id.org/nls/i/Page/9910440713804340_97424370_460 460\n",
      "https://w3id.org/nls/i/Page/9910440713804340_97424370_317 317\n",
      "https://w3id.org/nls/i/Page/9910440713804340_97424370_175 175\n",
      "https://w3id.org/nls/i/Page/9910440713804340_97424370_243 243\n",
      "https://w3id.org/nls/i/Page/9910440713804340_97424370_509 509\n",
      "https://w3id.org/nls/i/Page/9910440713804340_97424370_169 169\n",
      "https://w3id.org/nls/i/Page/9910440713804340_97424370_96 96\n",
      "https://w3id.org/nls/i/Page/9910440713804340_97424370_387 387\n",
      "https://w3id.org/nls/i/Page/9910440713804340_97424370_367 367\n",
      "https://w3id.org/nls/i/Page/9910440713804340_97424370_90 90\n",
      "https://w3id.org/nls/i/Page/9910440713804340_97424370_274 274\n",
      "https://w3id.org/nls/i/Page/9910440713804340_97424370_200 200\n",
      "https://w3id.org/nls/i/Page/9910440713804340_97424370_94 94\n",
      "https://w3id.org/nls/i/Page/9910440713804340_97424370_47 47\n",
      "https://w3id.org/nls/i/Page/9910440713804340_97424370_535 535\n",
      "https://w3id.org/nls/i/Page/9910440713804340_97424370_346 346\n",
      "https://w3id.org/nls/i/Page/9910440713804340_97424370_25 25\n",
      "https://w3id.org/nls/i/Page/9910440713804340_97424370_374 374\n",
      "https://w3id.org/nls/i/Page/9910440713804340_97424370_222 222\n",
      "https://w3id.org/nls/i/Page/9910440713804340_97424370_522 522\n",
      "https://w3id.org/nls/i/Page/9910440713804340_97424370_504 504\n",
      "https://w3id.org/nls/i/Page/9910440713804340_97424370_365 365\n",
      "https://w3id.org/nls/i/Page/9910440713804340_97424370_69 69\n",
      "https://w3id.org/nls/i/Page/9910440713804340_97424370_113 113\n",
      "https://w3id.org/nls/i/Page/9910440713804340_97424370_42 42\n"
     ]
    }
   ],
   "source": [
    "sparql = SPARQLWrapper(\"http://localhost:3030/gazetters_scotland/sparql\")\n",
    "uri=\"<https://w3id.org/nls/i/Volume/9910440713804340_97424370>\"\n",
    "query=\"\"\"\n",
    "PREFIX nls: <https://w3id.org/nls#>\n",
    "SELECT ?v ?vnum ?part  WHERE {\n",
    "       %s nls:hasPart ?v .\n",
    "       ?v nls:number ?vnum ; \n",
    "          OPTIONAL {?v nls:part ?part; }\n",
    "     \n",
    "               \n",
    "} \n",
    "\"\"\" % (uri)\n",
    "sparql.setQuery(query)\n",
    "sparql.setReturnFormat(JSON)\n",
    "results = sparql.query().convert()\n",
    "r=results[\"results\"][\"bindings\"]\n",
    "for i in r:\n",
    "    if \"part\" in i:\n",
    "        print(i[\"v\"][\"value\"], i[\"vnum\"][\"value\"], i[\"part\"][\"value\"])\n",
    "    else:\n",
    "        print(i[\"v\"][\"value\"], i[\"vnum\"][\"value\"])"
   ]
  },
  {
   "cell_type": "markdown",
   "metadata": {},
   "source": [
    "Query 23: Giving the volume with the uri: https://w3id.org/nls/i/Volume/9910440713804340_97424370, this query obtaians: number, title, part, metsXML, volume Id, permanent URL, number of Pages"
   ]
  },
  {
   "cell_type": "code",
   "execution_count": 91,
   "metadata": {},
   "outputs": [
    {
     "name": "stdout",
     "output_type": "stream",
     "text": [
      "{'num': {'type': 'literal', 'datatype': 'http://www.w3.org/2001/XMLSchema#int', 'value': '1'}, 'title': {'type': 'literal', 'value': 'gazetteer of Scotland. [With plates and maps.] 1838, Volume 1'}, 'metsXML': {'type': 'literal', 'value': '97424370-mets.xml'}, 'volumeId': {'type': 'literal', 'datatype': 'http://www.w3.org/2001/XMLSchema#int', 'value': '97424370'}, 'permanentURL': {'type': 'literal', 'value': 'https://digital.nls.uk/97424370'}, 'numberOfPages': {'type': 'literal', 'value': '538'}}\n"
     ]
    }
   ],
   "source": [
    "sparql = SPARQLWrapper(\"http://localhost:3030/gazetters_scotland/sparql\")\n",
    "uri=\"<https://w3id.org/nls/i/Volume/9910440713804340_97424370>\"\n",
    "query=\"\"\"\n",
    "PREFIX nls: <https://w3id.org/nls#>\n",
    "SELECT ?num ?title ?part ?metsXML ?volumeId ?permanentURL ?numberOfPages  WHERE {\n",
    "       %s nls:number ?num ;\n",
    "          nls:title ?title;\n",
    "          nls:metsXML ?metsXML;\n",
    "          nls:volumeId ?volumeId;\n",
    "          nls:permanentURL ?permanentURL;\n",
    "          nls:numberOfPages ?numberOfPages;\n",
    "       OPTIONAL {%s nls:part ?part. }\n",
    "      \n",
    "               \n",
    "}\n",
    "\"\"\" % (uri, uri)\n",
    "sparql.setQuery(query)\n",
    "sparql.setReturnFormat(JSON)\n",
    "results = sparql.query().convert()\n",
    "r=results[\"results\"][\"bindings\"]\n",
    "for i in r:\n",
    "    print(i)"
   ]
  },
  {
   "cell_type": "markdown",
   "metadata": {},
   "source": [
    "Query 23: Giving the volume with the uri: https://w3id.org/nls/i/Volume/9910440713804340_97424370, this query obtains the number of pages. \n"
   ]
  },
  {
   "cell_type": "code",
   "execution_count": 92,
   "metadata": {},
   "outputs": [
    {
     "data": {
      "text/plain": [
       "{'head': {'vars': ['count']},\n",
       " 'results': {'bindings': [{'count': {'type': 'literal',\n",
       "     'datatype': 'http://www.w3.org/2001/XMLSchema#integer',\n",
       "     'value': '538'}}]}}"
      ]
     },
     "execution_count": 92,
     "metadata": {},
     "output_type": "execute_result"
    }
   ],
   "source": [
    "sparql = SPARQLWrapper(\"http://localhost:3030/gazetters_scotland/sparql\")\n",
    "uri=\"<https://w3id.org/nls/i/Volume/9910440713804340_97424370>\"\n",
    "query=\"\"\"\n",
    "PREFIX nls: <https://w3id.org/nls#>\n",
    "SELECT (COUNT (DISTINCT ?p) as ?count)\n",
    "    WHERE {\n",
    "        %s nls:hasPart ?p .\n",
    "        ?p a nls:Page \n",
    "        \n",
    "} \n",
    "\"\"\" % (uri)\n",
    "      \n",
    "            \n",
    "sparql.setQuery(query)\n",
    "sparql.setReturnFormat(JSON)\n",
    "results = sparql.query().convert()\n",
    "results"
   ]
  },
  {
   "cell_type": "raw",
   "metadata": {},
   "source": [
    "Query 24: Giving the volume with the uri: https://w3id.org/nls/i/Volume/9910440713804340_97424370, this query obtains the number of alto XML files. "
   ]
  },
  {
   "cell_type": "code",
   "execution_count": 93,
   "metadata": {},
   "outputs": [
    {
     "data": {
      "text/plain": [
       "'538'"
      ]
     },
     "execution_count": 93,
     "metadata": {},
     "output_type": "execute_result"
    }
   ],
   "source": [
    "sparql = SPARQLWrapper(\"http://localhost:3030/gazetters_scotland/sparql\")\n",
    "uri=\"<https://w3id.org/nls/i/Volume/9910440713804340_97424370>\"\n",
    "query=\"\"\"\n",
    "    PREFIX nls: <https://w3id.org/nls#>\n",
    "       PREFIX rdfs: <http://www.w3.org/2000/01/rdf-schema#>\n",
    "       SELECT (count (DISTINCT ?a) as ?count)\n",
    "       WHERE {\n",
    "            %s nls:hasPart ?b .\n",
    "            ?b a nls:Page .\n",
    "            ?b nls:altoXML ?a.\n",
    "      }\n",
    "\n",
    "\n",
    "\"\"\" % (uri)\n",
    "            \n",
    "sparql.setQuery(query)\n",
    "sparql.setReturnFormat(JSON)\n",
    "results = sparql.query().convert()\n",
    "results = sparql.query().convert()\n",
    "results[\"results\"][\"bindings\"][0][\"count\"][\"value\"]"
   ]
  },
  {
   "cell_type": "markdown",
   "metadata": {},
   "source": [
    "Query 27: This query obtains the first 3 pages with the following properties:  uri, year, title, serie number, volume number, volume number, number of Pages, metsXML, number of page, text, number of Words, number of Pages"
   ]
  },
  {
   "cell_type": "code",
   "execution_count": 94,
   "metadata": {},
   "outputs": [
    {
     "name": "stdout",
     "output_type": "stream",
     "text": [
      "https://w3id.org/nls/i/Page/9930626093804340_97393254_206 1901 Ordnance gazetteer of Scotland,1901 5 https://w3id.org/nls/i/Volume/9930626093804340_97393254 1 1776 97393254-mets.xml 206 BUCKHOLMSIDE bein£ scared by the footing of the horse. The fishermen of this town have a great many boats of all sizes, vrhich lie upon the beach, ready to be fitted out every year for the herring season, in which they have a very great share. ' Buckhaven now is included in the fishery district of Anstruther. At it are a Free church, '2 U.P. churches, and a public school, which, with accommodation for 72S children, had (1S91) an average attendance of 611, and a grant of £534, 12s. 6d. Pop. (1841) 1526, (1861) 1965, (1S71)21S7, (1881)2952, (1S91) 4006—Ord. Sur., sh. 40, 1867. See History of Buckhaven (priv. prin. 1813), and an article in Chambers's Edinburgh Journal, Dec. 14, 1S33, by the Fife poet, David Molyson. Buckholmside, a part of Galashiels town iu Melrose parish, Roxburghshire, on the left bank of Gala Water. It takes its name from Buckholm Hill (1064 feet), immediately adjacent to it; and it forms, both practically and compactly, a large part of Galashiels. Buckie, a burn and a hamlet in Alford parish, Aberdeenshire. The burn runs in the central and eastern part of the parish to the Don. The hamlet adjoins the burn. Buckie, a coast town and police burgh in Rathven parish, Banffshire, at the mouth of a burn of its own name, 7 J miles NE of Fochabers, 1 J ENE of Portgordon, and 12J W by S of Portsoy, with a station on the Portsoy and Elgin branch of the Great North of Scotland railway, and another on the Highland railway. The burn divides the town into Easter or Buckie proper to the E, and Nether Buckie to the W, the latter dating from about 1650, the former from 1723. In 18S8 it adopted the General Police Act, and is governed by a chief magistrate, 2 junior magistrates, and 9 commissioners. It has a post office with money order, savings bank, insurance, and telegraph departments, branches of the Town and County, North of Scotland, and Union banks, several hotels, gas-works, a lifeboat, a public reading-room and library, a foundry and steam saw-mills, a net work, rope and sail yards, and a large distillery at Inchgower; but fishing is the principal trade. There is a weekly newspaper, the Banffshire Advertiser (Liberal), published every Thursday. A fair is held on the Wednesday before the fourth Friday of July. It has an Established church, raised from a chapel of ease to quoad sacra status in 1876; a Free church, Elizabethan in style, has a fine steeple ; All Saints' Episcopal church, erected (1875-76) at a cost of £2000, is a Decorated edifice, with nave, chancel, circular apse, and a spire 96 feet high; a U.P. church was built in 1870, and St Peter's Roman Catholic church in 1857. The public school, erected (1876) at a cost of £3392, is an Early English pile, with square tower 60 feet high; and this, Lady Cathcart's female industrial school, and a Roman Catholic school, with respective accommodation for 720, 150, and 349 children, had (1891) an average attendance of 513, 124, and 284, and grants of £504, 13s. 6d., £108, 10s., and £261, 12s. It has two harbours, one in Buckie proper, the other in Nether Buckie. The former, replacing one of 1857, was constructed of concrete during 1874-80 at a cost of about £70,000, defrayed by the late Mr Gordon of Cluny, and, with an area of 9 acres and quayage of nearly half a mile, comprises an outer and an inner basin. The latter, 4 acres in extent, is 10 feet deep at low water, and thus has a greater depth than any harbour to the N of Leith; 40,000 cubic yards of concrete were used in the entire work, for which 115,000 cubic yards of rock had to be excavated, and 15,000 of soft materials. In 1794 Buckie had only 19 sloops and fishing-boats of aggregately 122 tons; while in 1892 its fishing-craft numbered 210 large boats and 40 small ones—total, 250. The Buckie fishing district, comprising the stations right and left from Banff to Findhorn, ranks the foremost in the kingdom in respect of the number of the boats owned and employed, and also in value. In this district in 1890 there were cured 34,070 barrels of white herring, besides 50,699 cod, ling, and hake—taken by 713 boats; the persons employed being 3522 fishermen and boys, 24 fiah-curers, 100 coopers, and some thousands of others, while the total value of 198 BTJITTLE boats, nets, and lines was estimated at £192,574. Pop. (1794) 703, (1841) 2165, (1S61) 2798, (1871) 3803, (1881) 4176, (1891) 5849; of quoad sacra parish (1891) 5680.— Ord. Sur., sh. 95, 1876. See pp. 316-320 of James Brown's Round Table Club (Elgin). Buckieburn, a hamlet in the SW of St Ninian's parish, Sth-lingshire, on a small burn at the foot of the Lennox Hills, 4 miles WNW of Denny. Buckie-Den, the beautifully romantic dell of the Buckie-Deu Burn, in the parish of Lunan, Forfarshire, 4 miles SSW of Montrose. It has steep sides, in some parts almost vertical, in most parts gemmed with shrubs and flowers; and it is traversed by a small rapid rill, running to the sea, and leaping along in cataracts sometimes 20 or 30 feet high. Buckinch, a quondam island in the river Clyde,^within Renfrew parish, Renfrewshire. It now forms part of the lands of Scotstoun. Buckland, a burn iu Kirkcudbright parish, Kirkcudbrightshire. It is formed by the confluence of Balcreddan and Gribdie burns, in the vicinity of Bombie; and it runs, from the point of confluence, 2J miles southwestward to the Dee below St Mary's Isle. Bucklerhead, a hamlet in the parish of Murroes, Forfarshire. Bucklyvie or Buchlyvie, a village on the W border of Kippen parish, Stirlingshire, on a small burn, J mile SE of the Forth and Clyde railway, and 4 NNE of Balfron. A burgh of barony, it has a post office under Stirling, with money order and savings bank departments, and a railway telegraph office, a railway station, a quoad sacra church (1836), a Free church, a U.P. church (1751), and public waterworks (1870). A public school, with accommodation for 120 children, had (1891) an average attendance of 84, and a grant of £86, 5s. 6d. Pop. (1861) 339, (1871) 327, (1881) 319, (1891) 313; of quoad sacra parish (1891) 806. Buckny, a burn in Stormont district, Perthshire. Rising in the E of Logierait parish, it passes between the mountains of Benachally (1594 feet) and Duchray (1670); traverses, with impetuous current, a deep, narrow, rocky dell, the Den of Riechip; and, separating Caputh and Clunie parishes, enters the latter in Laighwood Park, and there falls into the Lunan, after a course (SSE and E by S) of 8J miles. Buck of Cabrach, a mountain on the mutual border of Cabrach, Auchindoir, and Kildrummy parishes, Aberdeenshire, 13 miles SW by S of Huntly. Rising 2368 feet above sea-level, it presents, to the N and E, a pyramidal outline, tapering towards the top, and crowned with a cluster of rocks looking like gigantic statuary; and, though 33 miles distant from the coast, is visible a good way out at sea. Euddo, a remarkable rock on the coast of St Andrews parish, Fife, 3J miles ESE of St Andrews city. Buddon, a burn of SE Forfarshire, rising in the NW corner of Monifieth parish, and taking a generally SE course of 5| miles, till it falls into the Firth of Tay, 3J miles E by\"N of Broughty Ferry. See Barry. Bueinch, a wooded islet of Buchanan parish, Stirlingshire, in Loch Lomond, 1 furlong NE of Inchcruin island, and itself about 1 furlong long. Buie, a burn in Ardchattan parish, Argyllshire, running about 3 miles to Loch Crei'an. Buie or Buidhe, a loch on the mutual border of Criech and Dornoch parishes, SE Sutherland, 7-h miles NNE of Bonar-Bridge station. Lying 527 feet above sea-level, it is 1$ mile long by i broad, contains good trout, and is gained by salmon by means of a remarkable ladder on the Carnach river. Builg, a loch in Kirkmichael parish, S Banffshire, close to the Aberdeenshire border, 3 miles S of Inchrory. Lying 1586 feet above sea-level, at the NE base of Ben Avon, it has an extreme length and breadth of J and J mile, abounds in trout and char, and sends off a burn to the river Aven. The Queen beheld it ' beautifully lit up by the sotting sun,' 5 Sept. 1860. Buittle, a coast parish of Kirkcudbrightshire, which, reaching NW to within a mile of Castle-Douglas, and E 1451\n",
      "---\n",
      "https://w3id.org/nls/i/Page/9931344953804340_97448598_527 1848 topographical, statistical, and historical gazetteer of Scotland,1848 10 https://w3id.org/nls/i/Volume/9931344953804340_97448598 2 878 97448598-mets.xml 527 PERTH. 511 heights on the boundaries, and numerous swells in the interior, subside by gentle gradients into a luxuriant stretch of plain, which extends along the Tay. Nearly three-fourths of the whole parochial area is arable ground in a state of the highest cultivation ; upwards of 700 acres are covered with wood ; and the caps of some of the hills, as well as the two beautiful pendicles of level ground called Inches, in the immediate outskirts of the town, are disposed in pasture. The soil on the higher grounds is a rich loam ; and, on the low or level grounds, it is a clayey alluvium lying upon gravel. The old red sandstone, dipping toward the north-west, lies beneath most of the parish; it was at one time quarried as buildingstone, but was found too perishable. A vast bed of conglomerate occurs in the south-west. Greenstone, basalt, and other forms of trap, constitute the hills along the south; and the trap-rock is in one place quarried as road-metal. Boulders of granite and gneiss, which must have been tossed along from the Grampians, were at one time common, and are still not infrequent; but wherever they obstructed cultivation they have been removed. The Almond, during its brief connection with the parish, has lost all its high romance, and is tamely pretty. The Tay, as it sweeps along the boundary, and makes a bold debouch from a southerly to an easterly direction, and splits, just before the curve, into two streams, which forms the beautiful islet of Moncrieff, and marches on in the united column of its waters, to stem the tides from the frith and to flank the Carse of Gowrie, is a majestic and sumptuous stream, luxuriating in the picturesqueness and beauty of its lowland path, after its wild race among the romance and the sublimity of the Highlands. The salmon-fisheries are valuable, and rent at between £1,300 and £1,400. The villages of the parish are Tulloch [which see], Craigie, with 250 inhabitants, and Pitheaveless and Cherrybank, with jointly 120. The principal landowners are the Earl of Kinnoul, Earl Grey, Lord Elibank, and Sir Thomas Moncrieff, Bart. A notice of antiquities, manufactures, traffic, and other matters, belongs to our article on the town. Population, in 1801, 14,878; in 1831, 20,016. Houses 2,049. Assessed property, in 1815, £34,838. Perth is the seat of a presbytery in the synod of Perth and Stirling. The parish of East Kirk of Perth comprehends all the landward part of the ancient parish, and a portion of the suburbs of the town ; and was erected into its present form, in 1807, by the court of teinds. The church is a section of a very ancient edifice, which will be described as one of the town's public buildings, and the other sections of which are fitted up as the churches of the Middle and the West parishes. Sittings 1,28G. Stipend £266 9s. 5d. Patron, the Town-council. •— An United Secession church was established at Craigeud in 1780; and built a chapel in 1780, a house for the minister in 1792, and a schoolhouse in 1826. Sittings in the chapel 413. Stipend £100, with £8 8s. for sacramental expenses. —An Original Burgher congregation was established in the parish upwards of 33 years ago. Their chapel was built in 1821, and cost £1,000. Sittings 740 A. Roman Catholic congregation was established in 1830. The chapel was built in 1833, and afterwards improved, at an aggregate cost of about £1,000. Sittings 450. The minister or priest officiates over all Perthshire. Stipend £8, and the proceeds of the seat-rents— A Glassite congregation was established about 1730, and built a place of worship between 1760 and 1770. Sittings unascertained. No stipend The population of the parish, in 1831, was 7,188; and, in 1838, it had probably increased not more than 200 A small portion of the parish, containing about 80 inhabitants, is included quoad sacra in the Perth parish of St. Leonard's. —The schools are the town seminaries and an infant-school. The town seminaries consist of two English schools with each one teacher, a grammar-school with two teachers, and an academy for mathematics, arithmetic, writing, French, and other modern languages, with a rector and three masters. The infant school was, in 1834, conducted by one teacher, and attended by 80 boys and 100 girls. In 1834 subscriptions were commenced with the view of building four new schools. The parish of Middle Kirk of Perth was divided from the original parish in 1807, by authority of the court of teinds. It is wholly a town-parish; and measures 250 yards in extreme length, and 160 yards in extreme breadth. Sittings in the church 1,208. Stipend £259 0s. 7d. Patron, the Town-council. An assistant and successor has £70 from the minister and £80 from the congregation. A town-missionary acts for the various parishes, but has regular evening service in the Middle Kirk. Two congregational and 9 parochial Sabbath schools are taught by the members of session, and attended by upwards of 200 scholars The South United Secession congregation was established in 1739, and built a chapel in 1740. Sittings 932. Two Sabbath schools connected with the congregation are attended by about 140 children. —The Original Seceder congregation was established in 1820, and built their place of worship in 1821, at the cost of about £1,000. Sittings between 600 and 700. Stipend £100; annuity to a colleague £40. There are two Sabbath schools. — The first Relief congregation was established in 1785, and built their chapel next year, at the cost of about £700. Sittings 915. The charge is collegiate. Stipend of each minister £90. Two Sabbath schools have an attendance of 120. —The Baptist congregation was established about the year 1788. Their chapel was built in 1831 at the expense of about £700. Sittings 300. Stipend, between £70 and £80. A city-missionary is salaried at £5, to visit one day in the week, and a Sabbath school is kept.— In 1831, the population of the parish was 5,238; but, in 1836, in consequence of several old houses having fallen, it was reduced to 4,726. At the latter of these dates ihe minister classified it into 2,805 churchmen, 1,674 dissenters, and 247 nondescripts In 1834, there were 10 schools conducted by 10 teachers. Three of the schools were maintained by subscription for poor children, and by small sees, and were attended by 332 scholars; two were private schools, taught by females, and attended by about 70 girls; and five were private schools, for reading, writing, and arithmetic, and were attended by 230 scholars. The West Church parish is about half-a-mile square, lies almost all in the town, and comprises a great part of the quoad sacra parish of St. Leonard's. Sittings in the parish-church 957. Stipend £250. There is one Sabbath school, attended by about 2U0 children An Episcopalian chapel in the parish has between 250 and 300 sittings. Stipend £150 — The population, quoad civilia, was, in lt-31, 4,406; and, quoad sacra, it was, in 1838, 2,327, —of whom 1,500 were churchmen, 685 were dissenters, and 142 were nondescripts. —In 1834, there were four schools, all private, conducted by six teachers, and attended by 129 scholars. St. Paul's parish lies wholly in the town, and measures about a mile in extreme length, and about i of a mile in extreme breadth. The church was built in 1805-6. Sittings 884. Stipend £280. Patron, the Town-council The North United Secession congregation was established in 1739. Their meeting-house was built in 1791 at an expense of 1291\n",
      "---\n",
      "https://w3id.org/nls/i/Page/9931344933804340_97493971_305 1842 topographical, statistical, and historical gazetteer of Scotland,1842 9 https://w3id.org/nls/i/Volume/9931344933804340_97493971 2 878 97493971-mets.xml 305 LOCHMABEN. 291 1 1 e Lion to Robert, 3d Lord of Annandale, confirming to him the property possessed by his father in that district, is dated at Lochmaban. This is supposed to have been granted between the years 11G5 and 1174. The church of Lochmaben was one of those which Robert Bruce, Lord of Annandale, gave to the monks of Gyseburn, in Yorkshire, about the year 1183. Bruce, the competitor for the throne, and the grandfather of Robert I., died at his castle of Lochmaben, a.d. 1295, or, according to Leland, 1296. In the year preceding his death, he granted a charter, dated at this fortress, confirming a convention between the monks of Melross, and those of Holmcultram. \" This old castle of Lochmaben,\" it is said by Chalmers in his ' Caledonia,' [iii. 78, 79,] \" continued the chief residence of this respectable family, during the 12th and 13th centuries. Robert de Brus, the first Earl of Carrick, of this dynasty, probably repaired the castle at Annan.\" As a stone, taken from the ruins of Annan-castle, bears his name, with the date 1300, the conjecture seems to be formed, with great probability, that the family had continued previously to reside at Lochmaben. According to the testimony of our venerable minstrel, that hero, who so long withstood all the power, and all the bribes, of the royal Norman usurper,—he whom English writers have called 'a public robber,'* who could be vanquished only by the vilest treachery, —the immortal Wallace, —took the castle of Lochmaben. As he had only a few men with him, the deserted state of the place made it comparatively an easy acquisition. He thus addressed himself to the gallant Sir John Grahame, and his other companions : \" I wald eailye,a giffb ye think it may be, Lowinaban honss, quhilk now is left aliayne ; Fur Weill I waite power in it is lewyt d nayne. e Cariauernk als yeitf Maxwell has in hand; And we had this, thai mycht be batli g a wand Agayne li Sotheronn.i that now has our cuntre. Say qubat ye will, this is the best, think me.\" sc Si-hir Jlione the Grayme gaiff 1 fyrst his gud eomeotj Syne all the layff, m ryeht with a haill entent. n To Lowmaban rycht haistely thai ryd. The old bard subjoins a characteristic trait of the invariable conduct of Wallace to the defenceless: . Qtihen the ladie had thaim seyne, , *' Grace,\" scho cryit, \"fur hym that deit o on tre.\" Than Wallace said, \" Mademe, your noyis Jat be. p To wetneii yeit we do bot litill ill Na yong ehildir we lik for to spill, q Wallace, B. V. v. 997. 1033. After the death of John Bohun, Earl of Hereford, this castle was given to Edward, of the same name. It was a.d. 1335, in the keeping of William Bohun, whom Randolph, Earl of Moray, \"found in his own castle of Lochmaban, and bearing sway over all his own lands of Annandale, when he returned from his captivity in France.\" In the year 1366, it is spoken of as the property of Humphrey de Bohun, who is authorized to victual and repair it. In July 1298; Edward I. took possession of Lochmaben-castle and, in 1300, when we find him here a second time, he strengthened this fortress, with that of Dumfries, placing adequate garrisons in them, with ample supplies, and appointing a governor for each. To this fortress Bruce fled, a.d. 1304, on his way from London, before erecting his royal standard. Having met, near the west marches, a traveller on foot, whose appearance was suspicious, he found, on examination, that he was the bearer of letters from Corny n to the English king, urging the death or the immediate im* Qnidam latro publicum, Williehnus Waleys. Knyghton, col. zo\\'i — llle latro, ibid. 25lt>. a Assail. b If. c Know. d Left. e None. t As yet, still, g Both, li Against, i Englishmen, k In iny apprehension. 1 Gave. in Remainder, n Design, o Died. p Cease to cry. q Detstruy. prisonment of Bruce. He beheaded the messenger, and pressed forward to his castle of Lochmaben, where he arrived on the seventh day after his departure from London. Hence he proceeded to Dumfries, where the fatal interview between him and Comyn took place. At the accession of the Bruce to the Scottish throne [see article Annandale], he conferred his paternal inheritance, with its chief seat, the castle of Lochmaben, on Randolph, Earl of Murray. When Edward III. obtained from the inglorious Edward Baliol the county of Dumfries as part of the price for helping him to a usurped and dependent throne, he appointed a variety of officers over Lochmabencastle, and garrisoned the fortress in defence of the wrongful cause of England. In 1342 the Scots made a strenuous attempt to capture the castle, but were repulsed ; and next year David II. 's particular forces, whom he was imprudently leading into England, were stoutly resisted and severely harassed by its garrison. David, exasperated by the repeated disasters inflicted on him, in 1346 vigorously assaulted the fortress, took it, and executed Selby its governor. By the fatal upshot of the battle of Durham, which speedily followed, the castle changed both its proprietor and its tenants. John, Earl of Moray, falling in that battle, the castle passed by inheritance to his sister, Agnes, the Countess of March, and from her was transmitted, through the reigns of Robert II. and Robert III., to her son, Earl George ; and David II. becoming the English king's prisoner, the castle once more opened its gates to an English garrison. Even after David II. 's restoration, Edward III. retained the district of Annandale, and kept the fortress well garrisoned to defend it ; but though connived at by the pusillanimity of the Scottish king, his dominion was pent up, by the bravery of the people, within the castle's own narrow limits. Sallies and forages of the garrison, provoked frequent retaliations, occasioned incursions into England, and led, in particular, to a hostile race, in 1380; into Westmoreland, and the carrying away of great booty from the fair of Penrith. In 1384 the Earl of Douglas, and Archibald Douglas, lord of Galloway, whose territories had been infested by the garrison, marched in strong force against the castle, besieged and captured it, and, by effecting its reduction, drove the English from Annandale. In 1409 the castle was resigned by the Earl of March to the Regent Albany, and conferred, along with the lordship of Annandale, upon the Earl of Douglas. In 1450, when the Earl of Orkney was sent to quell some tierce outrages of the dependents of the Douglas, and, though acting by the King's authority, was opposed and defied, James II. marched an army into Annandale, and took and garrisoned Lochmaben-castle. In 1455 the castle, in common with the lordships of Annandale and Eskriale, became the property of the Crown by the attainder of the Earl of Douglas. Till the union of the Crowns it was preserved as a Border strength, and belonged either personally to the kings or to their sons ; and it was maintained and managed by a special governor. In a progress made by James IV., in the year 1504, against the disorderly inhabitants of the south, he, on the 17th of September, left Lochmaben, on his way to Edinburgh, by Peebles. It appears, from the treasurer's accounts, that, in 1503-4, this prince built a large hall in the castle of Lochmaben, and made great repairs and improvements on that fortress, from 1503 to 1506. We may perhaps view it as a proof of the interest which James IV. took in the preservation of this royal fortress, that he consigned the custody of it to Robert Lauder of the Bass. For there is extant a grant, dated 16th March, 1511, to the said Robert, of the office of cap- 1351\n",
      "---\n"
     ]
    }
   ],
   "source": [
    "sparql = SPARQLWrapper(\"http://localhost:3030/gazetters_scotland/sparql\")\n",
    "sparql.setQuery(\"\"\"\n",
    "PREFIX nls: <https://w3id.org/nls#> \n",
    "SELECT ?uri ?year ?title ?snum ?vnum ?v ?part ?metsXML ?page ?text ?numberOfWords ?numberOfPages\n",
    "        WHERE {\n",
    "        ?uri a nls:Page .\n",
    "        ?uri nls:text ?text .\n",
    "        ?uri nls:number ?page .\n",
    "        ?uri nls:numberOfWords ?numberOfWords .\n",
    "        ?v nls:hasPart ?uri.\n",
    "        ?v nls:number ?vnum.\n",
    "        ?v nls:numberOfPages ?numberOfPages .\n",
    "        ?v nls:metsXML ?metsXML.\n",
    "        ?s nls:hasPart ?v.\n",
    "        ?s nls:publicationYear ?year.\n",
    "        ?s nls:number ?snum.\n",
    "        ?s nls:title ?title.\n",
    "        OPTIONAL {?v nls:part ?part; }\n",
    "\n",
    "        }   \n",
    "        LIMIT 3\n",
    "\n",
    "\"\"\")\n",
    "sparql.setReturnFormat(JSON)\n",
    "results = sparql.query().convert()\n",
    "r=results[\"results\"][\"bindings\"]\n",
    "for i in r:\n",
    "    print(i[\"uri\"][\"value\"], i[\"year\"][\"value\"], i[\"title\"][\"value\"], i[\"snum\"][\"value\"], \\\n",
    "          i[\"v\"][\"value\"], i[\"vnum\"][\"value\"],i[\"numberOfPages\"][\"value\"],\\\n",
    "          i[\"metsXML\"][\"value\"], i[\"page\"][\"value\"],i[\"text\"][\"value\"], i[\"numberOfWords\"][\"value\"]\n",
    "          \n",
    "          )\n",
    "    print(\"---\")\n"
   ]
  },
  {
   "cell_type": "code",
   "execution_count": null,
   "metadata": {},
   "outputs": [],
   "source": []
  }
 ],
 "metadata": {
  "kernelspec": {
   "display_name": "Python 3 (ipykernel)",
   "language": "python",
   "name": "python3"
  },
  "language_info": {
   "codemirror_mode": {
    "name": "ipython",
    "version": 3
   },
   "file_extension": ".py",
   "mimetype": "text/x-python",
   "name": "python",
   "nbconvert_exporter": "python",
   "pygments_lexer": "ipython3",
   "version": "3.9.7"
  }
 },
 "nbformat": 4,
 "nbformat_minor": 2
}
