{
 "cells": [
  {
   "cell_type": "markdown",
   "metadata": {},
   "source": [
    "# SPARQL Queries - Chapbooks Scotland - ChapbooksScotland-KG\n",
    "\n",
    "\n",
    "This notebook enables to perform several SPARQL queries to the ChapbooksScotland-KG Knowlege Graph (chapbooks_scotland.ttl). It includes two types RDF queries:\n",
    "\n",
    " - Querying the KG locally: Using rdflib.plugins.sparql\n",
    " - Querying the KG from an Apache Fuseki Server: Using SPARQLWrapper\n",
    "\n",
    "The ChapbooksScotland-KG implements the [NLS-Ontology](https://francesnlp.github.io/NLS-ontology/doc/index-en.html), which has the following [Data Model](https://francesnlp.github.io/NLS-ontology/doc/dataModel.png)\n",
    "\n",
    "The ChapbooksScotland-KG (chapbooks_scotland.ttl) can be download from [Zenodo](https://zenodo.org/record/6673995#.YrHcBZBBx_A).\n",
    "\n",
    "In general terms this NLS-Ontology can be described as follows:\n",
    "1. A Digital Collection can have several Series.\n",
    "2. A Serie can have several Volumes (Books).\n",
    "3. A Serie can have several Editors, Publishers and reference books\n",
    "4. A Volume has several Pages\n",
    "5. A Page has text\n",
    "6. A Serie can have a Supplement\n",
    "7. A Supplement can have several Editors, Publishers and reference books\n",
    "8. A Supplement can have several Volumes\n",
    "\n",
    "\n",
    "Example of values of the ChapbooksScotland-KG properties:\n",
    "\n",
    "\n",
    "    mmsid: 9937033633804341\n",
    "    serie title: Chapbooks printed in Scotland\n",
    "    editor name: Milne, John\n",
    "    editor_date: 1792-1871\n",
    "    genre: Chapbooks-Scotland-Aberdeen-1801-1900\n",
    "    language: eng\n",
    "    metsXML: 104184105-mets.xml\n",
    "    termsOfAddress: None\n",
    "    numberOfPages: 8\n",
    "    numberOfWords: 53\n",
    "    permanentURL: https://digital.nls.uk/104184105\n",
    "    physicalDescription: 8 p. ; 18 cm.\n",
    "    place: Aberdeen\n",
    "    publisher: Printed by A. Imlay, 22, Long Acre\n",
    "    referencedBy: None\n",
    "    shelfLocator: L.C.2786.A(1)\n",
    "    altoXML: 104184105/alto/107134030.34.xml\n",
    "    serie subtitle: to the tune of Johnny Cop\n",
    "    text: A SONG JRAISB OP THE ^ HIGHLAND LADS. To the T...\n",
    "    page number: Page1\n",
    "    volume title: song in praise of the highland lads\n",
    "    volumeId 104184105\n",
    "    year 1826\n",
    "    serie number: 0\n",
    "    part: 0\n",
    "    publisherPersons; []\n",
    "    numberOfVolumes: 3080\n",
    "    volume number: 1\n",
    "\n"
   ]
  },
  {
   "cell_type": "markdown",
   "metadata": {},
   "source": [
    "### Loading the necessary libraries"
   ]
  },
  {
   "cell_type": "code",
   "execution_count": 1,
   "outputs": [
    {
     "name": "stdout",
     "output_type": "stream",
     "text": [
      "Package                  Version\r\n",
      "------------------------ ----------\r\n",
      "altgraph                 0.17.2\r\n",
      "anyio                    3.6.2\r\n",
      "appnope                  0.1.3\r\n",
      "argon2-cffi              21.3.0\r\n",
      "argon2-cffi-bindings     21.2.0\r\n",
      "arrow                    1.2.3\r\n",
      "astroid                  2.14.2\r\n",
      "asttokens                2.2.1\r\n",
      "attrs                    22.2.0\r\n",
      "backcall                 0.2.0\r\n",
      "beautifulsoup4           4.11.2\r\n",
      "bertopic                 0.10.0\r\n",
      "bleach                   6.0.0\r\n",
      "blis                     0.7.9\r\n",
      "catalogue                2.0.8\r\n",
      "certifi                  2022.12.7\r\n",
      "cffi                     1.15.1\r\n",
      "charset-normalizer       3.0.1\r\n",
      "chart-studio             1.1.0\r\n",
      "click                    8.1.3\r\n",
      "comm                     0.1.2\r\n",
      "confection               0.0.4\r\n",
      "contourpy                1.0.7\r\n",
      "cycler                   0.11.0\r\n",
      "cymem                    2.0.7\r\n",
      "Cython                   0.29.33\r\n",
      "debugpy                  1.6.6\r\n",
      "decorator                5.1.1\r\n",
      "defusedxml               0.7.1\r\n",
      "dill                     0.3.6\r\n",
      "dominate                 2.7.0\r\n",
      "en-core-web-lg           3.5.0\r\n",
      "en-core-web-sm           3.5.0\r\n",
      "exceptiongroup           1.1.0\r\n",
      "executing                1.2.0\r\n",
      "fastjsonschema           2.16.3\r\n",
      "filelock                 3.9.0\r\n",
      "flasgger                 0.9.5\r\n",
      "Flask                    2.2.3\r\n",
      "Flask-Bootstrap          3.3.7.1\r\n",
      "Flask-Cors               3.0.10\r\n",
      "Flask-JWT-Extended       4.4.4\r\n",
      "flask-paginate           2022.1.8\r\n",
      "fonttools                4.38.0\r\n",
      "fqdn                     1.5.1\r\n",
      "future                   0.18.2\r\n",
      "hdbscan                  0.8.29\r\n",
      "huggingface-hub          0.12.0\r\n",
      "idna                     3.4\r\n",
      "importlib-metadata       6.0.0\r\n",
      "importlib-resources      5.10.2\r\n",
      "iniconfig                2.0.0\r\n",
      "ipykernel                6.21.3\r\n",
      "ipython                  8.11.0\r\n",
      "ipython-genutils         0.2.0\r\n",
      "ipywidgets               8.0.4\r\n",
      "isodate                  0.6.1\r\n",
      "isoduration              20.11.0\r\n",
      "isort                    5.12.0\r\n",
      "itsdangerous             2.1.2\r\n",
      "jedi                     0.18.2\r\n",
      "Jinja2                   3.1.2\r\n",
      "joblib                   1.2.0\r\n",
      "jsonpointer              2.3\r\n",
      "jsonschema               4.17.3\r\n",
      "jupyter                  1.0.0\r\n",
      "jupyter_client           8.0.3\r\n",
      "jupyter-console          6.6.3\r\n",
      "jupyter_core             5.2.0\r\n",
      "jupyter-events           0.6.3\r\n",
      "jupyter_server           2.4.0\r\n",
      "jupyter_server_terminals 0.4.4\r\n",
      "jupyterlab-pygments      0.2.2\r\n",
      "jupyterlab-widgets       3.0.5\r\n",
      "kiwisolver               1.4.4\r\n",
      "langcodes                3.3.0\r\n",
      "lazy-object-proxy        1.9.0\r\n",
      "llvmlite                 0.39.1\r\n",
      "lxml                     4.9.2\r\n",
      "macholib                 1.15.2\r\n",
      "MarkupSafe               2.1.2\r\n",
      "matplotlib               3.7.0\r\n",
      "matplotlib-inline        0.1.6\r\n",
      "mccabe                   0.7.0\r\n",
      "mistune                  2.0.5\r\n",
      "murmurhash               1.0.9\r\n",
      "nbclassic                0.5.3\r\n",
      "nbclient                 0.7.2\r\n",
      "nbconvert                7.2.9\r\n",
      "nbformat                 5.7.3\r\n",
      "nest-asyncio             1.5.6\r\n",
      "networkx                 3.0\r\n",
      "nltk                     3.8.1\r\n",
      "notebook                 6.5.3\r\n",
      "notebook_shim            0.2.2\r\n",
      "numba                    0.56.4\r\n",
      "numpy                    1.23.5\r\n",
      "packaging                23.0\r\n",
      "panda                    0.3.1\r\n",
      "pandas                   1.5.3\r\n",
      "pandocfilters            1.5.0\r\n",
      "parso                    0.8.3\r\n",
      "pathy                    0.10.1\r\n",
      "pep8                     1.7.1\r\n",
      "pexpect                  4.8.0\r\n",
      "pickleshare              0.7.5\r\n",
      "Pillow                   9.4.0\r\n",
      "pip                      21.2.4\r\n",
      "platformdirs             3.0.0\r\n",
      "plotly                   5.13.0\r\n",
      "pluggy                   1.0.0\r\n",
      "preshed                  3.0.8\r\n",
      "prometheus-client        0.16.0\r\n",
      "prompt-toolkit           3.0.38\r\n",
      "psutil                   5.9.4\r\n",
      "psycopg2-binary          2.9.5\r\n",
      "ptyprocess               0.7.0\r\n",
      "pure-eval                0.2.2\r\n",
      "py4j                     0.10.9.5\r\n",
      "pycodestyle              2.10.0\r\n",
      "pycparser                2.21\r\n",
      "pydantic                 1.10.5\r\n",
      "Pygments                 2.14.0\r\n",
      "PyJWT                    2.6.0\r\n",
      "pylint                   2.16.2\r\n",
      "pynndescent              0.5.8\r\n",
      "pyparsing                3.0.9\r\n",
      "pyrsistent               0.19.3\r\n",
      "pyspark                  3.3.2\r\n",
      "pytest                   7.2.1\r\n",
      "python-dateutil          2.8.2\r\n",
      "python-json-logger       2.0.7\r\n",
      "pytz                     2022.7.1\r\n",
      "PyYAML                   5.4.1\r\n",
      "pyzmq                    25.0.0\r\n",
      "qtconsole                5.4.0\r\n",
      "QtPy                     2.3.0\r\n",
      "rdflib                   6.2.0\r\n",
      "regex                    2022.10.31\r\n",
      "requests                 2.28.2\r\n",
      "retrying                 1.3.4\r\n",
      "rfc3339-validator        0.1.4\r\n",
      "rfc3986-validator        0.1.1\r\n",
      "scikit-learn             1.2.1\r\n",
      "scipy                    1.10.0\r\n",
      "Send2Trash               1.8.0\r\n",
      "sentence-transformers    2.2.2\r\n",
      "sentencepiece            0.1.97\r\n",
      "setuptools               58.0.4\r\n",
      "six                      1.15.0\r\n",
      "smart-open               6.3.0\r\n",
      "sniffio                  1.3.0\r\n",
      "soupsieve                2.4\r\n",
      "spacy                    3.5.0\r\n",
      "spacy-legacy             3.0.12\r\n",
      "spacy-loggers            1.0.4\r\n",
      "SPARQLWrapper            2.0.0\r\n",
      "srsly                    2.4.5\r\n",
      "stack-data               0.6.2\r\n",
      "tenacity                 8.2.1\r\n",
      "terminado                0.17.1\r\n",
      "thinc                    8.1.7\r\n",
      "threadpoolctl            3.1.0\r\n",
      "tinycss2                 1.2.1\r\n",
      "tokenizers               0.13.2\r\n",
      "tomli                    2.0.1\r\n",
      "tomlkit                  0.11.6\r\n",
      "torch                    1.13.1\r\n",
      "torchvision              0.14.1\r\n",
      "tornado                  6.2\r\n",
      "tqdm                     4.64.1\r\n",
      "traitlets                5.9.0\r\n",
      "transformers             4.26.1\r\n",
      "typer                    0.7.0\r\n",
      "typing_extensions        4.5.0\r\n",
      "umap-learn               0.5.3\r\n",
      "uri-template             1.2.0\r\n",
      "urllib3                  1.26.14\r\n",
      "validators               0.20.0\r\n",
      "visitor                  0.1.3\r\n",
      "wasabi                   1.1.1\r\n",
      "wcwidth                  0.2.6\r\n",
      "webcolors                1.12\r\n",
      "webencodings             0.5.1\r\n",
      "websocket-client         1.5.1\r\n",
      "Werkzeug                 2.2.3\r\n",
      "wheel                    0.37.0\r\n",
      "widgetsnbextension       4.0.5\r\n",
      "wrapt                    1.14.1\r\n",
      "zipp                     3.13.0\r\n",
      "\u001B[33mWARNING: You are using pip version 21.2.4; however, version 23.0.1 is available.\r\n",
      "You should consider upgrading via the '/Library/Developer/CommandLineTools/usr/bin/python3 -m pip install --upgrade pip' command.\u001B[0m\r\n"
     ]
    }
   ],
   "source": [
    "# List a pip package in the current Jupyter kernel\n",
    "import sys\n",
    "!{sys.executable} -m pip list"
   ],
   "metadata": {
    "collapsed": false
   }
  },
  {
   "cell_type": "code",
   "execution_count": 2,
   "metadata": {},
   "outputs": [],
   "source": [
    "import rdflib\n",
    "from rdflib.extras.external_graph_libs import rdflib_to_networkx_multidigraph\n",
    "import networkx as nx\n",
    "import matplotlib.pyplot as pl\n",
    "from rdflib import Graph, ConjunctiveGraph, Namespace, Literal\n",
    "from rdflib.plugins.sparql import prepareQuery"
   ]
  },
  {
   "cell_type": "code",
   "execution_count": 3,
   "metadata": {},
   "outputs": [],
   "source": [
    "import networkx as nx\n",
    "import matplotlib.pyplot as plt\n",
    "from SPARQLWrapper import SPARQLWrapper, JSON"
   ]
  },
  {
   "cell_type": "code",
   "execution_count": 4,
   "metadata": {},
   "outputs": [],
   "source": [
    "import matplotlib.pyplot as plt\n",
    "plt.rcParams['figure.figsize'] = [15, 10]"
   ]
  },
  {
   "cell_type": "markdown",
   "metadata": {},
   "source": [
    "### Functions"
   ]
  },
  {
   "cell_type": "code",
   "execution_count": 5,
   "metadata": {},
   "outputs": [],
   "source": [
    "def plot_resource(results):\n",
    "\n",
    "    G = rdflib_to_networkx_multidigraph(results)\n",
    "    pos = nx.spring_layout(G, scale=3)\n",
    "    edge_labels = nx.get_edge_attributes(G, 'r')\n",
    "    nx.draw_networkx_edge_labels(G, pos, edge_labels=edge_labels)\n",
    "    nx.draw(G, with_labels=True)\n",
    "    plt.show()"
   ]
  },
  {
   "cell_type": "markdown",
   "metadata": {},
   "source": [
    "### Type 1:  Working with the Knowlege Graph locally"
   ]
  },
  {
   "cell_type": "code",
   "execution_count": 6,
   "metadata": {},
   "outputs": [
    {
     "ename": "FileNotFoundError",
     "evalue": "[Errno 2] No such file or directory: '/Users/ly40/Documents/frances-ai/frances-api/results/chapbooks_scotland.ttl'",
     "output_type": "error",
     "traceback": [
      "\u001B[0;31m---------------------------------------------------------------------------\u001B[0m",
      "\u001B[0;31mFileNotFoundError\u001B[0m                         Traceback (most recent call last)",
      "Cell \u001B[0;32mIn[6], line 3\u001B[0m\n\u001B[1;32m      1\u001B[0m g \u001B[38;5;241m=\u001B[39m Graph()\n\u001B[1;32m      2\u001B[0m \u001B[38;5;66;03m## Modify the path if necessary\u001B[39;00m\n\u001B[0;32m----> 3\u001B[0m \u001B[43mg\u001B[49m\u001B[38;5;241;43m.\u001B[39;49m\u001B[43mparse\u001B[49m\u001B[43m(\u001B[49m\u001B[38;5;124;43m\"\u001B[39;49m\u001B[38;5;124;43m./results/chapbooks_scotland.ttl\u001B[39;49m\u001B[38;5;124;43m\"\u001B[39;49m\u001B[43m,\u001B[49m\u001B[43m \u001B[49m\u001B[38;5;28;43mformat\u001B[39;49m\u001B[38;5;241;43m=\u001B[39;49m\u001B[38;5;124;43m\"\u001B[39;49m\u001B[38;5;124;43mttl\u001B[39;49m\u001B[38;5;124;43m\"\u001B[39;49m\u001B[43m)\u001B[49m\n",
      "File \u001B[0;32m~/Library/Python/3.9/lib/python/site-packages/rdflib/graph.py:1306\u001B[0m, in \u001B[0;36mGraph.parse\u001B[0;34m(self, source, publicID, format, location, file, data, **args)\u001B[0m\n\u001B[1;32m   1223\u001B[0m \u001B[38;5;28;01mdef\u001B[39;00m \u001B[38;5;21mparse\u001B[39m(\n\u001B[1;32m   1224\u001B[0m     \u001B[38;5;28mself\u001B[39m,\n\u001B[1;32m   1225\u001B[0m     source: Optional[\n\u001B[0;32m   (...)\u001B[0m\n\u001B[1;32m   1233\u001B[0m     \u001B[38;5;241m*\u001B[39m\u001B[38;5;241m*\u001B[39margs,\n\u001B[1;32m   1234\u001B[0m ):\n\u001B[1;32m   1235\u001B[0m \u001B[38;5;250m    \u001B[39m\u001B[38;5;124;03m\"\"\"\u001B[39;00m\n\u001B[1;32m   1236\u001B[0m \u001B[38;5;124;03m    Parse an RDF source adding the resulting triples to the Graph.\u001B[39;00m\n\u001B[1;32m   1237\u001B[0m \n\u001B[0;32m   (...)\u001B[0m\n\u001B[1;32m   1303\u001B[0m \n\u001B[1;32m   1304\u001B[0m \u001B[38;5;124;03m    \"\"\"\u001B[39;00m\n\u001B[0;32m-> 1306\u001B[0m     source \u001B[38;5;241m=\u001B[39m \u001B[43mcreate_input_source\u001B[49m\u001B[43m(\u001B[49m\n\u001B[1;32m   1307\u001B[0m \u001B[43m        \u001B[49m\u001B[43msource\u001B[49m\u001B[38;5;241;43m=\u001B[39;49m\u001B[43msource\u001B[49m\u001B[43m,\u001B[49m\n\u001B[1;32m   1308\u001B[0m \u001B[43m        \u001B[49m\u001B[43mpublicID\u001B[49m\u001B[38;5;241;43m=\u001B[39;49m\u001B[43mpublicID\u001B[49m\u001B[43m,\u001B[49m\n\u001B[1;32m   1309\u001B[0m \u001B[43m        \u001B[49m\u001B[43mlocation\u001B[49m\u001B[38;5;241;43m=\u001B[39;49m\u001B[43mlocation\u001B[49m\u001B[43m,\u001B[49m\n\u001B[1;32m   1310\u001B[0m \u001B[43m        \u001B[49m\u001B[43mfile\u001B[49m\u001B[38;5;241;43m=\u001B[39;49m\u001B[43mfile\u001B[49m\u001B[43m,\u001B[49m\n\u001B[1;32m   1311\u001B[0m \u001B[43m        \u001B[49m\u001B[43mdata\u001B[49m\u001B[38;5;241;43m=\u001B[39;49m\u001B[43mdata\u001B[49m\u001B[43m,\u001B[49m\n\u001B[1;32m   1312\u001B[0m \u001B[43m        \u001B[49m\u001B[38;5;28;43mformat\u001B[39;49m\u001B[38;5;241;43m=\u001B[39;49m\u001B[38;5;28;43mformat\u001B[39;49m\u001B[43m,\u001B[49m\n\u001B[1;32m   1313\u001B[0m \u001B[43m    \u001B[49m\u001B[43m)\u001B[49m\n\u001B[1;32m   1314\u001B[0m     \u001B[38;5;28;01mif\u001B[39;00m \u001B[38;5;28mformat\u001B[39m \u001B[38;5;129;01mis\u001B[39;00m \u001B[38;5;28;01mNone\u001B[39;00m:\n\u001B[1;32m   1315\u001B[0m         \u001B[38;5;28mformat\u001B[39m \u001B[38;5;241m=\u001B[39m source\u001B[38;5;241m.\u001B[39mcontent_type\n",
      "File \u001B[0;32m~/Library/Python/3.9/lib/python/site-packages/rdflib/parser.py:404\u001B[0m, in \u001B[0;36mcreate_input_source\u001B[0;34m(source, publicID, location, file, data, format)\u001B[0m\n\u001B[1;32m    396\u001B[0m auto_close \u001B[38;5;241m=\u001B[39m \u001B[38;5;28;01mFalse\u001B[39;00m  \u001B[38;5;66;03m# make sure we close all file handles we open\u001B[39;00m\n\u001B[1;32m    398\u001B[0m \u001B[38;5;28;01mif\u001B[39;00m location \u001B[38;5;129;01mis\u001B[39;00m \u001B[38;5;129;01mnot\u001B[39;00m \u001B[38;5;28;01mNone\u001B[39;00m:\n\u001B[1;32m    399\u001B[0m     (\n\u001B[1;32m    400\u001B[0m         absolute_location,\n\u001B[1;32m    401\u001B[0m         auto_close,\n\u001B[1;32m    402\u001B[0m         file,\n\u001B[1;32m    403\u001B[0m         input_source,\n\u001B[0;32m--> 404\u001B[0m     ) \u001B[38;5;241m=\u001B[39m \u001B[43m_create_input_source_from_location\u001B[49m\u001B[43m(\u001B[49m\n\u001B[1;32m    405\u001B[0m \u001B[43m        \u001B[49m\u001B[43mfile\u001B[49m\u001B[38;5;241;43m=\u001B[39;49m\u001B[43mfile\u001B[49m\u001B[43m,\u001B[49m\n\u001B[1;32m    406\u001B[0m \u001B[43m        \u001B[49m\u001B[38;5;28;43mformat\u001B[39;49m\u001B[38;5;241;43m=\u001B[39;49m\u001B[38;5;28;43mformat\u001B[39;49m\u001B[43m,\u001B[49m\n\u001B[1;32m    407\u001B[0m \u001B[43m        \u001B[49m\u001B[43minput_source\u001B[49m\u001B[38;5;241;43m=\u001B[39;49m\u001B[43minput_source\u001B[49m\u001B[43m,\u001B[49m\n\u001B[1;32m    408\u001B[0m \u001B[43m        \u001B[49m\u001B[43mlocation\u001B[49m\u001B[38;5;241;43m=\u001B[39;49m\u001B[43mlocation\u001B[49m\u001B[43m,\u001B[49m\n\u001B[1;32m    409\u001B[0m \u001B[43m    \u001B[49m\u001B[43m)\u001B[49m\n\u001B[1;32m    411\u001B[0m \u001B[38;5;28;01mif\u001B[39;00m file \u001B[38;5;129;01mis\u001B[39;00m \u001B[38;5;129;01mnot\u001B[39;00m \u001B[38;5;28;01mNone\u001B[39;00m:\n\u001B[1;32m    412\u001B[0m     input_source \u001B[38;5;241m=\u001B[39m FileInputSource(file)\n",
      "File \u001B[0;32m~/Library/Python/3.9/lib/python/site-packages/rdflib/parser.py:456\u001B[0m, in \u001B[0;36m_create_input_source_from_location\u001B[0;34m(file, format, input_source, location)\u001B[0m\n\u001B[1;32m    454\u001B[0m \u001B[38;5;28;01mif\u001B[39;00m absolute_location\u001B[38;5;241m.\u001B[39mstartswith(\u001B[38;5;124m\"\u001B[39m\u001B[38;5;124mfile:///\u001B[39m\u001B[38;5;124m\"\u001B[39m):\n\u001B[1;32m    455\u001B[0m     filename \u001B[38;5;241m=\u001B[39m url2pathname(absolute_location\u001B[38;5;241m.\u001B[39mreplace(\u001B[38;5;124m\"\u001B[39m\u001B[38;5;124mfile:///\u001B[39m\u001B[38;5;124m\"\u001B[39m, \u001B[38;5;124m\"\u001B[39m\u001B[38;5;124m/\u001B[39m\u001B[38;5;124m\"\u001B[39m))\n\u001B[0;32m--> 456\u001B[0m     file \u001B[38;5;241m=\u001B[39m \u001B[38;5;28;43mopen\u001B[39;49m\u001B[43m(\u001B[49m\u001B[43mfilename\u001B[49m\u001B[43m,\u001B[49m\u001B[43m \u001B[49m\u001B[38;5;124;43m\"\u001B[39;49m\u001B[38;5;124;43mrb\u001B[39;49m\u001B[38;5;124;43m\"\u001B[39;49m\u001B[43m)\u001B[49m\n\u001B[1;32m    457\u001B[0m \u001B[38;5;28;01melse\u001B[39;00m:\n\u001B[1;32m    458\u001B[0m     input_source \u001B[38;5;241m=\u001B[39m URLInputSource(absolute_location, \u001B[38;5;28mformat\u001B[39m)\n",
      "\u001B[0;31mFileNotFoundError\u001B[0m: [Errno 2] No such file or directory: '/Users/ly40/Documents/frances-ai/frances-api/results/chapbooks_scotland.ttl'"
     ]
    }
   ],
   "source": [
    "g = Graph()\n",
    "## Modify the path if necessary\n",
    "g.parse(\"./results/chapbooks_scotland.ttl\", format=\"ttl\")"
   ]
  },
  {
   "cell_type": "markdown",
   "metadata": {},
   "source": [
    "Query 1: List all the resources with the property nls:editor in the ChapbooksScotland-KG"
   ]
  },
  {
   "cell_type": "code",
   "execution_count": null,
   "metadata": {},
   "outputs": [],
   "source": [
    "nls = Namespace(\"https://w3id.org/nls#\")\n",
    "q1 = prepareQuery('''\n",
    "  SELECT ?Year WHERE {\n",
    "    ?Serie nls:Serie ?publicationYear.\n",
    "  }\n",
    "  ''',\n",
    "  initNs = { \"nls\": nls}\n",
    ")\n",
    "\n",
    "for r in g.query(q1):\n",
    "      print(r.Year)"
   ]
  },
  {
   "cell_type": "markdown",
   "metadata": {},
   "source": [
    "Query 2: Same query but asking more information about the resources obtained."
   ]
  },
  {
   "cell_type": "code",
   "execution_count": null,
   "metadata": {},
   "outputs": [],
   "source": [
    "q2 = prepareQuery('''\n",
    "  SELECT ?Subject ?Editor WHERE {\n",
    "    ?Subject nls:editor ?Editor.\n",
    "  }\n",
    "  ''',\n",
    "  initNs = { \"nls\": nls}\n",
    ")\n",
    "\n",
    "for r in g.query(q2):\n",
    "  print(r.Subject, r.Editor)"
   ]
  },
  {
   "cell_type": "markdown",
   "metadata": {},
   "source": [
    "Query 3: Obtaining just the editors names"
   ]
  },
  {
   "cell_type": "code",
   "execution_count": null,
   "metadata": {},
   "outputs": [],
   "source": [
    "q3= prepareQuery('''\n",
    "SELECT DISTINCT ?name\n",
    "    WHERE {\n",
    "     ?instance nls:editor ?Editor.\n",
    "     ?Editor nls:name ?name .\n",
    "    }\n",
    "    ''',\n",
    "  initNs = { \"nls\": nls}\n",
    ")\n",
    "\n",
    "for r in g.query(q3):\n",
    "      print(r.name)"
   ]
  },
  {
   "cell_type": "code",
   "execution_count": null,
   "metadata": {},
   "outputs": [],
   "source": [
    "res=g.query(q3)\n",
    "a=list(res)[0]\n",
    "a.name"
   ]
  },
  {
   "cell_type": "markdown",
   "metadata": {},
   "source": [
    "Query 4: Same query asking for the first 10 resources with the properity nls.name"
   ]
  },
  {
   "cell_type": "code",
   "execution_count": null,
   "metadata": {},
   "outputs": [],
   "source": [
    "q4 = prepareQuery('''\n",
    "  SELECT ?Subject ?Name WHERE {\n",
    "    ?Subject nls:name ?Name.\n",
    "  }\n",
    "  LIMIT 10\n",
    "  ''',\n",
    "  initNs = { \"nls\": nls}\n",
    ")\n",
    "\n",
    "for r in g.query(q4):\n",
    "    print(r.Subject, r.Name)"
   ]
  },
  {
   "cell_type": "markdown",
   "metadata": {},
   "source": [
    "Query 5: Obtain the resources titles which have been printed in Glasgow"
   ]
  },
  {
   "cell_type": "code",
   "execution_count": null,
   "metadata": {},
   "outputs": [],
   "source": [
    "from rdflib import XSD\n",
    "q5 = prepareQuery('''\n",
    "SELECT ?name ?place\n",
    "WHERE {\n",
    " ?Subject nls:printedAt ?place;\n",
    "          nls:title ?name.\n",
    "}\n",
    "\n",
    "  ''',\n",
    "  initNs = { \"nls\": nls}\n",
    ")\n",
    "\n",
    "for r in g.query(q5, initBindings = {'?place' : Literal('Glasgow', datatype=XSD.string)}):\n",
    "    print(r.name)"
   ]
  },
  {
   "cell_type": "markdown",
   "metadata": {},
   "source": [
    "Query 7: Asking for resources which family name is \"Berry, Edward\""
   ]
  },
  {
   "cell_type": "code",
   "execution_count": null,
   "metadata": {},
   "outputs": [],
   "source": [
    "from rdflib import XSD\n",
    "q7 = prepareQuery('''\n",
    "  SELECT ?Subject WHERE {\n",
    "    ?Subject nls:name ?Family.\n",
    "  }\n",
    "  ''',\n",
    "    initNs = { \"nls\": nls}\n",
    ")\n",
    "\n",
    "for r in g.query(q7, initBindings = {'?Family' : Literal('Berry, Edward', datatype=XSD.string)}):\n",
    "  print(r.Subject)"
   ]
  },
  {
   "cell_type": "markdown",
   "metadata": {},
   "source": [
    "Query 8: Counting the number of \"Serie\" resources"
   ]
  },
  {
   "cell_type": "code",
   "execution_count": null,
   "metadata": {},
   "outputs": [],
   "source": [
    "q8 = prepareQuery('''\n",
    "    SELECT ?serie\n",
    "    WHERE {\n",
    "       ?serie rdf:type nls:Serie .\n",
    "    }\n",
    "    ''',\n",
    "  initNs = { \"nls\": nls}\n",
    ")\n",
    "\n",
    "print(len(g.query(q8)))\n"
   ]
  },
  {
   "cell_type": "markdown",
   "metadata": {},
   "source": [
    "Query: How many series do have more than 1 volume"
   ]
  },
  {
   "cell_type": "code",
   "execution_count": null,
   "metadata": {},
   "outputs": [],
   "source": [
    "q8 = prepareQuery('''\n",
    "    SELECT ?serie ?nv\n",
    "    WHERE {\n",
    "       ?serie rdf:type nls:Serie .\n",
    "       ?serie nls:numberOfVolumes ?nv .\n",
    "       FILTER (?nv > 1).\n",
    "     }\n",
    "    ''',\n",
    "  initNs = { \"nls\": nls}\n",
    ")\n",
    "\n",
    "print(len(g.query(q8)))\n"
   ]
  },
  {
   "cell_type": "markdown",
   "metadata": {},
   "source": [
    "IMPORTANT!! query that shows the title of a series that have more than 1 volume (in this case, because those books are repeated), and the number of volumes ( number of repetitions). The issue than a book is repeated is specific to this digital collection. Nevertheless, if a book is printed twice, they will belong to the same serie ( having the same mmsid), but different volume_id."
   ]
  },
  {
   "cell_type": "code",
   "execution_count": null,
   "metadata": {},
   "outputs": [],
   "source": [
    "q8 = prepareQuery('''\n",
    "    SELECT ?serie ?title ?nv\n",
    "    WHERE {\n",
    "       ?serie rdf:type nls:Serie .\n",
    "       ?serie nls:title ?title .\n",
    "       ?serie nls:numberOfVolumes ?nv .\n",
    "       FILTER (?nv > 1).\n",
    "     }\n",
    "    ''',\n",
    "  initNs = { \"nls\": nls}\n",
    ")\n",
    "\n",
    "for r in g.query(q8):\n",
    "    print(\"Serie Uri: %s,  Serie Title: %s, Num volume %s\" %(r.serie, r.title, r.nv))"
   ]
  },
  {
   "cell_type": "markdown",
   "metadata": {},
   "source": [
    "Query 8bis: Obtaining Series URIS and collection name"
   ]
  },
  {
   "cell_type": "code",
   "execution_count": null,
   "metadata": {},
   "outputs": [],
   "source": [
    "q8 = prepareQuery('''\n",
    "    SELECT ?serie ?collection\n",
    "    WHERE {\n",
    "       ?serie rdf:type nls:Serie .\n",
    "       ?serie nls:collection ?collection .\n",
    "    }\n",
    "    ''',\n",
    "  initNs = { \"nls\": nls}\n",
    ")\n",
    "\n",
    "for r in g.query(q8):\n",
    "    print(r.serie, r.collection)"
   ]
  },
  {
   "cell_type": "markdown",
   "metadata": {},
   "source": [
    "q8c: Obtaining seris uris and title"
   ]
  },
  {
   "cell_type": "code",
   "execution_count": null,
   "metadata": {},
   "outputs": [],
   "source": [
    "q8 = prepareQuery('''\n",
    "    SELECT ?serie ?title\n",
    "    WHERE {\n",
    "       ?serie rdf:type nls:Serie .\n",
    "       ?serie nls:title ?title .\n",
    "    }\n",
    "    ''',\n",
    "  initNs = { \"nls\": nls}\n",
    ")\n",
    "\n",
    "for r in g.query(q8):\n",
    "    print(r.serie, r.title)"
   ]
  },
  {
   "cell_type": "markdown",
   "metadata": {},
   "source": [
    "q8d: Obtaining volumes uris and title"
   ]
  },
  {
   "cell_type": "code",
   "execution_count": null,
   "metadata": {},
   "outputs": [],
   "source": [
    "q8 = prepareQuery('''\n",
    "    SELECT ?volume ?title\n",
    "    WHERE {\n",
    "       ?volume rdf:type nls:Volume .\n",
    "       ?volume nls:title ?title .\n",
    "    }\n",
    "    ''',\n",
    "  initNs = { \"nls\": nls}\n",
    ")\n",
    "\n",
    "for r in g.query(q8):\n",
    "    print(r.volume, r.title)"
   ]
  },
  {
   "cell_type": "markdown",
   "metadata": {},
   "source": [
    "Query 9: Priting the first 10 \"Pages\" uris"
   ]
  },
  {
   "cell_type": "code",
   "execution_count": null,
   "metadata": {},
   "outputs": [],
   "source": [
    "q9 = prepareQuery('''\n",
    "    SELECT ?page\n",
    "    WHERE {\n",
    "       ?page rdf:type nls:Page .\n",
    "    }\n",
    "    LIMIT 10\n",
    "    ''',\n",
    "  initNs = { \"nls\": nls}\n",
    ")\n",
    "\n",
    "for r in g.query(q9):\n",
    "    print(r.page)"
   ]
  },
  {
   "cell_type": "markdown",
   "metadata": {},
   "source": [
    "Query 10: Otaining the text and the page-number of the first 10 pages"
   ]
  },
  {
   "cell_type": "code",
   "execution_count": null,
   "metadata": {},
   "outputs": [],
   "source": [
    "q10 = prepareQuery('''\n",
    "    SELECT *\n",
    "    WHERE {\n",
    "       ?page rdf:type nls:Page .\n",
    "       ?page nls:text ?text .\n",
    "       ?page nls:number ?number .\n",
    "\n",
    "    }\n",
    "    LIMIT 5\n",
    "    ''',\n",
    "  initNs = { \"nls\": nls}\n",
    ")\n",
    "\n",
    "for r in g.query(q10):\n",
    "    print(\"---\")\n",
    "    print(r.text, r.number)"
   ]
  },
  {
   "cell_type": "markdown",
   "metadata": {},
   "source": [
    "Query 11: Obtaining the title of the first 10 resources"
   ]
  },
  {
   "cell_type": "code",
   "execution_count": null,
   "metadata": {},
   "outputs": [],
   "source": [
    "q11 = prepareQuery('''\n",
    "  SELECT ?serie ?title\n",
    "    WHERE {\n",
    "    ?serie rdf:type nls:Serie .\n",
    "    ?serie nls:title ?title .\n",
    "    }\n",
    "    LIMIT 10\n",
    "    ''',\n",
    "  initNs = { \"nls\": nls}\n",
    ")\n",
    "\n",
    "for r in g.query(q11):\n",
    "      print(r.title)"
   ]
  },
  {
   "cell_type": "markdown",
   "metadata": {},
   "source": [
    "Query 12: Obtaining each serie number, serie year, serie mmsid, serie language"
   ]
  },
  {
   "cell_type": "code",
   "execution_count": null,
   "metadata": {},
   "outputs": [],
   "source": [
    "q12 = prepareQuery('''\n",
    "SELECT ?enum ?s ?y ?nv ?mmsid ?title ?subtitle  ?lang WHERE {\n",
    "       ?s a nls:Serie ;\n",
    "            nls:number ?enum ;\n",
    "            nls:mmsid ?mmsid ;\n",
    "            nls:publicationYear ?y ;\n",
    "            nls:numberOfVolumes ?nv ;\n",
    "            nls:title ?title ;\n",
    "            nls:subtitle ?subtitle ;\n",
    "            nls:language ?lang .\n",
    "\n",
    "    }\n",
    "''',\n",
    "  initNs = { \"nls\": nls}\n",
    ")\n",
    "\n",
    "for r in g.query(q12):\n",
    "    #print(r.enum, r.y, r.nv, r.mmsid, r.lang, r.title, r.subtitle)\n",
    "    print(r.title, r.subtitle)"
   ]
  },
  {
   "cell_type": "code",
   "execution_count": null,
   "metadata": {},
   "outputs": [],
   "source": [
    "q12 = prepareQuery('''\n",
    "SELECT ?title WHERE {\n",
    "       ?s a nls:Volume ;\n",
    "            nls:title ?title ;\n",
    "\n",
    "\n",
    "    }\n",
    "''',\n",
    "  initNs = { \"nls\": nls}\n",
    ")\n",
    "\n",
    "for r in g.query(q12):\n",
    "    #print(r.enum, r.y, r.nv, r.mmsid, r.lang, r.title, r.subtitle)\n",
    "    print(r.title)"
   ]
  },
  {
   "cell_type": "markdown",
   "metadata": {},
   "source": [
    "Query 13: Obtaining the text of pages, in which appear the string \"woman\"."
   ]
  },
  {
   "cell_type": "code",
   "execution_count": null,
   "metadata": {},
   "outputs": [],
   "source": [
    "q13 = prepareQuery('''\n",
    "SELECT * WHERE {\n",
    "       ?page a nls:Page .\n",
    "       ?page nls:text ?text .\n",
    "      FILTER regex(?text, \"^woman\")\n",
    "           }\n",
    "    LIMIT 3\n",
    "''',\n",
    "  initNs = { \"nls\": nls}\n",
    ")\n",
    "\n",
    "for r in g.query(q13):\n",
    "    print(r)\n",
    "    print(\"---\")"
   ]
  },
  {
   "cell_type": "markdown",
   "metadata": {},
   "source": [
    "Query 14: Counting the number of Volumes"
   ]
  },
  {
   "cell_type": "code",
   "execution_count": null,
   "metadata": {},
   "outputs": [],
   "source": [
    "q14 = prepareQuery('''\n",
    "SELECT (COUNT (DISTINCT ?v) as ?count)\n",
    "    WHERE {\n",
    "        ?serie a nls:Serie .\n",
    "        ?serie nls:hasPart ?v .\n",
    "        }\n",
    "\n",
    "''',\n",
    "  initNs = { \"nls\": nls}\n",
    ")\n",
    "\n",
    "for r in g.query(q14):\n",
    "    print(\"-Number of Volumes--\")\n",
    "    print(r)"
   ]
  },
  {
   "cell_type": "markdown",
   "metadata": {},
   "source": [
    "Query 15: Counting the number of Pages"
   ]
  },
  {
   "cell_type": "code",
   "execution_count": null,
   "metadata": {},
   "outputs": [],
   "source": [
    "q15 = prepareQuery('''\n",
    "SELECT (COUNT (DISTINCT ?p) as ?count)\n",
    "    WHERE {\n",
    "        ?volume a nls:Volume .\n",
    "        ?volume nls:hasPart ?p .\n",
    "        }\n",
    "\n",
    "''',\n",
    "  initNs = { \"nls\": nls}\n",
    ")\n",
    "\n",
    "for r in g.query(q15):\n",
    "    print(\"-Number of PAGES--\")\n",
    "    print(r)\n"
   ]
  },
  {
   "cell_type": "markdown",
   "metadata": {},
   "source": [
    "Query 16: Counting the number of Series"
   ]
  },
  {
   "cell_type": "code",
   "execution_count": null,
   "metadata": {},
   "outputs": [],
   "source": [
    "q16 = prepareQuery('''\n",
    "SELECT (COUNT (DISTINCT ?s) as ?count)\n",
    "    WHERE {\n",
    "        ?serie a nls:Serie .\n",
    "        ?serie nls:mmsid ?s .\n",
    "        }\n",
    "\n",
    "''',\n",
    "  initNs = { \"nls\": nls}\n",
    ")\n",
    "\n",
    "for r in g.query(q16):\n",
    "    print(\"-Number of Series--\")\n",
    "    print(r)\n"
   ]
  },
  {
   "cell_type": "markdown",
   "metadata": {},
   "source": [
    "Query 17: Obtaining the uri, year, number of volumes and number of pages of the first 3 series resources"
   ]
  },
  {
   "cell_type": "code",
   "execution_count": null,
   "metadata": {},
   "outputs": [],
   "source": [
    "q17 =prepareQuery('''\n",
    "SELECT ?uri ?year ?vnum ?numPages ?numWords\n",
    "        WHERE {\n",
    "        ?uri a nls:Page .\n",
    "        ?uri nls:numberOfWords ?numWords.\n",
    "        ?v nls:hasPart ?uri .\n",
    "        ?v nls:number ?vnum .\n",
    "        ?v nls:numberOfPages ?numPages .\n",
    "        ?e nls:hasPart ?v .\n",
    "        ?e nls:publicationYear ?year.\n",
    "\n",
    "        }\n",
    "         LIMIT 3\n",
    "        ''',\n",
    "  initNs = { \"nls\": nls}\n",
    ")\n",
    "\n",
    "for r in g.query(q17):\n",
    "    print(\"-Number of Series--\")\n",
    "    print(r.uri, r.year, r.vnum, r.numPages)"
   ]
  },
  {
   "cell_type": "code",
   "execution_count": null,
   "metadata": {},
   "outputs": [],
   "source": [
    "#G = rdflib_to_networkx_multidigraph(result)\n",
    "\n",
    "# Plot Networkx instance of RDF Graph\n",
    "#pos = nx.spring_layout(G, scale=2)\n",
    "#edge_labels = nx.get_edge_attributes(G, 'r')\n",
    "#nx.draw_networkx_edge_labels(G, pos, edge_labels=edge_labels)\n",
    "#nx.draw(G, with_labels=True)\n",
    "\n",
    "#if not in interactive mode for\n",
    "#plt.show()\n"
   ]
  },
  {
   "cell_type": "markdown",
   "metadata": {},
   "source": [
    "### Type 2: Connecting with FUSEKI and using SPARQLWrapper\n",
    "\n",
    "**Previously the knowlege graph (chapbooks_scotland.ttl) needs to be uploaded to Apache Fuseki Server**"
   ]
  },
  {
   "cell_type": "markdown",
   "metadata": {},
   "source": [
    "Query 18: Basic query"
   ]
  },
  {
   "cell_type": "code",
   "execution_count": null,
   "metadata": {},
   "outputs": [],
   "source": [
    "sparql = SPARQLWrapper(\"http://localhost:3030/chapbooks_scotland/sparql\")\n",
    "sparql.setQuery(\"\"\"\n",
    "    SELECT ?subject ?predicate ?object WHERE {   ?subject ?predicate ?object } LIMIT 5\n",
    "\"\"\")\n",
    "sparql.setReturnFormat(JSON)\n",
    "results = sparql.query().convert()\n",
    "\n",
    "results\n",
    "\n",
    "for result in results[\"results\"][\"bindings\"]:\n",
    "    print(result[\"subject\"][\"value\"], result[\"predicate\"][\"value\"], result[\"object\"][\"value\"] )\n"
   ]
  },
  {
   "cell_type": "markdown",
   "metadata": {},
   "source": [
    "Query 19: Obtaining each Serie uri, year and number of Serie."
   ]
  },
  {
   "cell_type": "code",
   "execution_count": null,
   "metadata": {},
   "outputs": [],
   "source": [
    "sparql = SPARQLWrapper(\"http://localhost:3030/chapbooks_scotland/sparql\")\n",
    "sparql.setQuery(\"\"\"\n",
    "    PREFIX nls: <https://w3id.org/nls#>\n",
    "    SELECT ?serie ?year ?snum WHERE {\n",
    "       ?serie a nls:Serie ;\n",
    "              nls:number ?snum ;\n",
    "              nls:publicationYear ?year\n",
    "    }\n",
    "\n",
    "\"\"\")\n",
    "sparql.setReturnFormat(JSON)\n",
    "results = sparql.query().convert()\n",
    "r=results[\"results\"][\"bindings\"]\n",
    "for i in r:\n",
    "    print(i[\"serie\"][\"value\"], i[\"year\"][\"value\"], i[\"snum\"][\"value\"])"
   ]
  },
  {
   "cell_type": "markdown",
   "metadata": {},
   "source": [
    "Query 20: Obtaining publication year, number, title, subtitle, printedAt, physical description, mmsid, shelflocator, number of volumes of the resource with the uri: https://w3id.org/nls/i/Serie/9937393453804340"
   ]
  },
  {
   "cell_type": "code",
   "execution_count": null,
   "metadata": {},
   "outputs": [],
   "source": [
    "sparql = SPARQLWrapper(\"http://localhost:3030/chapbooks_scotland/sparql\")\n",
    "uri=\"<https://w3id.org/nls/i/Serie/9937393453804340>\"\n",
    "query=\"\"\"\n",
    "PREFIX nls: <https://w3id.org/nls#>\n",
    "SELECT ?publicationYear ?num ?title ?subtitle ?printedAt ?physicalDescription ?mmsid ?shelfLocator ?numberOfVolumes  WHERE {\n",
    "       %s nls:publicationYear ?publicationYear ;\n",
    "          nls:number ?num;\n",
    "          nls:title ?title;\n",
    "          nls:subtitle ?subtitle ;\n",
    "          nls:printedAt ?printedAt;\n",
    "          nls:physicalDescription ?physicalDescription;\n",
    "          nls:mmsid ?mmsid;\n",
    "          nls:shelfLocator ?shelfLocator;\n",
    "          nls:numberOfVolumes ?numberOfVolumes.\n",
    "\n",
    "\n",
    "}\n",
    "\"\"\" % (uri)\n",
    "sparql.setQuery(query)\n",
    "sparql.setReturnFormat(JSON)\n",
    "results = sparql.query().convert()\n",
    "r=results[\"results\"][\"bindings\"]\n",
    "for i in r:\n",
    "    print(i[\"publicationYear\"][\"value\"], i[\"num\"][\"value\"], i[\"title\"][\"value\"], i[\"subtitle\"][\"value\"],\\\n",
    "          i[\"printedAt\"][\"value\"], i[\"physicalDescription\"][\"value\"], i[\"mmsid\"][\"value\"], i[\"shelfLocator\"][\"value\"],\\\n",
    "          i[\"numberOfVolumes\"][\"value\"])"
   ]
  },
  {
   "cell_type": "markdown",
   "metadata": {},
   "source": [
    "Query 21: Obtaining the number of volumes of the serie with the uri: https://w3id.org/nls/i/Serie/9937393453804340"
   ]
  },
  {
   "cell_type": "code",
   "execution_count": null,
   "metadata": {},
   "outputs": [],
   "source": [
    "sparql = SPARQLWrapper(\"http://localhost:3030/chapbooks_scotland/sparql\")\n",
    "uri=\"<https://w3id.org/nls/i/Serie/9937393453804340>\"\n",
    "query=\"\"\"\n",
    "PREFIX nls: <https://w3id.org/nls#>\n",
    "SELECT (COUNT (DISTINCT ?v) as ?count)\n",
    "    WHERE {\n",
    "        %s nls:hasPart ?v.\n",
    "    \t?v ?b ?c\n",
    "}\n",
    "\"\"\" % (uri)\n",
    "sparql.setQuery(query)\n",
    "sparql.setReturnFormat(JSON)\n",
    "results = sparql.query().convert()\n",
    "results[\"results\"][\"bindings\"][0][\"count\"][\"value\"]\n"
   ]
  },
  {
   "cell_type": "markdown",
   "metadata": {},
   "source": [
    "Query to obtain the volumes uris and title for a particular serie"
   ]
  },
  {
   "cell_type": "code",
   "execution_count": null,
   "metadata": {},
   "outputs": [],
   "source": [
    "sparql = SPARQLWrapper(\"http://localhost:3030/chapbooks_scotland/sparql\")\n",
    "uri=\"<https://w3id.org/nls/i/Serie/9937185433804340>\"\n",
    "query=\"\"\"\n",
    "PREFIX nls: <https://w3id.org/nls#>\n",
    "SELECT ?v ?title ?vnum\n",
    "    WHERE {\n",
    "        %s nls:hasPart ?v.\n",
    "    \t?v nls:title ?title .\n",
    "        ?v nls:title ?vnum .\n",
    "}\n",
    "\"\"\" % (uri)\n",
    "sparql.setQuery(query)\n",
    "sparql.setReturnFormat(JSON)\n",
    "results = sparql.query().convert()\n",
    "r=results[\"results\"][\"bindings\"]\n",
    "for i in r:\n",
    "        print(i[\"v\"][\"value\"], i[\"vnum\"][\"value\"])"
   ]
  },
  {
   "cell_type": "markdown",
   "metadata": {},
   "source": [
    "Query 22: Giving the volume with the uri: <https://w3id.org/nls/i/Volume/9937038023804340_104184129>, this query obtaians its pages uris and numbers."
   ]
  },
  {
   "cell_type": "code",
   "execution_count": null,
   "metadata": {},
   "outputs": [],
   "source": [
    "sparql = SPARQLWrapper(\"http://localhost:3030/chapbooks_scotland/sparql\")\n",
    "uri=\"<https://w3id.org/nls/i/Volume/9937038023804340_104184129>\"\n",
    "query=\"\"\"\n",
    "PREFIX nls: <https://w3id.org/nls#>\n",
    "SELECT ?v ?vnum ?part  WHERE {\n",
    "       %s nls:hasPart ?v .\n",
    "       ?v nls:number ?vnum ;\n",
    "          OPTIONAL {?v nls:part ?part; }\n",
    "\n",
    "\n",
    "}\n",
    "\"\"\" % (uri)\n",
    "sparql.setQuery(query)\n",
    "sparql.setReturnFormat(JSON)\n",
    "results = sparql.query().convert()\n",
    "r=results[\"results\"][\"bindings\"]\n",
    "for i in r:\n",
    "    if \"part\" in i:\n",
    "        print(i[\"v\"][\"value\"], i[\"vnum\"][\"value\"], i[\"part\"][\"value\"])\n",
    "    else:\n",
    "        print(i[\"v\"][\"value\"], i[\"vnum\"][\"value\"])"
   ]
  },
  {
   "cell_type": "markdown",
   "metadata": {},
   "source": [
    "Query 23: Giving the volume with the uri: <https://w3id.org/nls/i/Volume/9937038023804340_104184129>, this query obtaians: number, title, part, metsXML, volume Id, permanent URL, number of Pages"
   ]
  },
  {
   "cell_type": "code",
   "execution_count": null,
   "metadata": {},
   "outputs": [],
   "source": [
    "sparql = SPARQLWrapper(\"http://localhost:3030/chapbooks_scotland/sparql\")\n",
    "uri=\"<https://w3id.org/nls/i/Volume/9937038023804340_104184129>\"\n",
    "query=\"\"\"\n",
    "PREFIX nls: <https://w3id.org/nls#>\n",
    "SELECT ?num ?title ?part ?metsXML ?volumeId ?permanentURL ?numberOfPages  WHERE {\n",
    "       %s nls:number ?num ;\n",
    "          nls:title ?title;\n",
    "          nls:metsXML ?metsXML;\n",
    "          nls:volumeId ?volumeId;\n",
    "          nls:permanentURL ?permanentURL;\n",
    "          nls:numberOfPages ?numberOfPages;\n",
    "       OPTIONAL {%s nls:part ?part. }\n",
    "\n",
    "\n",
    "}\n",
    "\"\"\" % (uri, uri)\n",
    "sparql.setQuery(query)\n",
    "sparql.setReturnFormat(JSON)\n",
    "results = sparql.query().convert()\n",
    "r=results[\"results\"][\"bindings\"]\n",
    "for i in r:\n",
    "    print(i)"
   ]
  },
  {
   "cell_type": "markdown",
   "metadata": {},
   "source": [
    "Query 23: Giving the volume with the uri: https://w3id.org/nls/i/Volume/9937038023804340_104184129, this query obtains the number of pages.\n"
   ]
  },
  {
   "cell_type": "code",
   "execution_count": null,
   "metadata": {},
   "outputs": [],
   "source": [
    "sparql = SPARQLWrapper(\"http://localhost:3030/chapbooks_scotland/sparql\")\n",
    "uri=\"<https://w3id.org/nls/i/Volume/9937038023804340_104184129>\"\n",
    "query=\"\"\"\n",
    "PREFIX nls: <https://w3id.org/nls#>\n",
    "SELECT (COUNT (DISTINCT ?p) as ?count)\n",
    "    WHERE {\n",
    "        %s nls:hasPart ?p .\n",
    "        ?p a nls:Page\n",
    "\n",
    "}\n",
    "\"\"\" % (uri)\n",
    "\n",
    "\n",
    "sparql.setQuery(query)\n",
    "sparql.setReturnFormat(JSON)\n",
    "results = sparql.query().convert()\n",
    "results"
   ]
  },
  {
   "cell_type": "raw",
   "metadata": {},
   "source": [
    "Query 24: Giving the volume with the uri: https://w3id.org/nls/i/Volume/9937038023804340_104184129, this query obtains the number of alto XML files."
   ]
  },
  {
   "cell_type": "code",
   "execution_count": null,
   "metadata": {},
   "outputs": [],
   "source": [
    "sparql = SPARQLWrapper(\"http://localhost:3030/chapbooks_scotland/sparql\")\n",
    "uri=\"<https://w3id.org/nls/i/Volume/9937038023804340_104184129>\"\n",
    "query=\"\"\"\n",
    "    PREFIX nls: <https://w3id.org/nls#>\n",
    "       PREFIX rdfs: <http://www.w3.org/2000/01/rdf-schema#>\n",
    "       SELECT (count (DISTINCT ?a) as ?count)\n",
    "       WHERE {\n",
    "            %s nls:hasPart ?b .\n",
    "            ?b a nls:Page .\n",
    "            ?b nls:altoXML ?a.\n",
    "      }\n",
    "\n",
    "\n",
    "\"\"\" % (uri)\n",
    "\n",
    "sparql.setQuery(query)\n",
    "sparql.setReturnFormat(JSON)\n",
    "results = sparql.query().convert()\n",
    "results = sparql.query().convert()\n",
    "results[\"results\"][\"bindings\"][0][\"count\"][\"value\"]"
   ]
  },
  {
   "cell_type": "markdown",
   "metadata": {},
   "source": [
    "Query 25: Giving the volume with the uri: https://w3id.org/nls/i/Volume/9937038023804340_104184129, this query describe that resource."
   ]
  },
  {
   "cell_type": "code",
   "execution_count": null,
   "metadata": {},
   "outputs": [],
   "source": [
    "sparql = SPARQLWrapper(\"http://localhost:3030/chapbooks_scotland/sparql\")\n",
    "sparql.setQuery(\"\"\"\n",
    "    DESCRIBE <https://w3id.org/nls/i/Volume/9937038023804340_104184129>\n",
    "\"\"\")\n",
    "\n",
    "sparql.setReturnFormat(JSON)\n",
    "results = sparql.query().convert()\n",
    "results"
   ]
  },
  {
   "cell_type": "markdown",
   "metadata": {},
   "source": [
    "Query 27: This query obtains the first 3 pages with the following properties:  uri, year, title, serie number, volume number, volume number, number of Pages, metsXML, number of page, text, number of Words, number of Pages"
   ]
  },
  {
   "cell_type": "code",
   "execution_count": null,
   "metadata": {},
   "outputs": [],
   "source": [
    "sparql = SPARQLWrapper(\"http://localhost:3030/chapbooks_scotland/sparql\")\n",
    "sparql.setQuery(\"\"\"\n",
    "PREFIX nls: <https://w3id.org/nls#>\n",
    "SELECT ?uri ?year ?title ?snum ?vnum ?v ?part ?metsXML ?page ?text ?numberOfWords ?numberOfPages\n",
    "        WHERE {\n",
    "        ?uri a nls:Page .\n",
    "        ?uri nls:text ?text .\n",
    "        ?uri nls:number ?page .\n",
    "        ?uri nls:numberOfWords ?numberOfWords .\n",
    "        ?v nls:hasPart ?uri.\n",
    "        ?v nls:number ?vnum.\n",
    "        ?v nls:numberOfPages ?numberOfPages .\n",
    "        ?v nls:metsXML ?metsXML.\n",
    "        ?s nls:hasPart ?v.\n",
    "        ?s nls:publicationYear ?year.\n",
    "        ?s nls:number ?snum.\n",
    "        ?s nls:title ?title.\n",
    "        OPTIONAL {?v nls:part ?part; }\n",
    "\n",
    "        }\n",
    "        LIMIT 3\n",
    "\n",
    "\"\"\")\n",
    "sparql.setReturnFormat(JSON)\n",
    "results = sparql.query().convert()\n",
    "r=results[\"results\"][\"bindings\"]\n",
    "for i in r:\n",
    "    print(i[\"uri\"][\"value\"], i[\"year\"][\"value\"], i[\"title\"][\"value\"], i[\"snum\"][\"value\"], \\\n",
    "          i[\"v\"][\"value\"], i[\"vnum\"][\"value\"],i[\"numberOfPages\"][\"value\"],\\\n",
    "          i[\"metsXML\"][\"value\"], i[\"page\"][\"value\"],i[\"text\"][\"value\"], i[\"numberOfWords\"][\"value\"]\n",
    "\n",
    "          )\n",
    "    print(\"---\")\n"
   ]
  },
  {
   "cell_type": "code",
   "execution_count": null,
   "metadata": {},
   "outputs": [],
   "source": []
  }
 ],
 "metadata": {
  "kernelspec": {
   "display_name": "Python 3 (ipykernel)",
   "language": "python",
   "name": "python3"
  },
  "language_info": {
   "codemirror_mode": {
    "name": "ipython",
    "version": 3
   },
   "file_extension": ".py",
   "mimetype": "text/x-python",
   "name": "python",
   "nbconvert_exporter": "python",
   "pygments_lexer": "ipython3",
   "version": "3.9.7"
  }
 },
 "nbformat": 4,
 "nbformat_minor": 2
}
