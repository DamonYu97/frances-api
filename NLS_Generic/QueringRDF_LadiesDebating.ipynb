{
 "cells": [
  {
   "cell_type": "markdown",
   "metadata": {},
   "source": [
    "# SPARQL Queries - Edinburgh Ladies’ Debating Society - LadiesDebating-KG\n",
    "\n",
    "\n",
    "This notebook enables to perform several SPARQL queries to the LadiesDebating-KG Knowlege Graph (ladies_debating.ttl). It includes two types RDF queries:\n",
    "\n",
    " - Querying the KG locally: Using rdflib.plugins.sparql\n",
    " - Querying the KG from an Apache Fuseki Server: Using SPARQLWrapper\n",
    "\n",
    "The LadiesDebating-KG implements the [NLS-Ontology](https://francesnlp.github.io/NLS-ontology/doc/index-en.html), which has the following [Data Model](https://francesnlp.github.io/NLS-ontology/doc/dataModel.png)\n",
    "\n",
    "The LadiesDebating-KG (ladies_debating.ttl) can be download from [Zenodo](https://zenodo.org/record/6686072#.YrNDUpDMJHY). \n",
    "\n",
    "In general terms this NLS-Ontology can be described as follows:\n",
    "1. A Digital Collection can have several Series.\n",
    "2. A Serie can have several Volumes (Books). \n",
    "3. A Serie can have several Editors, Publishers and reference books\n",
    "4. A Volume has several Pages\n",
    "5. A Page has text \n",
    "6. A Serie can have a Supplement \n",
    "7. A Supplement can have several Editors, Publishers and reference books\n",
    "8. A Supplement can have several Volumes\n",
    "\n",
    "\n",
    "Example of values of the LadiesDebating-KG properties:\n",
    "\n",
    "\n",
    "    \n",
    "    mmsid                                                   9938524913804340\n",
    "    editor name                              Edinburgh Essay Society (Edinburgh)\n",
    "    editor_date                                                          0.0\n",
    "    genre                                                         periodical\n",
    "    language                                                             eng\n",
    "    metsXML                                               103655648-mets.xml\n",
    "    termsOfAddress                                                       0.0\n",
    "    numberOfPages                                                        316\n",
    "    numberOfWords                                                          1\n",
    "    permanentURL                            https://digital.nls.uk/103655648\n",
    "    physicalDescription    10 v. ([2], 286; [2], iv, 292; [2], iv, 286; [...\n",
    "    place                                                          Edinburgh\n",
    "    publisher                                                              0\n",
    "    referencedBy                                                         0.0\n",
    "    shelfLocator                                                       U.431\n",
    "    altoXML                                  103655648/alto/104346954.34.xml\n",
    "    serie SubTitle                                                        0.0\n",
    "    text                                                             UL.u^\\,\n",
    "    page number                                                                4\n",
    "    volume title                        attempt. A literary magazine Volume 2\n",
    "    volumeId                                                       103655648\n",
    "    year                                                                1865\n",
    "    serie number                                                           0\n",
    "    part                                                                   0\n",
    "    serie title             Edinburgh Ladies’ Debating Society_attempt. A ...\n",
    "    publisherPersons                                                       0\n",
    "    numberOfVolumes                                                       10\n",
    "    volume number                                                          2\n"
   ]
  },
  {
   "cell_type": "markdown",
   "metadata": {},
   "source": [
    "### Loading the necessary libraries"
   ]
  },
  {
   "cell_type": "code",
   "execution_count": 1,
   "metadata": {},
   "outputs": [],
   "source": [
    "import rdflib\n",
    "from rdflib.extras.external_graph_libs import rdflib_to_networkx_multidigraph\n",
    "import networkx as nx\n",
    "import matplotlib.pyplot as pl\n",
    "from rdflib import Graph, ConjunctiveGraph, Namespace, Literal\n",
    "from rdflib.plugins.sparql import prepareQuery"
   ]
  },
  {
   "cell_type": "code",
   "execution_count": 2,
   "metadata": {},
   "outputs": [],
   "source": [
    "import networkx as nx\n",
    "import matplotlib.pyplot as plt\n",
    "from SPARQLWrapper import SPARQLWrapper, JSON"
   ]
  },
  {
   "cell_type": "code",
   "execution_count": 3,
   "metadata": {},
   "outputs": [],
   "source": [
    "import matplotlib.pyplot as plt\n",
    "plt.rcParams['figure.figsize'] = [15, 10]"
   ]
  },
  {
   "cell_type": "markdown",
   "metadata": {},
   "source": [
    "### Functions"
   ]
  },
  {
   "cell_type": "code",
   "execution_count": 4,
   "metadata": {},
   "outputs": [],
   "source": [
    "def plot_resource(results):\n",
    "\n",
    "    G = rdflib_to_networkx_multidigraph(results)\n",
    "    pos = nx.spring_layout(G, scale=3)\n",
    "    edge_labels = nx.get_edge_attributes(G, 'r')\n",
    "    nx.draw_networkx_edge_labels(G, pos, edge_labels=edge_labels)\n",
    "    nx.draw(G, with_labels=True)\n",
    "    plt.show()"
   ]
  },
  {
   "cell_type": "markdown",
   "metadata": {},
   "source": [
    "### Type 1:  Working with the Knowlege Graph locally"
   ]
  },
  {
   "cell_type": "code",
   "execution_count": 5,
   "metadata": {},
   "outputs": [
    {
     "data": {
      "text/plain": [
       "<Graph identifier=N41bd4be1eeaa47a0acf5710e81371969 (<class 'rdflib.graph.Graph'>)>"
      ]
     },
     "execution_count": 5,
     "metadata": {},
     "output_type": "execute_result"
    }
   ],
   "source": [
    "g = Graph()\n",
    "## Modify the path if necessary \n",
    "g.parse(\"./results/ladies_debating.ttl\", format=\"ttl\") "
   ]
  },
  {
   "cell_type": "markdown",
   "metadata": {},
   "source": [
    "Query 1: List all the resources with the property nls:editor in the LadiesDebating-KG "
   ]
  },
  {
   "cell_type": "code",
   "execution_count": 6,
   "metadata": {},
   "outputs": [
    {
     "name": "stdout",
     "output_type": "stream",
     "text": [
      "https://w3id.org/nls/i/Serie/9938524913804340\n"
     ]
    }
   ],
   "source": [
    "nls = Namespace(\"https://w3id.org/nls#\")\n",
    "\n",
    "q1 = prepareQuery('''\n",
    "  SELECT ?Serie WHERE { \n",
    "    ?Serie nls:editor ?FullName. \n",
    "  }\n",
    "  ''',\n",
    "  initNs = { \"nls\": nls}\n",
    ")\n",
    "\n",
    "\n",
    "for r in g.query(q1):\n",
    "      print(r.Serie)"
   ]
  },
  {
   "cell_type": "markdown",
   "metadata": {},
   "source": [
    "Query 2: Same query but asking more information about the resources obtained. "
   ]
  },
  {
   "cell_type": "code",
   "execution_count": 7,
   "metadata": {},
   "outputs": [
    {
     "name": "stdout",
     "output_type": "stream",
     "text": [
      "https://w3id.org/nls/i/Serie/9938524913804340 https://w3id.org/nls/i/Person/EdinburghEssaySocietyEdinburgh\n"
     ]
    }
   ],
   "source": [
    "q2 = prepareQuery('''\n",
    "  SELECT ?Subject ?Editor WHERE { \n",
    "    ?Subject nls:editor ?Editor.\n",
    "  } \n",
    "  ''',\n",
    "  initNs = { \"nls\": nls}\n",
    ")\n",
    "\n",
    "for r in g.query(q2):\n",
    "  print(r.Subject, r.Editor)"
   ]
  },
  {
   "cell_type": "markdown",
   "metadata": {},
   "source": [
    "Query 3: Obtaining just the editors names"
   ]
  },
  {
   "cell_type": "code",
   "execution_count": 8,
   "metadata": {},
   "outputs": [
    {
     "name": "stdout",
     "output_type": "stream",
     "text": [
      "Edinburgh Essay Society (Edinburgh)\n"
     ]
    }
   ],
   "source": [
    "q3= prepareQuery('''\n",
    "SELECT DISTINCT ?name\n",
    "    WHERE {\n",
    "     ?instance nls:editor ?Editor.\n",
    "     ?Editor nls:name ?name .\n",
    "    }\n",
    "    ''',\n",
    "  initNs = { \"nls\": nls}\n",
    ")\n",
    "\n",
    "for r in g.query(q3):\n",
    "      print(r.name)"
   ]
  },
  {
   "cell_type": "code",
   "execution_count": 9,
   "metadata": {},
   "outputs": [
    {
     "data": {
      "text/plain": [
       "rdflib.term.Literal('Edinburgh Essay Society (Edinburgh)', datatype=rdflib.term.URIRef('http://www.w3.org/2001/XMLSchema#string'))"
      ]
     },
     "execution_count": 9,
     "metadata": {},
     "output_type": "execute_result"
    }
   ],
   "source": [
    "res=g.query(q3)\n",
    "a=list(res)[0]\n",
    "a.name"
   ]
  },
  {
   "cell_type": "markdown",
   "metadata": {},
   "source": [
    "Query 4: Same query asking for the first 10 resources with the properity nls.name"
   ]
  },
  {
   "cell_type": "code",
   "execution_count": 10,
   "metadata": {},
   "outputs": [
    {
     "name": "stdout",
     "output_type": "stream",
     "text": [
      "https://w3id.org/nls/i/Person/EdinburghEssaySocietyEdinburgh Edinburgh Essay Society (Edinburgh)\n"
     ]
    }
   ],
   "source": [
    "q4 = prepareQuery('''\n",
    "  SELECT ?Subject ?Name WHERE { \n",
    "    ?Subject nls:name ?Name.\n",
    "  } \n",
    "  LIMIT 10\n",
    "  ''',\n",
    "  initNs = { \"nls\": nls}\n",
    ")\n",
    "\n",
    "for r in g.query(q4):\n",
    "    print(r.Subject, r.Name)"
   ]
  },
  {
   "cell_type": "markdown",
   "metadata": {},
   "source": [
    "Query 5: Obtain the resources titles which have been printed in Glasgow"
   ]
  },
  {
   "cell_type": "code",
   "execution_count": 11,
   "metadata": {},
   "outputs": [
    {
     "name": "stdout",
     "output_type": "stream",
     "text": [
      "Ladies' Edinburgh magazine,1875\n",
      "attempt. A literary magazine,1865\n"
     ]
    }
   ],
   "source": [
    "from rdflib import XSD\n",
    "q5 = prepareQuery('''\n",
    "SELECT ?name ?place\n",
    "WHERE {\n",
    " ?Subject nls:printedAt ?place;\n",
    "          nls:title ?name.\n",
    "}\n",
    "\n",
    "  ''',\n",
    "  initNs = { \"nls\": nls}\n",
    ")\n",
    "\n",
    "for r in g.query(q5, initBindings = {'?place' : Literal('Edinburgh', datatype=XSD.string)}):\n",
    "    print(r.name)"
   ]
  },
  {
   "cell_type": "markdown",
   "metadata": {},
   "source": [
    "Query 7: Asking for resources which genre is periodical"
   ]
  },
  {
   "cell_type": "code",
   "execution_count": 12,
   "metadata": {},
   "outputs": [
    {
     "name": "stdout",
     "output_type": "stream",
     "text": [
      "https://w3id.org/nls/i/Serie/9927010233804340\n",
      "https://w3id.org/nls/i/Serie/9938524913804340\n"
     ]
    }
   ],
   "source": [
    "from rdflib import XSD\n",
    "q7 = prepareQuery('''\n",
    "  SELECT ?Subject WHERE { \n",
    "    ?Subject nls:genre ?Genre.\n",
    "  } \n",
    "  ''',\n",
    "    initNs = { \"nls\": nls}\n",
    ")\n",
    "\n",
    "for r in g.query(q7, initBindings = {'?Genre' : Literal('periodical', datatype=XSD.string)}):\n",
    "  print(r.Subject)"
   ]
  },
  {
   "cell_type": "markdown",
   "metadata": {},
   "source": [
    "Query 8: Counting the number of \"Serie\" resources"
   ]
  },
  {
   "cell_type": "code",
   "execution_count": 13,
   "metadata": {},
   "outputs": [
    {
     "name": "stdout",
     "output_type": "stream",
     "text": [
      "2\n"
     ]
    }
   ],
   "source": [
    "q8 = prepareQuery('''\n",
    "    SELECT ?serie\n",
    "    WHERE {\n",
    "       ?serie rdf:type nls:Serie .\n",
    "    }\n",
    "    ''',\n",
    "  initNs = { \"nls\": nls}\n",
    ")\n",
    "\n",
    "print(len(g.query(q8)))\n"
   ]
  },
  {
   "cell_type": "markdown",
   "metadata": {},
   "source": [
    "q8bis: Obtaining Series URIS and collection name"
   ]
  },
  {
   "cell_type": "code",
   "execution_count": 14,
   "metadata": {},
   "outputs": [
    {
     "name": "stdout",
     "output_type": "stream",
     "text": [
      "https://w3id.org/nls/i/Serie/9927010233804340 Edinburgh Ladies’ Debating Society\n",
      "https://w3id.org/nls/i/Serie/9938524913804340 Edinburgh Ladies’ Debating Society\n"
     ]
    }
   ],
   "source": [
    "q8 = prepareQuery('''\n",
    "    SELECT ?serie ?collection\n",
    "    WHERE {\n",
    "       ?serie rdf:type nls:Serie .\n",
    "       ?serie nls:collection ?collection .\n",
    "    }\n",
    "    ''',\n",
    "  initNs = { \"nls\": nls}\n",
    ")\n",
    "\n",
    "for r in g.query(q8):\n",
    "    print(r.serie, r.collection)"
   ]
  },
  {
   "cell_type": "markdown",
   "metadata": {},
   "source": [
    "q8c: Obtaining the number of volumes"
   ]
  },
  {
   "cell_type": "code",
   "execution_count": 15,
   "metadata": {},
   "outputs": [
    {
     "name": "stdout",
     "output_type": "stream",
     "text": [
      "16\n"
     ]
    }
   ],
   "source": [
    "q8 = prepareQuery('''\n",
    "    SELECT ?serie\n",
    "    WHERE {\n",
    "       ?volume rdf:type nls:Volume .\n",
    "    }\n",
    "    ''',\n",
    "  initNs = { \"nls\": nls}\n",
    ")\n",
    "\n",
    "print(len(g.query(q8)))"
   ]
  },
  {
   "cell_type": "markdown",
   "metadata": {},
   "source": [
    "q8d: Obtaining the URIS of volumes"
   ]
  },
  {
   "cell_type": "code",
   "execution_count": 16,
   "metadata": {},
   "outputs": [
    {
     "name": "stdout",
     "output_type": "stream",
     "text": [
      "https://w3id.org/nls/i/Volume/9927010233804340_103655658 Ladies' Edinburgh magazine Volume 1\n",
      "https://w3id.org/nls/i/Volume/9927010233804340_103655659 Ladies' Edinburgh magazine Volume 2\n",
      "https://w3id.org/nls/i/Volume/9927010233804340_103655660 Ladies' Edinburgh magazine Volume 3\n",
      "https://w3id.org/nls/i/Volume/9927010233804340_103655661 Ladies' Edinburgh magazine Volume 4\n",
      "https://w3id.org/nls/i/Volume/9927010233804340_103655662 Ladies' Edinburgh magazine Volume 5\n",
      "https://w3id.org/nls/i/Volume/9927010233804340_103655663 Ladies' Edinburgh magazine Volume 6\n",
      "https://w3id.org/nls/i/Volume/9938524913804340_103655648 attempt. A literary magazine Volume 2\n",
      "https://w3id.org/nls/i/Volume/9938524913804340_103655649 attempt. A literary magazine Volume 3\n",
      "https://w3id.org/nls/i/Volume/9938524913804340_103655650 attempt. A literary magazine Volume 4\n",
      "https://w3id.org/nls/i/Volume/9938524913804340_103655651 attempt. A literary magazine Volume 5\n",
      "https://w3id.org/nls/i/Volume/9938524913804340_103655652 attempt. A literary magazine Volume 6\n",
      "https://w3id.org/nls/i/Volume/9938524913804340_103655653 attempt. A literary magazine Volume 7\n",
      "https://w3id.org/nls/i/Volume/9938524913804340_103655654 attempt. A literary magazine Volume 8\n",
      "https://w3id.org/nls/i/Volume/9938524913804340_103655655 attempt. A literary magazine Volume 9\n",
      "https://w3id.org/nls/i/Volume/9938524913804340_103655656 attempt. A literary magazine Volume 10\n",
      "https://w3id.org/nls/i/Volume/9938524913804340_109857781 attempt. A literary magazine Volume 1 and Select writings\n"
     ]
    }
   ],
   "source": [
    "q8 = prepareQuery('''\n",
    "    SELECT ?volume ?title\n",
    "    WHERE {\n",
    "       ?volume rdf:type nls:Volume .\n",
    "       ?volume nls:title ?title .\n",
    "    }\n",
    "    ''',\n",
    "  initNs = { \"nls\": nls}\n",
    ")\n",
    "\n",
    "for r in g.query(q8):\n",
    "    print(r.volume, r.title)"
   ]
  },
  {
   "cell_type": "markdown",
   "metadata": {},
   "source": [
    "Query to obtain the number of volumes per serie, and also printing the name of each serie. "
   ]
  },
  {
   "cell_type": "code",
   "execution_count": 17,
   "metadata": {},
   "outputs": [
    {
     "name": "stdout",
     "output_type": "stream",
     "text": [
      "Serie Title: Ladies' Edinburgh magazine,1875, Num volume 6\n",
      "Serie Title: attempt. A literary magazine,1865, Num volume 10\n"
     ]
    }
   ],
   "source": [
    "q8 = prepareQuery('''\n",
    "    SELECT ?serie ?title ?nv\n",
    "    WHERE {\n",
    "       ?serie rdf:type nls:Serie .\n",
    "       ?serie nls:title ?title .\n",
    "       ?serie nls:numberOfVolumes ?nv .\n",
    "     }\n",
    "    ''',\n",
    "  initNs = { \"nls\": nls}\n",
    ")\n",
    "\n",
    "for r in g.query(q8):\n",
    "    print(\"Serie Title: %s, Num volume %s\" %(r.title, r.nv))"
   ]
  },
  {
   "cell_type": "markdown",
   "metadata": {},
   "source": [
    "Query 9: Priting the first 10 \"Pages\" uris"
   ]
  },
  {
   "cell_type": "code",
   "execution_count": 51,
   "metadata": {},
   "outputs": [
    {
     "name": "stdout",
     "output_type": "stream",
     "text": [
      "https://w3id.org/nls/i/Page/9927010233804340_103655658_1\n",
      "https://w3id.org/nls/i/Page/9927010233804340_103655658_10\n",
      "https://w3id.org/nls/i/Page/9927010233804340_103655658_100\n",
      "https://w3id.org/nls/i/Page/9927010233804340_103655658_101\n",
      "https://w3id.org/nls/i/Page/9927010233804340_103655658_102\n",
      "https://w3id.org/nls/i/Page/9927010233804340_103655658_103\n",
      "https://w3id.org/nls/i/Page/9927010233804340_103655658_104\n",
      "https://w3id.org/nls/i/Page/9927010233804340_103655658_105\n",
      "https://w3id.org/nls/i/Page/9927010233804340_103655658_106\n",
      "https://w3id.org/nls/i/Page/9927010233804340_103655658_107\n"
     ]
    }
   ],
   "source": [
    "q9 = prepareQuery('''\n",
    "    SELECT ?page\n",
    "    WHERE {\n",
    "       ?page rdf:type nls:Page .\n",
    "    }\n",
    "    LIMIT 10\n",
    "    ''',\n",
    "  initNs = { \"nls\": nls}\n",
    ")\n",
    "\n",
    "for r in g.query(q9):\n",
    "    print(r.page)"
   ]
  },
  {
   "cell_type": "markdown",
   "metadata": {},
   "source": [
    "Query 10: Otaining the text and the page-number of the first 10 pages"
   ]
  },
  {
   "cell_type": "code",
   "execution_count": 52,
   "metadata": {},
   "outputs": [
    {
     "name": "stdout",
     "output_type": "stream",
     "text": [
      "---\n",
      " 1\n",
      "---\n",
      "2 The Ladies Edinhuagh Magazine. may be the light of our lives, but Avhich no act of our own will can bring back. It is not till the distinction has been appreciated between nature as it is and nature as we make it to be, between that which we see and that which ' having not seen, we love,' that any branch of art can be reckoned in its proper value.\" The writer of these remarks then goes on to contrast the matter-of-fact aspect of the source of our knowledge with the aspect of philosophy, art, and religion. The former takes our knowledge to be exclusively the result of the action of human thought; the latter admits the co-operation of nature by the transmission of images. The view of art, taking its stand on this basis, involves the absolute fusion of thought and things. The habitual interpretation of natural events by the analogy of human design, is but an anticipation of, and a step towards, such a true conquest of nature. This habitual interpretation is a proof that, \" to the ordinary man, nature presents itself, not as something external, but, like a friend, as ' another liimself.'\" Pure emotion is the medium of the true conquest of nature thus daily anticipated. In it \" the experiences of life are held together, and the animal element is so fused with the spiritual as to form one organisation, through which the same impulse runs with unimpeded energy. Then man has made nature his own, by becoming a conscious partaker of the reason which animates him and it. The attainment of this consummation can only approach realisation through the operation of a power which can penetrate the whole man, and act on every moment of his life. But that power, which, in the form of religion, can make every meal a sacrament, and transform human passion into the likeness of divine love, is represented at a lower stage, not only by the unifying action of speculative philosophy, but by the combining force of art.\" Art, then, is the celebration of the union of man with nature. And he must be one with her, else whence those untold feelings of sympathy with her sublime moods, of yearning after her loveliness ? That only arouses our feeling, which has something akin to ourselves; we know this from our intercourse with our fellow-men ; we may know it too from our intercourse with nature. Those thoughts of the Oxford graduate present to our minds a philosophy, under the shadow of which we may 10\n",
      "---\n",
      "92 The Ladies Edinburgh Magazine. ing. So he walked straight up the nave, peered along the transepts, then went straight through the choir and presbytery to the Lady Chapel. But no one was to be seen, save here and there an old woman at her prayers. The choir was no Av filled with a dim religious hght of many colours, that tempered the gloom of the old carved oak with motley hues. Randall, on retracing his steps down the church, paused a little west of the lectern, in front of the choristers' seats. Casting his eye over the rich stall-work, he looked at the lofty main arch east of the choir, into which the organ seemed to soar on brazen wings. Gazing then upwards beyond the arch, he felt himself dwindling into awe-struck insignificance. The warm light upon the stalls greeted him like a cheering message as he again looked around him. He was weary in body and in mind; and reassuring himself with the thought that his friends had not yet arrived, he seated himself in one of the choristers' seats, to gaze more at leisure on the wonders around him. What he gazed ou in reality was the land of dreams. Randall, on re-entering the Cathedral from the cloisters, had not failed to observe, over the porch opposite to him, a canopied niche with an antique stone figure in it. This he had supposed to be the figure of Werburga, the patron saint of the Cathedral. He had observed it mechanically and unthirddngly ; yet it formed, notwithstanding, a link in the chain of his remembrances. And no sooner had he entered dreamland, than his figure came to join itself to that which was now the central image in his thoughts. He fancied he sa AV the figure of Werburga float down from her niche, and glide noiselessly up the nave till she stood in fr(jnt of him. The figure wore a long, almost colourless robe ; her hair hung in loose ringlets over her shoulders. With a face of unearthly paleness, and eyes full of spiritual meaning, she told him that this her Cathedral was the type of her own life. Oppressed by vain and worldly suitors, she had built herself round by the walls of monastic seclusion, and fled from those who would take no denial. And thus, in a pure and saintly life, in sounding religious houses, she had found the highest happiness. Her concluding words were distinct in Randall's mind when he awoke. \" Should anyone cross your path who is crafty and vain as Werbode my suitor was, do not stay to contend with him ; remember mv words ; withd)-aw.\" 100\n",
      "---\n",
      "The Ladies' Edinburgh Magazine. 93 Randall was rudely awakened by a sensation that made him fancy he was falling over a precipice. On opening his eyes, he found himself thrown forward upon the reading-desk, and on standing up, discovered to his surprise that the seat was so constructed as to prevent the occupant from acquiring a habit of sleeping during service; it was movable, and as soon as the head bent forward the seat did likewise. He was glad that no one was present to witness his discomfiture; and the last word of the saint, \" Withdraw,\" which haunted him, seemed peculiarly applicable to his present situation. He reflected, however, that this was somewhat pusillanimous advice, sit only to be followed by a woman and a nun. He was even inclined to beheve that had St. Werburga met with a suitor more congenial than the crafty Werbode, she might not have been so willing to withdraw from the world, and the calendar might have boasted of one saint fewer than it possessed. Preparing now to leave the Cathedral, Randall was arrested by the sound of a voice talking. It seemed to come from the wall behind him. He looked in that direction, but an old arch which had been built up seemed to yield a double denial to the possibility of any sound penetrating it. Walking down to the north-west angle of the choir, he perceived where it joined the transept a small and ancient-looking portal. It was half open, and beyond the screen that stretched across the doorway he peeped into a email room. A row of white robes hanging along the wall, showed that this was the choristers' vestry. That it was also the music-room, was shown by the piles of music-books on the table opposite the door. Within the door, and half-hidden by the screen, was an ancient sedile of curious construction. Advancing cautiously and silently, Randall seated himself on the portion of the sedile which was hidden by the screen. Here, by bending his head forward so as to bring it into a line with the screen, he was able to see all the occupants of the chamber without being perceived by them. Six chorister boys in white surplices were seated on a bench at the further end of the room, while opposite to them, the side of her face towards Randall, stood a woman—the same he had seen in the bow-window. Was he, then, again so near her as even to hear her speak % Were these the features he had seen in his dream? It was like another dream; he dared hardly No. 3.—MARCH 1875. N 101\n",
      "---\n",
      "94 The Ladies' Edinburgh Magazine. trust his eyesight. Her attitude was noble and natural, as, with the same flowing garment and simple tresses, she stood, with one hand slightly raised, the other hanging gracefully at her side, her eyes gazing intently before her, her lips moving eloquently. She must have been speaking for some time already, yet Randall, by listening attentively, was able to conjecture that the Avords now pronounced with such clearness, and accompanied by such grace of manner, formed part of an improvised lecture on music. PROCLA. (To he continued.) i^\\u hit §r. i^isthfttdorf. To many in this country the tidings of Dr. Tischendorf's death came with something of the pang of a personal loss. Not only was the department of scholarship in which he laboured one that has an interest for all, but his own career was marked by a brilliance of achievement, which never suffered expectation to fail till, ere yet the end had been thought of, hope was checked by the knowledge, first that failure of health, and now that death had arrested the cunning hand and brain, till then unresting. Now we can but turn to the past, and sorrowfully count the gains that, as his, can be added to no more. But it is well to do so, not only that Ave may know the greatness gone from us, and gratefully appreciate what this man has done, but also that, giving him his due place in the line of biblical critics, we may understand what is the work he has left behind, and, so understanding, be ready to welcome those who after him shall carry it on further towards completion. The few pages that follow cannot indeed claim to do anything towards this end; they crave indulgence merely as a feeble attempt to contribute towards making generally known the history of a scholar whose labours were for the benefit of all. Few personal details can indeed be given. This, however, seems to be of the less consequence that Tischendorf's was one of those lives which, devoted to the pursuit of a single absorbing aim, derive all meaning and interest from that aim:—nay, he may be said to have had no life apart from the central purpose that gathered to itself all his 102\n"
     ]
    }
   ],
   "source": [
    "q10 = prepareQuery('''\n",
    "    SELECT *\n",
    "    WHERE {\n",
    "       ?page rdf:type nls:Page .\n",
    "       ?page nls:text ?text . \n",
    "       ?page nls:number ?number .\n",
    "\n",
    "    }\n",
    "    LIMIT 5\n",
    "    ''',\n",
    "  initNs = { \"nls\": nls}\n",
    ")\n",
    "\n",
    "for r in g.query(q10):\n",
    "    print(\"---\")\n",
    "    print(r.text, r.number)"
   ]
  },
  {
   "cell_type": "markdown",
   "metadata": {},
   "source": [
    "Query 11: Obtaining the title of the first 10 resources "
   ]
  },
  {
   "cell_type": "code",
   "execution_count": 53,
   "metadata": {},
   "outputs": [
    {
     "name": "stdout",
     "output_type": "stream",
     "text": [
      "Ladies' Edinburgh magazine,1875\n",
      "attempt. A literary magazine,1865\n"
     ]
    }
   ],
   "source": [
    "q11 = prepareQuery('''\n",
    "  SELECT ?serie ?title\n",
    "    WHERE {\n",
    "    ?serie rdf:type nls:Serie .\n",
    "    ?serie nls:title ?title .\n",
    "    }\n",
    "    LIMIT 10\n",
    "    ''',\n",
    "  initNs = { \"nls\": nls}\n",
    ")\n",
    "\n",
    "for r in g.query(q11):\n",
    "      print(r.title)"
   ]
  },
  {
   "cell_type": "markdown",
   "metadata": {},
   "source": [
    "Query 12: Obtaining each serie number, serie year, serie mmsid, serie language "
   ]
  },
  {
   "cell_type": "code",
   "execution_count": 54,
   "metadata": {},
   "outputs": [
    {
     "name": "stdout",
     "output_type": "stream",
     "text": [
      "Ladies' Edinburgh magazine,1875 0.0\n",
      "attempt. A literary magazine,1865 0.0\n"
     ]
    }
   ],
   "source": [
    "q12 = prepareQuery('''\n",
    "SELECT ?enum ?s ?y ?nv ?mmsid ?title ?subtitle  ?lang WHERE {\n",
    "       ?s a nls:Serie ;\n",
    "            nls:number ?enum ;\n",
    "            nls:mmsid ?mmsid ; \n",
    "            nls:publicationYear ?y ; \n",
    "            nls:numberOfVolumes ?nv ;\n",
    "            nls:title ?title ;\n",
    "            nls:subtitle ?subtitle ;\n",
    "            nls:language ?lang .\n",
    "               \n",
    "    }\n",
    "''',\n",
    "  initNs = { \"nls\": nls}\n",
    ")\n",
    "\n",
    "for r in g.query(q12):\n",
    "    #print(r.enum, r.y, r.nv, r.mmsid, r.lang, r.title, r.subtitle)\n",
    "    print(r.title, r.subtitle)"
   ]
  },
  {
   "cell_type": "code",
   "execution_count": 56,
   "metadata": {},
   "outputs": [
    {
     "name": "stdout",
     "output_type": "stream",
     "text": [
      "Ladies' Edinburgh magazine Volume 1\n",
      "Ladies' Edinburgh magazine Volume 2\n",
      "Ladies' Edinburgh magazine Volume 3\n",
      "Ladies' Edinburgh magazine Volume 4\n",
      "Ladies' Edinburgh magazine Volume 5\n",
      "Ladies' Edinburgh magazine Volume 6\n",
      "attempt. A literary magazine Volume 2\n",
      "attempt. A literary magazine Volume 3\n",
      "attempt. A literary magazine Volume 4\n",
      "attempt. A literary magazine Volume 5\n",
      "attempt. A literary magazine Volume 6\n",
      "attempt. A literary magazine Volume 7\n",
      "attempt. A literary magazine Volume 8\n",
      "attempt. A literary magazine Volume 9\n",
      "attempt. A literary magazine Volume 10\n",
      "attempt. A literary magazine Volume 1 and Select writings\n"
     ]
    }
   ],
   "source": [
    "q12 = prepareQuery('''\n",
    "SELECT ?title WHERE {\n",
    "       ?s a nls:Volume ;\n",
    "            nls:title ?title ;\n",
    "        \n",
    "               \n",
    "    }\n",
    "''',\n",
    "  initNs = { \"nls\": nls}\n",
    ")\n",
    "\n",
    "for r in g.query(q12):\n",
    "    #print(r.enum, r.y, r.nv, r.mmsid, r.lang, r.title, r.subtitle)\n",
    "    print(r.title)"
   ]
  },
  {
   "cell_type": "markdown",
   "metadata": {},
   "source": [
    "Query 13: Obtaining the text of pages, in which appear the string \"Ladies\". "
   ]
  },
  {
   "cell_type": "code",
   "execution_count": 55,
   "metadata": {},
   "outputs": [],
   "source": [
    "q13 = prepareQuery('''\n",
    "SELECT * WHERE {\n",
    "       ?page a nls:Page .\n",
    "       ?page nls:text ?text .\n",
    "      FILTER regex(?text, \"^central\")\n",
    "           }\n",
    "\n",
    "''',\n",
    "  initNs = { \"nls\": nls}\n",
    ")\n",
    "\n",
    "for r in g.query(q13):\n",
    "    print(r)\n",
    "    print(\"---\")"
   ]
  },
  {
   "cell_type": "markdown",
   "metadata": {},
   "source": [
    "Query 14: Counting the number of Volumes"
   ]
  },
  {
   "cell_type": "code",
   "execution_count": 21,
   "metadata": {},
   "outputs": [
    {
     "name": "stdout",
     "output_type": "stream",
     "text": [
      "-Number of Volumes--\n",
      "(rdflib.term.Literal('16', datatype=rdflib.term.URIRef('http://www.w3.org/2001/XMLSchema#integer')),)\n"
     ]
    }
   ],
   "source": [
    "q14 = prepareQuery('''\n",
    "SELECT (COUNT (DISTINCT ?v) as ?count)\n",
    "    WHERE {\n",
    "        ?serie a nls:Serie .\n",
    "        ?serie nls:hasPart ?v .\n",
    "        }\n",
    "\n",
    "''',\n",
    "  initNs = { \"nls\": nls}\n",
    ")\n",
    "\n",
    "for r in g.query(q14):\n",
    "    print(\"-Number of Volumes--\")\n",
    "    print(r)"
   ]
  },
  {
   "cell_type": "markdown",
   "metadata": {},
   "source": [
    "Query 15: Counting the number of Pages"
   ]
  },
  {
   "cell_type": "code",
   "execution_count": 22,
   "metadata": {},
   "outputs": [
    {
     "name": "stdout",
     "output_type": "stream",
     "text": [
      "-Number of PAGES--\n",
      "(rdflib.term.Literal('6354', datatype=rdflib.term.URIRef('http://www.w3.org/2001/XMLSchema#integer')),)\n"
     ]
    }
   ],
   "source": [
    "q15 = prepareQuery('''\n",
    "SELECT (COUNT (DISTINCT ?p) as ?count)\n",
    "    WHERE {\n",
    "        ?volume a nls:Volume .\n",
    "        ?volume nls:hasPart ?p .\n",
    "        }\n",
    "\n",
    "''',\n",
    "  initNs = { \"nls\": nls}\n",
    ")\n",
    "\n",
    "for r in g.query(q15):\n",
    "    print(\"-Number of PAGES--\")\n",
    "    print(r)\n"
   ]
  },
  {
   "cell_type": "markdown",
   "metadata": {},
   "source": [
    "Query 16: Counting the number of Series"
   ]
  },
  {
   "cell_type": "code",
   "execution_count": 23,
   "metadata": {},
   "outputs": [
    {
     "name": "stdout",
     "output_type": "stream",
     "text": [
      "-Number of Series--\n",
      "(rdflib.term.Literal('2', datatype=rdflib.term.URIRef('http://www.w3.org/2001/XMLSchema#integer')),)\n"
     ]
    }
   ],
   "source": [
    "q16 = prepareQuery('''\n",
    "SELECT (COUNT (DISTINCT ?s) as ?count)\n",
    "    WHERE {\n",
    "        ?serie a nls:Serie .\n",
    "        ?serie nls:mmsid ?s .\n",
    "        }\n",
    "\n",
    "''',\n",
    "  initNs = { \"nls\": nls}\n",
    ")\n",
    "\n",
    "for r in g.query(q16):\n",
    "    print(\"-Number of Series--\")\n",
    "    print(r)\n"
   ]
  },
  {
   "cell_type": "markdown",
   "metadata": {},
   "source": [
    "Query 17: Obtaining the uri, year, number of volumes and number of pages of the first 3 series resources"
   ]
  },
  {
   "cell_type": "code",
   "execution_count": 24,
   "metadata": {},
   "outputs": [
    {
     "name": "stdout",
     "output_type": "stream",
     "text": [
      "-Number of Series--\n",
      "https://w3id.org/nls/i/Page/9927010233804340_103655658_1 1875 1 402\n",
      "-Number of Series--\n",
      "https://w3id.org/nls/i/Page/9927010233804340_103655658_10 1875 1 402\n",
      "-Number of Series--\n",
      "https://w3id.org/nls/i/Page/9927010233804340_103655658_100 1875 1 402\n"
     ]
    }
   ],
   "source": [
    "q17 =prepareQuery('''\n",
    "SELECT ?uri ?year ?vnum ?numPages ?numWords\n",
    "        WHERE {\n",
    "        ?uri a nls:Page .\n",
    "        ?uri nls:numberOfWords ?numWords. \n",
    "        ?v nls:hasPart ?uri .\n",
    "        ?v nls:number ?vnum .\n",
    "        ?v nls:numberOfPages ?numPages .\n",
    "        ?e nls:hasPart ?v .\n",
    "        ?e nls:publicationYear ?year.\n",
    "        \n",
    "        }\n",
    "         LIMIT 3\n",
    "        ''',\n",
    "  initNs = { \"nls\": nls}\n",
    ")\n",
    "\n",
    "for r in g.query(q17):\n",
    "    print(\"-Number of Series--\")\n",
    "    print(r.uri, r.year, r.vnum, r.numPages)"
   ]
  },
  {
   "cell_type": "code",
   "execution_count": 25,
   "metadata": {},
   "outputs": [],
   "source": [
    "#G = rdflib_to_networkx_multidigraph(result)\n",
    "\n",
    "# Plot Networkx instance of RDF Graph\n",
    "#pos = nx.spring_layout(G, scale=2)\n",
    "#edge_labels = nx.get_edge_attributes(G, 'r')\n",
    "#nx.draw_networkx_edge_labels(G, pos, edge_labels=edge_labels)\n",
    "#nx.draw(G, with_labels=True)\n",
    "\n",
    "#if not in interactive mode for \n",
    "#plt.show()\n"
   ]
  },
  {
   "cell_type": "markdown",
   "metadata": {},
   "source": [
    "### Type 2: Connecting with FUSEKI and using SPARQLWrapper\n",
    "\n",
    "**Previously the knowlege graph (ladies_debating.ttl) needs to be uploaded to Apache Fuseki Server** "
   ]
  },
  {
   "cell_type": "markdown",
   "metadata": {},
   "source": [
    "Query 18: Basic query"
   ]
  },
  {
   "cell_type": "code",
   "execution_count": 26,
   "metadata": {},
   "outputs": [
    {
     "name": "stdout",
     "output_type": "stream",
     "text": [
      "https://w3id.org/nls/i/Page/9938524913804340_103655655_373 http://www.w3.org/1999/02/22-rdf-syntax-ns#type https://w3id.org/nls#Page\n",
      "https://w3id.org/nls/i/Page/9938524913804340_103655655_373 https://w3id.org/nls#altoXML 103655655/alto/104323660.34.xml\n",
      "https://w3id.org/nls/i/Page/9938524913804340_103655655_373 https://w3id.org/nls#text The Attempt. 363 It was Sunday morning,—a bright and breezy September day; and the fine old Carillion was ringing, Mary, Joseph, and George, as the bells were called, whose voices were known and loved far out at sea. How often had Raoul heard them in his mind, as now in truth. While avoiding the main thoroughfare, he sped up the narrow lanes, past flowery hedges and scattered cottages towards the massive grey church, which stood alone in a grassy valley, somewhat retired from the little town that lay between it and the sea. And, down the little turfy hill, he could see Gabrielle coming the straight way from the farm. Her freshest bloom seemed glowing in her cheeks again ; her dark velvet bodice, poin^ c V Alencon cap, and rich gold ornaments, were most becoming, as she hastened to him with a bright smile and outstretched hands. \" This morning I thought it was all a dream again,\" she said, \" the dream of your return I have awakened from so often; but it is true—true, and the sunshine of the old days has returned.\" •' And I grew nervous when you were out of my sight,\" said Raoul. \" Of cjurse this must not last, we must have a word with the cur6 before mass; as to the contract, it was all drawn out ten years ago, and only wants dating and signing. We are too busy to wait; I am a consulting surgeon, you know, and you have Leon de Frajou and little Gabriel to look after at once.\" An hour later they had left the church, and were walking arm in arm down the Grande Rue, which was thronged with people, all endlmanche, and most excited by the great news of the night before. So many congratulations and marvellous questions about the Siren were pressed upon the doctor, that he felt some explanation to be necessary, so he turned at the door of the Colonel's lodging, lifted his hat, and thanked the neighbours warmly; and then continued,—\" That I am here again I owe to Colonel de Frajou, who found out where I was and how I had been deceived. It is true that I was detained two years a prisoner in Algeria; but I should not, after that, have remained eight years in America, had I not had false information that Mademoiselle Gabrielle was married. She allows me, however, to say now that she soon will be ; and I have to ask pardon f ir taking her away. But I have no rancour against our Siren; she holds her cup of pure water to all comers ; is\n",
      "https://w3id.org/nls/i/Page/9938524913804340_103655655_373 https://w3id.org/nls#numberOfWords 445\n",
      "https://w3id.org/nls/i/Page/9938524913804340_103655655_373 https://w3id.org/nls#number 373\n"
     ]
    }
   ],
   "source": [
    "sparql = SPARQLWrapper(\"http://localhost:3030/ladies_debating/sparql\")\n",
    "sparql.setQuery(\"\"\"\n",
    "    SELECT ?subject ?predicate ?object WHERE {   ?subject ?predicate ?object } LIMIT 5 \n",
    "\"\"\")\n",
    "sparql.setReturnFormat(JSON)\n",
    "results = sparql.query().convert()\n",
    "\n",
    "results\n",
    "\n",
    "for result in results[\"results\"][\"bindings\"]:\n",
    "    print(result[\"subject\"][\"value\"], result[\"predicate\"][\"value\"], result[\"object\"][\"value\"] )\n"
   ]
  },
  {
   "cell_type": "markdown",
   "metadata": {},
   "source": [
    "Query 19: Obtaining each Serie uri, year and number of Serie. "
   ]
  },
  {
   "cell_type": "code",
   "execution_count": 27,
   "metadata": {},
   "outputs": [
    {
     "name": "stdout",
     "output_type": "stream",
     "text": [
      "https://w3id.org/nls/i/Serie/9927010233804340 1875 1\n",
      "https://w3id.org/nls/i/Serie/9938524913804340 1865 0\n"
     ]
    }
   ],
   "source": [
    "sparql = SPARQLWrapper(\"http://localhost:3030/ladies_debating/sparql\")\n",
    "sparql.setQuery(\"\"\"\n",
    "    PREFIX nls: <https://w3id.org/nls#>\n",
    "    SELECT ?serie ?year ?snum WHERE {\n",
    "       ?serie a nls:Serie ;\n",
    "              nls:number ?snum ;\n",
    "              nls:publicationYear ?year \n",
    "    }\n",
    "\n",
    "\"\"\")\n",
    "sparql.setReturnFormat(JSON)\n",
    "results = sparql.query().convert()\n",
    "r=results[\"results\"][\"bindings\"]\n",
    "for i in r:\n",
    "    print(i[\"serie\"][\"value\"], i[\"year\"][\"value\"], i[\"snum\"][\"value\"])"
   ]
  },
  {
   "cell_type": "markdown",
   "metadata": {},
   "source": [
    "Query 20: Obtaining publication year, number, title, subtitle, printedAt, physical description, mmsid, shelflocator, number of volumes of the resource with the uri: https://w3id.org/nls/i/Serie/9927010233804340"
   ]
  },
  {
   "cell_type": "code",
   "execution_count": 28,
   "metadata": {},
   "outputs": [
    {
     "name": "stdout",
     "output_type": "stream",
     "text": [
      "1875 1 Ladies' Edinburgh magazine,1875 0.0 Edinburgh v. ; 21 cm. 9927010233804340 U.393 6\n"
     ]
    }
   ],
   "source": [
    "sparql = SPARQLWrapper(\"http://localhost:3030/ladies_debating/sparql\")\n",
    "uri=\"<https://w3id.org/nls/i/Serie/9927010233804340>\"\n",
    "query=\"\"\"\n",
    "PREFIX nls: <https://w3id.org/nls#>\n",
    "SELECT ?publicationYear ?num ?title ?subtitle ?printedAt ?physicalDescription ?mmsid ?shelfLocator ?numberOfVolumes  WHERE {\n",
    "       %s nls:publicationYear ?publicationYear ;\n",
    "          nls:number ?num;\n",
    "          nls:title ?title;\n",
    "          nls:subtitle ?subtitle ;\n",
    "          nls:printedAt ?printedAt;\n",
    "          nls:physicalDescription ?physicalDescription;\n",
    "          nls:mmsid ?mmsid;\n",
    "          nls:shelfLocator ?shelfLocator;\n",
    "          nls:numberOfVolumes ?numberOfVolumes. \n",
    "          \n",
    "               \n",
    "}\n",
    "\"\"\" % (uri)\n",
    "sparql.setQuery(query)\n",
    "sparql.setReturnFormat(JSON)\n",
    "results = sparql.query().convert()\n",
    "r=results[\"results\"][\"bindings\"]\n",
    "for i in r:\n",
    "    print(i[\"publicationYear\"][\"value\"], i[\"num\"][\"value\"], i[\"title\"][\"value\"], i[\"subtitle\"][\"value\"],\\\n",
    "          i[\"printedAt\"][\"value\"], i[\"physicalDescription\"][\"value\"], i[\"mmsid\"][\"value\"], i[\"shelfLocator\"][\"value\"],\\\n",
    "          i[\"numberOfVolumes\"][\"value\"])"
   ]
  },
  {
   "cell_type": "markdown",
   "metadata": {},
   "source": [
    "Query 21: Obtaining the number of volumes of the serie with the uri: https://w3id.org/nls/i/Serie/9938524913804340 "
   ]
  },
  {
   "cell_type": "code",
   "execution_count": 29,
   "metadata": {},
   "outputs": [
    {
     "data": {
      "text/plain": [
       "'10'"
      ]
     },
     "execution_count": 29,
     "metadata": {},
     "output_type": "execute_result"
    }
   ],
   "source": [
    "sparql = SPARQLWrapper(\"http://localhost:3030/ladies_debating/sparql\")\n",
    "uri=\"<https://w3id.org/nls/i/Serie/9938524913804340>\"\n",
    "query=\"\"\"\n",
    "PREFIX nls: <https://w3id.org/nls#>\n",
    "SELECT (COUNT (DISTINCT ?v) as ?count)\n",
    "    WHERE {\n",
    "        %s nls:hasPart ?v.\n",
    "    \t?v ?b ?c\n",
    "}\n",
    "\"\"\" % (uri)\n",
    "sparql.setQuery(query)\n",
    "sparql.setReturnFormat(JSON)\n",
    "results = sparql.query().convert()\n",
    "results[\"results\"][\"bindings\"][0][\"count\"][\"value\"]\n"
   ]
  },
  {
   "cell_type": "code",
   "execution_count": 30,
   "metadata": {},
   "outputs": [
    {
     "data": {
      "text/plain": [
       "'6'"
      ]
     },
     "execution_count": 30,
     "metadata": {},
     "output_type": "execute_result"
    }
   ],
   "source": [
    "sparql = SPARQLWrapper(\"http://localhost:3030/ladies_debating/sparql\")\n",
    "uri=\"<https://w3id.org/nls/i/Serie/9927010233804340>\"\n",
    "query=\"\"\"\n",
    "PREFIX nls: <https://w3id.org/nls#>\n",
    "SELECT (COUNT (DISTINCT ?v) as ?count)\n",
    "    WHERE {\n",
    "        %s nls:hasPart ?v.\n",
    "    \t?v ?b ?c\n",
    "}\n",
    "\"\"\" % (uri)\n",
    "sparql.setQuery(query)\n",
    "sparql.setReturnFormat(JSON)\n",
    "results = sparql.query().convert()\n",
    "results[\"results\"][\"bindings\"][0][\"count\"][\"value\"]\n"
   ]
  },
  {
   "cell_type": "code",
   "execution_count": 21,
   "metadata": {},
   "outputs": [
    {
     "name": "stdout",
     "output_type": "stream",
     "text": [
      "https://w3id.org/nls/i/Volume/9927010233804340_103655663 Ladies' Edinburgh magazine Volume 6\n",
      "https://w3id.org/nls/i/Volume/9927010233804340_103655660 Ladies' Edinburgh magazine Volume 3\n",
      "https://w3id.org/nls/i/Volume/9927010233804340_103655658 Ladies' Edinburgh magazine Volume 1\n",
      "https://w3id.org/nls/i/Volume/9927010233804340_103655661 Ladies' Edinburgh magazine Volume 4\n",
      "https://w3id.org/nls/i/Volume/9927010233804340_103655659 Ladies' Edinburgh magazine Volume 2\n",
      "https://w3id.org/nls/i/Volume/9927010233804340_103655662 Ladies' Edinburgh magazine Volume 5\n"
     ]
    }
   ],
   "source": [
    "sparql = SPARQLWrapper(\"http://localhost:3030/ladies_debating/sparql\")\n",
    "uri=\"<https://w3id.org/nls/i/Serie/9927010233804340>\"\n",
    "query=\"\"\"\n",
    "PREFIX nls: <https://w3id.org/nls#>\n",
    "SELECT ?v ?title ?vnum\n",
    "    WHERE {\n",
    "        %s nls:hasPart ?v.\n",
    "    \t?v nls:title ?title .\n",
    "        ?v nls:title ?vnum .\n",
    "}\n",
    "\"\"\" % (uri)\n",
    "sparql.setQuery(query)\n",
    "sparql.setReturnFormat(JSON)\n",
    "results = sparql.query().convert()\n",
    "r=results[\"results\"][\"bindings\"]\n",
    "for i in r:\n",
    "        print(i[\"v\"][\"value\"], i[\"vnum\"][\"value\"])"
   ]
  },
  {
   "cell_type": "markdown",
   "metadata": {},
   "source": [
    "Query 22: Giving the volume with the uri: <https://w3id.org/nls/i/Volume/9927010233804340_103655658>, this query obtaians its pages uris and numbers. "
   ]
  },
  {
   "cell_type": "code",
   "execution_count": 31,
   "metadata": {},
   "outputs": [
    {
     "name": "stdout",
     "output_type": "stream",
     "text": [
      "https://w3id.org/nls/i/Page/9927010233804340_103655658_138 138\n",
      "https://w3id.org/nls/i/Page/9927010233804340_103655658_59 59\n",
      "https://w3id.org/nls/i/Page/9927010233804340_103655658_183 183\n",
      "https://w3id.org/nls/i/Page/9927010233804340_103655658_289 289\n",
      "https://w3id.org/nls/i/Page/9927010233804340_103655658_159 159\n",
      "https://w3id.org/nls/i/Page/9927010233804340_103655658_206 206\n",
      "https://w3id.org/nls/i/Page/9927010233804340_103655658_350 350\n",
      "https://w3id.org/nls/i/Page/9927010233804340_103655658_19 19\n",
      "https://w3id.org/nls/i/Page/9927010233804340_103655658_321 321\n",
      "https://w3id.org/nls/i/Page/9927010233804340_103655658_352 352\n",
      "https://w3id.org/nls/i/Page/9927010233804340_103655658_305 305\n",
      "https://w3id.org/nls/i/Page/9927010233804340_103655658_176 176\n",
      "https://w3id.org/nls/i/Page/9927010233804340_103655658_252 252\n",
      "https://w3id.org/nls/i/Page/9927010233804340_103655658_96 96\n",
      "https://w3id.org/nls/i/Page/9927010233804340_103655658_272 272\n",
      "https://w3id.org/nls/i/Page/9927010233804340_103655658_92 92\n",
      "https://w3id.org/nls/i/Page/9927010233804340_103655658_281 281\n",
      "https://w3id.org/nls/i/Page/9927010233804340_103655658_132 132\n",
      "https://w3id.org/nls/i/Page/9927010233804340_103655658_42 42\n",
      "https://w3id.org/nls/i/Page/9927010233804340_103655658_275 275\n",
      "https://w3id.org/nls/i/Page/9927010233804340_103655658_237 237\n",
      "https://w3id.org/nls/i/Page/9927010233804340_103655658_29 29\n",
      "https://w3id.org/nls/i/Page/9927010233804340_103655658_124 124\n",
      "https://w3id.org/nls/i/Page/9927010233804340_103655658_123 123\n",
      "https://w3id.org/nls/i/Page/9927010233804340_103655658_117 117\n",
      "https://w3id.org/nls/i/Page/9927010233804340_103655658_258 258\n",
      "https://w3id.org/nls/i/Page/9927010233804340_103655658_170 170\n",
      "https://w3id.org/nls/i/Page/9927010233804340_103655658_328 328\n",
      "https://w3id.org/nls/i/Page/9927010233804340_103655658_8 8\n",
      "https://w3id.org/nls/i/Page/9927010233804340_103655658_104 104\n",
      "https://w3id.org/nls/i/Page/9927010233804340_103655658_330 330\n",
      "https://w3id.org/nls/i/Page/9927010233804340_103655658_58 58\n",
      "https://w3id.org/nls/i/Page/9927010233804340_103655658_303 303\n",
      "https://w3id.org/nls/i/Page/9927010233804340_103655658_225 225\n",
      "https://w3id.org/nls/i/Page/9927010233804340_103655658_70 70\n",
      "https://w3id.org/nls/i/Page/9927010233804340_103655658_231 231\n",
      "https://w3id.org/nls/i/Page/9927010233804340_103655658_244 244\n",
      "https://w3id.org/nls/i/Page/9927010233804340_103655658_23 23\n",
      "https://w3id.org/nls/i/Page/9927010233804340_103655658_362 362\n",
      "https://w3id.org/nls/i/Page/9927010233804340_103655658_267 267\n",
      "https://w3id.org/nls/i/Page/9927010233804340_103655658_66 66\n",
      "https://w3id.org/nls/i/Page/9927010233804340_103655658_79 79\n",
      "https://w3id.org/nls/i/Page/9927010233804340_103655658_38 38\n",
      "https://w3id.org/nls/i/Page/9927010233804340_103655658_161 161\n",
      "https://w3id.org/nls/i/Page/9927010233804340_103655658_168 168\n",
      "https://w3id.org/nls/i/Page/9927010233804340_103655658_250 250\n",
      "https://w3id.org/nls/i/Page/9927010233804340_103655658_175 175\n",
      "https://w3id.org/nls/i/Page/9927010233804340_103655658_337 337\n",
      "https://w3id.org/nls/i/Page/9927010233804340_103655658_85 85\n",
      "https://w3id.org/nls/i/Page/9927010233804340_103655658_394 394\n",
      "https://w3id.org/nls/i/Page/9927010233804340_103655658_395 395\n",
      "https://w3id.org/nls/i/Page/9927010233804340_103655658_14 14\n",
      "https://w3id.org/nls/i/Page/9927010233804340_103655658_400 400\n",
      "https://w3id.org/nls/i/Page/9927010233804340_103655658_371 371\n",
      "https://w3id.org/nls/i/Page/9927010233804340_103655658_386 386\n",
      "https://w3id.org/nls/i/Page/9927010233804340_103655658_292 292\n",
      "https://w3id.org/nls/i/Page/9927010233804340_103655658_34 34\n",
      "https://w3id.org/nls/i/Page/9927010233804340_103655658_158 158\n",
      "https://w3id.org/nls/i/Page/9927010233804340_103655658_296 296\n",
      "https://w3id.org/nls/i/Page/9927010233804340_103655658_20 20\n",
      "https://w3id.org/nls/i/Page/9927010233804340_103655658_379 379\n",
      "https://w3id.org/nls/i/Page/9927010233804340_103655658_222 222\n",
      "https://w3id.org/nls/i/Page/9927010233804340_103655658_273 273\n",
      "https://w3id.org/nls/i/Page/9927010233804340_103655658_198 198\n",
      "https://w3id.org/nls/i/Page/9927010233804340_103655658_387 387\n",
      "https://w3id.org/nls/i/Page/9927010233804340_103655658_4 4\n",
      "https://w3id.org/nls/i/Page/9927010233804340_103655658_33 33\n",
      "https://w3id.org/nls/i/Page/9927010233804340_103655658_219 219\n",
      "https://w3id.org/nls/i/Page/9927010233804340_103655658_133 133\n",
      "https://w3id.org/nls/i/Page/9927010233804340_103655658_137 137\n",
      "https://w3id.org/nls/i/Page/9927010233804340_103655658_325 325\n",
      "https://w3id.org/nls/i/Page/9927010233804340_103655658_295 295\n",
      "https://w3id.org/nls/i/Page/9927010233804340_103655658_212 212\n",
      "https://w3id.org/nls/i/Page/9927010233804340_103655658_210 210\n",
      "https://w3id.org/nls/i/Page/9927010233804340_103655658_67 67\n",
      "https://w3id.org/nls/i/Page/9927010233804340_103655658_9 9\n",
      "https://w3id.org/nls/i/Page/9927010233804340_103655658_61 61\n",
      "https://w3id.org/nls/i/Page/9927010233804340_103655658_349 349\n",
      "https://w3id.org/nls/i/Page/9927010233804340_103655658_155 155\n",
      "https://w3id.org/nls/i/Page/9927010233804340_103655658_110 110\n",
      "https://w3id.org/nls/i/Page/9927010233804340_103655658_291 291\n",
      "https://w3id.org/nls/i/Page/9927010233804340_103655658_288 288\n",
      "https://w3id.org/nls/i/Page/9927010233804340_103655658_189 189\n",
      "https://w3id.org/nls/i/Page/9927010233804340_103655658_174 174\n",
      "https://w3id.org/nls/i/Page/9927010233804340_103655658_230 230\n",
      "https://w3id.org/nls/i/Page/9927010233804340_103655658_235 235\n",
      "https://w3id.org/nls/i/Page/9927010233804340_103655658_311 311\n",
      "https://w3id.org/nls/i/Page/9927010233804340_103655658_180 180\n",
      "https://w3id.org/nls/i/Page/9927010233804340_103655658_116 116\n",
      "https://w3id.org/nls/i/Page/9927010233804340_103655658_393 393\n",
      "https://w3id.org/nls/i/Page/9927010233804340_103655658_324 324\n",
      "https://w3id.org/nls/i/Page/9927010233804340_103655658_351 351\n",
      "https://w3id.org/nls/i/Page/9927010233804340_103655658_253 253\n",
      "https://w3id.org/nls/i/Page/9927010233804340_103655658_51 51\n",
      "https://w3id.org/nls/i/Page/9927010233804340_103655658_356 356\n",
      "https://w3id.org/nls/i/Page/9927010233804340_103655658_11 11\n",
      "https://w3id.org/nls/i/Page/9927010233804340_103655658_388 388\n",
      "https://w3id.org/nls/i/Page/9927010233804340_103655658_240 240\n",
      "https://w3id.org/nls/i/Page/9927010233804340_103655658_203 203\n",
      "https://w3id.org/nls/i/Page/9927010233804340_103655658_365 365\n",
      "https://w3id.org/nls/i/Page/9927010233804340_103655658_297 297\n",
      "https://w3id.org/nls/i/Page/9927010233804340_103655658_390 390\n",
      "https://w3id.org/nls/i/Page/9927010233804340_103655658_193 193\n",
      "https://w3id.org/nls/i/Page/9927010233804340_103655658_139 139\n",
      "https://w3id.org/nls/i/Page/9927010233804340_103655658_380 380\n",
      "https://w3id.org/nls/i/Page/9927010233804340_103655658_146 146\n",
      "https://w3id.org/nls/i/Page/9927010233804340_103655658_22 22\n",
      "https://w3id.org/nls/i/Page/9927010233804340_103655658_347 347\n",
      "https://w3id.org/nls/i/Page/9927010233804340_103655658_307 307\n",
      "https://w3id.org/nls/i/Page/9927010233804340_103655658_91 91\n",
      "https://w3id.org/nls/i/Page/9927010233804340_103655658_173 173\n",
      "https://w3id.org/nls/i/Page/9927010233804340_103655658_82 82\n",
      "https://w3id.org/nls/i/Page/9927010233804340_103655658_95 95\n",
      "https://w3id.org/nls/i/Page/9927010233804340_103655658_99 99\n",
      "https://w3id.org/nls/i/Page/9927010233804340_103655658_182 182\n",
      "https://w3id.org/nls/i/Page/9927010233804340_103655658_223 223\n",
      "https://w3id.org/nls/i/Page/9927010233804340_103655658_215 215\n",
      "https://w3id.org/nls/i/Page/9927010233804340_103655658_151 151\n",
      "https://w3id.org/nls/i/Page/9927010233804340_103655658_46 46\n",
      "https://w3id.org/nls/i/Page/9927010233804340_103655658_54 54\n",
      "https://w3id.org/nls/i/Page/9927010233804340_103655658_329 329\n",
      "https://w3id.org/nls/i/Page/9927010233804340_103655658_285 285\n",
      "https://w3id.org/nls/i/Page/9927010233804340_103655658_28 28\n",
      "https://w3id.org/nls/i/Page/9927010233804340_103655658_266 266\n",
      "https://w3id.org/nls/i/Page/9927010233804340_103655658_216 216\n",
      "https://w3id.org/nls/i/Page/9927010233804340_103655658_5 5\n",
      "https://w3id.org/nls/i/Page/9927010233804340_103655658_164 164\n",
      "https://w3id.org/nls/i/Page/9927010233804340_103655658_80 80\n",
      "https://w3id.org/nls/i/Page/9927010233804340_103655658_397 397\n",
      "https://w3id.org/nls/i/Page/9927010233804340_103655658_26 26\n",
      "https://w3id.org/nls/i/Page/9927010233804340_103655658_248 248\n",
      "https://w3id.org/nls/i/Page/9927010233804340_103655658_366 366\n",
      "https://w3id.org/nls/i/Page/9927010233804340_103655658_383 383\n",
      "https://w3id.org/nls/i/Page/9927010233804340_103655658_392 392\n",
      "https://w3id.org/nls/i/Page/9927010233804340_103655658_35 35\n",
      "https://w3id.org/nls/i/Page/9927010233804340_103655658_65 65\n",
      "https://w3id.org/nls/i/Page/9927010233804340_103655658_338 338\n",
      "https://w3id.org/nls/i/Page/9927010233804340_103655658_73 73\n",
      "https://w3id.org/nls/i/Page/9927010233804340_103655658_32 32\n",
      "https://w3id.org/nls/i/Page/9927010233804340_103655658_314 314\n",
      "https://w3id.org/nls/i/Page/9927010233804340_103655658_150 150\n",
      "https://w3id.org/nls/i/Page/9927010233804340_103655658_280 280\n",
      "https://w3id.org/nls/i/Page/9927010233804340_103655658_322 322\n",
      "https://w3id.org/nls/i/Page/9927010233804340_103655658_207 207\n",
      "https://w3id.org/nls/i/Page/9927010233804340_103655658_88 88\n",
      "https://w3id.org/nls/i/Page/9927010233804340_103655658_160 160\n",
      "https://w3id.org/nls/i/Page/9927010233804340_103655658_306 306\n",
      "https://w3id.org/nls/i/Page/9927010233804340_103655658_257 257\n",
      "https://w3id.org/nls/i/Page/9927010233804340_103655658_316 316\n",
      "https://w3id.org/nls/i/Page/9927010233804340_103655658_130 130\n",
      "https://w3id.org/nls/i/Page/9927010233804340_103655658_107 107\n",
      "https://w3id.org/nls/i/Page/9927010233804340_103655658_315 315\n",
      "https://w3id.org/nls/i/Page/9927010233804340_103655658_377 377\n",
      "https://w3id.org/nls/i/Page/9927010233804340_103655658_122 122\n",
      "https://w3id.org/nls/i/Page/9927010233804340_103655658_276 276\n",
      "https://w3id.org/nls/i/Page/9927010233804340_103655658_89 89\n",
      "https://w3id.org/nls/i/Page/9927010233804340_103655658_271 271\n",
      "https://w3id.org/nls/i/Page/9927010233804340_103655658_103 103\n",
      "https://w3id.org/nls/i/Page/9927010233804340_103655658_154 154\n",
      "https://w3id.org/nls/i/Page/9927010233804340_103655658_202 202\n",
      "https://w3id.org/nls/i/Page/9927010233804340_103655658_86 86\n",
      "https://w3id.org/nls/i/Page/9927010233804340_103655658_217 217\n",
      "https://w3id.org/nls/i/Page/9927010233804340_103655658_108 108\n",
      "https://w3id.org/nls/i/Page/9927010233804340_103655658_152 152\n",
      "https://w3id.org/nls/i/Page/9927010233804340_103655658_157 157\n",
      "https://w3id.org/nls/i/Page/9927010233804340_103655658_196 196\n",
      "https://w3id.org/nls/i/Page/9927010233804340_103655658_181 181\n",
      "https://w3id.org/nls/i/Page/9927010233804340_103655658_167 167\n",
      "https://w3id.org/nls/i/Page/9927010233804340_103655658_279 279\n",
      "https://w3id.org/nls/i/Page/9927010233804340_103655658_71 71\n",
      "https://w3id.org/nls/i/Page/9927010233804340_103655658_177 177\n",
      "https://w3id.org/nls/i/Page/9927010233804340_103655658_301 301\n",
      "https://w3id.org/nls/i/Page/9927010233804340_103655658_131 131\n",
      "https://w3id.org/nls/i/Page/9927010233804340_103655658_126 126\n",
      "https://w3id.org/nls/i/Page/9927010233804340_103655658_81 81\n",
      "https://w3id.org/nls/i/Page/9927010233804340_103655658_323 323\n",
      "https://w3id.org/nls/i/Page/9927010233804340_103655658_145 145\n",
      "https://w3id.org/nls/i/Page/9927010233804340_103655658_199 199\n",
      "https://w3id.org/nls/i/Page/9927010233804340_103655658_298 298\n",
      "https://w3id.org/nls/i/Page/9927010233804340_103655658_228 228\n",
      "https://w3id.org/nls/i/Page/9927010233804340_103655658_55 55\n",
      "https://w3id.org/nls/i/Page/9927010233804340_103655658_294 294\n",
      "https://w3id.org/nls/i/Page/9927010233804340_103655658_331 331\n",
      "https://w3id.org/nls/i/Page/9927010233804340_103655658_378 378\n",
      "https://w3id.org/nls/i/Page/9927010233804340_103655658_41 41\n",
      "https://w3id.org/nls/i/Page/9927010233804340_103655658_98 98\n",
      "https://w3id.org/nls/i/Page/9927010233804340_103655658_94 94\n",
      "https://w3id.org/nls/i/Page/9927010233804340_103655658_319 319\n",
      "https://w3id.org/nls/i/Page/9927010233804340_103655658_359 359\n",
      "https://w3id.org/nls/i/Page/9927010233804340_103655658_353 353\n",
      "https://w3id.org/nls/i/Page/9927010233804340_103655658_224 224\n",
      "https://w3id.org/nls/i/Page/9927010233804340_103655658_63 63\n",
      "https://w3id.org/nls/i/Page/9927010233804340_103655658_1 1\n",
      "https://w3id.org/nls/i/Page/9927010233804340_103655658_37 37\n",
      "https://w3id.org/nls/i/Page/9927010233804340_103655658_357 357\n",
      "https://w3id.org/nls/i/Page/9927010233804340_103655658_344 344\n",
      "https://w3id.org/nls/i/Page/9927010233804340_103655658_136 136\n",
      "https://w3id.org/nls/i/Page/9927010233804340_103655658_229 229\n",
      "https://w3id.org/nls/i/Page/9927010233804340_103655658_77 77\n",
      "https://w3id.org/nls/i/Page/9927010233804340_103655658_232 232\n",
      "https://w3id.org/nls/i/Page/9927010233804340_103655658_302 302\n",
      "https://w3id.org/nls/i/Page/9927010233804340_103655658_243 243\n",
      "https://w3id.org/nls/i/Page/9927010233804340_103655658_47 47\n",
      "https://w3id.org/nls/i/Page/9927010233804340_103655658_373 373\n",
      "https://w3id.org/nls/i/Page/9927010233804340_103655658_369 369\n",
      "https://w3id.org/nls/i/Page/9927010233804340_103655658_129 129\n",
      "https://w3id.org/nls/i/Page/9927010233804340_103655658_62 62\n",
      "https://w3id.org/nls/i/Page/9927010233804340_103655658_31 31\n",
      "https://w3id.org/nls/i/Page/9927010233804340_103655658_10 10\n",
      "https://w3id.org/nls/i/Page/9927010233804340_103655658_143 143\n",
      "https://w3id.org/nls/i/Page/9927010233804340_103655658_241 241\n",
      "https://w3id.org/nls/i/Page/9927010233804340_103655658_49 49\n",
      "https://w3id.org/nls/i/Page/9927010233804340_103655658_121 121\n",
      "https://w3id.org/nls/i/Page/9927010233804340_103655658_102 102\n",
      "https://w3id.org/nls/i/Page/9927010233804340_103655658_165 165\n",
      "https://w3id.org/nls/i/Page/9927010233804340_103655658_12 12\n",
      "https://w3id.org/nls/i/Page/9927010233804340_103655658_214 214\n",
      "https://w3id.org/nls/i/Page/9927010233804340_103655658_128 128\n",
      "https://w3id.org/nls/i/Page/9927010233804340_103655658_16 16\n",
      "https://w3id.org/nls/i/Page/9927010233804340_103655658_64 64\n",
      "https://w3id.org/nls/i/Page/9927010233804340_103655658_83 83\n",
      "https://w3id.org/nls/i/Page/9927010233804340_103655658_247 247\n",
      "https://w3id.org/nls/i/Page/9927010233804340_103655658_185 185\n",
      "https://w3id.org/nls/i/Page/9927010233804340_103655658_220 220\n",
      "https://w3id.org/nls/i/Page/9927010233804340_103655658_269 269\n",
      "https://w3id.org/nls/i/Page/9927010233804340_103655658_25 25\n",
      "https://w3id.org/nls/i/Page/9927010233804340_103655658_370 370\n",
      "https://w3id.org/nls/i/Page/9927010233804340_103655658_18 18\n",
      "https://w3id.org/nls/i/Page/9927010233804340_103655658_2 2\n",
      "https://w3id.org/nls/i/Page/9927010233804340_103655658_317 317\n",
      "https://w3id.org/nls/i/Page/9927010233804340_103655658_156 156\n",
      "https://w3id.org/nls/i/Page/9927010233804340_103655658_236 236\n",
      "https://w3id.org/nls/i/Page/9927010233804340_103655658_127 127\n",
      "https://w3id.org/nls/i/Page/9927010233804340_103655658_341 341\n",
      "https://w3id.org/nls/i/Page/9927010233804340_103655658_346 346\n",
      "https://w3id.org/nls/i/Page/9927010233804340_103655658_172 172\n",
      "https://w3id.org/nls/i/Page/9927010233804340_103655658_45 45\n",
      "https://w3id.org/nls/i/Page/9927010233804340_103655658_256 256\n",
      "https://w3id.org/nls/i/Page/9927010233804340_103655658_239 239\n",
      "https://w3id.org/nls/i/Page/9927010233804340_103655658_40 40\n",
      "https://w3id.org/nls/i/Page/9927010233804340_103655658_384 384\n",
      "https://w3id.org/nls/i/Page/9927010233804340_103655658_261 261\n",
      "https://w3id.org/nls/i/Page/9927010233804340_103655658_105 105\n",
      "https://w3id.org/nls/i/Page/9927010233804340_103655658_194 194\n",
      "https://w3id.org/nls/i/Page/9927010233804340_103655658_68 68\n",
      "https://w3id.org/nls/i/Page/9927010233804340_103655658_211 211\n",
      "https://w3id.org/nls/i/Page/9927010233804340_103655658_50 50\n",
      "https://w3id.org/nls/i/Page/9927010233804340_103655658_270 270\n",
      "https://w3id.org/nls/i/Page/9927010233804340_103655658_186 186\n",
      "https://w3id.org/nls/i/Page/9927010233804340_103655658_233 233\n",
      "https://w3id.org/nls/i/Page/9927010233804340_103655658_242 242\n",
      "https://w3id.org/nls/i/Page/9927010233804340_103655658_255 255\n",
      "https://w3id.org/nls/i/Page/9927010233804340_103655658_190 190\n",
      "https://w3id.org/nls/i/Page/9927010233804340_103655658_53 53\n",
      "https://w3id.org/nls/i/Page/9927010233804340_103655658_218 218\n",
      "https://w3id.org/nls/i/Page/9927010233804340_103655658_17 17\n",
      "https://w3id.org/nls/i/Page/9927010233804340_103655658_119 119\n",
      "https://w3id.org/nls/i/Page/9927010233804340_103655658_345 345\n",
      "https://w3id.org/nls/i/Page/9927010233804340_103655658_13 13\n",
      "https://w3id.org/nls/i/Page/9927010233804340_103655658_144 144\n",
      "https://w3id.org/nls/i/Page/9927010233804340_103655658_148 148\n",
      "https://w3id.org/nls/i/Page/9927010233804340_103655658_284 284\n",
      "https://w3id.org/nls/i/Page/9927010233804340_103655658_309 309\n",
      "https://w3id.org/nls/i/Page/9927010233804340_103655658_326 326\n",
      "https://w3id.org/nls/i/Page/9927010233804340_103655658_402 402\n",
      "https://w3id.org/nls/i/Page/9927010233804340_103655658_195 195\n",
      "https://w3id.org/nls/i/Page/9927010233804340_103655658_339 339\n",
      "https://w3id.org/nls/i/Page/9927010233804340_103655658_396 396\n",
      "https://w3id.org/nls/i/Page/9927010233804340_103655658_304 304\n",
      "https://w3id.org/nls/i/Page/9927010233804340_103655658_367 367\n",
      "https://w3id.org/nls/i/Page/9927010233804340_103655658_166 166\n",
      "https://w3id.org/nls/i/Page/9927010233804340_103655658_27 27\n",
      "https://w3id.org/nls/i/Page/9927010233804340_103655658_299 299\n",
      "https://w3id.org/nls/i/Page/9927010233804340_103655658_36 36\n",
      "https://w3id.org/nls/i/Page/9927010233804340_103655658_310 310\n",
      "https://w3id.org/nls/i/Page/9927010233804340_103655658_87 87\n",
      "https://w3id.org/nls/i/Page/9927010233804340_103655658_262 262\n",
      "https://w3id.org/nls/i/Page/9927010233804340_103655658_113 113\n",
      "https://w3id.org/nls/i/Page/9927010233804340_103655658_340 340\n",
      "https://w3id.org/nls/i/Page/9927010233804340_103655658_179 179\n",
      "https://w3id.org/nls/i/Page/9927010233804340_103655658_264 264\n",
      "https://w3id.org/nls/i/Page/9927010233804340_103655658_360 360\n",
      "https://w3id.org/nls/i/Page/9927010233804340_103655658_376 376\n",
      "https://w3id.org/nls/i/Page/9927010233804340_103655658_300 300\n",
      "https://w3id.org/nls/i/Page/9927010233804340_103655658_238 238\n",
      "https://w3id.org/nls/i/Page/9927010233804340_103655658_97 97\n",
      "https://w3id.org/nls/i/Page/9927010233804340_103655658_93 93\n",
      "https://w3id.org/nls/i/Page/9927010233804340_103655658_336 336\n",
      "https://w3id.org/nls/i/Page/9927010233804340_103655658_313 313\n",
      "https://w3id.org/nls/i/Page/9927010233804340_103655658_72 72\n",
      "https://w3id.org/nls/i/Page/9927010233804340_103655658_374 374\n",
      "https://w3id.org/nls/i/Page/9927010233804340_103655658_265 265\n",
      "https://w3id.org/nls/i/Page/9927010233804340_103655658_354 354\n",
      "https://w3id.org/nls/i/Page/9927010233804340_103655658_114 114\n",
      "https://w3id.org/nls/i/Page/9927010233804340_103655658_163 163\n",
      "https://w3id.org/nls/i/Page/9927010233804340_103655658_391 391\n",
      "https://w3id.org/nls/i/Page/9927010233804340_103655658_286 286\n",
      "https://w3id.org/nls/i/Page/9927010233804340_103655658_112 112\n",
      "https://w3id.org/nls/i/Page/9927010233804340_103655658_382 382\n",
      "https://w3id.org/nls/i/Page/9927010233804340_103655658_278 278\n",
      "https://w3id.org/nls/i/Page/9927010233804340_103655658_332 332\n",
      "https://w3id.org/nls/i/Page/9927010233804340_103655658_363 363\n",
      "https://w3id.org/nls/i/Page/9927010233804340_103655658_149 149\n",
      "https://w3id.org/nls/i/Page/9927010233804340_103655658_135 135\n",
      "https://w3id.org/nls/i/Page/9927010233804340_103655658_44 44\n",
      "https://w3id.org/nls/i/Page/9927010233804340_103655658_109 109\n",
      "https://w3id.org/nls/i/Page/9927010233804340_103655658_398 398\n",
      "https://w3id.org/nls/i/Page/9927010233804340_103655658_74 74\n",
      "https://w3id.org/nls/i/Page/9927010233804340_103655658_293 293\n",
      "https://w3id.org/nls/i/Page/9927010233804340_103655658_358 358\n",
      "https://w3id.org/nls/i/Page/9927010233804340_103655658_226 226\n",
      "https://w3id.org/nls/i/Page/9927010233804340_103655658_142 142\n",
      "https://w3id.org/nls/i/Page/9927010233804340_103655658_327 327\n",
      "https://w3id.org/nls/i/Page/9927010233804340_103655658_399 399\n",
      "https://w3id.org/nls/i/Page/9927010233804340_103655658_342 342\n",
      "https://w3id.org/nls/i/Page/9927010233804340_103655658_213 213\n",
      "https://w3id.org/nls/i/Page/9927010233804340_103655658_204 204\n",
      "https://w3id.org/nls/i/Page/9927010233804340_103655658_101 101\n",
      "https://w3id.org/nls/i/Page/9927010233804340_103655658_251 251\n",
      "https://w3id.org/nls/i/Page/9927010233804340_103655658_385 385\n",
      "https://w3id.org/nls/i/Page/9927010233804340_103655658_153 153\n",
      "https://w3id.org/nls/i/Page/9927010233804340_103655658_197 197\n",
      "https://w3id.org/nls/i/Page/9927010233804340_103655658_24 24\n",
      "https://w3id.org/nls/i/Page/9927010233804340_103655658_334 334\n",
      "https://w3id.org/nls/i/Page/9927010233804340_103655658_277 277\n",
      "https://w3id.org/nls/i/Page/9927010233804340_103655658_134 134\n",
      "https://w3id.org/nls/i/Page/9927010233804340_103655658_178 178\n",
      "https://w3id.org/nls/i/Page/9927010233804340_103655658_320 320\n",
      "https://w3id.org/nls/i/Page/9927010233804340_103655658_259 259\n",
      "https://w3id.org/nls/i/Page/9927010233804340_103655658_234 234\n",
      "https://w3id.org/nls/i/Page/9927010233804340_103655658_21 21\n",
      "https://w3id.org/nls/i/Page/9927010233804340_103655658_57 57\n",
      "https://w3id.org/nls/i/Page/9927010233804340_103655658_169 169\n",
      "https://w3id.org/nls/i/Page/9927010233804340_103655658_372 372\n",
      "https://w3id.org/nls/i/Page/9927010233804340_103655658_141 141\n",
      "https://w3id.org/nls/i/Page/9927010233804340_103655658_260 260\n",
      "https://w3id.org/nls/i/Page/9927010233804340_103655658_184 184\n",
      "https://w3id.org/nls/i/Page/9927010233804340_103655658_333 333\n",
      "https://w3id.org/nls/i/Page/9927010233804340_103655658_205 205\n",
      "https://w3id.org/nls/i/Page/9927010233804340_103655658_78 78\n",
      "https://w3id.org/nls/i/Page/9927010233804340_103655658_48 48\n",
      "https://w3id.org/nls/i/Page/9927010233804340_103655658_246 246\n",
      "https://w3id.org/nls/i/Page/9927010233804340_103655658_274 274\n",
      "https://w3id.org/nls/i/Page/9927010233804340_103655658_76 76\n",
      "https://w3id.org/nls/i/Page/9927010233804340_103655658_7 7\n",
      "https://w3id.org/nls/i/Page/9927010233804340_103655658_401 401\n",
      "https://w3id.org/nls/i/Page/9927010233804340_103655658_3 3\n",
      "https://w3id.org/nls/i/Page/9927010233804340_103655658_69 69\n",
      "https://w3id.org/nls/i/Page/9927010233804340_103655658_140 140\n",
      "https://w3id.org/nls/i/Page/9927010233804340_103655658_335 335\n",
      "https://w3id.org/nls/i/Page/9927010233804340_103655658_227 227\n",
      "https://w3id.org/nls/i/Page/9927010233804340_103655658_187 187\n",
      "https://w3id.org/nls/i/Page/9927010233804340_103655658_200 200\n",
      "https://w3id.org/nls/i/Page/9927010233804340_103655658_208 208\n",
      "https://w3id.org/nls/i/Page/9927010233804340_103655658_282 282\n",
      "https://w3id.org/nls/i/Page/9927010233804340_103655658_84 84\n",
      "https://w3id.org/nls/i/Page/9927010233804340_103655658_106 106\n",
      "https://w3id.org/nls/i/Page/9927010233804340_103655658_381 381\n",
      "https://w3id.org/nls/i/Page/9927010233804340_103655658_43 43\n",
      "https://w3id.org/nls/i/Page/9927010233804340_103655658_245 245\n",
      "https://w3id.org/nls/i/Page/9927010233804340_103655658_115 115\n",
      "https://w3id.org/nls/i/Page/9927010233804340_103655658_60 60\n",
      "https://w3id.org/nls/i/Page/9927010233804340_103655658_268 268\n",
      "https://w3id.org/nls/i/Page/9927010233804340_103655658_56 56\n",
      "https://w3id.org/nls/i/Page/9927010233804340_103655658_188 188\n",
      "https://w3id.org/nls/i/Page/9927010233804340_103655658_100 100\n",
      "https://w3id.org/nls/i/Page/9927010233804340_103655658_368 368\n",
      "https://w3id.org/nls/i/Page/9927010233804340_103655658_308 308\n",
      "https://w3id.org/nls/i/Page/9927010233804340_103655658_389 389\n",
      "https://w3id.org/nls/i/Page/9927010233804340_103655658_318 318\n",
      "https://w3id.org/nls/i/Page/9927010233804340_103655658_39 39\n",
      "https://w3id.org/nls/i/Page/9927010233804340_103655658_355 355\n",
      "https://w3id.org/nls/i/Page/9927010233804340_103655658_348 348\n",
      "https://w3id.org/nls/i/Page/9927010233804340_103655658_201 201\n",
      "https://w3id.org/nls/i/Page/9927010233804340_103655658_52 52\n",
      "https://w3id.org/nls/i/Page/9927010233804340_103655658_162 162\n",
      "https://w3id.org/nls/i/Page/9927010233804340_103655658_343 343\n",
      "https://w3id.org/nls/i/Page/9927010233804340_103655658_287 287\n",
      "https://w3id.org/nls/i/Page/9927010233804340_103655658_191 191\n",
      "https://w3id.org/nls/i/Page/9927010233804340_103655658_75 75\n",
      "https://w3id.org/nls/i/Page/9927010233804340_103655658_171 171\n",
      "https://w3id.org/nls/i/Page/9927010233804340_103655658_254 254\n",
      "https://w3id.org/nls/i/Page/9927010233804340_103655658_30 30\n",
      "https://w3id.org/nls/i/Page/9927010233804340_103655658_111 111\n",
      "https://w3id.org/nls/i/Page/9927010233804340_103655658_209 209\n",
      "https://w3id.org/nls/i/Page/9927010233804340_103655658_283 283\n",
      "https://w3id.org/nls/i/Page/9927010233804340_103655658_290 290\n",
      "https://w3id.org/nls/i/Page/9927010233804340_103655658_221 221\n",
      "https://w3id.org/nls/i/Page/9927010233804340_103655658_364 364\n",
      "https://w3id.org/nls/i/Page/9927010233804340_103655658_312 312\n",
      "https://w3id.org/nls/i/Page/9927010233804340_103655658_118 118\n",
      "https://w3id.org/nls/i/Page/9927010233804340_103655658_147 147\n",
      "https://w3id.org/nls/i/Page/9927010233804340_103655658_375 375\n",
      "https://w3id.org/nls/i/Page/9927010233804340_103655658_6 6\n",
      "https://w3id.org/nls/i/Page/9927010233804340_103655658_249 249\n",
      "https://w3id.org/nls/i/Page/9927010233804340_103655658_120 120\n",
      "https://w3id.org/nls/i/Page/9927010233804340_103655658_263 263\n",
      "https://w3id.org/nls/i/Page/9927010233804340_103655658_361 361\n",
      "https://w3id.org/nls/i/Page/9927010233804340_103655658_125 125\n",
      "https://w3id.org/nls/i/Page/9927010233804340_103655658_192 192\n",
      "https://w3id.org/nls/i/Page/9927010233804340_103655658_15 15\n",
      "https://w3id.org/nls/i/Page/9927010233804340_103655658_90 90\n"
     ]
    }
   ],
   "source": [
    "sparql = SPARQLWrapper(\"http://localhost:3030/ladies_debating/sparql\")\n",
    "uri=\"<https://w3id.org/nls/i/Volume/9927010233804340_103655658>\"\n",
    "query=\"\"\"\n",
    "PREFIX nls: <https://w3id.org/nls#>\n",
    "SELECT ?v ?vnum ?part  WHERE {\n",
    "       %s nls:hasPart ?v .\n",
    "       ?v nls:number ?vnum ; \n",
    "          OPTIONAL {?v nls:part ?part; }\n",
    "     \n",
    "               \n",
    "} \n",
    "\"\"\" % (uri)\n",
    "sparql.setQuery(query)\n",
    "sparql.setReturnFormat(JSON)\n",
    "results = sparql.query().convert()\n",
    "r=results[\"results\"][\"bindings\"]\n",
    "for i in r:\n",
    "    if \"part\" in i:\n",
    "        print(i[\"v\"][\"value\"], i[\"vnum\"][\"value\"], i[\"part\"][\"value\"])\n",
    "    else:\n",
    "        print(i[\"v\"][\"value\"], i[\"vnum\"][\"value\"])"
   ]
  },
  {
   "cell_type": "markdown",
   "metadata": {},
   "source": [
    "Query 23: Giving the volume with the uri: <https://w3id.org/nls/i/Volume/9927010233804340_103655658>, this query obtaians: number, title, part, metsXML, volume Id, permanent URL, number of Pages"
   ]
  },
  {
   "cell_type": "code",
   "execution_count": 32,
   "metadata": {},
   "outputs": [
    {
     "name": "stdout",
     "output_type": "stream",
     "text": [
      "{'num': {'type': 'literal', 'datatype': 'http://www.w3.org/2001/XMLSchema#int', 'value': '1'}, 'title': {'type': 'literal', 'value': \"Ladies' Edinburgh magazine Volume 1\"}, 'metsXML': {'type': 'literal', 'value': '103655658-mets.xml'}, 'volumeId': {'type': 'literal', 'datatype': 'http://www.w3.org/2001/XMLSchema#int', 'value': '103655658'}, 'permanentURL': {'type': 'literal', 'value': 'https://digital.nls.uk/103655658'}, 'numberOfPages': {'type': 'literal', 'value': '402'}}\n"
     ]
    }
   ],
   "source": [
    "sparql = SPARQLWrapper(\"http://localhost:3030/ladies_debating/sparql\")\n",
    "uri=\"<https://w3id.org/nls/i/Volume/9927010233804340_103655658>\"\n",
    "query=\"\"\"\n",
    "PREFIX nls: <https://w3id.org/nls#>\n",
    "SELECT ?num ?title ?part ?metsXML ?volumeId ?permanentURL ?numberOfPages  WHERE {\n",
    "       %s nls:number ?num ;\n",
    "          nls:title ?title;\n",
    "          nls:metsXML ?metsXML;\n",
    "          nls:volumeId ?volumeId;\n",
    "          nls:permanentURL ?permanentURL;\n",
    "          nls:numberOfPages ?numberOfPages;\n",
    "       OPTIONAL {%s nls:part ?part. }\n",
    "      \n",
    "               \n",
    "}\n",
    "\"\"\" % (uri, uri)\n",
    "sparql.setQuery(query)\n",
    "sparql.setReturnFormat(JSON)\n",
    "results = sparql.query().convert()\n",
    "r=results[\"results\"][\"bindings\"]\n",
    "for i in r:\n",
    "    print(i)"
   ]
  },
  {
   "cell_type": "markdown",
   "metadata": {},
   "source": [
    "Query 23: Giving the volume with the uri: https://w3id.org/nls/i/Volume/9927010233804340_103655658, this query obtains the number of pages. \n"
   ]
  },
  {
   "cell_type": "code",
   "execution_count": 33,
   "metadata": {},
   "outputs": [
    {
     "data": {
      "text/plain": [
       "{'head': {'vars': ['count']},\n",
       " 'results': {'bindings': [{'count': {'type': 'literal',\n",
       "     'datatype': 'http://www.w3.org/2001/XMLSchema#integer',\n",
       "     'value': '402'}}]}}"
      ]
     },
     "execution_count": 33,
     "metadata": {},
     "output_type": "execute_result"
    }
   ],
   "source": [
    "sparql = SPARQLWrapper(\"http://localhost:3030/ladies_debating/sparql\")\n",
    "uri=\"<https://w3id.org/nls/i/Volume/9927010233804340_103655658>\"\n",
    "query=\"\"\"\n",
    "PREFIX nls: <https://w3id.org/nls#>\n",
    "SELECT (COUNT (DISTINCT ?p) as ?count)\n",
    "    WHERE {\n",
    "        %s nls:hasPart ?p .\n",
    "        ?p a nls:Page \n",
    "        \n",
    "} \n",
    "\"\"\" % (uri)\n",
    "      \n",
    "            \n",
    "sparql.setQuery(query)\n",
    "sparql.setReturnFormat(JSON)\n",
    "results = sparql.query().convert()\n",
    "results"
   ]
  },
  {
   "cell_type": "raw",
   "metadata": {},
   "source": [
    "Query 24: Giving the volume with the uri: https://w3id.org/nls/i/Volume/9927010233804340_103655658, this query obtains the number of alto XML files. "
   ]
  },
  {
   "cell_type": "code",
   "execution_count": 34,
   "metadata": {},
   "outputs": [
    {
     "data": {
      "text/plain": [
       "'402'"
      ]
     },
     "execution_count": 34,
     "metadata": {},
     "output_type": "execute_result"
    }
   ],
   "source": [
    "sparql = SPARQLWrapper(\"http://localhost:3030/ladies_debating/sparql\")\n",
    "uri=\"<https://w3id.org/nls/i/Volume/9927010233804340_103655658>\"\n",
    "query=\"\"\"\n",
    "    PREFIX nls: <https://w3id.org/nls#>\n",
    "       PREFIX rdfs: <http://www.w3.org/2000/01/rdf-schema#>\n",
    "       SELECT (count (DISTINCT ?a) as ?count)\n",
    "       WHERE {\n",
    "            %s nls:hasPart ?b .\n",
    "            ?b a nls:Page .\n",
    "            ?b nls:altoXML ?a.\n",
    "      }\n",
    "\n",
    "\n",
    "\"\"\" % (uri)\n",
    "            \n",
    "sparql.setQuery(query)\n",
    "sparql.setReturnFormat(JSON)\n",
    "results = sparql.query().convert()\n",
    "results = sparql.query().convert()\n",
    "results[\"results\"][\"bindings\"][0][\"count\"][\"value\"]"
   ]
  },
  {
   "cell_type": "markdown",
   "metadata": {},
   "source": [
    "Query 27: This query obtains the first 3 pages with the following properties:  uri, year, title, serie number, volume number, volume number, number of Pages, metsXML, number of page, text, number of Words, number of Pages"
   ]
  },
  {
   "cell_type": "code",
   "execution_count": 35,
   "metadata": {},
   "outputs": [
    {
     "name": "stdout",
     "output_type": "stream",
     "text": [
      "https://w3id.org/nls/i/Page/9938524913804340_103655655_373 1865 attempt. A literary magazine,1865 0 https://w3id.org/nls/i/Volume/9938524913804340_103655655 9 392 103655655-mets.xml 373 The Attempt. 363 It was Sunday morning,—a bright and breezy September day; and the fine old Carillion was ringing, Mary, Joseph, and George, as the bells were called, whose voices were known and loved far out at sea. How often had Raoul heard them in his mind, as now in truth. While avoiding the main thoroughfare, he sped up the narrow lanes, past flowery hedges and scattered cottages towards the massive grey church, which stood alone in a grassy valley, somewhat retired from the little town that lay between it and the sea. And, down the little turfy hill, he could see Gabrielle coming the straight way from the farm. Her freshest bloom seemed glowing in her cheeks again ; her dark velvet bodice, poin^ c V Alencon cap, and rich gold ornaments, were most becoming, as she hastened to him with a bright smile and outstretched hands. \" This morning I thought it was all a dream again,\" she said, \" the dream of your return I have awakened from so often; but it is true—true, and the sunshine of the old days has returned.\" •' And I grew nervous when you were out of my sight,\" said Raoul. \" Of cjurse this must not last, we must have a word with the cur6 before mass; as to the contract, it was all drawn out ten years ago, and only wants dating and signing. We are too busy to wait; I am a consulting surgeon, you know, and you have Leon de Frajou and little Gabriel to look after at once.\" An hour later they had left the church, and were walking arm in arm down the Grande Rue, which was thronged with people, all endlmanche, and most excited by the great news of the night before. So many congratulations and marvellous questions about the Siren were pressed upon the doctor, that he felt some explanation to be necessary, so he turned at the door of the Colonel's lodging, lifted his hat, and thanked the neighbours warmly; and then continued,—\" That I am here again I owe to Colonel de Frajou, who found out where I was and how I had been deceived. It is true that I was detained two years a prisoner in Algeria; but I should not, after that, have remained eight years in America, had I not had false information that Mademoiselle Gabrielle was married. She allows me, however, to say now that she soon will be ; and I have to ask pardon f ir taking her away. But I have no rancour against our Siren; she holds her cup of pure water to all comers ; is 445\n",
      "---\n",
      "https://w3id.org/nls/i/Page/9938524913804340_103655651_261 1865 attempt. A literary magazine,1865 0 https://w3id.org/nls/i/Volume/9938524913804340_103655651 5 304 103655651-mets.xml 261 THE ATTEMPT. 249 enamelled red, edged with gold, and bearing the letters I. H. S., over which was the Greek letter fl, the emblem of the Virgin Mary. 1618.—The Order of Mary the Glorious, instituted by Paul V. in order to suppress the Barbary Corsairs. He gave the order the town of Civita Vecchia, and the Convent and Palace of St John of Lateran. Lu TEA RESEDA. FAK in the Saxon south, I heard Stories of Highland hi Us and streams; And often, in my midnight dreams. My heart's deep fastnesses were stirred By pictured visions of some wild strath. Some awful gorge, or black ravine. Or whispering rivulet, dimly seen By banks of glorious purple heath. Or, deep in some still, solemn glen, A dark loch, lying lone and sad, Whose silent shores but seldom tread The busy feet of curious men. Or, crowned with cloud-wreaths, towering grand Above the pines that sway beneath, Some hill-peak, motionless as death, Standing a sentry o'er the land. All these, and more, were pictured grand In thought by day, in dreams by night; And fancy cast a halo bright O'er all that glorious northern land. But never, in my dreams most rare Of glen, or loch, or broomy brae, 2 H 207\n",
      "---\n",
      "https://w3id.org/nls/i/Page/9938524913804340_103655650_156 1865 attempt. A literary magazine,1865 0 https://w3id.org/nls/i/Volume/9938524913804340_103655650 4 306 103655650-mets.xml 156 142 THE ATTEMPT. Blackberry (li. Fruticosus), and Strawberry {Fragaria Vised), among edible fruits ; whilst of flowers, we have the Cinquefoils, the creeping one (^Potentilla lieptens), the Strawberry leaved (Folentilla Fragariastrum), bearing such a striking resemblance to the Wood Strawberry, that they are not unfrequently mistaken for each other during the period of blossom ; the fruits present a marked difference, that of the Strawberry consists of numerous small tints in a succulent or fleshy receptacle, whilst in the Potentilla, and their close allies the Tormentils and Avens, the seed is dry. Tlie prettiest of the Potentillas is the Silverweed (P. A7iserina), so called from the white silvery appearance of the underside of the leaves; the flowers are large, pale yellow, very fragrant, and lying so close to the ground that they are \" half hidden by the leaf of grey.\" We fear we shall not be successful in finding any specimens of the Spiridae or Meadow Sweet thus early in the summer; but surely we are all familiar with the graceful and fragrant Queen of the Meadow, which delights to fringe the banks of streams and ponds ; the stem attains the height of three or even four feet, the leaves are largo and downy on the under side, the whitish or rather cream-coloured flowers are small but very numerous on much branclied stalks. The scent of the Meadow Sweet is so exceedingly powerful, containing so much Prussic Acid, that we cannot advise any large quantity of it finding place in our bouquet; only in the open-air amid fresh country breezes is it safe to inhale its si-agrance I The small gi-een flowers without petals of the Lady's Mantle (Alchemilla), luxuriating on hilly pastures, the long yellow spikes of the Common Agrimony [Jgrimonia Eupatoria), on waste places, and the Salad Burnet (Foterium Sanguisorha), with its deeply cut leaves smelling strongly of cucumber, and heads of a dark i-od colour, all to be found during this and the succeeding month, fully represent the Sanguisorbese. Of the Rose, the true glory of the family, we need not speak ; all love and appreciate its richness, beauty, and fragrance, whether as revealed in-the opening bud, the fullblown flower, or the fading petals, for \" E'en when it dies, It bequeathes a charm to sweeten death.\" The two principal species of Wild Boses are the Dog Bose [R. Canvna), and the Eglantine or Sweet Briar [R. Rubiginosa.) We must now pass on to the considei-ation of the very important order which yet remains to be noticed,—the Leguininosse. In the woi-ds of Dr Lindley—•\" This order is not only one of the most extensive known, but is also one of the most important 451\n",
      "---\n"
     ]
    }
   ],
   "source": [
    "sparql = SPARQLWrapper(\"http://localhost:3030/ladies_debating/sparql\")\n",
    "sparql.setQuery(\"\"\"\n",
    "PREFIX nls: <https://w3id.org/nls#> \n",
    "SELECT ?uri ?year ?title ?snum ?vnum ?v ?part ?metsXML ?page ?text ?numberOfWords ?numberOfPages\n",
    "        WHERE {\n",
    "        ?uri a nls:Page .\n",
    "        ?uri nls:text ?text .\n",
    "        ?uri nls:number ?page .\n",
    "        ?uri nls:numberOfWords ?numberOfWords .\n",
    "        ?v nls:hasPart ?uri.\n",
    "        ?v nls:number ?vnum.\n",
    "        ?v nls:numberOfPages ?numberOfPages .\n",
    "        ?v nls:metsXML ?metsXML.\n",
    "        ?s nls:hasPart ?v.\n",
    "        ?s nls:publicationYear ?year.\n",
    "        ?s nls:number ?snum.\n",
    "        ?s nls:title ?title.\n",
    "        OPTIONAL {?v nls:part ?part; }\n",
    "\n",
    "        }   \n",
    "        LIMIT 3\n",
    "\n",
    "\"\"\")\n",
    "sparql.setReturnFormat(JSON)\n",
    "results = sparql.query().convert()\n",
    "r=results[\"results\"][\"bindings\"]\n",
    "for i in r:\n",
    "    print(i[\"uri\"][\"value\"], i[\"year\"][\"value\"], i[\"title\"][\"value\"], i[\"snum\"][\"value\"], \\\n",
    "          i[\"v\"][\"value\"], i[\"vnum\"][\"value\"],i[\"numberOfPages\"][\"value\"],\\\n",
    "          i[\"metsXML\"][\"value\"], i[\"page\"][\"value\"],i[\"text\"][\"value\"], i[\"numberOfWords\"][\"value\"]\n",
    "          \n",
    "          )\n",
    "    print(\"---\")\n"
   ]
  },
  {
   "cell_type": "code",
   "execution_count": null,
   "metadata": {},
   "outputs": [],
   "source": []
  }
 ],
 "metadata": {
  "kernelspec": {
   "display_name": "Python 3 (ipykernel)",
   "language": "python",
   "name": "python3"
  },
  "language_info": {
   "codemirror_mode": {
    "name": "ipython",
    "version": 3
   },
   "file_extension": ".py",
   "mimetype": "text/x-python",
   "name": "python",
   "nbconvert_exporter": "python",
   "pygments_lexer": "ipython3",
   "version": "3.9.7"
  }
 },
 "nbformat": 4,
 "nbformat_minor": 2
}
